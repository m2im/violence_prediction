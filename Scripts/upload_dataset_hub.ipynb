{
 "cells": [
  {
   "cell_type": "code",
   "execution_count": 1,
   "id": "4e17e4b9",
   "metadata": {},
   "outputs": [],
   "source": [
    "from datasets import load_from_disk\n",
    "from huggingface_hub import notebook_login"
   ]
  },
  {
   "cell_type": "markdown",
   "id": "708224f2",
   "metadata": {},
   "source": [
    "## Remove unnecessary columns"
   ]
  },
  {
   "cell_type": "code",
   "execution_count": 2,
   "id": "ae617d07",
   "metadata": {},
   "outputs": [],
   "source": [
    "# Load the dataset from disk\n",
    "ds = load_from_disk(\"/data3/mmendieta/Violence_data/geo_corpus.0.0.1_datasets\")"
   ]
  },
  {
   "cell_type": "code",
   "execution_count": 3,
   "id": "e9c328a0",
   "metadata": {},
   "outputs": [
    {
     "data": {
      "text/plain": [
       "DatasetDict({\n",
       "    train: Dataset({\n",
       "        features: ['tweetid', 'retweetid', 'date', 'timestamp', 'username', 'geo_x', 'geo_y', 'lang', 'text', 'key', 'post1geo10', 'post1geo20', 'post1geo30', 'post1geo50', 'post1geo70', 'post2geo10', 'post2geo20', 'post2geo30', 'post2geo50', 'post2geo70', 'post3geo10', 'post3geo20', 'post3geo30', 'post3geo50', 'post3geo70', 'post7geo10', 'post7geo20', 'post7geo30', 'post7geo50', 'post7geo70', 'pre1geo10', 'pre1geo20', 'pre1geo30', 'pre1geo50', 'pre1geo70', 'pre2geo10', 'pre2geo20', 'pre2geo30', 'pre2geo50', 'pre2geo70', 'pre3geo10', 'pre3geo20', 'pre3geo30', 'pre3geo50', 'pre3geo70', 'pre7geo10', 'pre7geo20', 'pre7geo30', 'pre7geo50', 'pre7geo70'],\n",
       "        num_rows: 16769932\n",
       "    })\n",
       "    validation: Dataset({\n",
       "        features: ['tweetid', 'retweetid', 'date', 'timestamp', 'username', 'geo_x', 'geo_y', 'lang', 'text', 'key', 'post1geo10', 'post1geo20', 'post1geo30', 'post1geo50', 'post1geo70', 'post2geo10', 'post2geo20', 'post2geo30', 'post2geo50', 'post2geo70', 'post3geo10', 'post3geo20', 'post3geo30', 'post3geo50', 'post3geo70', 'post7geo10', 'post7geo20', 'post7geo30', 'post7geo50', 'post7geo70', 'pre1geo10', 'pre1geo20', 'pre1geo30', 'pre1geo50', 'pre1geo70', 'pre2geo10', 'pre2geo20', 'pre2geo30', 'pre2geo50', 'pre2geo70', 'pre3geo10', 'pre3geo20', 'pre3geo30', 'pre3geo50', 'pre3geo70', 'pre7geo10', 'pre7geo20', 'pre7geo30', 'pre7geo50', 'pre7geo70'],\n",
       "        num_rows: 4192483\n",
       "    })\n",
       "    test: Dataset({\n",
       "        features: ['tweetid', 'retweetid', 'date', 'timestamp', 'username', 'geo_x', 'geo_y', 'lang', 'text', 'key', 'post1geo10', 'post1geo20', 'post1geo30', 'post1geo50', 'post1geo70', 'post2geo10', 'post2geo20', 'post2geo30', 'post2geo50', 'post2geo70', 'post3geo10', 'post3geo20', 'post3geo30', 'post3geo50', 'post3geo70', 'post7geo10', 'post7geo20', 'post7geo30', 'post7geo50', 'post7geo70', 'pre1geo10', 'pre1geo20', 'pre1geo30', 'pre1geo50', 'pre1geo70', 'pre2geo10', 'pre2geo20', 'pre2geo30', 'pre2geo50', 'pre2geo70', 'pre3geo10', 'pre3geo20', 'pre3geo30', 'pre3geo50', 'pre3geo70', 'pre7geo10', 'pre7geo20', 'pre7geo30', 'pre7geo50', 'pre7geo70'],\n",
       "        num_rows: 2329158\n",
       "    })\n",
       "})"
      ]
     },
     "execution_count": 3,
     "metadata": {},
     "output_type": "execute_result"
    }
   ],
   "source": [
    "ds"
   ]
  },
  {
   "cell_type": "code",
   "execution_count": 4,
   "id": "036e54fd",
   "metadata": {},
   "outputs": [],
   "source": [
    "columns_to_remove = ['retweetid', 'date', 'timestamp', 'username', 'geo_x', 'geo_y', 'text', 'key']"
   ]
  },
  {
   "cell_type": "code",
   "execution_count": 5,
   "id": "233a50ba",
   "metadata": {},
   "outputs": [],
   "source": [
    "# define a function to cast tweetid to string\n",
    "def cast_tweetid_to_string(example):\n",
    "    example[\"tweetid\"] = str(example[\"tweetid\"])\n",
    "    return example"
   ]
  },
  {
   "cell_type": "code",
   "execution_count": 7,
   "id": "432e764a",
   "metadata": {},
   "outputs": [
    {
     "data": {
      "application/vnd.jupyter.widget-view+json": {
       "model_id": "a136432df005427c910c3fea7d7635c4",
       "version_major": 2,
       "version_minor": 0
      },
      "text/plain": [
       "  0%|          | 0/16769932 [00:00<?, ?ex/s]"
      ]
     },
     "metadata": {},
     "output_type": "display_data"
    },
    {
     "data": {
      "application/vnd.jupyter.widget-view+json": {
       "model_id": "cf1ea260915e4621a3a00d59145dfb2e",
       "version_major": 2,
       "version_minor": 0
      },
      "text/plain": [
       "  0%|          | 0/4192483 [00:00<?, ?ex/s]"
      ]
     },
     "metadata": {},
     "output_type": "display_data"
    },
    {
     "data": {
      "application/vnd.jupyter.widget-view+json": {
       "model_id": "92bb6915ba574dc7980409c0c1e190bf",
       "version_major": 2,
       "version_minor": 0
      },
      "text/plain": [
       "  0%|          | 0/2329158 [00:00<?, ?ex/s]"
      ]
     },
     "metadata": {},
     "output_type": "display_data"
    }
   ],
   "source": [
    "ds = ds.map(cast_tweetid_to_string,\n",
    "            remove_columns=columns_to_remove)"
   ]
  },
  {
   "cell_type": "code",
   "execution_count": 8,
   "id": "c2ca1e58",
   "metadata": {},
   "outputs": [],
   "source": [
    "#  Save the dataset to disk\n",
    "ds.save_to_disk(\"/data3/mmendieta/Violence_data/geo_corpus.0.0.1_datasets_upload_hub\")"
   ]
  },
  {
   "cell_type": "markdown",
   "id": "259c35be",
   "metadata": {},
   "source": [
    "## Load the dataset from disk and upload it to the hub"
   ]
  },
  {
   "cell_type": "code",
   "execution_count": 9,
   "id": "23e3cd82",
   "metadata": {},
   "outputs": [],
   "source": [
    "ds_hub = load_from_disk(\"/data3/mmendieta/Violence_data/geo_corpus.0.0.1_datasets_upload_hub\")"
   ]
  },
  {
   "cell_type": "code",
   "execution_count": null,
   "id": "5cf5eebf",
   "metadata": {},
   "outputs": [],
   "source": [
    "ds_hub"
   ]
  },
  {
   "cell_type": "code",
   "execution_count": 11,
   "id": "b3e4266f",
   "metadata": {},
   "outputs": [
    {
     "data": {
      "text/plain": [
       "{'tweetid': Value(dtype='int64', id=None),\n",
       " 'lang': Value(dtype='string', id=None),\n",
       " 'post1geo10': Value(dtype='int64', id=None),\n",
       " 'post1geo20': Value(dtype='int64', id=None),\n",
       " 'post1geo30': Value(dtype='int64', id=None),\n",
       " 'post1geo50': Value(dtype='int64', id=None),\n",
       " 'post1geo70': Value(dtype='int64', id=None),\n",
       " 'post2geo10': Value(dtype='int64', id=None),\n",
       " 'post2geo20': Value(dtype='int64', id=None),\n",
       " 'post2geo30': Value(dtype='int64', id=None),\n",
       " 'post2geo50': Value(dtype='int64', id=None),\n",
       " 'post2geo70': Value(dtype='int64', id=None),\n",
       " 'post3geo10': Value(dtype='int64', id=None),\n",
       " 'post3geo20': Value(dtype='int64', id=None),\n",
       " 'post3geo30': Value(dtype='int64', id=None),\n",
       " 'post3geo50': Value(dtype='int64', id=None),\n",
       " 'post3geo70': Value(dtype='int64', id=None),\n",
       " 'post7geo10': Value(dtype='int64', id=None),\n",
       " 'post7geo20': Value(dtype='int64', id=None),\n",
       " 'post7geo30': Value(dtype='int64', id=None),\n",
       " 'post7geo50': Value(dtype='int64', id=None),\n",
       " 'post7geo70': Value(dtype='int64', id=None),\n",
       " 'pre1geo10': Value(dtype='int64', id=None),\n",
       " 'pre1geo20': Value(dtype='int64', id=None),\n",
       " 'pre1geo30': Value(dtype='int64', id=None),\n",
       " 'pre1geo50': Value(dtype='int64', id=None),\n",
       " 'pre1geo70': Value(dtype='int64', id=None),\n",
       " 'pre2geo10': Value(dtype='int64', id=None),\n",
       " 'pre2geo20': Value(dtype='int64', id=None),\n",
       " 'pre2geo30': Value(dtype='int64', id=None),\n",
       " 'pre2geo50': Value(dtype='int64', id=None),\n",
       " 'pre2geo70': Value(dtype='int64', id=None),\n",
       " 'pre3geo10': Value(dtype='int64', id=None),\n",
       " 'pre3geo20': Value(dtype='int64', id=None),\n",
       " 'pre3geo30': Value(dtype='int64', id=None),\n",
       " 'pre3geo50': Value(dtype='int64', id=None),\n",
       " 'pre3geo70': Value(dtype='int64', id=None),\n",
       " 'pre7geo10': Value(dtype='int64', id=None),\n",
       " 'pre7geo20': Value(dtype='int64', id=None),\n",
       " 'pre7geo30': Value(dtype='int64', id=None),\n",
       " 'pre7geo50': Value(dtype='int64', id=None),\n",
       " 'pre7geo70': Value(dtype='int64', id=None)}"
      ]
     },
     "execution_count": 11,
     "metadata": {},
     "output_type": "execute_result"
    }
   ],
   "source": [
    "# Peek at one sample\n",
    "ds_hub[\"train\"].features"
   ]
  },
  {
   "cell_type": "code",
   "execution_count": 12,
   "id": "aac82d6e",
   "metadata": {},
   "outputs": [
    {
     "data": {
      "application/vnd.jupyter.widget-view+json": {
       "model_id": "c4611c8f5c364602abd92475dbad96b9",
       "version_major": 2,
       "version_minor": 0
      },
      "text/plain": [
       "  0%|          | 0/16769932 [00:00<?, ?ex/s]"
      ]
     },
     "metadata": {},
     "output_type": "display_data"
    },
    {
     "data": {
      "application/vnd.jupyter.widget-view+json": {
       "model_id": "9a871915fc684a1996bcd5623768b6b0",
       "version_major": 2,
       "version_minor": 0
      },
      "text/plain": [
       "  0%|          | 0/4192483 [00:00<?, ?ex/s]"
      ]
     },
     "metadata": {},
     "output_type": "display_data"
    },
    {
     "data": {
      "application/vnd.jupyter.widget-view+json": {
       "model_id": "a44f0bdf301c4b29861788350b5d1485",
       "version_major": 2,
       "version_minor": 0
      },
      "text/plain": [
       "  0%|          | 0/2329158 [00:00<?, ?ex/s]"
      ]
     },
     "metadata": {},
     "output_type": "display_data"
    }
   ],
   "source": [
    "ds_hub = ds_hub.map(cast_tweetid_to_string)"
   ]
  },
  {
   "cell_type": "code",
   "execution_count": 13,
   "id": "18c0becd",
   "metadata": {},
   "outputs": [
    {
     "data": {
      "text/plain": [
       "{'tweetid': Value(dtype='int64', id=None),\n",
       " 'lang': Value(dtype='string', id=None),\n",
       " 'post1geo10': Value(dtype='int64', id=None),\n",
       " 'post1geo20': Value(dtype='int64', id=None),\n",
       " 'post1geo30': Value(dtype='int64', id=None),\n",
       " 'post1geo50': Value(dtype='int64', id=None),\n",
       " 'post1geo70': Value(dtype='int64', id=None),\n",
       " 'post2geo10': Value(dtype='int64', id=None),\n",
       " 'post2geo20': Value(dtype='int64', id=None),\n",
       " 'post2geo30': Value(dtype='int64', id=None),\n",
       " 'post2geo50': Value(dtype='int64', id=None),\n",
       " 'post2geo70': Value(dtype='int64', id=None),\n",
       " 'post3geo10': Value(dtype='int64', id=None),\n",
       " 'post3geo20': Value(dtype='int64', id=None),\n",
       " 'post3geo30': Value(dtype='int64', id=None),\n",
       " 'post3geo50': Value(dtype='int64', id=None),\n",
       " 'post3geo70': Value(dtype='int64', id=None),\n",
       " 'post7geo10': Value(dtype='int64', id=None),\n",
       " 'post7geo20': Value(dtype='int64', id=None),\n",
       " 'post7geo30': Value(dtype='int64', id=None),\n",
       " 'post7geo50': Value(dtype='int64', id=None),\n",
       " 'post7geo70': Value(dtype='int64', id=None),\n",
       " 'pre1geo10': Value(dtype='int64', id=None),\n",
       " 'pre1geo20': Value(dtype='int64', id=None),\n",
       " 'pre1geo30': Value(dtype='int64', id=None),\n",
       " 'pre1geo50': Value(dtype='int64', id=None),\n",
       " 'pre1geo70': Value(dtype='int64', id=None),\n",
       " 'pre2geo10': Value(dtype='int64', id=None),\n",
       " 'pre2geo20': Value(dtype='int64', id=None),\n",
       " 'pre2geo30': Value(dtype='int64', id=None),\n",
       " 'pre2geo50': Value(dtype='int64', id=None),\n",
       " 'pre2geo70': Value(dtype='int64', id=None),\n",
       " 'pre3geo10': Value(dtype='int64', id=None),\n",
       " 'pre3geo20': Value(dtype='int64', id=None),\n",
       " 'pre3geo30': Value(dtype='int64', id=None),\n",
       " 'pre3geo50': Value(dtype='int64', id=None),\n",
       " 'pre3geo70': Value(dtype='int64', id=None),\n",
       " 'pre7geo10': Value(dtype='int64', id=None),\n",
       " 'pre7geo20': Value(dtype='int64', id=None),\n",
       " 'pre7geo30': Value(dtype='int64', id=None),\n",
       " 'pre7geo50': Value(dtype='int64', id=None),\n",
       " 'pre7geo70': Value(dtype='int64', id=None)}"
      ]
     },
     "execution_count": 13,
     "metadata": {},
     "output_type": "execute_result"
    }
   ],
   "source": [
    "ds_hub[\"train\"].features"
   ]
  },
  {
   "cell_type": "code",
   "execution_count": 16,
   "id": "c1b47ff0",
   "metadata": {},
   "outputs": [
    {
     "name": "stdout",
     "output_type": "stream",
     "text": [
      "Login successful\n",
      "Your token has been saved to /home/mmendieta/.huggingface/token\n"
     ]
    }
   ],
   "source": [
    "# Authenticate with Hugging Face\n",
    "notebook_login()"
   ]
  },
  {
   "cell_type": "code",
   "execution_count": 17,
   "id": "bbbc7ed7",
   "metadata": {},
   "outputs": [
    {
     "name": "stderr",
     "output_type": "stream",
     "text": [
      "Pushing split train to the Hub.\n"
     ]
    },
    {
     "data": {
      "application/vnd.jupyter.widget-view+json": {
       "model_id": "55fdd9195f754e49b92642a9dd3ea9c2",
       "version_major": 2,
       "version_minor": 0
      },
      "text/plain": [
       "Pushing dataset shards to the dataset hub:   0%|          | 0/12 [00:00<?, ?it/s]"
      ]
     },
     "metadata": {},
     "output_type": "display_data"
    },
    {
     "name": "stderr",
     "output_type": "stream",
     "text": [
      "Pushing split validation to the Hub.\n"
     ]
    },
    {
     "data": {
      "application/vnd.jupyter.widget-view+json": {
       "model_id": "67fce2f400834b818c2a7b754255b6b3",
       "version_major": 2,
       "version_minor": 0
      },
      "text/plain": [
       "Pushing dataset shards to the dataset hub:   0%|          | 0/3 [00:00<?, ?it/s]"
      ]
     },
     "metadata": {},
     "output_type": "display_data"
    },
    {
     "name": "stderr",
     "output_type": "stream",
     "text": [
      "Pushing split test to the Hub.\n"
     ]
    },
    {
     "data": {
      "application/vnd.jupyter.widget-view+json": {
       "model_id": "9fc186756f2a4fdb886731f28a585412",
       "version_major": 2,
       "version_minor": 0
      },
      "text/plain": [
       "Pushing dataset shards to the dataset hub:   0%|          | 0/2 [00:00<?, ?it/s]"
      ]
     },
     "metadata": {},
     "output_type": "display_data"
    }
   ],
   "source": [
    "ds_hub.push_to_hub(\"m2im/multilingual-twitter-collective-violence-dataset\")"
   ]
  },
  {
   "cell_type": "code",
   "execution_count": 18,
   "id": "c1af8a59",
   "metadata": {},
   "outputs": [],
   "source": [
    "ds_hub.save_to_disk(\"/data3/mmendieta/Violence_data/geo_corpus.0.0.1_datasets_upload_hub\")"
   ]
  },
  {
   "cell_type": "code",
   "execution_count": null,
   "id": "48d0ead5",
   "metadata": {},
   "outputs": [],
   "source": []
  }
 ],
 "metadata": {
  "kernelspec": {
   "display_name": "Python 3 (ipykernel)",
   "language": "python",
   "name": "python3"
  },
  "language_info": {
   "codemirror_mode": {
    "name": "ipython",
    "version": 3
   },
   "file_extension": ".py",
   "mimetype": "text/x-python",
   "name": "python",
   "nbconvert_exporter": "python",
   "pygments_lexer": "ipython3",
   "version": "3.8.3"
  }
 },
 "nbformat": 4,
 "nbformat_minor": 5
}
