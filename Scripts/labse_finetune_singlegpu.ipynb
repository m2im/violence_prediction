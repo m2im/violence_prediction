{
 "cells": [
  {
   "cell_type": "code",
   "execution_count": null,
   "id": "cd37177e",
   "metadata": {},
   "outputs": [],
   "source": [
    "import torch\n",
    "import transformers\n",
    "import pandas as pd\n",
    "import numpy as np\n",
    "import wandb\n",
    "import evaluate\n",
    "from argparse import Namespace\n",
    "from tqdm.auto import tqdm\n",
    "from datasets import load_from_disk\n",
    "from transformers import BertTokenizerFast, BertForSequenceClassification\n",
    "from transformers import DataCollatorWithPadding, get_scheduler, AdamW\n",
    "from torch.nn.functional import cross_entropy\n",
    "from torch.utils.data import DataLoader"
   ]
  },
  {
   "cell_type": "markdown",
   "id": "7bde326d",
   "metadata": {},
   "source": [
    "### Load the dataset"
   ]
  },
  {
   "cell_type": "code",
   "execution_count": null,
   "id": "3784afe8",
   "metadata": {},
   "outputs": [],
   "source": [
    "ds = load_from_disk(\"../../Violence_data/geo_corpus.0.0.1_dataset_for_train\")"
   ]
  },
  {
   "cell_type": "code",
   "execution_count": null,
   "id": "70542244",
   "metadata": {},
   "outputs": [],
   "source": [
    "ds"
   ]
  },
  {
   "cell_type": "code",
   "execution_count": null,
   "id": "cd30272c",
   "metadata": {},
   "outputs": [],
   "source": [
    "ds[\"train\"][0]"
   ]
  },
  {
   "cell_type": "markdown",
   "id": "5847fbcf",
   "metadata": {},
   "source": [
    "# Full training with native Pytorch and DataLoader\n",
    "\n",
    "This code was inspired from the Transformers course available in Huggingface (Chapter 3: A full training)"
   ]
  },
  {
   "cell_type": "markdown",
   "id": "99003e4a",
   "metadata": {},
   "source": [
    "### Setup the hyperparameters and other variables for training and wrap them in a *Namespace* for easy access"
   ]
  },
  {
   "cell_type": "code",
   "execution_count": null,
   "id": "77f2d937",
   "metadata": {},
   "outputs": [],
   "source": [
    "config = {\n",
    "    \"model_ckpt\": \"setu4993/smaller-LaBSE\",\n",
    "    \"batch_size\": 1024,\n",
    "    \"num_labels\" : 6,\n",
    "    \"init_lr\": 5e-5,\n",
    "    \"num_epochs\": 3,\n",
    "    \"num_warmup_steps\": 0,\n",
    "    \"cuda_device\": \"cuda:12\",\n",
    "    \"lr_scheduler_type\": \"cosine\", # linear\n",
    "    \"weight_decay\": 0.1,\n",
    "    \"max_length\": 32,\n",
    "    \"seed\": 42\n",
    "}\n",
    "\n",
    "args = Namespace(**config)"
   ]
  },
  {
   "cell_type": "markdown",
   "id": "0d98962d",
   "metadata": {},
   "source": [
    "### From text to tokens"
   ]
  },
  {
   "cell_type": "code",
   "execution_count": null,
   "id": "39c57ead",
   "metadata": {},
   "outputs": [],
   "source": [
    "# Instantiate the tokenizer\n",
    "model_ckpt = args.model_ckpt\n",
    "tokenizer = BertTokenizerFast.from_pretrained(model_ckpt, \n",
    "                                              model_max_length=args.max_length)"
   ]
  },
  {
   "cell_type": "markdown",
   "id": "a6a1d69a",
   "metadata": {},
   "source": [
    "### Tokenizing the whole dataset"
   ]
  },
  {
   "cell_type": "code",
   "execution_count": null,
   "id": "3643863d",
   "metadata": {},
   "outputs": [],
   "source": [
    "def tokenize(batch):\n",
    "    return tokenizer(batch[\"text\"], truncation=True)"
   ]
  },
  {
   "cell_type": "code",
   "execution_count": null,
   "id": "5b7bbfe6",
   "metadata": {},
   "outputs": [],
   "source": [
    "%time tokenized_ds = ds.map(tokenize, batched=True)"
   ]
  },
  {
   "cell_type": "code",
   "execution_count": null,
   "id": "0fc4cf57",
   "metadata": {},
   "outputs": [],
   "source": [
    "data_collator = DataCollatorWithPadding(tokenizer=tokenizer)"
   ]
  },
  {
   "cell_type": "markdown",
   "id": "87f90197",
   "metadata": {},
   "source": [
    "### Prepare for training"
   ]
  },
  {
   "cell_type": "code",
   "execution_count": null,
   "id": "a2755e0b",
   "metadata": {},
   "outputs": [],
   "source": [
    "tokenized_ds"
   ]
  },
  {
   "cell_type": "code",
   "execution_count": null,
   "id": "93952bce",
   "metadata": {},
   "outputs": [],
   "source": [
    "# Remove column (text) and leave the columns the model expect for training\n",
    "tokenized_ds = tokenized_ds.remove_columns('text')\n",
    "tokenized_ds.set_format(\"torch\")\n",
    "tokenized_ds[\"train\"].column_names"
   ]
  },
  {
   "cell_type": "code",
   "execution_count": null,
   "id": "95880e90",
   "metadata": {},
   "outputs": [],
   "source": [
    "tokenized_ds[\"train\"][0]"
   ]
  },
  {
   "cell_type": "code",
   "execution_count": null,
   "id": "12c9290e",
   "metadata": {},
   "outputs": [],
   "source": [
    "tokenized_ds[\"train\"].features"
   ]
  },
  {
   "cell_type": "markdown",
   "id": "bd0a370c",
   "metadata": {},
   "source": [
    "### Define the dataloaders"
   ]
  },
  {
   "cell_type": "code",
   "execution_count": null,
   "id": "622d0d69",
   "metadata": {},
   "outputs": [],
   "source": [
    "# Select a subsample for testing purposes\n",
    "train_tokenized_ds = tokenized_ds[\"train\"].select(range(20000))\n",
    "validation_tokenized_ds = tokenized_ds[\"validation\"].select(range(5000))"
   ]
  },
  {
   "cell_type": "code",
   "execution_count": null,
   "id": "e296ff80",
   "metadata": {},
   "outputs": [],
   "source": [
    "#train_dataloader = DataLoader(tokenized_ds[\"train\"], shuffle=True, \n",
    "#                               batch_size=args.batch_size, collate_fn=data_collator)\n",
    "# eval_dataloader = DataLoader(tokenized_ds[\"validation\"],\n",
    "#                             batch_size=args.batch_size, collate_fn=data_collator)\n",
    "train_dataloader = DataLoader(train_tokenized_ds, shuffle=True, \n",
    "                              batch_size=args.batch_size, collate_fn=data_collator)\n",
    "eval_dataloader = DataLoader(validation_tokenized_ds,\n",
    "                            batch_size=args.batch_size, collate_fn=data_collator)"
   ]
  },
  {
   "cell_type": "code",
   "execution_count": null,
   "id": "035afb7f",
   "metadata": {},
   "outputs": [],
   "source": [
    "# Inspect a batch to check if there are no mistakes\n",
    "for batch in train_dataloader:\n",
    "    break\n",
    "{k: v.shape for k, v in batch.items()}"
   ]
  },
  {
   "cell_type": "markdown",
   "id": "da0a0b8a",
   "metadata": {},
   "source": [
    "### Define some helper functions"
   ]
  },
  {
   "cell_type": "code",
   "execution_count": null,
   "id": "cc55afb8",
   "metadata": {},
   "outputs": [],
   "source": [
    "# Differentiate the parameters that should receive weight decay (Biases and LayerNorm weights\n",
    "# are not subject to weight decay)\n",
    "def get_grouped_params(model, no_decay=[\"bias\", \"LayerNorm.weight\"]):\n",
    "    params_with_wd, params_without_wd = [], []\n",
    "    for n, p in model.named_parameters():\n",
    "        if any(nd in n for nd in no_decay):\n",
    "            params_without_wd.append(p)\n",
    "        else:\n",
    "            params_with_wd.append(p)\n",
    "    return [{'params': params_with_wd, 'weight_decay': args.weight_decay},\n",
    "           {'params': params_without_wd, 'weight_decay': 0.0}]\n",
    "                "
   ]
  },
  {
   "cell_type": "markdown",
   "id": "f605f189",
   "metadata": {},
   "source": [
    "### Instantiate the model, define optimizer and learning rate scheduler"
   ]
  },
  {
   "cell_type": "code",
   "execution_count": null,
   "id": "cd0ffca0",
   "metadata": {},
   "outputs": [],
   "source": [
    "id2label = {0: 'post7geo10', 1: 'post7geo30', 2: 'post7geo50',\n",
    "           3: 'pre7geo10', 4: 'pre7geo30', 5: 'pre7geo50'}\n",
    "label2id = {'post7geo10': 0, 'post7geo30': 1, 'post7geo50': 2,\n",
    "            'pre7geo10': 3, 'pre7geo30': 4, 'pre7geo50': 5}"
   ]
  },
  {
   "cell_type": "code",
   "execution_count": null,
   "id": "8c0c6786",
   "metadata": {},
   "outputs": [],
   "source": [
    "# Instantiate the model\n",
    "model = BertForSequenceClassification.from_pretrained(args.model_ckpt, \n",
    "                                                      num_labels = args.num_labels,\n",
    "                                                     problem_type = \"multi_label_classification\",\n",
    "                                                     id2label = id2label,\n",
    "                                                     label2id = label2id)"
   ]
  },
  {
   "cell_type": "code",
   "execution_count": null,
   "id": "b57b2a8b",
   "metadata": {},
   "outputs": [],
   "source": [
    "# A test to make sure we have everything working properly when we pass our batch to this model\n",
    "outputs = model(**batch)\n",
    "print(outputs.loss, outputs.logits.shape)"
   ]
  },
  {
   "cell_type": "code",
   "execution_count": null,
   "id": "da32f41e",
   "metadata": {},
   "outputs": [],
   "source": [
    "# Define optimizer\n",
    "optimizer = AdamW(get_grouped_params(model), lr=args.init_lr)"
   ]
  },
  {
   "cell_type": "code",
   "execution_count": null,
   "id": "1df347f3",
   "metadata": {},
   "outputs": [],
   "source": [
    "# Define the learning rate scheduler\n",
    "num_epochs = args.num_epochs\n",
    "num_training_steps = num_epochs * len(train_dataloader)\n",
    "lr_scheduler = get_scheduler(\n",
    "    name = args.lr_scheduler_type,\n",
    "    optimizer = optimizer,\n",
    "    num_warmup_steps = args.num_warmup_steps,\n",
    "    num_training_steps = num_training_steps\n",
    ")\n",
    "print(num_training_steps)"
   ]
  },
  {
   "cell_type": "code",
   "execution_count": null,
   "id": "c5a06bfd",
   "metadata": {},
   "outputs": [],
   "source": [
    "def get_lr():\n",
    "    return optimizer.param_groups[0]['lr']"
   ]
  },
  {
   "cell_type": "markdown",
   "id": "1ad16c92",
   "metadata": {},
   "source": [
    "### The training loop"
   ]
  },
  {
   "cell_type": "code",
   "execution_count": null,
   "id": "0efb72d5",
   "metadata": {},
   "outputs": [],
   "source": [
    "device = torch.device(args.cuda_device) if torch.cuda.is_available() else torch.device(\"cpu\")\n",
    "model.to(device)"
   ]
  },
  {
   "cell_type": "code",
   "execution_count": null,
   "id": "9c497799",
   "metadata": {},
   "outputs": [],
   "source": [
    "progress_bar = tqdm(range(num_training_steps))\n",
    "\n",
    "model.train()\n",
    "for epoch in range(num_epochs):\n",
    "    for batch in train_dataloader:\n",
    "        batch = {k: v.to(device) for k, v in batch.items()}\n",
    "        outputs = model(**batch)\n",
    "        loss = outputs.loss\n",
    "        loss.backward()\n",
    "        \n",
    "        optimizer.step()\n",
    "        lr_scheduler.step()\n",
    "        optimizer.zero_grad()\n",
    "        progress_bar.update(1)"
   ]
  },
  {
   "cell_type": "markdown",
   "id": "ac365795",
   "metadata": {},
   "source": [
    "### Evaluation Loop"
   ]
  },
  {
   "cell_type": "code",
   "execution_count": null,
   "id": "db1a74fd",
   "metadata": {},
   "outputs": [],
   "source": [
    "progress_bar = tqdm(range(len(eval_dataloader)))\n",
    "\n",
    "accuracy_metric = evaluate.load(\"accuracy\")\n",
    "roc_auc_metric = evaluate.load(\"roc_auc\", \"multilabel\")\n",
    "precision_micro_metric = evaluate.load(\"precision\")\n",
    "precision_weighted_metric = evaluate.load(\"precision\")\n",
    "recall_micro_metric = evaluate.load(\"recall\")\n",
    "recall_weighted_metric = evaluate.load(\"recall\")\n",
    "f1_micro_metric = evaluate.load(\"f1\")\n",
    "f1_weighted_metric = evaluate.load(\"f1\")\n",
    "\n",
    "model.eval()\n",
    "for batch in eval_dataloader:\n",
    "    batch = {k: v.to(device) for k, v in batch.items()}\n",
    "    with torch.no_grad():\n",
    "        outputs = model(**batch)\n",
    "    logits = outputs.logits\n",
    "    pred_prob = torch.sigmoid(outputs.logits)\n",
    "    preds = (pred_prob > 0.5)*1\n",
    "        \n",
    "    for references, predictions in zip (batch[\"labels\"], preds):\n",
    "        accuracy_metric.add_batch(predictions=predictions, \n",
    "                              references=references)\n",
    "        roc_auc_metric.add_batch(prediction_scores=preds, \n",
    "                              references=batch[\"labels\"])\n",
    "        precision_micro_metric.add_batch(predictions=predictions, \n",
    "                              references=references)\n",
    "        precision_weighted_metric.add_batch(predictions=predictions, \n",
    "                              references=references)\n",
    "        recall_micro_metric.add_batch(predictions=predictions, \n",
    "                              references=references)\n",
    "        recall_weighted_metric.add_batch(predictions=predictions, \n",
    "                              references=references)\n",
    "        f1_micro_metric.add_batch(predictions=predictions, \n",
    "                              references=references)\n",
    "        f1_weighted_metric.add_batch(predictions=predictions, \n",
    "                              references=references)\n",
    "    progress_bar.update(1)\n",
    "    \n",
    "accuracy_res = accuracy_metric.compute()\n",
    "%time roc_auc_res = roc_auc_metric.compute(average=\"micro\")\n",
    "precision_micro_res = precision_micro_metric.compute(average=\"micro\")\n",
    "precision_weighted_res = precision_weighted_metric.compute(average=\"weighted\")\n",
    "recall_micro_res = recall_micro_metric.compute(average=\"micro\")\n",
    "recall_weighted_res = recall_weighted_metric.compute(average=\"weighted\")\n",
    "f1_micro_res = f1_micro_metric.compute(average=\"micro\")\n",
    "f1_weighted_res = f1_weighted_metric.compute(average=\"weighted\")"
   ]
  },
  {
   "cell_type": "code",
   "execution_count": null,
   "id": "25086df8",
   "metadata": {},
   "outputs": [],
   "source": [
    "print(\"Accuracy: \", accuracy_res)\n",
    "print(\"roc_auc: \", roc_auc_res)\n",
    "print(\"Precision_micro: \", precision_micro_res)\n",
    "print(\"Precision_weighted: \", precision_weighted_res)\n",
    "print(\"Recall_micro: \", recall_micro_res)\n",
    "print(\"Recall_weighted: \", recall_weighted_res)\n",
    "print(\"F1_micro: \", f1_micro_res)\n",
    "print(\"F1_weighted: \", f1_weighted_res)"
   ]
  },
  {
   "cell_type": "code",
   "execution_count": null,
   "id": "4827c753",
   "metadata": {},
   "outputs": [],
   "source": []
  }
 ],
 "metadata": {
  "kernelspec": {
   "display_name": "Python 3 (ipykernel)",
   "language": "python",
   "name": "python3"
  },
  "language_info": {
   "codemirror_mode": {
    "name": "ipython",
    "version": 3
   },
   "file_extension": ".py",
   "mimetype": "text/x-python",
   "name": "python",
   "nbconvert_exporter": "python",
   "pygments_lexer": "ipython3",
   "version": "3.8.3"
  }
 },
 "nbformat": 4,
 "nbformat_minor": 5
}
