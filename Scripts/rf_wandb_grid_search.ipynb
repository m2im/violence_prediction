{
 "cells": [
  {
   "cell_type": "code",
   "execution_count": 1,
   "id": "c4337aad",
   "metadata": {},
   "outputs": [],
   "source": [
    "import torch\n",
    "import pandas as pd\n",
    "import matplotlib.pyplot as plt\n",
    "import numpy as np\n",
    "import wandb\n",
    "from datasets import load_from_disk\n",
    "from sklearn.preprocessing import StandardScaler\n",
    "from sklearn.ensemble import RandomForestClassifier\n",
    "from sklearn.multiclass import OneVsRestClassifier\n",
    "from sklearn.metrics import accuracy_score, precision_score, recall_score, f1_score\n",
    "from sklearn.metrics import roc_auc_score, confusion_matrix, multilabel_confusion_matrix, ConfusionMatrixDisplay\n",
    "from sklearn.metrics import classification_report, plot_roc_curve\n",
    "from sklearn.model_selection import ParameterGrid\n",
    "from sklearn.multioutput import MultiOutputClassifier\n",
    "from argparse import Namespace"
   ]
  },
  {
   "cell_type": "code",
   "execution_count": 2,
   "id": "42b85bdd",
   "metadata": {},
   "outputs": [],
   "source": [
    "config = {\n",
    "    \"train_subset\": 1500,\n",
    "    \"valid_subset\": 400,\n",
    "    \"test_subset\" : 200,\n",
    "    \"seed\": 42,\n",
    "    \"wandb_project_name\": \"rf_grid_search\",\n",
    "    \"n_jobs\": -1,  \n",
    "}\n",
    "\n",
    "args = Namespace(**config)"
   ]
  },
  {
   "cell_type": "markdown",
   "id": "b7d31d33",
   "metadata": {},
   "source": [
    "### Define the Sweep config"
   ]
  },
  {
   "cell_type": "code",
   "execution_count": 3,
   "id": "255824f5",
   "metadata": {},
   "outputs": [],
   "source": [
    "sweep_config = {\n",
    "    'method' : 'grid',\n",
    "    'metric': {\n",
    "        'name': 'roc_auc_micro',\n",
    "        'goal': 'maximize'\n",
    "    },\n",
    "    'parameters': {\n",
    "        'criterion': {'values': ['gini', 'entropy']},\n",
    "        'n_estimators': {'values': [100, 250, 500]},\n",
    "        'min_samples_split': {'values': [10, 50, 100]},\n",
    "        'min_samples_leaf': {'values': [5, 25, 50]},\n",
    "    }\n",
    "}"
   ]
  },
  {
   "cell_type": "markdown",
   "id": "e10a3156",
   "metadata": {},
   "source": [
    "### Log in to Weight and Biases"
   ]
  },
  {
   "cell_type": "code",
   "execution_count": 4,
   "id": "c1e3cbd0",
   "metadata": {},
   "outputs": [
    {
     "name": "stderr",
     "output_type": "stream",
     "text": [
      "\u001b[34m\u001b[1mwandb\u001b[0m: Currently logged in as: \u001b[33mm2im\u001b[0m (\u001b[33mnpsdaor\u001b[0m). Use \u001b[1m`wandb login --relogin`\u001b[0m to force relogin\n"
     ]
    },
    {
     "data": {
      "text/plain": [
       "True"
      ]
     },
     "execution_count": 4,
     "metadata": {},
     "output_type": "execute_result"
    }
   ],
   "source": [
    "wandb.login()"
   ]
  },
  {
   "cell_type": "markdown",
   "id": "cefa278b",
   "metadata": {},
   "source": [
    "### Read the dataset"
   ]
  },
  {
   "cell_type": "code",
   "execution_count": 5,
   "id": "bf15e887",
   "metadata": {},
   "outputs": [],
   "source": [
    "violence_hidden = load_from_disk(\"/data4/mmendieta/data/geo_corpus.0.0.1_datasets_hidden_e5_all_labels\")"
   ]
  },
  {
   "cell_type": "code",
   "execution_count": 6,
   "id": "69175467",
   "metadata": {},
   "outputs": [
    {
     "data": {
      "text/plain": [
       "DatasetDict({\n",
       "    train: Dataset({\n",
       "        features: ['text', 'labels', 'input_ids', 'attention_mask', 'hidden_state'],\n",
       "        num_rows: 1500000\n",
       "    })\n",
       "    validation: Dataset({\n",
       "        features: ['text', 'labels', 'input_ids', 'attention_mask', 'hidden_state'],\n",
       "        num_rows: 400000\n",
       "    })\n",
       "    test: Dataset({\n",
       "        features: ['text', 'labels', 'input_ids', 'attention_mask', 'hidden_state'],\n",
       "        num_rows: 200000\n",
       "    })\n",
       "})"
      ]
     },
     "execution_count": 6,
     "metadata": {},
     "output_type": "execute_result"
    }
   ],
   "source": [
    "violence_hidden"
   ]
  },
  {
   "cell_type": "code",
   "execution_count": 7,
   "id": "33056177",
   "metadata": {},
   "outputs": [],
   "source": [
    "# Remove unncesary columns\n",
    "keep_cols = ['hidden_state', 'labels']\n",
    "remove_columns = [col for col in violence_hidden['train'].column_names if col not in keep_cols]"
   ]
  },
  {
   "cell_type": "code",
   "execution_count": 8,
   "id": "955e02b8",
   "metadata": {},
   "outputs": [],
   "source": [
    "violence_hidden = violence_hidden.remove_columns(remove_columns)"
   ]
  },
  {
   "cell_type": "code",
   "execution_count": 9,
   "id": "2d529a58",
   "metadata": {},
   "outputs": [
    {
     "data": {
      "text/plain": [
       "DatasetDict({\n",
       "    train: Dataset({\n",
       "        features: ['labels', 'hidden_state'],\n",
       "        num_rows: 1500000\n",
       "    })\n",
       "    validation: Dataset({\n",
       "        features: ['labels', 'hidden_state'],\n",
       "        num_rows: 400000\n",
       "    })\n",
       "    test: Dataset({\n",
       "        features: ['labels', 'hidden_state'],\n",
       "        num_rows: 200000\n",
       "    })\n",
       "})"
      ]
     },
     "execution_count": 9,
     "metadata": {},
     "output_type": "execute_result"
    }
   ],
   "source": [
    "violence_hidden"
   ]
  },
  {
   "cell_type": "code",
   "execution_count": null,
   "id": "a918a463",
   "metadata": {},
   "outputs": [],
   "source": [
    "# Extract a subset of the dataset\n",
    "train_clf_ds = violence_hidden[\"train\"].shuffle(args.seed).select(range(args.train_subset))\n",
    "validation_clf_ds = violence_hidden[\"validation\"].shuffle(args.seed).select(range(args.valid_subset))\n",
    "test_clf_ds = violence_hidden[\"test\"].shuffle(args.seed).select(range(args.test_subset))"
   ]
  },
  {
   "cell_type": "code",
   "execution_count": 10,
   "id": "78650fda",
   "metadata": {},
   "outputs": [],
   "source": [
    "# Some hidden datasets were stored with the required samples. There is no need to sample as in the above cell\n",
    "train_clf_ds = violence_hidden[\"train\"]\n",
    "validation_clf_ds = violence_hidden[\"validation\"]\n",
    "test_clf_ds = violence_hidden[\"test\"]"
   ]
  },
  {
   "cell_type": "code",
   "execution_count": 11,
   "id": "3fb48da8",
   "metadata": {},
   "outputs": [
    {
     "data": {
      "text/plain": [
       "{'labels': tensor([0., 0., 0., 0., 0., 0., 0., 0., 0., 0., 0., 0., 0., 0., 0., 0., 0., 0.,\n",
       "         0., 0., 0., 0., 0., 0., 0., 0., 0., 0., 0., 0., 0., 0., 0., 1., 1., 0.,\n",
       "         0., 0., 1., 1.]),\n",
       " 'hidden_state': tensor([ 0.6473,  0.3876, -1.1127,  ...,  0.6801, -0.8819,  0.6340])}"
      ]
     },
     "execution_count": 11,
     "metadata": {},
     "output_type": "execute_result"
    }
   ],
   "source": [
    "train_clf_ds[0]"
   ]
  },
  {
   "cell_type": "markdown",
   "id": "646db38b",
   "metadata": {},
   "source": [
    "### Create a feature matrix"
   ]
  },
  {
   "cell_type": "code",
   "execution_count": 12,
   "id": "983ac8e3",
   "metadata": {},
   "outputs": [
    {
     "name": "stdout",
     "output_type": "stream",
     "text": [
      "CPU times: user 6.96 s, sys: 26.4 s, total: 33.3 s\n",
      "Wall time: 8.83 s\n"
     ]
    },
    {
     "data": {
      "text/plain": [
       "(1500000, 1024)"
      ]
     },
     "execution_count": 12,
     "metadata": {},
     "output_type": "execute_result"
    }
   ],
   "source": [
    "%time X_train = np.array(train_clf_ds[\"hidden_state\"])\n",
    "y_train = np.array(train_clf_ds[\"labels\"])\n",
    "X_validation = np.array(validation_clf_ds[\"hidden_state\"])\n",
    "y_validation = np.array(validation_clf_ds[\"labels\"])\n",
    "X_test = np.array(test_clf_ds[\"hidden_state\"])\n",
    "y_test = np.array(test_clf_ds[\"labels\"])\n",
    "X_train.shape"
   ]
  },
  {
   "cell_type": "markdown",
   "id": "bf706a08",
   "metadata": {},
   "source": [
    "## Helper Functions"
   ]
  },
  {
   "cell_type": "code",
   "execution_count": null,
   "id": "712471cc",
   "metadata": {},
   "outputs": [],
   "source": [
    "# Old function\n",
    "# Create a function to report the various metrics for each classifier\n",
    "def metricsReport(y_true, y_pred, y_probs):\n",
    "    return {\n",
    "        \"roc_auc_micro\": roc_auc_score(y_true, y_probs, average=\"micro\"),\n",
    "        \"roc_auc_weighted\": roc_auc_score(y_true, y_probs, average=\"weighted\"),\n",
    "        \"weighted_precision\": precision_score(y_true, y_pred, average='weighted', zero_division=0),\n",
    "        \"weighted_recall\": recall_score(y_true, y_pred, average='weighted', zero_division=0),\n",
    "        \"weighted_f1\": f1_score(y_true, y_pred, average='weighted', zero_division=0),\n",
    "        \"micro_precision\": precision_score(y_true, y_pred, average='micro', zero_division=0),\n",
    "        \"micro_recall\": recall_score(y_true, y_pred, average='micro', zero_division=0),\n",
    "        \"micro_f1\": f1_score(y_true, y_pred, average='micro', zero_division=0),\n",
    "    }"
   ]
  },
  {
   "cell_type": "code",
   "execution_count": 13,
   "id": "66a0c5e5",
   "metadata": {},
   "outputs": [],
   "source": [
    "def metricsReport(y_true, y_pred, y_probs):\n",
    "    \"\"\"\n",
    "    Computes and returns a dictionary of classification metrics.\n",
    "\n",
    "    Args:\n",
    "        y_true (array-like): True labels.\n",
    "        y_pred (array-like): Binary predictions.\n",
    "        y_probs (array-like): Prediction probabilities.\n",
    "    \n",
    "    Returns:\n",
    "        dict: A dictionary of computed metrics.\n",
    "    \"\"\"\n",
    "    # The MultiOutputClassifier.predict_proba returns a list of arrays.\n",
    "    # We must stack them to get a single (n_samples, n_labels) array for roc_auc_score.\n",
    "    if isinstance(y_probs, list):\n",
    "        # We check for the number of dimensions to ensure we're stacking correctly.\n",
    "        # Each array in the list is (n_samples, 2), so we take the second column (class 1).\n",
    "        y_probs = np.stack([p[:, 1] for p in y_probs], axis=1)\n",
    "    \n",
    "    # Initialize ROC AUC scores as NaN in case of errors\n",
    "    roc_auc_micro = np.nan\n",
    "    roc_auc_weighted = np.nan\n",
    "    \n",
    "    try:\n",
    "        # Compute ROC AUC scores\n",
    "        roc_auc_micro = roc_auc_score(y_true, y_probs, average=\"micro\")\n",
    "        roc_auc_weighted = roc_auc_score(y_true, y_probs, average=\"weighted\")\n",
    "    except ValueError as e:\n",
    "        print(f\"Warning: Could not calculate ROC AUC. Error: {e}\")\n",
    "\n",
    "    # Compute other metrics\n",
    "    return {\n",
    "        \"roc_auc_micro\": roc_auc_micro,\n",
    "        \"roc_auc_weighted\": roc_auc_weighted,\n",
    "        \"weighted_precision\": precision_score(y_true, y_pred, average='weighted', zero_division=0),\n",
    "        \"weighted_recall\": recall_score(y_true, y_pred, average='weighted', zero_division=0),\n",
    "        \"weighted_f1\": f1_score(y_true, y_pred, average='weighted', zero_division=0),\n",
    "        \"micro_precision\": precision_score(y_true, y_pred, average='micro', zero_division=0),\n",
    "        \"micro_recall\": recall_score(y_true, y_pred, average='micro', zero_division=0),\n",
    "        \"micro_f1\": f1_score(y_true, y_pred, average='micro', zero_division=0)\n",
    "    }\n"
   ]
  },
  {
   "cell_type": "code",
   "execution_count": null,
   "id": "c4e13115",
   "metadata": {},
   "outputs": [],
   "source": [
    "def plot_confusion_matrix(y_test, y_pred, clf:str):\n",
    "    f, axes = plt.subplots(2, 3, figsize=(25, 15))\n",
    "    f.suptitle(clf, fontsize=36)\n",
    "    axes = axes.ravel()\n",
    "    for i in range(6):\n",
    "        labels=['post7geo10', 'post7geo30', 'post7geo50','pre7geo10','pre7geo30', 'pre7geo50']\n",
    "        disp = ConfusionMatrixDisplay(confusion_matrix(y_test[:, i],\n",
    "                                                       y_pred[:, i]),\n",
    "                                      display_labels=[0, i])\n",
    "        disp.plot(ax=axes[i], values_format='.4g')\n",
    "        disp.ax_.set_title(labels[i])\n",
    "        if i<10:\n",
    "            disp.ax_.set_xlabel('')\n",
    "        if i%5!=0:\n",
    "            disp.ax_.set_ylabel('')\n",
    "        disp.im_.colorbar.remove()\n",
    "\n",
    "    plt.subplots_adjust(wspace=0.10, hspace=0.1)\n",
    "    f.colorbar(disp.im_, ax=axes)\n",
    "    plt.show()"
   ]
  },
  {
   "cell_type": "markdown",
   "id": "50e80d68",
   "metadata": {},
   "source": [
    "# Random Forest Classifier"
   ]
  },
  {
   "cell_type": "code",
   "execution_count": null,
   "id": "b5748c20",
   "metadata": {},
   "outputs": [],
   "source": [
    "# Old function\n",
    "def train():\n",
    "    with wandb.init():\n",
    "        config = wandb.config\n",
    "        \n",
    "        rfClassifier = RandomForestClassifier(\n",
    "            n_jobs=args.n_jobs, \n",
    "            random_state=args.seed,\n",
    "            n_estimators = config.n_estimators,\n",
    "            criterion = config.criterion,\n",
    "            min_samples_split = config.min_samples_split,\n",
    "            min_samples_leaf = config.min_samples_leaf)\n",
    "        \n",
    "        rfClassifier.fit(X_train, y_train)\n",
    "        \n",
    "        rfPreds = rfClassifier.predict(X_validation)\n",
    "        rfProbs = rfClassifier.predict_proba(X_validation)\n",
    "        \n",
    "        # Convert list of (n_samples, 2) arrays -> single (n_samples, n_labels) array\n",
    "        if isinstance(rfProbs, list):\n",
    "            rfProbs = np.stack([p[:, 1] for p in rfProbs], axis=1)\n",
    "        \n",
    "        scores = metricsReport(y_validation, rfPreds, rfProbs)\n",
    "    \n",
    "        wandb.log(scores)"
   ]
  },
  {
   "cell_type": "code",
   "execution_count": 14,
   "id": "c9a36aa7",
   "metadata": {},
   "outputs": [],
   "source": [
    "def train():\n",
    "    \"\"\"\n",
    "    The main training function for a single W&B sweep trial.\n",
    "    Initializes a MultiOutputClassifier with a RandomForestClassifier base.\n",
    "    \"\"\"\n",
    "    with wandb.init():\n",
    "        config = wandb.config\n",
    "        \n",
    "        # Correctly instantiate MultiOutputClassifier with RandomForestClassifier as the base.\n",
    "        # This is essential for your multi-label problem.\n",
    "        rfBaseClassifier = RandomForestClassifier(\n",
    "            n_estimators=config.n_estimators,\n",
    "            criterion=config.criterion,\n",
    "            min_samples_split=config.min_samples_split,\n",
    "            min_samples_leaf=config.min_samples_leaf,\n",
    "            n_jobs=1, \n",
    "            random_state=args.seed\n",
    "        )\n",
    "\n",
    "        rfClassifier = MultiOutputClassifier(\n",
    "            estimator=rfBaseClassifier,\n",
    "            n_jobs=args.n_jobs # Parallelizes across the 40 labels\n",
    "        )\n",
    "        \n",
    "        # Train the model\n",
    "        rfClassifier.fit(X_train, y_train)\n",
    "        \n",
    "        # Make predictions and get probabilities on the validation set\n",
    "        rfPreds = rfClassifier.predict(X_validation)\n",
    "        rfProbs = rfClassifier.predict_proba(X_validation)\n",
    "        \n",
    "        # Compute scores using the corrected metricsReport function\n",
    "        scores = metricsReport(y_validation, rfPreds, rfProbs)\n",
    "        \n",
    "        # Log the scores to W&B\n",
    "        wandb.log(scores)"
   ]
  },
  {
   "cell_type": "markdown",
   "id": "97ffa303",
   "metadata": {},
   "source": [
    "### Initialize the Sweep"
   ]
  },
  {
   "cell_type": "code",
   "execution_count": 15,
   "id": "17df6966",
   "metadata": {},
   "outputs": [
    {
     "name": "stdout",
     "output_type": "stream",
     "text": [
      "Create sweep with ID: l7kstfg7\n",
      "Sweep URL: https://wandb.ai/npsdaor/rf_grid_search/sweeps/l7kstfg7\n"
     ]
    }
   ],
   "source": [
    "sweep_id = wandb.sweep(sweep=sweep_config, project=args.wandb_project_name)"
   ]
  },
  {
   "cell_type": "markdown",
   "id": "be68f706",
   "metadata": {},
   "source": [
    "### Start the Sweep agent"
   ]
  },
  {
   "cell_type": "code",
   "execution_count": null,
   "id": "7c485fe6",
   "metadata": {},
   "outputs": [
    {
     "name": "stderr",
     "output_type": "stream",
     "text": [
      "\u001b[34m\u001b[1mwandb\u001b[0m: Agent Starting Run: 6rpgkegf with config:\n",
      "\u001b[34m\u001b[1mwandb\u001b[0m: \tcriterion: gini\n",
      "\u001b[34m\u001b[1mwandb\u001b[0m: \tmin_samples_leaf: 5\n",
      "\u001b[34m\u001b[1mwandb\u001b[0m: \tmin_samples_split: 10\n",
      "\u001b[34m\u001b[1mwandb\u001b[0m: \tn_estimators: 100\n"
     ]
    },
    {
     "data": {
      "text/html": [
       "wandb version 0.21.0 is available!  To upgrade, please run:\n",
       " $ pip install wandb --upgrade"
      ],
      "text/plain": [
       "<IPython.core.display.HTML object>"
      ]
     },
     "metadata": {},
     "output_type": "display_data"
    },
    {
     "data": {
      "text/html": [
       "Tracking run with wandb version 0.13.4"
      ],
      "text/plain": [
       "<IPython.core.display.HTML object>"
      ]
     },
     "metadata": {},
     "output_type": "display_data"
    },
    {
     "data": {
      "text/html": [
       "Run data is saved locally in <code>/home/mmendieta/violence_prediction/Scripts/wandb/run-20250804_214822-6rpgkegf</code>"
      ],
      "text/plain": [
       "<IPython.core.display.HTML object>"
      ]
     },
     "metadata": {},
     "output_type": "display_data"
    },
    {
     "data": {
      "text/html": [
       "Syncing run <strong><a href=\"https://wandb.ai/npsdaor/rf_grid_search/runs/6rpgkegf\" target=\"_blank\">astral-sweep-1</a></strong> to <a href=\"https://wandb.ai/npsdaor/rf_grid_search\" target=\"_blank\">Weights & Biases</a> (<a href=\"https://wandb.me/run\" target=\"_blank\">docs</a>)<br/>Sweep page:  <a href=\"https://wandb.ai/npsdaor/rf_grid_search/sweeps/l7kstfg7\" target=\"_blank\">https://wandb.ai/npsdaor/rf_grid_search/sweeps/l7kstfg7</a>"
      ],
      "text/plain": [
       "<IPython.core.display.HTML object>"
      ]
     },
     "metadata": {},
     "output_type": "display_data"
    },
    {
     "data": {
      "text/html": [
       "Waiting for W&B process to finish... <strong style=\"color:green\">(success).</strong>"
      ],
      "text/plain": [
       "<IPython.core.display.HTML object>"
      ]
     },
     "metadata": {},
     "output_type": "display_data"
    },
    {
     "data": {
      "text/html": [
       "<style>\n",
       "    table.wandb td:nth-child(1) { padding: 0 10px; text-align: left ; width: auto;} td:nth-child(2) {text-align: left ; width: 100%}\n",
       "    .wandb-row { display: flex; flex-direction: row; flex-wrap: wrap; justify-content: flex-start; width: 100% }\n",
       "    .wandb-col { display: flex; flex-direction: column; flex-basis: 100%; flex: 1; padding: 10px; }\n",
       "    </style>\n",
       "<div class=\"wandb-row\"><div class=\"wandb-col\"><h3>Run history:</h3><br/><table class=\"wandb\"><tr><td>micro_f1</td><td>▁</td></tr><tr><td>micro_precision</td><td>▁</td></tr><tr><td>micro_recall</td><td>▁</td></tr><tr><td>roc_auc_micro</td><td>▁</td></tr><tr><td>roc_auc_weighted</td><td>▁</td></tr><tr><td>weighted_f1</td><td>▁</td></tr><tr><td>weighted_precision</td><td>▁</td></tr><tr><td>weighted_recall</td><td>▁</td></tr></table><br/></div><div class=\"wandb-col\"><h3>Run summary:</h3><br/><table class=\"wandb\"><tr><td>micro_f1</td><td>0.37402</td></tr><tr><td>micro_precision</td><td>0.61549</td></tr><tr><td>micro_recall</td><td>0.26864</td></tr><tr><td>roc_auc_micro</td><td>0.70996</td></tr><tr><td>roc_auc_weighted</td><td>0.58388</td></tr><tr><td>weighted_f1</td><td>0.26237</td></tr><tr><td>weighted_precision</td><td>0.58697</td></tr><tr><td>weighted_recall</td><td>0.26864</td></tr></table><br/></div></div>"
      ],
      "text/plain": [
       "<IPython.core.display.HTML object>"
      ]
     },
     "metadata": {},
     "output_type": "display_data"
    },
    {
     "data": {
      "text/html": [
       "Synced <strong style=\"color:#cdcd00\">astral-sweep-1</strong>: <a href=\"https://wandb.ai/npsdaor/rf_grid_search/runs/6rpgkegf\" target=\"_blank\">https://wandb.ai/npsdaor/rf_grid_search/runs/6rpgkegf</a><br/>Synced 4 W&B file(s), 0 media file(s), 0 artifact file(s) and 0 other file(s)"
      ],
      "text/plain": [
       "<IPython.core.display.HTML object>"
      ]
     },
     "metadata": {},
     "output_type": "display_data"
    },
    {
     "data": {
      "text/html": [
       "Find logs at: <code>./wandb/run-20250804_214822-6rpgkegf/logs</code>"
      ],
      "text/plain": [
       "<IPython.core.display.HTML object>"
      ]
     },
     "metadata": {},
     "output_type": "display_data"
    },
    {
     "name": "stderr",
     "output_type": "stream",
     "text": [
      "\u001b[34m\u001b[1mwandb\u001b[0m: Agent Starting Run: uas2wb30 with config:\n",
      "\u001b[34m\u001b[1mwandb\u001b[0m: \tcriterion: gini\n",
      "\u001b[34m\u001b[1mwandb\u001b[0m: \tmin_samples_leaf: 5\n",
      "\u001b[34m\u001b[1mwandb\u001b[0m: \tmin_samples_split: 10\n",
      "\u001b[34m\u001b[1mwandb\u001b[0m: \tn_estimators: 250\n"
     ]
    },
    {
     "data": {
      "text/html": [
       "wandb version 0.21.0 is available!  To upgrade, please run:\n",
       " $ pip install wandb --upgrade"
      ],
      "text/plain": [
       "<IPython.core.display.HTML object>"
      ]
     },
     "metadata": {},
     "output_type": "display_data"
    },
    {
     "data": {
      "text/html": [
       "Tracking run with wandb version 0.13.4"
      ],
      "text/plain": [
       "<IPython.core.display.HTML object>"
      ]
     },
     "metadata": {},
     "output_type": "display_data"
    },
    {
     "data": {
      "text/html": [
       "Run data is saved locally in <code>/home/mmendieta/violence_prediction/Scripts/wandb/run-20250805_043802-uas2wb30</code>"
      ],
      "text/plain": [
       "<IPython.core.display.HTML object>"
      ]
     },
     "metadata": {},
     "output_type": "display_data"
    },
    {
     "data": {
      "text/html": [
       "Syncing run <strong><a href=\"https://wandb.ai/npsdaor/rf_grid_search/runs/uas2wb30\" target=\"_blank\">still-sweep-2</a></strong> to <a href=\"https://wandb.ai/npsdaor/rf_grid_search\" target=\"_blank\">Weights & Biases</a> (<a href=\"https://wandb.me/run\" target=\"_blank\">docs</a>)<br/>Sweep page:  <a href=\"https://wandb.ai/npsdaor/rf_grid_search/sweeps/l7kstfg7\" target=\"_blank\">https://wandb.ai/npsdaor/rf_grid_search/sweeps/l7kstfg7</a>"
      ],
      "text/plain": [
       "<IPython.core.display.HTML object>"
      ]
     },
     "metadata": {},
     "output_type": "display_data"
    },
    {
     "data": {
      "text/html": [
       "Waiting for W&B process to finish... <strong style=\"color:green\">(success).</strong>"
      ],
      "text/plain": [
       "<IPython.core.display.HTML object>"
      ]
     },
     "metadata": {},
     "output_type": "display_data"
    },
    {
     "data": {
      "application/vnd.jupyter.widget-view+json": {
       "model_id": "53142336a97f4722b5d2c80f10e89cd3",
       "version_major": 2,
       "version_minor": 0
      },
      "text/plain": [
       "VBox(children=(Label(value='0.001 MB of 0.006 MB uploaded (0.000 MB deduped)\\r'), FloatProgress(value=0.122341…"
      ]
     },
     "metadata": {},
     "output_type": "display_data"
    },
    {
     "data": {
      "text/html": [
       "<style>\n",
       "    table.wandb td:nth-child(1) { padding: 0 10px; text-align: left ; width: auto;} td:nth-child(2) {text-align: left ; width: 100%}\n",
       "    .wandb-row { display: flex; flex-direction: row; flex-wrap: wrap; justify-content: flex-start; width: 100% }\n",
       "    .wandb-col { display: flex; flex-direction: column; flex-basis: 100%; flex: 1; padding: 10px; }\n",
       "    </style>\n",
       "<div class=\"wandb-row\"><div class=\"wandb-col\"><h3>Run history:</h3><br/><table class=\"wandb\"><tr><td>micro_f1</td><td>▁</td></tr><tr><td>micro_precision</td><td>▁</td></tr><tr><td>micro_recall</td><td>▁</td></tr><tr><td>roc_auc_micro</td><td>▁</td></tr><tr><td>roc_auc_weighted</td><td>▁</td></tr><tr><td>weighted_f1</td><td>▁</td></tr><tr><td>weighted_precision</td><td>▁</td></tr><tr><td>weighted_recall</td><td>▁</td></tr></table><br/></div><div class=\"wandb-col\"><h3>Run summary:</h3><br/><table class=\"wandb\"><tr><td>micro_f1</td><td>0.37246</td></tr><tr><td>micro_precision</td><td>0.62005</td></tr><tr><td>micro_recall</td><td>0.26617</td></tr><tr><td>roc_auc_micro</td><td>0.71295</td></tr><tr><td>roc_auc_weighted</td><td>0.59175</td></tr><tr><td>weighted_f1</td><td>0.25634</td></tr><tr><td>weighted_precision</td><td>0.59647</td></tr><tr><td>weighted_recall</td><td>0.26617</td></tr></table><br/></div></div>"
      ],
      "text/plain": [
       "<IPython.core.display.HTML object>"
      ]
     },
     "metadata": {},
     "output_type": "display_data"
    },
    {
     "data": {
      "text/html": [
       "Synced <strong style=\"color:#cdcd00\">still-sweep-2</strong>: <a href=\"https://wandb.ai/npsdaor/rf_grid_search/runs/uas2wb30\" target=\"_blank\">https://wandb.ai/npsdaor/rf_grid_search/runs/uas2wb30</a><br/>Synced 4 W&B file(s), 0 media file(s), 0 artifact file(s) and 0 other file(s)"
      ],
      "text/plain": [
       "<IPython.core.display.HTML object>"
      ]
     },
     "metadata": {},
     "output_type": "display_data"
    },
    {
     "data": {
      "text/html": [
       "Find logs at: <code>./wandb/run-20250805_043802-uas2wb30/logs</code>"
      ],
      "text/plain": [
       "<IPython.core.display.HTML object>"
      ]
     },
     "metadata": {},
     "output_type": "display_data"
    },
    {
     "name": "stderr",
     "output_type": "stream",
     "text": [
      "\u001b[34m\u001b[1mwandb\u001b[0m: Sweep Agent: Waiting for job.\n",
      "\u001b[34m\u001b[1mwandb\u001b[0m: Job received.\n",
      "\u001b[34m\u001b[1mwandb\u001b[0m: Agent Starting Run: yaqk2tfa with config:\n",
      "\u001b[34m\u001b[1mwandb\u001b[0m: \tcriterion: gini\n",
      "\u001b[34m\u001b[1mwandb\u001b[0m: \tmin_samples_leaf: 5\n",
      "\u001b[34m\u001b[1mwandb\u001b[0m: \tmin_samples_split: 10\n",
      "\u001b[34m\u001b[1mwandb\u001b[0m: \tn_estimators: 500\n"
     ]
    },
    {
     "data": {
      "text/html": [
       "wandb version 0.21.0 is available!  To upgrade, please run:\n",
       " $ pip install wandb --upgrade"
      ],
      "text/plain": [
       "<IPython.core.display.HTML object>"
      ]
     },
     "metadata": {},
     "output_type": "display_data"
    },
    {
     "data": {
      "text/html": [
       "Tracking run with wandb version 0.13.4"
      ],
      "text/plain": [
       "<IPython.core.display.HTML object>"
      ]
     },
     "metadata": {},
     "output_type": "display_data"
    },
    {
     "data": {
      "text/html": [
       "Run data is saved locally in <code>/home/mmendieta/violence_prediction/Scripts/wandb/run-20250805_214347-yaqk2tfa</code>"
      ],
      "text/plain": [
       "<IPython.core.display.HTML object>"
      ]
     },
     "metadata": {},
     "output_type": "display_data"
    },
    {
     "data": {
      "text/html": [
       "Syncing run <strong><a href=\"https://wandb.ai/npsdaor/rf_grid_search/runs/yaqk2tfa\" target=\"_blank\">fancy-sweep-3</a></strong> to <a href=\"https://wandb.ai/npsdaor/rf_grid_search\" target=\"_blank\">Weights & Biases</a> (<a href=\"https://wandb.me/run\" target=\"_blank\">docs</a>)<br/>Sweep page:  <a href=\"https://wandb.ai/npsdaor/rf_grid_search/sweeps/l7kstfg7\" target=\"_blank\">https://wandb.ai/npsdaor/rf_grid_search/sweeps/l7kstfg7</a>"
      ],
      "text/plain": [
       "<IPython.core.display.HTML object>"
      ]
     },
     "metadata": {},
     "output_type": "display_data"
    },
    {
     "name": "stderr",
     "output_type": "stream",
     "text": [
      "wandb: Network error (ReadTimeout), entering retry loop.\n",
      "wandb: Network error (ReadTimeout), entering retry loop.\n",
      "wandb: Network error (ReadTimeout), entering retry loop.\n",
      "wandb: Network error (ReadTimeout), entering retry loop.\n",
      "wandb: Network error (ReadTimeout), entering retry loop.\n",
      "wandb: Network error (ReadTimeout), entering retry loop.\n",
      "wandb: Network error (ReadTimeout), entering retry loop.\n"
     ]
    },
    {
     "data": {
      "text/html": [
       "Waiting for W&B process to finish... <strong style=\"color:green\">(success).</strong>"
      ],
      "text/plain": [
       "<IPython.core.display.HTML object>"
      ]
     },
     "metadata": {},
     "output_type": "display_data"
    },
    {
     "data": {
      "application/vnd.jupyter.widget-view+json": {
       "model_id": "843d4fc502184d688b39f71215a99123",
       "version_major": 2,
       "version_minor": 0
      },
      "text/plain": [
       "VBox(children=(Label(value='0.001 MB of 0.001 MB uploaded (0.000 MB deduped)\\r'), FloatProgress(value=1.0, max…"
      ]
     },
     "metadata": {},
     "output_type": "display_data"
    },
    {
     "data": {
      "text/html": [
       "<style>\n",
       "    table.wandb td:nth-child(1) { padding: 0 10px; text-align: left ; width: auto;} td:nth-child(2) {text-align: left ; width: 100%}\n",
       "    .wandb-row { display: flex; flex-direction: row; flex-wrap: wrap; justify-content: flex-start; width: 100% }\n",
       "    .wandb-col { display: flex; flex-direction: column; flex-basis: 100%; flex: 1; padding: 10px; }\n",
       "    </style>\n",
       "<div class=\"wandb-row\"><div class=\"wandb-col\"><h3>Run history:</h3><br/><table class=\"wandb\"><tr><td>micro_f1</td><td>▁</td></tr><tr><td>micro_precision</td><td>▁</td></tr><tr><td>micro_recall</td><td>▁</td></tr><tr><td>roc_auc_micro</td><td>▁</td></tr><tr><td>roc_auc_weighted</td><td>▁</td></tr><tr><td>weighted_f1</td><td>▁</td></tr><tr><td>weighted_precision</td><td>▁</td></tr><tr><td>weighted_recall</td><td>▁</td></tr></table><br/></div><div class=\"wandb-col\"><h3>Run summary:</h3><br/><table class=\"wandb\"><tr><td>micro_f1</td><td>0.3709</td></tr><tr><td>micro_precision</td><td>0.62175</td></tr><tr><td>micro_recall</td><td>0.26428</td></tr><tr><td>roc_auc_micro</td><td>0.71403</td></tr><tr><td>roc_auc_weighted</td><td>0.59549</td></tr><tr><td>weighted_f1</td><td>0.25346</td></tr><tr><td>weighted_precision</td><td>0.59929</td></tr><tr><td>weighted_recall</td><td>0.26428</td></tr></table><br/></div></div>"
      ],
      "text/plain": [
       "<IPython.core.display.HTML object>"
      ]
     },
     "metadata": {},
     "output_type": "display_data"
    },
    {
     "data": {
      "text/html": [
       "Synced <strong style=\"color:#cdcd00\">fancy-sweep-3</strong>: <a href=\"https://wandb.ai/npsdaor/rf_grid_search/runs/yaqk2tfa\" target=\"_blank\">https://wandb.ai/npsdaor/rf_grid_search/runs/yaqk2tfa</a><br/>Synced 5 W&B file(s), 0 media file(s), 0 artifact file(s) and 0 other file(s)"
      ],
      "text/plain": [
       "<IPython.core.display.HTML object>"
      ]
     },
     "metadata": {},
     "output_type": "display_data"
    },
    {
     "data": {
      "text/html": [
       "Find logs at: <code>./wandb/run-20250805_214347-yaqk2tfa/logs</code>"
      ],
      "text/plain": [
       "<IPython.core.display.HTML object>"
      ]
     },
     "metadata": {},
     "output_type": "display_data"
    },
    {
     "name": "stderr",
     "output_type": "stream",
     "text": [
      "\u001b[34m\u001b[1mwandb\u001b[0m: Agent Starting Run: g4uzw4ms with config:\n",
      "\u001b[34m\u001b[1mwandb\u001b[0m: \tcriterion: gini\n",
      "\u001b[34m\u001b[1mwandb\u001b[0m: \tmin_samples_leaf: 5\n",
      "\u001b[34m\u001b[1mwandb\u001b[0m: \tmin_samples_split: 50\n",
      "\u001b[34m\u001b[1mwandb\u001b[0m: \tn_estimators: 100\n"
     ]
    },
    {
     "data": {
      "text/html": [
       "wandb version 0.21.0 is available!  To upgrade, please run:\n",
       " $ pip install wandb --upgrade"
      ],
      "text/plain": [
       "<IPython.core.display.HTML object>"
      ]
     },
     "metadata": {},
     "output_type": "display_data"
    },
    {
     "data": {
      "text/html": [
       "Tracking run with wandb version 0.13.4"
      ],
      "text/plain": [
       "<IPython.core.display.HTML object>"
      ]
     },
     "metadata": {},
     "output_type": "display_data"
    },
    {
     "data": {
      "text/html": [
       "Run data is saved locally in <code>/home/mmendieta/violence_prediction/Scripts/wandb/run-20250807_080020-g4uzw4ms</code>"
      ],
      "text/plain": [
       "<IPython.core.display.HTML object>"
      ]
     },
     "metadata": {},
     "output_type": "display_data"
    },
    {
     "data": {
      "text/html": [
       "Syncing run <strong><a href=\"https://wandb.ai/npsdaor/rf_grid_search/runs/g4uzw4ms\" target=\"_blank\">zesty-sweep-4</a></strong> to <a href=\"https://wandb.ai/npsdaor/rf_grid_search\" target=\"_blank\">Weights & Biases</a> (<a href=\"https://wandb.me/run\" target=\"_blank\">docs</a>)<br/>Sweep page:  <a href=\"https://wandb.ai/npsdaor/rf_grid_search/sweeps/l7kstfg7\" target=\"_blank\">https://wandb.ai/npsdaor/rf_grid_search/sweeps/l7kstfg7</a>"
      ],
      "text/plain": [
       "<IPython.core.display.HTML object>"
      ]
     },
     "metadata": {},
     "output_type": "display_data"
    },
    {
     "data": {
      "text/html": [
       "Waiting for W&B process to finish... <strong style=\"color:green\">(success).</strong>"
      ],
      "text/plain": [
       "<IPython.core.display.HTML object>"
      ]
     },
     "metadata": {},
     "output_type": "display_data"
    },
    {
     "data": {
      "text/html": [
       "<style>\n",
       "    table.wandb td:nth-child(1) { padding: 0 10px; text-align: left ; width: auto;} td:nth-child(2) {text-align: left ; width: 100%}\n",
       "    .wandb-row { display: flex; flex-direction: row; flex-wrap: wrap; justify-content: flex-start; width: 100% }\n",
       "    .wandb-col { display: flex; flex-direction: column; flex-basis: 100%; flex: 1; padding: 10px; }\n",
       "    </style>\n",
       "<div class=\"wandb-row\"><div class=\"wandb-col\"><h3>Run history:</h3><br/><table class=\"wandb\"><tr><td>micro_f1</td><td>▁</td></tr><tr><td>micro_precision</td><td>▁</td></tr><tr><td>micro_recall</td><td>▁</td></tr><tr><td>roc_auc_micro</td><td>▁</td></tr><tr><td>roc_auc_weighted</td><td>▁</td></tr><tr><td>weighted_f1</td><td>▁</td></tr><tr><td>weighted_precision</td><td>▁</td></tr><tr><td>weighted_recall</td><td>▁</td></tr></table><br/></div><div class=\"wandb-col\"><h3>Run summary:</h3><br/><table class=\"wandb\"><tr><td>micro_f1</td><td>0.36542</td></tr><tr><td>micro_precision</td><td>0.6208</td></tr><tr><td>micro_recall</td><td>0.25891</td></tr><tr><td>roc_auc_micro</td><td>0.71142</td></tr><tr><td>roc_auc_weighted</td><td>0.58704</td></tr><tr><td>weighted_f1</td><td>0.24288</td></tr><tr><td>weighted_precision</td><td>0.62658</td></tr><tr><td>weighted_recall</td><td>0.25891</td></tr></table><br/></div></div>"
      ],
      "text/plain": [
       "<IPython.core.display.HTML object>"
      ]
     },
     "metadata": {},
     "output_type": "display_data"
    },
    {
     "data": {
      "text/html": [
       "Synced <strong style=\"color:#cdcd00\">zesty-sweep-4</strong>: <a href=\"https://wandb.ai/npsdaor/rf_grid_search/runs/g4uzw4ms\" target=\"_blank\">https://wandb.ai/npsdaor/rf_grid_search/runs/g4uzw4ms</a><br/>Synced 4 W&B file(s), 0 media file(s), 0 artifact file(s) and 0 other file(s)"
      ],
      "text/plain": [
       "<IPython.core.display.HTML object>"
      ]
     },
     "metadata": {},
     "output_type": "display_data"
    },
    {
     "data": {
      "text/html": [
       "Find logs at: <code>./wandb/run-20250807_080020-g4uzw4ms/logs</code>"
      ],
      "text/plain": [
       "<IPython.core.display.HTML object>"
      ]
     },
     "metadata": {},
     "output_type": "display_data"
    },
    {
     "name": "stderr",
     "output_type": "stream",
     "text": [
      "\u001b[34m\u001b[1mwandb\u001b[0m: Agent Starting Run: iyzqllfu with config:\n",
      "\u001b[34m\u001b[1mwandb\u001b[0m: \tcriterion: gini\n",
      "\u001b[34m\u001b[1mwandb\u001b[0m: \tmin_samples_leaf: 5\n",
      "\u001b[34m\u001b[1mwandb\u001b[0m: \tmin_samples_split: 50\n",
      "\u001b[34m\u001b[1mwandb\u001b[0m: \tn_estimators: 250\n"
     ]
    },
    {
     "data": {
      "text/html": [
       "wandb version 0.21.1 is available!  To upgrade, please run:\n",
       " $ pip install wandb --upgrade"
      ],
      "text/plain": [
       "<IPython.core.display.HTML object>"
      ]
     },
     "metadata": {},
     "output_type": "display_data"
    },
    {
     "data": {
      "text/html": [
       "Tracking run with wandb version 0.13.4"
      ],
      "text/plain": [
       "<IPython.core.display.HTML object>"
      ]
     },
     "metadata": {},
     "output_type": "display_data"
    },
    {
     "data": {
      "text/html": [
       "Run data is saved locally in <code>/home/mmendieta/violence_prediction/Scripts/wandb/run-20250807_145821-iyzqllfu</code>"
      ],
      "text/plain": [
       "<IPython.core.display.HTML object>"
      ]
     },
     "metadata": {},
     "output_type": "display_data"
    },
    {
     "data": {
      "text/html": [
       "Syncing run <strong><a href=\"https://wandb.ai/npsdaor/rf_grid_search/runs/iyzqllfu\" target=\"_blank\">spring-sweep-5</a></strong> to <a href=\"https://wandb.ai/npsdaor/rf_grid_search\" target=\"_blank\">Weights & Biases</a> (<a href=\"https://wandb.me/run\" target=\"_blank\">docs</a>)<br/>Sweep page:  <a href=\"https://wandb.ai/npsdaor/rf_grid_search/sweeps/l7kstfg7\" target=\"_blank\">https://wandb.ai/npsdaor/rf_grid_search/sweeps/l7kstfg7</a>"
      ],
      "text/plain": [
       "<IPython.core.display.HTML object>"
      ]
     },
     "metadata": {},
     "output_type": "display_data"
    },
    {
     "data": {
      "text/html": [
       "Waiting for W&B process to finish... <strong style=\"color:green\">(success).</strong>"
      ],
      "text/plain": [
       "<IPython.core.display.HTML object>"
      ]
     },
     "metadata": {},
     "output_type": "display_data"
    },
    {
     "data": {
      "application/vnd.jupyter.widget-view+json": {
       "model_id": "8f233d5302404a60bf79cc0162a1ef6b",
       "version_major": 2,
       "version_minor": 0
      },
      "text/plain": [
       "VBox(children=(Label(value='0.001 MB of 0.005 MB uploaded (0.000 MB deduped)\\r'), FloatProgress(value=0.131211…"
      ]
     },
     "metadata": {},
     "output_type": "display_data"
    },
    {
     "data": {
      "text/html": [
       "<style>\n",
       "    table.wandb td:nth-child(1) { padding: 0 10px; text-align: left ; width: auto;} td:nth-child(2) {text-align: left ; width: 100%}\n",
       "    .wandb-row { display: flex; flex-direction: row; flex-wrap: wrap; justify-content: flex-start; width: 100% }\n",
       "    .wandb-col { display: flex; flex-direction: column; flex-basis: 100%; flex: 1; padding: 10px; }\n",
       "    </style>\n",
       "<div class=\"wandb-row\"><div class=\"wandb-col\"><h3>Run history:</h3><br/><table class=\"wandb\"><tr><td>micro_f1</td><td>▁</td></tr><tr><td>micro_precision</td><td>▁</td></tr><tr><td>micro_recall</td><td>▁</td></tr><tr><td>roc_auc_micro</td><td>▁</td></tr><tr><td>roc_auc_weighted</td><td>▁</td></tr><tr><td>weighted_f1</td><td>▁</td></tr><tr><td>weighted_precision</td><td>▁</td></tr><tr><td>weighted_recall</td><td>▁</td></tr></table><br/></div><div class=\"wandb-col\"><h3>Run summary:</h3><br/><table class=\"wandb\"><tr><td>micro_f1</td><td>0.36346</td></tr><tr><td>micro_precision</td><td>0.62402</td></tr><tr><td>micro_recall</td><td>0.2564</td></tr><tr><td>roc_auc_micro</td><td>0.71331</td></tr><tr><td>roc_auc_weighted</td><td>0.59315</td></tr><tr><td>weighted_f1</td><td>0.23813</td></tr><tr><td>weighted_precision</td><td>0.63196</td></tr><tr><td>weighted_recall</td><td>0.2564</td></tr></table><br/></div></div>"
      ],
      "text/plain": [
       "<IPython.core.display.HTML object>"
      ]
     },
     "metadata": {},
     "output_type": "display_data"
    },
    {
     "data": {
      "text/html": [
       "Synced <strong style=\"color:#cdcd00\">spring-sweep-5</strong>: <a href=\"https://wandb.ai/npsdaor/rf_grid_search/runs/iyzqllfu\" target=\"_blank\">https://wandb.ai/npsdaor/rf_grid_search/runs/iyzqllfu</a><br/>Synced 4 W&B file(s), 0 media file(s), 0 artifact file(s) and 0 other file(s)"
      ],
      "text/plain": [
       "<IPython.core.display.HTML object>"
      ]
     },
     "metadata": {},
     "output_type": "display_data"
    },
    {
     "data": {
      "text/html": [
       "Find logs at: <code>./wandb/run-20250807_145821-iyzqllfu/logs</code>"
      ],
      "text/plain": [
       "<IPython.core.display.HTML object>"
      ]
     },
     "metadata": {},
     "output_type": "display_data"
    },
    {
     "name": "stderr",
     "output_type": "stream",
     "text": [
      "\u001b[34m\u001b[1mwandb\u001b[0m: Agent Starting Run: a1nhdf9y with config:\n",
      "\u001b[34m\u001b[1mwandb\u001b[0m: \tcriterion: gini\n",
      "\u001b[34m\u001b[1mwandb\u001b[0m: \tmin_samples_leaf: 5\n",
      "\u001b[34m\u001b[1mwandb\u001b[0m: \tmin_samples_split: 50\n",
      "\u001b[34m\u001b[1mwandb\u001b[0m: \tn_estimators: 500\n"
     ]
    },
    {
     "data": {
      "text/html": [
       "wandb version 0.21.1 is available!  To upgrade, please run:\n",
       " $ pip install wandb --upgrade"
      ],
      "text/plain": [
       "<IPython.core.display.HTML object>"
      ]
     },
     "metadata": {},
     "output_type": "display_data"
    },
    {
     "data": {
      "text/html": [
       "Tracking run with wandb version 0.13.4"
      ],
      "text/plain": [
       "<IPython.core.display.HTML object>"
      ]
     },
     "metadata": {},
     "output_type": "display_data"
    },
    {
     "data": {
      "text/html": [
       "Run data is saved locally in <code>/home/mmendieta/violence_prediction/Scripts/wandb/run-20250808_074542-a1nhdf9y</code>"
      ],
      "text/plain": [
       "<IPython.core.display.HTML object>"
      ]
     },
     "metadata": {},
     "output_type": "display_data"
    },
    {
     "data": {
      "text/html": [
       "Syncing run <strong><a href=\"https://wandb.ai/npsdaor/rf_grid_search/runs/a1nhdf9y\" target=\"_blank\">young-sweep-6</a></strong> to <a href=\"https://wandb.ai/npsdaor/rf_grid_search\" target=\"_blank\">Weights & Biases</a> (<a href=\"https://wandb.me/run\" target=\"_blank\">docs</a>)<br/>Sweep page:  <a href=\"https://wandb.ai/npsdaor/rf_grid_search/sweeps/l7kstfg7\" target=\"_blank\">https://wandb.ai/npsdaor/rf_grid_search/sweeps/l7kstfg7</a>"
      ],
      "text/plain": [
       "<IPython.core.display.HTML object>"
      ]
     },
     "metadata": {},
     "output_type": "display_data"
    },
    {
     "data": {
      "text/html": [
       "Waiting for W&B process to finish... <strong style=\"color:green\">(success).</strong>"
      ],
      "text/plain": [
       "<IPython.core.display.HTML object>"
      ]
     },
     "metadata": {},
     "output_type": "display_data"
    },
    {
     "data": {
      "text/html": [
       "<style>\n",
       "    table.wandb td:nth-child(1) { padding: 0 10px; text-align: left ; width: auto;} td:nth-child(2) {text-align: left ; width: 100%}\n",
       "    .wandb-row { display: flex; flex-direction: row; flex-wrap: wrap; justify-content: flex-start; width: 100% }\n",
       "    .wandb-col { display: flex; flex-direction: column; flex-basis: 100%; flex: 1; padding: 10px; }\n",
       "    </style>\n",
       "<div class=\"wandb-row\"><div class=\"wandb-col\"><h3>Run history:</h3><br/><table class=\"wandb\"><tr><td>micro_f1</td><td>▁</td></tr><tr><td>micro_precision</td><td>▁</td></tr><tr><td>micro_recall</td><td>▁</td></tr><tr><td>roc_auc_micro</td><td>▁</td></tr><tr><td>roc_auc_weighted</td><td>▁</td></tr><tr><td>weighted_f1</td><td>▁</td></tr><tr><td>weighted_precision</td><td>▁</td></tr><tr><td>weighted_recall</td><td>▁</td></tr></table><br/></div><div class=\"wandb-col\"><h3>Run summary:</h3><br/><table class=\"wandb\"><tr><td>micro_f1</td><td>0.3621</td></tr><tr><td>micro_precision</td><td>0.62516</td></tr><tr><td>micro_recall</td><td>0.25486</td></tr><tr><td>roc_auc_micro</td><td>0.71399</td></tr><tr><td>roc_auc_weighted</td><td>0.59576</td></tr><tr><td>weighted_f1</td><td>0.23605</td></tr><tr><td>weighted_precision</td><td>0.63441</td></tr><tr><td>weighted_recall</td><td>0.25486</td></tr></table><br/></div></div>"
      ],
      "text/plain": [
       "<IPython.core.display.HTML object>"
      ]
     },
     "metadata": {},
     "output_type": "display_data"
    },
    {
     "data": {
      "text/html": [
       "Synced <strong style=\"color:#cdcd00\">young-sweep-6</strong>: <a href=\"https://wandb.ai/npsdaor/rf_grid_search/runs/a1nhdf9y\" target=\"_blank\">https://wandb.ai/npsdaor/rf_grid_search/runs/a1nhdf9y</a><br/>Synced 4 W&B file(s), 0 media file(s), 0 artifact file(s) and 0 other file(s)"
      ],
      "text/plain": [
       "<IPython.core.display.HTML object>"
      ]
     },
     "metadata": {},
     "output_type": "display_data"
    },
    {
     "data": {
      "text/html": [
       "Find logs at: <code>./wandb/run-20250808_074542-a1nhdf9y/logs</code>"
      ],
      "text/plain": [
       "<IPython.core.display.HTML object>"
      ]
     },
     "metadata": {},
     "output_type": "display_data"
    },
    {
     "name": "stderr",
     "output_type": "stream",
     "text": [
      "\u001b[34m\u001b[1mwandb\u001b[0m: Sweep Agent: Waiting for job.\n",
      "\u001b[34m\u001b[1mwandb\u001b[0m: Job received.\n",
      "\u001b[34m\u001b[1mwandb\u001b[0m: Agent Starting Run: eo28bitf with config:\n",
      "\u001b[34m\u001b[1mwandb\u001b[0m: \tcriterion: gini\n",
      "\u001b[34m\u001b[1mwandb\u001b[0m: \tmin_samples_leaf: 5\n",
      "\u001b[34m\u001b[1mwandb\u001b[0m: \tmin_samples_split: 100\n",
      "\u001b[34m\u001b[1mwandb\u001b[0m: \tn_estimators: 100\n"
     ]
    },
    {
     "data": {
      "text/html": [
       "wandb version 0.21.1 is available!  To upgrade, please run:\n",
       " $ pip install wandb --upgrade"
      ],
      "text/plain": [
       "<IPython.core.display.HTML object>"
      ]
     },
     "metadata": {},
     "output_type": "display_data"
    },
    {
     "data": {
      "text/html": [
       "Tracking run with wandb version 0.13.4"
      ],
      "text/plain": [
       "<IPython.core.display.HTML object>"
      ]
     },
     "metadata": {},
     "output_type": "display_data"
    },
    {
     "data": {
      "text/html": [
       "Run data is saved locally in <code>/home/mmendieta/violence_prediction/Scripts/wandb/run-20250809_171951-eo28bitf</code>"
      ],
      "text/plain": [
       "<IPython.core.display.HTML object>"
      ]
     },
     "metadata": {},
     "output_type": "display_data"
    },
    {
     "data": {
      "text/html": [
       "Syncing run <strong><a href=\"https://wandb.ai/npsdaor/rf_grid_search/runs/eo28bitf\" target=\"_blank\">glorious-sweep-7</a></strong> to <a href=\"https://wandb.ai/npsdaor/rf_grid_search\" target=\"_blank\">Weights & Biases</a> (<a href=\"https://wandb.me/run\" target=\"_blank\">docs</a>)<br/>Sweep page:  <a href=\"https://wandb.ai/npsdaor/rf_grid_search/sweeps/l7kstfg7\" target=\"_blank\">https://wandb.ai/npsdaor/rf_grid_search/sweeps/l7kstfg7</a>"
      ],
      "text/plain": [
       "<IPython.core.display.HTML object>"
      ]
     },
     "metadata": {},
     "output_type": "display_data"
    },
    {
     "name": "stderr",
     "output_type": "stream",
     "text": [
      "\u001b[34m\u001b[1mwandb\u001b[0m: \u001b[32m\u001b[41mERROR\u001b[0m Error while calling W&B API: dial tcp 35.226.229.132:3307: connect: connection refused (<Response [500]>)\n",
      "\u001b[34m\u001b[1mwandb\u001b[0m: \u001b[32m\u001b[41mERROR\u001b[0m Error while calling W&B API: dial tcp 35.226.229.132:3307: connect: connection refused (<Response [500]>)\n",
      "\u001b[34m\u001b[1mwandb\u001b[0m: \u001b[32m\u001b[41mERROR\u001b[0m Error while calling W&B API: dial tcp 35.226.229.132:3307: connect: connection refused (<Response [500]>)\n",
      "\u001b[34m\u001b[1mwandb\u001b[0m: Network error (HTTPError), entering retry loop.\n",
      "wandb: ERROR Error while calling W&B API: dial tcp 35.226.229.132:3307: connect: connection refused (<Response [500]>)\n",
      "wandb: ERROR Error while calling W&B API: dial tcp 35.226.229.132:3307: connect: connection refused (<Response [500]>)\n",
      "wandb: ERROR Error while calling W&B API: dial tcp 35.226.229.132:3307: connect: connection refused (<Response [500]>)\n",
      "\u001b[34m\u001b[1mwandb\u001b[0m: \u001b[32m\u001b[41mERROR\u001b[0m Error while calling W&B API: context deadline exceeded (<Response [500]>)\n"
     ]
    },
    {
     "data": {
      "text/html": [
       "Waiting for W&B process to finish... <strong style=\"color:green\">(success).</strong>"
      ],
      "text/plain": [
       "<IPython.core.display.HTML object>"
      ]
     },
     "metadata": {},
     "output_type": "display_data"
    },
    {
     "data": {
      "text/html": [
       "<style>\n",
       "    table.wandb td:nth-child(1) { padding: 0 10px; text-align: left ; width: auto;} td:nth-child(2) {text-align: left ; width: 100%}\n",
       "    .wandb-row { display: flex; flex-direction: row; flex-wrap: wrap; justify-content: flex-start; width: 100% }\n",
       "    .wandb-col { display: flex; flex-direction: column; flex-basis: 100%; flex: 1; padding: 10px; }\n",
       "    </style>\n",
       "<div class=\"wandb-row\"><div class=\"wandb-col\"><h3>Run history:</h3><br/><table class=\"wandb\"><tr><td>micro_f1</td><td>▁</td></tr><tr><td>micro_precision</td><td>▁</td></tr><tr><td>micro_recall</td><td>▁</td></tr><tr><td>roc_auc_micro</td><td>▁</td></tr><tr><td>roc_auc_weighted</td><td>▁</td></tr><tr><td>weighted_f1</td><td>▁</td></tr><tr><td>weighted_precision</td><td>▁</td></tr><tr><td>weighted_recall</td><td>▁</td></tr></table><br/></div><div class=\"wandb-col\"><h3>Run summary:</h3><br/><table class=\"wandb\"><tr><td>micro_f1</td><td>0.35915</td></tr><tr><td>micro_precision</td><td>0.62204</td></tr><tr><td>micro_recall</td><td>0.25245</td></tr><tr><td>roc_auc_micro</td><td>0.7114</td></tr><tr><td>roc_auc_weighted</td><td>0.5883</td></tr><tr><td>weighted_f1</td><td>0.23014</td></tr><tr><td>weighted_precision</td><td>0.64487</td></tr><tr><td>weighted_recall</td><td>0.25245</td></tr></table><br/></div></div>"
      ],
      "text/plain": [
       "<IPython.core.display.HTML object>"
      ]
     },
     "metadata": {},
     "output_type": "display_data"
    },
    {
     "data": {
      "text/html": [
       "Synced <strong style=\"color:#cdcd00\">glorious-sweep-7</strong>: <a href=\"https://wandb.ai/npsdaor/rf_grid_search/runs/eo28bitf\" target=\"_blank\">https://wandb.ai/npsdaor/rf_grid_search/runs/eo28bitf</a><br/>Synced 5 W&B file(s), 0 media file(s), 0 artifact file(s) and 0 other file(s)"
      ],
      "text/plain": [
       "<IPython.core.display.HTML object>"
      ]
     },
     "metadata": {},
     "output_type": "display_data"
    },
    {
     "data": {
      "text/html": [
       "Find logs at: <code>./wandb/run-20250809_171951-eo28bitf/logs</code>"
      ],
      "text/plain": [
       "<IPython.core.display.HTML object>"
      ]
     },
     "metadata": {},
     "output_type": "display_data"
    },
    {
     "name": "stderr",
     "output_type": "stream",
     "text": [
      "\u001b[34m\u001b[1mwandb\u001b[0m: Agent Starting Run: 1ml59m1a with config:\n",
      "\u001b[34m\u001b[1mwandb\u001b[0m: \tcriterion: gini\n",
      "\u001b[34m\u001b[1mwandb\u001b[0m: \tmin_samples_leaf: 5\n",
      "\u001b[34m\u001b[1mwandb\u001b[0m: \tmin_samples_split: 100\n",
      "\u001b[34m\u001b[1mwandb\u001b[0m: \tn_estimators: 250\n"
     ]
    },
    {
     "data": {
      "text/html": [
       "wandb version 0.21.1 is available!  To upgrade, please run:\n",
       " $ pip install wandb --upgrade"
      ],
      "text/plain": [
       "<IPython.core.display.HTML object>"
      ]
     },
     "metadata": {},
     "output_type": "display_data"
    },
    {
     "data": {
      "text/html": [
       "Tracking run with wandb version 0.13.4"
      ],
      "text/plain": [
       "<IPython.core.display.HTML object>"
      ]
     },
     "metadata": {},
     "output_type": "display_data"
    },
    {
     "data": {
      "text/html": [
       "Run data is saved locally in <code>/home/mmendieta/violence_prediction/Scripts/wandb/run-20250810_000715-1ml59m1a</code>"
      ],
      "text/plain": [
       "<IPython.core.display.HTML object>"
      ]
     },
     "metadata": {},
     "output_type": "display_data"
    },
    {
     "data": {
      "text/html": [
       "Syncing run <strong><a href=\"https://wandb.ai/npsdaor/rf_grid_search/runs/1ml59m1a\" target=\"_blank\">rich-sweep-8</a></strong> to <a href=\"https://wandb.ai/npsdaor/rf_grid_search\" target=\"_blank\">Weights & Biases</a> (<a href=\"https://wandb.me/run\" target=\"_blank\">docs</a>)<br/>Sweep page:  <a href=\"https://wandb.ai/npsdaor/rf_grid_search/sweeps/l7kstfg7\" target=\"_blank\">https://wandb.ai/npsdaor/rf_grid_search/sweeps/l7kstfg7</a>"
      ],
      "text/plain": [
       "<IPython.core.display.HTML object>"
      ]
     },
     "metadata": {},
     "output_type": "display_data"
    },
    {
     "data": {
      "text/html": [
       "Waiting for W&B process to finish... <strong style=\"color:green\">(success).</strong>"
      ],
      "text/plain": [
       "<IPython.core.display.HTML object>"
      ]
     },
     "metadata": {},
     "output_type": "display_data"
    },
    {
     "data": {
      "application/vnd.jupyter.widget-view+json": {
       "model_id": "f4e8df35b81d4a60b9c177a92c3a876e",
       "version_major": 2,
       "version_minor": 0
      },
      "text/plain": [
       "VBox(children=(Label(value='0.001 MB of 0.005 MB uploaded (0.000 MB deduped)\\r'), FloatProgress(value=0.131188…"
      ]
     },
     "metadata": {},
     "output_type": "display_data"
    },
    {
     "data": {
      "text/html": [
       "<style>\n",
       "    table.wandb td:nth-child(1) { padding: 0 10px; text-align: left ; width: auto;} td:nth-child(2) {text-align: left ; width: 100%}\n",
       "    .wandb-row { display: flex; flex-direction: row; flex-wrap: wrap; justify-content: flex-start; width: 100% }\n",
       "    .wandb-col { display: flex; flex-direction: column; flex-basis: 100%; flex: 1; padding: 10px; }\n",
       "    </style>\n",
       "<div class=\"wandb-row\"><div class=\"wandb-col\"><h3>Run history:</h3><br/><table class=\"wandb\"><tr><td>micro_f1</td><td>▁</td></tr><tr><td>micro_precision</td><td>▁</td></tr><tr><td>micro_recall</td><td>▁</td></tr><tr><td>roc_auc_micro</td><td>▁</td></tr><tr><td>roc_auc_weighted</td><td>▁</td></tr><tr><td>weighted_f1</td><td>▁</td></tr><tr><td>weighted_precision</td><td>▁</td></tr><tr><td>weighted_recall</td><td>▁</td></tr></table><br/></div><div class=\"wandb-col\"><h3>Run summary:</h3><br/><table class=\"wandb\"><tr><td>micro_f1</td><td>0.35693</td></tr><tr><td>micro_precision</td><td>0.62435</td></tr><tr><td>micro_recall</td><td>0.2499</td></tr><tr><td>roc_auc_micro</td><td>0.71287</td></tr><tr><td>roc_auc_weighted</td><td>0.5937</td></tr><tr><td>weighted_f1</td><td>0.22622</td></tr><tr><td>weighted_precision</td><td>0.64963</td></tr><tr><td>weighted_recall</td><td>0.2499</td></tr></table><br/></div></div>"
      ],
      "text/plain": [
       "<IPython.core.display.HTML object>"
      ]
     },
     "metadata": {},
     "output_type": "display_data"
    },
    {
     "data": {
      "text/html": [
       "Synced <strong style=\"color:#cdcd00\">rich-sweep-8</strong>: <a href=\"https://wandb.ai/npsdaor/rf_grid_search/runs/1ml59m1a\" target=\"_blank\">https://wandb.ai/npsdaor/rf_grid_search/runs/1ml59m1a</a><br/>Synced 4 W&B file(s), 0 media file(s), 0 artifact file(s) and 0 other file(s)"
      ],
      "text/plain": [
       "<IPython.core.display.HTML object>"
      ]
     },
     "metadata": {},
     "output_type": "display_data"
    },
    {
     "data": {
      "text/html": [
       "Find logs at: <code>./wandb/run-20250810_000715-1ml59m1a/logs</code>"
      ],
      "text/plain": [
       "<IPython.core.display.HTML object>"
      ]
     },
     "metadata": {},
     "output_type": "display_data"
    },
    {
     "name": "stderr",
     "output_type": "stream",
     "text": [
      "\u001b[34m\u001b[1mwandb\u001b[0m: Agent Starting Run: i9krn3d5 with config:\n",
      "\u001b[34m\u001b[1mwandb\u001b[0m: \tcriterion: gini\n",
      "\u001b[34m\u001b[1mwandb\u001b[0m: \tmin_samples_leaf: 5\n",
      "\u001b[34m\u001b[1mwandb\u001b[0m: \tmin_samples_split: 100\n",
      "\u001b[34m\u001b[1mwandb\u001b[0m: \tn_estimators: 500\n"
     ]
    }
   ],
   "source": [
    "wandb.agent(sweep_id, function=train)"
   ]
  },
  {
   "cell_type": "code",
   "execution_count": null,
   "id": "21744024",
   "metadata": {},
   "outputs": [],
   "source": []
  }
 ],
 "metadata": {
  "kernelspec": {
   "display_name": "Python 3 (ipykernel)",
   "language": "python",
   "name": "python3"
  },
  "language_info": {
   "codemirror_mode": {
    "name": "ipython",
    "version": 3
   },
   "file_extension": ".py",
   "mimetype": "text/x-python",
   "name": "python",
   "nbconvert_exporter": "python",
   "pygments_lexer": "ipython3",
   "version": "3.8.3"
  }
 },
 "nbformat": 4,
 "nbformat_minor": 5
}
