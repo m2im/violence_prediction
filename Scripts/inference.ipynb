{
 "cells": [
  {
   "cell_type": "code",
   "execution_count": 1,
   "id": "2e576929",
   "metadata": {},
   "outputs": [
    {
     "name": "stderr",
     "output_type": "stream",
     "text": [
      "2024-10-30 21:44:40.764237: I tensorflow/stream_executor/platform/default/dso_loader.cc:49] Successfully opened dynamic library libcudart.so.11.0\n"
     ]
    }
   ],
   "source": [
    "import torch\n",
    "import transformers\n",
    "import pandas as pd\n",
    "import warnings\n",
    "\n",
    "from transformers import pipeline\n",
    "from transformers import AutoTokenizer, AutoModelForSequenceClassification\n",
    "from transformers import DataCollatorWithPadding\n",
    "from transformers.pipelines.pt_utils import KeyDataset\n",
    "from datasets import load_from_disk\n",
    "from torch.utils.data import DataLoader\n",
    "from tqdm.auto import tqdm\n",
    "from argparse import Namespace"
   ]
  },
  {
   "cell_type": "code",
   "execution_count": 2,
   "id": "ca1c4446",
   "metadata": {},
   "outputs": [],
   "source": [
    "config = {\n",
    "    \"cuda_device\": 15,\n",
    "    \"path_to_model_on_disk\": \"/data3/mmendieta/models/xlmt_finetuned_twitter/\", \n",
    "    \"model_ckpt\": \"m2im/XLM-T_finetuned_violence_twitter\",\n",
    "    \"max_length\": 32,\n",
    "    \"dataset_name\": \"/data3/mmendieta/Violence_data/geo_corpus.0.0.1_tok_ds_xlmt_with_text\",\n",
    "    \"batch_size\": 64\n",
    "}\n",
    "\n",
    "args = Namespace(**config)"
   ]
  },
  {
   "cell_type": "code",
   "execution_count": 3,
   "id": "bf8d5164",
   "metadata": {},
   "outputs": [
    {
     "data": {
      "application/vnd.jupyter.widget-view+json": {
       "model_id": "90b17086cda34d7391c660745a8ff9bd",
       "version_major": 2,
       "version_minor": 0
      },
      "text/plain": [
       "Downloading:   0%|          | 0.00/1.34k [00:00<?, ?B/s]"
      ]
     },
     "metadata": {},
     "output_type": "display_data"
    },
    {
     "name": "stderr",
     "output_type": "stream",
     "text": [
      "2024-10-30 21:44:49.453151: I tensorflow/compiler/jit/xla_cpu_device.cc:41] Not creating XLA devices, tf_xla_enable_xla_devices not set\n",
      "2024-10-30 21:44:49.454968: I tensorflow/stream_executor/platform/default/dso_loader.cc:49] Successfully opened dynamic library libcuda.so.1\n",
      "2024-10-30 21:44:49.630542: I tensorflow/core/common_runtime/gpu/gpu_device.cc:1720] Found device 0 with properties: \n",
      "pciBusID: 0000:1e:00.0 name: Tesla V100-SXM3-32GB computeCapability: 7.0\n",
      "coreClock: 1.597GHz coreCount: 80 deviceMemorySize: 31.75GiB deviceMemoryBandwidth: 913.62GiB/s\n",
      "2024-10-30 21:44:49.631624: I tensorflow/core/common_runtime/gpu/gpu_device.cc:1720] Found device 1 with properties: \n",
      "pciBusID: 0000:23:00.0 name: Tesla V100-SXM3-32GB computeCapability: 7.0\n",
      "coreClock: 1.597GHz coreCount: 80 deviceMemorySize: 31.75GiB deviceMemoryBandwidth: 913.62GiB/s\n",
      "2024-10-30 21:44:49.632678: I tensorflow/core/common_runtime/gpu/gpu_device.cc:1720] Found device 2 with properties: \n",
      "pciBusID: 0000:28:00.0 name: Tesla V100-SXM3-32GB computeCapability: 7.0\n",
      "coreClock: 1.597GHz coreCount: 80 deviceMemorySize: 31.75GiB deviceMemoryBandwidth: 913.62GiB/s\n",
      "2024-10-30 21:44:49.633737: I tensorflow/core/common_runtime/gpu/gpu_device.cc:1720] Found device 3 with properties: \n",
      "pciBusID: 0000:2d:00.0 name: Tesla V100-SXM3-32GB computeCapability: 7.0\n",
      "coreClock: 1.597GHz coreCount: 80 deviceMemorySize: 31.75GiB deviceMemoryBandwidth: 913.62GiB/s\n",
      "2024-10-30 21:44:49.634793: I tensorflow/core/common_runtime/gpu/gpu_device.cc:1720] Found device 4 with properties: \n",
      "pciBusID: 0000:41:00.0 name: Tesla V100-SXM3-32GB computeCapability: 7.0\n",
      "coreClock: 1.597GHz coreCount: 80 deviceMemorySize: 31.75GiB deviceMemoryBandwidth: 913.62GiB/s\n",
      "2024-10-30 21:44:49.635838: I tensorflow/core/common_runtime/gpu/gpu_device.cc:1720] Found device 5 with properties: \n",
      "pciBusID: 0000:42:00.0 name: Tesla V100-SXM3-32GB computeCapability: 7.0\n",
      "coreClock: 1.597GHz coreCount: 80 deviceMemorySize: 31.75GiB deviceMemoryBandwidth: 913.62GiB/s\n",
      "2024-10-30 21:44:49.636884: I tensorflow/core/common_runtime/gpu/gpu_device.cc:1720] Found device 6 with properties: \n",
      "pciBusID: 0000:4c:00.0 name: Tesla V100-SXM3-32GB computeCapability: 7.0\n",
      "coreClock: 1.597GHz coreCount: 80 deviceMemorySize: 31.75GiB deviceMemoryBandwidth: 913.62GiB/s\n",
      "2024-10-30 21:44:49.637932: I tensorflow/core/common_runtime/gpu/gpu_device.cc:1720] Found device 7 with properties: \n",
      "pciBusID: 0000:4d:00.0 name: Tesla V100-SXM3-32GB computeCapability: 7.0\n",
      "coreClock: 1.597GHz coreCount: 80 deviceMemorySize: 31.75GiB deviceMemoryBandwidth: 913.62GiB/s\n",
      "2024-10-30 21:44:49.638979: I tensorflow/core/common_runtime/gpu/gpu_device.cc:1720] Found device 8 with properties: \n",
      "pciBusID: 0000:8c:00.0 name: Tesla V100-SXM3-32GB computeCapability: 7.0\n",
      "coreClock: 1.597GHz coreCount: 80 deviceMemorySize: 31.75GiB deviceMemoryBandwidth: 913.62GiB/s\n",
      "2024-10-30 21:44:49.640021: I tensorflow/core/common_runtime/gpu/gpu_device.cc:1720] Found device 9 with properties: \n",
      "pciBusID: 0000:91:00.0 name: Tesla V100-SXM3-32GB computeCapability: 7.0\n",
      "coreClock: 1.597GHz coreCount: 80 deviceMemorySize: 31.75GiB deviceMemoryBandwidth: 913.62GiB/s\n",
      "2024-10-30 21:44:49.641108: I tensorflow/core/common_runtime/gpu/gpu_device.cc:1720] Found device 10 with properties: \n",
      "pciBusID: 0000:96:00.0 name: Tesla V100-SXM3-32GB computeCapability: 7.0\n",
      "coreClock: 1.597GHz coreCount: 80 deviceMemorySize: 31.75GiB deviceMemoryBandwidth: 913.62GiB/s\n",
      "2024-10-30 21:44:49.642200: I tensorflow/core/common_runtime/gpu/gpu_device.cc:1720] Found device 11 with properties: \n",
      "pciBusID: 0000:9b:00.0 name: Tesla V100-SXM3-32GB computeCapability: 7.0\n",
      "coreClock: 1.597GHz coreCount: 80 deviceMemorySize: 31.75GiB deviceMemoryBandwidth: 913.62GiB/s\n",
      "2024-10-30 21:44:49.643292: I tensorflow/core/common_runtime/gpu/gpu_device.cc:1720] Found device 12 with properties: \n",
      "pciBusID: 0000:b5:00.0 name: Tesla V100-SXM3-32GB computeCapability: 7.0\n",
      "coreClock: 1.597GHz coreCount: 80 deviceMemorySize: 31.75GiB deviceMemoryBandwidth: 913.62GiB/s\n",
      "2024-10-30 21:44:49.644362: I tensorflow/core/common_runtime/gpu/gpu_device.cc:1720] Found device 13 with properties: \n",
      "pciBusID: 0000:b6:00.0 name: Tesla V100-SXM3-32GB computeCapability: 7.0\n",
      "coreClock: 1.597GHz coreCount: 80 deviceMemorySize: 31.75GiB deviceMemoryBandwidth: 913.62GiB/s\n",
      "2024-10-30 21:44:49.645436: I tensorflow/core/common_runtime/gpu/gpu_device.cc:1720] Found device 14 with properties: \n",
      "pciBusID: 0000:c0:00.0 name: Tesla V100-SXM3-32GB computeCapability: 7.0\n",
      "coreClock: 1.597GHz coreCount: 80 deviceMemorySize: 31.75GiB deviceMemoryBandwidth: 913.62GiB/s\n",
      "2024-10-30 21:44:49.646505: I tensorflow/core/common_runtime/gpu/gpu_device.cc:1720] Found device 15 with properties: \n",
      "pciBusID: 0000:c1:00.0 name: Tesla V100-SXM3-32GB computeCapability: 7.0\n",
      "coreClock: 1.597GHz coreCount: 80 deviceMemorySize: 31.75GiB deviceMemoryBandwidth: 913.62GiB/s\n",
      "2024-10-30 21:44:49.646531: I tensorflow/stream_executor/platform/default/dso_loader.cc:49] Successfully opened dynamic library libcudart.so.11.0\n",
      "2024-10-30 21:44:49.654312: I tensorflow/stream_executor/platform/default/dso_loader.cc:49] Successfully opened dynamic library libcublas.so.11\n",
      "2024-10-30 21:44:49.654376: I tensorflow/stream_executor/platform/default/dso_loader.cc:49] Successfully opened dynamic library libcublasLt.so.11\n",
      "2024-10-30 21:44:49.656950: I tensorflow/stream_executor/platform/default/dso_loader.cc:49] Successfully opened dynamic library libcufft.so.10\n",
      "2024-10-30 21:44:49.659724: I tensorflow/stream_executor/platform/default/dso_loader.cc:49] Successfully opened dynamic library libcurand.so.10\n",
      "2024-10-30 21:44:49.659843: W tensorflow/stream_executor/platform/default/dso_loader.cc:60] Could not load dynamic library 'libcusolver.so.10'; dlerror: libcusolver.so.10: cannot open shared object file: No such file or directory; LD_LIBRARY_PATH: /usr/local/cuda-11.1/lib64:\n",
      "2024-10-30 21:44:49.661081: I tensorflow/stream_executor/platform/default/dso_loader.cc:49] Successfully opened dynamic library libcusparse.so.11\n",
      "2024-10-30 21:44:49.661236: I tensorflow/stream_executor/platform/default/dso_loader.cc:49] Successfully opened dynamic library libcudnn.so.8\n",
      "2024-10-30 21:44:49.661246: W tensorflow/core/common_runtime/gpu/gpu_device.cc:1757] Cannot dlopen some GPU libraries. Please make sure the missing libraries mentioned above are installed properly if you would like to use GPU. Follow the guide at https://www.tensorflow.org/install/gpu for how to download and setup the required libraries for your platform.\n",
      "Skipping registering GPU devices...\n",
      "2024-10-30 21:44:49.661841: I tensorflow/core/platform/cpu_feature_guard.cc:142] This TensorFlow binary is optimized with oneAPI Deep Neural Network Library (oneDNN) to use the following CPU instructions in performance-critical operations:  AVX2 AVX512F FMA\n",
      "To enable them in other operations, rebuild TensorFlow with the appropriate compiler flags.\n",
      "2024-10-30 21:44:49.665098: I tensorflow/compiler/jit/xla_gpu_device.cc:99] Not creating XLA devices, tf_xla_enable_xla_devices not set\n",
      "2024-10-30 21:44:49.665122: I tensorflow/core/common_runtime/gpu/gpu_device.cc:1261] Device interconnect StreamExecutor with strength 1 edge matrix:\n",
      "2024-10-30 21:44:49.665128: I tensorflow/core/common_runtime/gpu/gpu_device.cc:1267]      \n"
     ]
    }
   ],
   "source": [
    "# Instantiate the pipeline with the model of choice\n",
    "violence_pipe = pipeline(model=args.model_ckpt, \n",
    "                         device=args.cuda_device,\n",
    "                         return_all_scores=True)"
   ]
  },
  {
   "cell_type": "code",
   "execution_count": 4,
   "id": "d55b2e75",
   "metadata": {},
   "outputs": [],
   "source": [
    "# Recall that the test dataset has 2.329.158 observations. The inference is done in batches to exploit GPU resources\n",
    "ds_tok = load_from_disk(args.dataset_name)"
   ]
  },
  {
   "cell_type": "code",
   "execution_count": 5,
   "id": "e621f316",
   "metadata": {},
   "outputs": [
    {
     "data": {
      "application/vnd.jupyter.widget-view+json": {
       "model_id": "58c41cc1a11043aa8ddfd3e78a09eddb",
       "version_major": 2,
       "version_minor": 0
      },
      "text/plain": [
       "  0%|          | 0/2329158 [00:00<?, ?it/s]"
      ]
     },
     "metadata": {},
     "output_type": "display_data"
    }
   ],
   "source": [
    "preds = []\n",
    "\n",
    "for i, outputs in enumerate(tqdm(violence_pipe(KeyDataset(ds_tok['test'], \"text\"), batch_size=args.batch_size,\n",
    "                                              truncation=True),\n",
    "                                 total=len(ds_tok['test']))):\n",
    "    preds.append(outputs)"
   ]
  },
  {
   "cell_type": "code",
   "execution_count": 6,
   "id": "468e2c30",
   "metadata": {},
   "outputs": [],
   "source": [
    "processed_data = []\n",
    "for pred in preds:\n",
    "    scores = {item['label']: item['score'] for item in pred}\n",
    "    processed_data.append(scores)"
   ]
  },
  {
   "cell_type": "code",
   "execution_count": 7,
   "id": "dd0dfd8e",
   "metadata": {},
   "outputs": [
    {
     "data": {
      "text/html": [
       "<div>\n",
       "<style scoped>\n",
       "    .dataframe tbody tr th:only-of-type {\n",
       "        vertical-align: middle;\n",
       "    }\n",
       "\n",
       "    .dataframe tbody tr th {\n",
       "        vertical-align: top;\n",
       "    }\n",
       "\n",
       "    .dataframe thead th {\n",
       "        text-align: right;\n",
       "    }\n",
       "</style>\n",
       "<table border=\"1\" class=\"dataframe\">\n",
       "  <thead>\n",
       "    <tr style=\"text-align: right;\">\n",
       "      <th></th>\n",
       "      <th>post7geo10</th>\n",
       "      <th>post7geo30</th>\n",
       "      <th>post7geo50</th>\n",
       "      <th>pre7geo10</th>\n",
       "      <th>pre7geo30</th>\n",
       "      <th>pre7geo50</th>\n",
       "    </tr>\n",
       "  </thead>\n",
       "  <tbody>\n",
       "    <tr>\n",
       "      <th>0</th>\n",
       "      <td>0.226729</td>\n",
       "      <td>0.327225</td>\n",
       "      <td>0.441367</td>\n",
       "      <td>0.219655</td>\n",
       "      <td>0.319141</td>\n",
       "      <td>0.428590</td>\n",
       "    </tr>\n",
       "    <tr>\n",
       "      <th>1</th>\n",
       "      <td>0.293337</td>\n",
       "      <td>0.432246</td>\n",
       "      <td>0.528523</td>\n",
       "      <td>0.447481</td>\n",
       "      <td>0.553608</td>\n",
       "      <td>0.688987</td>\n",
       "    </tr>\n",
       "    <tr>\n",
       "      <th>2</th>\n",
       "      <td>0.387055</td>\n",
       "      <td>0.544625</td>\n",
       "      <td>0.583162</td>\n",
       "      <td>0.392447</td>\n",
       "      <td>0.559619</td>\n",
       "      <td>0.588813</td>\n",
       "    </tr>\n",
       "    <tr>\n",
       "      <th>3</th>\n",
       "      <td>0.035168</td>\n",
       "      <td>0.038399</td>\n",
       "      <td>0.056211</td>\n",
       "      <td>0.041120</td>\n",
       "      <td>0.046594</td>\n",
       "      <td>0.070071</td>\n",
       "    </tr>\n",
       "    <tr>\n",
       "      <th>4</th>\n",
       "      <td>0.523534</td>\n",
       "      <td>0.921772</td>\n",
       "      <td>0.950220</td>\n",
       "      <td>0.902491</td>\n",
       "      <td>0.977367</td>\n",
       "      <td>0.988067</td>\n",
       "    </tr>\n",
       "    <tr>\n",
       "      <th>...</th>\n",
       "      <td>...</td>\n",
       "      <td>...</td>\n",
       "      <td>...</td>\n",
       "      <td>...</td>\n",
       "      <td>...</td>\n",
       "      <td>...</td>\n",
       "    </tr>\n",
       "    <tr>\n",
       "      <th>2329153</th>\n",
       "      <td>0.233221</td>\n",
       "      <td>0.262610</td>\n",
       "      <td>0.517162</td>\n",
       "      <td>0.212350</td>\n",
       "      <td>0.244978</td>\n",
       "      <td>0.467469</td>\n",
       "    </tr>\n",
       "    <tr>\n",
       "      <th>2329154</th>\n",
       "      <td>0.344274</td>\n",
       "      <td>0.470150</td>\n",
       "      <td>0.588610</td>\n",
       "      <td>0.358045</td>\n",
       "      <td>0.453263</td>\n",
       "      <td>0.578047</td>\n",
       "    </tr>\n",
       "    <tr>\n",
       "      <th>2329155</th>\n",
       "      <td>0.410559</td>\n",
       "      <td>0.470784</td>\n",
       "      <td>0.603613</td>\n",
       "      <td>0.320064</td>\n",
       "      <td>0.375958</td>\n",
       "      <td>0.494749</td>\n",
       "    </tr>\n",
       "    <tr>\n",
       "      <th>2329156</th>\n",
       "      <td>0.045838</td>\n",
       "      <td>0.062574</td>\n",
       "      <td>0.111670</td>\n",
       "      <td>0.047550</td>\n",
       "      <td>0.065505</td>\n",
       "      <td>0.121237</td>\n",
       "    </tr>\n",
       "    <tr>\n",
       "      <th>2329157</th>\n",
       "      <td>0.743424</td>\n",
       "      <td>0.785664</td>\n",
       "      <td>0.801675</td>\n",
       "      <td>0.193282</td>\n",
       "      <td>0.231416</td>\n",
       "      <td>0.225600</td>\n",
       "    </tr>\n",
       "  </tbody>\n",
       "</table>\n",
       "<p>2329158 rows × 6 columns</p>\n",
       "</div>"
      ],
      "text/plain": [
       "         post7geo10  post7geo30  post7geo50  pre7geo10  pre7geo30  pre7geo50\n",
       "0          0.226729    0.327225    0.441367   0.219655   0.319141   0.428590\n",
       "1          0.293337    0.432246    0.528523   0.447481   0.553608   0.688987\n",
       "2          0.387055    0.544625    0.583162   0.392447   0.559619   0.588813\n",
       "3          0.035168    0.038399    0.056211   0.041120   0.046594   0.070071\n",
       "4          0.523534    0.921772    0.950220   0.902491   0.977367   0.988067\n",
       "...             ...         ...         ...        ...        ...        ...\n",
       "2329153    0.233221    0.262610    0.517162   0.212350   0.244978   0.467469\n",
       "2329154    0.344274    0.470150    0.588610   0.358045   0.453263   0.578047\n",
       "2329155    0.410559    0.470784    0.603613   0.320064   0.375958   0.494749\n",
       "2329156    0.045838    0.062574    0.111670   0.047550   0.065505   0.121237\n",
       "2329157    0.743424    0.785664    0.801675   0.193282   0.231416   0.225600\n",
       "\n",
       "[2329158 rows x 6 columns]"
      ]
     },
     "execution_count": 7,
     "metadata": {},
     "output_type": "execute_result"
    }
   ],
   "source": [
    "# Convert to dataframe\n",
    "df = pd.DataFrame(processed_data)\n",
    "df"
   ]
  },
  {
   "cell_type": "code",
   "execution_count": 8,
   "id": "9c0a2574",
   "metadata": {},
   "outputs": [
    {
     "data": {
      "text/html": [
       "<div>\n",
       "<style scoped>\n",
       "    .dataframe tbody tr th:only-of-type {\n",
       "        vertical-align: middle;\n",
       "    }\n",
       "\n",
       "    .dataframe tbody tr th {\n",
       "        vertical-align: top;\n",
       "    }\n",
       "\n",
       "    .dataframe thead th {\n",
       "        text-align: right;\n",
       "    }\n",
       "</style>\n",
       "<table border=\"1\" class=\"dataframe\">\n",
       "  <thead>\n",
       "    <tr style=\"text-align: right;\">\n",
       "      <th></th>\n",
       "      <th>post7geo10</th>\n",
       "      <th>post7geo30</th>\n",
       "      <th>post7geo50</th>\n",
       "      <th>pre7geo10</th>\n",
       "      <th>pre7geo30</th>\n",
       "      <th>pre7geo50</th>\n",
       "    </tr>\n",
       "  </thead>\n",
       "  <tbody>\n",
       "    <tr>\n",
       "      <th>mean</th>\n",
       "      <td>0.345729</td>\n",
       "      <td>0.457622</td>\n",
       "      <td>0.576199</td>\n",
       "      <td>0.34781</td>\n",
       "      <td>0.445743</td>\n",
       "      <td>0.563775</td>\n",
       "    </tr>\n",
       "  </tbody>\n",
       "</table>\n",
       "</div>"
      ],
      "text/plain": [
       "      post7geo10  post7geo30  post7geo50  pre7geo10  pre7geo30  pre7geo50\n",
       "mean    0.345729    0.457622    0.576199    0.34781   0.445743   0.563775"
      ]
     },
     "execution_count": 8,
     "metadata": {},
     "output_type": "execute_result"
    }
   ],
   "source": [
    "mean_preds = df.mean().to_frame(name='mean').T\n",
    "mean_preds "
   ]
  },
  {
   "cell_type": "code",
   "execution_count": 9,
   "id": "ec67a4d9",
   "metadata": {},
   "outputs": [
    {
     "data": {
      "text/html": [
       "<div>\n",
       "<style scoped>\n",
       "    .dataframe tbody tr th:only-of-type {\n",
       "        vertical-align: middle;\n",
       "    }\n",
       "\n",
       "    .dataframe tbody tr th {\n",
       "        vertical-align: top;\n",
       "    }\n",
       "\n",
       "    .dataframe thead th {\n",
       "        text-align: right;\n",
       "    }\n",
       "</style>\n",
       "<table border=\"1\" class=\"dataframe\">\n",
       "  <thead>\n",
       "    <tr style=\"text-align: right;\">\n",
       "      <th></th>\n",
       "      <th>post7geo10</th>\n",
       "      <th>post7geo30</th>\n",
       "      <th>post7geo50</th>\n",
       "      <th>pre7geo10</th>\n",
       "      <th>pre7geo30</th>\n",
       "      <th>pre7geo50</th>\n",
       "    </tr>\n",
       "  </thead>\n",
       "  <tbody>\n",
       "    <tr>\n",
       "      <th>mean</th>\n",
       "      <td>0</td>\n",
       "      <td>0</td>\n",
       "      <td>1</td>\n",
       "      <td>0</td>\n",
       "      <td>0</td>\n",
       "      <td>1</td>\n",
       "    </tr>\n",
       "  </tbody>\n",
       "</table>\n",
       "</div>"
      ],
      "text/plain": [
       "      post7geo10  post7geo30  post7geo50  pre7geo10  pre7geo30  pre7geo50\n",
       "mean           0           0           1          0          0          1"
      ]
     },
     "execution_count": 9,
     "metadata": {},
     "output_type": "execute_result"
    }
   ],
   "source": [
    "mean_preds_th = (mean_preds >= 0.5).astype(int)\n",
    "mean_preds_th"
   ]
  },
  {
   "cell_type": "code",
   "execution_count": null,
   "id": "cc245cae",
   "metadata": {},
   "outputs": [],
   "source": []
  }
 ],
 "metadata": {
  "kernelspec": {
   "display_name": "Python 3 (ipykernel)",
   "language": "python",
   "name": "python3"
  },
  "language_info": {
   "codemirror_mode": {
    "name": "ipython",
    "version": 3
   },
   "file_extension": ".py",
   "mimetype": "text/x-python",
   "name": "python",
   "nbconvert_exporter": "python",
   "pygments_lexer": "ipython3",
   "version": "3.8.3"
  }
 },
 "nbformat": 4,
 "nbformat_minor": 5
}
