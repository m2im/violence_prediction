{
 "cells": [
  {
   "cell_type": "code",
   "execution_count": 1,
   "id": "9d89b670-f565-4457-aef8-3ca49e5813fa",
   "metadata": {},
   "outputs": [
    {
     "name": "stderr",
     "output_type": "stream",
     "text": [
      "2024-10-22 18:26:28.187666: I tensorflow/stream_executor/platform/default/dso_loader.cc:49] Successfully opened dynamic library libcudart.so.11.0\n"
     ]
    }
   ],
   "source": [
    "import torch\n",
    "import transformers\n",
    "import pandas as pd\n",
    "import warnings\n",
    "\n",
    "from transformers import pipeline\n",
    "from transformers import AutoTokenizer, AutoModelForSequenceClassification\n",
    "from transformers import DataCollatorWithPadding\n",
    "from transformers.pipelines.pt_utils import KeyDataset\n",
    "from datasets import load_from_disk\n",
    "from torch.utils.data import DataLoader\n",
    "from tqdm.auto import tqdm\n",
    "from argparse import Namespace"
   ]
  },
  {
   "cell_type": "code",
   "execution_count": 2,
   "id": "4e93d6fc-f5a8-4c57-abda-607f9af89687",
   "metadata": {},
   "outputs": [],
   "source": [
    "# Options for models in the hub\n",
    "# m2im/XLMT-T_finetuned_violence_twitter\n",
    "# m2im/smallLabse_finetuned_twitter\n",
    "# m2im/labse_finetuned_twitter\n",
    "\n",
    "# Options for path_to_model_on_disk\n",
    "# /home/mmendieta/labse_finetuned_twitter/\n",
    "# /data3/mmendieta/models/xlmt_finetuned_twitter\n",
    "# /data3/mmendieta/models/smallLabse_finetuned_twitter\n",
    "\n",
    "config = {\n",
    "    \"cuda_device\": 14,\n",
    "    \"path_to_model_on_disk\": \"/home/mmendieta/xlmt_finetuned_twitter/\", \n",
    "    \"model_ckpt\": \"m2im/XLM-T_finetuned_violence_twitter\",\n",
    "    \"max_length\": 32,\n",
    "    \"dataset_name\": \"/data3/mmendieta/Violence_data/geo_corpus.0.0.1_tok_ds_xlmt\"\n",
    "}\n",
    "\n",
    "args = Namespace(**config)"
   ]
  },
  {
   "cell_type": "markdown",
   "id": "55ea152c",
   "metadata": {},
   "source": [
    "# 1. Instantiate the required pipeline\n",
    "Choose of the three pipelines of interest. The XLM-T pipeline is the best performing model."
   ]
  },
  {
   "cell_type": "markdown",
   "id": "26145bf4",
   "metadata": {},
   "source": [
    "### LaBSE pipeline"
   ]
  },
  {
   "cell_type": "code",
   "execution_count": null,
   "id": "f8fafc2b-9979-402a-94a3-ff14109e7ec4",
   "metadata": {},
   "outputs": [],
   "source": [
    "violence_pipe = pipeline(\"text-classification\",\n",
    "                         model=\"m2im/labse_finetuned_twitter\", \n",
    "                         device=args.cuda_device,\n",
    "                         return_all_scores=True)"
   ]
  },
  {
   "cell_type": "markdown",
   "id": "62d76bf8",
   "metadata": {},
   "source": [
    "### small-LaBSE pipeline"
   ]
  },
  {
   "cell_type": "code",
   "execution_count": null,
   "id": "87d088c0",
   "metadata": {},
   "outputs": [],
   "source": [
    "violence_pipe = pipeline(model=\"m2im/smallLabse_finetuned_twitter\", \n",
    "                         device=args.cuda_device,\n",
    "                         return_all_scores=True)"
   ]
  },
  {
   "cell_type": "markdown",
   "id": "ea9a818c",
   "metadata": {},
   "source": [
    "### XLM-T pipeline"
   ]
  },
  {
   "cell_type": "code",
   "execution_count": 4,
   "id": "43311793",
   "metadata": {},
   "outputs": [
    {
     "data": {
      "application/vnd.jupyter.widget-view+json": {
       "model_id": "e93cb5c768a543949fbad6a6369764de",
       "version_major": 2,
       "version_minor": 0
      },
      "text/plain": [
       "Downloading:   0%|          | 0.00/1.34k [00:00<?, ?B/s]"
      ]
     },
     "metadata": {},
     "output_type": "display_data"
    }
   ],
   "source": [
    "violence_pipe = pipeline(model=\"m2im/XLM-T_finetuned_violence_twitter\", \n",
    "                         device=args.cuda_device,\n",
    "                         return_all_scores=True)"
   ]
  },
  {
   "cell_type": "code",
   "execution_count": 5,
   "id": "d4414c00",
   "metadata": {},
   "outputs": [],
   "source": [
    "# test the pipeline. Use a short text just like you would do in a twitter. \n",
    "# Keep in mind that we are not doing any text preprocessing for this test case.\n",
    "text = \"today is a sunny day\"\n",
    "outputs = violence_pipe(text)"
   ]
  },
  {
   "cell_type": "code",
   "execution_count": 6,
   "id": "adb99b84",
   "metadata": {},
   "outputs": [
    {
     "data": {
      "text/html": [
       "<div>\n",
       "<style scoped>\n",
       "    .dataframe tbody tr th:only-of-type {\n",
       "        vertical-align: middle;\n",
       "    }\n",
       "\n",
       "    .dataframe tbody tr th {\n",
       "        vertical-align: top;\n",
       "    }\n",
       "\n",
       "    .dataframe thead th {\n",
       "        text-align: right;\n",
       "    }\n",
       "</style>\n",
       "<table border=\"1\" class=\"dataframe\">\n",
       "  <thead>\n",
       "    <tr style=\"text-align: right;\">\n",
       "      <th></th>\n",
       "      <th>label</th>\n",
       "      <th>score</th>\n",
       "    </tr>\n",
       "  </thead>\n",
       "  <tbody>\n",
       "    <tr>\n",
       "      <th>0</th>\n",
       "      <td>post7geo10</td>\n",
       "      <td>0.225355</td>\n",
       "    </tr>\n",
       "    <tr>\n",
       "      <th>1</th>\n",
       "      <td>post7geo30</td>\n",
       "      <td>0.298239</td>\n",
       "    </tr>\n",
       "    <tr>\n",
       "      <th>2</th>\n",
       "      <td>post7geo50</td>\n",
       "      <td>0.528795</td>\n",
       "    </tr>\n",
       "    <tr>\n",
       "      <th>3</th>\n",
       "      <td>pre7geo10</td>\n",
       "      <td>0.198816</td>\n",
       "    </tr>\n",
       "    <tr>\n",
       "      <th>4</th>\n",
       "      <td>pre7geo30</td>\n",
       "      <td>0.270994</td>\n",
       "    </tr>\n",
       "    <tr>\n",
       "      <th>5</th>\n",
       "      <td>pre7geo50</td>\n",
       "      <td>0.481664</td>\n",
       "    </tr>\n",
       "  </tbody>\n",
       "</table>\n",
       "</div>"
      ],
      "text/plain": [
       "        label     score\n",
       "0  post7geo10  0.225355\n",
       "1  post7geo30  0.298239\n",
       "2  post7geo50  0.528795\n",
       "3   pre7geo10  0.198816\n",
       "4   pre7geo30  0.270994\n",
       "5   pre7geo50  0.481664"
      ]
     },
     "execution_count": 6,
     "metadata": {},
     "output_type": "execute_result"
    }
   ],
   "source": [
    "pd.DataFrame(outputs[0])"
   ]
  },
  {
   "cell_type": "code",
   "execution_count": 7,
   "id": "d85c0748",
   "metadata": {},
   "outputs": [
    {
     "data": {
      "text/plain": [
       "[[{'label': 'post7geo10', 'score': 0.22535526752471924},\n",
       "  {'label': 'post7geo30', 'score': 0.2982390224933624},\n",
       "  {'label': 'post7geo50', 'score': 0.5287949442863464},\n",
       "  {'label': 'pre7geo10', 'score': 0.19881635904312134},\n",
       "  {'label': 'pre7geo30', 'score': 0.2709938883781433},\n",
       "  {'label': 'pre7geo50', 'score': 0.48166388273239136}]]"
      ]
     },
     "execution_count": 7,
     "metadata": {},
     "output_type": "execute_result"
    }
   ],
   "source": [
    "outputs"
   ]
  },
  {
   "cell_type": "markdown",
   "id": "b8c3e04d",
   "metadata": {},
   "source": [
    "# 2. Use the pipeline to make predictions with the violence dataset"
   ]
  },
  {
   "cell_type": "markdown",
   "id": "345dbf47",
   "metadata": {},
   "source": [
    "### Load the tokenized dataset to disk\n",
    "This is the tokenized dataset that includes the column *text*"
   ]
  },
  {
   "cell_type": "code",
   "execution_count": 8,
   "id": "d6b375c3",
   "metadata": {},
   "outputs": [],
   "source": [
    "ds_tok = load_from_disk(\"/data3/mmendieta/Violence_data/geo_corpus.0.0.1_tok_ds_xlmt_with_text\")"
   ]
  },
  {
   "cell_type": "code",
   "execution_count": 9,
   "id": "e6997ecf",
   "metadata": {},
   "outputs": [],
   "source": [
    "# Select a subsmample for testing purposes\n",
    "test_tokenized_ds_sample = ds_tok[\"test\"].shuffle().select(range(100))"
   ]
  },
  {
   "cell_type": "markdown",
   "id": "376ad133",
   "metadata": {},
   "source": [
    "### a. Single sample (pipeline)"
   ]
  },
  {
   "cell_type": "code",
   "execution_count": 10,
   "id": "9dbf2e7e",
   "metadata": {},
   "outputs": [
    {
     "data": {
      "text/plain": [
       "'No Smh ok ukilala lala salama ...'"
      ]
     },
     "execution_count": 10,
     "metadata": {},
     "output_type": "execute_result"
    }
   ],
   "source": [
    "sample = test_tokenized_ds_sample[10]['text']\n",
    "sample"
   ]
  },
  {
   "cell_type": "code",
   "execution_count": 11,
   "id": "f9c8ee34",
   "metadata": {},
   "outputs": [
    {
     "data": {
      "text/html": [
       "<div>\n",
       "<style scoped>\n",
       "    .dataframe tbody tr th:only-of-type {\n",
       "        vertical-align: middle;\n",
       "    }\n",
       "\n",
       "    .dataframe tbody tr th {\n",
       "        vertical-align: top;\n",
       "    }\n",
       "\n",
       "    .dataframe thead th {\n",
       "        text-align: right;\n",
       "    }\n",
       "</style>\n",
       "<table border=\"1\" class=\"dataframe\">\n",
       "  <thead>\n",
       "    <tr style=\"text-align: right;\">\n",
       "      <th></th>\n",
       "      <th>label</th>\n",
       "      <th>score</th>\n",
       "    </tr>\n",
       "  </thead>\n",
       "  <tbody>\n",
       "    <tr>\n",
       "      <th>0</th>\n",
       "      <td>post7geo10</td>\n",
       "      <td>0.470881</td>\n",
       "    </tr>\n",
       "    <tr>\n",
       "      <th>1</th>\n",
       "      <td>post7geo30</td>\n",
       "      <td>0.505947</td>\n",
       "    </tr>\n",
       "    <tr>\n",
       "      <th>2</th>\n",
       "      <td>post7geo50</td>\n",
       "      <td>0.507277</td>\n",
       "    </tr>\n",
       "    <tr>\n",
       "      <th>3</th>\n",
       "      <td>pre7geo10</td>\n",
       "      <td>0.517721</td>\n",
       "    </tr>\n",
       "    <tr>\n",
       "      <th>4</th>\n",
       "      <td>pre7geo30</td>\n",
       "      <td>0.545605</td>\n",
       "    </tr>\n",
       "    <tr>\n",
       "      <th>5</th>\n",
       "      <td>pre7geo50</td>\n",
       "      <td>0.546617</td>\n",
       "    </tr>\n",
       "  </tbody>\n",
       "</table>\n",
       "</div>"
      ],
      "text/plain": [
       "        label     score\n",
       "0  post7geo10  0.470881\n",
       "1  post7geo30  0.505947\n",
       "2  post7geo50  0.507277\n",
       "3   pre7geo10  0.517721\n",
       "4   pre7geo30  0.545605\n",
       "5   pre7geo50  0.546617"
      ]
     },
     "execution_count": 11,
     "metadata": {},
     "output_type": "execute_result"
    }
   ],
   "source": [
    "outputs = violence_pipe(sample)\n",
    "pd.DataFrame(outputs[0])"
   ]
  },
  {
   "cell_type": "markdown",
   "id": "d4086d19",
   "metadata": {},
   "source": [
    "### b. Multiple samples pipeline - predictions only\n",
    "Make sure to select the apropriate batch size"
   ]
  },
  {
   "cell_type": "code",
   "execution_count": 13,
   "id": "3e73a5de",
   "metadata": {},
   "outputs": [
    {
     "data": {
      "application/vnd.jupyter.widget-view+json": {
       "model_id": "5ca90eaf41e84ba8a056c610f16060a7",
       "version_major": 2,
       "version_minor": 0
      },
      "text/plain": [
       "  0%|          | 0/100 [00:00<?, ?it/s]"
      ]
     },
     "metadata": {},
     "output_type": "display_data"
    }
   ],
   "source": [
    "# Hide the large number of deprecation warnings\n",
    "warnings.filterwarnings(\"ignore\", category=DeprecationWarning)\n",
    "preds = []\n",
    "\n",
    "for i, outputs in enumerate(tqdm(violence_pipe(KeyDataset(test_tokenized_ds_sample, \"text\"), batch_size=8,\n",
    "                                              truncation=True),\n",
    "                                 total=len(test_tokenized_ds_sample))):\n",
    "    preds.append(outputs)\n",
    "                        "
   ]
  },
  {
   "cell_type": "code",
   "execution_count": 14,
   "id": "2823448a",
   "metadata": {},
   "outputs": [],
   "source": [
    "processed_data = []\n",
    "for pred in preds:\n",
    "    scores = {item['label']: item['score'] for item in pred}\n",
    "    processed_data.append(scores)"
   ]
  },
  {
   "cell_type": "code",
   "execution_count": 15,
   "id": "140ad059",
   "metadata": {},
   "outputs": [
    {
     "data": {
      "text/html": [
       "<div>\n",
       "<style scoped>\n",
       "    .dataframe tbody tr th:only-of-type {\n",
       "        vertical-align: middle;\n",
       "    }\n",
       "\n",
       "    .dataframe tbody tr th {\n",
       "        vertical-align: top;\n",
       "    }\n",
       "\n",
       "    .dataframe thead th {\n",
       "        text-align: right;\n",
       "    }\n",
       "</style>\n",
       "<table border=\"1\" class=\"dataframe\">\n",
       "  <thead>\n",
       "    <tr style=\"text-align: right;\">\n",
       "      <th></th>\n",
       "      <th>post7geo10</th>\n",
       "      <th>post7geo30</th>\n",
       "      <th>post7geo50</th>\n",
       "      <th>pre7geo10</th>\n",
       "      <th>pre7geo30</th>\n",
       "      <th>pre7geo50</th>\n",
       "    </tr>\n",
       "  </thead>\n",
       "  <tbody>\n",
       "    <tr>\n",
       "      <th>0</th>\n",
       "      <td>0.427101</td>\n",
       "      <td>0.539089</td>\n",
       "      <td>0.638307</td>\n",
       "      <td>0.355822</td>\n",
       "      <td>0.426994</td>\n",
       "      <td>0.511917</td>\n",
       "    </tr>\n",
       "    <tr>\n",
       "      <th>1</th>\n",
       "      <td>0.356495</td>\n",
       "      <td>0.457299</td>\n",
       "      <td>0.469535</td>\n",
       "      <td>0.437356</td>\n",
       "      <td>0.554138</td>\n",
       "      <td>0.559007</td>\n",
       "    </tr>\n",
       "    <tr>\n",
       "      <th>2</th>\n",
       "      <td>0.349793</td>\n",
       "      <td>0.467913</td>\n",
       "      <td>0.588818</td>\n",
       "      <td>0.380808</td>\n",
       "      <td>0.472066</td>\n",
       "      <td>0.602454</td>\n",
       "    </tr>\n",
       "    <tr>\n",
       "      <th>3</th>\n",
       "      <td>0.380328</td>\n",
       "      <td>0.475288</td>\n",
       "      <td>0.569262</td>\n",
       "      <td>0.406602</td>\n",
       "      <td>0.513477</td>\n",
       "      <td>0.613990</td>\n",
       "    </tr>\n",
       "    <tr>\n",
       "      <th>4</th>\n",
       "      <td>0.375031</td>\n",
       "      <td>0.467088</td>\n",
       "      <td>0.603675</td>\n",
       "      <td>0.352403</td>\n",
       "      <td>0.441746</td>\n",
       "      <td>0.580952</td>\n",
       "    </tr>\n",
       "    <tr>\n",
       "      <th>...</th>\n",
       "      <td>...</td>\n",
       "      <td>...</td>\n",
       "      <td>...</td>\n",
       "      <td>...</td>\n",
       "      <td>...</td>\n",
       "      <td>...</td>\n",
       "    </tr>\n",
       "    <tr>\n",
       "      <th>95</th>\n",
       "      <td>0.103036</td>\n",
       "      <td>0.142469</td>\n",
       "      <td>0.406985</td>\n",
       "      <td>0.147355</td>\n",
       "      <td>0.220874</td>\n",
       "      <td>0.871733</td>\n",
       "    </tr>\n",
       "    <tr>\n",
       "      <th>96</th>\n",
       "      <td>0.006811</td>\n",
       "      <td>0.075864</td>\n",
       "      <td>0.460971</td>\n",
       "      <td>0.005686</td>\n",
       "      <td>0.066353</td>\n",
       "      <td>0.425883</td>\n",
       "    </tr>\n",
       "    <tr>\n",
       "      <th>97</th>\n",
       "      <td>0.408591</td>\n",
       "      <td>0.531296</td>\n",
       "      <td>0.617614</td>\n",
       "      <td>0.407955</td>\n",
       "      <td>0.522020</td>\n",
       "      <td>0.608210</td>\n",
       "    </tr>\n",
       "    <tr>\n",
       "      <th>98</th>\n",
       "      <td>0.108417</td>\n",
       "      <td>0.186370</td>\n",
       "      <td>0.357110</td>\n",
       "      <td>0.138447</td>\n",
       "      <td>0.223436</td>\n",
       "      <td>0.428629</td>\n",
       "    </tr>\n",
       "    <tr>\n",
       "      <th>99</th>\n",
       "      <td>0.349760</td>\n",
       "      <td>0.493814</td>\n",
       "      <td>0.595613</td>\n",
       "      <td>0.384788</td>\n",
       "      <td>0.500162</td>\n",
       "      <td>0.606845</td>\n",
       "    </tr>\n",
       "  </tbody>\n",
       "</table>\n",
       "<p>100 rows × 6 columns</p>\n",
       "</div>"
      ],
      "text/plain": [
       "    post7geo10  post7geo30  post7geo50  pre7geo10  pre7geo30  pre7geo50\n",
       "0     0.427101    0.539089    0.638307   0.355822   0.426994   0.511917\n",
       "1     0.356495    0.457299    0.469535   0.437356   0.554138   0.559007\n",
       "2     0.349793    0.467913    0.588818   0.380808   0.472066   0.602454\n",
       "3     0.380328    0.475288    0.569262   0.406602   0.513477   0.613990\n",
       "4     0.375031    0.467088    0.603675   0.352403   0.441746   0.580952\n",
       "..         ...         ...         ...        ...        ...        ...\n",
       "95    0.103036    0.142469    0.406985   0.147355   0.220874   0.871733\n",
       "96    0.006811    0.075864    0.460971   0.005686   0.066353   0.425883\n",
       "97    0.408591    0.531296    0.617614   0.407955   0.522020   0.608210\n",
       "98    0.108417    0.186370    0.357110   0.138447   0.223436   0.428629\n",
       "99    0.349760    0.493814    0.595613   0.384788   0.500162   0.606845\n",
       "\n",
       "[100 rows x 6 columns]"
      ]
     },
     "execution_count": 15,
     "metadata": {},
     "output_type": "execute_result"
    }
   ],
   "source": [
    "# Convert to dataframe\n",
    "df = pd.DataFrame(processed_data)\n",
    "df"
   ]
  },
  {
   "cell_type": "code",
   "execution_count": 16,
   "id": "79f9403a",
   "metadata": {},
   "outputs": [
    {
     "data": {
      "text/html": [
       "<div>\n",
       "<style scoped>\n",
       "    .dataframe tbody tr th:only-of-type {\n",
       "        vertical-align: middle;\n",
       "    }\n",
       "\n",
       "    .dataframe tbody tr th {\n",
       "        vertical-align: top;\n",
       "    }\n",
       "\n",
       "    .dataframe thead th {\n",
       "        text-align: right;\n",
       "    }\n",
       "</style>\n",
       "<table border=\"1\" class=\"dataframe\">\n",
       "  <thead>\n",
       "    <tr style=\"text-align: right;\">\n",
       "      <th></th>\n",
       "      <th>post7geo10</th>\n",
       "      <th>post7geo30</th>\n",
       "      <th>post7geo50</th>\n",
       "      <th>pre7geo10</th>\n",
       "      <th>pre7geo30</th>\n",
       "      <th>pre7geo50</th>\n",
       "    </tr>\n",
       "  </thead>\n",
       "  <tbody>\n",
       "    <tr>\n",
       "      <th>mean</th>\n",
       "      <td>0.371763</td>\n",
       "      <td>0.497251</td>\n",
       "      <td>0.609071</td>\n",
       "      <td>0.354458</td>\n",
       "      <td>0.453502</td>\n",
       "      <td>0.550492</td>\n",
       "    </tr>\n",
       "  </tbody>\n",
       "</table>\n",
       "</div>"
      ],
      "text/plain": [
       "      post7geo10  post7geo30  post7geo50  pre7geo10  pre7geo30  pre7geo50\n",
       "mean    0.371763    0.497251    0.609071   0.354458   0.453502   0.550492"
      ]
     },
     "execution_count": 16,
     "metadata": {},
     "output_type": "execute_result"
    }
   ],
   "source": [
    "mean_preds = df.mean().to_frame(name='mean').T\n",
    "mean_preds "
   ]
  },
  {
   "cell_type": "code",
   "execution_count": 17,
   "id": "3b4832f3",
   "metadata": {},
   "outputs": [
    {
     "data": {
      "text/html": [
       "<div>\n",
       "<style scoped>\n",
       "    .dataframe tbody tr th:only-of-type {\n",
       "        vertical-align: middle;\n",
       "    }\n",
       "\n",
       "    .dataframe tbody tr th {\n",
       "        vertical-align: top;\n",
       "    }\n",
       "\n",
       "    .dataframe thead th {\n",
       "        text-align: right;\n",
       "    }\n",
       "</style>\n",
       "<table border=\"1\" class=\"dataframe\">\n",
       "  <thead>\n",
       "    <tr style=\"text-align: right;\">\n",
       "      <th></th>\n",
       "      <th>post7geo10</th>\n",
       "      <th>post7geo30</th>\n",
       "      <th>post7geo50</th>\n",
       "      <th>pre7geo10</th>\n",
       "      <th>pre7geo30</th>\n",
       "      <th>pre7geo50</th>\n",
       "    </tr>\n",
       "  </thead>\n",
       "  <tbody>\n",
       "    <tr>\n",
       "      <th>mean</th>\n",
       "      <td>0</td>\n",
       "      <td>0</td>\n",
       "      <td>1</td>\n",
       "      <td>0</td>\n",
       "      <td>0</td>\n",
       "      <td>1</td>\n",
       "    </tr>\n",
       "  </tbody>\n",
       "</table>\n",
       "</div>"
      ],
      "text/plain": [
       "      post7geo10  post7geo30  post7geo50  pre7geo10  pre7geo30  pre7geo50\n",
       "mean           0           0           1          0          0          1"
      ]
     },
     "execution_count": 17,
     "metadata": {},
     "output_type": "execute_result"
    }
   ],
   "source": [
    "mean_preds_th = (mean_preds >= 0.5).astype(int)\n",
    "mean_preds_th"
   ]
  },
  {
   "cell_type": "markdown",
   "id": "802a2ec6",
   "metadata": {},
   "source": [
    "### c. Multiple sample pipeline (visualizing text, true labels, and predictions)\n",
    "Make sure to select the apropriate batch size."
   ]
  },
  {
   "cell_type": "code",
   "execution_count": 18,
   "id": "1165d739",
   "metadata": {},
   "outputs": [
    {
     "data": {
      "application/vnd.jupyter.widget-view+json": {
       "model_id": "a44011edeb124ace95b0efa150c94b4e",
       "version_major": 2,
       "version_minor": 0
      },
      "text/plain": [
       "  0%|          | 0/100 [00:00<?, ?it/s]"
      ]
     },
     "metadata": {},
     "output_type": "display_data"
    }
   ],
   "source": [
    "# Hide the large number of deprecation warnings\n",
    "warnings.filterwarnings(\"ignore\", category=DeprecationWarning)\n",
    "preds = []\n",
    "\n",
    "for i, outputs in enumerate(tqdm(violence_pipe(KeyDataset(test_tokenized_ds_sample, \"text\"), batch_size=10,\n",
    "                                              truncation=True),\n",
    "                                 total=len(test_tokenized_ds_sample))):\n",
    "    text = test_tokenized_ds_sample[i]['text']\n",
    "    labels = test_tokenized_ds_sample[0]['labels'].tolist()\n",
    "    preds.append({\n",
    "        'text': text,\n",
    "        'labels': labels,\n",
    "        'outputs': outputs\n",
    "    })"
   ]
  },
  {
   "cell_type": "code",
   "execution_count": null,
   "id": "ac77034a",
   "metadata": {},
   "outputs": [],
   "source": [
    "preds"
   ]
  },
  {
   "cell_type": "code",
   "execution_count": 19,
   "id": "f6d9b4a1",
   "metadata": {},
   "outputs": [],
   "source": [
    "processed_data = []\n",
    "for pred in preds:\n",
    "    row = {\n",
    "        'text': pred['text'],\n",
    "        'true_labels': pred['labels'],\n",
    "    }\n",
    "    # Add each of the six pedicted scores as separate columns\n",
    "    row['post7geo10'] = pred['outputs'][0]['score']\n",
    "    row['post7geo30'] = pred['outputs'][1]['score']\n",
    "    row['post7geo50'] = pred['outputs'][2]['score']\n",
    "    row['pre7geo10'] = pred['outputs'][3]['score']\n",
    "    row['pre7geo30'] = pred['outputs'][4]['score']\n",
    "    row['pre7geo50'] = pred['outputs'][5]['score']\n",
    "    \n",
    "    processed_data.append(row)\n",
    "    \n",
    "# Convert to DataFrame\n",
    "df = pd.DataFrame(processed_data)\n",
    "    "
   ]
  },
  {
   "cell_type": "code",
   "execution_count": 20,
   "id": "e41ae8b7",
   "metadata": {},
   "outputs": [
    {
     "data": {
      "text/html": [
       "<div>\n",
       "<style scoped>\n",
       "    .dataframe tbody tr th:only-of-type {\n",
       "        vertical-align: middle;\n",
       "    }\n",
       "\n",
       "    .dataframe tbody tr th {\n",
       "        vertical-align: top;\n",
       "    }\n",
       "\n",
       "    .dataframe thead th {\n",
       "        text-align: right;\n",
       "    }\n",
       "</style>\n",
       "<table border=\"1\" class=\"dataframe\">\n",
       "  <thead>\n",
       "    <tr style=\"text-align: right;\">\n",
       "      <th></th>\n",
       "      <th>text</th>\n",
       "      <th>true_labels</th>\n",
       "      <th>post7geo10</th>\n",
       "      <th>post7geo30</th>\n",
       "      <th>post7geo50</th>\n",
       "      <th>pre7geo10</th>\n",
       "      <th>pre7geo30</th>\n",
       "      <th>pre7geo50</th>\n",
       "    </tr>\n",
       "  </thead>\n",
       "  <tbody>\n",
       "    <tr>\n",
       "      <th>60</th>\n",
       "      <td>como lo enfrentas??</td>\n",
       "      <td>[0.0, 0.0, 0.0, 0.0, 0.0, 0.0]</td>\n",
       "      <td>0.349950</td>\n",
       "      <td>0.455875</td>\n",
       "      <td>0.551612</td>\n",
       "      <td>0.370866</td>\n",
       "      <td>0.458722</td>\n",
       "      <td>0.555347</td>\n",
       "    </tr>\n",
       "    <tr>\n",
       "      <th>61</th>\n",
       "      <td>É claro que a culpa é sua. Foi o seu abraço qu...</td>\n",
       "      <td>[0.0, 0.0, 0.0, 0.0, 0.0, 0.0]</td>\n",
       "      <td>0.805361</td>\n",
       "      <td>0.854945</td>\n",
       "      <td>0.881902</td>\n",
       "      <td>0.146588</td>\n",
       "      <td>0.148897</td>\n",
       "      <td>0.150301</td>\n",
       "    </tr>\n",
       "    <tr>\n",
       "      <th>62</th>\n",
       "      <td>Sabe o que eu odeio? Pessoas que fingem gostar...</td>\n",
       "      <td>[0.0, 0.0, 0.0, 0.0, 0.0, 0.0]</td>\n",
       "      <td>0.031335</td>\n",
       "      <td>0.038398</td>\n",
       "      <td>0.043345</td>\n",
       "      <td>0.873187</td>\n",
       "      <td>0.950432</td>\n",
       "      <td>0.968320</td>\n",
       "    </tr>\n",
       "    <tr>\n",
       "      <th>63</th>\n",
       "      <td>3n jad ya bbe ?</td>\n",
       "      <td>[0.0, 0.0, 0.0, 0.0, 0.0, 0.0]</td>\n",
       "      <td>0.327539</td>\n",
       "      <td>0.578267</td>\n",
       "      <td>0.592841</td>\n",
       "      <td>0.363413</td>\n",
       "      <td>0.635036</td>\n",
       "      <td>0.645931</td>\n",
       "    </tr>\n",
       "    <tr>\n",
       "      <th>64</th>\n",
       "      <td>Find someone who saw all your imperfections , ...</td>\n",
       "      <td>[0.0, 0.0, 0.0, 0.0, 0.0, 0.0]</td>\n",
       "      <td>0.577492</td>\n",
       "      <td>0.674514</td>\n",
       "      <td>0.716702</td>\n",
       "      <td>0.573271</td>\n",
       "      <td>0.669907</td>\n",
       "      <td>0.711424</td>\n",
       "    </tr>\n",
       "    <tr>\n",
       "      <th>65</th>\n",
       "      <td>Tweet de tarde; #campaña por el #follow de  #p...</td>\n",
       "      <td>[0.0, 0.0, 0.0, 0.0, 0.0, 0.0]</td>\n",
       "      <td>0.576159</td>\n",
       "      <td>0.690722</td>\n",
       "      <td>0.744706</td>\n",
       "      <td>0.408739</td>\n",
       "      <td>0.486440</td>\n",
       "      <td>0.528998</td>\n",
       "    </tr>\n",
       "    <tr>\n",
       "      <th>66</th>\n",
       "      <td>Para los simpatizantes del ManU, nos dolió la ...</td>\n",
       "      <td>[0.0, 0.0, 0.0, 0.0, 0.0, 0.0]</td>\n",
       "      <td>0.230188</td>\n",
       "      <td>0.353578</td>\n",
       "      <td>0.466396</td>\n",
       "      <td>0.324089</td>\n",
       "      <td>0.505584</td>\n",
       "      <td>0.628230</td>\n",
       "    </tr>\n",
       "    <tr>\n",
       "      <th>67</th>\n",
       "      <td>أحمد ماهر من محبسه: لم أكن أتخيل ما يحدث لي 25...</td>\n",
       "      <td>[0.0, 0.0, 0.0, 0.0, 0.0, 0.0]</td>\n",
       "      <td>0.337853</td>\n",
       "      <td>0.911037</td>\n",
       "      <td>0.917587</td>\n",
       "      <td>0.030052</td>\n",
       "      <td>0.571552</td>\n",
       "      <td>0.587524</td>\n",
       "    </tr>\n",
       "    <tr>\n",
       "      <th>68</th>\n",
       "      <td>Estos últimos funcionarios del cuadrante 5 de ...</td>\n",
       "      <td>[0.0, 0.0, 0.0, 0.0, 0.0, 0.0]</td>\n",
       "      <td>0.889228</td>\n",
       "      <td>0.937577</td>\n",
       "      <td>0.969243</td>\n",
       "      <td>0.013155</td>\n",
       "      <td>0.033260</td>\n",
       "      <td>0.043526</td>\n",
       "    </tr>\n",
       "    <tr>\n",
       "      <th>69</th>\n",
       "      <td>via   cola autopista sentido oeste altura los ...</td>\n",
       "      <td>[0.0, 0.0, 0.0, 0.0, 0.0, 0.0]</td>\n",
       "      <td>0.389441</td>\n",
       "      <td>0.502545</td>\n",
       "      <td>0.628821</td>\n",
       "      <td>0.364735</td>\n",
       "      <td>0.440221</td>\n",
       "      <td>0.562975</td>\n",
       "    </tr>\n",
       "  </tbody>\n",
       "</table>\n",
       "</div>"
      ],
      "text/plain": [
       "                                                 text  \\\n",
       "60                                como lo enfrentas??   \n",
       "61  É claro que a culpa é sua. Foi o seu abraço qu...   \n",
       "62  Sabe o que eu odeio? Pessoas que fingem gostar...   \n",
       "63                                    3n jad ya bbe ?   \n",
       "64  Find someone who saw all your imperfections , ...   \n",
       "65  Tweet de tarde; #campaña por el #follow de  #p...   \n",
       "66  Para los simpatizantes del ManU, nos dolió la ...   \n",
       "67  أحمد ماهر من محبسه: لم أكن أتخيل ما يحدث لي 25...   \n",
       "68  Estos últimos funcionarios del cuadrante 5 de ...   \n",
       "69  via   cola autopista sentido oeste altura los ...   \n",
       "\n",
       "                       true_labels  post7geo10  post7geo30  post7geo50  \\\n",
       "60  [0.0, 0.0, 0.0, 0.0, 0.0, 0.0]    0.349950    0.455875    0.551612   \n",
       "61  [0.0, 0.0, 0.0, 0.0, 0.0, 0.0]    0.805361    0.854945    0.881902   \n",
       "62  [0.0, 0.0, 0.0, 0.0, 0.0, 0.0]    0.031335    0.038398    0.043345   \n",
       "63  [0.0, 0.0, 0.0, 0.0, 0.0, 0.0]    0.327539    0.578267    0.592841   \n",
       "64  [0.0, 0.0, 0.0, 0.0, 0.0, 0.0]    0.577492    0.674514    0.716702   \n",
       "65  [0.0, 0.0, 0.0, 0.0, 0.0, 0.0]    0.576159    0.690722    0.744706   \n",
       "66  [0.0, 0.0, 0.0, 0.0, 0.0, 0.0]    0.230188    0.353578    0.466396   \n",
       "67  [0.0, 0.0, 0.0, 0.0, 0.0, 0.0]    0.337853    0.911037    0.917587   \n",
       "68  [0.0, 0.0, 0.0, 0.0, 0.0, 0.0]    0.889228    0.937577    0.969243   \n",
       "69  [0.0, 0.0, 0.0, 0.0, 0.0, 0.0]    0.389441    0.502545    0.628821   \n",
       "\n",
       "    pre7geo10  pre7geo30  pre7geo50  \n",
       "60   0.370866   0.458722   0.555347  \n",
       "61   0.146588   0.148897   0.150301  \n",
       "62   0.873187   0.950432   0.968320  \n",
       "63   0.363413   0.635036   0.645931  \n",
       "64   0.573271   0.669907   0.711424  \n",
       "65   0.408739   0.486440   0.528998  \n",
       "66   0.324089   0.505584   0.628230  \n",
       "67   0.030052   0.571552   0.587524  \n",
       "68   0.013155   0.033260   0.043526  \n",
       "69   0.364735   0.440221   0.562975  "
      ]
     },
     "execution_count": 20,
     "metadata": {},
     "output_type": "execute_result"
    }
   ],
   "source": [
    "df[60:70]"
   ]
  },
  {
   "cell_type": "code",
   "execution_count": 21,
   "id": "11371ddb",
   "metadata": {},
   "outputs": [
    {
     "name": "stderr",
     "output_type": "stream",
     "text": [
      "/tmp/ipykernel_13592/3262774732.py:1: FutureWarning: The default value of numeric_only in DataFrame.mean is deprecated. In a future version, it will default to False. In addition, specifying 'numeric_only=None' is deprecated. Select only valid columns or specify the value of numeric_only to silence this warning.\n",
      "  mean_preds = df.mean().to_frame(name='mean').T\n"
     ]
    },
    {
     "data": {
      "text/html": [
       "<div>\n",
       "<style scoped>\n",
       "    .dataframe tbody tr th:only-of-type {\n",
       "        vertical-align: middle;\n",
       "    }\n",
       "\n",
       "    .dataframe tbody tr th {\n",
       "        vertical-align: top;\n",
       "    }\n",
       "\n",
       "    .dataframe thead th {\n",
       "        text-align: right;\n",
       "    }\n",
       "</style>\n",
       "<table border=\"1\" class=\"dataframe\">\n",
       "  <thead>\n",
       "    <tr style=\"text-align: right;\">\n",
       "      <th></th>\n",
       "      <th>post7geo10</th>\n",
       "      <th>post7geo30</th>\n",
       "      <th>post7geo50</th>\n",
       "      <th>pre7geo10</th>\n",
       "      <th>pre7geo30</th>\n",
       "      <th>pre7geo50</th>\n",
       "    </tr>\n",
       "  </thead>\n",
       "  <tbody>\n",
       "    <tr>\n",
       "      <th>mean</th>\n",
       "      <td>0.371763</td>\n",
       "      <td>0.497251</td>\n",
       "      <td>0.609071</td>\n",
       "      <td>0.354458</td>\n",
       "      <td>0.453502</td>\n",
       "      <td>0.550492</td>\n",
       "    </tr>\n",
       "  </tbody>\n",
       "</table>\n",
       "</div>"
      ],
      "text/plain": [
       "      post7geo10  post7geo30  post7geo50  pre7geo10  pre7geo30  pre7geo50\n",
       "mean    0.371763    0.497251    0.609071   0.354458   0.453502   0.550492"
      ]
     },
     "execution_count": 21,
     "metadata": {},
     "output_type": "execute_result"
    }
   ],
   "source": [
    "mean_preds = df.mean().to_frame(name='mean').T\n",
    "mean_preds "
   ]
  },
  {
   "cell_type": "code",
   "execution_count": 22,
   "id": "84cdd62b",
   "metadata": {},
   "outputs": [
    {
     "data": {
      "text/html": [
       "<div>\n",
       "<style scoped>\n",
       "    .dataframe tbody tr th:only-of-type {\n",
       "        vertical-align: middle;\n",
       "    }\n",
       "\n",
       "    .dataframe tbody tr th {\n",
       "        vertical-align: top;\n",
       "    }\n",
       "\n",
       "    .dataframe thead th {\n",
       "        text-align: right;\n",
       "    }\n",
       "</style>\n",
       "<table border=\"1\" class=\"dataframe\">\n",
       "  <thead>\n",
       "    <tr style=\"text-align: right;\">\n",
       "      <th></th>\n",
       "      <th>post7geo10</th>\n",
       "      <th>post7geo30</th>\n",
       "      <th>post7geo50</th>\n",
       "      <th>pre7geo10</th>\n",
       "      <th>pre7geo30</th>\n",
       "      <th>pre7geo50</th>\n",
       "    </tr>\n",
       "  </thead>\n",
       "  <tbody>\n",
       "    <tr>\n",
       "      <th>mean</th>\n",
       "      <td>0</td>\n",
       "      <td>0</td>\n",
       "      <td>1</td>\n",
       "      <td>0</td>\n",
       "      <td>0</td>\n",
       "      <td>1</td>\n",
       "    </tr>\n",
       "  </tbody>\n",
       "</table>\n",
       "</div>"
      ],
      "text/plain": [
       "      post7geo10  post7geo30  post7geo50  pre7geo10  pre7geo30  pre7geo50\n",
       "mean           0           0           1          0          0          1"
      ]
     },
     "execution_count": 22,
     "metadata": {},
     "output_type": "execute_result"
    }
   ],
   "source": [
    "mean_preds_th = (mean_preds >= 0.5).astype(int)\n",
    "mean_preds_th"
   ]
  },
  {
   "cell_type": "markdown",
   "id": "eeae7325",
   "metadata": {},
   "source": [
    "### d. Multiple values - select specific cases"
   ]
  },
  {
   "cell_type": "code",
   "execution_count": 109,
   "id": "87a22b31",
   "metadata": {},
   "outputs": [],
   "source": [
    "# Define the label mapping\n",
    "id2label: {\n",
    "    \"0\": \"post7geo10\",\n",
    "    \"1\": \"post7geo30\",\n",
    "    \"2\": \"post7geo50\",\n",
    "    \"3\": \"pre7geo10\",\n",
    "    \"4\": \"pre7geo30\",\n",
    "    \"5\": \"pre7geo50\"\n",
    "}\n",
    "\n",
    "# Define the filtering function to match the required conditions\n",
    "def filter_condition(example):\n",
    "    return (example['labels'][0] == 1 and # post7geo10\n",
    "            example['labels'][1] == 1 and # post7geo30\n",
    "            example['labels'][2] == 1 and # post7geo50\n",
    "            example['labels'][3] == 0 and # pre7geo10\n",
    "            example['labels'][4] == 0 and # pre7geo30\n",
    "            example['labels'][5] == 0 # pre7geo50\n",
    "    )"
   ]
  },
  {
   "cell_type": "code",
   "execution_count": 110,
   "id": "de438d18",
   "metadata": {},
   "outputs": [
    {
     "data": {
      "application/vnd.jupyter.widget-view+json": {
       "model_id": "a96103e29e4e4ddc936371cb40021ada",
       "version_major": 2,
       "version_minor": 0
      },
      "text/plain": [
       "  0%|          | 0/2330 [00:00<?, ?ba/s]"
      ]
     },
     "metadata": {},
     "output_type": "display_data"
    }
   ],
   "source": [
    "# ds_tok was instantiated previously\n",
    "# This filter operation on the dataset takes approximately 3' 21s to complete\n",
    "# A more efficient approach would be using map function\n",
    "filtered_dataset = ds_tok[\"test\"].filter(filter_condition)"
   ]
  },
  {
   "cell_type": "code",
   "execution_count": 111,
   "id": "14a93b81",
   "metadata": {},
   "outputs": [
    {
     "data": {
      "text/plain": [
       "Dataset({\n",
       "    features: ['text', 'labels', 'input_ids', 'attention_mask'],\n",
       "    num_rows: 437139\n",
       "})"
      ]
     },
     "execution_count": 111,
     "metadata": {},
     "output_type": "execute_result"
    }
   ],
   "source": [
    "filtered_dataset"
   ]
  },
  {
   "cell_type": "code",
   "execution_count": 139,
   "id": "17462f79",
   "metadata": {},
   "outputs": [],
   "source": [
    "# Select subsample or the whole dataset\n",
    "filtered_dataset_sample = filtered_dataset.shuffle().select(range(500))"
   ]
  },
  {
   "cell_type": "code",
   "execution_count": null,
   "id": "536d5f55",
   "metadata": {},
   "outputs": [],
   "source": [
    "filtered_dataset_sample['labels'][:10]"
   ]
  },
  {
   "cell_type": "code",
   "execution_count": 140,
   "id": "a6749dba",
   "metadata": {},
   "outputs": [
    {
     "name": "stderr",
     "output_type": "stream",
     "text": [
      "/home/mmendieta/transformers/lib/python3.8/site-packages/transformers/pipelines/base.py:996: UserWarning: You seem to be using the pipelines sequentially on GPU. In order to maximize efficiency please use a dataset\n",
      "  warnings.warn(\n"
     ]
    },
    {
     "data": {
      "application/vnd.jupyter.widget-view+json": {
       "model_id": "d21ecaac716840c99fae9e30d2f0303a",
       "version_major": 2,
       "version_minor": 0
      },
      "text/plain": [
       "  0%|          | 0/500 [00:00<?, ?it/s]"
      ]
     },
     "metadata": {},
     "output_type": "display_data"
    }
   ],
   "source": [
    "# Hide the large number of deprecation warnings\n",
    "warnings.filterwarnings(\"ignore\", category=DeprecationWarning)\n",
    "preds = []\n",
    "\n",
    "# change the dataset accordigly. Either use the sample dataset or the whole dataset\n",
    "# change batch_size as appropriate\n",
    "for i, outputs in enumerate(tqdm(violence_pipe(KeyDataset(filtered_dataset_sample, \"text\"), batch_size=64,\n",
    "                                              truncation=True),\n",
    "                                 total=len(filtered_dataset_sample))):\n",
    "    preds.append(outputs)"
   ]
  },
  {
   "cell_type": "code",
   "execution_count": null,
   "id": "4eee4db5",
   "metadata": {},
   "outputs": [],
   "source": [
    "preds"
   ]
  },
  {
   "cell_type": "code",
   "execution_count": 141,
   "id": "fe4fe8ac",
   "metadata": {},
   "outputs": [],
   "source": [
    "processed_data = []\n",
    "for pred in preds:\n",
    "    scores = {item['label']: item['score'] for item in pred}\n",
    "    processed_data.append(scores)\n",
    "    \n",
    "# Convert to DataFrame\n",
    "df = pd.DataFrame(processed_data)"
   ]
  },
  {
   "cell_type": "code",
   "execution_count": null,
   "id": "4a5ad37b",
   "metadata": {},
   "outputs": [],
   "source": [
    "df[30:40]"
   ]
  },
  {
   "cell_type": "code",
   "execution_count": 142,
   "id": "e8e0a65a",
   "metadata": {},
   "outputs": [
    {
     "data": {
      "text/html": [
       "<div>\n",
       "<style scoped>\n",
       "    .dataframe tbody tr th:only-of-type {\n",
       "        vertical-align: middle;\n",
       "    }\n",
       "\n",
       "    .dataframe tbody tr th {\n",
       "        vertical-align: top;\n",
       "    }\n",
       "\n",
       "    .dataframe thead th {\n",
       "        text-align: right;\n",
       "    }\n",
       "</style>\n",
       "<table border=\"1\" class=\"dataframe\">\n",
       "  <thead>\n",
       "    <tr style=\"text-align: right;\">\n",
       "      <th></th>\n",
       "      <th>post7geo10</th>\n",
       "      <th>post7geo30</th>\n",
       "      <th>post7geo50</th>\n",
       "      <th>pre7geo10</th>\n",
       "      <th>pre7geo30</th>\n",
       "      <th>pre7geo50</th>\n",
       "    </tr>\n",
       "  </thead>\n",
       "  <tbody>\n",
       "    <tr>\n",
       "      <th>mean</th>\n",
       "      <td>0.467055</td>\n",
       "      <td>0.570313</td>\n",
       "      <td>0.651688</td>\n",
       "      <td>0.337344</td>\n",
       "      <td>0.42227</td>\n",
       "      <td>0.501435</td>\n",
       "    </tr>\n",
       "  </tbody>\n",
       "</table>\n",
       "</div>"
      ],
      "text/plain": [
       "      post7geo10  post7geo30  post7geo50  pre7geo10  pre7geo30  pre7geo50\n",
       "mean    0.467055    0.570313    0.651688   0.337344    0.42227   0.501435"
      ]
     },
     "execution_count": 142,
     "metadata": {},
     "output_type": "execute_result"
    }
   ],
   "source": [
    "mean_preds = df.mean().to_frame(name='mean').T\n",
    "mean_preds "
   ]
  },
  {
   "cell_type": "code",
   "execution_count": 143,
   "id": "c0bd8404",
   "metadata": {},
   "outputs": [
    {
     "data": {
      "text/html": [
       "<div>\n",
       "<style scoped>\n",
       "    .dataframe tbody tr th:only-of-type {\n",
       "        vertical-align: middle;\n",
       "    }\n",
       "\n",
       "    .dataframe tbody tr th {\n",
       "        vertical-align: top;\n",
       "    }\n",
       "\n",
       "    .dataframe thead th {\n",
       "        text-align: right;\n",
       "    }\n",
       "</style>\n",
       "<table border=\"1\" class=\"dataframe\">\n",
       "  <thead>\n",
       "    <tr style=\"text-align: right;\">\n",
       "      <th></th>\n",
       "      <th>post7geo10</th>\n",
       "      <th>post7geo30</th>\n",
       "      <th>post7geo50</th>\n",
       "      <th>pre7geo10</th>\n",
       "      <th>pre7geo30</th>\n",
       "      <th>pre7geo50</th>\n",
       "    </tr>\n",
       "  </thead>\n",
       "  <tbody>\n",
       "    <tr>\n",
       "      <th>mean</th>\n",
       "      <td>0</td>\n",
       "      <td>1</td>\n",
       "      <td>1</td>\n",
       "      <td>0</td>\n",
       "      <td>0</td>\n",
       "      <td>1</td>\n",
       "    </tr>\n",
       "  </tbody>\n",
       "</table>\n",
       "</div>"
      ],
      "text/plain": [
       "      post7geo10  post7geo30  post7geo50  pre7geo10  pre7geo30  pre7geo50\n",
       "mean           0           1           1          0          0          1"
      ]
     },
     "execution_count": 143,
     "metadata": {},
     "output_type": "execute_result"
    }
   ],
   "source": [
    "mean_preds_th = (mean_preds >= 0.5).astype(int)\n",
    "mean_preds_th"
   ]
  },
  {
   "cell_type": "code",
   "execution_count": null,
   "id": "6ba4e8e6",
   "metadata": {},
   "outputs": [],
   "source": []
  },
  {
   "cell_type": "markdown",
   "id": "a4a71fe0",
   "metadata": {},
   "source": [
    "# X. Tokenize the whole dataset\n",
    "Run this code if you want to tokenize the whole dataset again. This step is necessary because the column 'text' was removed during training, and we want this column for making predictions. The code below was already tokenized with the *text* column for the XLM-T model."
   ]
  },
  {
   "cell_type": "code",
   "execution_count": null,
   "id": "205e1392",
   "metadata": {},
   "outputs": [],
   "source": [
    "# Load the dataset (untokenized) from disk\n",
    "ds = load_from_disk(\"/data3/mmendieta/Violence_data/geo_corpus.0.0.1_dataset_for_train\")"
   ]
  },
  {
   "cell_type": "markdown",
   "id": "b39eb6b0",
   "metadata": {},
   "source": [
    "### Tokenize the whole dataset"
   ]
  },
  {
   "cell_type": "code",
   "execution_count": null,
   "id": "af21a78a",
   "metadata": {},
   "outputs": [],
   "source": [
    "def tokenize(batch):\n",
    "    return tokenizer(batch[\"text\"], truncation=True)"
   ]
  },
  {
   "cell_type": "code",
   "execution_count": null,
   "id": "fd2aceae-e6a5-4745-97ce-10e6ad49a87a",
   "metadata": {},
   "outputs": [],
   "source": [
    "# Instantiate the tokenizer \n",
    "model_ckpt = args.model_ckpt\n",
    "tokenizer = AutoTokenizer.from_pretrained(model_ckpt,\n",
    "                                         model_max_length=args.max_length\n",
    "                                         )"
   ]
  },
  {
   "cell_type": "code",
   "execution_count": null,
   "id": "1308faa0",
   "metadata": {},
   "outputs": [],
   "source": [
    "# This code takes 14min and 33 s to run\n",
    "%time tokenized_ds = ds.map(tokenize, batched=True)"
   ]
  },
  {
   "cell_type": "code",
   "execution_count": null,
   "id": "85f1395b",
   "metadata": {},
   "outputs": [],
   "source": [
    "tokenized_ds.set_format('torch')"
   ]
  },
  {
   "cell_type": "code",
   "execution_count": null,
   "id": "cf038d54",
   "metadata": {},
   "outputs": [],
   "source": [
    "tokenized_ds"
   ]
  },
  {
   "cell_type": "markdown",
   "id": "dc7509c4",
   "metadata": {},
   "source": [
    "### Save tokenized dataset to disk"
   ]
  },
  {
   "cell_type": "code",
   "execution_count": null,
   "id": "d54db807",
   "metadata": {},
   "outputs": [],
   "source": [
    "tokenized_ds.save_to_disk(\"/data3/mmendieta/Violence_data/geo_corpus.0.0.1_tok_ds_xlmt_with_text\")"
   ]
  },
  {
   "cell_type": "code",
   "execution_count": null,
   "id": "9dcf386b",
   "metadata": {},
   "outputs": [],
   "source": []
  },
  {
   "cell_type": "code",
   "execution_count": null,
   "id": "a31cb2dc",
   "metadata": {},
   "outputs": [],
   "source": [
    "test_tokenized_ds[i]['text'], test_tokenized_ds[i]['labels'].tolist()"
   ]
  }
 ],
 "metadata": {
  "kernelspec": {
   "display_name": "Python 3 (ipykernel)",
   "language": "python",
   "name": "python3"
  },
  "language_info": {
   "codemirror_mode": {
    "name": "ipython",
    "version": 3
   },
   "file_extension": ".py",
   "mimetype": "text/x-python",
   "name": "python",
   "nbconvert_exporter": "python",
   "pygments_lexer": "ipython3",
   "version": "3.8.3"
  }
 },
 "nbformat": 4,
 "nbformat_minor": 5
}
