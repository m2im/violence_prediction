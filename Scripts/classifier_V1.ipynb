{
 "cells": [
  {
   "cell_type": "code",
   "execution_count": 1,
   "id": "c4337aad",
   "metadata": {},
   "outputs": [],
   "source": [
    "import torch\n",
    "import pandas as pd\n",
    "import matplotlib.pyplot as plt\n",
    "import numpy as np\n",
    "from datasets import load_from_disk\n",
    "from sklearn.preprocessing import StandardScaler\n",
    "from sklearn.ensemble import BaggingClassifier, GradientBoostingClassifier\n",
    "from sklearn.ensemble import RandomForestClassifier\n",
    "from sklearn.svm import LinearSVC\n",
    "from skmultilearn.problem_transform import BinaryRelevance\n",
    "from sklearn.multiclass import OneVsRestClassifier\n",
    "from sklearn.metrics import accuracy_score, precision_score, recall_score, f1_score\n",
    "from sklearn.metrics import roc_auc_score, confusion_matrix, multilabel_confusion_matrix, ConfusionMatrixDisplay\n",
    "from sklearn.metrics import classification_report, plot_roc_curve\n",
    "from sklearn.tree import DecisionTreeClassifier\n",
    "from argparse import Namespace"
   ]
  },
  {
   "cell_type": "code",
   "execution_count": 2,
   "id": "42b85bdd",
   "metadata": {},
   "outputs": [],
   "source": [
    "config = {\n",
    "    \"train_subset\": 1500000,\n",
    "    \"valid_subset\": 400000,\n",
    "    \"test_subset\" : 200000,\n",
    "    \"seed\": 42\n",
    "}\n",
    "\n",
    "args = Namespace(**config)"
   ]
  },
  {
   "cell_type": "markdown",
   "id": "cefa278b",
   "metadata": {},
   "source": [
    "### Read the dataset"
   ]
  },
  {
   "cell_type": "code",
   "execution_count": 3,
   "id": "bf15e887",
   "metadata": {},
   "outputs": [],
   "source": [
    "violence_hidden = load_from_disk(\"../../Violence_data/geo_corpus.0.0.1_datasets_hidden_labse\")"
   ]
  },
  {
   "cell_type": "code",
   "execution_count": 4,
   "id": "69175467",
   "metadata": {},
   "outputs": [
    {
     "data": {
      "text/plain": [
       "DatasetDict({\n",
       "    train: Dataset({\n",
       "        features: ['text', 'labels', 'input_ids', 'token_type_ids', 'attention_mask', 'hidden_state'],\n",
       "        num_rows: 16769932\n",
       "    })\n",
       "    validation: Dataset({\n",
       "        features: ['text', 'labels', 'input_ids', 'token_type_ids', 'attention_mask', 'hidden_state'],\n",
       "        num_rows: 4192483\n",
       "    })\n",
       "    test: Dataset({\n",
       "        features: ['text', 'labels', 'input_ids', 'token_type_ids', 'attention_mask', 'hidden_state'],\n",
       "        num_rows: 2329158\n",
       "    })\n",
       "})"
      ]
     },
     "execution_count": 4,
     "metadata": {},
     "output_type": "execute_result"
    }
   ],
   "source": [
    "violence_hidden"
   ]
  },
  {
   "cell_type": "code",
   "execution_count": 5,
   "id": "33056177",
   "metadata": {},
   "outputs": [],
   "source": [
    "# Remove unncesary columns\n",
    "keep_cols = ['hidden_state', 'labels']\n",
    "remove_columns = [col for col in violence_hidden['train'].column_names if col not in keep_cols]"
   ]
  },
  {
   "cell_type": "code",
   "execution_count": 6,
   "id": "955e02b8",
   "metadata": {},
   "outputs": [],
   "source": [
    "violence_hidden = violence_hidden.remove_columns(remove_columns)"
   ]
  },
  {
   "cell_type": "code",
   "execution_count": 7,
   "id": "2d529a58",
   "metadata": {},
   "outputs": [
    {
     "data": {
      "text/plain": [
       "DatasetDict({\n",
       "    train: Dataset({\n",
       "        features: ['labels', 'hidden_state'],\n",
       "        num_rows: 16769932\n",
       "    })\n",
       "    validation: Dataset({\n",
       "        features: ['labels', 'hidden_state'],\n",
       "        num_rows: 4192483\n",
       "    })\n",
       "    test: Dataset({\n",
       "        features: ['labels', 'hidden_state'],\n",
       "        num_rows: 2329158\n",
       "    })\n",
       "})"
      ]
     },
     "execution_count": 7,
     "metadata": {},
     "output_type": "execute_result"
    }
   ],
   "source": [
    "violence_hidden"
   ]
  },
  {
   "cell_type": "code",
   "execution_count": 8,
   "id": "a918a463",
   "metadata": {},
   "outputs": [
    {
     "name": "stderr",
     "output_type": "stream",
     "text": [
      "Loading cached shuffled indices for dataset at ../../Violence_data/geo_corpus.0.0.1_datasets_hidden_labse/train/cache-0f42d9e251c8e3bd.arrow\n",
      "Loading cached shuffled indices for dataset at ../../Violence_data/geo_corpus.0.0.1_datasets_hidden_labse/validation/cache-92187a45536b8e3c.arrow\n",
      "Loading cached shuffled indices for dataset at ../../Violence_data/geo_corpus.0.0.1_datasets_hidden_labse/test/cache-57c0da97451c21cd.arrow\n"
     ]
    }
   ],
   "source": [
    "# Extract a subset of the dataset\n",
    "train_clf_ds = violence_hidden[\"train\"].shuffle(args.seed).select(range(args.train_subset))\n",
    "validation_clf_ds = violence_hidden[\"validation\"].shuffle(args.seed).select(range(args.valid_subset))\n",
    "test_clf_ds = violence_hidden[\"test\"].shuffle(args.seed).select(range(args.test_subset))"
   ]
  },
  {
   "cell_type": "code",
   "execution_count": 9,
   "id": "3fb48da8",
   "metadata": {},
   "outputs": [
    {
     "data": {
      "text/plain": [
       "{'labels': tensor([0., 0., 0., 0., 0., 1.]),\n",
       " 'hidden_state': tensor([-7.6954e-02, -3.5868e-02,  1.2293e+00, -9.2771e-02,  7.6285e-01,\n",
       "          1.2228e+00,  1.2598e-01, -1.5125e-01, -1.2606e-01,  4.6174e-01,\n",
       "         -1.4210e+00, -4.0642e-01, -1.4511e-01,  4.4258e-01, -2.3478e-01,\n",
       "         -5.1071e-01,  4.6329e-02, -1.2245e-01,  3.5951e-01,  8.2760e-01,\n",
       "         -1.1671e+00,  5.8337e-02, -2.4783e-02,  5.5890e-01,  2.3697e-01,\n",
       "          8.6722e-01, -3.8896e-01, -3.8885e-01, -1.0293e-01, -6.7289e-01,\n",
       "         -4.1553e-01,  6.6248e-01, -2.1274e-01,  2.4683e-01, -4.9157e+00,\n",
       "          1.7413e-01,  1.2455e-01, -1.2890e-02,  1.2809e+00,  5.7767e-02,\n",
       "          7.3940e-01, -1.5951e-01,  1.0517e-01,  6.6625e-02,  3.0113e-02,\n",
       "         -2.2785e-01,  3.9391e-01, -2.0695e-01,  5.4777e-01,  7.0455e-02,\n",
       "          9.0074e-01, -1.0040e+00,  9.4108e-01, -4.6586e-02, -1.3459e+00,\n",
       "          3.9281e-01,  6.2495e-01,  3.8502e-01, -8.9493e-02, -2.7856e-01,\n",
       "          4.3720e-01,  5.3686e-01, -4.1777e-01,  1.4138e-01, -1.7577e-01,\n",
       "         -3.0714e-01,  7.4874e-01,  1.2373e+00,  5.0261e-01, -9.5028e-02,\n",
       "          4.4364e-01, -6.7920e-01, -5.8309e-01, -8.0668e-02, -9.0170e-01,\n",
       "         -7.1768e-01,  2.7087e-01, -1.4282e-01,  1.0087e+00,  5.3450e-01,\n",
       "         -1.6095e-01, -3.1227e-01,  2.3724e-01, -2.0052e-01,  3.2472e-01,\n",
       "          3.4163e-01,  2.1638e-01,  2.2501e-01,  1.8625e-01,  2.0570e-01,\n",
       "          3.6422e-01,  5.3341e-01,  5.4178e-01,  1.1106e+00,  1.9221e+00,\n",
       "         -9.2262e-01,  4.5820e-01, -2.9569e-01,  8.3929e-01,  1.0304e+00,\n",
       "          1.0173e+00,  3.1762e-01, -3.9110e-01,  4.8581e-01,  4.4725e-01,\n",
       "          3.7728e-01, -3.9588e-01, -7.7091e-01, -3.5612e-01,  2.5972e-01,\n",
       "          1.0912e-01,  1.4413e-01, -1.0748e+00,  3.6001e-01,  8.8223e-02,\n",
       "          4.8547e-01,  6.6525e-01,  1.9650e-01, -4.7465e-02, -1.1261e+00,\n",
       "         -1.8847e-01, -1.2453e-01, -4.4068e-02,  4.2069e-01,  4.4875e-02,\n",
       "         -3.0414e-01,  6.8652e-02, -6.0072e-01,  2.7201e-01,  6.9884e-01,\n",
       "         -4.1722e-01, -6.7668e-02,  8.1383e-01, -3.0340e-02, -1.6813e-01,\n",
       "          4.2221e-01,  5.5717e-01,  3.7415e-01, -1.6150e-01,  6.0026e-01,\n",
       "          2.2071e-01,  2.2606e-01, -7.1459e-01,  2.1271e+00, -5.8568e-01,\n",
       "         -2.4269e-02, -6.3033e-01, -3.9414e-01, -5.1952e-02, -4.6715e-01,\n",
       "         -9.3308e-01,  1.0724e+00,  6.4593e-02, -2.3742e-03,  2.7095e-01,\n",
       "         -6.2085e-01,  5.5378e-01, -2.4691e-01, -4.0014e-01,  4.5938e-01,\n",
       "          3.0576e-01,  1.9349e-01,  3.3891e-01, -1.7268e-01, -7.7497e-01,\n",
       "          6.3600e-02, -4.1847e-01,  1.0771e-01, -1.2217e-02, -2.6173e-01,\n",
       "         -1.3158e+00, -9.9129e-02,  1.3784e+00,  1.0643e-01,  3.3825e-01,\n",
       "         -6.1584e-02, -1.6775e-01,  4.1252e-01,  3.9563e-01,  2.4747e-01,\n",
       "         -9.9656e-03,  6.0695e-02, -7.2330e-02, -6.3214e-01,  1.3647e-01,\n",
       "          4.8516e-01,  3.4191e-01, -3.8660e-01,  6.8102e-01,  4.8609e-01,\n",
       "          6.3948e-01,  2.4108e-01,  3.7660e-01,  5.7121e-01,  7.5433e-01,\n",
       "          5.2502e-01, -6.6728e-02,  2.4328e-01, -1.3304e-01,  5.7674e-01,\n",
       "         -4.1326e-01, -3.0265e-01, -6.1479e-01, -6.9803e-01, -2.6258e-01,\n",
       "          7.0450e-01,  2.0322e-01, -1.0445e+00, -3.8804e-01, -1.0472e+00,\n",
       "          3.0606e-01, -3.1178e-01,  6.7600e-01,  3.9724e-01,  3.2600e-02,\n",
       "         -1.9539e-02, -3.2216e-01,  4.6073e-01,  1.1825e+00, -2.1018e-01,\n",
       "         -4.0401e-01,  8.6956e-01,  8.6630e+00,  5.5984e-01,  2.8921e-01,\n",
       "         -1.9090e-01,  3.2046e-02, -1.8594e-01, -7.7029e-02,  9.0713e-01,\n",
       "         -6.3918e-01,  7.6341e-01, -4.2216e-01, -5.5720e-01, -3.4651e-01,\n",
       "         -2.8500e-01, -2.7174e-01,  1.0643e-01, -3.8170e-01,  6.8382e-01,\n",
       "         -3.0301e-01, -2.4806e-01, -4.3437e-01,  4.9239e-01,  2.8674e-01,\n",
       "         -9.3229e-01,  2.7822e-02,  5.7552e-01, -8.0624e-02, -5.5897e-01,\n",
       "          4.8202e-01, -4.7175e-01,  5.1124e-01,  2.9831e-02,  1.2792e-02,\n",
       "          5.2864e-03, -1.5473e-01,  8.3091e-01,  2.1348e-01,  5.2973e-01,\n",
       "         -7.3332e-01,  4.3106e-03,  3.5983e-01,  1.6617e-01, -3.8734e-02,\n",
       "         -4.7044e-02,  6.3455e-01,  6.2815e-02,  3.2159e-01,  1.6454e-01,\n",
       "          1.5367e+00, -8.8420e-01, -6.4546e-01,  6.8384e-01,  4.7498e-01,\n",
       "          4.9073e-01, -5.4449e-01, -2.0665e-01, -5.9202e-01,  1.6776e+00,\n",
       "          2.0811e-01, -1.5815e-01,  5.4718e-01,  5.3508e-02,  1.8641e-01,\n",
       "          4.1667e-02, -3.5337e-01,  5.3616e-01, -7.1564e-01, -9.5882e-02,\n",
       "         -6.5538e-02,  3.1895e-01, -3.2201e-01, -4.1841e-01, -2.8362e-01,\n",
       "          2.5110e-01,  6.7876e-01, -8.6950e-02, -8.7008e-02, -2.0118e-02,\n",
       "          4.4777e-01,  2.2438e-01,  3.0182e-01, -5.1832e-01,  6.1201e-01,\n",
       "          2.9059e-01,  1.5238e-01,  9.7824e-01, -6.0877e-02,  5.0096e-01,\n",
       "          4.7716e-02,  6.0742e-02, -7.7376e-01, -5.7300e-01,  7.3724e-01,\n",
       "         -3.3885e-01,  4.4101e-02,  4.5612e-01,  2.2355e+00,  5.1535e-01,\n",
       "         -7.5186e-02,  5.4913e-01,  2.7754e-01,  8.2856e-01, -3.1270e-01,\n",
       "         -1.2710e+00, -6.6712e-02,  8.2366e-02, -4.0892e-01, -1.3678e-01,\n",
       "         -7.9440e-02, -1.0055e+00,  5.9564e-01, -2.0401e-02,  4.5464e-02,\n",
       "         -2.2831e-01, -1.8181e-01,  8.1108e-01,  2.1965e-01,  7.6699e-01,\n",
       "         -3.9497e-01,  6.9314e-01,  6.3695e-01, -2.8241e-01,  5.0333e-02,\n",
       "         -6.1529e-03, -1.0016e-01,  6.2789e-01, -1.1859e-01, -1.7866e-02,\n",
       "          1.7984e+00, -2.9333e-01, -4.5399e-01,  9.6444e-01, -1.9304e-01,\n",
       "         -9.7768e-01,  2.8505e-01,  6.1364e-01,  7.0192e-01,  3.8807e-01,\n",
       "          2.5150e-01, -1.7720e-01,  1.3196e-01, -2.5875e-01,  5.7612e-02,\n",
       "          2.2339e-01, -1.3563e-01, -8.9908e-01,  3.1587e-01,  5.4447e-01,\n",
       "          5.4992e-01,  2.8043e-01,  5.8186e-01, -2.8765e-01, -2.5967e-01,\n",
       "          1.6685e-01,  1.2251e-01,  2.3044e-01,  4.4832e-01,  2.8251e-01,\n",
       "         -4.6360e-01, -2.3930e-02,  6.8075e-01,  5.4821e-01,  6.4834e-01,\n",
       "          7.1830e-01, -2.3660e-01,  2.5402e-01, -4.1248e-02, -2.7133e-01,\n",
       "         -2.4318e-01, -1.0609e+00,  2.2987e-01,  3.0163e-01, -2.2161e-01,\n",
       "         -3.1661e-01,  2.7685e-01, -3.1711e-01,  9.7342e-01, -5.4239e-01,\n",
       "          1.0952e-01,  1.6117e-01,  5.1046e-01, -7.5140e-01,  1.5924e+00,\n",
       "          5.2124e-01, -6.3968e-02,  4.4865e-01,  5.1343e-01,  1.7520e-01,\n",
       "          7.2218e-01, -2.7990e-01,  2.1862e-01, -2.8408e-01, -1.1519e+00,\n",
       "         -1.2047e-01,  1.2094e-01,  7.4000e-01, -6.8453e-01, -2.7659e-01,\n",
       "         -2.9260e-01, -3.8689e-01, -4.4002e-01,  4.6342e-02,  9.6763e-02,\n",
       "         -6.0675e-01,  1.3796e-01, -7.9809e-01,  3.1170e-01, -4.1499e-01,\n",
       "          7.9073e-01, -1.0840e+00, -1.1335e-01,  1.1907e-01, -7.7008e-01,\n",
       "          2.9353e-02, -3.9370e-01,  4.1309e-01, -1.0087e+00,  5.8555e-01,\n",
       "         -1.9930e-01,  1.5832e-01,  4.2418e-01, -9.6618e-01, -8.9796e-02,\n",
       "         -4.1226e-01, -3.2234e-01,  7.6407e-01, -4.9250e-01, -1.9808e-01,\n",
       "         -1.4832e-01,  2.0871e-01,  2.2289e-01,  4.3954e-01,  6.6708e-01,\n",
       "          9.5684e-01, -2.0232e-01, -3.4920e-01,  2.2779e-01, -7.9690e-02,\n",
       "          3.2290e-01, -7.0312e-01,  4.0564e-01,  3.3627e-01,  2.8246e-01,\n",
       "         -6.1816e-02,  3.0088e-01,  5.1508e-01, -7.1193e-01, -6.1893e-01,\n",
       "          7.4198e-01, -1.8490e-01, -1.4238e-01, -1.0339e+00, -3.8334e-01,\n",
       "         -1.0813e-02,  7.0215e-02,  5.3318e-02, -3.3564e-01, -3.6234e-01,\n",
       "         -4.2565e-01,  9.0009e-01, -5.5789e-01, -3.0319e-01,  5.3076e-01,\n",
       "          2.4289e-01,  4.2117e-01, -1.3785e-01,  1.2231e-01,  2.5330e-01,\n",
       "         -3.9654e-01,  6.3693e-01, -1.0771e-01,  8.9770e-01,  3.5459e-01,\n",
       "          1.0925e+00, -6.2297e-01, -4.1103e-01,  1.6470e-01,  7.9511e-01,\n",
       "          5.6245e-01, -7.4461e+00, -1.2376e-01, -3.9065e-01,  8.3044e-01,\n",
       "          3.3940e-02, -1.3572e-01, -2.0146e-01, -5.6368e-01,  8.2607e-01,\n",
       "          8.5901e-01, -7.1859e-01, -1.2737e-01,  8.5262e-01, -6.7913e-01,\n",
       "          1.0120e+00, -4.1336e-01,  2.1900e-01,  4.6115e-02,  4.1418e-01,\n",
       "          2.2968e-01,  2.7963e-01,  3.2429e-01,  3.5974e-01, -7.4433e-01,\n",
       "          3.2287e-01,  3.9996e-01,  8.6448e-01,  2.6214e-01,  6.4420e-01,\n",
       "          4.9326e-01,  3.9590e-03, -2.4952e-01, -2.3387e-01,  2.1993e-01,\n",
       "         -4.9143e-01,  3.2967e-01, -9.9286e-02,  9.8323e-01, -1.7317e-01,\n",
       "          6.9022e-02,  6.9056e-01, -1.7063e-02,  8.3852e-02,  7.3673e-01,\n",
       "          2.3836e-01,  9.1062e-03,  1.0555e+00, -5.9126e-02,  3.3605e-01,\n",
       "          9.6125e-01,  4.7698e-01, -4.1260e-01,  5.7058e-01, -3.8451e-01,\n",
       "         -5.1992e-02,  8.9852e-01,  1.0810e+00, -3.2009e-01, -3.1834e-01,\n",
       "         -3.2993e-01, -1.6661e-01, -3.1674e-01, -3.5899e-01,  3.5579e-01,\n",
       "          2.3558e+00, -5.9575e-01, -4.1863e-01, -3.2514e-01,  7.6584e-01,\n",
       "         -3.8467e-01, -1.8926e-01,  5.3646e-01, -3.8978e-02, -4.5447e-01,\n",
       "          6.4386e-01,  2.0618e-01, -7.5423e-01,  8.6271e-02,  2.6220e-02,\n",
       "          4.1669e-01, -5.3950e-02, -1.3665e-01, -1.5425e-03,  5.7973e-01,\n",
       "          5.0659e+00, -1.3228e-01, -1.8325e-01, -1.5482e-01, -1.8642e+00,\n",
       "          9.0417e-02,  7.9108e-01,  5.5013e-01,  8.4143e-02,  2.0676e-01,\n",
       "          2.3652e-01, -2.8202e-01,  9.2253e-02, -3.6972e-01, -1.1569e+00,\n",
       "          2.1064e-01,  2.3582e-01, -8.7549e-01,  3.7000e-01, -5.3957e-01,\n",
       "          6.6510e-02, -3.4181e-01,  3.4699e-01,  4.6742e-01,  3.3930e-01,\n",
       "          4.8570e-01, -2.1131e-01,  3.0661e-01, -5.7151e-01,  1.5143e+00,\n",
       "          1.9986e-01, -2.6094e-01,  3.7377e-01, -3.8051e-01,  9.3304e-01,\n",
       "          5.2129e-01,  1.8817e-01,  3.9648e+00,  8.1734e-01, -3.3759e-01,\n",
       "          7.9875e-01,  3.2670e-01, -8.5609e-01,  3.7960e-01,  3.7595e-01,\n",
       "         -1.5162e-01,  8.7961e-02,  2.1475e-01,  7.5654e-01,  6.3966e-01,\n",
       "          5.7172e-01,  1.2349e+00, -3.8973e-01, -1.8361e-01,  3.8277e-01,\n",
       "          1.1804e+00, -5.5148e-01,  8.9513e-02,  3.5794e-01,  6.7746e-01,\n",
       "          4.9647e-01,  1.0047e-01, -1.0607e-02,  7.1936e-02, -1.2116e-01,\n",
       "          5.8062e-02, -1.7501e-01,  1.2998e+00,  5.5269e+00, -9.4674e-01,\n",
       "         -5.9050e-01, -4.9661e-01,  3.1759e-01,  6.9205e-01,  9.7099e-02,\n",
       "         -1.2436e-01, -1.8682e-01,  1.5393e-01,  9.3437e-02,  3.6708e-01,\n",
       "          1.9655e-01,  9.7436e-01, -2.3172e-01,  4.0298e-01, -1.0416e-01,\n",
       "          4.8940e-02,  1.7279e-01,  3.3917e-01,  2.4618e-01,  3.0064e-01,\n",
       "          1.9089e-01,  3.0209e-01,  3.2844e-01,  3.2545e-01, -3.0044e-03,\n",
       "          4.5611e-01, -4.3572e-01,  7.6345e-01,  7.7950e-01,  5.4689e-01,\n",
       "          1.1104e+00,  2.7059e-01,  9.5577e-01, -2.7732e-01, -1.7363e-01,\n",
       "         -3.5667e-01,  8.1639e-01, -1.3048e-01, -3.1624e-01,  3.6816e-01,\n",
       "          8.7714e-01, -2.1280e-01,  1.2696e+00,  1.0888e-01, -5.3994e-04,\n",
       "          1.4153e-02, -6.6217e-02,  6.9974e-01, -9.7498e-02, -3.6070e-01,\n",
       "          1.4695e+00, -1.5839e+00, -2.4264e-01,  2.1269e-01, -9.2015e-01,\n",
       "          4.4285e-01, -5.0979e-01,  2.8285e-01, -3.0061e-02,  3.9915e-02,\n",
       "          5.0127e-01,  1.3707e+00, -2.6599e-01,  2.2636e-01,  4.8802e-01,\n",
       "          4.7806e-01,  2.2794e-01,  7.4181e-01,  1.1527e+00, -3.4355e-01,\n",
       "          4.6705e-01,  2.4803e-01,  1.5532e+00,  4.7085e-02,  2.6241e-01,\n",
       "          9.9679e-01,  1.8987e-01,  5.2587e-01,  7.1258e-01, -1.2565e-01,\n",
       "          2.4179e-02,  3.0041e-02,  7.0122e-02,  2.1350e-01,  2.7326e-01,\n",
       "          4.9761e-01,  7.1332e-02,  9.6857e-01, -1.0160e+00,  9.9122e-01,\n",
       "         -2.4786e-01,  1.5062e-01,  4.4442e-01, -7.7220e-01,  2.3090e-01,\n",
       "          3.1289e-01,  7.2982e-01,  7.7190e-01, -6.1669e-01,  3.5129e-01,\n",
       "          3.8131e-01,  4.4933e-02,  1.1017e-01, -1.0392e+00,  1.1632e+00,\n",
       "         -5.3552e-02, -1.7477e-01, -3.9917e-01, -4.1869e-01,  5.3106e-01,\n",
       "          3.8342e-01, -1.9089e-01,  1.2348e-01])}"
      ]
     },
     "execution_count": 9,
     "metadata": {},
     "output_type": "execute_result"
    }
   ],
   "source": [
    "train_clf_ds[0]"
   ]
  },
  {
   "cell_type": "markdown",
   "id": "646db38b",
   "metadata": {},
   "source": [
    "### Create a feature matrix"
   ]
  },
  {
   "cell_type": "code",
   "execution_count": 10,
   "id": "983ac8e3",
   "metadata": {},
   "outputs": [
    {
     "name": "stdout",
     "output_type": "stream",
     "text": [
      "CPU times: user 28.6 s, sys: 1min 10s, total: 1min 39s\n",
      "Wall time: 7min 41s\n"
     ]
    },
    {
     "data": {
      "text/plain": [
       "(1500000, 768)"
      ]
     },
     "execution_count": 10,
     "metadata": {},
     "output_type": "execute_result"
    }
   ],
   "source": [
    "%time X_train = np.array(train_clf_ds[\"hidden_state\"])\n",
    "y_train = np.array(train_clf_ds[\"labels\"])\n",
    "X_validation = np.array(validation_clf_ds[\"hidden_state\"])\n",
    "y_validation = np.array(validation_clf_ds[\"labels\"])\n",
    "X_test = np.array(test_clf_ds[\"hidden_state\"])\n",
    "y_test = np.array(test_clf_ds[\"labels\"])\n",
    "X_train.shape"
   ]
  },
  {
   "cell_type": "code",
   "execution_count": null,
   "id": "55f8ddb0",
   "metadata": {},
   "outputs": [],
   "source": [
    "print(np.min(X_train[10]))\n",
    "print(np.max(X_train[10]))"
   ]
  },
  {
   "cell_type": "markdown",
   "id": "bf706a08",
   "metadata": {},
   "source": [
    "## Helper Functions"
   ]
  },
  {
   "cell_type": "code",
   "execution_count": 11,
   "id": "712471cc",
   "metadata": {},
   "outputs": [],
   "source": [
    "# Create a function to report the various metrics for each classifier\n",
    "def metricsReport(modelName, test_labels, predictions):\n",
    "    accuracy = accuracy_score(test_labels, predictions)\n",
    "    \n",
    "    roc_auc = roc_auc_score(test_labels, predictions, average = \"weighted\")\n",
    "\n",
    "    weighted_precision = precision_score(test_labels, predictions, average='weighted')\n",
    "    weighted_recall = recall_score(test_labels, predictions, average='weighted')\n",
    "    weighted_f1 = f1_score(test_labels, predictions, average='weighted')\n",
    "\n",
    "    micro_precision = precision_score(test_labels, predictions, average='micro')\n",
    "    micro_recall = recall_score(test_labels, predictions, average='micro')\n",
    "    micro_f1 = f1_score(test_labels, predictions, average='micro')\n",
    "    \n",
    "    \n",
    "    print(\"------\" + modelName + \" Model Metrics-----\")\n",
    "    print(\"Accuracy: {:.4f}\\nroc_auc_score: {:.4f}\\nPrecision:\\n  - Weighted: {:.4f}\\n  - Micro: {:.4f}\\nRecall:\\n  - Weighted: {:.4f}\\n  - Micro: {:.4f}\\nF1-measure:\\n  - Weighted: {:.4f}\\n  - Micro: {:.4f}\"\\\n",
    "          .format(accuracy, roc_auc, weighted_precision, micro_precision, weighted_recall, micro_recall, weighted_f1, micro_f1))\n",
    "    ModelsPerformance[modelName] = {\"accuracy\": format(accuracy, '.4f'), \"roc_auc\": format(roc_auc, '.4f'), \"weighted_precision\": format(weighted_precision, '.4f'),\n",
    "                                    \"weighted_recall\": format(weighted_recall, '.4f'), \"weighted_f1\": format(weighted_f1, '.4f'), \"micro_precision\": format(micro_precision, '.4f'),\n",
    "                                    \"micro_recall\": format(micro_recall, '.4f'), \"micro_f1\": format(micro_f1, '.4f')}"
   ]
  },
  {
   "cell_type": "code",
   "execution_count": 12,
   "id": "c4e13115",
   "metadata": {},
   "outputs": [],
   "source": [
    "def plot_confusion_matrix(y_test, y_pred, clf:str):\n",
    "    f, axes = plt.subplots(2, 3, figsize=(25, 15))\n",
    "    f.suptitle(clf, fontsize=36)\n",
    "    axes = axes.ravel()\n",
    "    for i in range(6):\n",
    "        labels=['post7geo10', 'post7geo30', 'post7geo50','pre7geo10','pre7geo30', 'pre7geo50']\n",
    "        disp = ConfusionMatrixDisplay(confusion_matrix(y_test[:, i],\n",
    "                                                       y_pred[:, i]),\n",
    "                                      display_labels=[0, i])\n",
    "        disp.plot(ax=axes[i], values_format='.4g')\n",
    "        disp.ax_.set_title(labels[i])\n",
    "        if i<10:\n",
    "            disp.ax_.set_xlabel('')\n",
    "        if i%5!=0:\n",
    "            disp.ax_.set_ylabel('')\n",
    "        disp.im_.colorbar.remove()\n",
    "\n",
    "    plt.subplots_adjust(wspace=0.10, hspace=0.1)\n",
    "    f.colorbar(disp.im_, ax=axes)\n",
    "    plt.show()"
   ]
  },
  {
   "cell_type": "markdown",
   "id": "50e80d68",
   "metadata": {},
   "source": [
    "# Classifiers"
   ]
  },
  {
   "cell_type": "markdown",
   "id": "a5dbac64",
   "metadata": {},
   "source": [
    "## Problem transformation"
   ]
  },
  {
   "cell_type": "markdown",
   "id": "4d26f12f",
   "metadata": {},
   "source": [
    "### Bagging"
   ]
  },
  {
   "cell_type": "code",
   "execution_count": 13,
   "id": "b53bfa2f",
   "metadata": {},
   "outputs": [
    {
     "name": "stdout",
     "output_type": "stream",
     "text": [
      "CPU times: user 9.18 s, sys: 12.9 s, total: 22.1 s\n",
      "Wall time: 5h 1min 13s\n"
     ]
    },
    {
     "data": {
      "text/html": [
       "<style>#sk-container-id-1 {color: black;background-color: white;}#sk-container-id-1 pre{padding: 0;}#sk-container-id-1 div.sk-toggleable {background-color: white;}#sk-container-id-1 label.sk-toggleable__label {cursor: pointer;display: block;width: 100%;margin-bottom: 0;padding: 0.3em;box-sizing: border-box;text-align: center;}#sk-container-id-1 label.sk-toggleable__label-arrow:before {content: \"▸\";float: left;margin-right: 0.25em;color: #696969;}#sk-container-id-1 label.sk-toggleable__label-arrow:hover:before {color: black;}#sk-container-id-1 div.sk-estimator:hover label.sk-toggleable__label-arrow:before {color: black;}#sk-container-id-1 div.sk-toggleable__content {max-height: 0;max-width: 0;overflow: hidden;text-align: left;background-color: #f0f8ff;}#sk-container-id-1 div.sk-toggleable__content pre {margin: 0.2em;color: black;border-radius: 0.25em;background-color: #f0f8ff;}#sk-container-id-1 input.sk-toggleable__control:checked~div.sk-toggleable__content {max-height: 200px;max-width: 100%;overflow: auto;}#sk-container-id-1 input.sk-toggleable__control:checked~label.sk-toggleable__label-arrow:before {content: \"▾\";}#sk-container-id-1 div.sk-estimator input.sk-toggleable__control:checked~label.sk-toggleable__label {background-color: #d4ebff;}#sk-container-id-1 div.sk-label input.sk-toggleable__control:checked~label.sk-toggleable__label {background-color: #d4ebff;}#sk-container-id-1 input.sk-hidden--visually {border: 0;clip: rect(1px 1px 1px 1px);clip: rect(1px, 1px, 1px, 1px);height: 1px;margin: -1px;overflow: hidden;padding: 0;position: absolute;width: 1px;}#sk-container-id-1 div.sk-estimator {font-family: monospace;background-color: #f0f8ff;border: 1px dotted black;border-radius: 0.25em;box-sizing: border-box;margin-bottom: 0.5em;}#sk-container-id-1 div.sk-estimator:hover {background-color: #d4ebff;}#sk-container-id-1 div.sk-parallel-item::after {content: \"\";width: 100%;border-bottom: 1px solid gray;flex-grow: 1;}#sk-container-id-1 div.sk-label:hover label.sk-toggleable__label {background-color: #d4ebff;}#sk-container-id-1 div.sk-serial::before {content: \"\";position: absolute;border-left: 1px solid gray;box-sizing: border-box;top: 0;bottom: 0;left: 50%;z-index: 0;}#sk-container-id-1 div.sk-serial {display: flex;flex-direction: column;align-items: center;background-color: white;padding-right: 0.2em;padding-left: 0.2em;position: relative;}#sk-container-id-1 div.sk-item {position: relative;z-index: 1;}#sk-container-id-1 div.sk-parallel {display: flex;align-items: stretch;justify-content: center;background-color: white;position: relative;}#sk-container-id-1 div.sk-item::before, #sk-container-id-1 div.sk-parallel-item::before {content: \"\";position: absolute;border-left: 1px solid gray;box-sizing: border-box;top: 0;bottom: 0;left: 50%;z-index: -1;}#sk-container-id-1 div.sk-parallel-item {display: flex;flex-direction: column;z-index: 1;position: relative;background-color: white;}#sk-container-id-1 div.sk-parallel-item:first-child::after {align-self: flex-end;width: 50%;}#sk-container-id-1 div.sk-parallel-item:last-child::after {align-self: flex-start;width: 50%;}#sk-container-id-1 div.sk-parallel-item:only-child::after {width: 0;}#sk-container-id-1 div.sk-dashed-wrapped {border: 1px dashed gray;margin: 0 0.4em 0.5em 0.4em;box-sizing: border-box;padding-bottom: 0.4em;background-color: white;}#sk-container-id-1 div.sk-label label {font-family: monospace;font-weight: bold;display: inline-block;line-height: 1.2em;}#sk-container-id-1 div.sk-label-container {text-align: center;}#sk-container-id-1 div.sk-container {/* jupyter's `normalize.less` sets `[hidden] { display: none; }` but bootstrap.min.css set `[hidden] { display: none !important; }` so we also need the `!important` here to be able to override the default hidden behavior on the sphinx rendered scikit-learn.org. See: https://github.com/scikit-learn/scikit-learn/issues/21755 */display: inline-block !important;position: relative;}#sk-container-id-1 div.sk-text-repr-fallback {display: none;}</style><div id=\"sk-container-id-1\" class=\"sk-top-container\"><div class=\"sk-text-repr-fallback\"><pre>OneVsRestClassifier(estimator=BaggingClassifier(n_jobs=-1, random_state=42))</pre><b>In a Jupyter environment, please rerun this cell to show the HTML representation or trust the notebook. <br />On GitHub, the HTML representation is unable to render, please try loading this page with nbviewer.org.</b></div><div class=\"sk-container\" hidden><div class=\"sk-item sk-dashed-wrapped\"><div class=\"sk-label-container\"><div class=\"sk-label sk-toggleable\"><input class=\"sk-toggleable__control sk-hidden--visually\" id=\"sk-estimator-id-1\" type=\"checkbox\" ><label for=\"sk-estimator-id-1\" class=\"sk-toggleable__label sk-toggleable__label-arrow\">OneVsRestClassifier</label><div class=\"sk-toggleable__content\"><pre>OneVsRestClassifier(estimator=BaggingClassifier(n_jobs=-1, random_state=42))</pre></div></div></div><div class=\"sk-parallel\"><div class=\"sk-parallel-item\"><div class=\"sk-item\"><div class=\"sk-label-container\"><div class=\"sk-label sk-toggleable\"><input class=\"sk-toggleable__control sk-hidden--visually\" id=\"sk-estimator-id-2\" type=\"checkbox\" ><label for=\"sk-estimator-id-2\" class=\"sk-toggleable__label sk-toggleable__label-arrow\">estimator: BaggingClassifier</label><div class=\"sk-toggleable__content\"><pre>BaggingClassifier(n_jobs=-1, random_state=42)</pre></div></div></div><div class=\"sk-serial\"><div class=\"sk-item\"><div class=\"sk-estimator sk-toggleable\"><input class=\"sk-toggleable__control sk-hidden--visually\" id=\"sk-estimator-id-3\" type=\"checkbox\" ><label for=\"sk-estimator-id-3\" class=\"sk-toggleable__label sk-toggleable__label-arrow\">BaggingClassifier</label><div class=\"sk-toggleable__content\"><pre>BaggingClassifier(n_jobs=-1, random_state=42)</pre></div></div></div></div></div></div></div></div></div></div>"
      ],
      "text/plain": [
       "OneVsRestClassifier(estimator=BaggingClassifier(n_jobs=-1, random_state=42))"
      ]
     },
     "execution_count": 13,
     "metadata": {},
     "output_type": "execute_result"
    }
   ],
   "source": [
    "bagClassifier = OneVsRestClassifier(BaggingClassifier(n_jobs=-1, \n",
    "                                                      random_state=args.seed))\n",
    "%time bagClassifier.fit(X_train, y_train)\n"
   ]
  },
  {
   "cell_type": "code",
   "execution_count": 14,
   "id": "ebbe906f",
   "metadata": {},
   "outputs": [
    {
     "name": "stdout",
     "output_type": "stream",
     "text": [
      "CPU times: user 1.23 s, sys: 2.39 s, total: 3.63 s\n",
      "Wall time: 25.6 s\n"
     ]
    }
   ],
   "source": [
    "%time bagPreds = bagClassifier.predict(X_test)"
   ]
  },
  {
   "cell_type": "markdown",
   "id": "154712ef",
   "metadata": {},
   "source": [
    "### Boosting"
   ]
  },
  {
   "cell_type": "code",
   "execution_count": null,
   "id": "fee965e5",
   "metadata": {},
   "outputs": [],
   "source": [
    "boostClassifier = OneVsRestClassifier(GradientBoostingClassifier(\n",
    "    random_state=args.seed), n_jobs=-1)\n",
    "%time boostClassifier.fit(X_train, y_train)"
   ]
  },
  {
   "cell_type": "code",
   "execution_count": null,
   "id": "566bf6e9",
   "metadata": {},
   "outputs": [],
   "source": [
    "%time boostPreds = boostClassifier.predict(X_test)"
   ]
  },
  {
   "cell_type": "markdown",
   "id": "b98880db",
   "metadata": {},
   "source": [
    "### OneVsRest - Support Vector Machine"
   ]
  },
  {
   "cell_type": "code",
   "execution_count": 15,
   "id": "5b46d930",
   "metadata": {},
   "outputs": [],
   "source": [
    "# Standardize the data for SVM\n",
    "X_train_scaled = StandardScaler().fit_transform(X_train)\n",
    "X_validation_scaled = StandardScaler().fit_transform(X_validation)\n",
    "X_test_scaled = StandardScaler().fit_transform(X_test)"
   ]
  },
  {
   "cell_type": "code",
   "execution_count": null,
   "id": "f266af11",
   "metadata": {},
   "outputs": [],
   "source": [
    "svmClassifier = OneVsRestClassifier(LinearSVC(\n",
    "    random_state=args.seed, max_iter=7000, \n",
    "    dual=False, tol=1e-5), n_jobs=-1)\n",
    "%time svmClassifier.fit(X_train_scaled, y_train)"
   ]
  },
  {
   "cell_type": "code",
   "execution_count": null,
   "id": "4f0fc6e2",
   "metadata": {},
   "outputs": [],
   "source": [
    "%time svmPreds = svmClassifier.predict(X_test)"
   ]
  },
  {
   "cell_type": "markdown",
   "id": "4fa312d4",
   "metadata": {},
   "source": [
    "### Binary Relevance - Support Vector Machine"
   ]
  },
  {
   "cell_type": "code",
   "execution_count": 16,
   "id": "10a21ee8",
   "metadata": {},
   "outputs": [
    {
     "name": "stdout",
     "output_type": "stream",
     "text": [
      "CPU times: user 4h 33min 52s, sys: 1h 7min 56s, total: 5h 41min 48s\n",
      "Wall time: 5h 41min 46s\n"
     ]
    },
    {
     "data": {
      "text/html": [
       "<style>#sk-container-id-2 {color: black;background-color: white;}#sk-container-id-2 pre{padding: 0;}#sk-container-id-2 div.sk-toggleable {background-color: white;}#sk-container-id-2 label.sk-toggleable__label {cursor: pointer;display: block;width: 100%;margin-bottom: 0;padding: 0.3em;box-sizing: border-box;text-align: center;}#sk-container-id-2 label.sk-toggleable__label-arrow:before {content: \"▸\";float: left;margin-right: 0.25em;color: #696969;}#sk-container-id-2 label.sk-toggleable__label-arrow:hover:before {color: black;}#sk-container-id-2 div.sk-estimator:hover label.sk-toggleable__label-arrow:before {color: black;}#sk-container-id-2 div.sk-toggleable__content {max-height: 0;max-width: 0;overflow: hidden;text-align: left;background-color: #f0f8ff;}#sk-container-id-2 div.sk-toggleable__content pre {margin: 0.2em;color: black;border-radius: 0.25em;background-color: #f0f8ff;}#sk-container-id-2 input.sk-toggleable__control:checked~div.sk-toggleable__content {max-height: 200px;max-width: 100%;overflow: auto;}#sk-container-id-2 input.sk-toggleable__control:checked~label.sk-toggleable__label-arrow:before {content: \"▾\";}#sk-container-id-2 div.sk-estimator input.sk-toggleable__control:checked~label.sk-toggleable__label {background-color: #d4ebff;}#sk-container-id-2 div.sk-label input.sk-toggleable__control:checked~label.sk-toggleable__label {background-color: #d4ebff;}#sk-container-id-2 input.sk-hidden--visually {border: 0;clip: rect(1px 1px 1px 1px);clip: rect(1px, 1px, 1px, 1px);height: 1px;margin: -1px;overflow: hidden;padding: 0;position: absolute;width: 1px;}#sk-container-id-2 div.sk-estimator {font-family: monospace;background-color: #f0f8ff;border: 1px dotted black;border-radius: 0.25em;box-sizing: border-box;margin-bottom: 0.5em;}#sk-container-id-2 div.sk-estimator:hover {background-color: #d4ebff;}#sk-container-id-2 div.sk-parallel-item::after {content: \"\";width: 100%;border-bottom: 1px solid gray;flex-grow: 1;}#sk-container-id-2 div.sk-label:hover label.sk-toggleable__label {background-color: #d4ebff;}#sk-container-id-2 div.sk-serial::before {content: \"\";position: absolute;border-left: 1px solid gray;box-sizing: border-box;top: 0;bottom: 0;left: 50%;z-index: 0;}#sk-container-id-2 div.sk-serial {display: flex;flex-direction: column;align-items: center;background-color: white;padding-right: 0.2em;padding-left: 0.2em;position: relative;}#sk-container-id-2 div.sk-item {position: relative;z-index: 1;}#sk-container-id-2 div.sk-parallel {display: flex;align-items: stretch;justify-content: center;background-color: white;position: relative;}#sk-container-id-2 div.sk-item::before, #sk-container-id-2 div.sk-parallel-item::before {content: \"\";position: absolute;border-left: 1px solid gray;box-sizing: border-box;top: 0;bottom: 0;left: 50%;z-index: -1;}#sk-container-id-2 div.sk-parallel-item {display: flex;flex-direction: column;z-index: 1;position: relative;background-color: white;}#sk-container-id-2 div.sk-parallel-item:first-child::after {align-self: flex-end;width: 50%;}#sk-container-id-2 div.sk-parallel-item:last-child::after {align-self: flex-start;width: 50%;}#sk-container-id-2 div.sk-parallel-item:only-child::after {width: 0;}#sk-container-id-2 div.sk-dashed-wrapped {border: 1px dashed gray;margin: 0 0.4em 0.5em 0.4em;box-sizing: border-box;padding-bottom: 0.4em;background-color: white;}#sk-container-id-2 div.sk-label label {font-family: monospace;font-weight: bold;display: inline-block;line-height: 1.2em;}#sk-container-id-2 div.sk-label-container {text-align: center;}#sk-container-id-2 div.sk-container {/* jupyter's `normalize.less` sets `[hidden] { display: none; }` but bootstrap.min.css set `[hidden] { display: none !important; }` so we also need the `!important` here to be able to override the default hidden behavior on the sphinx rendered scikit-learn.org. See: https://github.com/scikit-learn/scikit-learn/issues/21755 */display: inline-block !important;position: relative;}#sk-container-id-2 div.sk-text-repr-fallback {display: none;}</style><div id=\"sk-container-id-2\" class=\"sk-top-container\"><div class=\"sk-text-repr-fallback\"><pre>BinaryRelevance(classifier=LinearSVC(dual=False, max_iter=7000, random_state=42,\n",
       "                                     tol=1e-05),\n",
       "                require_dense=[True, True])</pre><b>In a Jupyter environment, please rerun this cell to show the HTML representation or trust the notebook. <br />On GitHub, the HTML representation is unable to render, please try loading this page with nbviewer.org.</b></div><div class=\"sk-container\" hidden><div class=\"sk-item sk-dashed-wrapped\"><div class=\"sk-label-container\"><div class=\"sk-label sk-toggleable\"><input class=\"sk-toggleable__control sk-hidden--visually\" id=\"sk-estimator-id-4\" type=\"checkbox\" ><label for=\"sk-estimator-id-4\" class=\"sk-toggleable__label sk-toggleable__label-arrow\">BinaryRelevance</label><div class=\"sk-toggleable__content\"><pre>BinaryRelevance(classifier=LinearSVC(dual=False, max_iter=7000, random_state=42,\n",
       "                                     tol=1e-05),\n",
       "                require_dense=[True, True])</pre></div></div></div><div class=\"sk-parallel\"><div class=\"sk-parallel-item\"><div class=\"sk-item\"><div class=\"sk-label-container\"><div class=\"sk-label sk-toggleable\"><input class=\"sk-toggleable__control sk-hidden--visually\" id=\"sk-estimator-id-5\" type=\"checkbox\" ><label for=\"sk-estimator-id-5\" class=\"sk-toggleable__label sk-toggleable__label-arrow\">classifier: LinearSVC</label><div class=\"sk-toggleable__content\"><pre>LinearSVC(dual=False, max_iter=7000, random_state=42, tol=1e-05)</pre></div></div></div><div class=\"sk-serial\"><div class=\"sk-item\"><div class=\"sk-estimator sk-toggleable\"><input class=\"sk-toggleable__control sk-hidden--visually\" id=\"sk-estimator-id-6\" type=\"checkbox\" ><label for=\"sk-estimator-id-6\" class=\"sk-toggleable__label sk-toggleable__label-arrow\">LinearSVC</label><div class=\"sk-toggleable__content\"><pre>LinearSVC(dual=False, max_iter=7000, random_state=42, tol=1e-05)</pre></div></div></div></div></div></div></div></div></div></div>"
      ],
      "text/plain": [
       "BinaryRelevance(classifier=LinearSVC(dual=False, max_iter=7000, random_state=42,\n",
       "                                     tol=1e-05),\n",
       "                require_dense=[True, True])"
      ]
     },
     "execution_count": 16,
     "metadata": {},
     "output_type": "execute_result"
    }
   ],
   "source": [
    "BinaryRelSVC = BinaryRelevance(LinearSVC(random_state=args.seed,\n",
    "                                         max_iter=7000, dual=False, \n",
    "                                         tol=1e-5),\n",
    "                                         require_dense = [True, True])\n",
    "%time BinaryRelSVC.fit(X_train_scaled, y_train)"
   ]
  },
  {
   "cell_type": "code",
   "execution_count": 17,
   "id": "33aaa696",
   "metadata": {},
   "outputs": [
    {
     "name": "stdout",
     "output_type": "stream",
     "text": [
      "CPU times: user 7.28 s, sys: 16.8 s, total: 24.1 s\n",
      "Wall time: 3.44 s\n"
     ]
    }
   ],
   "source": [
    "%time BinRelSVCPreds = BinaryRelSVC.predict(X_test).toarray()"
   ]
  },
  {
   "cell_type": "markdown",
   "id": "e19384bc",
   "metadata": {},
   "source": [
    "## Problem Adaptation"
   ]
  },
  {
   "cell_type": "markdown",
   "id": "bad64321",
   "metadata": {},
   "source": [
    "### Decision Trees"
   ]
  },
  {
   "cell_type": "code",
   "execution_count": 18,
   "id": "75623085",
   "metadata": {},
   "outputs": [
    {
     "name": "stdout",
     "output_type": "stream",
     "text": [
      "CPU times: user 1h 29min 33s, sys: 3.26 s, total: 1h 29min 36s\n",
      "Wall time: 1h 29min 33s\n"
     ]
    },
    {
     "data": {
      "text/html": [
       "<style>#sk-container-id-3 {color: black;background-color: white;}#sk-container-id-3 pre{padding: 0;}#sk-container-id-3 div.sk-toggleable {background-color: white;}#sk-container-id-3 label.sk-toggleable__label {cursor: pointer;display: block;width: 100%;margin-bottom: 0;padding: 0.3em;box-sizing: border-box;text-align: center;}#sk-container-id-3 label.sk-toggleable__label-arrow:before {content: \"▸\";float: left;margin-right: 0.25em;color: #696969;}#sk-container-id-3 label.sk-toggleable__label-arrow:hover:before {color: black;}#sk-container-id-3 div.sk-estimator:hover label.sk-toggleable__label-arrow:before {color: black;}#sk-container-id-3 div.sk-toggleable__content {max-height: 0;max-width: 0;overflow: hidden;text-align: left;background-color: #f0f8ff;}#sk-container-id-3 div.sk-toggleable__content pre {margin: 0.2em;color: black;border-radius: 0.25em;background-color: #f0f8ff;}#sk-container-id-3 input.sk-toggleable__control:checked~div.sk-toggleable__content {max-height: 200px;max-width: 100%;overflow: auto;}#sk-container-id-3 input.sk-toggleable__control:checked~label.sk-toggleable__label-arrow:before {content: \"▾\";}#sk-container-id-3 div.sk-estimator input.sk-toggleable__control:checked~label.sk-toggleable__label {background-color: #d4ebff;}#sk-container-id-3 div.sk-label input.sk-toggleable__control:checked~label.sk-toggleable__label {background-color: #d4ebff;}#sk-container-id-3 input.sk-hidden--visually {border: 0;clip: rect(1px 1px 1px 1px);clip: rect(1px, 1px, 1px, 1px);height: 1px;margin: -1px;overflow: hidden;padding: 0;position: absolute;width: 1px;}#sk-container-id-3 div.sk-estimator {font-family: monospace;background-color: #f0f8ff;border: 1px dotted black;border-radius: 0.25em;box-sizing: border-box;margin-bottom: 0.5em;}#sk-container-id-3 div.sk-estimator:hover {background-color: #d4ebff;}#sk-container-id-3 div.sk-parallel-item::after {content: \"\";width: 100%;border-bottom: 1px solid gray;flex-grow: 1;}#sk-container-id-3 div.sk-label:hover label.sk-toggleable__label {background-color: #d4ebff;}#sk-container-id-3 div.sk-serial::before {content: \"\";position: absolute;border-left: 1px solid gray;box-sizing: border-box;top: 0;bottom: 0;left: 50%;z-index: 0;}#sk-container-id-3 div.sk-serial {display: flex;flex-direction: column;align-items: center;background-color: white;padding-right: 0.2em;padding-left: 0.2em;position: relative;}#sk-container-id-3 div.sk-item {position: relative;z-index: 1;}#sk-container-id-3 div.sk-parallel {display: flex;align-items: stretch;justify-content: center;background-color: white;position: relative;}#sk-container-id-3 div.sk-item::before, #sk-container-id-3 div.sk-parallel-item::before {content: \"\";position: absolute;border-left: 1px solid gray;box-sizing: border-box;top: 0;bottom: 0;left: 50%;z-index: -1;}#sk-container-id-3 div.sk-parallel-item {display: flex;flex-direction: column;z-index: 1;position: relative;background-color: white;}#sk-container-id-3 div.sk-parallel-item:first-child::after {align-self: flex-end;width: 50%;}#sk-container-id-3 div.sk-parallel-item:last-child::after {align-self: flex-start;width: 50%;}#sk-container-id-3 div.sk-parallel-item:only-child::after {width: 0;}#sk-container-id-3 div.sk-dashed-wrapped {border: 1px dashed gray;margin: 0 0.4em 0.5em 0.4em;box-sizing: border-box;padding-bottom: 0.4em;background-color: white;}#sk-container-id-3 div.sk-label label {font-family: monospace;font-weight: bold;display: inline-block;line-height: 1.2em;}#sk-container-id-3 div.sk-label-container {text-align: center;}#sk-container-id-3 div.sk-container {/* jupyter's `normalize.less` sets `[hidden] { display: none; }` but bootstrap.min.css set `[hidden] { display: none !important; }` so we also need the `!important` here to be able to override the default hidden behavior on the sphinx rendered scikit-learn.org. See: https://github.com/scikit-learn/scikit-learn/issues/21755 */display: inline-block !important;position: relative;}#sk-container-id-3 div.sk-text-repr-fallback {display: none;}</style><div id=\"sk-container-id-3\" class=\"sk-top-container\"><div class=\"sk-text-repr-fallback\"><pre>DecisionTreeClassifier(random_state=42)</pre><b>In a Jupyter environment, please rerun this cell to show the HTML representation or trust the notebook. <br />On GitHub, the HTML representation is unable to render, please try loading this page with nbviewer.org.</b></div><div class=\"sk-container\" hidden><div class=\"sk-item\"><div class=\"sk-estimator sk-toggleable\"><input class=\"sk-toggleable__control sk-hidden--visually\" id=\"sk-estimator-id-7\" type=\"checkbox\" checked><label for=\"sk-estimator-id-7\" class=\"sk-toggleable__label sk-toggleable__label-arrow\">DecisionTreeClassifier</label><div class=\"sk-toggleable__content\"><pre>DecisionTreeClassifier(random_state=42)</pre></div></div></div></div></div>"
      ],
      "text/plain": [
       "DecisionTreeClassifier(random_state=42)"
      ]
     },
     "execution_count": 18,
     "metadata": {},
     "output_type": "execute_result"
    }
   ],
   "source": [
    "dtClassifier = DecisionTreeClassifier(random_state=args.seed)\n",
    "%time dtClassifier.fit(X_train, y_train)"
   ]
  },
  {
   "cell_type": "code",
   "execution_count": 19,
   "id": "66f2badf",
   "metadata": {},
   "outputs": [
    {
     "name": "stdout",
     "output_type": "stream",
     "text": [
      "CPU times: user 394 ms, sys: 31.5 ms, total: 425 ms\n",
      "Wall time: 422 ms\n"
     ]
    }
   ],
   "source": [
    "%time dtPreds = dtClassifier.predict(X_test)"
   ]
  },
  {
   "cell_type": "markdown",
   "id": "003b2f48",
   "metadata": {},
   "source": [
    "### Random Forest"
   ]
  },
  {
   "cell_type": "code",
   "execution_count": 20,
   "id": "89f2e33b",
   "metadata": {},
   "outputs": [
    {
     "name": "stdout",
     "output_type": "stream",
     "text": [
      "CPU times: user 4h 13min 11s, sys: 36 s, total: 4h 13min 47s\n",
      "Wall time: 6min 2s\n"
     ]
    },
    {
     "data": {
      "text/html": [
       "<style>#sk-container-id-4 {color: black;background-color: white;}#sk-container-id-4 pre{padding: 0;}#sk-container-id-4 div.sk-toggleable {background-color: white;}#sk-container-id-4 label.sk-toggleable__label {cursor: pointer;display: block;width: 100%;margin-bottom: 0;padding: 0.3em;box-sizing: border-box;text-align: center;}#sk-container-id-4 label.sk-toggleable__label-arrow:before {content: \"▸\";float: left;margin-right: 0.25em;color: #696969;}#sk-container-id-4 label.sk-toggleable__label-arrow:hover:before {color: black;}#sk-container-id-4 div.sk-estimator:hover label.sk-toggleable__label-arrow:before {color: black;}#sk-container-id-4 div.sk-toggleable__content {max-height: 0;max-width: 0;overflow: hidden;text-align: left;background-color: #f0f8ff;}#sk-container-id-4 div.sk-toggleable__content pre {margin: 0.2em;color: black;border-radius: 0.25em;background-color: #f0f8ff;}#sk-container-id-4 input.sk-toggleable__control:checked~div.sk-toggleable__content {max-height: 200px;max-width: 100%;overflow: auto;}#sk-container-id-4 input.sk-toggleable__control:checked~label.sk-toggleable__label-arrow:before {content: \"▾\";}#sk-container-id-4 div.sk-estimator input.sk-toggleable__control:checked~label.sk-toggleable__label {background-color: #d4ebff;}#sk-container-id-4 div.sk-label input.sk-toggleable__control:checked~label.sk-toggleable__label {background-color: #d4ebff;}#sk-container-id-4 input.sk-hidden--visually {border: 0;clip: rect(1px 1px 1px 1px);clip: rect(1px, 1px, 1px, 1px);height: 1px;margin: -1px;overflow: hidden;padding: 0;position: absolute;width: 1px;}#sk-container-id-4 div.sk-estimator {font-family: monospace;background-color: #f0f8ff;border: 1px dotted black;border-radius: 0.25em;box-sizing: border-box;margin-bottom: 0.5em;}#sk-container-id-4 div.sk-estimator:hover {background-color: #d4ebff;}#sk-container-id-4 div.sk-parallel-item::after {content: \"\";width: 100%;border-bottom: 1px solid gray;flex-grow: 1;}#sk-container-id-4 div.sk-label:hover label.sk-toggleable__label {background-color: #d4ebff;}#sk-container-id-4 div.sk-serial::before {content: \"\";position: absolute;border-left: 1px solid gray;box-sizing: border-box;top: 0;bottom: 0;left: 50%;z-index: 0;}#sk-container-id-4 div.sk-serial {display: flex;flex-direction: column;align-items: center;background-color: white;padding-right: 0.2em;padding-left: 0.2em;position: relative;}#sk-container-id-4 div.sk-item {position: relative;z-index: 1;}#sk-container-id-4 div.sk-parallel {display: flex;align-items: stretch;justify-content: center;background-color: white;position: relative;}#sk-container-id-4 div.sk-item::before, #sk-container-id-4 div.sk-parallel-item::before {content: \"\";position: absolute;border-left: 1px solid gray;box-sizing: border-box;top: 0;bottom: 0;left: 50%;z-index: -1;}#sk-container-id-4 div.sk-parallel-item {display: flex;flex-direction: column;z-index: 1;position: relative;background-color: white;}#sk-container-id-4 div.sk-parallel-item:first-child::after {align-self: flex-end;width: 50%;}#sk-container-id-4 div.sk-parallel-item:last-child::after {align-self: flex-start;width: 50%;}#sk-container-id-4 div.sk-parallel-item:only-child::after {width: 0;}#sk-container-id-4 div.sk-dashed-wrapped {border: 1px dashed gray;margin: 0 0.4em 0.5em 0.4em;box-sizing: border-box;padding-bottom: 0.4em;background-color: white;}#sk-container-id-4 div.sk-label label {font-family: monospace;font-weight: bold;display: inline-block;line-height: 1.2em;}#sk-container-id-4 div.sk-label-container {text-align: center;}#sk-container-id-4 div.sk-container {/* jupyter's `normalize.less` sets `[hidden] { display: none; }` but bootstrap.min.css set `[hidden] { display: none !important; }` so we also need the `!important` here to be able to override the default hidden behavior on the sphinx rendered scikit-learn.org. See: https://github.com/scikit-learn/scikit-learn/issues/21755 */display: inline-block !important;position: relative;}#sk-container-id-4 div.sk-text-repr-fallback {display: none;}</style><div id=\"sk-container-id-4\" class=\"sk-top-container\"><div class=\"sk-text-repr-fallback\"><pre>RandomForestClassifier(n_jobs=-1, random_state=42)</pre><b>In a Jupyter environment, please rerun this cell to show the HTML representation or trust the notebook. <br />On GitHub, the HTML representation is unable to render, please try loading this page with nbviewer.org.</b></div><div class=\"sk-container\" hidden><div class=\"sk-item\"><div class=\"sk-estimator sk-toggleable\"><input class=\"sk-toggleable__control sk-hidden--visually\" id=\"sk-estimator-id-8\" type=\"checkbox\" checked><label for=\"sk-estimator-id-8\" class=\"sk-toggleable__label sk-toggleable__label-arrow\">RandomForestClassifier</label><div class=\"sk-toggleable__content\"><pre>RandomForestClassifier(n_jobs=-1, random_state=42)</pre></div></div></div></div></div>"
      ],
      "text/plain": [
       "RandomForestClassifier(n_jobs=-1, random_state=42)"
      ]
     },
     "execution_count": 20,
     "metadata": {},
     "output_type": "execute_result"
    }
   ],
   "source": [
    "rfClassifier = RandomForestClassifier(n_jobs=-1, \n",
    "                                      random_state=args.seed)\n",
    "%time rfClassifier.fit(X_train, y_train)"
   ]
  },
  {
   "cell_type": "code",
   "execution_count": 21,
   "id": "727f93a2",
   "metadata": {},
   "outputs": [
    {
     "name": "stdout",
     "output_type": "stream",
     "text": [
      "CPU times: user 48.1 s, sys: 13.9 s, total: 1min 1s\n",
      "Wall time: 3.07 s\n"
     ]
    }
   ],
   "source": [
    "%time rfPreds = rfClassifier.predict(X_test)"
   ]
  },
  {
   "cell_type": "markdown",
   "id": "36d841ae",
   "metadata": {},
   "source": [
    "# Model Evaluation"
   ]
  },
  {
   "cell_type": "markdown",
   "id": "f98d02a8",
   "metadata": {},
   "source": [
    "### Evaluate classifiers"
   ]
  },
  {
   "cell_type": "code",
   "execution_count": null,
   "id": "349f6399",
   "metadata": {},
   "outputs": [],
   "source": [
    "ModelsPerformance = {}\n",
    "metricsReport(\"Bagging\", y_test, bagPreds)\n",
    "metricsReport(\"Boosting\", y_test, boostPreds)\n",
    "# metricsReport(\"SVM-OVR\", y_test, svmPreds)\n",
    "metricsReport(\"SVM-BR\", y_test, BinRelSVCPreds)\n",
    "metricsReport(\"Decision Tree\", y_test, dtPreds)\n",
    "metricsReport(\"Random Forest\", y_test, rfPreds)\n"
   ]
  },
  {
   "cell_type": "code",
   "execution_count": null,
   "id": "38252eee",
   "metadata": {},
   "outputs": [],
   "source": [
    "print(\" Model Name \" + \" \"*3 + \"| Acc.   \" + \" \"*1 + \"| ROC_AUC \" + \" \"*1 + \"| weighted_prec\" + \" \"*1 + \"| weighted_rec\" + \" \"*1 + \"| weighted_f1\" + \" \"*1 + \"| micro_prec\" + \" \"*1 + \"| micro_rec\" + \" \"*1 + \"| micro_f1\")\n",
    "print(\"--------------------------------------------------------------------------------------------------------------------\")\n",
    "for key, value in ModelsPerformance.items():\n",
    "    print(\" \" + key, \" \"*(13-len(key)) + \"|\", value[\"accuracy\"], \" \"*(1) + \"|\", value[\"roc_auc\"], \" \"*(2) + \"|\", value[\"weighted_precision\"], \" \"*(7) + \"|\", value[\"weighted_recall\"], \" \"*(6) + \"|\", value[\"weighted_f1\"], \" \"*(5) + \"|\", value[\"micro_precision\"], \" \"*(4) + \"|\", value[\"micro_recall\"], \" \"*(3) + \"|\", value[\"micro_f1\"])\n",
    "    print(\"--------------------------------------------------------------------------------------------------------------------\")"
   ]
  },
  {
   "cell_type": "code",
   "execution_count": null,
   "id": "69ba89f1",
   "metadata": {},
   "outputs": [],
   "source": [
    "# Optional\n",
    "print(classification_report(rfPreds, y_test, target_names=['post7geo10', 'post7geo30', 'post7geo50',\n",
    "                                                     'pre7geo10','pre7geo30', 'pre7geo50']))"
   ]
  },
  {
   "cell_type": "markdown",
   "id": "7b93b7be",
   "metadata": {},
   "source": [
    "### Plot Confusion Matrix"
   ]
  },
  {
   "cell_type": "code",
   "execution_count": null,
   "id": "d37449eb",
   "metadata": {},
   "outputs": [],
   "source": [
    "# Bagging Classifier\n",
    "plot_confusion_matrix(y_test, bagPreds, \"Bagging Classifier\")"
   ]
  },
  {
   "cell_type": "code",
   "execution_count": null,
   "id": "4478105b",
   "metadata": {},
   "outputs": [],
   "source": [
    "# Boosting Classifier\n",
    "plot_confusion_matrix(y_test, boostPreds, \"Boosting Classifier\")"
   ]
  },
  {
   "cell_type": "code",
   "execution_count": null,
   "id": "94f6878c",
   "metadata": {},
   "outputs": [],
   "source": [
    "# SVM-OVR Classifier\n",
    "plot_confusion_matrix(y_test, svmPreds, \"SVM - One vs Rest\")"
   ]
  },
  {
   "cell_type": "code",
   "execution_count": null,
   "id": "e50488d8",
   "metadata": {},
   "outputs": [],
   "source": [
    "# SVM - Binary Relevance Classifier\n",
    "plot_confusion_matrix(y_test, BinRelSVCPreds, \"SVM - Binary Relevance\")"
   ]
  },
  {
   "cell_type": "code",
   "execution_count": null,
   "id": "bd5d920d",
   "metadata": {},
   "outputs": [],
   "source": [
    "# Decision Trees Classifier\n",
    "plot_confusion_matrix(y_test, dtPreds, \"Decision Tree\")"
   ]
  },
  {
   "cell_type": "code",
   "execution_count": null,
   "id": "35eb2abf",
   "metadata": {},
   "outputs": [],
   "source": [
    "# Random Forest Classifier\n",
    "plot_confusion_matrix(y_test, rfPreds, \"Random Forest Classifier\")"
   ]
  },
  {
   "cell_type": "markdown",
   "id": "78f9bac0",
   "metadata": {},
   "source": [
    "### Plot ROC Curve for the best classifier"
   ]
  },
  {
   "cell_type": "code",
   "execution_count": null,
   "id": "24ed30d2",
   "metadata": {},
   "outputs": [],
   "source": [
    "# Plot ROC Curve for the best classifier (RF)\n",
    "label_names = ['post7geo10', 'post7geo30', 'post7geo50', 'pre7geo10','pre7geo30', 'pre7geo50']\n",
    "labelPlots ={}\n",
    "for i in range (len(label_names)):\n",
    "    rfClassifier.fit(X_train, y_train[:,i])\n",
    "    ax = plt.gca()\n",
    "    labelPlots[i]= plot_roc_curve(rfClassifier, X_test, y_test[:,i], name= label_names[i], ax=ax, alpha=0.8) \n",
    "\n",
    "plt.title(\"ROC comparison per class label - RF classifier\")\n",
    "plt.show()"
   ]
  },
  {
   "cell_type": "code",
   "execution_count": null,
   "id": "67a61018",
   "metadata": {},
   "outputs": [],
   "source": []
  }
 ],
 "metadata": {
  "kernelspec": {
   "display_name": "Python 3 (ipykernel)",
   "language": "python",
   "name": "python3"
  },
  "language_info": {
   "codemirror_mode": {
    "name": "ipython",
    "version": 3
   },
   "file_extension": ".py",
   "mimetype": "text/x-python",
   "name": "python",
   "nbconvert_exporter": "python",
   "pygments_lexer": "ipython3",
   "version": "3.8.3"
  }
 },
 "nbformat": 4,
 "nbformat_minor": 5
}
