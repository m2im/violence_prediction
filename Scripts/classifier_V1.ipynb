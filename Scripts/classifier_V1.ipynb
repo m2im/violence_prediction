{
 "cells": [
  {
   "cell_type": "code",
   "execution_count": 1,
   "id": "c4337aad",
   "metadata": {},
   "outputs": [],
   "source": [
    "import torch\n",
    "import pandas as pd\n",
    "import matplotlib.pyplot as plt\n",
    "import numpy as np\n",
    "from datasets import load_from_disk\n",
    "from sklearn.preprocessing import StandardScaler\n",
    "from sklearn.ensemble import BaggingClassifier, GradientBoostingClassifier, RandomForestClassifier\n",
    "from sklearn.multioutput import MultiOutputClassifier\n",
    "from sklearn.svm import LinearSVC\n",
    "from skmultilearn.problem_transform import BinaryRelevance\n",
    "from sklearn.multiclass import OneVsRestClassifier\n",
    "from sklearn.metrics import accuracy_score, precision_score, recall_score, f1_score\n",
    "from sklearn.metrics import roc_auc_score, confusion_matrix, multilabel_confusion_matrix, ConfusionMatrixDisplay\n",
    "from sklearn.metrics import classification_report, plot_roc_curve\n",
    "from sklearn.tree import DecisionTreeClassifier\n",
    "from argparse import Namespace"
   ]
  },
  {
   "cell_type": "code",
   "execution_count": 22,
   "id": "42b85bdd",
   "metadata": {},
   "outputs": [],
   "source": [
    "config = {\n",
    "    \"train_subset\": 1500000, # 1500000\n",
    "     \"valid_subset\": 400000, # 400000\n",
    "    \"test_subset\" : 200000,  # 200000\n",
    "    \"seed\": 42,\n",
    "    \"n_jobs\": -1\n",
    "}\n",
    "\n",
    "args = Namespace(**config)"
   ]
  },
  {
   "cell_type": "markdown",
   "id": "cefa278b",
   "metadata": {},
   "source": [
    "### Read the dataset"
   ]
  },
  {
   "cell_type": "code",
   "execution_count": 3,
   "id": "bf15e887",
   "metadata": {},
   "outputs": [],
   "source": [
    "violence_hidden = load_from_disk(\"/data4/mmendieta/data/geo_corpus.0.0.1_datasets_hidden_e5_all_labels\")"
   ]
  },
  {
   "cell_type": "code",
   "execution_count": null,
   "id": "69175467",
   "metadata": {},
   "outputs": [],
   "source": [
    "violence_hidden"
   ]
  },
  {
   "cell_type": "code",
   "execution_count": 4,
   "id": "33056177",
   "metadata": {},
   "outputs": [],
   "source": [
    "# Remove unncesary columns\n",
    "keep_cols = ['hidden_state', 'labels']\n",
    "remove_columns = [col for col in violence_hidden['train'].column_names if col not in keep_cols]"
   ]
  },
  {
   "cell_type": "code",
   "execution_count": 5,
   "id": "955e02b8",
   "metadata": {},
   "outputs": [],
   "source": [
    "violence_hidden = violence_hidden.remove_columns(remove_columns)"
   ]
  },
  {
   "cell_type": "code",
   "execution_count": null,
   "id": "2d529a58",
   "metadata": {},
   "outputs": [],
   "source": [
    "violence_hidden"
   ]
  },
  {
   "cell_type": "code",
   "execution_count": 23,
   "id": "a918a463",
   "metadata": {},
   "outputs": [],
   "source": [
    "# Extract a subset of the dataset\n",
    "train_clf_ds = violence_hidden[\"train\"].shuffle(args.seed).select(range(args.train_subset))\n",
    "validation_clf_ds = violence_hidden[\"validation\"].shuffle(args.seed).select(range(args.valid_subset))\n",
    "test_clf_ds = violence_hidden[\"test\"].shuffle(args.seed).select(range(args.test_subset))"
   ]
  },
  {
   "cell_type": "code",
   "execution_count": null,
   "id": "3fb48da8",
   "metadata": {},
   "outputs": [],
   "source": [
    "train_clf_ds[0]"
   ]
  },
  {
   "cell_type": "markdown",
   "id": "646db38b",
   "metadata": {},
   "source": [
    "### Create a feature matrix"
   ]
  },
  {
   "cell_type": "code",
   "execution_count": 24,
   "id": "983ac8e3",
   "metadata": {},
   "outputs": [
    {
     "name": "stdout",
     "output_type": "stream",
     "text": [
      "CPU times: user 22.2 s, sys: 24.6 s, total: 46.8 s\n",
      "Wall time: 25.4 s\n"
     ]
    },
    {
     "data": {
      "text/plain": [
       "(1500000, 1024)"
      ]
     },
     "execution_count": 24,
     "metadata": {},
     "output_type": "execute_result"
    }
   ],
   "source": [
    "%time X_train = np.array(train_clf_ds[\"hidden_state\"])\n",
    "y_train = np.array(train_clf_ds[\"labels\"])\n",
    "X_validation = np.array(validation_clf_ds[\"hidden_state\"])\n",
    "y_validation = np.array(validation_clf_ds[\"labels\"])\n",
    "X_test = np.array(test_clf_ds[\"hidden_state\"])\n",
    "y_test = np.array(test_clf_ds[\"labels\"])\n",
    "X_train.shape"
   ]
  },
  {
   "cell_type": "code",
   "execution_count": 25,
   "id": "55f8ddb0",
   "metadata": {},
   "outputs": [
    {
     "name": "stdout",
     "output_type": "stream",
     "text": [
      "-2.9547567\n",
      "3.7514224\n"
     ]
    }
   ],
   "source": [
    "print(np.min(X_train[10]))\n",
    "print(np.max(X_train[10]))"
   ]
  },
  {
   "cell_type": "markdown",
   "id": "bf706a08",
   "metadata": {},
   "source": [
    "## Helper Functions"
   ]
  },
  {
   "cell_type": "code",
   "execution_count": 26,
   "id": "ddb2b03e",
   "metadata": {},
   "outputs": [],
   "source": [
    "def metricsReport(modelName, test_labels, predictions, prediction_probabilities=None):\n",
    "    \"\"\"\n",
    "    Generates and prints a comprehensive classification metrics report.\n",
    "    This version includes a robust reshaping of probabilities.\n",
    "    \n",
    "    Args:\n",
    "        modelName (str): The name of the model being evaluated.\n",
    "        test_labels (array-like): True labels.\n",
    "        predictions (array-like): Binary predictions (0 or 1).\n",
    "        prediction_probabilities (array-like, optional): Prediction probabilities or scores.\n",
    "                                                        Required for roc_auc_score.\n",
    "    \"\"\"\n",
    "    accuracy = accuracy_score(test_labels, predictions)\n",
    "    \n",
    "    roc_auc_micro = np.nan\n",
    "    roc_auc_weighted = np.nan\n",
    "\n",
    "    if prediction_probabilities is not None:\n",
    "        try:\n",
    "            # Check the dimensions of the probability array\n",
    "            if isinstance(prediction_probabilities, list):\n",
    "                # This is the case where a list of arrays is returned.\n",
    "                # Stack the positive class probabilities ([:, 1]) to get a (n_samples, n_labels) array\n",
    "                reshaped_probas = np.hstack([p[:, 1].reshape(-1, 1) for p in prediction_probabilities])\n",
    "            elif prediction_probabilities.ndim == 3:\n",
    "                # This is the case where the list was converted to a 3D array (n_labels, n_samples, 2)\n",
    "                # We need to transpose and take the positive class probabilities.\n",
    "                reshaped_probas = prediction_probabilities[:, :, 1].T\n",
    "            elif prediction_probabilities.ndim == 2:\n",
    "                # This is the expected shape from MultiOutputClassifier.\n",
    "                # No reshaping needed, but we'll use a copy to be safe.\n",
    "                reshaped_probas = prediction_probabilities.copy()\n",
    "            else:\n",
    "                # Handle any other unexpected shape\n",
    "                print(f\"Warning: Unexpected prediction probability shape: {prediction_probabilities.shape}\")\n",
    "                return # Exit the function if we can't proceed\n",
    "            \n",
    "            # Now, use the reshaped probabilities for the ROC AUC calculation\n",
    "            roc_auc_micro = roc_auc_score(test_labels, reshaped_probas, average=\"micro\")\n",
    "            roc_auc_weighted = roc_auc_score(test_labels, reshaped_probas, average=\"weighted\")\n",
    "        except ValueError as e:\n",
    "            print(f\"Warning: Could not calculate ROC AUC. Error: {e}\")\n",
    "            roc_auc_micro = np.nan\n",
    "            roc_auc_weighted = np.nan\n",
    "    else:\n",
    "        print(\"Warning: prediction_probabilities not provided. ROC AUC scores will be NaN.\")\n",
    "\n",
    "    # ... rest of your metricsReport function ...\n",
    "    weighted_precision = precision_score(test_labels, predictions, average='weighted', zero_division=0)\n",
    "    weighted_recall = recall_score(test_labels, predictions, average='weighted', zero_division=0)\n",
    "    weighted_f1 = f1_score(test_labels, predictions, average='weighted', zero_division=0)\n",
    "    \n",
    "    micro_precision = precision_score(test_labels, predictions, average='micro', zero_division=0)\n",
    "    micro_recall = recall_score(test_labels, predictions, average='micro', zero_division=0)\n",
    "    micro_f1 = f1_score(test_labels, predictions, average='micro', zero_division=0)\n",
    "    \n",
    "    print(f\"------ {modelName} Model Metrics -----\")\n",
    "    print(f\"Accuracy: {accuracy:.4f}\\n\"\n",
    "          f\"roc_auc_score_micro: {roc_auc_micro:.4f}\\n\"\n",
    "          f\"roc_auc_score_weighted: {roc_auc_weighted:.4f}\\n\"\n",
    "          f\"Precision:\\n\"\n",
    "          f\"  - Weighted: {weighted_precision:.4f}\\n\"\n",
    "          f\"  - Micro: {micro_precision:.4f}\\n\"\n",
    "          f\"Recall:\\n\"\n",
    "          f\"  - Weighted: {weighted_recall:.4f}\\n\"\n",
    "          f\"  - Micro: {micro_recall:.4f}\\n\"\n",
    "          f\"F1-measure:\\n\"\n",
    "          f\"  - Weighted: {weighted_f1:.4f}\\n\"\n",
    "          f\"  - Micro: {micro_f1:.4f}\")\n",
    "    \n",
    "    ModelsPerformance[modelName] = {\n",
    "        \"accuracy\": f\"{accuracy:.4f}\",\n",
    "        \"roc_auc_micro\": f\"{roc_auc_micro:.4f}\",\n",
    "        \"roc_auc_weighted\": f\"{roc_auc_weighted:.4f}\",\n",
    "        \"weighted_precision\": f\"{weighted_precision:.4f}\",\n",
    "        \"weighted_recall\": f\"{weighted_recall:.4f}\",\n",
    "        \"weighted_f1\": f\"{weighted_f1:.4f}\",\n",
    "        \"micro_precision\": f\"{micro_precision:.4f}\",\n",
    "        \"micro_recall\": f\"{micro_recall:.4f}\",\n",
    "        \"micro_f1\": f\"{micro_f1:.4f}\"\n",
    "    }"
   ]
  },
  {
   "cell_type": "code",
   "execution_count": 10,
   "id": "7d6f1f7f",
   "metadata": {},
   "outputs": [],
   "source": [
    "def plot_confusion_matrix(y_test, y_pred, clf:str):\n",
    "    # Your full list of 40 labels\n",
    "    labels = ['post1geo10', 'post1geo20', 'post1geo30', 'post1geo50', 'post1geo70',\n",
    "              'post2geo10', 'post2geo20', 'post2geo30', 'post2geo50', 'post2geo70',\n",
    "              'post3geo10', 'post3geo20', 'post3geo30', 'post3geo50', 'post3geo70',\n",
    "              'post7geo10', 'post7geo20', 'post7geo30', 'post7geo50', 'post7geo70',\n",
    "              'pre1geo10', 'pre1geo20', 'pre1geo30', 'pre1geo50', 'pre1geo70',\n",
    "              'pre2geo10', 'pre2geo20', 'pre2geo30', 'pre2geo50', 'pre2geo70',\n",
    "              'pre3geo10', 'pre3geo20', 'pre3geo30', 'pre3geo50', 'pre3geo70',\n",
    "              'pre7geo10', 'pre7geo20', 'pre7geo30', 'pre7geo50', 'pre7geo70']\n",
    "\n",
    "    num_labels = len(labels)\n",
    "    num_rows = 5\n",
    "    num_cols = 8 # 5 rows * 8 columns = 40 plots\n",
    "\n",
    "    # Adjust figure size for 40 plots\n",
    "    f, axes = plt.subplots(num_rows, num_cols, figsize=(num_cols * 4, num_rows * 4)) # Adjusted figsize dynamically\n",
    "    f.suptitle(clf, fontsize=36)\n",
    "    axes = axes.ravel() # Flatten the 2D array of axes for easy iteration\n",
    "\n",
    "    # Iterate through all 40 labels\n",
    "    for i in range(num_labels):\n",
    "        # Calculate confusion matrix for the i-th label (binary)\n",
    "        cm = confusion_matrix(y_test[:, i], y_pred[:, i])\n",
    "\n",
    "        # IMPORTANT CORRECTION: display_labels should be [0, 1] for binary classes\n",
    "        disp = ConfusionMatrixDisplay(confusion_matrix=cm,\n",
    "                                      display_labels=[0, 1])\n",
    "\n",
    "        disp.plot(ax=axes[i], values_format='.4g') # Plot on the current subplot\n",
    "        disp.ax_.set_title(labels[i], fontsize=10) # Set title for the current label\n",
    "\n",
    "        # Remove x-axis label for plots that are not in the bottom row\n",
    "        if i < (num_rows - 1) * num_cols: # If not in the last row\n",
    "            disp.ax_.set_xlabel('')\n",
    "        else: # For plots in the last row, ensure x-labels are visible\n",
    "             disp.ax_.set_xlabel('Predicted Label', fontsize=8)\n",
    "\n",
    "\n",
    "        # Remove y-axis label for plots that are not in the first column\n",
    "        if i % num_cols != 0: # If not in the first column of a row\n",
    "            disp.ax_.set_ylabel('')\n",
    "        else: # For plots in the first column, ensure y-labels are visible\n",
    "            disp.ax_.set_ylabel('True Label', fontsize=8)\n",
    "\n",
    "\n",
    "        disp.im_.colorbar.remove() # Remove individual colorbars to avoid clutter\n",
    "\n",
    "    # Adjust layout to prevent overlap\n",
    "    plt.subplots_adjust(wspace=0.10, hspace=0.1)\n",
    "\n",
    "    # Add a single colorbar for the entire figure (optional, but good for large grids)\n",
    "    # This might require some manual adjustment if `disp.im_` is not available after loop\n",
    "    # For simplicity, if you want a shared colorbar, you might need to plot one outside the loop\n",
    "    # or keep one of the disp.im_ and pass its norm and cmap to a new colorbar\n",
    "    # As it's commented out in your original, I'll keep it simple for now and only remove individuals.\n",
    "    # If a shared colorbar is desired, it's usually better to handle it separately after all plots.\n",
    "    # f.colorbar(disp.im_, ax=axes) # Removed for simplicity, as it refers to last plot's image\n",
    "\n",
    "    plt.show()"
   ]
  },
  {
   "cell_type": "markdown",
   "id": "50e80d68",
   "metadata": {},
   "source": [
    "# Classifiers"
   ]
  },
  {
   "cell_type": "markdown",
   "id": "a5dbac64",
   "metadata": {},
   "source": [
    "## Problem transformation"
   ]
  },
  {
   "cell_type": "markdown",
   "id": "4d26f12f",
   "metadata": {},
   "source": [
    "### Bagging"
   ]
  },
  {
   "cell_type": "code",
   "execution_count": null,
   "id": "b53bfa2f",
   "metadata": {},
   "outputs": [],
   "source": [
    "bagClassifier = OneVsRestClassifier(BaggingClassifier(n_jobs=args.n_jobs, \n",
    "                                                      random_state=args.seed))\n",
    "%time bagClassifier.fit(X_train, y_train)\n"
   ]
  },
  {
   "cell_type": "code",
   "execution_count": null,
   "id": "ebbe906f",
   "metadata": {},
   "outputs": [],
   "source": [
    "%time bagPreds = bagClassifier.predict(X_test)"
   ]
  },
  {
   "cell_type": "markdown",
   "id": "154712ef",
   "metadata": {},
   "source": [
    "### Boosting"
   ]
  },
  {
   "cell_type": "code",
   "execution_count": null,
   "id": "fee965e5",
   "metadata": {},
   "outputs": [],
   "source": [
    "boostClassifier = OneVsRestClassifier(GradientBoostingClassifier(\n",
    "    random_state=args.seed), n_jobs=-1)\n",
    "%time boostClassifier.fit(X_train, y_train)"
   ]
  },
  {
   "cell_type": "code",
   "execution_count": null,
   "id": "566bf6e9",
   "metadata": {},
   "outputs": [],
   "source": [
    "%time boostPreds = boostClassifier.predict(X_test)"
   ]
  },
  {
   "cell_type": "markdown",
   "id": "b98880db",
   "metadata": {},
   "source": [
    "### OneVsRest - Support Vector Machine"
   ]
  },
  {
   "cell_type": "code",
   "execution_count": null,
   "id": "5b46d930",
   "metadata": {},
   "outputs": [],
   "source": [
    "# Standardize the data for SVM\n",
    "X_train_scaled = StandardScaler().fit_transform(X_train)\n",
    "X_validation_scaled = StandardScaler().fit_transform(X_validation)\n",
    "X_test_scaled = StandardScaler().fit_transform(X_test)"
   ]
  },
  {
   "cell_type": "code",
   "execution_count": null,
   "id": "f266af11",
   "metadata": {},
   "outputs": [],
   "source": [
    "svmClassifier = OneVsRestClassifier(LinearSVC(\n",
    "    random_state=args.seed, max_iter=7000, \n",
    "    dual=False, tol=1e-5), n_jobs=args.n_jobs)\n",
    "%time svmClassifier.fit(X_train_scaled, y_train)"
   ]
  },
  {
   "cell_type": "code",
   "execution_count": null,
   "id": "4f0fc6e2",
   "metadata": {},
   "outputs": [],
   "source": [
    "%time svmPreds = svmClassifier.predict(X_test)"
   ]
  },
  {
   "cell_type": "markdown",
   "id": "4fa312d4",
   "metadata": {},
   "source": [
    "### Binary Relevance - Support Vector Machine"
   ]
  },
  {
   "cell_type": "code",
   "execution_count": null,
   "id": "10a21ee8",
   "metadata": {},
   "outputs": [],
   "source": [
    "BinaryRelSVC = BinaryRelevance(LinearSVC(random_state=args.seed,\n",
    "                                         max_iter=7000, dual=False, \n",
    "                                         tol=1e-5),\n",
    "                                         require_dense = [True, True])\n",
    "%time BinaryRelSVC.fit(X_train_scaled, y_train)"
   ]
  },
  {
   "cell_type": "code",
   "execution_count": null,
   "id": "33aaa696",
   "metadata": {},
   "outputs": [],
   "source": [
    "%time BinRelSVCPreds = BinaryRelSVC.predict(X_test).toarray()"
   ]
  },
  {
   "cell_type": "markdown",
   "id": "e19384bc",
   "metadata": {},
   "source": [
    "## Problem Adaptation"
   ]
  },
  {
   "cell_type": "markdown",
   "id": "bad64321",
   "metadata": {},
   "source": [
    "### Decision Trees"
   ]
  },
  {
   "cell_type": "code",
   "execution_count": 27,
   "id": "75623085",
   "metadata": {},
   "outputs": [
    {
     "name": "stdout",
     "output_type": "stream",
     "text": [
      "CPU times: user 8.56 s, sys: 3.72 s, total: 12.3 s\n",
      "Wall time: 6h 44min 34s\n"
     ]
    },
    {
     "data": {
      "text/html": [
       "<style>#sk-container-id-5 {color: black;background-color: white;}#sk-container-id-5 pre{padding: 0;}#sk-container-id-5 div.sk-toggleable {background-color: white;}#sk-container-id-5 label.sk-toggleable__label {cursor: pointer;display: block;width: 100%;margin-bottom: 0;padding: 0.3em;box-sizing: border-box;text-align: center;}#sk-container-id-5 label.sk-toggleable__label-arrow:before {content: \"▸\";float: left;margin-right: 0.25em;color: #696969;}#sk-container-id-5 label.sk-toggleable__label-arrow:hover:before {color: black;}#sk-container-id-5 div.sk-estimator:hover label.sk-toggleable__label-arrow:before {color: black;}#sk-container-id-5 div.sk-toggleable__content {max-height: 0;max-width: 0;overflow: hidden;text-align: left;background-color: #f0f8ff;}#sk-container-id-5 div.sk-toggleable__content pre {margin: 0.2em;color: black;border-radius: 0.25em;background-color: #f0f8ff;}#sk-container-id-5 input.sk-toggleable__control:checked~div.sk-toggleable__content {max-height: 200px;max-width: 100%;overflow: auto;}#sk-container-id-5 input.sk-toggleable__control:checked~label.sk-toggleable__label-arrow:before {content: \"▾\";}#sk-container-id-5 div.sk-estimator input.sk-toggleable__control:checked~label.sk-toggleable__label {background-color: #d4ebff;}#sk-container-id-5 div.sk-label input.sk-toggleable__control:checked~label.sk-toggleable__label {background-color: #d4ebff;}#sk-container-id-5 input.sk-hidden--visually {border: 0;clip: rect(1px 1px 1px 1px);clip: rect(1px, 1px, 1px, 1px);height: 1px;margin: -1px;overflow: hidden;padding: 0;position: absolute;width: 1px;}#sk-container-id-5 div.sk-estimator {font-family: monospace;background-color: #f0f8ff;border: 1px dotted black;border-radius: 0.25em;box-sizing: border-box;margin-bottom: 0.5em;}#sk-container-id-5 div.sk-estimator:hover {background-color: #d4ebff;}#sk-container-id-5 div.sk-parallel-item::after {content: \"\";width: 100%;border-bottom: 1px solid gray;flex-grow: 1;}#sk-container-id-5 div.sk-label:hover label.sk-toggleable__label {background-color: #d4ebff;}#sk-container-id-5 div.sk-serial::before {content: \"\";position: absolute;border-left: 1px solid gray;box-sizing: border-box;top: 0;bottom: 0;left: 50%;z-index: 0;}#sk-container-id-5 div.sk-serial {display: flex;flex-direction: column;align-items: center;background-color: white;padding-right: 0.2em;padding-left: 0.2em;position: relative;}#sk-container-id-5 div.sk-item {position: relative;z-index: 1;}#sk-container-id-5 div.sk-parallel {display: flex;align-items: stretch;justify-content: center;background-color: white;position: relative;}#sk-container-id-5 div.sk-item::before, #sk-container-id-5 div.sk-parallel-item::before {content: \"\";position: absolute;border-left: 1px solid gray;box-sizing: border-box;top: 0;bottom: 0;left: 50%;z-index: -1;}#sk-container-id-5 div.sk-parallel-item {display: flex;flex-direction: column;z-index: 1;position: relative;background-color: white;}#sk-container-id-5 div.sk-parallel-item:first-child::after {align-self: flex-end;width: 50%;}#sk-container-id-5 div.sk-parallel-item:last-child::after {align-self: flex-start;width: 50%;}#sk-container-id-5 div.sk-parallel-item:only-child::after {width: 0;}#sk-container-id-5 div.sk-dashed-wrapped {border: 1px dashed gray;margin: 0 0.4em 0.5em 0.4em;box-sizing: border-box;padding-bottom: 0.4em;background-color: white;}#sk-container-id-5 div.sk-label label {font-family: monospace;font-weight: bold;display: inline-block;line-height: 1.2em;}#sk-container-id-5 div.sk-label-container {text-align: center;}#sk-container-id-5 div.sk-container {/* jupyter's `normalize.less` sets `[hidden] { display: none; }` but bootstrap.min.css set `[hidden] { display: none !important; }` so we also need the `!important` here to be able to override the default hidden behavior on the sphinx rendered scikit-learn.org. See: https://github.com/scikit-learn/scikit-learn/issues/21755 */display: inline-block !important;position: relative;}#sk-container-id-5 div.sk-text-repr-fallback {display: none;}</style><div id=\"sk-container-id-5\" class=\"sk-top-container\"><div class=\"sk-text-repr-fallback\"><pre>MultiOutputClassifier(estimator=DecisionTreeClassifier(random_state=42),\n",
       "                      n_jobs=-1)</pre><b>In a Jupyter environment, please rerun this cell to show the HTML representation or trust the notebook. <br />On GitHub, the HTML representation is unable to render, please try loading this page with nbviewer.org.</b></div><div class=\"sk-container\" hidden><div class=\"sk-item sk-dashed-wrapped\"><div class=\"sk-label-container\"><div class=\"sk-label sk-toggleable\"><input class=\"sk-toggleable__control sk-hidden--visually\" id=\"sk-estimator-id-13\" type=\"checkbox\" ><label for=\"sk-estimator-id-13\" class=\"sk-toggleable__label sk-toggleable__label-arrow\">MultiOutputClassifier</label><div class=\"sk-toggleable__content\"><pre>MultiOutputClassifier(estimator=DecisionTreeClassifier(random_state=42),\n",
       "                      n_jobs=-1)</pre></div></div></div><div class=\"sk-parallel\"><div class=\"sk-parallel-item\"><div class=\"sk-item\"><div class=\"sk-label-container\"><div class=\"sk-label sk-toggleable\"><input class=\"sk-toggleable__control sk-hidden--visually\" id=\"sk-estimator-id-14\" type=\"checkbox\" ><label for=\"sk-estimator-id-14\" class=\"sk-toggleable__label sk-toggleable__label-arrow\">estimator: DecisionTreeClassifier</label><div class=\"sk-toggleable__content\"><pre>DecisionTreeClassifier(random_state=42)</pre></div></div></div><div class=\"sk-serial\"><div class=\"sk-item\"><div class=\"sk-estimator sk-toggleable\"><input class=\"sk-toggleable__control sk-hidden--visually\" id=\"sk-estimator-id-15\" type=\"checkbox\" ><label for=\"sk-estimator-id-15\" class=\"sk-toggleable__label sk-toggleable__label-arrow\">DecisionTreeClassifier</label><div class=\"sk-toggleable__content\"><pre>DecisionTreeClassifier(random_state=42)</pre></div></div></div></div></div></div></div></div></div></div>"
      ],
      "text/plain": [
       "MultiOutputClassifier(estimator=DecisionTreeClassifier(random_state=42),\n",
       "                      n_jobs=-1)"
      ]
     },
     "execution_count": 27,
     "metadata": {},
     "output_type": "execute_result"
    }
   ],
   "source": [
    "dtClassifier = MultiOutputClassifier(\n",
    "    DecisionTreeClassifier(random_state=args.seed),\n",
    "    n_jobs=args.n_jobs\n",
    ")\n",
    "%time dtClassifier.fit(X_train, y_train)"
   ]
  },
  {
   "cell_type": "code",
   "execution_count": null,
   "id": "66f2badf",
   "metadata": {},
   "outputs": [],
   "source": [
    "# Do not run this line of code because it is defined below in the evaluation code\n",
    "%time dtPreds = dtClassifier.predict(X_test)"
   ]
  },
  {
   "cell_type": "markdown",
   "id": "003b2f48",
   "metadata": {},
   "source": [
    "### Random Forest"
   ]
  },
  {
   "cell_type": "code",
   "execution_count": 28,
   "id": "89f2e33b",
   "metadata": {},
   "outputs": [
    {
     "name": "stdout",
     "output_type": "stream",
     "text": [
      "CPU times: user 1min 16s, sys: 2min 27s, total: 3min 43s\n",
      "Wall time: 10h 16min 37s\n"
     ]
    },
    {
     "data": {
      "text/html": [
       "<style>#sk-container-id-6 {color: black;background-color: white;}#sk-container-id-6 pre{padding: 0;}#sk-container-id-6 div.sk-toggleable {background-color: white;}#sk-container-id-6 label.sk-toggleable__label {cursor: pointer;display: block;width: 100%;margin-bottom: 0;padding: 0.3em;box-sizing: border-box;text-align: center;}#sk-container-id-6 label.sk-toggleable__label-arrow:before {content: \"▸\";float: left;margin-right: 0.25em;color: #696969;}#sk-container-id-6 label.sk-toggleable__label-arrow:hover:before {color: black;}#sk-container-id-6 div.sk-estimator:hover label.sk-toggleable__label-arrow:before {color: black;}#sk-container-id-6 div.sk-toggleable__content {max-height: 0;max-width: 0;overflow: hidden;text-align: left;background-color: #f0f8ff;}#sk-container-id-6 div.sk-toggleable__content pre {margin: 0.2em;color: black;border-radius: 0.25em;background-color: #f0f8ff;}#sk-container-id-6 input.sk-toggleable__control:checked~div.sk-toggleable__content {max-height: 200px;max-width: 100%;overflow: auto;}#sk-container-id-6 input.sk-toggleable__control:checked~label.sk-toggleable__label-arrow:before {content: \"▾\";}#sk-container-id-6 div.sk-estimator input.sk-toggleable__control:checked~label.sk-toggleable__label {background-color: #d4ebff;}#sk-container-id-6 div.sk-label input.sk-toggleable__control:checked~label.sk-toggleable__label {background-color: #d4ebff;}#sk-container-id-6 input.sk-hidden--visually {border: 0;clip: rect(1px 1px 1px 1px);clip: rect(1px, 1px, 1px, 1px);height: 1px;margin: -1px;overflow: hidden;padding: 0;position: absolute;width: 1px;}#sk-container-id-6 div.sk-estimator {font-family: monospace;background-color: #f0f8ff;border: 1px dotted black;border-radius: 0.25em;box-sizing: border-box;margin-bottom: 0.5em;}#sk-container-id-6 div.sk-estimator:hover {background-color: #d4ebff;}#sk-container-id-6 div.sk-parallel-item::after {content: \"\";width: 100%;border-bottom: 1px solid gray;flex-grow: 1;}#sk-container-id-6 div.sk-label:hover label.sk-toggleable__label {background-color: #d4ebff;}#sk-container-id-6 div.sk-serial::before {content: \"\";position: absolute;border-left: 1px solid gray;box-sizing: border-box;top: 0;bottom: 0;left: 50%;z-index: 0;}#sk-container-id-6 div.sk-serial {display: flex;flex-direction: column;align-items: center;background-color: white;padding-right: 0.2em;padding-left: 0.2em;position: relative;}#sk-container-id-6 div.sk-item {position: relative;z-index: 1;}#sk-container-id-6 div.sk-parallel {display: flex;align-items: stretch;justify-content: center;background-color: white;position: relative;}#sk-container-id-6 div.sk-item::before, #sk-container-id-6 div.sk-parallel-item::before {content: \"\";position: absolute;border-left: 1px solid gray;box-sizing: border-box;top: 0;bottom: 0;left: 50%;z-index: -1;}#sk-container-id-6 div.sk-parallel-item {display: flex;flex-direction: column;z-index: 1;position: relative;background-color: white;}#sk-container-id-6 div.sk-parallel-item:first-child::after {align-self: flex-end;width: 50%;}#sk-container-id-6 div.sk-parallel-item:last-child::after {align-self: flex-start;width: 50%;}#sk-container-id-6 div.sk-parallel-item:only-child::after {width: 0;}#sk-container-id-6 div.sk-dashed-wrapped {border: 1px dashed gray;margin: 0 0.4em 0.5em 0.4em;box-sizing: border-box;padding-bottom: 0.4em;background-color: white;}#sk-container-id-6 div.sk-label label {font-family: monospace;font-weight: bold;display: inline-block;line-height: 1.2em;}#sk-container-id-6 div.sk-label-container {text-align: center;}#sk-container-id-6 div.sk-container {/* jupyter's `normalize.less` sets `[hidden] { display: none; }` but bootstrap.min.css set `[hidden] { display: none !important; }` so we also need the `!important` here to be able to override the default hidden behavior on the sphinx rendered scikit-learn.org. See: https://github.com/scikit-learn/scikit-learn/issues/21755 */display: inline-block !important;position: relative;}#sk-container-id-6 div.sk-text-repr-fallback {display: none;}</style><div id=\"sk-container-id-6\" class=\"sk-top-container\"><div class=\"sk-text-repr-fallback\"><pre>MultiOutputClassifier(estimator=RandomForestClassifier(n_jobs=1,\n",
       "                                                       random_state=42),\n",
       "                      n_jobs=-1)</pre><b>In a Jupyter environment, please rerun this cell to show the HTML representation or trust the notebook. <br />On GitHub, the HTML representation is unable to render, please try loading this page with nbviewer.org.</b></div><div class=\"sk-container\" hidden><div class=\"sk-item sk-dashed-wrapped\"><div class=\"sk-label-container\"><div class=\"sk-label sk-toggleable\"><input class=\"sk-toggleable__control sk-hidden--visually\" id=\"sk-estimator-id-16\" type=\"checkbox\" ><label for=\"sk-estimator-id-16\" class=\"sk-toggleable__label sk-toggleable__label-arrow\">MultiOutputClassifier</label><div class=\"sk-toggleable__content\"><pre>MultiOutputClassifier(estimator=RandomForestClassifier(n_jobs=1,\n",
       "                                                       random_state=42),\n",
       "                      n_jobs=-1)</pre></div></div></div><div class=\"sk-parallel\"><div class=\"sk-parallel-item\"><div class=\"sk-item\"><div class=\"sk-label-container\"><div class=\"sk-label sk-toggleable\"><input class=\"sk-toggleable__control sk-hidden--visually\" id=\"sk-estimator-id-17\" type=\"checkbox\" ><label for=\"sk-estimator-id-17\" class=\"sk-toggleable__label sk-toggleable__label-arrow\">estimator: RandomForestClassifier</label><div class=\"sk-toggleable__content\"><pre>RandomForestClassifier(n_jobs=1, random_state=42)</pre></div></div></div><div class=\"sk-serial\"><div class=\"sk-item\"><div class=\"sk-estimator sk-toggleable\"><input class=\"sk-toggleable__control sk-hidden--visually\" id=\"sk-estimator-id-18\" type=\"checkbox\" ><label for=\"sk-estimator-id-18\" class=\"sk-toggleable__label sk-toggleable__label-arrow\">RandomForestClassifier</label><div class=\"sk-toggleable__content\"><pre>RandomForestClassifier(n_jobs=1, random_state=42)</pre></div></div></div></div></div></div></div></div></div></div>"
      ],
      "text/plain": [
       "MultiOutputClassifier(estimator=RandomForestClassifier(n_jobs=1,\n",
       "                                                       random_state=42),\n",
       "                      n_jobs=-1)"
      ]
     },
     "execution_count": 28,
     "metadata": {},
     "output_type": "execute_result"
    }
   ],
   "source": [
    "rfClassifier = MultiOutputClassifier(RandomForestClassifier(n_jobs=1, \n",
    "                                      random_state=args.seed),\n",
    "                                     n_jobs=args.n_jobs\n",
    "                                    )\n",
    "%time rfClassifier.fit(X_train, y_train)"
   ]
  },
  {
   "cell_type": "code",
   "execution_count": null,
   "id": "727f93a2",
   "metadata": {},
   "outputs": [],
   "source": [
    "# Do not run this line of code because it is defined below in the evaluation code\n",
    "%time rfPreds = rfClassifier.predict(X_test)"
   ]
  },
  {
   "cell_type": "markdown",
   "id": "36d841ae",
   "metadata": {},
   "source": [
    "# Model Evaluation"
   ]
  },
  {
   "cell_type": "markdown",
   "id": "f98d02a8",
   "metadata": {},
   "source": [
    "### Evaluate classifiers"
   ]
  },
  {
   "cell_type": "code",
   "execution_count": 29,
   "id": "45b84391",
   "metadata": {},
   "outputs": [
    {
     "name": "stdout",
     "output_type": "stream",
     "text": [
      "------ Decision Tree Model Metrics -----\n",
      "Accuracy: 0.0193\n",
      "roc_auc_score_micro: 0.5732\n",
      "roc_auc_score_weighted: 0.5242\n",
      "Precision:\n",
      "  - Weighted: 0.3928\n",
      "  - Micro: 0.3954\n",
      "Recall:\n",
      "  - Weighted: 0.3837\n",
      "  - Micro: 0.3837\n",
      "F1-measure:\n",
      "  - Weighted: 0.3881\n",
      "  - Micro: 0.3895\n",
      "------ Random Forest Model Metrics -----\n",
      "Accuracy: 0.0207\n",
      "roc_auc_score_micro: 0.7039\n",
      "roc_auc_score_weighted: 0.5766\n",
      "Precision:\n",
      "  - Weighted: 0.5578\n",
      "  - Micro: 0.6087\n",
      "Recall:\n",
      "  - Weighted: 0.2715\n",
      "  - Micro: 0.2715\n",
      "F1-measure:\n",
      "  - Weighted: 0.2716\n",
      "  - Micro: 0.3755\n"
     ]
    }
   ],
   "source": [
    "# Initialize the dictionary to store performance\n",
    "ModelsPerformance = {}\n",
    "\n",
    "# --- Bagging Classifier ---\n",
    "# bagPreds = bagClassifier.predict(X_test)\n",
    "# bagProbas = bagClassifier.predict_proba(X_test) # Get prediction probabilities\n",
    "# metricsReport(\"Bagging\", y_test, bagPreds, bagProbas)\n",
    "\n",
    "# --- Boosting Classifier (if uncommented and `boostClassifier` is fitted) ---\n",
    "# boostPreds = boostClassifier.predict(X_test)\n",
    "# boostProbas = boostClassifier.predict_proba(X_test) # Get prediction probabilities\n",
    "# metricsReport(\"Boosting\", y_test, boostPreds, boostProbas)\n",
    "\n",
    "# --- SVM-OVR Classifier ---\n",
    "# svmPreds = svmClassifier.predict(X_test)\n",
    "# LinearSVC doesn't have predict_proba, so use decision_function\n",
    "# svmScores = svmClassifier.decision_function(X_test)\n",
    "# metricsReport(\"SVM-OVR\", y_test, svmPreds, svmScores)\n",
    "\n",
    "# --- SVM-BR Classifier (if uncommented and `BinaryRelSVC` is fitted) ---\n",
    "# Assuming BinaryRelSVC is your BinaryRelevance(LinearSVC(...)) model\n",
    "# BinRelSVCPreds = BinaryRelSVC.predict(X_test)\n",
    "# BinRelSVCScores = BinaryRelSVC.decision_function(X_test) # Get decision function scores\n",
    "# metricsReport(\"SVM-BR\", y_test, BinRelSVCPreds, BinRelSVCScores)\n",
    "\n",
    "# --- Decision Tree Classifier ---\n",
    "dtPreds = dtClassifier.predict(X_test)\n",
    "dtProbas = dtClassifier.predict_proba(X_test) # Get prediction probabilities\n",
    "metricsReport(\"Decision Tree\", y_test, dtPreds, dtProbas)\n",
    "\n",
    "# --- Random Forest Classifier ---\n",
    "rfPreds = rfClassifier.predict(X_test)\n",
    "rfProbas = rfClassifier.predict_proba(X_test) # Get prediction probabilities\n",
    "metricsReport(\"Random Forest\", y_test, rfPreds, rfProbas)"
   ]
  },
  {
   "cell_type": "code",
   "execution_count": 30,
   "id": "38252eee",
   "metadata": {},
   "outputs": [
    {
     "name": "stdout",
     "output_type": "stream",
     "text": [
      " Model Name    | Acc.     | ROC_AUC_Micro  | ROC_AUC_Weighted | weighted_prec | weighted_rec | weighted_f1 | micro_prec | micro_rec | micro_f1\n",
      "------------------------------------------------------------------------------------------------------------------------------------\n",
      " Decision Tree | 0.0193  | 0.5732   | 0.5242     | 0.3928        | 0.3837       | 0.3881      | 0.3954     | 0.3837    | 0.3895\n",
      "------------------------------------------------------------------------------------------------------------------------------------\n",
      " Random Forest | 0.0207  | 0.7039   | 0.5766     | 0.5578        | 0.2715       | 0.2716      | 0.6087     | 0.2715    | 0.3755\n",
      "------------------------------------------------------------------------------------------------------------------------------------\n"
     ]
    }
   ],
   "source": [
    "print(\" Model Name \" + \" \"*3 + \"| Acc.    \" + \" \"*1 + \"| ROC_AUC_Micro \" + \" \"*1 + \"| ROC_AUC_Weighted\" + \" \"*1 + \"| weighted_prec\" + \" \"*1 + \"| weighted_rec\" + \" \"*1 + \"| weighted_f1\" + \" \"*1 + \"| micro_prec\" + \" \"*1 + \"| micro_rec\" + \" \"*1 + \"| micro_f1\")\n",
    "print(\"------------------------------------------------------------------------------------------------------------------------------------\") # Adjusted length of separator line\n",
    "for key, value in ModelsPerformance.items():\n",
    "    print(\" \" + key, \" \"*(13-len(key)) + \"|\", \\\n",
    "          value[\"accuracy\"], \" \"*(1) + \"|\", \\\n",
    "          value[\"roc_auc_micro\"], \" \"*(2) + \"|\", \\\n",
    "          value[\"roc_auc_weighted\"], \" \"*(4) + \"|\", \\\n",
    "          value[\"weighted_precision\"], \" \"*(7) + \"|\", \\\n",
    "          value[\"weighted_recall\"], \" \"*(6) + \"|\", \\\n",
    "          value[\"weighted_f1\"], \" \"*(5) + \"|\", \\\n",
    "          value[\"micro_precision\"], \" \"*(4) + \"|\", \\\n",
    "          value[\"micro_recall\"], \" \"*(3) + \"|\", \\\n",
    "          value[\"micro_f1\"])\n",
    "    print(\"------------------------------------------------------------------------------------------------------------------------------------\") # Adjusted length of separator line"
   ]
  },
  {
   "cell_type": "code",
   "execution_count": null,
   "id": "69ba89f1",
   "metadata": {},
   "outputs": [],
   "source": [
    "# Optional\n",
    "print(classification_report(rfPreds, y_test, target_names=['post7geo10', 'post7geo30', 'post7geo50',\n",
    "                                                     'pre7geo10','pre7geo30', 'pre7geo50']))"
   ]
  },
  {
   "cell_type": "markdown",
   "id": "7b93b7be",
   "metadata": {},
   "source": [
    "### Plot Confusion Matrix"
   ]
  },
  {
   "cell_type": "code",
   "execution_count": null,
   "id": "d37449eb",
   "metadata": {},
   "outputs": [],
   "source": [
    "# Bagging Classifier\n",
    "plot_confusion_matrix(y_test, bagPreds, \"Bagging Classifier\")"
   ]
  },
  {
   "cell_type": "code",
   "execution_count": null,
   "id": "4478105b",
   "metadata": {},
   "outputs": [],
   "source": [
    "# Boosting Classifier\n",
    "plot_confusion_matrix(y_test, boostPreds, \"Boosting Classifier\")"
   ]
  },
  {
   "cell_type": "code",
   "execution_count": null,
   "id": "94f6878c",
   "metadata": {},
   "outputs": [],
   "source": [
    "# SVM-OVR Classifier\n",
    "plot_confusion_matrix(y_test, svmPreds, \"SVM - One vs Rest\")"
   ]
  },
  {
   "cell_type": "code",
   "execution_count": null,
   "id": "e50488d8",
   "metadata": {},
   "outputs": [],
   "source": [
    "# SVM - Binary Relevance Classifier\n",
    "plot_confusion_matrix(y_test, BinRelSVCPreds, \"SVM - Binary Relevance\")"
   ]
  },
  {
   "cell_type": "code",
   "execution_count": null,
   "id": "bd5d920d",
   "metadata": {},
   "outputs": [],
   "source": [
    "# Decision Trees Classifier\n",
    "plot_confusion_matrix(y_test, dtPreds, \"Decision Tree\")"
   ]
  },
  {
   "cell_type": "code",
   "execution_count": null,
   "id": "35eb2abf",
   "metadata": {},
   "outputs": [],
   "source": [
    "# Random Forest Classifier\n",
    "plot_confusion_matrix(y_test, rfPreds, \"Random Forest Classifier\")"
   ]
  },
  {
   "cell_type": "markdown",
   "id": "78f9bac0",
   "metadata": {},
   "source": [
    "### Plot ROC Curve for the best classifier"
   ]
  },
  {
   "cell_type": "code",
   "execution_count": null,
   "id": "24ed30d2",
   "metadata": {},
   "outputs": [],
   "source": [
    "# Plot ROC Curve for the best classifier (RF)\n",
    "label_names = ['post1geo10', 'post1geo20', 'post1geo30', 'post1geo50', 'post1geo70',\n",
    "              'post2geo10', 'post2geo20', 'post2geo30', 'post2geo50', 'post2geo70',\n",
    "              'post3geo10', 'post3geo20', 'post3geo30', 'post3geo50', 'post3geo70',\n",
    "              'post7geo10', 'post7geo20', 'post7geo30', 'post7geo50', 'post7geo70',\n",
    "              'pre1geo10', 'pre1geo20', 'pre1geo30', 'pre1geo50', 'pre1geo70',\n",
    "              'pre2geo10', 'pre2geo20', 'pre2geo30', 'pre2geo50', 'pre2geo70',\n",
    "              'pre3geo10', 'pre3geo20', 'pre3geo30', 'pre3geo50', 'pre3geo70',\n",
    "              'pre7geo10', 'pre7geo20', 'pre7geo30', 'pre7geo50', 'pre7geo70']\n",
    "labelPlots ={}\n",
    "for i in range (len(label_names)):\n",
    "    rfClassifier.fit(X_train, y_train[:,i])\n",
    "    ax = plt.gca()\n",
    "    labelPlots[i]= plot_roc_curve(rfClassifier, X_test, y_test[:,i], name= label_names[i], ax=ax, alpha=0.8) \n",
    "\n",
    "plt.title(\"ROC comparison per class label - RF classifier\")\n",
    "plt.show()"
   ]
  },
  {
   "cell_type": "code",
   "execution_count": null,
   "id": "67a61018",
   "metadata": {},
   "outputs": [],
   "source": []
  }
 ],
 "metadata": {
  "kernelspec": {
   "display_name": "Python 3 (ipykernel)",
   "language": "python",
   "name": "python3"
  },
  "language_info": {
   "codemirror_mode": {
    "name": "ipython",
    "version": 3
   },
   "file_extension": ".py",
   "mimetype": "text/x-python",
   "name": "python",
   "nbconvert_exporter": "python",
   "pygments_lexer": "ipython3",
   "version": "3.8.3"
  }
 },
 "nbformat": 4,
 "nbformat_minor": 5
}
