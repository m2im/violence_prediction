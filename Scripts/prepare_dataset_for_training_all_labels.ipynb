{
 "cells": [
  {
   "cell_type": "code",
   "execution_count": 1,
   "id": "b1e02bc8",
   "metadata": {},
   "outputs": [
    {
     "data": {
      "text/plain": [
       "16"
      ]
     },
     "execution_count": 1,
     "metadata": {},
     "output_type": "execute_result"
    }
   ],
   "source": [
    "import torch\n",
    "torch.cuda.device_count()"
   ]
  },
  {
   "cell_type": "code",
   "execution_count": 2,
   "id": "44460ef8",
   "metadata": {},
   "outputs": [],
   "source": [
    "from datasets import load_from_disk\n",
    "import torch"
   ]
  },
  {
   "cell_type": "markdown",
   "id": "266b9abe",
   "metadata": {},
   "source": [
    "### Preprocess the dataset"
   ]
  },
  {
   "cell_type": "code",
   "execution_count": 4,
   "id": "3d0eef7e",
   "metadata": {},
   "outputs": [],
   "source": [
    "ds = load_from_disk(\"/data3/mmendieta/Violence_data/geo_corpus.0.0.1_datasets\")"
   ]
  },
  {
   "cell_type": "code",
   "execution_count": 5,
   "id": "3d70c922",
   "metadata": {},
   "outputs": [
    {
     "data": {
      "text/plain": [
       "{'tweetid': 445511997619462144,\n",
       " 'retweetid': 4.455081213779108e+17,\n",
       " 'date': '2014-03-17',\n",
       " 'timestamp': '2014-03-17 10:48:32',\n",
       " 'username': 'miguelmorillo',\n",
       " 'geo_x': -66.87919000000001,\n",
       " 'geo_y': 10.488010000000001,\n",
       " 'lang': 'es',\n",
       " 'text': 'Venezuela en crisis, y la Fiscal de shopping en Alemania (Video)',\n",
       " 'key': '-66_10__2014-03-17 10:48',\n",
       " 'post1geo10': 0,\n",
       " 'post1geo20': 0,\n",
       " 'post1geo30': 0,\n",
       " 'post1geo50': 0,\n",
       " 'post1geo70': 0,\n",
       " 'post2geo10': 0,\n",
       " 'post2geo20': 0,\n",
       " 'post2geo30': 0,\n",
       " 'post2geo50': 0,\n",
       " 'post2geo70': 0,\n",
       " 'post3geo10': 0,\n",
       " 'post3geo20': 0,\n",
       " 'post3geo30': 0,\n",
       " 'post3geo50': 0,\n",
       " 'post3geo70': 0,\n",
       " 'post7geo10': 1,\n",
       " 'post7geo20': 1,\n",
       " 'post7geo30': 1,\n",
       " 'post7geo50': 1,\n",
       " 'post7geo70': 1,\n",
       " 'pre1geo10': 0,\n",
       " 'pre1geo20': 0,\n",
       " 'pre1geo30': 0,\n",
       " 'pre1geo50': 0,\n",
       " 'pre1geo70': 0,\n",
       " 'pre2geo10': 0,\n",
       " 'pre2geo20': 0,\n",
       " 'pre2geo30': 0,\n",
       " 'pre2geo50': 0,\n",
       " 'pre2geo70': 0,\n",
       " 'pre3geo10': 0,\n",
       " 'pre3geo20': 0,\n",
       " 'pre3geo30': 0,\n",
       " 'pre3geo50': 0,\n",
       " 'pre3geo70': 1,\n",
       " 'pre7geo10': 0,\n",
       " 'pre7geo20': 0,\n",
       " 'pre7geo30': 0,\n",
       " 'pre7geo50': 0,\n",
       " 'pre7geo70': 1}"
      ]
     },
     "execution_count": 5,
     "metadata": {},
     "output_type": "execute_result"
    }
   ],
   "source": [
    "# Peek at one sample\n",
    "ds[\"train\"][0]"
   ]
  },
  {
   "cell_type": "markdown",
   "id": "fe6c3bf7",
   "metadata": {},
   "source": [
    "Since this is a multi-label classification problem, there are 40 labels = ('pre7geo10', 'pre7geo30', 'pre7geo50', 'post7geo10', 'post7geo30', 'post7geo50', ...)"
   ]
  },
  {
   "cell_type": "code",
   "execution_count": 6,
   "id": "a68a3cc8",
   "metadata": {},
   "outputs": [],
   "source": [
    "# Remove unncesary columns\n",
    "remove_cols = ['tweetid', 'retweetid', 'date', 'timestamp', 'username', 'geo_x', 'geo_y', 'lang', 'key']\n",
    "remove_columns = [col for col in ds['train'].column_names if col in remove_cols]"
   ]
  },
  {
   "cell_type": "code",
   "execution_count": 7,
   "id": "984fcf0e",
   "metadata": {},
   "outputs": [],
   "source": [
    "ds = ds.remove_columns(remove_columns)"
   ]
  },
  {
   "cell_type": "code",
   "execution_count": 8,
   "id": "8e4cde91",
   "metadata": {},
   "outputs": [
    {
     "data": {
      "text/plain": [
       "{'text': Value(dtype='string', id=None),\n",
       " 'post1geo10': Value(dtype='int64', id=None),\n",
       " 'post1geo20': Value(dtype='int64', id=None),\n",
       " 'post1geo30': Value(dtype='int64', id=None),\n",
       " 'post1geo50': Value(dtype='int64', id=None),\n",
       " 'post1geo70': Value(dtype='int64', id=None),\n",
       " 'post2geo10': Value(dtype='int64', id=None),\n",
       " 'post2geo20': Value(dtype='int64', id=None),\n",
       " 'post2geo30': Value(dtype='int64', id=None),\n",
       " 'post2geo50': Value(dtype='int64', id=None),\n",
       " 'post2geo70': Value(dtype='int64', id=None),\n",
       " 'post3geo10': Value(dtype='int64', id=None),\n",
       " 'post3geo20': Value(dtype='int64', id=None),\n",
       " 'post3geo30': Value(dtype='int64', id=None),\n",
       " 'post3geo50': Value(dtype='int64', id=None),\n",
       " 'post3geo70': Value(dtype='int64', id=None),\n",
       " 'post7geo10': Value(dtype='int64', id=None),\n",
       " 'post7geo20': Value(dtype='int64', id=None),\n",
       " 'post7geo30': Value(dtype='int64', id=None),\n",
       " 'post7geo50': Value(dtype='int64', id=None),\n",
       " 'post7geo70': Value(dtype='int64', id=None),\n",
       " 'pre1geo10': Value(dtype='int64', id=None),\n",
       " 'pre1geo20': Value(dtype='int64', id=None),\n",
       " 'pre1geo30': Value(dtype='int64', id=None),\n",
       " 'pre1geo50': Value(dtype='int64', id=None),\n",
       " 'pre1geo70': Value(dtype='int64', id=None),\n",
       " 'pre2geo10': Value(dtype='int64', id=None),\n",
       " 'pre2geo20': Value(dtype='int64', id=None),\n",
       " 'pre2geo30': Value(dtype='int64', id=None),\n",
       " 'pre2geo50': Value(dtype='int64', id=None),\n",
       " 'pre2geo70': Value(dtype='int64', id=None),\n",
       " 'pre3geo10': Value(dtype='int64', id=None),\n",
       " 'pre3geo20': Value(dtype='int64', id=None),\n",
       " 'pre3geo30': Value(dtype='int64', id=None),\n",
       " 'pre3geo50': Value(dtype='int64', id=None),\n",
       " 'pre3geo70': Value(dtype='int64', id=None),\n",
       " 'pre7geo10': Value(dtype='int64', id=None),\n",
       " 'pre7geo20': Value(dtype='int64', id=None),\n",
       " 'pre7geo30': Value(dtype='int64', id=None),\n",
       " 'pre7geo50': Value(dtype='int64', id=None),\n",
       " 'pre7geo70': Value(dtype='int64', id=None)}"
      ]
     },
     "execution_count": 8,
     "metadata": {},
     "output_type": "execute_result"
    }
   ],
   "source": [
    "ds[\"train\"].features"
   ]
  },
  {
   "cell_type": "code",
   "execution_count": 9,
   "id": "82da609b",
   "metadata": {},
   "outputs": [
    {
     "data": {
      "application/vnd.jupyter.widget-view+json": {
       "model_id": "1f2932e0cb924782b591dfcce276b906",
       "version_major": 2,
       "version_minor": 0
      },
      "text/plain": [
       "Casting the dataset:   0%|          | 0/1677 [00:00<?, ?ba/s]"
      ]
     },
     "metadata": {},
     "output_type": "display_data"
    },
    {
     "data": {
      "application/vnd.jupyter.widget-view+json": {
       "model_id": "ccc007b0553044678cf3e4b84923baa6",
       "version_major": 2,
       "version_minor": 0
      },
      "text/plain": [
       "Casting the dataset:   0%|          | 0/420 [00:00<?, ?ba/s]"
      ]
     },
     "metadata": {},
     "output_type": "display_data"
    },
    {
     "data": {
      "application/vnd.jupyter.widget-view+json": {
       "model_id": "c492f5d733ed41668e1d24dca000417e",
       "version_major": 2,
       "version_minor": 0
      },
      "text/plain": [
       "Casting the dataset:   0%|          | 0/233 [00:00<?, ?ba/s]"
      ]
     },
     "metadata": {},
     "output_type": "display_data"
    }
   ],
   "source": [
    "# We need to cast integer labels to float in order to calculate the Binary Cross\n",
    "# Entropy loss during training\n",
    "\n",
    "from datasets import DatasetDict, Value\n",
    "\n",
    "# List of label columns to cast (excluding 'text')\n",
    "label_columns = [col for col in ds[\"train\"].features if col != \"text\"]\n",
    "\n",
    "# Automatically generate new features\n",
    "new_features = ds[\"train\"].features.copy()\n",
    "for col in label_columns:\n",
    "    new_features[col] = Value(\"float32\")\n",
    "\n",
    "# Apply cast to all splits\n",
    "for split in ds.keys():\n",
    "    ds[split] = ds[split].cast(new_features)"
   ]
  },
  {
   "cell_type": "code",
   "execution_count": 19,
   "id": "c4a05474",
   "metadata": {},
   "outputs": [
    {
     "data": {
      "text/plain": [
       "['post1geo10',\n",
       " 'post1geo20',\n",
       " 'post1geo30',\n",
       " 'post1geo50',\n",
       " 'post1geo70',\n",
       " 'post2geo10',\n",
       " 'post2geo20',\n",
       " 'post2geo30',\n",
       " 'post2geo50',\n",
       " 'post2geo70',\n",
       " 'post3geo10',\n",
       " 'post3geo20',\n",
       " 'post3geo30',\n",
       " 'post3geo50',\n",
       " 'post3geo70',\n",
       " 'post7geo10',\n",
       " 'post7geo20',\n",
       " 'post7geo30',\n",
       " 'post7geo50',\n",
       " 'post7geo70',\n",
       " 'pre1geo10',\n",
       " 'pre1geo20',\n",
       " 'pre1geo30',\n",
       " 'pre1geo50',\n",
       " 'pre1geo70',\n",
       " 'pre2geo10',\n",
       " 'pre2geo20',\n",
       " 'pre2geo30',\n",
       " 'pre2geo50',\n",
       " 'pre2geo70',\n",
       " 'pre3geo10',\n",
       " 'pre3geo20',\n",
       " 'pre3geo30',\n",
       " 'pre3geo50',\n",
       " 'pre3geo70',\n",
       " 'pre7geo10',\n",
       " 'pre7geo20',\n",
       " 'pre7geo30',\n",
       " 'pre7geo50',\n",
       " 'pre7geo70',\n",
       " 'labels']"
      ]
     },
     "execution_count": 19,
     "metadata": {},
     "output_type": "execute_result"
    }
   ],
   "source": [
    "# List of label columns to cast (excluding 'text')\n",
    "label_columns = [col for col in ds[\"train\"].features if col != \"text\"]\n",
    "label_columns"
   ]
  },
  {
   "cell_type": "code",
   "execution_count": 10,
   "id": "22cab616",
   "metadata": {},
   "outputs": [
    {
     "data": {
      "text/plain": [
       "{'text': Value(dtype='string', id=None),\n",
       " 'post1geo10': Value(dtype='float32', id=None),\n",
       " 'post1geo20': Value(dtype='float32', id=None),\n",
       " 'post1geo30': Value(dtype='float32', id=None),\n",
       " 'post1geo50': Value(dtype='float32', id=None),\n",
       " 'post1geo70': Value(dtype='float32', id=None),\n",
       " 'post2geo10': Value(dtype='float32', id=None),\n",
       " 'post2geo20': Value(dtype='float32', id=None),\n",
       " 'post2geo30': Value(dtype='float32', id=None),\n",
       " 'post2geo50': Value(dtype='float32', id=None),\n",
       " 'post2geo70': Value(dtype='float32', id=None),\n",
       " 'post3geo10': Value(dtype='float32', id=None),\n",
       " 'post3geo20': Value(dtype='float32', id=None),\n",
       " 'post3geo30': Value(dtype='float32', id=None),\n",
       " 'post3geo50': Value(dtype='float32', id=None),\n",
       " 'post3geo70': Value(dtype='float32', id=None),\n",
       " 'post7geo10': Value(dtype='float32', id=None),\n",
       " 'post7geo20': Value(dtype='float32', id=None),\n",
       " 'post7geo30': Value(dtype='float32', id=None),\n",
       " 'post7geo50': Value(dtype='float32', id=None),\n",
       " 'post7geo70': Value(dtype='float32', id=None),\n",
       " 'pre1geo10': Value(dtype='float32', id=None),\n",
       " 'pre1geo20': Value(dtype='float32', id=None),\n",
       " 'pre1geo30': Value(dtype='float32', id=None),\n",
       " 'pre1geo50': Value(dtype='float32', id=None),\n",
       " 'pre1geo70': Value(dtype='float32', id=None),\n",
       " 'pre2geo10': Value(dtype='float32', id=None),\n",
       " 'pre2geo20': Value(dtype='float32', id=None),\n",
       " 'pre2geo30': Value(dtype='float32', id=None),\n",
       " 'pre2geo50': Value(dtype='float32', id=None),\n",
       " 'pre2geo70': Value(dtype='float32', id=None),\n",
       " 'pre3geo10': Value(dtype='float32', id=None),\n",
       " 'pre3geo20': Value(dtype='float32', id=None),\n",
       " 'pre3geo30': Value(dtype='float32', id=None),\n",
       " 'pre3geo50': Value(dtype='float32', id=None),\n",
       " 'pre3geo70': Value(dtype='float32', id=None),\n",
       " 'pre7geo10': Value(dtype='float32', id=None),\n",
       " 'pre7geo20': Value(dtype='float32', id=None),\n",
       " 'pre7geo30': Value(dtype='float32', id=None),\n",
       " 'pre7geo50': Value(dtype='float32', id=None),\n",
       " 'pre7geo70': Value(dtype='float32', id=None)}"
      ]
     },
     "execution_count": 10,
     "metadata": {},
     "output_type": "execute_result"
    }
   ],
   "source": [
    "ds[\"train\"].features"
   ]
  },
  {
   "cell_type": "code",
   "execution_count": 13,
   "id": "e0d20974",
   "metadata": {},
   "outputs": [
    {
     "data": {
      "application/vnd.jupyter.widget-view+json": {
       "model_id": "d289cbf22e4f468dba6b48104a62a6c7",
       "version_major": 2,
       "version_minor": 0
      },
      "text/plain": [
       "  0%|          | 0/16769932 [00:00<?, ?ex/s]"
      ]
     },
     "metadata": {},
     "output_type": "display_data"
    },
    {
     "data": {
      "application/vnd.jupyter.widget-view+json": {
       "model_id": "7082d879e191456bacef021f76e18ba5",
       "version_major": 2,
       "version_minor": 0
      },
      "text/plain": [
       "  0%|          | 0/4192483 [00:00<?, ?ex/s]"
      ]
     },
     "metadata": {},
     "output_type": "display_data"
    },
    {
     "data": {
      "application/vnd.jupyter.widget-view+json": {
       "model_id": "6b1cd7d1192e4312966b6f314882ece9",
       "version_major": 2,
       "version_minor": 0
      },
      "text/plain": [
       "  0%|          | 0/2329158 [00:00<?, ?ex/s]"
      ]
     },
     "metadata": {},
     "output_type": "display_data"
    },
    {
     "data": {
      "text/plain": [
       "DatasetDict({\n",
       "    train: Dataset({\n",
       "        features: ['text', 'post1geo10', 'post1geo20', 'post1geo30', 'post1geo50', 'post1geo70', 'post2geo10', 'post2geo20', 'post2geo30', 'post2geo50', 'post2geo70', 'post3geo10', 'post3geo20', 'post3geo30', 'post3geo50', 'post3geo70', 'post7geo10', 'post7geo20', 'post7geo30', 'post7geo50', 'post7geo70', 'pre1geo10', 'pre1geo20', 'pre1geo30', 'pre1geo50', 'pre1geo70', 'pre2geo10', 'pre2geo20', 'pre2geo30', 'pre2geo50', 'pre2geo70', 'pre3geo10', 'pre3geo20', 'pre3geo30', 'pre3geo50', 'pre3geo70', 'pre7geo10', 'pre7geo20', 'pre7geo30', 'pre7geo50', 'pre7geo70', 'labels'],\n",
       "        num_rows: 16769932\n",
       "    })\n",
       "    validation: Dataset({\n",
       "        features: ['text', 'post1geo10', 'post1geo20', 'post1geo30', 'post1geo50', 'post1geo70', 'post2geo10', 'post2geo20', 'post2geo30', 'post2geo50', 'post2geo70', 'post3geo10', 'post3geo20', 'post3geo30', 'post3geo50', 'post3geo70', 'post7geo10', 'post7geo20', 'post7geo30', 'post7geo50', 'post7geo70', 'pre1geo10', 'pre1geo20', 'pre1geo30', 'pre1geo50', 'pre1geo70', 'pre2geo10', 'pre2geo20', 'pre2geo30', 'pre2geo50', 'pre2geo70', 'pre3geo10', 'pre3geo20', 'pre3geo30', 'pre3geo50', 'pre3geo70', 'pre7geo10', 'pre7geo20', 'pre7geo30', 'pre7geo50', 'pre7geo70', 'labels'],\n",
       "        num_rows: 4192483\n",
       "    })\n",
       "    test: Dataset({\n",
       "        features: ['text', 'post1geo10', 'post1geo20', 'post1geo30', 'post1geo50', 'post1geo70', 'post2geo10', 'post2geo20', 'post2geo30', 'post2geo50', 'post2geo70', 'post3geo10', 'post3geo20', 'post3geo30', 'post3geo50', 'post3geo70', 'post7geo10', 'post7geo20', 'post7geo30', 'post7geo50', 'post7geo70', 'pre1geo10', 'pre1geo20', 'pre1geo30', 'pre1geo50', 'pre1geo70', 'pre2geo10', 'pre2geo20', 'pre2geo30', 'pre2geo50', 'pre2geo70', 'pre3geo10', 'pre3geo20', 'pre3geo30', 'pre3geo50', 'pre3geo70', 'pre7geo10', 'pre7geo20', 'pre7geo30', 'pre7geo50', 'pre7geo70', 'labels'],\n",
       "        num_rows: 2329158\n",
       "    })\n",
       "})"
      ]
     },
     "execution_count": 13,
     "metadata": {},
     "output_type": "execute_result"
    }
   ],
   "source": [
    "# This cell takes approximately 95 + 23 + 13 mins to run\n",
    "# It is important that the labels are float in order to calculate Binary Cross Entropy loss\n",
    "# create 'labels' columm\n",
    "cols = ds[\"train\"].column_names\n",
    "ds = ds.map(lambda x : {\"labels\": [x[c] for c in cols if c != \"text\"]})\n",
    "ds                                   "
   ]
  },
  {
   "cell_type": "code",
   "execution_count": 14,
   "id": "3d00e1d6",
   "metadata": {},
   "outputs": [
    {
     "data": {
      "text/plain": [
       "{'text': 'Venezuela en crisis, y la Fiscal de shopping en Alemania (Video)',\n",
       " 'post1geo10': 0.0,\n",
       " 'post1geo20': 0.0,\n",
       " 'post1geo30': 0.0,\n",
       " 'post1geo50': 0.0,\n",
       " 'post1geo70': 0.0,\n",
       " 'post2geo10': 0.0,\n",
       " 'post2geo20': 0.0,\n",
       " 'post2geo30': 0.0,\n",
       " 'post2geo50': 0.0,\n",
       " 'post2geo70': 0.0,\n",
       " 'post3geo10': 0.0,\n",
       " 'post3geo20': 0.0,\n",
       " 'post3geo30': 0.0,\n",
       " 'post3geo50': 0.0,\n",
       " 'post3geo70': 0.0,\n",
       " 'post7geo10': 1.0,\n",
       " 'post7geo20': 1.0,\n",
       " 'post7geo30': 1.0,\n",
       " 'post7geo50': 1.0,\n",
       " 'post7geo70': 1.0,\n",
       " 'pre1geo10': 0.0,\n",
       " 'pre1geo20': 0.0,\n",
       " 'pre1geo30': 0.0,\n",
       " 'pre1geo50': 0.0,\n",
       " 'pre1geo70': 0.0,\n",
       " 'pre2geo10': 0.0,\n",
       " 'pre2geo20': 0.0,\n",
       " 'pre2geo30': 0.0,\n",
       " 'pre2geo50': 0.0,\n",
       " 'pre2geo70': 0.0,\n",
       " 'pre3geo10': 0.0,\n",
       " 'pre3geo20': 0.0,\n",
       " 'pre3geo30': 0.0,\n",
       " 'pre3geo50': 0.0,\n",
       " 'pre3geo70': 1.0,\n",
       " 'pre7geo10': 0.0,\n",
       " 'pre7geo20': 0.0,\n",
       " 'pre7geo30': 0.0,\n",
       " 'pre7geo50': 0.0,\n",
       " 'pre7geo70': 1.0,\n",
       " 'labels': [0.0,\n",
       "  0.0,\n",
       "  0.0,\n",
       "  0.0,\n",
       "  0.0,\n",
       "  0.0,\n",
       "  0.0,\n",
       "  0.0,\n",
       "  0.0,\n",
       "  0.0,\n",
       "  0.0,\n",
       "  0.0,\n",
       "  0.0,\n",
       "  0.0,\n",
       "  0.0,\n",
       "  1.0,\n",
       "  1.0,\n",
       "  1.0,\n",
       "  1.0,\n",
       "  1.0,\n",
       "  0.0,\n",
       "  0.0,\n",
       "  0.0,\n",
       "  0.0,\n",
       "  0.0,\n",
       "  0.0,\n",
       "  0.0,\n",
       "  0.0,\n",
       "  0.0,\n",
       "  0.0,\n",
       "  0.0,\n",
       "  0.0,\n",
       "  0.0,\n",
       "  0.0,\n",
       "  1.0,\n",
       "  0.0,\n",
       "  0.0,\n",
       "  0.0,\n",
       "  0.0,\n",
       "  1.0]}"
      ]
     },
     "execution_count": 14,
     "metadata": {},
     "output_type": "execute_result"
    }
   ],
   "source": [
    "ds[\"train\"][0]"
   ]
  },
  {
   "cell_type": "code",
   "execution_count": 15,
   "id": "672e44b1",
   "metadata": {},
   "outputs": [],
   "source": [
    "# save the dataset only with columns 'text' and 'labels'\n",
    "col_names = ds[\"train\"].column_names\n",
    "col_names.remove(\"labels\")\n",
    "col_names.remove('text')"
   ]
  },
  {
   "cell_type": "code",
   "execution_count": 16,
   "id": "26346c41",
   "metadata": {},
   "outputs": [
    {
     "data": {
      "text/plain": [
       "DatasetDict({\n",
       "    train: Dataset({\n",
       "        features: ['text', 'labels'],\n",
       "        num_rows: 16769932\n",
       "    })\n",
       "    validation: Dataset({\n",
       "        features: ['text', 'labels'],\n",
       "        num_rows: 4192483\n",
       "    })\n",
       "    test: Dataset({\n",
       "        features: ['text', 'labels'],\n",
       "        num_rows: 2329158\n",
       "    })\n",
       "})"
      ]
     },
     "execution_count": 16,
     "metadata": {},
     "output_type": "execute_result"
    }
   ],
   "source": [
    "ds_clean = ds.remove_columns(col_names)\n",
    "ds_clean"
   ]
  },
  {
   "cell_type": "code",
   "execution_count": 17,
   "id": "6f156cc3",
   "metadata": {},
   "outputs": [],
   "source": [
    "ds_clean.save_to_disk(\"/data3/mmendieta/Violence_data/geo_corpus.0.0.1_dataset_for_train_all_labels\")"
   ]
  },
  {
   "cell_type": "code",
   "execution_count": null,
   "id": "d8fe073d",
   "metadata": {},
   "outputs": [],
   "source": []
  }
 ],
 "metadata": {
  "kernelspec": {
   "display_name": "Python 3 (ipykernel)",
   "language": "python",
   "name": "python3"
  },
  "language_info": {
   "codemirror_mode": {
    "name": "ipython",
    "version": 3
   },
   "file_extension": ".py",
   "mimetype": "text/x-python",
   "name": "python",
   "nbconvert_exporter": "python",
   "pygments_lexer": "ipython3",
   "version": "3.8.3"
  }
 },
 "nbformat": 4,
 "nbformat_minor": 5
}
