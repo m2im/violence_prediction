{
 "cells": [
  {
   "cell_type": "code",
   "execution_count": null,
   "id": "b1e02bc8",
   "metadata": {},
   "outputs": [],
   "source": [
    "import torch\n",
    "torch.cuda.device_count()"
   ]
  },
  {
   "cell_type": "code",
   "execution_count": 28,
   "id": "44460ef8",
   "metadata": {},
   "outputs": [],
   "source": [
    "from datasets import load_from_disk\n",
    "import torch"
   ]
  },
  {
   "cell_type": "markdown",
   "id": "266b9abe",
   "metadata": {},
   "source": [
    "### Preprocess the dataset"
   ]
  },
  {
   "cell_type": "code",
   "execution_count": 37,
   "id": "3d0eef7e",
   "metadata": {},
   "outputs": [],
   "source": [
    "ds = load_from_disk(\"../../Violence_data/geo_corpus.0.0.1_datasets\")"
   ]
  },
  {
   "cell_type": "code",
   "execution_count": null,
   "id": "3d70c922",
   "metadata": {},
   "outputs": [],
   "source": [
    "# Peek at one sample\n",
    "ds[\"train\"][0]"
   ]
  },
  {
   "cell_type": "markdown",
   "id": "fe6c3bf7",
   "metadata": {},
   "source": [
    "Since this is a multi-label classification problem, there are 6 labels = ('pre7geo10', 'pre7geo30', 'pre7geo50', 'post7geo10', 'post7geo30', 'post7geo50')"
   ]
  },
  {
   "cell_type": "code",
   "execution_count": 38,
   "id": "a68a3cc8",
   "metadata": {},
   "outputs": [],
   "source": [
    "# Remove unncesary columns\n",
    "keep_cols = ['text', 'pre7geo10', 'pre7geo30', 'pre7geo50', 'post7geo10', \n",
    "             'post7geo30', 'post7geo50']\n",
    "remove_columns = [col for col in ds['train'].column_names if col not in keep_cols]"
   ]
  },
  {
   "cell_type": "code",
   "execution_count": 39,
   "id": "984fcf0e",
   "metadata": {},
   "outputs": [],
   "source": [
    "ds = ds.remove_columns(remove_columns)"
   ]
  },
  {
   "cell_type": "code",
   "execution_count": 45,
   "id": "8e4cde91",
   "metadata": {},
   "outputs": [
    {
     "data": {
      "text/plain": [
       "{'text': Value(dtype='string', id=None),\n",
       " 'post7geo10': Value(dtype='int64', id=None),\n",
       " 'post7geo30': Value(dtype='int64', id=None),\n",
       " 'post7geo50': Value(dtype='int64', id=None),\n",
       " 'pre7geo10': Value(dtype='int64', id=None),\n",
       " 'pre7geo30': Value(dtype='int64', id=None),\n",
       " 'pre7geo50': Value(dtype='int64', id=None)}"
      ]
     },
     "execution_count": 45,
     "metadata": {},
     "output_type": "execute_result"
    }
   ],
   "source": [
    "ds[\"train\"].features"
   ]
  },
  {
   "cell_type": "code",
   "execution_count": 46,
   "id": "82da609b",
   "metadata": {},
   "outputs": [
    {
     "data": {
      "application/vnd.jupyter.widget-view+json": {
       "model_id": "5e03fb7d027e426e87fc1a7898b20761",
       "version_major": 2,
       "version_minor": 0
      },
      "text/plain": [
       "Casting the dataset:   0%|          | 0/1677 [00:00<?, ?ba/s]"
      ]
     },
     "metadata": {},
     "output_type": "display_data"
    },
    {
     "data": {
      "application/vnd.jupyter.widget-view+json": {
       "model_id": "b1c76dad464d43c298be9eb40f60cda4",
       "version_major": 2,
       "version_minor": 0
      },
      "text/plain": [
       "Casting the dataset:   0%|          | 0/420 [00:00<?, ?ba/s]"
      ]
     },
     "metadata": {},
     "output_type": "display_data"
    },
    {
     "data": {
      "application/vnd.jupyter.widget-view+json": {
       "model_id": "041ef9b1e32349ab95d598719188fbb8",
       "version_major": 2,
       "version_minor": 0
      },
      "text/plain": [
       "Casting the dataset:   0%|          | 0/233 [00:00<?, ?ba/s]"
      ]
     },
     "metadata": {},
     "output_type": "display_data"
    }
   ],
   "source": [
    "# We need to to cast integer labels to float in order to calculate the Binary Cross\n",
    "# Entropy loss during training\n",
    "from datasets import Value\n",
    "new_features = ds[\"train\"].features.copy()\n",
    "new_features['post7geo10'] = Value(dtype='float32')\n",
    "new_features['post7geo30'] = Value(dtype='float32')\n",
    "new_features['post7geo50'] = Value(dtype='float32')\n",
    "new_features['pre7geo10'] = Value(dtype='float32')\n",
    "new_features['pre7geo30'] = Value(dtype='float32')\n",
    "new_features['pre7geo50'] = Value(dtype='float32')\n",
    "ds[\"train\"] = ds[\"train\"].cast(new_features)\n",
    "ds[\"validation\"] = ds[\"validation\"].cast(new_features)\n",
    "ds[\"test\"] = ds[\"test\"].cast(new_features)"
   ]
  },
  {
   "cell_type": "code",
   "execution_count": 47,
   "id": "22cab616",
   "metadata": {},
   "outputs": [
    {
     "data": {
      "text/plain": [
       "{'text': Value(dtype='string', id=None),\n",
       " 'post7geo10': Value(dtype='float32', id=None),\n",
       " 'post7geo30': Value(dtype='float32', id=None),\n",
       " 'post7geo50': Value(dtype='float32', id=None),\n",
       " 'pre7geo10': Value(dtype='float32', id=None),\n",
       " 'pre7geo30': Value(dtype='float32', id=None),\n",
       " 'pre7geo50': Value(dtype='float32', id=None)}"
      ]
     },
     "execution_count": 47,
     "metadata": {},
     "output_type": "execute_result"
    }
   ],
   "source": [
    "ds[\"train\"].features"
   ]
  },
  {
   "cell_type": "code",
   "execution_count": 50,
   "id": "e0d20974",
   "metadata": {},
   "outputs": [
    {
     "data": {
      "application/vnd.jupyter.widget-view+json": {
       "model_id": "29f1cd3d57ee4f9b82a6dade53dfa320",
       "version_major": 2,
       "version_minor": 0
      },
      "text/plain": [
       "  0%|          | 0/16769932 [00:00<?, ?ex/s]"
      ]
     },
     "metadata": {},
     "output_type": "display_data"
    },
    {
     "data": {
      "application/vnd.jupyter.widget-view+json": {
       "model_id": "0ba1c6479a7344e0a4524510d8e61307",
       "version_major": 2,
       "version_minor": 0
      },
      "text/plain": [
       "  0%|          | 0/4192483 [00:00<?, ?ex/s]"
      ]
     },
     "metadata": {},
     "output_type": "display_data"
    },
    {
     "data": {
      "application/vnd.jupyter.widget-view+json": {
       "model_id": "c2880b8941444396a05a1de8601b9b53",
       "version_major": 2,
       "version_minor": 0
      },
      "text/plain": [
       "  0%|          | 0/2329158 [00:00<?, ?ex/s]"
      ]
     },
     "metadata": {},
     "output_type": "display_data"
    },
    {
     "data": {
      "text/plain": [
       "DatasetDict({\n",
       "    train: Dataset({\n",
       "        features: ['text', 'post7geo10', 'post7geo30', 'post7geo50', 'pre7geo10', 'pre7geo30', 'pre7geo50', 'labels'],\n",
       "        num_rows: 16769932\n",
       "    })\n",
       "    validation: Dataset({\n",
       "        features: ['text', 'post7geo10', 'post7geo30', 'post7geo50', 'pre7geo10', 'pre7geo30', 'pre7geo50', 'labels'],\n",
       "        num_rows: 4192483\n",
       "    })\n",
       "    test: Dataset({\n",
       "        features: ['text', 'post7geo10', 'post7geo30', 'post7geo50', 'pre7geo10', 'pre7geo30', 'pre7geo50', 'labels'],\n",
       "        num_rows: 2329158\n",
       "    })\n",
       "})"
      ]
     },
     "execution_count": 50,
     "metadata": {},
     "output_type": "execute_result"
    }
   ],
   "source": [
    "# This cell takes approximately 30 min to run\n",
    "# It is important that the labels are float in order to calculate Binary Cross Entropy loss\n",
    "# create 'labels' columm\n",
    "cols = ds[\"train\"].column_names\n",
    "ds = ds.map(lambda x : {\"labels\": [x[c] for c in cols if c != \"text\"]})\n",
    "ds                                   "
   ]
  },
  {
   "cell_type": "code",
   "execution_count": 51,
   "id": "3d00e1d6",
   "metadata": {},
   "outputs": [
    {
     "data": {
      "text/plain": [
       "{'text': 'Venezuela en crisis, y la Fiscal de shopping en Alemania (Video)',\n",
       " 'post7geo10': 1.0,\n",
       " 'post7geo30': 1.0,\n",
       " 'post7geo50': 1.0,\n",
       " 'pre7geo10': 0.0,\n",
       " 'pre7geo30': 0.0,\n",
       " 'pre7geo50': 0.0,\n",
       " 'labels': [1.0, 1.0, 1.0, 0.0, 0.0, 0.0]}"
      ]
     },
     "execution_count": 51,
     "metadata": {},
     "output_type": "execute_result"
    }
   ],
   "source": [
    "ds[\"train\"][0]"
   ]
  },
  {
   "cell_type": "code",
   "execution_count": 52,
   "id": "672e44b1",
   "metadata": {},
   "outputs": [],
   "source": [
    "# save the dataset only with columns 'text' and 'labels'\n",
    "col_names = ds[\"train\"].column_names\n",
    "col_names.remove(\"labels\")\n",
    "col_names.remove('text')"
   ]
  },
  {
   "cell_type": "code",
   "execution_count": 53,
   "id": "26346c41",
   "metadata": {},
   "outputs": [
    {
     "data": {
      "text/plain": [
       "DatasetDict({\n",
       "    train: Dataset({\n",
       "        features: ['text', 'labels'],\n",
       "        num_rows: 16769932\n",
       "    })\n",
       "    validation: Dataset({\n",
       "        features: ['text', 'labels'],\n",
       "        num_rows: 4192483\n",
       "    })\n",
       "    test: Dataset({\n",
       "        features: ['text', 'labels'],\n",
       "        num_rows: 2329158\n",
       "    })\n",
       "})"
      ]
     },
     "execution_count": 53,
     "metadata": {},
     "output_type": "execute_result"
    }
   ],
   "source": [
    "ds_clean = ds.remove_columns(col_names)\n",
    "ds_clean"
   ]
  },
  {
   "cell_type": "code",
   "execution_count": 54,
   "id": "6f156cc3",
   "metadata": {},
   "outputs": [],
   "source": [
    "ds_clean.save_to_disk(\"../../Violence_data/geo_corpus.0.0.1_dataset_for_train\")"
   ]
  },
  {
   "cell_type": "code",
   "execution_count": null,
   "id": "d8fe073d",
   "metadata": {},
   "outputs": [],
   "source": []
  }
 ],
 "metadata": {
  "kernelspec": {
   "display_name": "Python 3 (ipykernel)",
   "language": "python",
   "name": "python3"
  },
  "language_info": {
   "codemirror_mode": {
    "name": "ipython",
    "version": 3
   },
   "file_extension": ".py",
   "mimetype": "text/x-python",
   "name": "python",
   "nbconvert_exporter": "python",
   "pygments_lexer": "ipython3",
   "version": "3.8.3"
  }
 },
 "nbformat": 4,
 "nbformat_minor": 5
}
