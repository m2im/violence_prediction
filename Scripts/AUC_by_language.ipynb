{
 "cells": [
  {
   "cell_type": "code",
   "execution_count": 1,
   "id": "ccbf7c82-ec34-4a9a-bb59-935d360316cf",
   "metadata": {},
   "outputs": [],
   "source": [
    "import os\n",
    "import pandas as pd\n",
    "import matplotlib.pyplot as plt\n",
    "import numpy as np\n",
    "\n",
    "from sklearn.metrics import roc_auc_score"
   ]
  },
  {
   "cell_type": "markdown",
   "id": "413c0e29-36ac-42c5-b688-73a6b507900c",
   "metadata": {},
   "source": [
    "### Define all languages in the three datasets"
   ]
  },
  {
   "cell_type": "code",
   "execution_count": 2,
   "id": "33037e7b-96db-4736-bb36-10c935f2a718",
   "metadata": {},
   "outputs": [],
   "source": [
    "# Define all languages in the three datasets\n",
    "twitter_languages = [\n",
    "    \"am\",  # Amharic\n",
    "    \"ar\",  # Arabic\n",
    "    \"bg\",  # Bulgarian\n",
    "    \"bn\",  # Bengali\n",
    "    \"bo\",  # Tibetan\n",
    "    \"bs\",  # Bosnian\n",
    "    \"chr\", # Cherokee\n",
    "    \"ckb\", #\n",
    "    \"cs\",  # Czech\n",
    "    \"cy\",  # Welsh\n",
    "    \"da\",  # Danish\n",
    "    \"de\",  # German\n",
    "    \"el\",  # Greek\n",
    "    \"en\",  # English\n",
    "    \"es\",  # Spanish\n",
    "    \"et\",  # Estonian\n",
    "    \"fa\",  # Persian\n",
    "    \"fil\", # Filipino\n",
    "    \"fi\",  # Finnish\n",
    "    \"fr\",  # French\n",
    "    \"gu\",  # Gujarati\n",
    "    \"ha\",  # Hausa\n",
    "    \"he\",  # Hebrew\n",
    "    \"hi\",  # Hindi\n",
    "    \"hu\",  # Hungarian\n",
    "    \"hr\",  # Croatian\n",
    "    \"ht\",  # Haitian\n",
    "    \"hy\",  # Armenian\n",
    "    \"id\",  # Indonesian\n",
    "    \"in\",  #\n",
    "    \"is\",  # Icelandic\n",
    "    \"it\",  # Italian\n",
    "    \"iu\",  # Inuktitat\n",
    "    \"iw\",  # \n",
    "    \"ja\",  # Japanese\n",
    "    \"ka\",  # Georgian\n",
    "    \"kk\",  # Kazakh\n",
    "    \"kn\",  # Kannada\n",
    "    \"ko\",  # Korean\n",
    "    \"lt\",  # Lithuanian\n",
    "    \"lv\",  # Latvian\n",
    "    \"ml\",  # Malayalam\n",
    "    \"mr\",  # Marathi\n",
    "    \"nb\",  # Norwegian Bokmål\n",
    "    \"ne\",  # Nepali\n",
    "    \"nl\",  # Dutch; Flemish\n",
    "    \"no\",  # Norwegian\n",
    "    \"pa\",  # Panjabi\n",
    "    \"pl\",  # Polish\n",
    "    \"ps\",  # Pushto\n",
    "    \"pt\",  # Portuguese\n",
    "    \"ro\",  # Romanian\n",
    "    \"ru\",  # Russian\n",
    "    \"sd\",  # Sindhi\n",
    "    \"si\",  # Sinhala\n",
    "    \"sk\",  # Slovak\n",
    "    \"sl\",  # Sinhala\n",
    "    \"sn\",  # Shona\n",
    "    \"sr\",  # Serbian\n",
    "    \"sv\",  # Swedish\n",
    "    \"ta\",  # Tamil\n",
    "    \"te\",  # Telugu\n",
    "    \"th\",  # Thai\n",
    "    \"tl\",  # Tagalog\n",
    "    \"tr\",  # Turkish \n",
    "    \"ug\",  # Uyghur\n",
    "    \"uk\",  # Ukrainian\n",
    "    \"und\", # Undefined\n",
    "    \"ur\",  # Urdu\n",
    "    \"vi\",  # Vietnamese\n",
    "    \"yo\",  # Yoruba\n",
    "    \"zh\",  # Chinese\n",
    "    \"zh-Hant\",  # Chinese (Traditional)\n",
    "]"
   ]
  },
  {
   "cell_type": "markdown",
   "id": "fc851183-fbb5-425d-980a-987756af3aeb",
   "metadata": {},
   "source": [
    "### Sanity check: Verify missing languages in each dataset"
   ]
  },
  {
   "cell_type": "code",
   "execution_count": 9,
   "id": "dbc510ce-de25-4641-ab64-ddc34d8a0c5f",
   "metadata": {},
   "outputs": [
    {
     "data": {
      "text/plain": [
       "(2329158, 17)"
      ]
     },
     "execution_count": 9,
     "metadata": {},
     "output_type": "execute_result"
    }
   ],
   "source": [
    "df = pd.read_csv(\"../data/csv_performance_all_models/xlmt_inference_test_set.csv\", \n",
    "                 engine='python', on_bad_lines='skip', encoding='utf-8')\n",
    "df = df.dropna(subset=['tweetid', 'lang'])  # Drop rows where 'tweetid' or 'lang' is null\n",
    "df[1:3]\n",
    "df.shape"
   ]
  },
  {
   "cell_type": "code",
   "execution_count": 10,
   "id": "248f16af-0d44-457d-9ff2-733f3613afb9",
   "metadata": {},
   "outputs": [
    {
     "name": "stdout",
     "output_type": "stream",
     "text": [
      "189\n"
     ]
    },
    {
     "data": {
      "text/plain": [
       "array(['en', 'es', 'ar', 'pl', 'id', 'ru', 'de', 'et', 'tl', 'und', 'ja',\n",
       "       'tr', 'ur', 'sk', 'pt', 'ko', 'in', 'ht', 'it', 'vi', 'fr', 'da',\n",
       "       'iw', 'uk', 'is', 'nl', 'lv', 'sl', 'he', 'fi', 'fa', 'th', 'bg',\n",
       "       'zh', 'lt', 'cy', 'ro', 'hu', 'no', 'bs', 'ps', 'hr',\n",
       "       '-66.87918853759766', '35.83332824707031', 'sv',\n",
       "       '35.66667175292969', '36.83332824707031', 'ka',\n",
       "       '29.955270767211914', '67.08219909667969', 'sr', 'chr', 'el',\n",
       "       '31.50200080871582', '-43.20750045776367', '67.07524108886719',\n",
       "       '36.15721893310547', 'bn', '35.49441909790039', 'hi', 'si', '3.75',\n",
       "       '-71.64055633544922', '67.06522369384766', '35.945030212402344',\n",
       "       'te', '31.249670028686523', 'hy', 'kn', '74.802978515625', 'iu',\n",
       "       '35.20328903198242', '44.40087890625', 'ug', '30.523799896240234',\n",
       "       '34.33332824707031', '31.38068962097168', 'bo', 'ne',\n",
       "       '44.48833084106445', '31.178579330444336', 'ckb',\n",
       "       '37.925758361816406', '36.29127883911133', 'ta',\n",
       "       '35.06713104248047', 'sd', '73.04328918457031', '71.5784912109375',\n",
       "       '20.066669464111328', 'pa', '35.77724838256836',\n",
       "       '35.83832931518555', '36.48255920410156', '38.896881103515625',\n",
       "       '44.42490005493164', '69.41667175292969', '-100.3184585571289',\n",
       "       '36.17346954345703', '36.08795928955078', '-101.18443298339844',\n",
       "       'am', '35.84739685058594', '35.80107879638672',\n",
       "       '35.19554901123047', '44.25', '68.39936065673828',\n",
       "       '-102.51931762695312', '31.21472930908203', '67.12095642089844',\n",
       "       '35.02687454223633', '67.00971221923828', '74.34361267089844',\n",
       "       '35.17927932739258', 'gu', '38.869468688964844', '36.723388671875',\n",
       "       '13.187459945678711', '-43.311668395996094', '-43.10361099243164',\n",
       "       '37.161170959472656', '73.06790161132812', '3.0095698833465576',\n",
       "       '34.51863098144531', 'sn', '35.838321685791016',\n",
       "       '44.50183868408203', '32.52627182006836', '3.3359899520874023',\n",
       "       '-100.13062286376953', '-66.85346984863281', '45.03667068481445',\n",
       "       '35.838340759277344', '32.521575927734375', '-103.22846984863281',\n",
       "       '35.838382720947266', '31.81332015991211', '35.87765121459961',\n",
       "       '-106.40615844726562', '8.516719818115234', '-66.66307830810547',\n",
       "       '74.40345001220703', '125.5', '32.53240966796875',\n",
       "       '35.83831787109375', '35.33332824707031', '35.901405334472656',\n",
       "       '35.2535400390625', '35.79011154174805', '46.0',\n",
       "       '-66.93460083007812', '35.61442565917969', '-76.52249908447266',\n",
       "       '35.5', '35.74123001098633', '74.18830871582031',\n",
       "       '71.99833679199219', '67.3525619506836', '35.80099868774414',\n",
       "       '39.94776153564453', '121.41667175292969', '-88.0250015258789',\n",
       "       '43.650001525878906', '35.83833694458008', '44.39221954345703',\n",
       "       '-67.59583282470703', '-97.86772155761719', '-71.4399185180664',\n",
       "       'ml', '-106.48693084716797', '-100.41766357421875',\n",
       "       '31.649999618530273', '35.8497200012207', '-63.54085922241211',\n",
       "       '35.83832550048828', '-66.77609252929688', '35.30086135864258',\n",
       "       '35.878089904785156', '31.31028938293457', '-100.0',\n",
       "       '35.87678909301758', '39.31705856323242', '121.03829956054688',\n",
       "       '71.73172760009766', '121.07260131835938', '35.77727127075195',\n",
       "       '36.896141052246094', '35.21937942504883', '8.45928955078125'],\n",
       "      dtype=object)"
      ]
     },
     "execution_count": 10,
     "metadata": {},
     "output_type": "execute_result"
    }
   ],
   "source": [
    "# Extract unique lang values\n",
    "unique_langs = df['lang'].dropna().unique()  # Drop NaN values and get unique values\n",
    "print(len(unique_langs))\n",
    "unique_langs"
   ]
  },
  {
   "cell_type": "code",
   "execution_count": 11,
   "id": "60e02e3b-adf5-4294-8b7e-275c0f595c4d",
   "metadata": {},
   "outputs": [
    {
     "name": "stdout",
     "output_type": "stream",
     "text": [
      "Languages in unique_langs but not in twitter_languages:\n",
      "set()\n"
     ]
    }
   ],
   "source": [
    "# Filter out invalid entries\n",
    "filtered_unique_langs = [\n",
    "    lang for lang in unique_langs \n",
    "    if lang.isalpha() and len(lang) <= 4  # Only alphabetic values with up to 4 characters\n",
    "]\n",
    "\n",
    "# Find languages in unique_langs but not in twitter_languages\n",
    "missing_languages = set(filtered_unique_langs) - set(twitter_languages)\n",
    "\n",
    "# Print missing languages\n",
    "print(\"Languages in unique_langs but not in twitter_languages:\")\n",
    "print(missing_languages)"
   ]
  },
  {
   "cell_type": "markdown",
   "id": "f0dfeee8-481b-4356-bb68-74157de0cda0",
   "metadata": {},
   "source": [
    "### Read filenames"
   ]
  },
  {
   "cell_type": "code",
   "execution_count": 12,
   "id": "80cf5bfd-1ceb-4df4-b8cb-ca6ea0553193",
   "metadata": {},
   "outputs": [],
   "source": [
    "# Step 1: Manually specify the directory and filenames\n",
    "directory = \"../data/csv_performance_all_models/\"  # Replace with your directory path\n",
    "filenames = [\"labse_inference_test_set.csv\", \"small_labse_inference_test_set.csv\", \n",
    "             \"xlmt_inference_test_set.csv\"]  # List of filenames\n",
    "\n",
    "# Combine directory path with filenames\n",
    "file_paths = [os.path.join(directory, filename) for filename in filenames]"
   ]
  },
  {
   "cell_type": "code",
   "execution_count": null,
   "id": "fda418ba-e11f-4a39-841a-c31afd92d05a",
   "metadata": {},
   "outputs": [],
   "source": [
    "file_paths"
   ]
  },
  {
   "cell_type": "code",
   "execution_count": null,
   "id": "b2e914e4-369c-4cd0-971f-d3c60fa8f4fd",
   "metadata": {},
   "outputs": [],
   "source": [
    "for filepath in file_paths:\n",
    "    # Extract the filename and model name\n",
    "    filename = os.path.basename(filepath)\n",
    "    model_name = filename.split('_')[0]  # Assumes filename starts with model name (e.g., 'labse_sample.csv')\n",
    "    print(model_name)"
   ]
  },
  {
   "cell_type": "markdown",
   "id": "4a10e573-e2dc-4f6f-84ee-f758eac0566a",
   "metadata": {},
   "source": [
    "### Combine the three datasets"
   ]
  },
  {
   "cell_type": "code",
   "execution_count": 13,
   "id": "3b4f5731-df95-4902-ad89-e46968252d42",
   "metadata": {},
   "outputs": [],
   "source": [
    "# Dictionary to store results for each model\n",
    "model_dfs = {}\n",
    "\n",
    "# Step 2: Iterate through the file paths\n",
    "for filepath in file_paths:\n",
    "    # Extract the filename and model name\n",
    "    filename = os.path.basename(filepath)\n",
    "    model_name = filename.split('_')[0]  # Assumes filename starts with model name (e.g., 'labse_sample.csv')\n",
    "    \n",
    "    # Read the file\n",
    "    df = pd.read_csv(filepath, engine='python', on_bad_lines='skip', encoding='utf-8')\n",
    "    df = df.dropna(subset=['tweetid'])  # Drop rows where 'tweetid' is null\n",
    "    df = df[df['lang'].isin(twitter_languages)]  # Keep rows with valid 'lang'\n",
    "    \n",
    "    # Group by language and calculate global AUC for each language\n",
    "    auc_data = []\n",
    "    for lang, group in df.groupby('lang'):\n",
    "        # Flatten true labels and predictions\n",
    "        true_labels = group[['post7geo10_true', 'post7geo30_true', 'post7geo50_true', \n",
    "                             'pre7geo10_true', 'pre7geo30_true', 'pre7geo50_true']].values.flatten()\n",
    "        predictions = group[['post7geo10', 'post7geo30', 'post7geo50', \n",
    "                             'pre7geo10', 'pre7geo30', 'pre7geo50']].values.flatten()\n",
    "        \n",
    "        # Calculate global AUC for the language\n",
    "        if len(set(true_labels)) > 1:  # Ensure AUC is defined\n",
    "            auc = roc_auc_score(true_labels, predictions)\n",
    "        else:\n",
    "            auc = None  # Skip if only one class is present\n",
    "        \n",
    "        # Append results\n",
    "        auc_data.append({'lang': lang, 'AUC': auc, 'num_obs': len(group)})\n",
    "    \n",
    "    # Create a DataFrame for the language-specific AUCs\n",
    "    model_df = pd.DataFrame(auc_data)\n",
    "    \n",
    "    # Store the DataFrame in the dictionary\n",
    "    model_dfs[f\"{model_name}\"] = model_df"
   ]
  },
  {
   "cell_type": "code",
   "execution_count": 14,
   "id": "1af44f77-dff7-4dfd-924d-3fafe59b513c",
   "metadata": {},
   "outputs": [],
   "source": [
    "# Step 3: Combine data from all models for visualization\n",
    "combined_df = pd.concat(\n",
    "    [df.assign(model=model_name) for model_name, df in model_dfs.items()]\n",
    ")"
   ]
  },
  {
   "cell_type": "code",
   "execution_count": 15,
   "id": "6788b5ae-8f9c-457b-8fe7-55101bc01651",
   "metadata": {},
   "outputs": [
    {
     "data": {
      "text/html": [
       "<div>\n",
       "<style scoped>\n",
       "    .dataframe tbody tr th:only-of-type {\n",
       "        vertical-align: middle;\n",
       "    }\n",
       "\n",
       "    .dataframe tbody tr th {\n",
       "        vertical-align: top;\n",
       "    }\n",
       "\n",
       "    .dataframe thead th {\n",
       "        text-align: right;\n",
       "    }\n",
       "</style>\n",
       "<table border=\"1\" class=\"dataframe\">\n",
       "  <thead>\n",
       "    <tr style=\"text-align: right;\">\n",
       "      <th></th>\n",
       "      <th>lang</th>\n",
       "      <th>AUC</th>\n",
       "      <th>num_obs</th>\n",
       "      <th>model</th>\n",
       "    </tr>\n",
       "  </thead>\n",
       "  <tbody>\n",
       "    <tr>\n",
       "      <th>0</th>\n",
       "      <td>am</td>\n",
       "      <td>0.750000</td>\n",
       "      <td>3</td>\n",
       "      <td>labse</td>\n",
       "    </tr>\n",
       "    <tr>\n",
       "      <th>1</th>\n",
       "      <td>ar</td>\n",
       "      <td>0.696039</td>\n",
       "      <td>354480</td>\n",
       "      <td>labse</td>\n",
       "    </tr>\n",
       "    <tr>\n",
       "      <th>2</th>\n",
       "      <td>bg</td>\n",
       "      <td>0.631853</td>\n",
       "      <td>1436</td>\n",
       "      <td>labse</td>\n",
       "    </tr>\n",
       "    <tr>\n",
       "      <th>3</th>\n",
       "      <td>bn</td>\n",
       "      <td>0.774123</td>\n",
       "      <td>25</td>\n",
       "      <td>labse</td>\n",
       "    </tr>\n",
       "    <tr>\n",
       "      <th>4</th>\n",
       "      <td>bo</td>\n",
       "      <td>0.400000</td>\n",
       "      <td>2</td>\n",
       "      <td>labse</td>\n",
       "    </tr>\n",
       "    <tr>\n",
       "      <th>...</th>\n",
       "      <td>...</td>\n",
       "      <td>...</td>\n",
       "      <td>...</td>\n",
       "      <td>...</td>\n",
       "    </tr>\n",
       "    <tr>\n",
       "      <th>60</th>\n",
       "      <td>uk</td>\n",
       "      <td>0.785147</td>\n",
       "      <td>6219</td>\n",
       "      <td>xlmt</td>\n",
       "    </tr>\n",
       "    <tr>\n",
       "      <th>61</th>\n",
       "      <td>und</td>\n",
       "      <td>0.620159</td>\n",
       "      <td>80697</td>\n",
       "      <td>xlmt</td>\n",
       "    </tr>\n",
       "    <tr>\n",
       "      <th>62</th>\n",
       "      <td>ur</td>\n",
       "      <td>0.693811</td>\n",
       "      <td>9189</td>\n",
       "      <td>xlmt</td>\n",
       "    </tr>\n",
       "    <tr>\n",
       "      <th>63</th>\n",
       "      <td>vi</td>\n",
       "      <td>0.731447</td>\n",
       "      <td>8859</td>\n",
       "      <td>xlmt</td>\n",
       "    </tr>\n",
       "    <tr>\n",
       "      <th>64</th>\n",
       "      <td>zh</td>\n",
       "      <td>0.638080</td>\n",
       "      <td>162</td>\n",
       "      <td>xlmt</td>\n",
       "    </tr>\n",
       "  </tbody>\n",
       "</table>\n",
       "<p>195 rows × 4 columns</p>\n",
       "</div>"
      ],
      "text/plain": [
       "   lang       AUC  num_obs  model\n",
       "0    am  0.750000        3  labse\n",
       "1    ar  0.696039   354480  labse\n",
       "2    bg  0.631853     1436  labse\n",
       "3    bn  0.774123       25  labse\n",
       "4    bo  0.400000        2  labse\n",
       "..  ...       ...      ...    ...\n",
       "60   uk  0.785147     6219   xlmt\n",
       "61  und  0.620159    80697   xlmt\n",
       "62   ur  0.693811     9189   xlmt\n",
       "63   vi  0.731447     8859   xlmt\n",
       "64   zh  0.638080      162   xlmt\n",
       "\n",
       "[195 rows x 4 columns]"
      ]
     },
     "execution_count": 15,
     "metadata": {},
     "output_type": "execute_result"
    }
   ],
   "source": [
    "combined_df"
   ]
  },
  {
   "cell_type": "code",
   "execution_count": 16,
   "id": "3324c531-cfe0-4c63-89b7-bceea54bfe80",
   "metadata": {},
   "outputs": [
    {
     "name": "stdout",
     "output_type": "stream",
     "text": [
      "Total num_obs: 6984510\n"
     ]
    }
   ],
   "source": [
    "# Sum all values in the num_obs column\n",
    "total_num_obs = combined_df['num_obs'].sum()\n",
    "print(f\"Total num_obs: {total_num_obs}\")"
   ]
  },
  {
   "cell_type": "markdown",
   "id": "7a8a49ea-9acf-424a-8061-a3bb1b97d974",
   "metadata": {},
   "source": [
    "### Filter rows before plotting"
   ]
  },
  {
   "cell_type": "code",
   "execution_count": 20,
   "id": "2a6068fc-3b49-42a3-9478-f74fe343e41a",
   "metadata": {},
   "outputs": [
    {
     "data": {
      "text/html": [
       "<div>\n",
       "<style scoped>\n",
       "    .dataframe tbody tr th:only-of-type {\n",
       "        vertical-align: middle;\n",
       "    }\n",
       "\n",
       "    .dataframe tbody tr th {\n",
       "        vertical-align: top;\n",
       "    }\n",
       "\n",
       "    .dataframe thead th {\n",
       "        text-align: right;\n",
       "    }\n",
       "</style>\n",
       "<table border=\"1\" class=\"dataframe\">\n",
       "  <thead>\n",
       "    <tr style=\"text-align: right;\">\n",
       "      <th></th>\n",
       "      <th>lang</th>\n",
       "      <th>AUC</th>\n",
       "      <th>num_obs</th>\n",
       "      <th>model</th>\n",
       "    </tr>\n",
       "  </thead>\n",
       "  <tbody>\n",
       "    <tr>\n",
       "      <th>1</th>\n",
       "      <td>ar</td>\n",
       "      <td>0.696039</td>\n",
       "      <td>354480</td>\n",
       "      <td>labse</td>\n",
       "    </tr>\n",
       "    <tr>\n",
       "      <th>2</th>\n",
       "      <td>bg</td>\n",
       "      <td>0.631853</td>\n",
       "      <td>1436</td>\n",
       "      <td>labse</td>\n",
       "    </tr>\n",
       "    <tr>\n",
       "      <th>5</th>\n",
       "      <td>bs</td>\n",
       "      <td>0.759916</td>\n",
       "      <td>389</td>\n",
       "      <td>labse</td>\n",
       "    </tr>\n",
       "    <tr>\n",
       "      <th>8</th>\n",
       "      <td>cy</td>\n",
       "      <td>0.784787</td>\n",
       "      <td>1269</td>\n",
       "      <td>labse</td>\n",
       "    </tr>\n",
       "    <tr>\n",
       "      <th>9</th>\n",
       "      <td>da</td>\n",
       "      <td>0.737405</td>\n",
       "      <td>1997</td>\n",
       "      <td>labse</td>\n",
       "    </tr>\n",
       "    <tr>\n",
       "      <th>...</th>\n",
       "      <td>...</td>\n",
       "      <td>...</td>\n",
       "      <td>...</td>\n",
       "      <td>...</td>\n",
       "    </tr>\n",
       "    <tr>\n",
       "      <th>60</th>\n",
       "      <td>uk</td>\n",
       "      <td>0.785147</td>\n",
       "      <td>6219</td>\n",
       "      <td>xlmt</td>\n",
       "    </tr>\n",
       "    <tr>\n",
       "      <th>61</th>\n",
       "      <td>und</td>\n",
       "      <td>0.620159</td>\n",
       "      <td>80697</td>\n",
       "      <td>xlmt</td>\n",
       "    </tr>\n",
       "    <tr>\n",
       "      <th>62</th>\n",
       "      <td>ur</td>\n",
       "      <td>0.693811</td>\n",
       "      <td>9189</td>\n",
       "      <td>xlmt</td>\n",
       "    </tr>\n",
       "    <tr>\n",
       "      <th>63</th>\n",
       "      <td>vi</td>\n",
       "      <td>0.731447</td>\n",
       "      <td>8859</td>\n",
       "      <td>xlmt</td>\n",
       "    </tr>\n",
       "    <tr>\n",
       "      <th>64</th>\n",
       "      <td>zh</td>\n",
       "      <td>0.638080</td>\n",
       "      <td>162</td>\n",
       "      <td>xlmt</td>\n",
       "    </tr>\n",
       "  </tbody>\n",
       "</table>\n",
       "<p>132 rows × 4 columns</p>\n",
       "</div>"
      ],
      "text/plain": [
       "   lang       AUC  num_obs  model\n",
       "1    ar  0.696039   354480  labse\n",
       "2    bg  0.631853     1436  labse\n",
       "5    bs  0.759916      389  labse\n",
       "8    cy  0.784787     1269  labse\n",
       "9    da  0.737405     1997  labse\n",
       "..  ...       ...      ...    ...\n",
       "60   uk  0.785147     6219   xlmt\n",
       "61  und  0.620159    80697   xlmt\n",
       "62   ur  0.693811     9189   xlmt\n",
       "63   vi  0.731447     8859   xlmt\n",
       "64   zh  0.638080      162   xlmt\n",
       "\n",
       "[132 rows x 4 columns]"
      ]
     },
     "execution_count": 20,
     "metadata": {},
     "output_type": "execute_result"
    }
   ],
   "source": [
    "# Filter for rows where num_obs >= 10\n",
    "filtered_df = combined_df[combined_df['num_obs'] >= 120]\n",
    "\n",
    "# Filter languages that have AUC scores for all three models\n",
    "langs_with_all_models = (\n",
    "    filtered_df.groupby('lang')['model']\n",
    "    .nunique()  # Count the number of unique models per language\n",
    "    .loc[lambda x: x == 3]  # Keep only languages with all three models\n",
    "    .index  # Extract the language names\n",
    ")\n",
    "\n",
    "# Filter the DataFrame to include only these languages\n",
    "filtered_df = filtered_df[filtered_df['lang'].isin(langs_with_all_models)]\n",
    "filtered_df"
   ]
  },
  {
   "cell_type": "code",
   "execution_count": 21,
   "id": "9557ef0a-0fe1-4b16-954f-ff396a3232fd",
   "metadata": {},
   "outputs": [
    {
     "name": "stdout",
     "output_type": "stream",
     "text": [
      "Number of unique languages: 44\n",
      "Unique languages:\n",
      "['ar' 'bg' 'bs' 'cy' 'da' 'de' 'el' 'en' 'es' 'et' 'fa' 'fi' 'fr' 'he'\n",
      " 'hr' 'ht' 'hu' 'id' 'in' 'is' 'it' 'iw' 'ja' 'ko' 'lt' 'lv' 'nl' 'no'\n",
      " 'pl' 'ps' 'pt' 'ro' 'ru' 'sk' 'sl' 'sv' 'th' 'tl' 'tr' 'uk' 'und' 'ur'\n",
      " 'vi' 'zh']\n"
     ]
    }
   ],
   "source": [
    "# Get unique languages from the 'lang' column\n",
    "unique_languages = filtered_df['lang'].unique()\n",
    "\n",
    "# Print the number of unique languages and the languages themselves\n",
    "print(f\"Number of unique languages: {len(unique_languages)}\")\n",
    "print(\"Unique languages:\")\n",
    "print(unique_languages)"
   ]
  },
  {
   "cell_type": "markdown",
   "id": "3e35f94a-7845-4a6b-b3a1-733e42f4fe4a",
   "metadata": {},
   "source": [
    "### Plot AUCs for each language"
   ]
  },
  {
   "cell_type": "code",
   "execution_count": 24,
   "id": "e3e3faac-20fc-4540-bded-4d9675882938",
   "metadata": {},
   "outputs": [
    {
     "data": {
      "image/png": "[encoded data removed]",
      "text/plain": [
       "<Figure size 1200x600 with 1 Axes>"
      ]
     },
     "metadata": {},
     "output_type": "display_data"
    }
   ],
   "source": [
    "# Step 4: Plot AUCs for each language\n",
    "# Pivot the data for easier plotting\n",
    "pivot_df = filtered_df.pivot(index=\"lang\", columns=\"model\", values=\"AUC\").fillna(0)  # Fill NaNs with 0 for plotting\n",
    "num_obs = filtered_df.groupby(\"lang\")[\"num_obs\"].max()  # Get the number of observations per language\n",
    "\n",
    "# Sort languages by maximum AUC across all models in descending order\n",
    "pivot_df['max_auc'] = pivot_df.max(axis=1)  # Calculate the maximum AUC for sorting\n",
    "pivot_df = pivot_df.sort_values(by='max_auc', ascending=False).drop(columns='max_auc')  # Sort and remove helper column\n",
    "num_obs = num_obs.loc[pivot_df.index]  # Reorder num_obs to match sorted languages\n",
    "\n",
    "# Map legend names (replace \"small\" with \"small_labse\")\n",
    "legend_labels = {\"labse\": \"labse\", \"xlmt\": \"xlmt\", \"small\": \"small_labse\"}\n",
    "\n",
    "# Plotting using subplots\n",
    "fig, ax = plt.subplots(figsize=(12, 6))  # Explicitly create a figure and axes\n",
    "bar_width = 0.25\n",
    "languages = pivot_df.index\n",
    "index = np.arange(len(languages))  # Numeric positions for the bars\n",
    "\n",
    "# Bar plot for each model\n",
    "for i, model in enumerate(pivot_df.columns):\n",
    "    ax.bar(\n",
    "        index + i * bar_width,  # Offset each model\n",
    "        pivot_df[model],  # AUC values for this model\n",
    "        bar_width,\n",
    "        label=legend_labels.get(model, model)  # Map to legend label if available\n",
    "    )\n",
    "\n",
    "    # Add number of observations only on the middle bar\n",
    "    if i == 1:  # Assuming the middle bar corresponds to i=1\n",
    "        for x, y, obs in zip(index + i * bar_width, pivot_df[model], num_obs):\n",
    "            ax.text(x, y + 0.01, f\"{obs}\", ha=\"center\", va=\"bottom\", fontsize=8, rotation=90)\n",
    "\n",
    "# Adjust y-axis limits to create space at the top\n",
    "ax.set_ylim(0, 0.95)  # Extend the y-axis range slightly beyond 1\n",
    "\n",
    "# Add a red dashed line at y=0.5\n",
    "ax.axhline(y=0.5, color='red', linestyle='--', linewidth=1)\n",
    "\n",
    "# Add labels, title, and legend\n",
    "ax.set_xlabel(\"Languages\")\n",
    "ax.set_ylabel(\"AUC\")\n",
    "ax.set_title(\"AUC Performance of Models by Language (Sorted by AUC)\")\n",
    "ax.set_xticks(index + bar_width)  # Center the ticks with language labels\n",
    "ax.set_xticklabels(languages)\n",
    "ax.legend(title=\"Models\")\n",
    "\n",
    "# Adjust layout and save the figure\n",
    "fig.tight_layout()"
   ]
  },
  {
   "cell_type": "code",
   "execution_count": 25,
   "id": "cdcc37fc-9789-436a-87cb-c8c10447d262",
   "metadata": {},
   "outputs": [
    {
     "name": "stderr",
     "output_type": "stream",
     "text": [
      "The PostScript backend does not support transparency; partially transparent artists will be rendered opaque.\n"
     ]
    }
   ],
   "source": [
    "# Step 5: Save the plot as an EPS file\n",
    "fig.savefig(\"../figures/global_auc_per_language.eps\", format='eps')"
   ]
  },
  {
   "cell_type": "code",
   "execution_count": 26,
   "id": "4800241d-3a24-41f8-ad02-e4bb019ff4ca",
   "metadata": {},
   "outputs": [],
   "source": [
    "fig.savefig(\"../figures/global_auc_per_language.jpg\", format='jpg', dpi=300)"
   ]
  }
 ],
 "metadata": {
  "kernelspec": {
   "display_name": "Python 3 (ipykernel)",
   "language": "python",
   "name": "python3"
  },
  "language_info": {
   "codemirror_mode": {
    "name": "ipython",
    "version": 3
   },
   "file_extension": ".py",
   "mimetype": "text/x-python",
   "name": "python",
   "nbconvert_exporter": "python",
   "pygments_lexer": "ipython3",
   "version": "3.13.0"
  }
 },
 "nbformat": 4,
 "nbformat_minor": 5
}
