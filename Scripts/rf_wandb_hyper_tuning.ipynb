{
 "cells": [
  {
   "cell_type": "code",
   "execution_count": 1,
   "id": "c4337aad",
   "metadata": {},
   "outputs": [],
   "source": [
    "import torch\n",
    "import pandas as pd\n",
    "import matplotlib.pyplot as plt\n",
    "import numpy as np\n",
    "import wandb\n",
    "from datasets import load_from_disk\n",
    "from sklearn.preprocessing import StandardScaler\n",
    "from sklearn.ensemble import RandomForestClassifier\n",
    "from sklearn.multiclass import OneVsRestClassifier\n",
    "from sklearn.metrics import accuracy_score, precision_score, recall_score, f1_score\n",
    "from sklearn.metrics import roc_auc_score, confusion_matrix, multilabel_confusion_matrix, ConfusionMatrixDisplay\n",
    "from sklearn.metrics import classification_report, plot_roc_curve\n",
    "from argparse import Namespace"
   ]
  },
  {
   "cell_type": "code",
   "execution_count": 2,
   "id": "42b85bdd",
   "metadata": {},
   "outputs": [],
   "source": [
    "config = {\n",
    "    \"train_subset\": 1500000,\n",
    "    \"valid_subset\": 400000,\n",
    "    \"test_subset\" : 200000,\n",
    "    \"seed\": 42,\n",
    "    \"wandb_project_name\": \"rf_param_opt\",\n",
    "    \"count\": 20   # Number of runs for the Sweep\n",
    "}\n",
    "\n",
    "args = Namespace(**config)"
   ]
  },
  {
   "cell_type": "markdown",
   "id": "b7d31d33",
   "metadata": {},
   "source": [
    "### Define the Sweep config"
   ]
  },
  {
   "cell_type": "code",
   "execution_count": 3,
   "id": "255824f5",
   "metadata": {},
   "outputs": [],
   "source": [
    "sweep_config = {\n",
    "    'method' : 'random',\n",
    "    'metric': {\n",
    "        'name': 'roc_auc',\n",
    "        'goal': 'maximize'\n",
    "    },\n",
    "    'parameters': {\n",
    "        'criterion': {'values': ['gini', 'entropy']},\n",
    "        'n_estimators': {'values': [50, 500, 1000]},\n",
    "        'min_samples_split': {'values': [10, 100, 1000]},\n",
    "        'min_samples_leaf': {'values': [10, 50, 100]},\n",
    "    }\n",
    "}"
   ]
  },
  {
   "cell_type": "markdown",
   "id": "e10a3156",
   "metadata": {},
   "source": [
    "### Log in to Weight and Biases"
   ]
  },
  {
   "cell_type": "code",
   "execution_count": 4,
   "id": "c1e3cbd0",
   "metadata": {},
   "outputs": [
    {
     "name": "stderr",
     "output_type": "stream",
     "text": [
      "\u001b[34m\u001b[1mwandb\u001b[0m: Currently logged in as: \u001b[33mm2im\u001b[0m (\u001b[33mnpsdaor\u001b[0m). Use \u001b[1m`wandb login --relogin`\u001b[0m to force relogin\n"
     ]
    },
    {
     "data": {
      "text/plain": [
       "True"
      ]
     },
     "execution_count": 4,
     "metadata": {},
     "output_type": "execute_result"
    }
   ],
   "source": [
    "wandb.login()"
   ]
  },
  {
   "cell_type": "markdown",
   "id": "cefa278b",
   "metadata": {},
   "source": [
    "### Read the dataset"
   ]
  },
  {
   "cell_type": "code",
   "execution_count": 5,
   "id": "bf15e887",
   "metadata": {},
   "outputs": [],
   "source": [
    "violence_hidden = load_from_disk(\"../../Violence_data/geo_corpus.0.0.1_datasets_hidden_xlmt\")"
   ]
  },
  {
   "cell_type": "code",
   "execution_count": 6,
   "id": "69175467",
   "metadata": {},
   "outputs": [
    {
     "data": {
      "text/plain": [
       "DatasetDict({\n",
       "    train: Dataset({\n",
       "        features: ['text', 'labels', 'input_ids', 'attention_mask', 'hidden_state'],\n",
       "        num_rows: 16769932\n",
       "    })\n",
       "    validation: Dataset({\n",
       "        features: ['text', 'labels', 'input_ids', 'attention_mask', 'hidden_state'],\n",
       "        num_rows: 4192483\n",
       "    })\n",
       "    test: Dataset({\n",
       "        features: ['text', 'labels', 'input_ids', 'attention_mask', 'hidden_state'],\n",
       "        num_rows: 2329158\n",
       "    })\n",
       "})"
      ]
     },
     "execution_count": 6,
     "metadata": {},
     "output_type": "execute_result"
    }
   ],
   "source": [
    "violence_hidden"
   ]
  },
  {
   "cell_type": "code",
   "execution_count": 7,
   "id": "33056177",
   "metadata": {},
   "outputs": [],
   "source": [
    "# Remove unncesary columns\n",
    "keep_cols = ['hidden_state', 'labels']\n",
    "remove_columns = [col for col in violence_hidden['train'].column_names if col not in keep_cols]"
   ]
  },
  {
   "cell_type": "code",
   "execution_count": 8,
   "id": "955e02b8",
   "metadata": {},
   "outputs": [],
   "source": [
    "violence_hidden = violence_hidden.remove_columns(remove_columns)"
   ]
  },
  {
   "cell_type": "code",
   "execution_count": 9,
   "id": "2d529a58",
   "metadata": {},
   "outputs": [
    {
     "data": {
      "text/plain": [
       "DatasetDict({\n",
       "    train: Dataset({\n",
       "        features: ['labels', 'hidden_state'],\n",
       "        num_rows: 16769932\n",
       "    })\n",
       "    validation: Dataset({\n",
       "        features: ['labels', 'hidden_state'],\n",
       "        num_rows: 4192483\n",
       "    })\n",
       "    test: Dataset({\n",
       "        features: ['labels', 'hidden_state'],\n",
       "        num_rows: 2329158\n",
       "    })\n",
       "})"
      ]
     },
     "execution_count": 9,
     "metadata": {},
     "output_type": "execute_result"
    }
   ],
   "source": [
    "violence_hidden"
   ]
  },
  {
   "cell_type": "code",
   "execution_count": 10,
   "id": "a918a463",
   "metadata": {},
   "outputs": [
    {
     "name": "stderr",
     "output_type": "stream",
     "text": [
      "Loading cached shuffled indices for dataset at ../../Violence_data/geo_corpus.0.0.1_datasets_hidden_xlmt/train/cache-333532fe06490884.arrow\n",
      "Loading cached shuffled indices for dataset at ../../Violence_data/geo_corpus.0.0.1_datasets_hidden_xlmt/validation/cache-879cab607103254e.arrow\n",
      "Loading cached shuffled indices for dataset at ../../Violence_data/geo_corpus.0.0.1_datasets_hidden_xlmt/test/cache-9d513c2ddd67e482.arrow\n"
     ]
    }
   ],
   "source": [
    "# Extract a subset of the dataset\n",
    "train_clf_ds = violence_hidden[\"train\"].shuffle(args.seed).select(range(args.train_subset))\n",
    "validation_clf_ds = violence_hidden[\"validation\"].shuffle(args.seed).select(range(args.valid_subset))\n",
    "test_clf_ds = violence_hidden[\"test\"].shuffle(args.seed).select(range(args.test_subset))"
   ]
  },
  {
   "cell_type": "code",
   "execution_count": null,
   "id": "3fb48da8",
   "metadata": {},
   "outputs": [],
   "source": [
    "train_clf_ds[0]"
   ]
  },
  {
   "cell_type": "markdown",
   "id": "646db38b",
   "metadata": {},
   "source": [
    "### Create a feature matrix"
   ]
  },
  {
   "cell_type": "code",
   "execution_count": 11,
   "id": "983ac8e3",
   "metadata": {},
   "outputs": [
    {
     "name": "stdout",
     "output_type": "stream",
     "text": [
      "CPU times: user 24 s, sys: 20.6 s, total: 44.6 s\n",
      "Wall time: 29.9 s\n"
     ]
    },
    {
     "data": {
      "text/plain": [
       "(1500000, 768)"
      ]
     },
     "execution_count": 11,
     "metadata": {},
     "output_type": "execute_result"
    }
   ],
   "source": [
    "%time X_train = np.array(train_clf_ds[\"hidden_state\"])\n",
    "y_train = np.array(train_clf_ds[\"labels\"])\n",
    "X_validation = np.array(validation_clf_ds[\"hidden_state\"])\n",
    "y_validation = np.array(validation_clf_ds[\"labels\"])\n",
    "X_test = np.array(test_clf_ds[\"hidden_state\"])\n",
    "y_test = np.array(test_clf_ds[\"labels\"])\n",
    "X_train.shape"
   ]
  },
  {
   "cell_type": "markdown",
   "id": "bf706a08",
   "metadata": {},
   "source": [
    "## Helper Functions"
   ]
  },
  {
   "cell_type": "code",
   "execution_count": 12,
   "id": "712471cc",
   "metadata": {},
   "outputs": [],
   "source": [
    "# Create a function to report the various metrics for each classifier\n",
    "def metricsReport(test_labels, predictions):\n",
    "    \n",
    "    roc_auc = roc_auc_score(test_labels, predictions, average = \"micro\")\n",
    "\n",
    "    weighted_precision = precision_score(test_labels, predictions, average='weighted')\n",
    "    weighted_recall = recall_score(test_labels, predictions, average='weighted')\n",
    "    weighted_f1 = f1_score(test_labels, predictions, average='weighted')\n",
    "\n",
    "    micro_precision = precision_score(test_labels, predictions, average='micro')\n",
    "    micro_recall = recall_score(test_labels, predictions, average='micro')\n",
    "    micro_f1 = f1_score(test_labels, predictions, average='micro')\n",
    "    \n",
    "    \n",
    "    return {\"roc_auc\": format(roc_auc, '.4f'), \"weighted_precision\": format(weighted_precision, '.4f'),\n",
    "                                    \"weighted_recall\": format(weighted_recall, '.4f'), \"weighted_f1\": format(weighted_f1, '.4f'), \"micro_precision\": format(micro_precision, '.4f'),\n",
    "                                    \"micro_recall\": format(micro_recall, '.4f'), \"micro_f1\": format(micro_f1, '.4f')}"
   ]
  },
  {
   "cell_type": "code",
   "execution_count": 13,
   "id": "c4e13115",
   "metadata": {},
   "outputs": [],
   "source": [
    "def plot_confusion_matrix(y_test, y_pred, clf:str):\n",
    "    f, axes = plt.subplots(2, 3, figsize=(25, 15))\n",
    "    f.suptitle(clf, fontsize=36)\n",
    "    axes = axes.ravel()\n",
    "    for i in range(6):\n",
    "        labels=['post7geo10', 'post7geo30', 'post7geo50','pre7geo10','pre7geo30', 'pre7geo50']\n",
    "        disp = ConfusionMatrixDisplay(confusion_matrix(y_test[:, i],\n",
    "                                                       y_pred[:, i]),\n",
    "                                      display_labels=[0, i])\n",
    "        disp.plot(ax=axes[i], values_format='.4g')\n",
    "        disp.ax_.set_title(labels[i])\n",
    "        if i<10:\n",
    "            disp.ax_.set_xlabel('')\n",
    "        if i%5!=0:\n",
    "            disp.ax_.set_ylabel('')\n",
    "        disp.im_.colorbar.remove()\n",
    "\n",
    "    plt.subplots_adjust(wspace=0.10, hspace=0.1)\n",
    "    f.colorbar(disp.im_, ax=axes)\n",
    "    plt.show()"
   ]
  },
  {
   "cell_type": "markdown",
   "id": "50e80d68",
   "metadata": {},
   "source": [
    "# Random Forest Classifier"
   ]
  },
  {
   "cell_type": "code",
   "execution_count": 14,
   "id": "b5748c20",
   "metadata": {},
   "outputs": [],
   "source": [
    "def train():\n",
    "    with wandb.init():\n",
    "        config = wandb.config\n",
    "        rfClassifier = RandomForestClassifier(\n",
    "            n_jobs=-1, \n",
    "            random_state=args.seed,\n",
    "            n_estimators = config.n_estimators,\n",
    "            min_samples_split = config.min_samples_split,\n",
    "            min_samples_leaf = config.min_samples_leaf)\n",
    "        rfClassifier.fit(X_train, y_train)\n",
    "        rfPreds = rfClassifier.predict(X_test)\n",
    "        scores = metricsReport(y_test, rfPreds)\n",
    "        roc_auc = float(scores[\"roc_auc\"])\n",
    "        prec_w = float(scores[\"weighted_precision\"])\n",
    "        recall_w = float(scores[\"weighted_recall\"])\n",
    "        f1_w = float(scores[\"weighted_f1\"])\n",
    "        prec_micro = float(scores[\"micro_precision\"])\n",
    "        recall_micro = float(scores[\"micro_recall\"])\n",
    "        f1_micro = float(scores[\"micro_f1\"])\n",
    "    \n",
    "        wandb.log({'roc_auc': roc_auc,\n",
    "              'weighted_precision': prec_w,\n",
    "              'weighted_recall': recall_w,\n",
    "              'weighted_f1': f1_w,\n",
    "              'micro_precision': prec_micro,\n",
    "              'micro_recall': recall_micro,\n",
    "              'micro_f1': f1_micro})"
   ]
  },
  {
   "cell_type": "markdown",
   "id": "97ffa303",
   "metadata": {},
   "source": [
    "### Initialize the Sweep"
   ]
  },
  {
   "cell_type": "code",
   "execution_count": 15,
   "id": "17df6966",
   "metadata": {},
   "outputs": [
    {
     "name": "stdout",
     "output_type": "stream",
     "text": [
      "Create sweep with ID: e9ww50tw\n",
      "Sweep URL: https://wandb.ai/npsdaor/rf_param_opt/sweeps/e9ww50tw\n"
     ]
    }
   ],
   "source": [
    "sweep_id = wandb.sweep(sweep=sweep_config, project=args.wandb_project_name)"
   ]
  },
  {
   "cell_type": "markdown",
   "id": "be68f706",
   "metadata": {},
   "source": [
    "### Start the Sweep agent"
   ]
  },
  {
   "cell_type": "code",
   "execution_count": 16,
   "id": "7c485fe6",
   "metadata": {},
   "outputs": [
    {
     "name": "stderr",
     "output_type": "stream",
     "text": [
      "\u001b[34m\u001b[1mwandb\u001b[0m: Agent Starting Run: 8yo4teer with config:\n",
      "\u001b[34m\u001b[1mwandb\u001b[0m: \tcriterion: entropy\n",
      "\u001b[34m\u001b[1mwandb\u001b[0m: \tmin_samples_leaf: 50\n",
      "\u001b[34m\u001b[1mwandb\u001b[0m: \tmin_samples_split: 100\n",
      "\u001b[34m\u001b[1mwandb\u001b[0m: \tn_estimators: 50\n"
     ]
    },
    {
     "data": {
      "text/html": [
       "wandb version 0.13.5 is available!  To upgrade, please run:\n",
       " $ pip install wandb --upgrade"
      ],
      "text/plain": [
       "<IPython.core.display.HTML object>"
      ]
     },
     "metadata": {},
     "output_type": "display_data"
    },
    {
     "data": {
      "text/html": [
       "Tracking run with wandb version 0.13.4"
      ],
      "text/plain": [
       "<IPython.core.display.HTML object>"
      ]
     },
     "metadata": {},
     "output_type": "display_data"
    },
    {
     "data": {
      "text/html": [
       "Run data is saved locally in <code>/home/mmendieta/violence_prediction/Scripts/wandb/run-20221119_182203-8yo4teer</code>"
      ],
      "text/plain": [
       "<IPython.core.display.HTML object>"
      ]
     },
     "metadata": {},
     "output_type": "display_data"
    },
    {
     "data": {
      "text/html": [
       "Syncing run <strong><a href=\"https://wandb.ai/npsdaor/rf_param_opt/runs/8yo4teer\" target=\"_blank\">blooming-sweep-1</a></strong> to <a href=\"https://wandb.ai/npsdaor/rf_param_opt\" target=\"_blank\">Weights & Biases</a> (<a href=\"https://wandb.me/run\" target=\"_blank\">docs</a>)<br/>Sweep page:  <a href=\"https://wandb.ai/npsdaor/rf_param_opt/sweeps/e9ww50tw\" target=\"_blank\">https://wandb.ai/npsdaor/rf_param_opt/sweeps/e9ww50tw</a>"
      ],
      "text/plain": [
       "<IPython.core.display.HTML object>"
      ]
     },
     "metadata": {},
     "output_type": "display_data"
    },
    {
     "data": {
      "text/html": [
       "Waiting for W&B process to finish... <strong style=\"color:green\">(success).</strong>"
      ],
      "text/plain": [
       "<IPython.core.display.HTML object>"
      ]
     },
     "metadata": {},
     "output_type": "display_data"
    },
    {
     "data": {
      "text/html": [
       "<style>\n",
       "    table.wandb td:nth-child(1) { padding: 0 10px; text-align: left ; width: auto;} td:nth-child(2) {text-align: left ; width: 100%}\n",
       "    .wandb-row { display: flex; flex-direction: row; flex-wrap: wrap; justify-content: flex-start; width: 100% }\n",
       "    .wandb-col { display: flex; flex-direction: column; flex-basis: 100%; flex: 1; padding: 10px; }\n",
       "    </style>\n",
       "<div class=\"wandb-row\"><div class=\"wandb-col\"><h3>Run history:</h3><br/><table class=\"wandb\"><tr><td>micro_f1</td><td>▁</td></tr><tr><td>micro_precision</td><td>▁</td></tr><tr><td>micro_recall</td><td>▁</td></tr><tr><td>roc_auc</td><td>▁</td></tr><tr><td>weighted_f1</td><td>▁</td></tr><tr><td>weighted_precision</td><td>▁</td></tr><tr><td>weighted_recall</td><td>▁</td></tr></table><br/></div><div class=\"wandb-col\"><h3>Run summary:</h3><br/><table class=\"wandb\"><tr><td>micro_f1</td><td>0.5505</td></tr><tr><td>micro_precision</td><td>0.579</td></tr><tr><td>micro_recall</td><td>0.5246</td></tr><tr><td>roc_auc</td><td>0.6003</td></tr><tr><td>weighted_f1</td><td>0.4647</td></tr><tr><td>weighted_precision</td><td>0.5966</td></tr><tr><td>weighted_recall</td><td>0.5246</td></tr></table><br/></div></div>"
      ],
      "text/plain": [
       "<IPython.core.display.HTML object>"
      ]
     },
     "metadata": {},
     "output_type": "display_data"
    },
    {
     "data": {
      "text/html": [
       "Synced <strong style=\"color:#cdcd00\">blooming-sweep-1</strong>: <a href=\"https://wandb.ai/npsdaor/rf_param_opt/runs/8yo4teer\" target=\"_blank\">https://wandb.ai/npsdaor/rf_param_opt/runs/8yo4teer</a><br/>Synced 4 W&B file(s), 0 media file(s), 0 artifact file(s) and 0 other file(s)"
      ],
      "text/plain": [
       "<IPython.core.display.HTML object>"
      ]
     },
     "metadata": {},
     "output_type": "display_data"
    },
    {
     "data": {
      "text/html": [
       "Find logs at: <code>./wandb/run-20221119_182203-8yo4teer/logs</code>"
      ],
      "text/plain": [
       "<IPython.core.display.HTML object>"
      ]
     },
     "metadata": {},
     "output_type": "display_data"
    },
    {
     "name": "stderr",
     "output_type": "stream",
     "text": [
      "\u001b[34m\u001b[1mwandb\u001b[0m: Agent Starting Run: gde3904h with config:\n",
      "\u001b[34m\u001b[1mwandb\u001b[0m: \tcriterion: entropy\n",
      "\u001b[34m\u001b[1mwandb\u001b[0m: \tmin_samples_leaf: 10\n",
      "\u001b[34m\u001b[1mwandb\u001b[0m: \tmin_samples_split: 10\n",
      "\u001b[34m\u001b[1mwandb\u001b[0m: \tn_estimators: 50\n"
     ]
    },
    {
     "data": {
      "text/html": [
       "wandb version 0.13.5 is available!  To upgrade, please run:\n",
       " $ pip install wandb --upgrade"
      ],
      "text/plain": [
       "<IPython.core.display.HTML object>"
      ]
     },
     "metadata": {},
     "output_type": "display_data"
    },
    {
     "data": {
      "text/html": [
       "Tracking run with wandb version 0.13.4"
      ],
      "text/plain": [
       "<IPython.core.display.HTML object>"
      ]
     },
     "metadata": {},
     "output_type": "display_data"
    },
    {
     "data": {
      "text/html": [
       "Run data is saved locally in <code>/home/mmendieta/violence_prediction/Scripts/wandb/run-20221119_182452-gde3904h</code>"
      ],
      "text/plain": [
       "<IPython.core.display.HTML object>"
      ]
     },
     "metadata": {},
     "output_type": "display_data"
    },
    {
     "data": {
      "text/html": [
       "Syncing run <strong><a href=\"https://wandb.ai/npsdaor/rf_param_opt/runs/gde3904h\" target=\"_blank\">royal-sweep-2</a></strong> to <a href=\"https://wandb.ai/npsdaor/rf_param_opt\" target=\"_blank\">Weights & Biases</a> (<a href=\"https://wandb.me/run\" target=\"_blank\">docs</a>)<br/>Sweep page:  <a href=\"https://wandb.ai/npsdaor/rf_param_opt/sweeps/e9ww50tw\" target=\"_blank\">https://wandb.ai/npsdaor/rf_param_opt/sweeps/e9ww50tw</a>"
      ],
      "text/plain": [
       "<IPython.core.display.HTML object>"
      ]
     },
     "metadata": {},
     "output_type": "display_data"
    },
    {
     "data": {
      "text/html": [
       "Waiting for W&B process to finish... <strong style=\"color:green\">(success).</strong>"
      ],
      "text/plain": [
       "<IPython.core.display.HTML object>"
      ]
     },
     "metadata": {},
     "output_type": "display_data"
    },
    {
     "data": {
      "text/html": [
       "<style>\n",
       "    table.wandb td:nth-child(1) { padding: 0 10px; text-align: left ; width: auto;} td:nth-child(2) {text-align: left ; width: 100%}\n",
       "    .wandb-row { display: flex; flex-direction: row; flex-wrap: wrap; justify-content: flex-start; width: 100% }\n",
       "    .wandb-col { display: flex; flex-direction: column; flex-basis: 100%; flex: 1; padding: 10px; }\n",
       "    </style>\n",
       "<div class=\"wandb-row\"><div class=\"wandb-col\"><h3>Run history:</h3><br/><table class=\"wandb\"><tr><td>micro_f1</td><td>▁</td></tr><tr><td>micro_precision</td><td>▁</td></tr><tr><td>micro_recall</td><td>▁</td></tr><tr><td>roc_auc</td><td>▁</td></tr><tr><td>weighted_f1</td><td>▁</td></tr><tr><td>weighted_precision</td><td>▁</td></tr><tr><td>weighted_recall</td><td>▁</td></tr></table><br/></div><div class=\"wandb-col\"><h3>Run summary:</h3><br/><table class=\"wandb\"><tr><td>micro_f1</td><td>0.5537</td></tr><tr><td>micro_precision</td><td>0.5805</td></tr><tr><td>micro_recall</td><td>0.5293</td></tr><tr><td>roc_auc</td><td>0.6022</td></tr><tr><td>weighted_f1</td><td>0.488</td></tr><tr><td>weighted_precision</td><td>0.5897</td></tr><tr><td>weighted_recall</td><td>0.5293</td></tr></table><br/></div></div>"
      ],
      "text/plain": [
       "<IPython.core.display.HTML object>"
      ]
     },
     "metadata": {},
     "output_type": "display_data"
    },
    {
     "data": {
      "text/html": [
       "Synced <strong style=\"color:#cdcd00\">royal-sweep-2</strong>: <a href=\"https://wandb.ai/npsdaor/rf_param_opt/runs/gde3904h\" target=\"_blank\">https://wandb.ai/npsdaor/rf_param_opt/runs/gde3904h</a><br/>Synced 4 W&B file(s), 0 media file(s), 0 artifact file(s) and 0 other file(s)"
      ],
      "text/plain": [
       "<IPython.core.display.HTML object>"
      ]
     },
     "metadata": {},
     "output_type": "display_data"
    },
    {
     "data": {
      "text/html": [
       "Find logs at: <code>./wandb/run-20221119_182452-gde3904h/logs</code>"
      ],
      "text/plain": [
       "<IPython.core.display.HTML object>"
      ]
     },
     "metadata": {},
     "output_type": "display_data"
    },
    {
     "name": "stderr",
     "output_type": "stream",
     "text": [
      "\u001b[34m\u001b[1mwandb\u001b[0m: Agent Starting Run: dmmawwfd with config:\n",
      "\u001b[34m\u001b[1mwandb\u001b[0m: \tcriterion: gini\n",
      "\u001b[34m\u001b[1mwandb\u001b[0m: \tmin_samples_leaf: 50\n",
      "\u001b[34m\u001b[1mwandb\u001b[0m: \tmin_samples_split: 1000\n",
      "\u001b[34m\u001b[1mwandb\u001b[0m: \tn_estimators: 1000\n"
     ]
    },
    {
     "data": {
      "text/html": [
       "wandb version 0.13.5 is available!  To upgrade, please run:\n",
       " $ pip install wandb --upgrade"
      ],
      "text/plain": [
       "<IPython.core.display.HTML object>"
      ]
     },
     "metadata": {},
     "output_type": "display_data"
    },
    {
     "data": {
      "text/html": [
       "Tracking run with wandb version 0.13.4"
      ],
      "text/plain": [
       "<IPython.core.display.HTML object>"
      ]
     },
     "metadata": {},
     "output_type": "display_data"
    },
    {
     "data": {
      "text/html": [
       "Run data is saved locally in <code>/home/mmendieta/violence_prediction/Scripts/wandb/run-20221119_182806-dmmawwfd</code>"
      ],
      "text/plain": [
       "<IPython.core.display.HTML object>"
      ]
     },
     "metadata": {},
     "output_type": "display_data"
    },
    {
     "data": {
      "text/html": [
       "Syncing run <strong><a href=\"https://wandb.ai/npsdaor/rf_param_opt/runs/dmmawwfd\" target=\"_blank\">rural-sweep-3</a></strong> to <a href=\"https://wandb.ai/npsdaor/rf_param_opt\" target=\"_blank\">Weights & Biases</a> (<a href=\"https://wandb.me/run\" target=\"_blank\">docs</a>)<br/>Sweep page:  <a href=\"https://wandb.ai/npsdaor/rf_param_opt/sweeps/e9ww50tw\" target=\"_blank\">https://wandb.ai/npsdaor/rf_param_opt/sweeps/e9ww50tw</a>"
      ],
      "text/plain": [
       "<IPython.core.display.HTML object>"
      ]
     },
     "metadata": {},
     "output_type": "display_data"
    },
    {
     "data": {
      "text/html": [
       "Waiting for W&B process to finish... <strong style=\"color:green\">(success).</strong>"
      ],
      "text/plain": [
       "<IPython.core.display.HTML object>"
      ]
     },
     "metadata": {},
     "output_type": "display_data"
    },
    {
     "data": {
      "application/vnd.jupyter.widget-view+json": {
       "model_id": "6c43c46d2b954ea4ac4ed5266032e66b",
       "version_major": 2,
       "version_minor": 0
      },
      "text/plain": [
       "VBox(children=(Label(value='0.001 MB of 0.005 MB uploaded (0.000 MB deduped)\\r'), FloatProgress(value=0.140779…"
      ]
     },
     "metadata": {},
     "output_type": "display_data"
    },
    {
     "data": {
      "text/html": [
       "<style>\n",
       "    table.wandb td:nth-child(1) { padding: 0 10px; text-align: left ; width: auto;} td:nth-child(2) {text-align: left ; width: 100%}\n",
       "    .wandb-row { display: flex; flex-direction: row; flex-wrap: wrap; justify-content: flex-start; width: 100% }\n",
       "    .wandb-col { display: flex; flex-direction: column; flex-basis: 100%; flex: 1; padding: 10px; }\n",
       "    </style>\n",
       "<div class=\"wandb-row\"><div class=\"wandb-col\"><h3>Run history:</h3><br/><table class=\"wandb\"><tr><td>micro_f1</td><td>▁</td></tr><tr><td>micro_precision</td><td>▁</td></tr><tr><td>micro_recall</td><td>▁</td></tr><tr><td>roc_auc</td><td>▁</td></tr><tr><td>weighted_f1</td><td>▁</td></tr><tr><td>weighted_precision</td><td>▁</td></tr><tr><td>weighted_recall</td><td>▁</td></tr></table><br/></div><div class=\"wandb-col\"><h3>Run summary:</h3><br/><table class=\"wandb\"><tr><td>micro_f1</td><td>0.5366</td></tr><tr><td>micro_precision</td><td>0.5769</td></tr><tr><td>micro_recall</td><td>0.5015</td></tr><tr><td>roc_auc</td><td>0.5946</td></tr><tr><td>weighted_f1</td><td>0.4338</td></tr><tr><td>weighted_precision</td><td>0.599</td></tr><tr><td>weighted_recall</td><td>0.5015</td></tr></table><br/></div></div>"
      ],
      "text/plain": [
       "<IPython.core.display.HTML object>"
      ]
     },
     "metadata": {},
     "output_type": "display_data"
    },
    {
     "data": {
      "text/html": [
       "Synced <strong style=\"color:#cdcd00\">rural-sweep-3</strong>: <a href=\"https://wandb.ai/npsdaor/rf_param_opt/runs/dmmawwfd\" target=\"_blank\">https://wandb.ai/npsdaor/rf_param_opt/runs/dmmawwfd</a><br/>Synced 4 W&B file(s), 0 media file(s), 0 artifact file(s) and 0 other file(s)"
      ],
      "text/plain": [
       "<IPython.core.display.HTML object>"
      ]
     },
     "metadata": {},
     "output_type": "display_data"
    },
    {
     "data": {
      "text/html": [
       "Find logs at: <code>./wandb/run-20221119_182806-dmmawwfd/logs</code>"
      ],
      "text/plain": [
       "<IPython.core.display.HTML object>"
      ]
     },
     "metadata": {},
     "output_type": "display_data"
    },
    {
     "name": "stderr",
     "output_type": "stream",
     "text": [
      "\u001b[34m\u001b[1mwandb\u001b[0m: Agent Starting Run: 79fu8zqe with config:\n",
      "\u001b[34m\u001b[1mwandb\u001b[0m: \tcriterion: gini\n",
      "\u001b[34m\u001b[1mwandb\u001b[0m: \tmin_samples_leaf: 10\n",
      "\u001b[34m\u001b[1mwandb\u001b[0m: \tmin_samples_split: 1000\n",
      "\u001b[34m\u001b[1mwandb\u001b[0m: \tn_estimators: 1000\n"
     ]
    },
    {
     "data": {
      "text/html": [
       "wandb version 0.13.5 is available!  To upgrade, please run:\n",
       " $ pip install wandb --upgrade"
      ],
      "text/plain": [
       "<IPython.core.display.HTML object>"
      ]
     },
     "metadata": {},
     "output_type": "display_data"
    },
    {
     "data": {
      "text/html": [
       "Tracking run with wandb version 0.13.4"
      ],
      "text/plain": [
       "<IPython.core.display.HTML object>"
      ]
     },
     "metadata": {},
     "output_type": "display_data"
    },
    {
     "data": {
      "text/html": [
       "Run data is saved locally in <code>/home/mmendieta/violence_prediction/Scripts/wandb/run-20221119_191230-79fu8zqe</code>"
      ],
      "text/plain": [
       "<IPython.core.display.HTML object>"
      ]
     },
     "metadata": {},
     "output_type": "display_data"
    },
    {
     "data": {
      "text/html": [
       "Syncing run <strong><a href=\"https://wandb.ai/npsdaor/rf_param_opt/runs/79fu8zqe\" target=\"_blank\">dauntless-sweep-4</a></strong> to <a href=\"https://wandb.ai/npsdaor/rf_param_opt\" target=\"_blank\">Weights & Biases</a> (<a href=\"https://wandb.me/run\" target=\"_blank\">docs</a>)<br/>Sweep page:  <a href=\"https://wandb.ai/npsdaor/rf_param_opt/sweeps/e9ww50tw\" target=\"_blank\">https://wandb.ai/npsdaor/rf_param_opt/sweeps/e9ww50tw</a>"
      ],
      "text/plain": [
       "<IPython.core.display.HTML object>"
      ]
     },
     "metadata": {},
     "output_type": "display_data"
    },
    {
     "data": {
      "text/html": [
       "Waiting for W&B process to finish... <strong style=\"color:green\">(success).</strong>"
      ],
      "text/plain": [
       "<IPython.core.display.HTML object>"
      ]
     },
     "metadata": {},
     "output_type": "display_data"
    },
    {
     "data": {
      "application/vnd.jupyter.widget-view+json": {
       "model_id": "3acbd481e6a94b76b8aecb2ae522db4e",
       "version_major": 2,
       "version_minor": 0
      },
      "text/plain": [
       "VBox(children=(Label(value='0.001 MB of 0.005 MB uploaded (0.000 MB deduped)\\r'), FloatProgress(value=0.140700…"
      ]
     },
     "metadata": {},
     "output_type": "display_data"
    },
    {
     "data": {
      "text/html": [
       "<style>\n",
       "    table.wandb td:nth-child(1) { padding: 0 10px; text-align: left ; width: auto;} td:nth-child(2) {text-align: left ; width: 100%}\n",
       "    .wandb-row { display: flex; flex-direction: row; flex-wrap: wrap; justify-content: flex-start; width: 100% }\n",
       "    .wandb-col { display: flex; flex-direction: column; flex-basis: 100%; flex: 1; padding: 10px; }\n",
       "    </style>\n",
       "<div class=\"wandb-row\"><div class=\"wandb-col\"><h3>Run history:</h3><br/><table class=\"wandb\"><tr><td>micro_f1</td><td>▁</td></tr><tr><td>micro_precision</td><td>▁</td></tr><tr><td>micro_recall</td><td>▁</td></tr><tr><td>roc_auc</td><td>▁</td></tr><tr><td>weighted_f1</td><td>▁</td></tr><tr><td>weighted_precision</td><td>▁</td></tr><tr><td>weighted_recall</td><td>▁</td></tr></table><br/></div><div class=\"wandb-col\"><h3>Run summary:</h3><br/><table class=\"wandb\"><tr><td>micro_f1</td><td>0.537</td></tr><tr><td>micro_precision</td><td>0.5773</td></tr><tr><td>micro_recall</td><td>0.5021</td></tr><tr><td>roc_auc</td><td>0.5949</td></tr><tr><td>weighted_f1</td><td>0.4346</td></tr><tr><td>weighted_precision</td><td>0.5997</td></tr><tr><td>weighted_recall</td><td>0.5021</td></tr></table><br/></div></div>"
      ],
      "text/plain": [
       "<IPython.core.display.HTML object>"
      ]
     },
     "metadata": {},
     "output_type": "display_data"
    },
    {
     "data": {
      "text/html": [
       "Synced <strong style=\"color:#cdcd00\">dauntless-sweep-4</strong>: <a href=\"https://wandb.ai/npsdaor/rf_param_opt/runs/79fu8zqe\" target=\"_blank\">https://wandb.ai/npsdaor/rf_param_opt/runs/79fu8zqe</a><br/>Synced 4 W&B file(s), 0 media file(s), 0 artifact file(s) and 0 other file(s)"
      ],
      "text/plain": [
       "<IPython.core.display.HTML object>"
      ]
     },
     "metadata": {},
     "output_type": "display_data"
    },
    {
     "data": {
      "text/html": [
       "Find logs at: <code>./wandb/run-20221119_191230-79fu8zqe/logs</code>"
      ],
      "text/plain": [
       "<IPython.core.display.HTML object>"
      ]
     },
     "metadata": {},
     "output_type": "display_data"
    },
    {
     "name": "stderr",
     "output_type": "stream",
     "text": [
      "\u001b[34m\u001b[1mwandb\u001b[0m: Agent Starting Run: kgfa8rks with config:\n",
      "\u001b[34m\u001b[1mwandb\u001b[0m: \tcriterion: entropy\n",
      "\u001b[34m\u001b[1mwandb\u001b[0m: \tmin_samples_leaf: 50\n",
      "\u001b[34m\u001b[1mwandb\u001b[0m: \tmin_samples_split: 10\n",
      "\u001b[34m\u001b[1mwandb\u001b[0m: \tn_estimators: 500\n"
     ]
    },
    {
     "data": {
      "text/html": [
       "wandb version 0.13.5 is available!  To upgrade, please run:\n",
       " $ pip install wandb --upgrade"
      ],
      "text/plain": [
       "<IPython.core.display.HTML object>"
      ]
     },
     "metadata": {},
     "output_type": "display_data"
    },
    {
     "data": {
      "text/html": [
       "Tracking run with wandb version 0.13.4"
      ],
      "text/plain": [
       "<IPython.core.display.HTML object>"
      ]
     },
     "metadata": {},
     "output_type": "display_data"
    },
    {
     "data": {
      "text/html": [
       "Run data is saved locally in <code>/home/mmendieta/violence_prediction/Scripts/wandb/run-20221119_195730-kgfa8rks</code>"
      ],
      "text/plain": [
       "<IPython.core.display.HTML object>"
      ]
     },
     "metadata": {},
     "output_type": "display_data"
    },
    {
     "data": {
      "text/html": [
       "Syncing run <strong><a href=\"https://wandb.ai/npsdaor/rf_param_opt/runs/kgfa8rks\" target=\"_blank\">distinctive-sweep-5</a></strong> to <a href=\"https://wandb.ai/npsdaor/rf_param_opt\" target=\"_blank\">Weights & Biases</a> (<a href=\"https://wandb.me/run\" target=\"_blank\">docs</a>)<br/>Sweep page:  <a href=\"https://wandb.ai/npsdaor/rf_param_opt/sweeps/e9ww50tw\" target=\"_blank\">https://wandb.ai/npsdaor/rf_param_opt/sweeps/e9ww50tw</a>"
      ],
      "text/plain": [
       "<IPython.core.display.HTML object>"
      ]
     },
     "metadata": {},
     "output_type": "display_data"
    },
    {
     "data": {
      "text/html": [
       "Waiting for W&B process to finish... <strong style=\"color:green\">(success).</strong>"
      ],
      "text/plain": [
       "<IPython.core.display.HTML object>"
      ]
     },
     "metadata": {},
     "output_type": "display_data"
    },
    {
     "data": {
      "application/vnd.jupyter.widget-view+json": {
       "model_id": "c68a7434220e4c908afbe99a0199f0d0",
       "version_major": 2,
       "version_minor": 0
      },
      "text/plain": [
       "VBox(children=(Label(value='0.001 MB of 0.005 MB uploaded (0.000 MB deduped)\\r'), FloatProgress(value=0.148330…"
      ]
     },
     "metadata": {},
     "output_type": "display_data"
    },
    {
     "data": {
      "text/html": [
       "<style>\n",
       "    table.wandb td:nth-child(1) { padding: 0 10px; text-align: left ; width: auto;} td:nth-child(2) {text-align: left ; width: 100%}\n",
       "    .wandb-row { display: flex; flex-direction: row; flex-wrap: wrap; justify-content: flex-start; width: 100% }\n",
       "    .wandb-col { display: flex; flex-direction: column; flex-basis: 100%; flex: 1; padding: 10px; }\n",
       "    </style>\n",
       "<div class=\"wandb-row\"><div class=\"wandb-col\"><h3>Run history:</h3><br/><table class=\"wandb\"><tr><td>micro_f1</td><td>▁</td></tr><tr><td>micro_precision</td><td>▁</td></tr><tr><td>micro_recall</td><td>▁</td></tr><tr><td>roc_auc</td><td>▁</td></tr><tr><td>weighted_f1</td><td>▁</td></tr><tr><td>weighted_precision</td><td>▁</td></tr><tr><td>weighted_recall</td><td>▁</td></tr></table><br/></div><div class=\"wandb-col\"><h3>Run summary:</h3><br/><table class=\"wandb\"><tr><td>micro_f1</td><td>0.547</td></tr><tr><td>micro_precision</td><td>0.5815</td></tr><tr><td>micro_recall</td><td>0.5164</td></tr><tr><td>roc_auc</td><td>0.6004</td></tr><tr><td>weighted_f1</td><td>0.4559</td></tr><tr><td>weighted_precision</td><td>0.6029</td></tr><tr><td>weighted_recall</td><td>0.5164</td></tr></table><br/></div></div>"
      ],
      "text/plain": [
       "<IPython.core.display.HTML object>"
      ]
     },
     "metadata": {},
     "output_type": "display_data"
    },
    {
     "data": {
      "text/html": [
       "Synced <strong style=\"color:#cdcd00\">distinctive-sweep-5</strong>: <a href=\"https://wandb.ai/npsdaor/rf_param_opt/runs/kgfa8rks\" target=\"_blank\">https://wandb.ai/npsdaor/rf_param_opt/runs/kgfa8rks</a><br/>Synced 4 W&B file(s), 0 media file(s), 0 artifact file(s) and 0 other file(s)"
      ],
      "text/plain": [
       "<IPython.core.display.HTML object>"
      ]
     },
     "metadata": {},
     "output_type": "display_data"
    },
    {
     "data": {
      "text/html": [
       "Find logs at: <code>./wandb/run-20221119_195730-kgfa8rks/logs</code>"
      ],
      "text/plain": [
       "<IPython.core.display.HTML object>"
      ]
     },
     "metadata": {},
     "output_type": "display_data"
    },
    {
     "name": "stderr",
     "output_type": "stream",
     "text": [
      "\u001b[34m\u001b[1mwandb\u001b[0m: Agent Starting Run: 2ibe6wvp with config:\n",
      "\u001b[34m\u001b[1mwandb\u001b[0m: \tcriterion: entropy\n",
      "\u001b[34m\u001b[1mwandb\u001b[0m: \tmin_samples_leaf: 10\n",
      "\u001b[34m\u001b[1mwandb\u001b[0m: \tmin_samples_split: 100\n",
      "\u001b[34m\u001b[1mwandb\u001b[0m: \tn_estimators: 1000\n"
     ]
    },
    {
     "data": {
      "text/html": [
       "wandb version 0.13.5 is available!  To upgrade, please run:\n",
       " $ pip install wandb --upgrade"
      ],
      "text/plain": [
       "<IPython.core.display.HTML object>"
      ]
     },
     "metadata": {},
     "output_type": "display_data"
    },
    {
     "data": {
      "text/html": [
       "Tracking run with wandb version 0.13.4"
      ],
      "text/plain": [
       "<IPython.core.display.HTML object>"
      ]
     },
     "metadata": {},
     "output_type": "display_data"
    },
    {
     "data": {
      "text/html": [
       "Run data is saved locally in <code>/home/mmendieta/violence_prediction/Scripts/wandb/run-20221119_202250-2ibe6wvp</code>"
      ],
      "text/plain": [
       "<IPython.core.display.HTML object>"
      ]
     },
     "metadata": {},
     "output_type": "display_data"
    },
    {
     "data": {
      "text/html": [
       "Syncing run <strong><a href=\"https://wandb.ai/npsdaor/rf_param_opt/runs/2ibe6wvp\" target=\"_blank\">azure-sweep-6</a></strong> to <a href=\"https://wandb.ai/npsdaor/rf_param_opt\" target=\"_blank\">Weights & Biases</a> (<a href=\"https://wandb.me/run\" target=\"_blank\">docs</a>)<br/>Sweep page:  <a href=\"https://wandb.ai/npsdaor/rf_param_opt/sweeps/e9ww50tw\" target=\"_blank\">https://wandb.ai/npsdaor/rf_param_opt/sweeps/e9ww50tw</a>"
      ],
      "text/plain": [
       "<IPython.core.display.HTML object>"
      ]
     },
     "metadata": {},
     "output_type": "display_data"
    },
    {
     "data": {
      "text/html": [
       "Waiting for W&B process to finish... <strong style=\"color:green\">(success).</strong>"
      ],
      "text/plain": [
       "<IPython.core.display.HTML object>"
      ]
     },
     "metadata": {},
     "output_type": "display_data"
    },
    {
     "data": {
      "text/html": [
       "<style>\n",
       "    table.wandb td:nth-child(1) { padding: 0 10px; text-align: left ; width: auto;} td:nth-child(2) {text-align: left ; width: 100%}\n",
       "    .wandb-row { display: flex; flex-direction: row; flex-wrap: wrap; justify-content: flex-start; width: 100% }\n",
       "    .wandb-col { display: flex; flex-direction: column; flex-basis: 100%; flex: 1; padding: 10px; }\n",
       "    </style>\n",
       "<div class=\"wandb-row\"><div class=\"wandb-col\"><h3>Run history:</h3><br/><table class=\"wandb\"><tr><td>micro_f1</td><td>▁</td></tr><tr><td>micro_precision</td><td>▁</td></tr><tr><td>micro_recall</td><td>▁</td></tr><tr><td>roc_auc</td><td>▁</td></tr><tr><td>weighted_f1</td><td>▁</td></tr><tr><td>weighted_precision</td><td>▁</td></tr><tr><td>weighted_recall</td><td>▁</td></tr></table><br/></div><div class=\"wandb-col\"><h3>Run summary:</h3><br/><table class=\"wandb\"><tr><td>micro_f1</td><td>0.5494</td></tr><tr><td>micro_precision</td><td>0.5834</td></tr><tr><td>micro_recall</td><td>0.5191</td></tr><tr><td>roc_auc</td><td>0.6022</td></tr><tr><td>weighted_f1</td><td>0.461</td></tr><tr><td>weighted_precision</td><td>0.6054</td></tr><tr><td>weighted_recall</td><td>0.5191</td></tr></table><br/></div></div>"
      ],
      "text/plain": [
       "<IPython.core.display.HTML object>"
      ]
     },
     "metadata": {},
     "output_type": "display_data"
    },
    {
     "data": {
      "text/html": [
       "Synced <strong style=\"color:#cdcd00\">azure-sweep-6</strong>: <a href=\"https://wandb.ai/npsdaor/rf_param_opt/runs/2ibe6wvp\" target=\"_blank\">https://wandb.ai/npsdaor/rf_param_opt/runs/2ibe6wvp</a><br/>Synced 4 W&B file(s), 0 media file(s), 0 artifact file(s) and 0 other file(s)"
      ],
      "text/plain": [
       "<IPython.core.display.HTML object>"
      ]
     },
     "metadata": {},
     "output_type": "display_data"
    },
    {
     "data": {
      "text/html": [
       "Find logs at: <code>./wandb/run-20221119_202250-2ibe6wvp/logs</code>"
      ],
      "text/plain": [
       "<IPython.core.display.HTML object>"
      ]
     },
     "metadata": {},
     "output_type": "display_data"
    },
    {
     "name": "stderr",
     "output_type": "stream",
     "text": [
      "\u001b[34m\u001b[1mwandb\u001b[0m: Sweep Agent: Waiting for job.\n",
      "\u001b[34m\u001b[1mwandb\u001b[0m: Job received.\n",
      "\u001b[34m\u001b[1mwandb\u001b[0m: Agent Starting Run: m4072jvu with config:\n",
      "\u001b[34m\u001b[1mwandb\u001b[0m: \tcriterion: entropy\n",
      "\u001b[34m\u001b[1mwandb\u001b[0m: \tmin_samples_leaf: 100\n",
      "\u001b[34m\u001b[1mwandb\u001b[0m: \tmin_samples_split: 1000\n",
      "\u001b[34m\u001b[1mwandb\u001b[0m: \tn_estimators: 1000\n"
     ]
    },
    {
     "data": {
      "text/html": [
       "wandb version 0.13.5 is available!  To upgrade, please run:\n",
       " $ pip install wandb --upgrade"
      ],
      "text/plain": [
       "<IPython.core.display.HTML object>"
      ]
     },
     "metadata": {},
     "output_type": "display_data"
    },
    {
     "data": {
      "text/html": [
       "Tracking run with wandb version 0.13.4"
      ],
      "text/plain": [
       "<IPython.core.display.HTML object>"
      ]
     },
     "metadata": {},
     "output_type": "display_data"
    },
    {
     "data": {
      "text/html": [
       "Run data is saved locally in <code>/home/mmendieta/violence_prediction/Scripts/wandb/run-20221119_211552-m4072jvu</code>"
      ],
      "text/plain": [
       "<IPython.core.display.HTML object>"
      ]
     },
     "metadata": {},
     "output_type": "display_data"
    },
    {
     "data": {
      "text/html": [
       "Syncing run <strong><a href=\"https://wandb.ai/npsdaor/rf_param_opt/runs/m4072jvu\" target=\"_blank\">fallen-sweep-7</a></strong> to <a href=\"https://wandb.ai/npsdaor/rf_param_opt\" target=\"_blank\">Weights & Biases</a> (<a href=\"https://wandb.me/run\" target=\"_blank\">docs</a>)<br/>Sweep page:  <a href=\"https://wandb.ai/npsdaor/rf_param_opt/sweeps/e9ww50tw\" target=\"_blank\">https://wandb.ai/npsdaor/rf_param_opt/sweeps/e9ww50tw</a>"
      ],
      "text/plain": [
       "<IPython.core.display.HTML object>"
      ]
     },
     "metadata": {},
     "output_type": "display_data"
    },
    {
     "data": {
      "text/html": [
       "Waiting for W&B process to finish... <strong style=\"color:green\">(success).</strong>"
      ],
      "text/plain": [
       "<IPython.core.display.HTML object>"
      ]
     },
     "metadata": {},
     "output_type": "display_data"
    },
    {
     "data": {
      "application/vnd.jupyter.widget-view+json": {
       "model_id": "624871c84a944301ad21d8f935e609d0",
       "version_major": 2,
       "version_minor": 0
      },
      "text/plain": [
       "VBox(children=(Label(value='0.001 MB of 0.005 MB uploaded (0.000 MB deduped)\\r'), FloatProgress(value=0.140595…"
      ]
     },
     "metadata": {},
     "output_type": "display_data"
    },
    {
     "data": {
      "text/html": [
       "<style>\n",
       "    table.wandb td:nth-child(1) { padding: 0 10px; text-align: left ; width: auto;} td:nth-child(2) {text-align: left ; width: 100%}\n",
       "    .wandb-row { display: flex; flex-direction: row; flex-wrap: wrap; justify-content: flex-start; width: 100% }\n",
       "    .wandb-col { display: flex; flex-direction: column; flex-basis: 100%; flex: 1; padding: 10px; }\n",
       "    </style>\n",
       "<div class=\"wandb-row\"><div class=\"wandb-col\"><h3>Run history:</h3><br/><table class=\"wandb\"><tr><td>micro_f1</td><td>▁</td></tr><tr><td>micro_precision</td><td>▁</td></tr><tr><td>micro_recall</td><td>▁</td></tr><tr><td>roc_auc</td><td>▁</td></tr><tr><td>weighted_f1</td><td>▁</td></tr><tr><td>weighted_precision</td><td>▁</td></tr><tr><td>weighted_recall</td><td>▁</td></tr></table><br/></div><div class=\"wandb-col\"><h3>Run summary:</h3><br/><table class=\"wandb\"><tr><td>micro_f1</td><td>0.5359</td></tr><tr><td>micro_precision</td><td>0.5767</td></tr><tr><td>micro_recall</td><td>0.5005</td></tr><tr><td>roc_auc</td><td>0.5943</td></tr><tr><td>weighted_f1</td><td>0.4326</td></tr><tr><td>weighted_precision</td><td>0.5987</td></tr><tr><td>weighted_recall</td><td>0.5005</td></tr></table><br/></div></div>"
      ],
      "text/plain": [
       "<IPython.core.display.HTML object>"
      ]
     },
     "metadata": {},
     "output_type": "display_data"
    },
    {
     "data": {
      "text/html": [
       "Synced <strong style=\"color:#cdcd00\">fallen-sweep-7</strong>: <a href=\"https://wandb.ai/npsdaor/rf_param_opt/runs/m4072jvu\" target=\"_blank\">https://wandb.ai/npsdaor/rf_param_opt/runs/m4072jvu</a><br/>Synced 4 W&B file(s), 0 media file(s), 0 artifact file(s) and 0 other file(s)"
      ],
      "text/plain": [
       "<IPython.core.display.HTML object>"
      ]
     },
     "metadata": {},
     "output_type": "display_data"
    },
    {
     "data": {
      "text/html": [
       "Find logs at: <code>./wandb/run-20221119_211552-m4072jvu/logs</code>"
      ],
      "text/plain": [
       "<IPython.core.display.HTML object>"
      ]
     },
     "metadata": {},
     "output_type": "display_data"
    },
    {
     "name": "stderr",
     "output_type": "stream",
     "text": [
      "\u001b[34m\u001b[1mwandb\u001b[0m: Agent Starting Run: 3a4y1qpp with config:\n",
      "\u001b[34m\u001b[1mwandb\u001b[0m: \tcriterion: entropy\n",
      "\u001b[34m\u001b[1mwandb\u001b[0m: \tmin_samples_leaf: 10\n",
      "\u001b[34m\u001b[1mwandb\u001b[0m: \tmin_samples_split: 1000\n",
      "\u001b[34m\u001b[1mwandb\u001b[0m: \tn_estimators: 50\n"
     ]
    },
    {
     "data": {
      "text/html": [
       "wandb version 0.13.5 is available!  To upgrade, please run:\n",
       " $ pip install wandb --upgrade"
      ],
      "text/plain": [
       "<IPython.core.display.HTML object>"
      ]
     },
     "metadata": {},
     "output_type": "display_data"
    },
    {
     "data": {
      "text/html": [
       "Tracking run with wandb version 0.13.4"
      ],
      "text/plain": [
       "<IPython.core.display.HTML object>"
      ]
     },
     "metadata": {},
     "output_type": "display_data"
    },
    {
     "data": {
      "text/html": [
       "Run data is saved locally in <code>/home/mmendieta/violence_prediction/Scripts/wandb/run-20221119_215935-3a4y1qpp</code>"
      ],
      "text/plain": [
       "<IPython.core.display.HTML object>"
      ]
     },
     "metadata": {},
     "output_type": "display_data"
    },
    {
     "data": {
      "text/html": [
       "Syncing run <strong><a href=\"https://wandb.ai/npsdaor/rf_param_opt/runs/3a4y1qpp\" target=\"_blank\">devoted-sweep-8</a></strong> to <a href=\"https://wandb.ai/npsdaor/rf_param_opt\" target=\"_blank\">Weights & Biases</a> (<a href=\"https://wandb.me/run\" target=\"_blank\">docs</a>)<br/>Sweep page:  <a href=\"https://wandb.ai/npsdaor/rf_param_opt/sweeps/e9ww50tw\" target=\"_blank\">https://wandb.ai/npsdaor/rf_param_opt/sweeps/e9ww50tw</a>"
      ],
      "text/plain": [
       "<IPython.core.display.HTML object>"
      ]
     },
     "metadata": {},
     "output_type": "display_data"
    },
    {
     "data": {
      "text/html": [
       "Waiting for W&B process to finish... <strong style=\"color:green\">(success).</strong>"
      ],
      "text/plain": [
       "<IPython.core.display.HTML object>"
      ]
     },
     "metadata": {},
     "output_type": "display_data"
    },
    {
     "data": {
      "application/vnd.jupyter.widget-view+json": {
       "model_id": "46d72e4f5c30448aabcb9230616ed1a2",
       "version_major": 2,
       "version_minor": 0
      },
      "text/plain": [
       "VBox(children=(Label(value='0.001 MB of 0.005 MB uploaded (0.000 MB deduped)\\r'), FloatProgress(value=0.140805…"
      ]
     },
     "metadata": {},
     "output_type": "display_data"
    },
    {
     "data": {
      "text/html": [
       "<style>\n",
       "    table.wandb td:nth-child(1) { padding: 0 10px; text-align: left ; width: auto;} td:nth-child(2) {text-align: left ; width: 100%}\n",
       "    .wandb-row { display: flex; flex-direction: row; flex-wrap: wrap; justify-content: flex-start; width: 100% }\n",
       "    .wandb-col { display: flex; flex-direction: column; flex-basis: 100%; flex: 1; padding: 10px; }\n",
       "    </style>\n",
       "<div class=\"wandb-row\"><div class=\"wandb-col\"><h3>Run history:</h3><br/><table class=\"wandb\"><tr><td>micro_f1</td><td>▁</td></tr><tr><td>micro_precision</td><td>▁</td></tr><tr><td>micro_recall</td><td>▁</td></tr><tr><td>roc_auc</td><td>▁</td></tr><tr><td>weighted_f1</td><td>▁</td></tr><tr><td>weighted_precision</td><td>▁</td></tr><tr><td>weighted_recall</td><td>▁</td></tr></table><br/></div><div class=\"wandb-col\"><h3>Run summary:</h3><br/><table class=\"wandb\"><tr><td>micro_f1</td><td>0.5388</td></tr><tr><td>micro_precision</td><td>0.5761</td></tr><tr><td>micro_recall</td><td>0.506</td></tr><tr><td>roc_auc</td><td>0.5949</td></tr><tr><td>weighted_f1</td><td>0.4386</td></tr><tr><td>weighted_precision</td><td>0.5973</td></tr><tr><td>weighted_recall</td><td>0.506</td></tr></table><br/></div></div>"
      ],
      "text/plain": [
       "<IPython.core.display.HTML object>"
      ]
     },
     "metadata": {},
     "output_type": "display_data"
    },
    {
     "data": {
      "text/html": [
       "Synced <strong style=\"color:#cdcd00\">devoted-sweep-8</strong>: <a href=\"https://wandb.ai/npsdaor/rf_param_opt/runs/3a4y1qpp\" target=\"_blank\">https://wandb.ai/npsdaor/rf_param_opt/runs/3a4y1qpp</a><br/>Synced 4 W&B file(s), 0 media file(s), 0 artifact file(s) and 0 other file(s)"
      ],
      "text/plain": [
       "<IPython.core.display.HTML object>"
      ]
     },
     "metadata": {},
     "output_type": "display_data"
    },
    {
     "data": {
      "text/html": [
       "Find logs at: <code>./wandb/run-20221119_215935-3a4y1qpp/logs</code>"
      ],
      "text/plain": [
       "<IPython.core.display.HTML object>"
      ]
     },
     "metadata": {},
     "output_type": "display_data"
    },
    {
     "name": "stderr",
     "output_type": "stream",
     "text": [
      "\u001b[34m\u001b[1mwandb\u001b[0m: Agent Starting Run: wq6fu585 with config:\n",
      "\u001b[34m\u001b[1mwandb\u001b[0m: \tcriterion: entropy\n",
      "\u001b[34m\u001b[1mwandb\u001b[0m: \tmin_samples_leaf: 10\n",
      "\u001b[34m\u001b[1mwandb\u001b[0m: \tmin_samples_split: 1000\n",
      "\u001b[34m\u001b[1mwandb\u001b[0m: \tn_estimators: 1000\n"
     ]
    },
    {
     "data": {
      "text/html": [
       "wandb version 0.13.5 is available!  To upgrade, please run:\n",
       " $ pip install wandb --upgrade"
      ],
      "text/plain": [
       "<IPython.core.display.HTML object>"
      ]
     },
     "metadata": {},
     "output_type": "display_data"
    },
    {
     "data": {
      "text/html": [
       "Tracking run with wandb version 0.13.4"
      ],
      "text/plain": [
       "<IPython.core.display.HTML object>"
      ]
     },
     "metadata": {},
     "output_type": "display_data"
    },
    {
     "data": {
      "text/html": [
       "Run data is saved locally in <code>/home/mmendieta/violence_prediction/Scripts/wandb/run-20221119_220219-wq6fu585</code>"
      ],
      "text/plain": [
       "<IPython.core.display.HTML object>"
      ]
     },
     "metadata": {},
     "output_type": "display_data"
    },
    {
     "data": {
      "text/html": [
       "Syncing run <strong><a href=\"https://wandb.ai/npsdaor/rf_param_opt/runs/wq6fu585\" target=\"_blank\">wild-sweep-9</a></strong> to <a href=\"https://wandb.ai/npsdaor/rf_param_opt\" target=\"_blank\">Weights & Biases</a> (<a href=\"https://wandb.me/run\" target=\"_blank\">docs</a>)<br/>Sweep page:  <a href=\"https://wandb.ai/npsdaor/rf_param_opt/sweeps/e9ww50tw\" target=\"_blank\">https://wandb.ai/npsdaor/rf_param_opt/sweeps/e9ww50tw</a>"
      ],
      "text/plain": [
       "<IPython.core.display.HTML object>"
      ]
     },
     "metadata": {},
     "output_type": "display_data"
    },
    {
     "data": {
      "text/html": [
       "Waiting for W&B process to finish... <strong style=\"color:green\">(success).</strong>"
      ],
      "text/plain": [
       "<IPython.core.display.HTML object>"
      ]
     },
     "metadata": {},
     "output_type": "display_data"
    },
    {
     "data": {
      "text/html": [
       "<style>\n",
       "    table.wandb td:nth-child(1) { padding: 0 10px; text-align: left ; width: auto;} td:nth-child(2) {text-align: left ; width: 100%}\n",
       "    .wandb-row { display: flex; flex-direction: row; flex-wrap: wrap; justify-content: flex-start; width: 100% }\n",
       "    .wandb-col { display: flex; flex-direction: column; flex-basis: 100%; flex: 1; padding: 10px; }\n",
       "    </style>\n",
       "<div class=\"wandb-row\"><div class=\"wandb-col\"><h3>Run history:</h3><br/><table class=\"wandb\"><tr><td>micro_f1</td><td>▁</td></tr><tr><td>micro_precision</td><td>▁</td></tr><tr><td>micro_recall</td><td>▁</td></tr><tr><td>roc_auc</td><td>▁</td></tr><tr><td>weighted_f1</td><td>▁</td></tr><tr><td>weighted_precision</td><td>▁</td></tr><tr><td>weighted_recall</td><td>▁</td></tr></table><br/></div><div class=\"wandb-col\"><h3>Run summary:</h3><br/><table class=\"wandb\"><tr><td>micro_f1</td><td>0.537</td></tr><tr><td>micro_precision</td><td>0.5773</td></tr><tr><td>micro_recall</td><td>0.5021</td></tr><tr><td>roc_auc</td><td>0.5949</td></tr><tr><td>weighted_f1</td><td>0.4346</td></tr><tr><td>weighted_precision</td><td>0.5997</td></tr><tr><td>weighted_recall</td><td>0.5021</td></tr></table><br/></div></div>"
      ],
      "text/plain": [
       "<IPython.core.display.HTML object>"
      ]
     },
     "metadata": {},
     "output_type": "display_data"
    },
    {
     "data": {
      "text/html": [
       "Synced <strong style=\"color:#cdcd00\">wild-sweep-9</strong>: <a href=\"https://wandb.ai/npsdaor/rf_param_opt/runs/wq6fu585\" target=\"_blank\">https://wandb.ai/npsdaor/rf_param_opt/runs/wq6fu585</a><br/>Synced 4 W&B file(s), 0 media file(s), 0 artifact file(s) and 0 other file(s)"
      ],
      "text/plain": [
       "<IPython.core.display.HTML object>"
      ]
     },
     "metadata": {},
     "output_type": "display_data"
    },
    {
     "data": {
      "text/html": [
       "Find logs at: <code>./wandb/run-20221119_220219-wq6fu585/logs</code>"
      ],
      "text/plain": [
       "<IPython.core.display.HTML object>"
      ]
     },
     "metadata": {},
     "output_type": "display_data"
    },
    {
     "name": "stderr",
     "output_type": "stream",
     "text": [
      "\u001b[34m\u001b[1mwandb\u001b[0m: Agent Starting Run: 7yzplijb with config:\n",
      "\u001b[34m\u001b[1mwandb\u001b[0m: \tcriterion: gini\n",
      "\u001b[34m\u001b[1mwandb\u001b[0m: \tmin_samples_leaf: 10\n",
      "\u001b[34m\u001b[1mwandb\u001b[0m: \tmin_samples_split: 10\n",
      "\u001b[34m\u001b[1mwandb\u001b[0m: \tn_estimators: 50\n"
     ]
    },
    {
     "data": {
      "text/html": [
       "wandb version 0.13.5 is available!  To upgrade, please run:\n",
       " $ pip install wandb --upgrade"
      ],
      "text/plain": [
       "<IPython.core.display.HTML object>"
      ]
     },
     "metadata": {},
     "output_type": "display_data"
    },
    {
     "data": {
      "text/html": [
       "Tracking run with wandb version 0.13.4"
      ],
      "text/plain": [
       "<IPython.core.display.HTML object>"
      ]
     },
     "metadata": {},
     "output_type": "display_data"
    },
    {
     "data": {
      "text/html": [
       "Run data is saved locally in <code>/home/mmendieta/violence_prediction/Scripts/wandb/run-20221119_224807-7yzplijb</code>"
      ],
      "text/plain": [
       "<IPython.core.display.HTML object>"
      ]
     },
     "metadata": {},
     "output_type": "display_data"
    },
    {
     "data": {
      "text/html": [
       "Syncing run <strong><a href=\"https://wandb.ai/npsdaor/rf_param_opt/runs/7yzplijb\" target=\"_blank\">winter-sweep-10</a></strong> to <a href=\"https://wandb.ai/npsdaor/rf_param_opt\" target=\"_blank\">Weights & Biases</a> (<a href=\"https://wandb.me/run\" target=\"_blank\">docs</a>)<br/>Sweep page:  <a href=\"https://wandb.ai/npsdaor/rf_param_opt/sweeps/e9ww50tw\" target=\"_blank\">https://wandb.ai/npsdaor/rf_param_opt/sweeps/e9ww50tw</a>"
      ],
      "text/plain": [
       "<IPython.core.display.HTML object>"
      ]
     },
     "metadata": {},
     "output_type": "display_data"
    },
    {
     "data": {
      "text/html": [
       "Waiting for W&B process to finish... <strong style=\"color:green\">(success).</strong>"
      ],
      "text/plain": [
       "<IPython.core.display.HTML object>"
      ]
     },
     "metadata": {},
     "output_type": "display_data"
    },
    {
     "data": {
      "application/vnd.jupyter.widget-view+json": {
       "model_id": "0a3f4cc480694b96aad170f4115373c5",
       "version_major": 2,
       "version_minor": 0
      },
      "text/plain": [
       "VBox(children=(Label(value='0.001 MB of 0.005 MB uploaded (0.000 MB deduped)\\r'), FloatProgress(value=0.148475…"
      ]
     },
     "metadata": {},
     "output_type": "display_data"
    },
    {
     "data": {
      "text/html": [
       "<style>\n",
       "    table.wandb td:nth-child(1) { padding: 0 10px; text-align: left ; width: auto;} td:nth-child(2) {text-align: left ; width: 100%}\n",
       "    .wandb-row { display: flex; flex-direction: row; flex-wrap: wrap; justify-content: flex-start; width: 100% }\n",
       "    .wandb-col { display: flex; flex-direction: column; flex-basis: 100%; flex: 1; padding: 10px; }\n",
       "    </style>\n",
       "<div class=\"wandb-row\"><div class=\"wandb-col\"><h3>Run history:</h3><br/><table class=\"wandb\"><tr><td>micro_f1</td><td>▁</td></tr><tr><td>micro_precision</td><td>▁</td></tr><tr><td>micro_recall</td><td>▁</td></tr><tr><td>roc_auc</td><td>▁</td></tr><tr><td>weighted_f1</td><td>▁</td></tr><tr><td>weighted_precision</td><td>▁</td></tr><tr><td>weighted_recall</td><td>▁</td></tr></table><br/></div><div class=\"wandb-col\"><h3>Run summary:</h3><br/><table class=\"wandb\"><tr><td>micro_f1</td><td>0.5537</td></tr><tr><td>micro_precision</td><td>0.5805</td></tr><tr><td>micro_recall</td><td>0.5293</td></tr><tr><td>roc_auc</td><td>0.6022</td></tr><tr><td>weighted_f1</td><td>0.488</td></tr><tr><td>weighted_precision</td><td>0.5897</td></tr><tr><td>weighted_recall</td><td>0.5293</td></tr></table><br/></div></div>"
      ],
      "text/plain": [
       "<IPython.core.display.HTML object>"
      ]
     },
     "metadata": {},
     "output_type": "display_data"
    },
    {
     "data": {
      "text/html": [
       "Synced <strong style=\"color:#cdcd00\">winter-sweep-10</strong>: <a href=\"https://wandb.ai/npsdaor/rf_param_opt/runs/7yzplijb\" target=\"_blank\">https://wandb.ai/npsdaor/rf_param_opt/runs/7yzplijb</a><br/>Synced 4 W&B file(s), 0 media file(s), 0 artifact file(s) and 0 other file(s)"
      ],
      "text/plain": [
       "<IPython.core.display.HTML object>"
      ]
     },
     "metadata": {},
     "output_type": "display_data"
    },
    {
     "data": {
      "text/html": [
       "Find logs at: <code>./wandb/run-20221119_224807-7yzplijb/logs</code>"
      ],
      "text/plain": [
       "<IPython.core.display.HTML object>"
      ]
     },
     "metadata": {},
     "output_type": "display_data"
    },
    {
     "name": "stderr",
     "output_type": "stream",
     "text": [
      "\u001b[34m\u001b[1mwandb\u001b[0m: Agent Starting Run: s2hmzqkg with config:\n",
      "\u001b[34m\u001b[1mwandb\u001b[0m: \tcriterion: entropy\n",
      "\u001b[34m\u001b[1mwandb\u001b[0m: \tmin_samples_leaf: 50\n",
      "\u001b[34m\u001b[1mwandb\u001b[0m: \tmin_samples_split: 10\n",
      "\u001b[34m\u001b[1mwandb\u001b[0m: \tn_estimators: 500\n"
     ]
    },
    {
     "data": {
      "text/html": [
       "wandb version 0.13.5 is available!  To upgrade, please run:\n",
       " $ pip install wandb --upgrade"
      ],
      "text/plain": [
       "<IPython.core.display.HTML object>"
      ]
     },
     "metadata": {},
     "output_type": "display_data"
    },
    {
     "data": {
      "text/html": [
       "Tracking run with wandb version 0.13.4"
      ],
      "text/plain": [
       "<IPython.core.display.HTML object>"
      ]
     },
     "metadata": {},
     "output_type": "display_data"
    },
    {
     "data": {
      "text/html": [
       "Run data is saved locally in <code>/home/mmendieta/violence_prediction/Scripts/wandb/run-20221119_225121-s2hmzqkg</code>"
      ],
      "text/plain": [
       "<IPython.core.display.HTML object>"
      ]
     },
     "metadata": {},
     "output_type": "display_data"
    },
    {
     "data": {
      "text/html": [
       "Syncing run <strong><a href=\"https://wandb.ai/npsdaor/rf_param_opt/runs/s2hmzqkg\" target=\"_blank\">different-sweep-11</a></strong> to <a href=\"https://wandb.ai/npsdaor/rf_param_opt\" target=\"_blank\">Weights & Biases</a> (<a href=\"https://wandb.me/run\" target=\"_blank\">docs</a>)<br/>Sweep page:  <a href=\"https://wandb.ai/npsdaor/rf_param_opt/sweeps/e9ww50tw\" target=\"_blank\">https://wandb.ai/npsdaor/rf_param_opt/sweeps/e9ww50tw</a>"
      ],
      "text/plain": [
       "<IPython.core.display.HTML object>"
      ]
     },
     "metadata": {},
     "output_type": "display_data"
    },
    {
     "data": {
      "text/html": [
       "Waiting for W&B process to finish... <strong style=\"color:green\">(success).</strong>"
      ],
      "text/plain": [
       "<IPython.core.display.HTML object>"
      ]
     },
     "metadata": {},
     "output_type": "display_data"
    },
    {
     "data": {
      "application/vnd.jupyter.widget-view+json": {
       "model_id": "32625db8c2ec4c0da5f81cffa2ff3ba2",
       "version_major": 2,
       "version_minor": 0
      },
      "text/plain": [
       "VBox(children=(Label(value='0.001 MB of 0.005 MB uploaded (0.000 MB deduped)\\r'), FloatProgress(value=0.148359…"
      ]
     },
     "metadata": {},
     "output_type": "display_data"
    },
    {
     "data": {
      "text/html": [
       "<style>\n",
       "    table.wandb td:nth-child(1) { padding: 0 10px; text-align: left ; width: auto;} td:nth-child(2) {text-align: left ; width: 100%}\n",
       "    .wandb-row { display: flex; flex-direction: row; flex-wrap: wrap; justify-content: flex-start; width: 100% }\n",
       "    .wandb-col { display: flex; flex-direction: column; flex-basis: 100%; flex: 1; padding: 10px; }\n",
       "    </style>\n",
       "<div class=\"wandb-row\"><div class=\"wandb-col\"><h3>Run history:</h3><br/><table class=\"wandb\"><tr><td>micro_f1</td><td>▁</td></tr><tr><td>micro_precision</td><td>▁</td></tr><tr><td>micro_recall</td><td>▁</td></tr><tr><td>roc_auc</td><td>▁</td></tr><tr><td>weighted_f1</td><td>▁</td></tr><tr><td>weighted_precision</td><td>▁</td></tr><tr><td>weighted_recall</td><td>▁</td></tr></table><br/></div><div class=\"wandb-col\"><h3>Run summary:</h3><br/><table class=\"wandb\"><tr><td>micro_f1</td><td>0.547</td></tr><tr><td>micro_precision</td><td>0.5815</td></tr><tr><td>micro_recall</td><td>0.5164</td></tr><tr><td>roc_auc</td><td>0.6004</td></tr><tr><td>weighted_f1</td><td>0.4559</td></tr><tr><td>weighted_precision</td><td>0.6029</td></tr><tr><td>weighted_recall</td><td>0.5164</td></tr></table><br/></div></div>"
      ],
      "text/plain": [
       "<IPython.core.display.HTML object>"
      ]
     },
     "metadata": {},
     "output_type": "display_data"
    },
    {
     "data": {
      "text/html": [
       "Synced <strong style=\"color:#cdcd00\">different-sweep-11</strong>: <a href=\"https://wandb.ai/npsdaor/rf_param_opt/runs/s2hmzqkg\" target=\"_blank\">https://wandb.ai/npsdaor/rf_param_opt/runs/s2hmzqkg</a><br/>Synced 4 W&B file(s), 0 media file(s), 0 artifact file(s) and 0 other file(s)"
      ],
      "text/plain": [
       "<IPython.core.display.HTML object>"
      ]
     },
     "metadata": {},
     "output_type": "display_data"
    },
    {
     "data": {
      "text/html": [
       "Find logs at: <code>./wandb/run-20221119_225121-s2hmzqkg/logs</code>"
      ],
      "text/plain": [
       "<IPython.core.display.HTML object>"
      ]
     },
     "metadata": {},
     "output_type": "display_data"
    },
    {
     "name": "stderr",
     "output_type": "stream",
     "text": [
      "\u001b[34m\u001b[1mwandb\u001b[0m: Agent Starting Run: 9pagtrgb with config:\n",
      "\u001b[34m\u001b[1mwandb\u001b[0m: \tcriterion: entropy\n",
      "\u001b[34m\u001b[1mwandb\u001b[0m: \tmin_samples_leaf: 50\n",
      "\u001b[34m\u001b[1mwandb\u001b[0m: \tmin_samples_split: 100\n",
      "\u001b[34m\u001b[1mwandb\u001b[0m: \tn_estimators: 1000\n"
     ]
    },
    {
     "data": {
      "text/html": [
       "wandb version 0.13.5 is available!  To upgrade, please run:\n",
       " $ pip install wandb --upgrade"
      ],
      "text/plain": [
       "<IPython.core.display.HTML object>"
      ]
     },
     "metadata": {},
     "output_type": "display_data"
    },
    {
     "data": {
      "text/html": [
       "Tracking run with wandb version 0.13.4"
      ],
      "text/plain": [
       "<IPython.core.display.HTML object>"
      ]
     },
     "metadata": {},
     "output_type": "display_data"
    },
    {
     "data": {
      "text/html": [
       "Run data is saved locally in <code>/home/mmendieta/violence_prediction/Scripts/wandb/run-20221119_231644-9pagtrgb</code>"
      ],
      "text/plain": [
       "<IPython.core.display.HTML object>"
      ]
     },
     "metadata": {},
     "output_type": "display_data"
    },
    {
     "data": {
      "text/html": [
       "Syncing run <strong><a href=\"https://wandb.ai/npsdaor/rf_param_opt/runs/9pagtrgb\" target=\"_blank\">classic-sweep-12</a></strong> to <a href=\"https://wandb.ai/npsdaor/rf_param_opt\" target=\"_blank\">Weights & Biases</a> (<a href=\"https://wandb.me/run\" target=\"_blank\">docs</a>)<br/>Sweep page:  <a href=\"https://wandb.ai/npsdaor/rf_param_opt/sweeps/e9ww50tw\" target=\"_blank\">https://wandb.ai/npsdaor/rf_param_opt/sweeps/e9ww50tw</a>"
      ],
      "text/plain": [
       "<IPython.core.display.HTML object>"
      ]
     },
     "metadata": {},
     "output_type": "display_data"
    },
    {
     "data": {
      "text/html": [
       "Waiting for W&B process to finish... <strong style=\"color:green\">(success).</strong>"
      ],
      "text/plain": [
       "<IPython.core.display.HTML object>"
      ]
     },
     "metadata": {},
     "output_type": "display_data"
    },
    {
     "data": {
      "text/html": [
       "<style>\n",
       "    table.wandb td:nth-child(1) { padding: 0 10px; text-align: left ; width: auto;} td:nth-child(2) {text-align: left ; width: 100%}\n",
       "    .wandb-row { display: flex; flex-direction: row; flex-wrap: wrap; justify-content: flex-start; width: 100% }\n",
       "    .wandb-col { display: flex; flex-direction: column; flex-basis: 100%; flex: 1; padding: 10px; }\n",
       "    </style>\n",
       "<div class=\"wandb-row\"><div class=\"wandb-col\"><h3>Run history:</h3><br/><table class=\"wandb\"><tr><td>micro_f1</td><td>▁</td></tr><tr><td>micro_precision</td><td>▁</td></tr><tr><td>micro_recall</td><td>▁</td></tr><tr><td>roc_auc</td><td>▁</td></tr><tr><td>weighted_f1</td><td>▁</td></tr><tr><td>weighted_precision</td><td>▁</td></tr><tr><td>weighted_recall</td><td>▁</td></tr></table><br/></div><div class=\"wandb-col\"><h3>Run summary:</h3><br/><table class=\"wandb\"><tr><td>micro_f1</td><td>0.5468</td></tr><tr><td>micro_precision</td><td>0.5817</td></tr><tr><td>micro_recall</td><td>0.5159</td></tr><tr><td>roc_auc</td><td>0.6004</td></tr><tr><td>weighted_f1</td><td>0.4554</td></tr><tr><td>weighted_precision</td><td>0.6034</td></tr><tr><td>weighted_recall</td><td>0.5159</td></tr></table><br/></div></div>"
      ],
      "text/plain": [
       "<IPython.core.display.HTML object>"
      ]
     },
     "metadata": {},
     "output_type": "display_data"
    },
    {
     "data": {
      "text/html": [
       "Synced <strong style=\"color:#cdcd00\">classic-sweep-12</strong>: <a href=\"https://wandb.ai/npsdaor/rf_param_opt/runs/9pagtrgb\" target=\"_blank\">https://wandb.ai/npsdaor/rf_param_opt/runs/9pagtrgb</a><br/>Synced 4 W&B file(s), 0 media file(s), 0 artifact file(s) and 0 other file(s)"
      ],
      "text/plain": [
       "<IPython.core.display.HTML object>"
      ]
     },
     "metadata": {},
     "output_type": "display_data"
    },
    {
     "data": {
      "text/html": [
       "Find logs at: <code>./wandb/run-20221119_231644-9pagtrgb/logs</code>"
      ],
      "text/plain": [
       "<IPython.core.display.HTML object>"
      ]
     },
     "metadata": {},
     "output_type": "display_data"
    },
    {
     "name": "stderr",
     "output_type": "stream",
     "text": [
      "\u001b[34m\u001b[1mwandb\u001b[0m: Agent Starting Run: zwsu664q with config:\n",
      "\u001b[34m\u001b[1mwandb\u001b[0m: \tcriterion: gini\n",
      "\u001b[34m\u001b[1mwandb\u001b[0m: \tmin_samples_leaf: 100\n",
      "\u001b[34m\u001b[1mwandb\u001b[0m: \tmin_samples_split: 100\n",
      "\u001b[34m\u001b[1mwandb\u001b[0m: \tn_estimators: 500\n"
     ]
    },
    {
     "data": {
      "text/html": [
       "wandb version 0.13.5 is available!  To upgrade, please run:\n",
       " $ pip install wandb --upgrade"
      ],
      "text/plain": [
       "<IPython.core.display.HTML object>"
      ]
     },
     "metadata": {},
     "output_type": "display_data"
    },
    {
     "data": {
      "text/html": [
       "Tracking run with wandb version 0.13.4"
      ],
      "text/plain": [
       "<IPython.core.display.HTML object>"
      ]
     },
     "metadata": {},
     "output_type": "display_data"
    },
    {
     "data": {
      "text/html": [
       "Run data is saved locally in <code>/home/mmendieta/violence_prediction/Scripts/wandb/run-20221120_000654-zwsu664q</code>"
      ],
      "text/plain": [
       "<IPython.core.display.HTML object>"
      ]
     },
     "metadata": {},
     "output_type": "display_data"
    },
    {
     "data": {
      "text/html": [
       "Syncing run <strong><a href=\"https://wandb.ai/npsdaor/rf_param_opt/runs/zwsu664q\" target=\"_blank\">glamorous-sweep-13</a></strong> to <a href=\"https://wandb.ai/npsdaor/rf_param_opt\" target=\"_blank\">Weights & Biases</a> (<a href=\"https://wandb.me/run\" target=\"_blank\">docs</a>)<br/>Sweep page:  <a href=\"https://wandb.ai/npsdaor/rf_param_opt/sweeps/e9ww50tw\" target=\"_blank\">https://wandb.ai/npsdaor/rf_param_opt/sweeps/e9ww50tw</a>"
      ],
      "text/plain": [
       "<IPython.core.display.HTML object>"
      ]
     },
     "metadata": {},
     "output_type": "display_data"
    },
    {
     "data": {
      "text/html": [
       "Waiting for W&B process to finish... <strong style=\"color:green\">(success).</strong>"
      ],
      "text/plain": [
       "<IPython.core.display.HTML object>"
      ]
     },
     "metadata": {},
     "output_type": "display_data"
    },
    {
     "data": {
      "text/html": [
       "<style>\n",
       "    table.wandb td:nth-child(1) { padding: 0 10px; text-align: left ; width: auto;} td:nth-child(2) {text-align: left ; width: 100%}\n",
       "    .wandb-row { display: flex; flex-direction: row; flex-wrap: wrap; justify-content: flex-start; width: 100% }\n",
       "    .wandb-col { display: flex; flex-direction: column; flex-basis: 100%; flex: 1; padding: 10px; }\n",
       "    </style>\n",
       "<div class=\"wandb-row\"><div class=\"wandb-col\"><h3>Run history:</h3><br/><table class=\"wandb\"><tr><td>micro_f1</td><td>▁</td></tr><tr><td>micro_precision</td><td>▁</td></tr><tr><td>micro_recall</td><td>▁</td></tr><tr><td>roc_auc</td><td>▁</td></tr><tr><td>weighted_f1</td><td>▁</td></tr><tr><td>weighted_precision</td><td>▁</td></tr><tr><td>weighted_recall</td><td>▁</td></tr></table><br/></div><div class=\"wandb-col\"><h3>Run summary:</h3><br/><table class=\"wandb\"><tr><td>micro_f1</td><td>0.5426</td></tr><tr><td>micro_precision</td><td>0.5794</td></tr><tr><td>micro_recall</td><td>0.5102</td></tr><tr><td>roc_auc</td><td>0.5979</td></tr><tr><td>weighted_f1</td><td>0.4467</td></tr><tr><td>weighted_precision</td><td>0.6012</td></tr><tr><td>weighted_recall</td><td>0.5102</td></tr></table><br/></div></div>"
      ],
      "text/plain": [
       "<IPython.core.display.HTML object>"
      ]
     },
     "metadata": {},
     "output_type": "display_data"
    },
    {
     "data": {
      "text/html": [
       "Synced <strong style=\"color:#cdcd00\">glamorous-sweep-13</strong>: <a href=\"https://wandb.ai/npsdaor/rf_param_opt/runs/zwsu664q\" target=\"_blank\">https://wandb.ai/npsdaor/rf_param_opt/runs/zwsu664q</a><br/>Synced 4 W&B file(s), 0 media file(s), 0 artifact file(s) and 0 other file(s)"
      ],
      "text/plain": [
       "<IPython.core.display.HTML object>"
      ]
     },
     "metadata": {},
     "output_type": "display_data"
    },
    {
     "data": {
      "text/html": [
       "Find logs at: <code>./wandb/run-20221120_000654-zwsu664q/logs</code>"
      ],
      "text/plain": [
       "<IPython.core.display.HTML object>"
      ]
     },
     "metadata": {},
     "output_type": "display_data"
    },
    {
     "name": "stderr",
     "output_type": "stream",
     "text": [
      "\u001b[34m\u001b[1mwandb\u001b[0m: Agent Starting Run: 5by07wwc with config:\n",
      "\u001b[34m\u001b[1mwandb\u001b[0m: \tcriterion: entropy\n",
      "\u001b[34m\u001b[1mwandb\u001b[0m: \tmin_samples_leaf: 100\n",
      "\u001b[34m\u001b[1mwandb\u001b[0m: \tmin_samples_split: 10\n",
      "\u001b[34m\u001b[1mwandb\u001b[0m: \tn_estimators: 50\n"
     ]
    },
    {
     "data": {
      "text/html": [
       "wandb version 0.13.5 is available!  To upgrade, please run:\n",
       " $ pip install wandb --upgrade"
      ],
      "text/plain": [
       "<IPython.core.display.HTML object>"
      ]
     },
     "metadata": {},
     "output_type": "display_data"
    },
    {
     "data": {
      "text/html": [
       "Tracking run with wandb version 0.13.4"
      ],
      "text/plain": [
       "<IPython.core.display.HTML object>"
      ]
     },
     "metadata": {},
     "output_type": "display_data"
    },
    {
     "data": {
      "text/html": [
       "Run data is saved locally in <code>/home/mmendieta/violence_prediction/Scripts/wandb/run-20221120_003009-5by07wwc</code>"
      ],
      "text/plain": [
       "<IPython.core.display.HTML object>"
      ]
     },
     "metadata": {},
     "output_type": "display_data"
    },
    {
     "data": {
      "text/html": [
       "Syncing run <strong><a href=\"https://wandb.ai/npsdaor/rf_param_opt/runs/5by07wwc\" target=\"_blank\">hearty-sweep-14</a></strong> to <a href=\"https://wandb.ai/npsdaor/rf_param_opt\" target=\"_blank\">Weights & Biases</a> (<a href=\"https://wandb.me/run\" target=\"_blank\">docs</a>)<br/>Sweep page:  <a href=\"https://wandb.ai/npsdaor/rf_param_opt/sweeps/e9ww50tw\" target=\"_blank\">https://wandb.ai/npsdaor/rf_param_opt/sweeps/e9ww50tw</a>"
      ],
      "text/plain": [
       "<IPython.core.display.HTML object>"
      ]
     },
     "metadata": {},
     "output_type": "display_data"
    },
    {
     "data": {
      "text/html": [
       "Waiting for W&B process to finish... <strong style=\"color:green\">(success).</strong>"
      ],
      "text/plain": [
       "<IPython.core.display.HTML object>"
      ]
     },
     "metadata": {},
     "output_type": "display_data"
    },
    {
     "data": {
      "application/vnd.jupyter.widget-view+json": {
       "model_id": "a083c3c07aa64bdaafd14513905f1332",
       "version_major": 2,
       "version_minor": 0
      },
      "text/plain": [
       "VBox(children=(Label(value='0.001 MB of 0.005 MB uploaded (0.000 MB deduped)\\r'), FloatProgress(value=0.148330…"
      ]
     },
     "metadata": {},
     "output_type": "display_data"
    },
    {
     "data": {
      "text/html": [
       "<style>\n",
       "    table.wandb td:nth-child(1) { padding: 0 10px; text-align: left ; width: auto;} td:nth-child(2) {text-align: left ; width: 100%}\n",
       "    .wandb-row { display: flex; flex-direction: row; flex-wrap: wrap; justify-content: flex-start; width: 100% }\n",
       "    .wandb-col { display: flex; flex-direction: column; flex-basis: 100%; flex: 1; padding: 10px; }\n",
       "    </style>\n",
       "<div class=\"wandb-row\"><div class=\"wandb-col\"><h3>Run history:</h3><br/><table class=\"wandb\"><tr><td>micro_f1</td><td>▁</td></tr><tr><td>micro_precision</td><td>▁</td></tr><tr><td>micro_recall</td><td>▁</td></tr><tr><td>roc_auc</td><td>▁</td></tr><tr><td>weighted_f1</td><td>▁</td></tr><tr><td>weighted_precision</td><td>▁</td></tr><tr><td>weighted_recall</td><td>▁</td></tr></table><br/></div><div class=\"wandb-col\"><h3>Run summary:</h3><br/><table class=\"wandb\"><tr><td>micro_f1</td><td>0.5455</td></tr><tr><td>micro_precision</td><td>0.5778</td></tr><tr><td>micro_recall</td><td>0.5166</td></tr><tr><td>roc_auc</td><td>0.598</td></tr><tr><td>weighted_f1</td><td>0.4527</td></tr><tr><td>weighted_precision</td><td>0.5981</td></tr><tr><td>weighted_recall</td><td>0.5166</td></tr></table><br/></div></div>"
      ],
      "text/plain": [
       "<IPython.core.display.HTML object>"
      ]
     },
     "metadata": {},
     "output_type": "display_data"
    },
    {
     "data": {
      "text/html": [
       "Synced <strong style=\"color:#cdcd00\">hearty-sweep-14</strong>: <a href=\"https://wandb.ai/npsdaor/rf_param_opt/runs/5by07wwc\" target=\"_blank\">https://wandb.ai/npsdaor/rf_param_opt/runs/5by07wwc</a><br/>Synced 4 W&B file(s), 0 media file(s), 0 artifact file(s) and 0 other file(s)"
      ],
      "text/plain": [
       "<IPython.core.display.HTML object>"
      ]
     },
     "metadata": {},
     "output_type": "display_data"
    },
    {
     "data": {
      "text/html": [
       "Find logs at: <code>./wandb/run-20221120_003009-5by07wwc/logs</code>"
      ],
      "text/plain": [
       "<IPython.core.display.HTML object>"
      ]
     },
     "metadata": {},
     "output_type": "display_data"
    },
    {
     "name": "stderr",
     "output_type": "stream",
     "text": [
      "\u001b[34m\u001b[1mwandb\u001b[0m: Agent Starting Run: t2d9kplp with config:\n",
      "\u001b[34m\u001b[1mwandb\u001b[0m: \tcriterion: gini\n",
      "\u001b[34m\u001b[1mwandb\u001b[0m: \tmin_samples_leaf: 100\n",
      "\u001b[34m\u001b[1mwandb\u001b[0m: \tmin_samples_split: 1000\n",
      "\u001b[34m\u001b[1mwandb\u001b[0m: \tn_estimators: 1000\n"
     ]
    },
    {
     "data": {
      "text/html": [
       "wandb version 0.13.5 is available!  To upgrade, please run:\n",
       " $ pip install wandb --upgrade"
      ],
      "text/plain": [
       "<IPython.core.display.HTML object>"
      ]
     },
     "metadata": {},
     "output_type": "display_data"
    },
    {
     "data": {
      "text/html": [
       "Tracking run with wandb version 0.13.4"
      ],
      "text/plain": [
       "<IPython.core.display.HTML object>"
      ]
     },
     "metadata": {},
     "output_type": "display_data"
    },
    {
     "data": {
      "text/html": [
       "Run data is saved locally in <code>/home/mmendieta/violence_prediction/Scripts/wandb/run-20221120_003253-t2d9kplp</code>"
      ],
      "text/plain": [
       "<IPython.core.display.HTML object>"
      ]
     },
     "metadata": {},
     "output_type": "display_data"
    },
    {
     "data": {
      "text/html": [
       "Syncing run <strong><a href=\"https://wandb.ai/npsdaor/rf_param_opt/runs/t2d9kplp\" target=\"_blank\">dutiful-sweep-15</a></strong> to <a href=\"https://wandb.ai/npsdaor/rf_param_opt\" target=\"_blank\">Weights & Biases</a> (<a href=\"https://wandb.me/run\" target=\"_blank\">docs</a>)<br/>Sweep page:  <a href=\"https://wandb.ai/npsdaor/rf_param_opt/sweeps/e9ww50tw\" target=\"_blank\">https://wandb.ai/npsdaor/rf_param_opt/sweeps/e9ww50tw</a>"
      ],
      "text/plain": [
       "<IPython.core.display.HTML object>"
      ]
     },
     "metadata": {},
     "output_type": "display_data"
    },
    {
     "data": {
      "text/html": [
       "Waiting for W&B process to finish... <strong style=\"color:green\">(success).</strong>"
      ],
      "text/plain": [
       "<IPython.core.display.HTML object>"
      ]
     },
     "metadata": {},
     "output_type": "display_data"
    },
    {
     "data": {
      "text/html": [
       "<style>\n",
       "    table.wandb td:nth-child(1) { padding: 0 10px; text-align: left ; width: auto;} td:nth-child(2) {text-align: left ; width: 100%}\n",
       "    .wandb-row { display: flex; flex-direction: row; flex-wrap: wrap; justify-content: flex-start; width: 100% }\n",
       "    .wandb-col { display: flex; flex-direction: column; flex-basis: 100%; flex: 1; padding: 10px; }\n",
       "    </style>\n",
       "<div class=\"wandb-row\"><div class=\"wandb-col\"><h3>Run history:</h3><br/><table class=\"wandb\"><tr><td>micro_f1</td><td>▁</td></tr><tr><td>micro_precision</td><td>▁</td></tr><tr><td>micro_recall</td><td>▁</td></tr><tr><td>roc_auc</td><td>▁</td></tr><tr><td>weighted_f1</td><td>▁</td></tr><tr><td>weighted_precision</td><td>▁</td></tr><tr><td>weighted_recall</td><td>▁</td></tr></table><br/></div><div class=\"wandb-col\"><h3>Run summary:</h3><br/><table class=\"wandb\"><tr><td>micro_f1</td><td>0.5359</td></tr><tr><td>micro_precision</td><td>0.5767</td></tr><tr><td>micro_recall</td><td>0.5005</td></tr><tr><td>roc_auc</td><td>0.5943</td></tr><tr><td>weighted_f1</td><td>0.4326</td></tr><tr><td>weighted_precision</td><td>0.5987</td></tr><tr><td>weighted_recall</td><td>0.5005</td></tr></table><br/></div></div>"
      ],
      "text/plain": [
       "<IPython.core.display.HTML object>"
      ]
     },
     "metadata": {},
     "output_type": "display_data"
    },
    {
     "data": {
      "text/html": [
       "Synced <strong style=\"color:#cdcd00\">dutiful-sweep-15</strong>: <a href=\"https://wandb.ai/npsdaor/rf_param_opt/runs/t2d9kplp\" target=\"_blank\">https://wandb.ai/npsdaor/rf_param_opt/runs/t2d9kplp</a><br/>Synced 4 W&B file(s), 0 media file(s), 0 artifact file(s) and 0 other file(s)"
      ],
      "text/plain": [
       "<IPython.core.display.HTML object>"
      ]
     },
     "metadata": {},
     "output_type": "display_data"
    },
    {
     "data": {
      "text/html": [
       "Find logs at: <code>./wandb/run-20221120_003253-t2d9kplp/logs</code>"
      ],
      "text/plain": [
       "<IPython.core.display.HTML object>"
      ]
     },
     "metadata": {},
     "output_type": "display_data"
    },
    {
     "name": "stderr",
     "output_type": "stream",
     "text": [
      "\u001b[34m\u001b[1mwandb\u001b[0m: Agent Starting Run: lssc0jur with config:\n",
      "\u001b[34m\u001b[1mwandb\u001b[0m: \tcriterion: entropy\n",
      "\u001b[34m\u001b[1mwandb\u001b[0m: \tmin_samples_leaf: 10\n",
      "\u001b[34m\u001b[1mwandb\u001b[0m: \tmin_samples_split: 1000\n",
      "\u001b[34m\u001b[1mwandb\u001b[0m: \tn_estimators: 500\n"
     ]
    },
    {
     "data": {
      "text/html": [
       "wandb version 0.13.5 is available!  To upgrade, please run:\n",
       " $ pip install wandb --upgrade"
      ],
      "text/plain": [
       "<IPython.core.display.HTML object>"
      ]
     },
     "metadata": {},
     "output_type": "display_data"
    },
    {
     "data": {
      "text/html": [
       "Tracking run with wandb version 0.13.4"
      ],
      "text/plain": [
       "<IPython.core.display.HTML object>"
      ]
     },
     "metadata": {},
     "output_type": "display_data"
    },
    {
     "data": {
      "text/html": [
       "Run data is saved locally in <code>/home/mmendieta/violence_prediction/Scripts/wandb/run-20221120_011601-lssc0jur</code>"
      ],
      "text/plain": [
       "<IPython.core.display.HTML object>"
      ]
     },
     "metadata": {},
     "output_type": "display_data"
    },
    {
     "data": {
      "text/html": [
       "Syncing run <strong><a href=\"https://wandb.ai/npsdaor/rf_param_opt/runs/lssc0jur\" target=\"_blank\">zany-sweep-16</a></strong> to <a href=\"https://wandb.ai/npsdaor/rf_param_opt\" target=\"_blank\">Weights & Biases</a> (<a href=\"https://wandb.me/run\" target=\"_blank\">docs</a>)<br/>Sweep page:  <a href=\"https://wandb.ai/npsdaor/rf_param_opt/sweeps/e9ww50tw\" target=\"_blank\">https://wandb.ai/npsdaor/rf_param_opt/sweeps/e9ww50tw</a>"
      ],
      "text/plain": [
       "<IPython.core.display.HTML object>"
      ]
     },
     "metadata": {},
     "output_type": "display_data"
    },
    {
     "data": {
      "text/html": [
       "Waiting for W&B process to finish... <strong style=\"color:green\">(success).</strong>"
      ],
      "text/plain": [
       "<IPython.core.display.HTML object>"
      ]
     },
     "metadata": {},
     "output_type": "display_data"
    },
    {
     "data": {
      "text/html": [
       "<style>\n",
       "    table.wandb td:nth-child(1) { padding: 0 10px; text-align: left ; width: auto;} td:nth-child(2) {text-align: left ; width: 100%}\n",
       "    .wandb-row { display: flex; flex-direction: row; flex-wrap: wrap; justify-content: flex-start; width: 100% }\n",
       "    .wandb-col { display: flex; flex-direction: column; flex-basis: 100%; flex: 1; padding: 10px; }\n",
       "    </style>\n",
       "<div class=\"wandb-row\"><div class=\"wandb-col\"><h3>Run history:</h3><br/><table class=\"wandb\"><tr><td>micro_f1</td><td>▁</td></tr><tr><td>micro_precision</td><td>▁</td></tr><tr><td>micro_recall</td><td>▁</td></tr><tr><td>roc_auc</td><td>▁</td></tr><tr><td>weighted_f1</td><td>▁</td></tr><tr><td>weighted_precision</td><td>▁</td></tr><tr><td>weighted_recall</td><td>▁</td></tr></table><br/></div><div class=\"wandb-col\"><h3>Run summary:</h3><br/><table class=\"wandb\"><tr><td>micro_f1</td><td>0.5372</td></tr><tr><td>micro_precision</td><td>0.5773</td></tr><tr><td>micro_recall</td><td>0.5024</td></tr><tr><td>roc_auc</td><td>0.595</td></tr><tr><td>weighted_f1</td><td>0.435</td></tr><tr><td>weighted_precision</td><td>0.5997</td></tr><tr><td>weighted_recall</td><td>0.5024</td></tr></table><br/></div></div>"
      ],
      "text/plain": [
       "<IPython.core.display.HTML object>"
      ]
     },
     "metadata": {},
     "output_type": "display_data"
    },
    {
     "data": {
      "text/html": [
       "Synced <strong style=\"color:#cdcd00\">zany-sweep-16</strong>: <a href=\"https://wandb.ai/npsdaor/rf_param_opt/runs/lssc0jur\" target=\"_blank\">https://wandb.ai/npsdaor/rf_param_opt/runs/lssc0jur</a><br/>Synced 4 W&B file(s), 0 media file(s), 0 artifact file(s) and 0 other file(s)"
      ],
      "text/plain": [
       "<IPython.core.display.HTML object>"
      ]
     },
     "metadata": {},
     "output_type": "display_data"
    },
    {
     "data": {
      "text/html": [
       "Find logs at: <code>./wandb/run-20221120_011601-lssc0jur/logs</code>"
      ],
      "text/plain": [
       "<IPython.core.display.HTML object>"
      ]
     },
     "metadata": {},
     "output_type": "display_data"
    },
    {
     "name": "stderr",
     "output_type": "stream",
     "text": [
      "\u001b[34m\u001b[1mwandb\u001b[0m: Agent Starting Run: qu0y4zg0 with config:\n",
      "\u001b[34m\u001b[1mwandb\u001b[0m: \tcriterion: entropy\n",
      "\u001b[34m\u001b[1mwandb\u001b[0m: \tmin_samples_leaf: 50\n",
      "\u001b[34m\u001b[1mwandb\u001b[0m: \tmin_samples_split: 1000\n",
      "\u001b[34m\u001b[1mwandb\u001b[0m: \tn_estimators: 50\n"
     ]
    },
    {
     "data": {
      "text/html": [
       "wandb version 0.13.5 is available!  To upgrade, please run:\n",
       " $ pip install wandb --upgrade"
      ],
      "text/plain": [
       "<IPython.core.display.HTML object>"
      ]
     },
     "metadata": {},
     "output_type": "display_data"
    },
    {
     "data": {
      "text/html": [
       "Tracking run with wandb version 0.13.4"
      ],
      "text/plain": [
       "<IPython.core.display.HTML object>"
      ]
     },
     "metadata": {},
     "output_type": "display_data"
    },
    {
     "data": {
      "text/html": [
       "Run data is saved locally in <code>/home/mmendieta/violence_prediction/Scripts/wandb/run-20221120_013928-qu0y4zg0</code>"
      ],
      "text/plain": [
       "<IPython.core.display.HTML object>"
      ]
     },
     "metadata": {},
     "output_type": "display_data"
    },
    {
     "data": {
      "text/html": [
       "Syncing run <strong><a href=\"https://wandb.ai/npsdaor/rf_param_opt/runs/qu0y4zg0\" target=\"_blank\">comic-sweep-17</a></strong> to <a href=\"https://wandb.ai/npsdaor/rf_param_opt\" target=\"_blank\">Weights & Biases</a> (<a href=\"https://wandb.me/run\" target=\"_blank\">docs</a>)<br/>Sweep page:  <a href=\"https://wandb.ai/npsdaor/rf_param_opt/sweeps/e9ww50tw\" target=\"_blank\">https://wandb.ai/npsdaor/rf_param_opt/sweeps/e9ww50tw</a>"
      ],
      "text/plain": [
       "<IPython.core.display.HTML object>"
      ]
     },
     "metadata": {},
     "output_type": "display_data"
    },
    {
     "data": {
      "text/html": [
       "Waiting for W&B process to finish... <strong style=\"color:green\">(success).</strong>"
      ],
      "text/plain": [
       "<IPython.core.display.HTML object>"
      ]
     },
     "metadata": {},
     "output_type": "display_data"
    },
    {
     "data": {
      "text/html": [
       "<style>\n",
       "    table.wandb td:nth-child(1) { padding: 0 10px; text-align: left ; width: auto;} td:nth-child(2) {text-align: left ; width: 100%}\n",
       "    .wandb-row { display: flex; flex-direction: row; flex-wrap: wrap; justify-content: flex-start; width: 100% }\n",
       "    .wandb-col { display: flex; flex-direction: column; flex-basis: 100%; flex: 1; padding: 10px; }\n",
       "    </style>\n",
       "<div class=\"wandb-row\"><div class=\"wandb-col\"><h3>Run history:</h3><br/><table class=\"wandb\"><tr><td>micro_f1</td><td>▁</td></tr><tr><td>micro_precision</td><td>▁</td></tr><tr><td>micro_recall</td><td>▁</td></tr><tr><td>roc_auc</td><td>▁</td></tr><tr><td>weighted_f1</td><td>▁</td></tr><tr><td>weighted_precision</td><td>▁</td></tr><tr><td>weighted_recall</td><td>▁</td></tr></table><br/></div><div class=\"wandb-col\"><h3>Run summary:</h3><br/><table class=\"wandb\"><tr><td>micro_f1</td><td>0.538</td></tr><tr><td>micro_precision</td><td>0.5761</td></tr><tr><td>micro_recall</td><td>0.5047</td></tr><tr><td>roc_auc</td><td>0.5947</td></tr><tr><td>weighted_f1</td><td>0.437</td></tr><tr><td>weighted_precision</td><td>0.5978</td></tr><tr><td>weighted_recall</td><td>0.5047</td></tr></table><br/></div></div>"
      ],
      "text/plain": [
       "<IPython.core.display.HTML object>"
      ]
     },
     "metadata": {},
     "output_type": "display_data"
    },
    {
     "data": {
      "text/html": [
       "Synced <strong style=\"color:#cdcd00\">comic-sweep-17</strong>: <a href=\"https://wandb.ai/npsdaor/rf_param_opt/runs/qu0y4zg0\" target=\"_blank\">https://wandb.ai/npsdaor/rf_param_opt/runs/qu0y4zg0</a><br/>Synced 4 W&B file(s), 0 media file(s), 0 artifact file(s) and 0 other file(s)"
      ],
      "text/plain": [
       "<IPython.core.display.HTML object>"
      ]
     },
     "metadata": {},
     "output_type": "display_data"
    },
    {
     "data": {
      "text/html": [
       "Find logs at: <code>./wandb/run-20221120_013928-qu0y4zg0/logs</code>"
      ],
      "text/plain": [
       "<IPython.core.display.HTML object>"
      ]
     },
     "metadata": {},
     "output_type": "display_data"
    },
    {
     "name": "stderr",
     "output_type": "stream",
     "text": [
      "\u001b[34m\u001b[1mwandb\u001b[0m: Agent Starting Run: gxvnahlf with config:\n",
      "\u001b[34m\u001b[1mwandb\u001b[0m: \tcriterion: gini\n",
      "\u001b[34m\u001b[1mwandb\u001b[0m: \tmin_samples_leaf: 10\n",
      "\u001b[34m\u001b[1mwandb\u001b[0m: \tmin_samples_split: 1000\n",
      "\u001b[34m\u001b[1mwandb\u001b[0m: \tn_estimators: 500\n"
     ]
    },
    {
     "data": {
      "text/html": [
       "wandb version 0.13.5 is available!  To upgrade, please run:\n",
       " $ pip install wandb --upgrade"
      ],
      "text/plain": [
       "<IPython.core.display.HTML object>"
      ]
     },
     "metadata": {},
     "output_type": "display_data"
    },
    {
     "data": {
      "text/html": [
       "Tracking run with wandb version 0.13.4"
      ],
      "text/plain": [
       "<IPython.core.display.HTML object>"
      ]
     },
     "metadata": {},
     "output_type": "display_data"
    },
    {
     "data": {
      "text/html": [
       "Run data is saved locally in <code>/home/mmendieta/violence_prediction/Scripts/wandb/run-20221120_014212-gxvnahlf</code>"
      ],
      "text/plain": [
       "<IPython.core.display.HTML object>"
      ]
     },
     "metadata": {},
     "output_type": "display_data"
    },
    {
     "data": {
      "text/html": [
       "Syncing run <strong><a href=\"https://wandb.ai/npsdaor/rf_param_opt/runs/gxvnahlf\" target=\"_blank\">denim-sweep-18</a></strong> to <a href=\"https://wandb.ai/npsdaor/rf_param_opt\" target=\"_blank\">Weights & Biases</a> (<a href=\"https://wandb.me/run\" target=\"_blank\">docs</a>)<br/>Sweep page:  <a href=\"https://wandb.ai/npsdaor/rf_param_opt/sweeps/e9ww50tw\" target=\"_blank\">https://wandb.ai/npsdaor/rf_param_opt/sweeps/e9ww50tw</a>"
      ],
      "text/plain": [
       "<IPython.core.display.HTML object>"
      ]
     },
     "metadata": {},
     "output_type": "display_data"
    },
    {
     "data": {
      "text/html": [
       "Waiting for W&B process to finish... <strong style=\"color:green\">(success).</strong>"
      ],
      "text/plain": [
       "<IPython.core.display.HTML object>"
      ]
     },
     "metadata": {},
     "output_type": "display_data"
    },
    {
     "data": {
      "text/html": [
       "<style>\n",
       "    table.wandb td:nth-child(1) { padding: 0 10px; text-align: left ; width: auto;} td:nth-child(2) {text-align: left ; width: 100%}\n",
       "    .wandb-row { display: flex; flex-direction: row; flex-wrap: wrap; justify-content: flex-start; width: 100% }\n",
       "    .wandb-col { display: flex; flex-direction: column; flex-basis: 100%; flex: 1; padding: 10px; }\n",
       "    </style>\n",
       "<div class=\"wandb-row\"><div class=\"wandb-col\"><h3>Run history:</h3><br/><table class=\"wandb\"><tr><td>micro_f1</td><td>▁</td></tr><tr><td>micro_precision</td><td>▁</td></tr><tr><td>micro_recall</td><td>▁</td></tr><tr><td>roc_auc</td><td>▁</td></tr><tr><td>weighted_f1</td><td>▁</td></tr><tr><td>weighted_precision</td><td>▁</td></tr><tr><td>weighted_recall</td><td>▁</td></tr></table><br/></div><div class=\"wandb-col\"><h3>Run summary:</h3><br/><table class=\"wandb\"><tr><td>micro_f1</td><td>0.5372</td></tr><tr><td>micro_precision</td><td>0.5773</td></tr><tr><td>micro_recall</td><td>0.5024</td></tr><tr><td>roc_auc</td><td>0.595</td></tr><tr><td>weighted_f1</td><td>0.435</td></tr><tr><td>weighted_precision</td><td>0.5997</td></tr><tr><td>weighted_recall</td><td>0.5024</td></tr></table><br/></div></div>"
      ],
      "text/plain": [
       "<IPython.core.display.HTML object>"
      ]
     },
     "metadata": {},
     "output_type": "display_data"
    },
    {
     "data": {
      "text/html": [
       "Synced <strong style=\"color:#cdcd00\">denim-sweep-18</strong>: <a href=\"https://wandb.ai/npsdaor/rf_param_opt/runs/gxvnahlf\" target=\"_blank\">https://wandb.ai/npsdaor/rf_param_opt/runs/gxvnahlf</a><br/>Synced 4 W&B file(s), 0 media file(s), 0 artifact file(s) and 0 other file(s)"
      ],
      "text/plain": [
       "<IPython.core.display.HTML object>"
      ]
     },
     "metadata": {},
     "output_type": "display_data"
    },
    {
     "data": {
      "text/html": [
       "Find logs at: <code>./wandb/run-20221120_014212-gxvnahlf/logs</code>"
      ],
      "text/plain": [
       "<IPython.core.display.HTML object>"
      ]
     },
     "metadata": {},
     "output_type": "display_data"
    },
    {
     "name": "stderr",
     "output_type": "stream",
     "text": [
      "\u001b[34m\u001b[1mwandb\u001b[0m: Agent Starting Run: mkc3kpzu with config:\n",
      "\u001b[34m\u001b[1mwandb\u001b[0m: \tcriterion: entropy\n",
      "\u001b[34m\u001b[1mwandb\u001b[0m: \tmin_samples_leaf: 10\n",
      "\u001b[34m\u001b[1mwandb\u001b[0m: \tmin_samples_split: 10\n",
      "\u001b[34m\u001b[1mwandb\u001b[0m: \tn_estimators: 50\n"
     ]
    },
    {
     "data": {
      "text/html": [
       "wandb version 0.13.5 is available!  To upgrade, please run:\n",
       " $ pip install wandb --upgrade"
      ],
      "text/plain": [
       "<IPython.core.display.HTML object>"
      ]
     },
     "metadata": {},
     "output_type": "display_data"
    },
    {
     "data": {
      "text/html": [
       "Tracking run with wandb version 0.13.4"
      ],
      "text/plain": [
       "<IPython.core.display.HTML object>"
      ]
     },
     "metadata": {},
     "output_type": "display_data"
    },
    {
     "data": {
      "text/html": [
       "Run data is saved locally in <code>/home/mmendieta/violence_prediction/Scripts/wandb/run-20221120_020559-mkc3kpzu</code>"
      ],
      "text/plain": [
       "<IPython.core.display.HTML object>"
      ]
     },
     "metadata": {},
     "output_type": "display_data"
    },
    {
     "data": {
      "text/html": [
       "Syncing run <strong><a href=\"https://wandb.ai/npsdaor/rf_param_opt/runs/mkc3kpzu\" target=\"_blank\">still-sweep-19</a></strong> to <a href=\"https://wandb.ai/npsdaor/rf_param_opt\" target=\"_blank\">Weights & Biases</a> (<a href=\"https://wandb.me/run\" target=\"_blank\">docs</a>)<br/>Sweep page:  <a href=\"https://wandb.ai/npsdaor/rf_param_opt/sweeps/e9ww50tw\" target=\"_blank\">https://wandb.ai/npsdaor/rf_param_opt/sweeps/e9ww50tw</a>"
      ],
      "text/plain": [
       "<IPython.core.display.HTML object>"
      ]
     },
     "metadata": {},
     "output_type": "display_data"
    },
    {
     "data": {
      "text/html": [
       "Waiting for W&B process to finish... <strong style=\"color:green\">(success).</strong>"
      ],
      "text/plain": [
       "<IPython.core.display.HTML object>"
      ]
     },
     "metadata": {},
     "output_type": "display_data"
    },
    {
     "data": {
      "application/vnd.jupyter.widget-view+json": {
       "model_id": "4c4cf6d309504c6d85edc5257f6b5679",
       "version_major": 2,
       "version_minor": 0
      },
      "text/plain": [
       "VBox(children=(Label(value='0.001 MB of 0.005 MB uploaded (0.000 MB deduped)\\r'), FloatProgress(value=0.148359…"
      ]
     },
     "metadata": {},
     "output_type": "display_data"
    },
    {
     "data": {
      "text/html": [
       "<style>\n",
       "    table.wandb td:nth-child(1) { padding: 0 10px; text-align: left ; width: auto;} td:nth-child(2) {text-align: left ; width: 100%}\n",
       "    .wandb-row { display: flex; flex-direction: row; flex-wrap: wrap; justify-content: flex-start; width: 100% }\n",
       "    .wandb-col { display: flex; flex-direction: column; flex-basis: 100%; flex: 1; padding: 10px; }\n",
       "    </style>\n",
       "<div class=\"wandb-row\"><div class=\"wandb-col\"><h3>Run history:</h3><br/><table class=\"wandb\"><tr><td>micro_f1</td><td>▁</td></tr><tr><td>micro_precision</td><td>▁</td></tr><tr><td>micro_recall</td><td>▁</td></tr><tr><td>roc_auc</td><td>▁</td></tr><tr><td>weighted_f1</td><td>▁</td></tr><tr><td>weighted_precision</td><td>▁</td></tr><tr><td>weighted_recall</td><td>▁</td></tr></table><br/></div><div class=\"wandb-col\"><h3>Run summary:</h3><br/><table class=\"wandb\"><tr><td>micro_f1</td><td>0.5537</td></tr><tr><td>micro_precision</td><td>0.5805</td></tr><tr><td>micro_recall</td><td>0.5293</td></tr><tr><td>roc_auc</td><td>0.6022</td></tr><tr><td>weighted_f1</td><td>0.488</td></tr><tr><td>weighted_precision</td><td>0.5897</td></tr><tr><td>weighted_recall</td><td>0.5293</td></tr></table><br/></div></div>"
      ],
      "text/plain": [
       "<IPython.core.display.HTML object>"
      ]
     },
     "metadata": {},
     "output_type": "display_data"
    },
    {
     "data": {
      "text/html": [
       "Synced <strong style=\"color:#cdcd00\">still-sweep-19</strong>: <a href=\"https://wandb.ai/npsdaor/rf_param_opt/runs/mkc3kpzu\" target=\"_blank\">https://wandb.ai/npsdaor/rf_param_opt/runs/mkc3kpzu</a><br/>Synced 4 W&B file(s), 0 media file(s), 0 artifact file(s) and 0 other file(s)"
      ],
      "text/plain": [
       "<IPython.core.display.HTML object>"
      ]
     },
     "metadata": {},
     "output_type": "display_data"
    },
    {
     "data": {
      "text/html": [
       "Find logs at: <code>./wandb/run-20221120_020559-mkc3kpzu/logs</code>"
      ],
      "text/plain": [
       "<IPython.core.display.HTML object>"
      ]
     },
     "metadata": {},
     "output_type": "display_data"
    },
    {
     "name": "stderr",
     "output_type": "stream",
     "text": [
      "\u001b[34m\u001b[1mwandb\u001b[0m: Agent Starting Run: x3agtxbf with config:\n",
      "\u001b[34m\u001b[1mwandb\u001b[0m: \tcriterion: gini\n",
      "\u001b[34m\u001b[1mwandb\u001b[0m: \tmin_samples_leaf: 50\n",
      "\u001b[34m\u001b[1mwandb\u001b[0m: \tmin_samples_split: 100\n",
      "\u001b[34m\u001b[1mwandb\u001b[0m: \tn_estimators: 50\n"
     ]
    },
    {
     "data": {
      "text/html": [
       "wandb version 0.13.5 is available!  To upgrade, please run:\n",
       " $ pip install wandb --upgrade"
      ],
      "text/plain": [
       "<IPython.core.display.HTML object>"
      ]
     },
     "metadata": {},
     "output_type": "display_data"
    },
    {
     "data": {
      "text/html": [
       "Tracking run with wandb version 0.13.4"
      ],
      "text/plain": [
       "<IPython.core.display.HTML object>"
      ]
     },
     "metadata": {},
     "output_type": "display_data"
    },
    {
     "data": {
      "text/html": [
       "Run data is saved locally in <code>/home/mmendieta/violence_prediction/Scripts/wandb/run-20221120_020908-x3agtxbf</code>"
      ],
      "text/plain": [
       "<IPython.core.display.HTML object>"
      ]
     },
     "metadata": {},
     "output_type": "display_data"
    },
    {
     "data": {
      "text/html": [
       "Syncing run <strong><a href=\"https://wandb.ai/npsdaor/rf_param_opt/runs/x3agtxbf\" target=\"_blank\">vague-sweep-20</a></strong> to <a href=\"https://wandb.ai/npsdaor/rf_param_opt\" target=\"_blank\">Weights & Biases</a> (<a href=\"https://wandb.me/run\" target=\"_blank\">docs</a>)<br/>Sweep page:  <a href=\"https://wandb.ai/npsdaor/rf_param_opt/sweeps/e9ww50tw\" target=\"_blank\">https://wandb.ai/npsdaor/rf_param_opt/sweeps/e9ww50tw</a>"
      ],
      "text/plain": [
       "<IPython.core.display.HTML object>"
      ]
     },
     "metadata": {},
     "output_type": "display_data"
    },
    {
     "data": {
      "text/html": [
       "Waiting for W&B process to finish... <strong style=\"color:green\">(success).</strong>"
      ],
      "text/plain": [
       "<IPython.core.display.HTML object>"
      ]
     },
     "metadata": {},
     "output_type": "display_data"
    },
    {
     "data": {
      "application/vnd.jupyter.widget-view+json": {
       "model_id": "2edfd32b440f42178e281c6abc39e153",
       "version_major": 2,
       "version_minor": 0
      },
      "text/plain": [
       "VBox(children=(Label(value='0.001 MB of 0.005 MB uploaded (0.000 MB deduped)\\r'), FloatProgress(value=0.148475…"
      ]
     },
     "metadata": {},
     "output_type": "display_data"
    },
    {
     "data": {
      "text/html": [
       "<style>\n",
       "    table.wandb td:nth-child(1) { padding: 0 10px; text-align: left ; width: auto;} td:nth-child(2) {text-align: left ; width: 100%}\n",
       "    .wandb-row { display: flex; flex-direction: row; flex-wrap: wrap; justify-content: flex-start; width: 100% }\n",
       "    .wandb-col { display: flex; flex-direction: column; flex-basis: 100%; flex: 1; padding: 10px; }\n",
       "    </style>\n",
       "<div class=\"wandb-row\"><div class=\"wandb-col\"><h3>Run history:</h3><br/><table class=\"wandb\"><tr><td>micro_f1</td><td>▁</td></tr><tr><td>micro_precision</td><td>▁</td></tr><tr><td>micro_recall</td><td>▁</td></tr><tr><td>roc_auc</td><td>▁</td></tr><tr><td>weighted_f1</td><td>▁</td></tr><tr><td>weighted_precision</td><td>▁</td></tr><tr><td>weighted_recall</td><td>▁</td></tr></table><br/></div><div class=\"wandb-col\"><h3>Run summary:</h3><br/><table class=\"wandb\"><tr><td>micro_f1</td><td>0.5505</td></tr><tr><td>micro_precision</td><td>0.579</td></tr><tr><td>micro_recall</td><td>0.5246</td></tr><tr><td>roc_auc</td><td>0.6003</td></tr><tr><td>weighted_f1</td><td>0.4647</td></tr><tr><td>weighted_precision</td><td>0.5966</td></tr><tr><td>weighted_recall</td><td>0.5246</td></tr></table><br/></div></div>"
      ],
      "text/plain": [
       "<IPython.core.display.HTML object>"
      ]
     },
     "metadata": {},
     "output_type": "display_data"
    },
    {
     "data": {
      "text/html": [
       "Synced <strong style=\"color:#cdcd00\">vague-sweep-20</strong>: <a href=\"https://wandb.ai/npsdaor/rf_param_opt/runs/x3agtxbf\" target=\"_blank\">https://wandb.ai/npsdaor/rf_param_opt/runs/x3agtxbf</a><br/>Synced 4 W&B file(s), 0 media file(s), 0 artifact file(s) and 0 other file(s)"
      ],
      "text/plain": [
       "<IPython.core.display.HTML object>"
      ]
     },
     "metadata": {},
     "output_type": "display_data"
    },
    {
     "data": {
      "text/html": [
       "Find logs at: <code>./wandb/run-20221120_020908-x3agtxbf/logs</code>"
      ],
      "text/plain": [
       "<IPython.core.display.HTML object>"
      ]
     },
     "metadata": {},
     "output_type": "display_data"
    }
   ],
   "source": [
    "wandb.agent(sweep_id, function=train, count=args.count)"
   ]
  },
  {
   "cell_type": "code",
   "execution_count": null,
   "id": "21744024",
   "metadata": {},
   "outputs": [],
   "source": []
  }
 ],
 "metadata": {
  "kernelspec": {
   "display_name": "Python 3 (ipykernel)",
   "language": "python",
   "name": "python3"
  },
  "language_info": {
   "codemirror_mode": {
    "name": "ipython",
    "version": 3
   },
   "file_extension": ".py",
   "mimetype": "text/x-python",
   "name": "python",
   "nbconvert_exporter": "python",
   "pygments_lexer": "ipython3",
   "version": "3.8.3"
  }
 },
 "nbformat": 4,
 "nbformat_minor": 5
}
