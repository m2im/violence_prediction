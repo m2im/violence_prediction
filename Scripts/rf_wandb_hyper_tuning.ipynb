{
 "cells": [
  {
   "cell_type": "code",
   "execution_count": null,
   "id": "c4337aad",
   "metadata": {},
   "outputs": [],
   "source": [
    "import torch\n",
    "import pandas as pd\n",
    "import matplotlib.pyplot as plt\n",
    "import numpy as np\n",
    "import wandb\n",
    "from datasets import load_from_disk\n",
    "from sklearn.preprocessing import StandardScaler\n",
    "from sklearn.ensemble import RandomForestClassifier\n",
    "from sklearn.multiclass import OneVsRestClassifier\n",
    "from sklearn.metrics import accuracy_score, precision_score, recall_score, f1_score\n",
    "from sklearn.metrics import roc_auc_score, confusion_matrix, multilabel_confusion_matrix, ConfusionMatrixDisplay\n",
    "from sklearn.metrics import classification_report, plot_roc_curve\n",
    "from argparse import Namespace"
   ]
  },
  {
   "cell_type": "code",
   "execution_count": null,
   "id": "42b85bdd",
   "metadata": {},
   "outputs": [],
   "source": [
    "config = {\n",
    "    \"train_subset\": 1500000,\n",
    "    \"valid_subset\": 400000,\n",
    "    \"test_subset\" : 200000,\n",
    "    \"seed\": 42,\n",
    "    \"wandb_project_name\": \"rf_param_opt\",\n",
    "    \"count\": 20   # Number of runs for the Sweep\n",
    "}\n",
    "\n",
    "args = Namespace(**config)"
   ]
  },
  {
   "cell_type": "markdown",
   "id": "b7d31d33",
   "metadata": {},
   "source": [
    "### Define the Sweep config"
   ]
  },
  {
   "cell_type": "code",
   "execution_count": null,
   "id": "255824f5",
   "metadata": {},
   "outputs": [],
   "source": [
    "sweep_config = {\n",
    "    'method' : 'random',\n",
    "    'metric': {\n",
    "        'name': 'roc_auc',\n",
    "        'goal': 'maximize'\n",
    "    },\n",
    "    'parameters': {\n",
    "        'criterion': {'values': ['gini', 'entropy']},\n",
    "        'n_estimators': {'values': [50, 500, 1000]},\n",
    "        'min_samples_split': {'values': [10, 100, 1000]},\n",
    "        'min_samples_leaf': {'values': [10, 50, 100]},\n",
    "    }\n",
    "}"
   ]
  },
  {
   "cell_type": "markdown",
   "id": "e10a3156",
   "metadata": {},
   "source": [
    "### Log in to Weight and Biases"
   ]
  },
  {
   "cell_type": "code",
   "execution_count": null,
   "id": "c1e3cbd0",
   "metadata": {},
   "outputs": [],
   "source": [
    "wandb.login()"
   ]
  },
  {
   "cell_type": "markdown",
   "id": "cefa278b",
   "metadata": {},
   "source": [
    "### Read the dataset"
   ]
  },
  {
   "cell_type": "code",
   "execution_count": null,
   "id": "bf15e887",
   "metadata": {},
   "outputs": [],
   "source": [
    "violence_hidden = load_from_disk(\"../../Violence_data/geo_corpus.0.0.1_datasets_hidden_xlmt\")"
   ]
  },
  {
   "cell_type": "code",
   "execution_count": null,
   "id": "69175467",
   "metadata": {},
   "outputs": [],
   "source": [
    "violence_hidden"
   ]
  },
  {
   "cell_type": "code",
   "execution_count": null,
   "id": "33056177",
   "metadata": {},
   "outputs": [],
   "source": [
    "# Remove unncesary columns\n",
    "keep_cols = ['hidden_state', 'labels']\n",
    "remove_columns = [col for col in violence_hidden['train'].column_names if col not in keep_cols]"
   ]
  },
  {
   "cell_type": "code",
   "execution_count": null,
   "id": "955e02b8",
   "metadata": {},
   "outputs": [],
   "source": [
    "violence_hidden = violence_hidden.remove_columns(remove_columns)"
   ]
  },
  {
   "cell_type": "code",
   "execution_count": null,
   "id": "2d529a58",
   "metadata": {},
   "outputs": [],
   "source": [
    "violence_hidden"
   ]
  },
  {
   "cell_type": "code",
   "execution_count": null,
   "id": "a918a463",
   "metadata": {},
   "outputs": [],
   "source": [
    "# Extract a subset of the dataset\n",
    "train_clf_ds = violence_hidden[\"train\"].shuffle(args.seed).select(range(args.train_subset))\n",
    "validation_clf_ds = violence_hidden[\"validation\"].shuffle(args.seed).select(range(args.valid_subset))\n",
    "test_clf_ds = violence_hidden[\"test\"].shuffle(args.seed).select(range(args.test_subset))"
   ]
  },
  {
   "cell_type": "code",
   "execution_count": null,
   "id": "3fb48da8",
   "metadata": {},
   "outputs": [],
   "source": [
    "train_clf_ds[0]"
   ]
  },
  {
   "cell_type": "markdown",
   "id": "646db38b",
   "metadata": {},
   "source": [
    "### Create a feature matrix"
   ]
  },
  {
   "cell_type": "code",
   "execution_count": null,
   "id": "983ac8e3",
   "metadata": {},
   "outputs": [],
   "source": [
    "%time X_train = np.array(train_clf_ds[\"hidden_state\"])\n",
    "y_train = np.array(train_clf_ds[\"labels\"])\n",
    "X_validation = np.array(validation_clf_ds[\"hidden_state\"])\n",
    "y_validation = np.array(validation_clf_ds[\"labels\"])\n",
    "X_test = np.array(test_clf_ds[\"hidden_state\"])\n",
    "y_test = np.array(test_clf_ds[\"labels\"])\n",
    "X_train.shape"
   ]
  },
  {
   "cell_type": "markdown",
   "id": "bf706a08",
   "metadata": {},
   "source": [
    "## Helper Functions"
   ]
  },
  {
   "cell_type": "code",
   "execution_count": null,
   "id": "712471cc",
   "metadata": {},
   "outputs": [],
   "source": [
    "# Create a function to report the various metrics for each classifier\n",
    "def metricsReport(test_labels, predictions):\n",
    "    \n",
    "    roc_auc = roc_auc_score(test_labels, predictions, average = \"micro\")\n",
    "\n",
    "    weighted_precision = precision_score(test_labels, predictions, average='weighted')\n",
    "    weighted_recall = recall_score(test_labels, predictions, average='weighted')\n",
    "    weighted_f1 = f1_score(test_labels, predictions, average='weighted')\n",
    "\n",
    "    micro_precision = precision_score(test_labels, predictions, average='micro')\n",
    "    micro_recall = recall_score(test_labels, predictions, average='micro')\n",
    "    micro_f1 = f1_score(test_labels, predictions, average='micro')\n",
    "    \n",
    "    \n",
    "    return {\"roc_auc\": format(roc_auc, '.4f'), \"weighted_precision\": format(weighted_precision, '.4f'),\n",
    "                                    \"weighted_recall\": format(weighted_recall, '.4f'), \"weighted_f1\": format(weighted_f1, '.4f'), \"micro_precision\": format(micro_precision, '.4f'),\n",
    "                                    \"micro_recall\": format(micro_recall, '.4f'), \"micro_f1\": format(micro_f1, '.4f')}"
   ]
  },
  {
   "cell_type": "code",
   "execution_count": null,
   "id": "c4e13115",
   "metadata": {},
   "outputs": [],
   "source": [
    "def plot_confusion_matrix(y_test, y_pred, clf:str):\n",
    "    f, axes = plt.subplots(2, 3, figsize=(25, 15))\n",
    "    f.suptitle(clf, fontsize=36)\n",
    "    axes = axes.ravel()\n",
    "    for i in range(6):\n",
    "        labels=['post7geo10', 'post7geo30', 'post7geo50','pre7geo10','pre7geo30', 'pre7geo50']\n",
    "        disp = ConfusionMatrixDisplay(confusion_matrix(y_test[:, i],\n",
    "                                                       y_pred[:, i]),\n",
    "                                      display_labels=[0, i])\n",
    "        disp.plot(ax=axes[i], values_format='.4g')\n",
    "        disp.ax_.set_title(labels[i])\n",
    "        if i<10:\n",
    "            disp.ax_.set_xlabel('')\n",
    "        if i%5!=0:\n",
    "            disp.ax_.set_ylabel('')\n",
    "        disp.im_.colorbar.remove()\n",
    "\n",
    "    plt.subplots_adjust(wspace=0.10, hspace=0.1)\n",
    "    f.colorbar(disp.im_, ax=axes)\n",
    "    plt.show()"
   ]
  },
  {
   "cell_type": "markdown",
   "id": "50e80d68",
   "metadata": {},
   "source": [
    "# Random Forest Classifier"
   ]
  },
  {
   "cell_type": "code",
   "execution_count": null,
   "id": "b5748c20",
   "metadata": {},
   "outputs": [],
   "source": [
    "def train():\n",
    "    with wandb.init():\n",
    "        config = wandb.config\n",
    "        rfClassifier = RandomForestClassifier(\n",
    "            n_jobs=-1, \n",
    "            random_state=args.seed,\n",
    "            n_estimators = config.n_estimators,\n",
    "            min_samples_split = config.min_samples_split,\n",
    "            min_samples_leaf = config.min_samples_leaf)\n",
    "        rfClassifier.fit(X_train, y_train)\n",
    "        rfPreds = rfClassifier.predict(X_test)\n",
    "        scores = metricsReport(y_test, rfPreds)\n",
    "        roc_auc = float(scores[\"roc_auc\"])\n",
    "        prec_w = float(scores[\"weighted_precision\"])\n",
    "        recall_w = float(scores[\"weighted_recall\"])\n",
    "        f1_w = float(scores[\"weighted_f1\"])\n",
    "        prec_micro = float(scores[\"micro_precision\"])\n",
    "        recall_micro = float(scores[\"micro_recall\"])\n",
    "        f1_micro = float(scores[\"micro_f1\"])\n",
    "    \n",
    "        wandb.log({'roc_auc': roc_auc,\n",
    "              'weighted_precision': prec_w,\n",
    "              'weighted_recall': recall_w,\n",
    "              'weighted_f1': f1_w,\n",
    "              'micro_precision': prec_micro,\n",
    "              'micro_recall': recall_micro,\n",
    "              'micro_f1': f1_micro})"
   ]
  },
  {
   "cell_type": "markdown",
   "id": "97ffa303",
   "metadata": {},
   "source": [
    "### Initialize the Sweep"
   ]
  },
  {
   "cell_type": "code",
   "execution_count": null,
   "id": "17df6966",
   "metadata": {},
   "outputs": [],
   "source": [
    "sweep_id = wandb.sweep(sweep=sweep_config, project=args.wandb_project_name)"
   ]
  },
  {
   "cell_type": "markdown",
   "id": "be68f706",
   "metadata": {},
   "source": [
    "### Start the Sweep agent"
   ]
  },
  {
   "cell_type": "code",
   "execution_count": null,
   "id": "7c485fe6",
   "metadata": {},
   "outputs": [],
   "source": [
    "wandb.agent(sweep_id, function=train, count=args.count)"
   ]
  },
  {
   "cell_type": "code",
   "execution_count": null,
   "id": "21744024",
   "metadata": {},
   "outputs": [],
   "source": []
  }
 ],
 "metadata": {
  "kernelspec": {
   "display_name": "Python 3 (ipykernel)",
   "language": "python",
   "name": "python3"
  },
  "language_info": {
   "codemirror_mode": {
    "name": "ipython",
    "version": 3
   },
   "file_extension": ".py",
   "mimetype": "text/x-python",
   "name": "python",
   "nbconvert_exporter": "python",
   "pygments_lexer": "ipython3",
   "version": "3.8.3"
  }
 },
 "nbformat": 4,
 "nbformat_minor": 5
}
