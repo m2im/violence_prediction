{
 "cells": [
  {
   "cell_type": "code",
   "execution_count": 1,
   "id": "cb7fe031-2f51-40e3-a8a8-ed1b94ce4f00",
   "metadata": {},
   "outputs": [],
   "source": [
    "import pandas as pd\n",
    "\n",
    "from geopy.geocoders import Nominatim\n",
    "from joblib import Parallel, delayed\n",
    "from tqdm import tqdm\n",
    "from argparse import Namespace"
   ]
  },
  {
   "cell_type": "code",
   "execution_count": 2,
   "id": "d324e72c-7cc9-48ce-b5ca-e30d6a5d2d94",
   "metadata": {},
   "outputs": [],
   "source": [
    "config = {\n",
    "    # \"fin\": \"../data/csv_performance_all_models/xlmt_inference_test_set.csv\",\n",
    "    \"fin\": \"../data3/mmendieta/Violence_data/csv_files_global_scale/xlmt_inference_test_set.csv\",\n",
    "    # \"fout\": \"../data/csv_performance_all_models/xlmt_inference_test_set_with_country.csv\"\n",
    "    \"fout\": \"../data3/mmendieta/Violence_data/csv_files_global_scale/xlmt_inference_test_set.csv\"\n",
    "}\n",
    "\n",
    "args = Namespace(**config)"
   ]
  },
  {
   "cell_type": "code",
   "execution_count": 3,
   "id": "b9bece01-4c2f-4d32-9f8f-9f42fa42d6c8",
   "metadata": {},
   "outputs": [],
   "source": [
    "# read the file\n",
    "df = pd.read_csv(args.fin, engine='python', on_bad_lines='skip', encoding='utf-8')"
   ]
  },
  {
   "cell_type": "code",
   "execution_count": null,
   "id": "89804791-b0e4-413b-af9d-36ed111224bc",
   "metadata": {},
   "outputs": [],
   "source": [
    "df[1:3]"
   ]
  },
  {
   "cell_type": "code",
   "execution_count": 4,
   "id": "4ccd08cd-54ce-48e7-9740-3ec103d95ef8",
   "metadata": {},
   "outputs": [],
   "source": [
    "# Cache for storing results\n",
    "cache = {}\n",
    "\n",
    "# Function to get country from coordinates with caching\n",
    "def get_country_cached(geo_x, geo_y):\n",
    "    # Instantiate geolocator inside the function to avoid pickling issues\n",
    "    geolocator = Nominatim(user_agent=\"geo_locator\")\n",
    "    key = (geo_y, geo_x)  # Use latitude and longitude as key\n",
    "    \n",
    "    if key in cache:\n",
    "        return cache[key]  # Return cached result if available\n",
    "    else:\n",
    "        try:\n",
    "            # Reverse geocode to get the country\n",
    "            location = geolocator.reverse(key, language='en')\n",
    "            if location and 'country' in location.raw['address']:\n",
    "                country = location.raw['address']['country']\n",
    "            else:\n",
    "                country = \"Unknown\"\n",
    "        except Exception as e:\n",
    "            country = \"Unknown\"\n",
    "        # Store result in cache\n",
    "        cache[key] = country\n",
    "        return country"
   ]
  },
  {
   "cell_type": "code",
   "execution_count": null,
   "id": "aa1cd0a7-d126-4aa5-9a74-9f944140b846",
   "metadata": {},
   "outputs": [],
   "source": [
    "# This code takes approximately 40-50 mins to complete (for 10,000 samples)\n",
    "# Enable progress bar for parallel processing\n",
    "tqdm.pandas()\n",
    "\n",
    "# Apply the function in parallel to infer country\n",
    "df['country'] = Parallel(n_jobs=-1)(\n",
    "    delayed(get_country_cached)(row['geo_x'], row['geo_y']) for _, row in tqdm(df.iterrows(), total=len(df))\n",
    ")"
   ]
  },
  {
   "cell_type": "code",
   "execution_count": null,
   "id": "48e7c82c-db4f-4be7-98b8-462c2f70dcb6",
   "metadata": {},
   "outputs": [],
   "source": [
    "# Count the occurrences of each country\n",
    "country_counts = df['country'].value_counts()\n",
    "\n",
    "# Display the counts\n",
    "print(\"Country Counts:\")\n",
    "print(country_counts)"
   ]
  },
  {
   "cell_type": "code",
   "execution_count": null,
   "id": "807f3023-0e2a-4bc1-bb56-50ff56f0c61f",
   "metadata": {},
   "outputs": [],
   "source": [
    "# Filter rows where the country is \"Unknown\"\n",
    "unknown_locations = df[df['country'] == \"Unknown\"]\n",
    "\n",
    "# Display the filtered DataFrame\n",
    "print(f\"Number of observations with 'Unknown' country: {len(unknown_locations)}\")\n",
    "print(unknown_locations.head())\n",
    "\n",
    "# Optionally, save the filtered observations to a CSV file\n",
    "unknown_locations.to_csv(\"unknown_locations.csv\", index=False)\n",
    "print(\"Observations with 'Unknown' country saved to 'unknown_locations.csv'\")"
   ]
  },
  {
   "cell_type": "code",
   "execution_count": null,
   "id": "6b010ce6-feaa-47d3-9ec0-6b57522eb4bd",
   "metadata": {},
   "outputs": [],
   "source": [
    "# Calculate min and max for geo_x and geo_y\n",
    "geo_x_min, geo_x_max = df['geo_x'].min(), df['geo_x'].max()\n",
    "geo_y_min, geo_y_max = df['geo_y'].min(), df['geo_y'].max()\n",
    "\n",
    "# Print results\n",
    "print(f\"geo_x: min={geo_x_min}, max={geo_x_max}\")\n",
    "print(f\"geo_y: min={geo_y_min}, max={geo_y_max}\")"
   ]
  },
  {
   "cell_type": "code",
   "execution_count": null,
   "id": "16883cde-47ea-455d-b6de-e25eb64e3de5",
   "metadata": {},
   "outputs": [],
   "source": [
    "# Save the updated DataFrame to a CSV \n",
    "df.to_csv(args.fout, index=False)"
   ]
  }
 ],
 "metadata": {
  "kernelspec": {
   "display_name": "Python 3 (ipykernel)",
   "language": "python",
   "name": "python3"
  },
  "language_info": {
   "codemirror_mode": {
    "name": "ipython",
    "version": 3
   },
   "file_extension": ".py",
   "mimetype": "text/x-python",
   "name": "python",
   "nbconvert_exporter": "python",
   "pygments_lexer": "ipython3",
   "version": "3.8.3"
  }
 },
 "nbformat": 4,
 "nbformat_minor": 5
}
