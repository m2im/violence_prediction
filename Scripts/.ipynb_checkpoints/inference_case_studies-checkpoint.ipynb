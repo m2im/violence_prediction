{
 "cells": [
  {
   "cell_type": "code",
   "execution_count": 1,
   "id": "d3956fe6",
   "metadata": {},
   "outputs": [],
   "source": [
    "import zipfile\n",
    "import re\n",
    "import html\n",
    "from datasets import load_dataset\n",
    "from argparse import Namespace"
   ]
  },
  {
   "cell_type": "code",
   "execution_count": 2,
   "id": "d2221dc4",
   "metadata": {},
   "outputs": [],
   "source": [
    "# Options for 'dataset_name'\n",
    "# \"/data3/mmendieta/Violence_data/case_studies/Russia_Ukraine_combined_with_labels.csv\"\n",
    "# \"/data3/mmendieta/Violence_data/case_studies/Israel_Oct7_23_combined_with_labels.csv\"\n",
    "# \"/data3/mmendieta/Violence_data/case_studies/Trump_Capitol_Hill_combined_with_labels.csv\"\n",
    "\n",
    "config = {\n",
    "    \"cuda_device\": 15,\n",
    "    \"path_to_model_on_disk\": \"/data3/mmendieta/models/xlmt_finetuned_twitter/\", \n",
    "    \"model_ckpt\": \"m2im/XLM-T_finetuned_violence_twitter\",\n",
    "    \"max_length\": 32,\n",
    "    \"dataset_name\": \"/data3/mmendieta/Violence_data/case_studies/Russia_Ukraine_combined_with_labels.csv\",\n",
    "    \"batch_size\": 1\n",
    "}\n",
    "\n",
    "args = Namespace(**config)"
   ]
  },
  {
   "cell_type": "code",
   "execution_count": 7,
   "id": "ff3749d9",
   "metadata": {},
   "outputs": [
    {
     "name": "stderr",
     "output_type": "stream",
     "text": [
      "Using custom data configuration default-b5a71faa7ad35e3f\n",
      "Found cached dataset csv (/home/mmendieta/.cache/huggingface/datasets/csv/default-b5a71faa7ad35e3f/0.0.0/6b34fb8fcf56f7c8ba51dc895bfa2bfbe43546f190a60fcf74bb5e8afdcc2317)\n"
     ]
    },
    {
     "data": {
      "application/vnd.jupyter.widget-view+json": {
       "model_id": "5bde20904c184f97a80ad2c7cd4d1c4c",
       "version_major": 2,
       "version_minor": 0
      },
      "text/plain": [
       "  0%|          | 0/1 [00:00<?, ?it/s]"
      ]
     },
     "metadata": {},
     "output_type": "display_data"
    },
    {
     "name": "stdout",
     "output_type": "stream",
     "text": [
      "CPU times: user 43 ms, sys: 7.39 ms, total: 50.4 ms\n",
      "Wall time: 335 ms\n"
     ]
    }
   ],
   "source": [
    "# Load the dataset from disk (516ms)\n",
    "%time ds = load_dataset('csv', data_files= args.dataset_name, sep=\",\")"
   ]
  },
  {
   "cell_type": "code",
   "execution_count": 8,
   "id": "01fe9c60",
   "metadata": {},
   "outputs": [
    {
     "data": {
      "text/plain": [
       "DatasetDict({\n",
       "    train: Dataset({\n",
       "        features: ['ID', 'AuthorAlias', 'AuthorID', 'CreatedDate', 'Text', 'post7geo10', 'post7geo30', 'post7geo50', 'pre7geo10', 'pre7geo30', 'pre7geo50'],\n",
       "        num_rows: 1020\n",
       "    })\n",
       "})"
      ]
     },
     "execution_count": 8,
     "metadata": {},
     "output_type": "execute_result"
    }
   ],
   "source": [
    "ds"
   ]
  },
  {
   "cell_type": "code",
   "execution_count": 9,
   "id": "a4f71ef9",
   "metadata": {},
   "outputs": [],
   "source": [
    "# rename the column 'Text' to 'text'\n",
    "dataset = ds.rename_column('Text', 'text')"
   ]
  },
  {
   "cell_type": "code",
   "execution_count": 10,
   "id": "1ae4b1e5",
   "metadata": {},
   "outputs": [
    {
     "data": {
      "text/plain": [
       "DatasetDict({\n",
       "    train: Dataset({\n",
       "        features: ['ID', 'AuthorAlias', 'AuthorID', 'CreatedDate', 'text', 'post7geo10', 'post7geo30', 'post7geo50', 'pre7geo10', 'pre7geo30', 'pre7geo50'],\n",
       "        num_rows: 1020\n",
       "    })\n",
       "})"
      ]
     },
     "execution_count": 10,
     "metadata": {},
     "output_type": "execute_result"
    }
   ],
   "source": [
    "dataset"
   ]
  },
  {
   "cell_type": "markdown",
   "id": "9f3284b8",
   "metadata": {},
   "source": [
    "### Define a pre-processing function to use with datasets.map()"
   ]
  },
  {
   "cell_type": "code",
   "execution_count": 11,
   "id": "3a167ea5",
   "metadata": {},
   "outputs": [],
   "source": [
    "def clean_tweet(example):\n",
    "    tweet = example['text']\n",
    "    tweet = tweet.replace(\"\\n\",\" \") #cleaning newline “\\n” from the tweets\n",
    "    tweet = html.unescape(tweet) # decode html characters\n",
    "    tweet = re.sub(\"@[A-Za-z0-9_:]+\",\"\", tweet) # remove mentions\n",
    "    tweet = re.sub(r'http\\S+', '', tweet) # remove urls\n",
    "    tweet = re.sub('RT ', '', tweet) # remove mentions\n",
    "    return {'text': tweet.strip()} #strip white spaces"
   ]
  },
  {
   "cell_type": "code",
   "execution_count": 12,
   "id": "2a650258",
   "metadata": {},
   "outputs": [
    {
     "data": {
      "application/vnd.jupyter.widget-view+json": {
       "model_id": "7e4461e3d46b4c72aac9e72107127517",
       "version_major": 2,
       "version_minor": 0
      },
      "text/plain": [
       "  0%|          | 0/2 [00:00<?, ?ba/s]"
      ]
     },
     "metadata": {},
     "output_type": "display_data"
    },
    {
     "name": "stdout",
     "output_type": "stream",
     "text": [
      "CPU times: user 59.7 ms, sys: 3.56 ms, total: 63.3 ms\n",
      "Wall time: 59 ms\n"
     ]
    }
   ],
   "source": [
    "# Filter rows with blank tweets for pre-processing\n",
    "%time dataset = dataset.filter(lambda x: x[\"text\"] is not None)"
   ]
  },
  {
   "cell_type": "code",
   "execution_count": null,
   "id": "a69015a1",
   "metadata": {},
   "outputs": [],
   "source": []
  },
  {
   "cell_type": "code",
   "execution_count": null,
   "id": "caa93bc1",
   "metadata": {},
   "outputs": [],
   "source": []
  }
 ],
 "metadata": {
  "kernelspec": {
   "display_name": "Python 3 (ipykernel)",
   "language": "python",
   "name": "python3"
  },
  "language_info": {
   "codemirror_mode": {
    "name": "ipython",
    "version": 3
   },
   "file_extension": ".py",
   "mimetype": "text/x-python",
   "name": "python",
   "nbconvert_exporter": "python",
   "pygments_lexer": "ipython3",
   "version": "3.8.3"
  }
 },
 "nbformat": 4,
 "nbformat_minor": 5
}
