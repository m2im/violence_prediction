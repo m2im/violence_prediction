{
 "cells": [
  {
   "cell_type": "code",
   "execution_count": 1,
   "id": "9d89b670-f565-4457-aef8-3ca49e5813fa",
   "metadata": {},
   "outputs": [
    {
     "name": "stderr",
     "output_type": "stream",
     "text": [
      "2024-11-27 14:31:46.426785: I tensorflow/stream_executor/platform/default/dso_loader.cc:49] Successfully opened dynamic library libcudart.so.11.0\n"
     ]
    }
   ],
   "source": [
    "import torch\n",
    "import transformers\n",
    "import pandas as pd\n",
    "import warnings\n",
    "\n",
    "from transformers import pipeline\n",
    "from transformers import AutoTokenizer, AutoModelForSequenceClassification\n",
    "from transformers import DataCollatorWithPadding\n",
    "from transformers.pipelines.pt_utils import KeyDataset\n",
    "from datasets import load_from_disk\n",
    "from torch.utils.data import DataLoader\n",
    "from tqdm.auto import tqdm\n",
    "from argparse import Namespace"
   ]
  },
  {
   "cell_type": "code",
   "execution_count": 2,
   "id": "4e93d6fc-f5a8-4c57-abda-607f9af89687",
   "metadata": {},
   "outputs": [],
   "source": [
    "# Options for models in the hub\n",
    "# m2im/XLMT-T_finetuned_violence_twitter\n",
    "# m2im/smallLabse_finetuned_twitter\n",
    "# m2im/labse_finetuned_twitter\n",
    "\n",
    "# Options for path_to_model_on_disk\n",
    "# /home/mmendieta/labse_finetuned_twitter/\n",
    "# /data3/mmendieta/models/xlmt_finetuned_twitter\n",
    "# /data3/mmendieta/models/smallLabse_finetuned_twitter\n",
    "\n",
    "config = {\n",
    "    \"cuda_device\": 14,\n",
    "    \"path_to_model_on_disk\": \"/home/mmendieta/xlmt_finetuned_twitter/\", \n",
    "    \"model_ckpt\": \"m2im/XLM-T_finetuned_violence_twitter\",\n",
    "    \"max_length\": 32,\n",
    "    \"dataset_name\": \"/data3/mmendieta/Violence_data/geo_corpus.0.0.1_tok_ds_xlmt\"\n",
    "}\n",
    "\n",
    "args = Namespace(**config)"
   ]
  },
  {
   "cell_type": "markdown",
   "id": "55ea152c",
   "metadata": {},
   "source": [
    "# 1. Instantiate the required pipeline\n",
    "Choose of the three pipelines of interest. The XLM-T pipeline is the best performing model."
   ]
  },
  {
   "cell_type": "markdown",
   "id": "26145bf4",
   "metadata": {},
   "source": [
    "### LaBSE pipeline"
   ]
  },
  {
   "cell_type": "code",
   "execution_count": null,
   "id": "f8fafc2b-9979-402a-94a3-ff14109e7ec4",
   "metadata": {},
   "outputs": [],
   "source": [
    "violence_pipe = pipeline(\"text-classification\",\n",
    "                         model=\"m2im/labse_finetuned_twitter\", \n",
    "                         device=args.cuda_device,\n",
    "                         return_all_scores=True)"
   ]
  },
  {
   "cell_type": "markdown",
   "id": "62d76bf8",
   "metadata": {},
   "source": [
    "### small-LaBSE pipeline"
   ]
  },
  {
   "cell_type": "code",
   "execution_count": null,
   "id": "87d088c0",
   "metadata": {},
   "outputs": [],
   "source": [
    "violence_pipe = pipeline(model=\"m2im/smallLabse_finetuned_twitter\", \n",
    "                         device=args.cuda_device,\n",
    "                         return_all_scores=True)"
   ]
  },
  {
   "cell_type": "markdown",
   "id": "ea9a818c",
   "metadata": {},
   "source": [
    "### XLM-T pipeline"
   ]
  },
  {
   "cell_type": "code",
   "execution_count": 4,
   "id": "43311793",
   "metadata": {},
   "outputs": [
    {
     "data": {
      "application/vnd.jupyter.widget-view+json": {
       "model_id": "1011ca139a684730bef170949e98f619",
       "version_major": 2,
       "version_minor": 0
      },
      "text/plain": [
       "Downloading:   0%|          | 0.00/1.34k [00:00<?, ?B/s]"
      ]
     },
     "metadata": {},
     "output_type": "display_data"
    }
   ],
   "source": [
    "violence_pipe = pipeline(model=\"m2im/XLM-T_finetuned_violence_twitter\", \n",
    "                         device=args.cuda_device,\n",
    "                         return_all_scores=True)"
   ]
  },
  {
   "cell_type": "code",
   "execution_count": 5,
   "id": "d4414c00",
   "metadata": {},
   "outputs": [],
   "source": [
    "# test the pipeline. Use a short text just like you would do in a twitter. \n",
    "# Keep in mind that we are not doing any text preprocessing for this test case.\n",
    "text = \"today is a sunny day\"\n",
    "outputs = violence_pipe(text)"
   ]
  },
  {
   "cell_type": "code",
   "execution_count": 6,
   "id": "adb99b84",
   "metadata": {},
   "outputs": [
    {
     "data": {
      "text/html": [
       "<div>\n",
       "<style scoped>\n",
       "    .dataframe tbody tr th:only-of-type {\n",
       "        vertical-align: middle;\n",
       "    }\n",
       "\n",
       "    .dataframe tbody tr th {\n",
       "        vertical-align: top;\n",
       "    }\n",
       "\n",
       "    .dataframe thead th {\n",
       "        text-align: right;\n",
       "    }\n",
       "</style>\n",
       "<table border=\"1\" class=\"dataframe\">\n",
       "  <thead>\n",
       "    <tr style=\"text-align: right;\">\n",
       "      <th></th>\n",
       "      <th>label</th>\n",
       "      <th>score</th>\n",
       "    </tr>\n",
       "  </thead>\n",
       "  <tbody>\n",
       "    <tr>\n",
       "      <th>0</th>\n",
       "      <td>post7geo10</td>\n",
       "      <td>0.225355</td>\n",
       "    </tr>\n",
       "    <tr>\n",
       "      <th>1</th>\n",
       "      <td>post7geo30</td>\n",
       "      <td>0.298239</td>\n",
       "    </tr>\n",
       "    <tr>\n",
       "      <th>2</th>\n",
       "      <td>post7geo50</td>\n",
       "      <td>0.528795</td>\n",
       "    </tr>\n",
       "    <tr>\n",
       "      <th>3</th>\n",
       "      <td>pre7geo10</td>\n",
       "      <td>0.198816</td>\n",
       "    </tr>\n",
       "    <tr>\n",
       "      <th>4</th>\n",
       "      <td>pre7geo30</td>\n",
       "      <td>0.270994</td>\n",
       "    </tr>\n",
       "    <tr>\n",
       "      <th>5</th>\n",
       "      <td>pre7geo50</td>\n",
       "      <td>0.481664</td>\n",
       "    </tr>\n",
       "  </tbody>\n",
       "</table>\n",
       "</div>"
      ],
      "text/plain": [
       "        label     score\n",
       "0  post7geo10  0.225355\n",
       "1  post7geo30  0.298239\n",
       "2  post7geo50  0.528795\n",
       "3   pre7geo10  0.198816\n",
       "4   pre7geo30  0.270994\n",
       "5   pre7geo50  0.481664"
      ]
     },
     "execution_count": 6,
     "metadata": {},
     "output_type": "execute_result"
    }
   ],
   "source": [
    "pd.DataFrame(outputs[0])"
   ]
  },
  {
   "cell_type": "code",
   "execution_count": 7,
   "id": "d85c0748",
   "metadata": {},
   "outputs": [
    {
     "data": {
      "text/plain": [
       "[[{'label': 'post7geo10', 'score': 0.22535526752471924},\n",
       "  {'label': 'post7geo30', 'score': 0.2982390224933624},\n",
       "  {'label': 'post7geo50', 'score': 0.5287949442863464},\n",
       "  {'label': 'pre7geo10', 'score': 0.19881635904312134},\n",
       "  {'label': 'pre7geo30', 'score': 0.2709938883781433},\n",
       "  {'label': 'pre7geo50', 'score': 0.48166388273239136}]]"
      ]
     },
     "execution_count": 7,
     "metadata": {},
     "output_type": "execute_result"
    }
   ],
   "source": [
    "outputs"
   ]
  },
  {
   "cell_type": "markdown",
   "id": "b8c3e04d",
   "metadata": {},
   "source": [
    "# 2. Use the pipeline to make predictions with the violence dataset"
   ]
  },
  {
   "cell_type": "markdown",
   "id": "345dbf47",
   "metadata": {},
   "source": [
    "### Load the tokenized dataset to disk\n",
    "This is the tokenized dataset that includes the column *text*"
   ]
  },
  {
   "cell_type": "code",
   "execution_count": 8,
   "id": "d6b375c3",
   "metadata": {},
   "outputs": [],
   "source": [
    "ds_tok = load_from_disk(\"/data3/mmendieta/Violence_data/geo_corpus.0.0.1_tok_ds_xlmt_with_text\")"
   ]
  },
  {
   "cell_type": "code",
   "execution_count": 9,
   "id": "e6997ecf",
   "metadata": {},
   "outputs": [],
   "source": [
    "# Select a subsmample for testing purposes\n",
    "test_tokenized_ds_sample = ds_tok[\"test\"].shuffle().select(range(100))"
   ]
  },
  {
   "cell_type": "markdown",
   "id": "376ad133",
   "metadata": {},
   "source": [
    "### a. Single sample (pipeline)"
   ]
  },
  {
   "cell_type": "code",
   "execution_count": 10,
   "id": "9dbf2e7e",
   "metadata": {},
   "outputs": [
    {
     "data": {
      "text/plain": [
       "'Por mis últimas horas d este MARAVILLOSO 2013 en mi México Hermoso y Amado GRACIAS por TANTO mi 2da Patria #GRATITUD'"
      ]
     },
     "execution_count": 10,
     "metadata": {},
     "output_type": "execute_result"
    }
   ],
   "source": [
    "sample = test_tokenized_ds_sample[10]['text']\n",
    "sample"
   ]
  },
  {
   "cell_type": "code",
   "execution_count": 11,
   "id": "f9c8ee34",
   "metadata": {},
   "outputs": [
    {
     "name": "stderr",
     "output_type": "stream",
     "text": [
      "Token indices sequence length is longer than the specified maximum sequence length for this model (36 > 32). Running this sequence through the model will result in indexing errors\n"
     ]
    },
    {
     "data": {
      "text/html": [
       "<div>\n",
       "<style scoped>\n",
       "    .dataframe tbody tr th:only-of-type {\n",
       "        vertical-align: middle;\n",
       "    }\n",
       "\n",
       "    .dataframe tbody tr th {\n",
       "        vertical-align: top;\n",
       "    }\n",
       "\n",
       "    .dataframe thead th {\n",
       "        text-align: right;\n",
       "    }\n",
       "</style>\n",
       "<table border=\"1\" class=\"dataframe\">\n",
       "  <thead>\n",
       "    <tr style=\"text-align: right;\">\n",
       "      <th></th>\n",
       "      <th>label</th>\n",
       "      <th>score</th>\n",
       "    </tr>\n",
       "  </thead>\n",
       "  <tbody>\n",
       "    <tr>\n",
       "      <th>0</th>\n",
       "      <td>post7geo10</td>\n",
       "      <td>0.813419</td>\n",
       "    </tr>\n",
       "    <tr>\n",
       "      <th>1</th>\n",
       "      <td>post7geo30</td>\n",
       "      <td>0.906668</td>\n",
       "    </tr>\n",
       "    <tr>\n",
       "      <th>2</th>\n",
       "      <td>post7geo50</td>\n",
       "      <td>0.961734</td>\n",
       "    </tr>\n",
       "    <tr>\n",
       "      <th>3</th>\n",
       "      <td>pre7geo10</td>\n",
       "      <td>0.003347</td>\n",
       "    </tr>\n",
       "    <tr>\n",
       "      <th>4</th>\n",
       "      <td>pre7geo30</td>\n",
       "      <td>0.019694</td>\n",
       "    </tr>\n",
       "    <tr>\n",
       "      <th>5</th>\n",
       "      <td>pre7geo50</td>\n",
       "      <td>0.043607</td>\n",
       "    </tr>\n",
       "  </tbody>\n",
       "</table>\n",
       "</div>"
      ],
      "text/plain": [
       "        label     score\n",
       "0  post7geo10  0.813419\n",
       "1  post7geo30  0.906668\n",
       "2  post7geo50  0.961734\n",
       "3   pre7geo10  0.003347\n",
       "4   pre7geo30  0.019694\n",
       "5   pre7geo50  0.043607"
      ]
     },
     "execution_count": 11,
     "metadata": {},
     "output_type": "execute_result"
    }
   ],
   "source": [
    "outputs = violence_pipe(sample)\n",
    "pd.DataFrame(outputs[0])"
   ]
  },
  {
   "cell_type": "markdown",
   "id": "d4086d19",
   "metadata": {},
   "source": [
    "### b. Multiple samples pipeline - predictions only\n",
    "Make sure to select the apropriate batch size"
   ]
  },
  {
   "cell_type": "code",
   "execution_count": 12,
   "id": "3e73a5de",
   "metadata": {},
   "outputs": [
    {
     "data": {
      "application/vnd.jupyter.widget-view+json": {
       "model_id": "9a2289a7a0d84b458fa399ae307b443e",
       "version_major": 2,
       "version_minor": 0
      },
      "text/plain": [
       "  0%|          | 0/100 [00:00<?, ?it/s]"
      ]
     },
     "metadata": {},
     "output_type": "display_data"
    }
   ],
   "source": [
    "# Hide the large number of deprecation warnings\n",
    "warnings.filterwarnings(\"ignore\", category=DeprecationWarning)\n",
    "preds = []\n",
    "\n",
    "for i, outputs in enumerate(tqdm(violence_pipe(KeyDataset(test_tokenized_ds_sample, \"text\"), batch_size=8,\n",
    "                                              truncation=True),\n",
    "                                 total=len(test_tokenized_ds_sample))):\n",
    "    preds.append(outputs)\n",
    "                        "
   ]
  },
  {
   "cell_type": "code",
   "execution_count": 13,
   "id": "2823448a",
   "metadata": {},
   "outputs": [],
   "source": [
    "processed_data = []\n",
    "for pred in preds:\n",
    "    scores = {item['label']: item['score'] for item in pred}\n",
    "    processed_data.append(scores)"
   ]
  },
  {
   "cell_type": "code",
   "execution_count": 14,
   "id": "140ad059",
   "metadata": {},
   "outputs": [
    {
     "data": {
      "text/html": [
       "<div>\n",
       "<style scoped>\n",
       "    .dataframe tbody tr th:only-of-type {\n",
       "        vertical-align: middle;\n",
       "    }\n",
       "\n",
       "    .dataframe tbody tr th {\n",
       "        vertical-align: top;\n",
       "    }\n",
       "\n",
       "    .dataframe thead th {\n",
       "        text-align: right;\n",
       "    }\n",
       "</style>\n",
       "<table border=\"1\" class=\"dataframe\">\n",
       "  <thead>\n",
       "    <tr style=\"text-align: right;\">\n",
       "      <th></th>\n",
       "      <th>post7geo10</th>\n",
       "      <th>post7geo30</th>\n",
       "      <th>post7geo50</th>\n",
       "      <th>pre7geo10</th>\n",
       "      <th>pre7geo30</th>\n",
       "      <th>pre7geo50</th>\n",
       "    </tr>\n",
       "  </thead>\n",
       "  <tbody>\n",
       "    <tr>\n",
       "      <th>0</th>\n",
       "      <td>0.342312</td>\n",
       "      <td>0.463959</td>\n",
       "      <td>0.591682</td>\n",
       "      <td>0.351697</td>\n",
       "      <td>0.440490</td>\n",
       "      <td>0.572073</td>\n",
       "    </tr>\n",
       "    <tr>\n",
       "      <th>1</th>\n",
       "      <td>0.120784</td>\n",
       "      <td>0.170307</td>\n",
       "      <td>0.380582</td>\n",
       "      <td>0.139021</td>\n",
       "      <td>0.176037</td>\n",
       "      <td>0.480341</td>\n",
       "    </tr>\n",
       "    <tr>\n",
       "      <th>2</th>\n",
       "      <td>0.026485</td>\n",
       "      <td>0.042070</td>\n",
       "      <td>0.585672</td>\n",
       "      <td>0.019112</td>\n",
       "      <td>0.032616</td>\n",
       "      <td>0.507280</td>\n",
       "    </tr>\n",
       "    <tr>\n",
       "      <th>3</th>\n",
       "      <td>0.156097</td>\n",
       "      <td>0.214044</td>\n",
       "      <td>0.257531</td>\n",
       "      <td>0.655035</td>\n",
       "      <td>0.743272</td>\n",
       "      <td>0.807771</td>\n",
       "    </tr>\n",
       "    <tr>\n",
       "      <th>4</th>\n",
       "      <td>0.685858</td>\n",
       "      <td>0.793750</td>\n",
       "      <td>0.840339</td>\n",
       "      <td>0.183909</td>\n",
       "      <td>0.216985</td>\n",
       "      <td>0.236476</td>\n",
       "    </tr>\n",
       "    <tr>\n",
       "      <th>...</th>\n",
       "      <td>...</td>\n",
       "      <td>...</td>\n",
       "      <td>...</td>\n",
       "      <td>...</td>\n",
       "      <td>...</td>\n",
       "      <td>...</td>\n",
       "    </tr>\n",
       "    <tr>\n",
       "      <th>95</th>\n",
       "      <td>0.339237</td>\n",
       "      <td>0.459091</td>\n",
       "      <td>0.580015</td>\n",
       "      <td>0.348046</td>\n",
       "      <td>0.446097</td>\n",
       "      <td>0.568889</td>\n",
       "    </tr>\n",
       "    <tr>\n",
       "      <th>96</th>\n",
       "      <td>0.266162</td>\n",
       "      <td>0.358625</td>\n",
       "      <td>0.462050</td>\n",
       "      <td>0.461983</td>\n",
       "      <td>0.544352</td>\n",
       "      <td>0.680309</td>\n",
       "    </tr>\n",
       "    <tr>\n",
       "      <th>97</th>\n",
       "      <td>0.446046</td>\n",
       "      <td>0.598032</td>\n",
       "      <td>0.663540</td>\n",
       "      <td>0.449042</td>\n",
       "      <td>0.605008</td>\n",
       "      <td>0.669135</td>\n",
       "    </tr>\n",
       "    <tr>\n",
       "      <th>98</th>\n",
       "      <td>0.200728</td>\n",
       "      <td>0.313689</td>\n",
       "      <td>0.601028</td>\n",
       "      <td>0.181046</td>\n",
       "      <td>0.298158</td>\n",
       "      <td>0.594994</td>\n",
       "    </tr>\n",
       "    <tr>\n",
       "      <th>99</th>\n",
       "      <td>0.316082</td>\n",
       "      <td>0.544224</td>\n",
       "      <td>0.557789</td>\n",
       "      <td>0.324781</td>\n",
       "      <td>0.549105</td>\n",
       "      <td>0.560809</td>\n",
       "    </tr>\n",
       "  </tbody>\n",
       "</table>\n",
       "<p>100 rows × 6 columns</p>\n",
       "</div>"
      ],
      "text/plain": [
       "    post7geo10  post7geo30  post7geo50  pre7geo10  pre7geo30  pre7geo50\n",
       "0     0.342312    0.463959    0.591682   0.351697   0.440490   0.572073\n",
       "1     0.120784    0.170307    0.380582   0.139021   0.176037   0.480341\n",
       "2     0.026485    0.042070    0.585672   0.019112   0.032616   0.507280\n",
       "3     0.156097    0.214044    0.257531   0.655035   0.743272   0.807771\n",
       "4     0.685858    0.793750    0.840339   0.183909   0.216985   0.236476\n",
       "..         ...         ...         ...        ...        ...        ...\n",
       "95    0.339237    0.459091    0.580015   0.348046   0.446097   0.568889\n",
       "96    0.266162    0.358625    0.462050   0.461983   0.544352   0.680309\n",
       "97    0.446046    0.598032    0.663540   0.449042   0.605008   0.669135\n",
       "98    0.200728    0.313689    0.601028   0.181046   0.298158   0.594994\n",
       "99    0.316082    0.544224    0.557789   0.324781   0.549105   0.560809\n",
       "\n",
       "[100 rows x 6 columns]"
      ]
     },
     "execution_count": 14,
     "metadata": {},
     "output_type": "execute_result"
    }
   ],
   "source": [
    "# Convert to dataframe\n",
    "df = pd.DataFrame(processed_data)\n",
    "df"
   ]
  },
  {
   "cell_type": "code",
   "execution_count": 15,
   "id": "79f9403a",
   "metadata": {},
   "outputs": [
    {
     "data": {
      "text/html": [
       "<div>\n",
       "<style scoped>\n",
       "    .dataframe tbody tr th:only-of-type {\n",
       "        vertical-align: middle;\n",
       "    }\n",
       "\n",
       "    .dataframe tbody tr th {\n",
       "        vertical-align: top;\n",
       "    }\n",
       "\n",
       "    .dataframe thead th {\n",
       "        text-align: right;\n",
       "    }\n",
       "</style>\n",
       "<table border=\"1\" class=\"dataframe\">\n",
       "  <thead>\n",
       "    <tr style=\"text-align: right;\">\n",
       "      <th></th>\n",
       "      <th>post7geo10</th>\n",
       "      <th>post7geo30</th>\n",
       "      <th>post7geo50</th>\n",
       "      <th>pre7geo10</th>\n",
       "      <th>pre7geo30</th>\n",
       "      <th>pre7geo50</th>\n",
       "    </tr>\n",
       "  </thead>\n",
       "  <tbody>\n",
       "    <tr>\n",
       "      <th>mean</th>\n",
       "      <td>0.32457</td>\n",
       "      <td>0.447574</td>\n",
       "      <td>0.567676</td>\n",
       "      <td>0.338834</td>\n",
       "      <td>0.436642</td>\n",
       "      <td>0.569874</td>\n",
       "    </tr>\n",
       "  </tbody>\n",
       "</table>\n",
       "</div>"
      ],
      "text/plain": [
       "      post7geo10  post7geo30  post7geo50  pre7geo10  pre7geo30  pre7geo50\n",
       "mean     0.32457    0.447574    0.567676   0.338834   0.436642   0.569874"
      ]
     },
     "execution_count": 15,
     "metadata": {},
     "output_type": "execute_result"
    }
   ],
   "source": [
    "mean_preds = df.mean().to_frame(name='mean').T\n",
    "mean_preds "
   ]
  },
  {
   "cell_type": "code",
   "execution_count": 16,
   "id": "3b4832f3",
   "metadata": {},
   "outputs": [
    {
     "data": {
      "text/html": [
       "<div>\n",
       "<style scoped>\n",
       "    .dataframe tbody tr th:only-of-type {\n",
       "        vertical-align: middle;\n",
       "    }\n",
       "\n",
       "    .dataframe tbody tr th {\n",
       "        vertical-align: top;\n",
       "    }\n",
       "\n",
       "    .dataframe thead th {\n",
       "        text-align: right;\n",
       "    }\n",
       "</style>\n",
       "<table border=\"1\" class=\"dataframe\">\n",
       "  <thead>\n",
       "    <tr style=\"text-align: right;\">\n",
       "      <th></th>\n",
       "      <th>post7geo10</th>\n",
       "      <th>post7geo30</th>\n",
       "      <th>post7geo50</th>\n",
       "      <th>pre7geo10</th>\n",
       "      <th>pre7geo30</th>\n",
       "      <th>pre7geo50</th>\n",
       "    </tr>\n",
       "  </thead>\n",
       "  <tbody>\n",
       "    <tr>\n",
       "      <th>mean</th>\n",
       "      <td>0</td>\n",
       "      <td>0</td>\n",
       "      <td>1</td>\n",
       "      <td>0</td>\n",
       "      <td>0</td>\n",
       "      <td>1</td>\n",
       "    </tr>\n",
       "  </tbody>\n",
       "</table>\n",
       "</div>"
      ],
      "text/plain": [
       "      post7geo10  post7geo30  post7geo50  pre7geo10  pre7geo30  pre7geo50\n",
       "mean           0           0           1          0          0          1"
      ]
     },
     "execution_count": 16,
     "metadata": {},
     "output_type": "execute_result"
    }
   ],
   "source": [
    "mean_preds_th = (mean_preds >= 0.5).astype(int)\n",
    "mean_preds_th"
   ]
  },
  {
   "cell_type": "markdown",
   "id": "802a2ec6",
   "metadata": {},
   "source": [
    "### c. Multiple sample pipeline (visualizing text, true labels, and predictions)\n",
    "Make sure to select the apropriate batch size."
   ]
  },
  {
   "cell_type": "code",
   "execution_count": 17,
   "id": "1165d739",
   "metadata": {},
   "outputs": [
    {
     "data": {
      "application/vnd.jupyter.widget-view+json": {
       "model_id": "d1d8bcbacec44456ad81949af99864a4",
       "version_major": 2,
       "version_minor": 0
      },
      "text/plain": [
       "  0%|          | 0/100 [00:00<?, ?it/s]"
      ]
     },
     "metadata": {},
     "output_type": "display_data"
    }
   ],
   "source": [
    "# Hide the large number of deprecation warnings\n",
    "warnings.filterwarnings(\"ignore\", category=DeprecationWarning)\n",
    "preds = []\n",
    "\n",
    "for i, outputs in enumerate(tqdm(violence_pipe(KeyDataset(test_tokenized_ds_sample, \"text\"), batch_size=10,\n",
    "                                              truncation=True),\n",
    "                                 total=len(test_tokenized_ds_sample))):\n",
    "    text = test_tokenized_ds_sample[i]['text']\n",
    "    labels = test_tokenized_ds_sample[0]['labels'].tolist()\n",
    "    preds.append({\n",
    "        'text': text,\n",
    "        'labels': labels,\n",
    "        'outputs': outputs\n",
    "    })"
   ]
  },
  {
   "cell_type": "code",
   "execution_count": null,
   "id": "ac77034a",
   "metadata": {},
   "outputs": [],
   "source": [
    "preds"
   ]
  },
  {
   "cell_type": "code",
   "execution_count": 19,
   "id": "f6d9b4a1",
   "metadata": {},
   "outputs": [],
   "source": [
    "processed_data = []\n",
    "for pred in preds:\n",
    "    row = {\n",
    "        'text': pred['text'],\n",
    "        'true_labels': pred['labels'],\n",
    "    }\n",
    "    # Add each of the six pedicted scores as separate columns\n",
    "    row['post7geo10'] = pred['outputs'][0]['score']\n",
    "    row['post7geo30'] = pred['outputs'][1]['score']\n",
    "    row['post7geo50'] = pred['outputs'][2]['score']\n",
    "    row['pre7geo10'] = pred['outputs'][3]['score']\n",
    "    row['pre7geo30'] = pred['outputs'][4]['score']\n",
    "    row['pre7geo50'] = pred['outputs'][5]['score']\n",
    "    \n",
    "    processed_data.append(row)\n",
    "    \n",
    "# Convert to DataFrame\n",
    "df = pd.DataFrame(processed_data)\n",
    "    "
   ]
  },
  {
   "cell_type": "code",
   "execution_count": null,
   "id": "e41ae8b7",
   "metadata": {},
   "outputs": [],
   "source": [
    "df[60:70]"
   ]
  },
  {
   "cell_type": "code",
   "execution_count": 20,
   "id": "11371ddb",
   "metadata": {},
   "outputs": [
    {
     "name": "stderr",
     "output_type": "stream",
     "text": [
      "/tmp/ipykernel_27015/3262774732.py:1: FutureWarning: The default value of numeric_only in DataFrame.mean is deprecated. In a future version, it will default to False. In addition, specifying 'numeric_only=None' is deprecated. Select only valid columns or specify the value of numeric_only to silence this warning.\n",
      "  mean_preds = df.mean().to_frame(name='mean').T\n"
     ]
    },
    {
     "data": {
      "text/html": [
       "<div>\n",
       "<style scoped>\n",
       "    .dataframe tbody tr th:only-of-type {\n",
       "        vertical-align: middle;\n",
       "    }\n",
       "\n",
       "    .dataframe tbody tr th {\n",
       "        vertical-align: top;\n",
       "    }\n",
       "\n",
       "    .dataframe thead th {\n",
       "        text-align: right;\n",
       "    }\n",
       "</style>\n",
       "<table border=\"1\" class=\"dataframe\">\n",
       "  <thead>\n",
       "    <tr style=\"text-align: right;\">\n",
       "      <th></th>\n",
       "      <th>post7geo10</th>\n",
       "      <th>post7geo30</th>\n",
       "      <th>post7geo50</th>\n",
       "      <th>pre7geo10</th>\n",
       "      <th>pre7geo30</th>\n",
       "      <th>pre7geo50</th>\n",
       "    </tr>\n",
       "  </thead>\n",
       "  <tbody>\n",
       "    <tr>\n",
       "      <th>mean</th>\n",
       "      <td>0.32457</td>\n",
       "      <td>0.447574</td>\n",
       "      <td>0.567676</td>\n",
       "      <td>0.338834</td>\n",
       "      <td>0.436642</td>\n",
       "      <td>0.569874</td>\n",
       "    </tr>\n",
       "  </tbody>\n",
       "</table>\n",
       "</div>"
      ],
      "text/plain": [
       "      post7geo10  post7geo30  post7geo50  pre7geo10  pre7geo30  pre7geo50\n",
       "mean     0.32457    0.447574    0.567676   0.338834   0.436642   0.569874"
      ]
     },
     "execution_count": 20,
     "metadata": {},
     "output_type": "execute_result"
    }
   ],
   "source": [
    "mean_preds = df.mean().to_frame(name='mean').T\n",
    "mean_preds "
   ]
  },
  {
   "cell_type": "code",
   "execution_count": 21,
   "id": "84cdd62b",
   "metadata": {},
   "outputs": [
    {
     "data": {
      "text/html": [
       "<div>\n",
       "<style scoped>\n",
       "    .dataframe tbody tr th:only-of-type {\n",
       "        vertical-align: middle;\n",
       "    }\n",
       "\n",
       "    .dataframe tbody tr th {\n",
       "        vertical-align: top;\n",
       "    }\n",
       "\n",
       "    .dataframe thead th {\n",
       "        text-align: right;\n",
       "    }\n",
       "</style>\n",
       "<table border=\"1\" class=\"dataframe\">\n",
       "  <thead>\n",
       "    <tr style=\"text-align: right;\">\n",
       "      <th></th>\n",
       "      <th>post7geo10</th>\n",
       "      <th>post7geo30</th>\n",
       "      <th>post7geo50</th>\n",
       "      <th>pre7geo10</th>\n",
       "      <th>pre7geo30</th>\n",
       "      <th>pre7geo50</th>\n",
       "    </tr>\n",
       "  </thead>\n",
       "  <tbody>\n",
       "    <tr>\n",
       "      <th>mean</th>\n",
       "      <td>0</td>\n",
       "      <td>0</td>\n",
       "      <td>1</td>\n",
       "      <td>0</td>\n",
       "      <td>0</td>\n",
       "      <td>1</td>\n",
       "    </tr>\n",
       "  </tbody>\n",
       "</table>\n",
       "</div>"
      ],
      "text/plain": [
       "      post7geo10  post7geo30  post7geo50  pre7geo10  pre7geo30  pre7geo50\n",
       "mean           0           0           1          0          0          1"
      ]
     },
     "execution_count": 21,
     "metadata": {},
     "output_type": "execute_result"
    }
   ],
   "source": [
    "mean_preds_th = (mean_preds >= 0.5).astype(int)\n",
    "mean_preds_th"
   ]
  },
  {
   "cell_type": "markdown",
   "id": "eeae7325",
   "metadata": {},
   "source": [
    "### d. Multiple values - select specific cases"
   ]
  },
  {
   "cell_type": "code",
   "execution_count": 22,
   "id": "87a22b31",
   "metadata": {},
   "outputs": [],
   "source": [
    "# Define the label mapping\n",
    "id2label: {\n",
    "    \"0\": \"post7geo10\",\n",
    "    \"1\": \"post7geo30\",\n",
    "    \"2\": \"post7geo50\",\n",
    "    \"3\": \"pre7geo10\",\n",
    "    \"4\": \"pre7geo30\",\n",
    "    \"5\": \"pre7geo50\"\n",
    "}\n",
    "\n",
    "# Define the filtering function to match the required conditions\n",
    "def filter_condition(example):\n",
    "    return (example['labels'][0] == 1 and # post7geo10\n",
    "            example['labels'][1] == 1 and # post7geo30\n",
    "            example['labels'][2] == 1 and # post7geo50\n",
    "            example['labels'][3] == 0 and # pre7geo10\n",
    "            example['labels'][4] == 0 and # pre7geo30\n",
    "            example['labels'][5] == 0 # pre7geo50\n",
    "    )"
   ]
  },
  {
   "cell_type": "code",
   "execution_count": 23,
   "id": "de438d18",
   "metadata": {},
   "outputs": [
    {
     "name": "stderr",
     "output_type": "stream",
     "text": [
      "Loading cached processed dataset at /data3/mmendieta/Violence_data/geo_corpus.0.0.1_tok_ds_xlmt_with_text/test/cache-0bf953b0cd156b77.arrow\n"
     ]
    }
   ],
   "source": [
    "# ds_tok was instantiated previously\n",
    "# This filter operation on the dataset takes approximately 3' 21s to complete\n",
    "# A more efficient approach would be using map function\n",
    "filtered_dataset = ds_tok[\"test\"].filter(filter_condition)"
   ]
  },
  {
   "cell_type": "code",
   "execution_count": null,
   "id": "14a93b81",
   "metadata": {},
   "outputs": [],
   "source": [
    "filtered_dataset"
   ]
  },
  {
   "cell_type": "code",
   "execution_count": 24,
   "id": "17462f79",
   "metadata": {},
   "outputs": [],
   "source": [
    "# Select subsample or the whole dataset\n",
    "filtered_dataset_sample = filtered_dataset.shuffle().select(range(5000))"
   ]
  },
  {
   "cell_type": "code",
   "execution_count": null,
   "id": "536d5f55",
   "metadata": {},
   "outputs": [],
   "source": [
    "filtered_dataset_sample['labels'][:10]"
   ]
  },
  {
   "cell_type": "code",
   "execution_count": 25,
   "id": "a6749dba",
   "metadata": {},
   "outputs": [
    {
     "data": {
      "application/vnd.jupyter.widget-view+json": {
       "model_id": "8596a0785cef4a289a0d2ad5e7d796c3",
       "version_major": 2,
       "version_minor": 0
      },
      "text/plain": [
       "  0%|          | 0/5000 [00:00<?, ?it/s]"
      ]
     },
     "metadata": {},
     "output_type": "display_data"
    }
   ],
   "source": [
    "# Hide the large number of deprecation warnings\n",
    "warnings.filterwarnings(\"ignore\", category=DeprecationWarning)\n",
    "preds = []\n",
    "\n",
    "# change the dataset accordigly. Either use the sample dataset or the whole dataset\n",
    "# change batch_size as appropriate\n",
    "for i, outputs in enumerate(tqdm(violence_pipe(KeyDataset(filtered_dataset_sample, \"text\"), batch_size=1,\n",
    "                                              truncation=True),\n",
    "                                 total=len(filtered_dataset_sample))):\n",
    "    preds.append(outputs)"
   ]
  },
  {
   "cell_type": "code",
   "execution_count": null,
   "id": "4eee4db5",
   "metadata": {},
   "outputs": [],
   "source": [
    "preds"
   ]
  },
  {
   "cell_type": "code",
   "execution_count": 26,
   "id": "fe4fe8ac",
   "metadata": {},
   "outputs": [],
   "source": [
    "processed_data = []\n",
    "for pred in preds:\n",
    "    scores = {item['label']: item['score'] for item in pred}\n",
    "    processed_data.append(scores)\n",
    "    \n",
    "# Convert to DataFrame\n",
    "df = pd.DataFrame(processed_data)"
   ]
  },
  {
   "cell_type": "code",
   "execution_count": null,
   "id": "4a5ad37b",
   "metadata": {},
   "outputs": [],
   "source": [
    "df[30:40]"
   ]
  },
  {
   "cell_type": "code",
   "execution_count": 27,
   "id": "e8e0a65a",
   "metadata": {},
   "outputs": [
    {
     "data": {
      "text/html": [
       "<div>\n",
       "<style scoped>\n",
       "    .dataframe tbody tr th:only-of-type {\n",
       "        vertical-align: middle;\n",
       "    }\n",
       "\n",
       "    .dataframe tbody tr th {\n",
       "        vertical-align: top;\n",
       "    }\n",
       "\n",
       "    .dataframe thead th {\n",
       "        text-align: right;\n",
       "    }\n",
       "</style>\n",
       "<table border=\"1\" class=\"dataframe\">\n",
       "  <thead>\n",
       "    <tr style=\"text-align: right;\">\n",
       "      <th></th>\n",
       "      <th>post7geo10</th>\n",
       "      <th>post7geo30</th>\n",
       "      <th>post7geo50</th>\n",
       "      <th>pre7geo10</th>\n",
       "      <th>pre7geo30</th>\n",
       "      <th>pre7geo50</th>\n",
       "    </tr>\n",
       "  </thead>\n",
       "  <tbody>\n",
       "    <tr>\n",
       "      <th>mean</th>\n",
       "      <td>0.456322</td>\n",
       "      <td>0.560909</td>\n",
       "      <td>0.642424</td>\n",
       "      <td>0.331207</td>\n",
       "      <td>0.415657</td>\n",
       "      <td>0.493026</td>\n",
       "    </tr>\n",
       "  </tbody>\n",
       "</table>\n",
       "</div>"
      ],
      "text/plain": [
       "      post7geo10  post7geo30  post7geo50  pre7geo10  pre7geo30  pre7geo50\n",
       "mean    0.456322    0.560909    0.642424   0.331207   0.415657   0.493026"
      ]
     },
     "execution_count": 27,
     "metadata": {},
     "output_type": "execute_result"
    }
   ],
   "source": [
    "mean_preds = df.mean().to_frame(name='mean').T\n",
    "mean_preds "
   ]
  },
  {
   "cell_type": "code",
   "execution_count": 28,
   "id": "c0bd8404",
   "metadata": {},
   "outputs": [
    {
     "data": {
      "text/html": [
       "<div>\n",
       "<style scoped>\n",
       "    .dataframe tbody tr th:only-of-type {\n",
       "        vertical-align: middle;\n",
       "    }\n",
       "\n",
       "    .dataframe tbody tr th {\n",
       "        vertical-align: top;\n",
       "    }\n",
       "\n",
       "    .dataframe thead th {\n",
       "        text-align: right;\n",
       "    }\n",
       "</style>\n",
       "<table border=\"1\" class=\"dataframe\">\n",
       "  <thead>\n",
       "    <tr style=\"text-align: right;\">\n",
       "      <th></th>\n",
       "      <th>post7geo10</th>\n",
       "      <th>post7geo30</th>\n",
       "      <th>post7geo50</th>\n",
       "      <th>pre7geo10</th>\n",
       "      <th>pre7geo30</th>\n",
       "      <th>pre7geo50</th>\n",
       "    </tr>\n",
       "  </thead>\n",
       "  <tbody>\n",
       "    <tr>\n",
       "      <th>mean</th>\n",
       "      <td>0</td>\n",
       "      <td>1</td>\n",
       "      <td>1</td>\n",
       "      <td>0</td>\n",
       "      <td>0</td>\n",
       "      <td>0</td>\n",
       "    </tr>\n",
       "  </tbody>\n",
       "</table>\n",
       "</div>"
      ],
      "text/plain": [
       "      post7geo10  post7geo30  post7geo50  pre7geo10  pre7geo30  pre7geo50\n",
       "mean           0           1           1          0          0          0"
      ]
     },
     "execution_count": 28,
     "metadata": {},
     "output_type": "execute_result"
    }
   ],
   "source": [
    "mean_preds_th = (mean_preds >= 0.5).astype(int)\n",
    "mean_preds_th"
   ]
  },
  {
   "cell_type": "code",
   "execution_count": null,
   "id": "6ba4e8e6",
   "metadata": {},
   "outputs": [],
   "source": []
  },
  {
   "cell_type": "markdown",
   "id": "a4a71fe0",
   "metadata": {},
   "source": [
    "# X. Tokenize the whole dataset\n",
    "Run this code if you want to tokenize the whole dataset again. This step is necessary because the column 'text' was removed during training, and we want this column for making predictions. The code below was already tokenized with the *text* column for the XLM-T model."
   ]
  },
  {
   "cell_type": "code",
   "execution_count": null,
   "id": "205e1392",
   "metadata": {},
   "outputs": [],
   "source": [
    "# Load the dataset (untokenized) from disk\n",
    "ds = load_from_disk(\"/data3/mmendieta/Violence_data/geo_corpus.0.0.1_dataset_for_train\")"
   ]
  },
  {
   "cell_type": "markdown",
   "id": "b39eb6b0",
   "metadata": {},
   "source": [
    "### Tokenize the whole dataset"
   ]
  },
  {
   "cell_type": "code",
   "execution_count": null,
   "id": "af21a78a",
   "metadata": {},
   "outputs": [],
   "source": [
    "def tokenize(batch):\n",
    "    return tokenizer(batch[\"text\"], truncation=True)"
   ]
  },
  {
   "cell_type": "code",
   "execution_count": null,
   "id": "fd2aceae-e6a5-4745-97ce-10e6ad49a87a",
   "metadata": {},
   "outputs": [],
   "source": [
    "# Instantiate the tokenizer \n",
    "model_ckpt = args.model_ckpt\n",
    "tokenizer = AutoTokenizer.from_pretrained(model_ckpt,\n",
    "                                         model_max_length=args.max_length\n",
    "                                         )"
   ]
  },
  {
   "cell_type": "code",
   "execution_count": null,
   "id": "1308faa0",
   "metadata": {},
   "outputs": [],
   "source": [
    "# This code takes 14min and 33 s to run\n",
    "%time tokenized_ds = ds.map(tokenize, batched=True)"
   ]
  },
  {
   "cell_type": "code",
   "execution_count": null,
   "id": "85f1395b",
   "metadata": {},
   "outputs": [],
   "source": [
    "tokenized_ds.set_format('torch')"
   ]
  },
  {
   "cell_type": "code",
   "execution_count": null,
   "id": "cf038d54",
   "metadata": {},
   "outputs": [],
   "source": [
    "tokenized_ds"
   ]
  },
  {
   "cell_type": "markdown",
   "id": "dc7509c4",
   "metadata": {},
   "source": [
    "### Save tokenized dataset to disk"
   ]
  },
  {
   "cell_type": "code",
   "execution_count": null,
   "id": "d54db807",
   "metadata": {},
   "outputs": [],
   "source": [
    "tokenized_ds.save_to_disk(\"/data3/mmendieta/Violence_data/geo_corpus.0.0.1_tok_ds_xlmt_with_text\")"
   ]
  },
  {
   "cell_type": "code",
   "execution_count": null,
   "id": "62c73df0",
   "metadata": {},
   "outputs": [],
   "source": []
  }
 ],
 "metadata": {
  "kernelspec": {
   "display_name": "Python 3 (ipykernel)",
   "language": "python",
   "name": "python3"
  },
  "language_info": {
   "codemirror_mode": {
    "name": "ipython",
    "version": 3
   },
   "file_extension": ".py",
   "mimetype": "text/x-python",
   "name": "python",
   "nbconvert_exporter": "python",
   "pygments_lexer": "ipython3",
   "version": "3.8.3"
  }
 },
 "nbformat": 4,
 "nbformat_minor": 5
}
