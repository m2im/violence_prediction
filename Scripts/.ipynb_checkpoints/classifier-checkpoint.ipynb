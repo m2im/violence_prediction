{
 "cells": [
  {
   "cell_type": "code",
   "execution_count": 1,
   "id": "c4337aad",
   "metadata": {},
   "outputs": [],
   "source": [
    "import torch\n",
    "import pandas as pd\n",
    "import matplotlib.pyplot as plt\n",
    "import numpy as np\n",
    "from datasets import load_from_disk\n",
    "from sklearn.preprocessing import StandardScaler\n",
    "from sklearn.ensemble import BaggingClassifier, GradientBoostingClassifier\n",
    "from sklearn.ensemble import RandomForestClassifier\n",
    "from sklearn.svm import LinearSVC\n",
    "from skmultilearn.problem_transform import BinaryRelevance\n",
    "from sklearn.multiclass import OneVsRestClassifier\n",
    "from sklearn.metrics import accuracy_score, precision_score, recall_score, f1_score\n",
    "from sklearn.metrics import roc_auc_score, confusion_matrix, multilabel_confusion_matrix, ConfusionMatrixDisplay\n",
    "from sklearn.metrics import classification_report, plot_roc_curve\n",
    "from sklearn.tree import DecisionTreeClassifier\n",
    "from argparse import Namespace"
   ]
  },
  {
   "cell_type": "code",
   "execution_count": 2,
   "id": "42b85bdd",
   "metadata": {},
   "outputs": [],
   "source": [
    "config = {\n",
    "    \"train_subset\": 15000,\n",
    "    \"valid_subset\": 4000,\n",
    "    \"test_subset\" : 2000,\n",
    "    \"seed\": 42\n",
    "}\n",
    "\n",
    "args = Namespace(**config)"
   ]
  },
  {
   "cell_type": "markdown",
   "id": "cefa278b",
   "metadata": {},
   "source": [
    "### Read the dataset"
   ]
  },
  {
   "cell_type": "code",
   "execution_count": 3,
   "id": "bf15e887",
   "metadata": {},
   "outputs": [],
   "source": [
    "violence_hidden = load_from_disk(\"../../Violence_data/geo_corpus.0.0.1_datasets_hidden_small_labse\")"
   ]
  },
  {
   "cell_type": "code",
   "execution_count": null,
   "id": "69175467",
   "metadata": {},
   "outputs": [],
   "source": [
    "violence_hidden"
   ]
  },
  {
   "cell_type": "code",
   "execution_count": 4,
   "id": "33056177",
   "metadata": {},
   "outputs": [],
   "source": [
    "# Remove unncesary columns\n",
    "keep_cols = ['hidden_state', 'pre7geo10', 'pre7geo30', \n",
    "             'pre7geo50', 'post7geo10', 'post7geo30', 'post7geo50']\n",
    "remove_columns = [col for col in violence_hidden['train'].column_names if col not in keep_cols]"
   ]
  },
  {
   "cell_type": "code",
   "execution_count": 5,
   "id": "955e02b8",
   "metadata": {},
   "outputs": [],
   "source": [
    "violence_hidden = violence_hidden.remove_columns(remove_columns)"
   ]
  },
  {
   "cell_type": "code",
   "execution_count": null,
   "id": "16e59376",
   "metadata": {},
   "outputs": [],
   "source": [
    "violence_hidden"
   ]
  },
  {
   "cell_type": "code",
   "execution_count": null,
   "id": "a918a463",
   "metadata": {},
   "outputs": [],
   "source": [
    "# Extract a subset of the dataset\n",
    "train_clf_ds = violence_hidden[\"train\"].shuffle(args.seed).select(range(args.train_subset))\n",
    "validation_clf_ds = violence_hidden[\"validation\"].shuffle(args.seed).select(range(args.valid_subset))\n",
    "test_clf_ds = violence_hidden[\"test\"].shuffle(args.seed).select(range(args.test_subset))"
   ]
  },
  {
   "cell_type": "code",
   "execution_count": null,
   "id": "911d8f49",
   "metadata": {},
   "outputs": [],
   "source": [
    "train_clf_ds[0]"
   ]
  },
  {
   "cell_type": "markdown",
   "id": "fcd9b027",
   "metadata": {},
   "source": [
    "### Preprocess the labels"
   ]
  },
  {
   "cell_type": "code",
   "execution_count": null,
   "id": "ebca24ca",
   "metadata": {},
   "outputs": [],
   "source": [
    "# We need to to cast integer labels to float in order to calculate the Binary Cross\n",
    "# Entropy loss during training\n",
    "from datasets import Value\n",
    "new_features = train_clf_ds.features.copy()\n",
    "new_features['post7geo10'] = Value(dtype='float32')\n",
    "new_features['post7geo30'] = Value(dtype='float32')\n",
    "new_features['post7geo50'] = Value(dtype='float32')\n",
    "new_features['pre7geo10'] = Value(dtype='float32')\n",
    "new_features['pre7geo30'] = Value(dtype='float32')\n",
    "new_features['pre7geo50'] = Value(dtype='float32')\n",
    "train_clf_ds = train_clf_ds.cast(new_features)\n",
    "validation_clf_ds = validation_clf_ds.cast(new_features)\n",
    "test_clf_ds = test_clf_ds.cast(new_features)"
   ]
  },
  {
   "cell_type": "code",
   "execution_count": null,
   "id": "e242e218",
   "metadata": {},
   "outputs": [],
   "source": [
    "# create 'labels' columm for each split\n",
    "cols = train_clf_ds.column_names\n",
    "# Train split\n",
    "train_clf_ds = train_clf_ds.map(lambda x : {\"labels\": [x[c] for c in cols if c != \"hidden_state\"]})\n",
    "# Validation split\n",
    "validation_clf_ds = validation_clf_ds.map(lambda x : {\"labels\": [x[c] for c in cols if c != \"hidden_state\"]})\n",
    "# Test split\n",
    "test_clf_ds = test_clf_ds.map(lambda x : {\"labels\": [x[c] for c in cols if c != \"hidden_state\"]})"
   ]
  },
  {
   "cell_type": "code",
   "execution_count": null,
   "id": "96c64e2e",
   "metadata": {},
   "outputs": [],
   "source": [
    "# Sanity check\n",
    "validation_clf_ds[0]"
   ]
  },
  {
   "cell_type": "code",
   "execution_count": null,
   "id": "c0c45a72",
   "metadata": {},
   "outputs": [],
   "source": [
    "# remove all columns except hidden_states and labels\n",
    "col_names = train_clf_ds.column_names\n",
    "col_names.remove(\"labels\")\n",
    "col_names.remove('hidden_state')"
   ]
  },
  {
   "cell_type": "code",
   "execution_count": null,
   "id": "6ceeaeda",
   "metadata": {},
   "outputs": [],
   "source": [
    "train_clf_ds = train_clf_ds.remove_columns(col_names)\n",
    "validation_clf_ds = validation_clf_ds.remove_columns(col_names)\n",
    "test_clf_ds = test_clf_ds.remove_columns(col_names)\n",
    "train_clf_ds"
   ]
  },
  {
   "cell_type": "markdown",
   "id": "646db38b",
   "metadata": {},
   "source": [
    "### Create a feature matrix"
   ]
  },
  {
   "cell_type": "code",
   "execution_count": null,
   "id": "983ac8e3",
   "metadata": {},
   "outputs": [],
   "source": [
    "%time X_train = np.array(train_clf_ds[\"hidden_state\"])\n",
    "y_train = np.array(train_clf_ds[\"labels\"])\n",
    "X_validation = np.array(validation_clf_ds[\"hidden_state\"])\n",
    "y_validation = np.array(validation_clf_ds[\"labels\"])\n",
    "X_test = np.array(test_clf_ds[\"hidden_state\"])\n",
    "y_test = np.array(test_clf_ds[\"labels\"])\n",
    "X_train.shape"
   ]
  },
  {
   "cell_type": "code",
   "execution_count": null,
   "id": "55f8ddb0",
   "metadata": {},
   "outputs": [],
   "source": [
    "print(np.min(X_train[10]))\n",
    "print(np.max(X_train[10]))"
   ]
  },
  {
   "cell_type": "markdown",
   "id": "bf706a08",
   "metadata": {},
   "source": [
    "## Helper Functions"
   ]
  },
  {
   "cell_type": "code",
   "execution_count": null,
   "id": "712471cc",
   "metadata": {},
   "outputs": [],
   "source": [
    "# Create a function to report the various metrics for each classifier\n",
    "def metricsReport(modelName, test_labels, predictions):\n",
    "    accuracy = accuracy_score(test_labels, predictions)\n",
    "    \n",
    "    roc_auc = roc_auc_score(test_labels, predictions, average = \"weighted\")\n",
    "\n",
    "    weighted_precision = precision_score(test_labels, predictions, average='weighted')\n",
    "    weighted_recall = recall_score(test_labels, predictions, average='weighted')\n",
    "    weighted_f1 = f1_score(test_labels, predictions, average='weighted')\n",
    "\n",
    "    micro_precision = precision_score(test_labels, predictions, average='micro')\n",
    "    micro_recall = recall_score(test_labels, predictions, average='micro')\n",
    "    micro_f1 = f1_score(test_labels, predictions, average='micro')\n",
    "    \n",
    "    \n",
    "    print(\"------\" + modelName + \" Model Metrics-----\")\n",
    "    print(\"Accuracy: {:.4f}\\nroc_auc_score: {:.4f}\\nPrecision:\\n  - Weighted: {:.4f}\\n  - Micro: {:.4f}\\nRecall:\\n  - Weighted: {:.4f}\\n  - Micro: {:.4f}\\nF1-measure:\\n  - Weighted: {:.4f}\\n  - Micro: {:.4f}\"\\\n",
    "          .format(accuracy, roc_auc, weighted_precision, micro_precision, weighted_recall, micro_recall, weighted_f1, micro_f1))\n",
    "    ModelsPerformance[modelName] = {\"accuracy\": format(accuracy, '.4f'), \"roc_auc\": format(roc_auc, '.4f'), \"weighted_precision\": format(weighted_precision, '.4f'),\n",
    "                                    \"weighted_recall\": format(weighted_recall, '.4f'), \"weighted_f1\": format(weighted_f1, '.4f'), \"micro_precision\": format(micro_precision, '.4f'),\n",
    "                                    \"micro_recall\": format(micro_recall, '.4f'), \"micro_f1\": format(micro_f1, '.4f')}"
   ]
  },
  {
   "cell_type": "code",
   "execution_count": null,
   "id": "c4e13115",
   "metadata": {},
   "outputs": [],
   "source": [
    "def plot_confusion_matrix(y_test, y_pred, clf:str):\n",
    "    f, axes = plt.subplots(2, 3, figsize=(25, 15))\n",
    "    f.suptitle(clf, fontsize=36)\n",
    "    axes = axes.ravel()\n",
    "    for i in range(6):\n",
    "        labels=['post7geo10', 'post7geo30', 'post7geo50','pre7geo10','pre7geo30', 'pre7geo50']\n",
    "        disp = ConfusionMatrixDisplay(confusion_matrix(y_test[:, i],\n",
    "                                                       y_pred[:, i]),\n",
    "                                      display_labels=[0, i])\n",
    "        disp.plot(ax=axes[i], values_format='.4g')\n",
    "        disp.ax_.set_title(labels[i])\n",
    "        if i<10:\n",
    "            disp.ax_.set_xlabel('')\n",
    "        if i%5!=0:\n",
    "            disp.ax_.set_ylabel('')\n",
    "        disp.im_.colorbar.remove()\n",
    "\n",
    "    plt.subplots_adjust(wspace=0.10, hspace=0.1)\n",
    "    f.colorbar(disp.im_, ax=axes)\n",
    "    plt.show()"
   ]
  },
  {
   "cell_type": "markdown",
   "id": "50e80d68",
   "metadata": {},
   "source": [
    "# Classifiers"
   ]
  },
  {
   "cell_type": "markdown",
   "id": "a5dbac64",
   "metadata": {},
   "source": [
    "## Problem transformation"
   ]
  },
  {
   "cell_type": "markdown",
   "id": "4d26f12f",
   "metadata": {},
   "source": [
    "### Bagging"
   ]
  },
  {
   "cell_type": "code",
   "execution_count": null,
   "id": "b53bfa2f",
   "metadata": {},
   "outputs": [],
   "source": [
    "bagClassifier = OneVsRestClassifier(BaggingClassifier(n_jobs=-1, \n",
    "                                                      random_state=args.seed))\n",
    "%time bagClassifier.fit(X_train, y_train)\n"
   ]
  },
  {
   "cell_type": "code",
   "execution_count": null,
   "id": "ebbe906f",
   "metadata": {},
   "outputs": [],
   "source": [
    "%time bagPreds = bagClassifier.predict(X_test)"
   ]
  },
  {
   "cell_type": "markdown",
   "id": "154712ef",
   "metadata": {},
   "source": [
    "### Boosting"
   ]
  },
  {
   "cell_type": "code",
   "execution_count": null,
   "id": "fee965e5",
   "metadata": {},
   "outputs": [],
   "source": [
    "boostClassifier = OneVsRestClassifier(GradientBoostingClassifier(\n",
    "    random_state=args.seed), n_jobs=-1)\n",
    "%time boostClassifier.fit(X_train, y_train)"
   ]
  },
  {
   "cell_type": "code",
   "execution_count": null,
   "id": "566bf6e9",
   "metadata": {},
   "outputs": [],
   "source": [
    "%time boostPreds = boostClassifier.predict(X_test)"
   ]
  },
  {
   "cell_type": "markdown",
   "id": "b98880db",
   "metadata": {},
   "source": [
    "### OneVsRest - Support Vector Machine"
   ]
  },
  {
   "cell_type": "code",
   "execution_count": null,
   "id": "5b46d930",
   "metadata": {},
   "outputs": [],
   "source": [
    "# Standardize the data for SVM\n",
    "X_train_scaled = StandardScaler().fit_transform(X_train)\n",
    "X_validation_scaled = StandardScaler().fit_transform(X_validation)\n",
    "X_test_scaled = StandardScaler().fit_transform(X_test)"
   ]
  },
  {
   "cell_type": "code",
   "execution_count": null,
   "id": "f266af11",
   "metadata": {},
   "outputs": [],
   "source": [
    "svmClassifier = OneVsRestClassifier(LinearSVC(\n",
    "    random_state=args.seed, max_iter=7000, \n",
    "    dual=False, tol=1e-5), n_jobs=-1)\n",
    "%time svmClassifier.fit(X_train_scaled, y_train)"
   ]
  },
  {
   "cell_type": "code",
   "execution_count": null,
   "id": "4f0fc6e2",
   "metadata": {},
   "outputs": [],
   "source": [
    "%time svmPreds = svmClassifier.predict(X_test)"
   ]
  },
  {
   "cell_type": "markdown",
   "id": "4fa312d4",
   "metadata": {},
   "source": [
    "### Binary Relevance - Support Vector Machine"
   ]
  },
  {
   "cell_type": "code",
   "execution_count": null,
   "id": "10a21ee8",
   "metadata": {},
   "outputs": [],
   "source": [
    "BinaryRelSVC = BinaryRelevance(LinearSVC(random_state=args.seed,\n",
    "                                         max_iter=7000, dual=False, \n",
    "                                         tol=1e-5),\n",
    "                                         require_dense = [True, True])\n",
    "%time BinaryRelSVC.fit(X_train_scaled, y_train)"
   ]
  },
  {
   "cell_type": "code",
   "execution_count": null,
   "id": "33aaa696",
   "metadata": {},
   "outputs": [],
   "source": [
    "%time BinRelSVCPreds = BinaryRelSVC.predict(X_test).toarray()"
   ]
  },
  {
   "cell_type": "markdown",
   "id": "e19384bc",
   "metadata": {},
   "source": [
    "## Problem Adaptation"
   ]
  },
  {
   "cell_type": "markdown",
   "id": "bad64321",
   "metadata": {},
   "source": [
    "### Decision Trees"
   ]
  },
  {
   "cell_type": "code",
   "execution_count": null,
   "id": "75623085",
   "metadata": {},
   "outputs": [],
   "source": [
    "dtClassifier = DecisionTreeClassifier(random_state=args.seed)\n",
    "%time dtClassifier.fit(X_train, y_train)"
   ]
  },
  {
   "cell_type": "code",
   "execution_count": null,
   "id": "66f2badf",
   "metadata": {},
   "outputs": [],
   "source": [
    "%time dtPreds = dtClassifier.predict(X_test)"
   ]
  },
  {
   "cell_type": "markdown",
   "id": "003b2f48",
   "metadata": {},
   "source": [
    "### Random Forest"
   ]
  },
  {
   "cell_type": "code",
   "execution_count": null,
   "id": "89f2e33b",
   "metadata": {},
   "outputs": [],
   "source": [
    "rfClassifier = RandomForestClassifier(n_jobs=-1, \n",
    "                                      random_state=args.seed)\n",
    "%time rfClassifier.fit(X_train, y_train)"
   ]
  },
  {
   "cell_type": "code",
   "execution_count": null,
   "id": "727f93a2",
   "metadata": {},
   "outputs": [],
   "source": [
    "%time rfPreds = rfClassifier.predict(X_test)"
   ]
  },
  {
   "cell_type": "markdown",
   "id": "36d841ae",
   "metadata": {},
   "source": [
    "# Model Evaluation"
   ]
  },
  {
   "cell_type": "markdown",
   "id": "f98d02a8",
   "metadata": {},
   "source": [
    "### Evaluate classifiers"
   ]
  },
  {
   "cell_type": "code",
   "execution_count": null,
   "id": "349f6399",
   "metadata": {},
   "outputs": [],
   "source": [
    "ModelsPerformance = {}\n",
    "metricsReport(\"Bagging\", y_test, bagPreds)\n",
    "metricsReport(\"Boosting\", y_test, boostPreds)\n",
    "metricsReport(\"SVM-OVR\", y_test, svmPreds)\n",
    "metricsReport(\"SVM-BR\", y_test, BinRelSVCPreds)\n",
    "metricsReport(\"Decision Tree\", y_test, dtPreds)\n",
    "metricsReport(\"Random Forest\", y_test, rfPreds)\n"
   ]
  },
  {
   "cell_type": "code",
   "execution_count": null,
   "id": "38252eee",
   "metadata": {},
   "outputs": [],
   "source": [
    "print(\" Model Name \" + \" \"*3 + \"| Acc.   \" + \" \"*1 + \"| ROC_AUC \" + \" \"*1 + \"| weighted_prec\" + \" \"*1 + \"| weighted_rec\" + \" \"*1 + \"| weighted_f1\" + \" \"*1 + \"| micro_prec\" + \" \"*1 + \"| micro_rec\" + \" \"*1 + \"| micro_f1\")\n",
    "print(\"--------------------------------------------------------------------------------------------------------------------\")\n",
    "for key, value in ModelsPerformance.items():\n",
    "    print(\" \" + key, \" \"*(13-len(key)) + \"|\", value[\"accuracy\"], \" \"*(1) + \"|\", value[\"roc_auc\"], \" \"*(2) + \"|\", value[\"weighted_precision\"], \" \"*(7) + \"|\", value[\"weighted_recall\"], \" \"*(6) + \"|\", value[\"weighted_f1\"], \" \"*(5) + \"|\", value[\"micro_precision\"], \" \"*(4) + \"|\", value[\"micro_recall\"], \" \"*(3) + \"|\", value[\"micro_f1\"])\n",
    "    print(\"--------------------------------------------------------------------------------------------------------------------\")"
   ]
  },
  {
   "cell_type": "code",
   "execution_count": null,
   "id": "69ba89f1",
   "metadata": {},
   "outputs": [],
   "source": [
    "# Optional\n",
    "print(classification_report(rfPreds, y_test, target_names=['post7geo10', 'post7geo30', 'post7geo50',\n",
    "                                                     'pre7geo10','pre7geo30', 'pre7geo50']))"
   ]
  },
  {
   "cell_type": "markdown",
   "id": "7b93b7be",
   "metadata": {},
   "source": [
    "### Plot Confusion Matrix"
   ]
  },
  {
   "cell_type": "code",
   "execution_count": null,
   "id": "d37449eb",
   "metadata": {},
   "outputs": [],
   "source": [
    "# Bagging Classifier\n",
    "plot_confusion_matrix(y_test, bagPreds, \"Bagging Classifier\")"
   ]
  },
  {
   "cell_type": "code",
   "execution_count": null,
   "id": "4478105b",
   "metadata": {},
   "outputs": [],
   "source": [
    "# Boosting Classifier\n",
    "plot_confusion_matrix(y_test, boostPreds, \"Boosting Classifier\")"
   ]
  },
  {
   "cell_type": "code",
   "execution_count": null,
   "id": "94f6878c",
   "metadata": {},
   "outputs": [],
   "source": [
    "# SVM-OVR Classifier\n",
    "plot_confusion_matrix(y_test, svmPreds, \"SVM - One vs Rest\")"
   ]
  },
  {
   "cell_type": "code",
   "execution_count": null,
   "id": "e50488d8",
   "metadata": {},
   "outputs": [],
   "source": [
    "# SVM - Binary Relevance Classifier\n",
    "plot_confusion_matrix(y_test, BinRelSVCPreds, \"SVM - Binary Relevance\")"
   ]
  },
  {
   "cell_type": "code",
   "execution_count": null,
   "id": "bd5d920d",
   "metadata": {},
   "outputs": [],
   "source": [
    "# Decision Trees Classifier\n",
    "plot_confusion_matrix(y_test, dtPreds, \"Decision Tree\")"
   ]
  },
  {
   "cell_type": "code",
   "execution_count": null,
   "id": "35eb2abf",
   "metadata": {},
   "outputs": [],
   "source": [
    "# Random Forest Classifier\n",
    "plot_confusion_matrix(y_test, rfPreds, \"Random Forest Classifier\")"
   ]
  },
  {
   "cell_type": "markdown",
   "id": "78f9bac0",
   "metadata": {},
   "source": [
    "### Plot ROC Curve for the best classifier"
   ]
  },
  {
   "cell_type": "code",
   "execution_count": null,
   "id": "24ed30d2",
   "metadata": {},
   "outputs": [],
   "source": [
    "# Plot ROC Curve for the best classifier (RF)\n",
    "label_names = ['post7geo10', 'post7geo30', 'post7geo50', 'pre7geo10','pre7geo30', 'pre7geo50']\n",
    "labelPlots ={}\n",
    "for i in range (len(label_names)):\n",
    "    rfClassifier.fit(X_train, y_train[:,i])\n",
    "    ax = plt.gca()\n",
    "    labelPlots[i]= plot_roc_curve(rfClassifier, X_test, y_test[:,i], name= label_names[i], ax=ax, alpha=0.8) \n",
    "\n",
    "plt.title(\"ROC comparison per class label - RF classifier\")\n",
    "plt.show()"
   ]
  },
  {
   "cell_type": "code",
   "execution_count": null,
   "id": "67a61018",
   "metadata": {},
   "outputs": [],
   "source": []
  }
 ],
 "metadata": {
  "kernelspec": {
   "display_name": "Python 3 (ipykernel)",
   "language": "python",
   "name": "python3"
  },
  "language_info": {
   "codemirror_mode": {
    "name": "ipython",
    "version": 3
   },
   "file_extension": ".py",
   "mimetype": "text/x-python",
   "name": "python",
   "nbconvert_exporter": "python",
   "pygments_lexer": "ipython3",
   "version": "3.8.3"
  }
 },
 "nbformat": 4,
 "nbformat_minor": 5
}
