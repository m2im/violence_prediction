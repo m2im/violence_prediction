{
 "cells": [
  {
   "cell_type": "code",
   "execution_count": 1,
   "id": "27dd93d7-1abb-42fd-a86d-2a6012832a24",
   "metadata": {},
   "outputs": [],
   "source": [
    "import torch\n",
    "import transformers\n",
    "from transformers import AutoTokenizer\n",
    "from argparse import Namespace"
   ]
  },
  {
   "cell_type": "code",
   "execution_count": 6,
   "id": "650802df-9b6d-45ec-a1f4-92159f3061b2",
   "metadata": {},
   "outputs": [],
   "source": [
    "# change path_to_model_on_disk and model_ckpt\n",
    "\n",
    "# Options for path_to_model_on_disk:\n",
    "# \"/data3/mmendieta/models/xlmt_finetuned_twitter/worldly-blaze-2/epoch_14\"\n",
    "# \"/data3/mmendieta/models/smallLabse_finetuned_twitter/electric-glitter-32/epoch_15\"\n",
    "# \"/data3/mmendieta/models/labse_finetuned_twitter/dazzling-violet-5/epoch_19\"\n",
    "\n",
    "# Options for model_ckpt\n",
    "# \"cardiffnlp/twitter-xlm-roberta-base\"\n",
    "# \"setu4993/LaBSE\"\n",
    "# \"setu4993/smaller-LaBSE\"\n",
    "\n",
    "config = {\n",
    "    \"cuda_device\": 12,\n",
    "    \"path_to_model_on_disk\": \"/data3/mmendieta/models/xlmt_finetuned_twitter/\", \n",
    "    \"model_ckpt\": \"cardiffnlp/twitter-xlm-roberta-base\",\n",
    "    \"max_length\": 32\n",
    "}\n",
    "\n",
    "args = Namespace(**config)"
   ]
  },
  {
   "cell_type": "code",
   "execution_count": 7,
   "id": "8b9f6083-c89a-4e0f-b95b-35c5f6bcd180",
   "metadata": {},
   "outputs": [],
   "source": [
    "# Instantiate the tokenizer\n",
    "model_ckpt = args.model_ckpt\n",
    "tokenizer = AutoTokenizer.from_pretrained(model_ckpt,\n",
    "                                         model_max_length=args.max_length\n",
    "                                         )"
   ]
  },
  {
   "cell_type": "code",
   "execution_count": 9,
   "id": "e8d3b78c-dae7-4e7c-a452-efb889733f62",
   "metadata": {},
   "outputs": [
    {
     "data": {
      "text/plain": [
       "('/data3/mmendieta/models/xlmt_finetuned_twitter/tokenizer_config.json',\n",
       " '/data3/mmendieta/models/xlmt_finetuned_twitter/special_tokens_map.json',\n",
       " '/data3/mmendieta/models/xlmt_finetuned_twitter/sentencepiece.bpe.model',\n",
       " '/data3/mmendieta/models/xlmt_finetuned_twitter/added_tokens.json',\n",
       " '/data3/mmendieta/models/xlmt_finetuned_twitter/tokenizer.json')"
      ]
     },
     "execution_count": 9,
     "metadata": {},
     "output_type": "execute_result"
    }
   ],
   "source": [
    "tokenizer.save_pretrained(args.path_to_model_on_disk)"
   ]
  },
  {
   "cell_type": "markdown",
   "id": "13446c9c-12d4-43f5-b0f6-51f72ca2b148",
   "metadata": {},
   "source": [
    "### Hugging Face hub"
   ]
  },
  {
   "cell_type": "code",
   "execution_count": null,
   "id": "8a022c92-3702-47c3-807b-25855be7caa3",
   "metadata": {},
   "outputs": [],
   "source": [
    "from huggingface_hub import notebook_loginh, Repository, get_full_repo_name\n",
    "notebook_login()"
   ]
  },
  {
   "cell_type": "code",
   "execution_count": null,
   "id": "0f78d7a0-7a4d-40ce-85db-72a87f501f6d",
   "metadata": {},
   "outputs": [],
   "source": [
    "from huggingface_hub import Repository, get_full_repo_name, list_repo_refs"
   ]
  },
  {
   "cell_type": "code",
   "execution_count": null,
   "id": "19cc5c88-ca9d-4022-8996-0d99a2b3b60f",
   "metadata": {},
   "outputs": [],
   "source": [
    "model_repo_hub = \"m2im/XLM-T_finetuned_violence_twitter\" "
   ]
  },
  {
   "cell_type": "code",
   "execution_count": null,
   "id": "98c5af48-ffd6-48e0-b3e8-ee0dbea8ae9c",
   "metadata": {},
   "outputs": [],
   "source": [
    "hf_repo = Repository(\"/data3/mmendieta/test/smallLabse_finetuned_twitter\", clone_from=\"m2im/smallLabse_finetuned_twitter/electric-glitter-32\")"
   ]
  },
  {
   "cell_type": "code",
   "execution_count": null,
   "id": "e7760b38-1ef6-4ee4-bffb-6eb35c065773",
   "metadata": {},
   "outputs": [],
   "source": [
    "list_repo_refs(\"m2im/smallLabse_finetuned_twitter\")"
   ]
  },
  {
   "cell_type": "code",
   "execution_count": null,
   "id": "6ae7c059-da4b-4fb7-b440-50ef5d47d84e",
   "metadata": {},
   "outputs": [],
   "source": []
  }
 ],
 "metadata": {
  "kernelspec": {
   "display_name": "Python 3 (ipykernel)",
   "language": "python",
   "name": "python3"
  },
  "language_info": {
   "codemirror_mode": {
    "name": "ipython",
    "version": 3
   },
   "file_extension": ".py",
   "mimetype": "text/x-python",
   "name": "python",
   "nbconvert_exporter": "python",
   "pygments_lexer": "ipython3",
   "version": "3.8.3"
  }
 },
 "nbformat": 4,
 "nbformat_minor": 5
}
