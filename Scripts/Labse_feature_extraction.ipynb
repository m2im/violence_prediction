{
 "cells": [
  {
   "cell_type": "code",
   "execution_count": 1,
   "id": "248f2895",
   "metadata": {},
   "outputs": [
    {
     "name": "stderr",
     "output_type": "stream",
     "text": [
      "2022-10-29 17:58:36.460534: I tensorflow/stream_executor/platform/default/dso_loader.cc:49] Successfully opened dynamic library libcudart.so.11.0\n"
     ]
    }
   ],
   "source": [
    "import torch\n",
    "import transformers\n",
    "import pandas as pd\n",
    "import numpy as np\n",
    "from datasets import load_from_disk\n",
    "from transformers import AutoTokenizer, AutoModel\n",
    "from transformers import BertModel, BertTokenizerFast\n",
    "from umap import UMAP\n",
    "from sklearn.preprocessing import MinMaxScaler"
   ]
  },
  {
   "cell_type": "markdown",
   "id": "7dde9808",
   "metadata": {},
   "source": [
    "### Read the dataset and delete unneccessary colums"
   ]
  },
  {
   "cell_type": "code",
   "execution_count": 2,
   "id": "8681a4b9",
   "metadata": {},
   "outputs": [],
   "source": [
    "violence = load_from_disk(\"../../Violence_data/geo_corpus.0.0.1_datasets\")"
   ]
  },
  {
   "cell_type": "code",
   "execution_count": null,
   "id": "2d9d0e25",
   "metadata": {},
   "outputs": [],
   "source": [
    "violence"
   ]
  },
  {
   "cell_type": "code",
   "execution_count": null,
   "id": "c9afb4c0",
   "metadata": {},
   "outputs": [],
   "source": [
    "train_ds = violence[\"train\"]"
   ]
  },
  {
   "cell_type": "code",
   "execution_count": null,
   "id": "65ca737d",
   "metadata": {},
   "outputs": [],
   "source": [
    "train_ds.features"
   ]
  },
  {
   "cell_type": "code",
   "execution_count": null,
   "id": "e6cd7f06",
   "metadata": {},
   "outputs": [],
   "source": [
    "train_ds.column_names"
   ]
  },
  {
   "cell_type": "code",
   "execution_count": 3,
   "id": "b00fbb9a",
   "metadata": {},
   "outputs": [],
   "source": [
    "remove_cols = ['tweetid', 'retweetid', 'date', 'timestamp', 'username', 'geo_x', 'geo_y', 'key']\n",
    "# remove_cols"
   ]
  },
  {
   "cell_type": "code",
   "execution_count": 4,
   "id": "bb9a24e6",
   "metadata": {},
   "outputs": [],
   "source": [
    "violence = violence.remove_columns(remove_cols)"
   ]
  },
  {
   "cell_type": "code",
   "execution_count": null,
   "id": "b742faa5",
   "metadata": {},
   "outputs": [],
   "source": [
    "print(violence[\"train\"][:5])"
   ]
  },
  {
   "cell_type": "markdown",
   "id": "ef2c1fa8",
   "metadata": {},
   "source": [
    "### From text to tokens"
   ]
  },
  {
   "cell_type": "code",
   "execution_count": 5,
   "id": "8e7e8c85",
   "metadata": {},
   "outputs": [],
   "source": [
    "# Load LABSE model\n",
    "model_ckpt = \"setu4993/LaBSE\"\n",
    "# tokenizer = AutoTokenizer.from_pretrained(model_ckpt)\n",
    "tokenizer = BertTokenizerFast.from_pretrained(model_ckpt)"
   ]
  },
  {
   "cell_type": "code",
   "execution_count": 6,
   "id": "60d1c143",
   "metadata": {},
   "outputs": [
    {
     "name": "stdout",
     "output_type": "stream",
     "text": [
      "{'input_ids': [101, 154820, 73766, 19733, 15002, 170, 31721, 52725, 14997, 124755, 102], 'token_type_ids': [0, 0, 0, 0, 0, 0, 0, 0, 0, 0, 0], 'attention_mask': [1, 1, 1, 1, 1, 1, 1, 1, 1, 1, 1]}\n"
     ]
    }
   ],
   "source": [
    "text = \"Tokenizing text is a core task of NLP\"\n",
    "encoded_text = tokenizer(text)\n",
    "print(encoded_text)"
   ]
  },
  {
   "cell_type": "code",
   "execution_count": 7,
   "id": "6fbe4a95",
   "metadata": {},
   "outputs": [
    {
     "name": "stdout",
     "output_type": "stream",
     "text": [
      "['[CLS]', 'Token', '##izing', 'text', 'is', 'a', 'core', 'task', 'of', 'NLP', '[SEP]']\n"
     ]
    }
   ],
   "source": [
    "# Convert ids back into tokens\n",
    "tokens = tokenizer.convert_ids_to_tokens(encoded_text.input_ids)\n",
    "print(tokens)"
   ]
  },
  {
   "cell_type": "code",
   "execution_count": 8,
   "id": "39e305ea",
   "metadata": {},
   "outputs": [
    {
     "name": "stdout",
     "output_type": "stream",
     "text": [
      "[CLS] Tokenizing text is a core task of NLP [SEP]\n"
     ]
    }
   ],
   "source": [
    "print(tokenizer.convert_tokens_to_string(tokens))"
   ]
  },
  {
   "cell_type": "code",
   "execution_count": 9,
   "id": "b57407c8",
   "metadata": {},
   "outputs": [
    {
     "data": {
      "text/plain": [
       "501153"
      ]
     },
     "execution_count": 9,
     "metadata": {},
     "output_type": "execute_result"
    }
   ],
   "source": [
    "tokenizer.vocab_size"
   ]
  },
  {
   "cell_type": "code",
   "execution_count": 10,
   "id": "f32e663a",
   "metadata": {},
   "outputs": [
    {
     "data": {
      "text/plain": [
       "1000000000000000019884624838656"
      ]
     },
     "execution_count": 10,
     "metadata": {},
     "output_type": "execute_result"
    }
   ],
   "source": [
    "tokenizer.model_max_length"
   ]
  },
  {
   "cell_type": "code",
   "execution_count": 11,
   "id": "bfb22973",
   "metadata": {},
   "outputs": [
    {
     "data": {
      "text/plain": [
       "['input_ids', 'token_type_ids', 'attention_mask']"
      ]
     },
     "execution_count": 11,
     "metadata": {},
     "output_type": "execute_result"
    }
   ],
   "source": [
    "tokenizer.model_input_names"
   ]
  },
  {
   "cell_type": "markdown",
   "id": "42b3dd71",
   "metadata": {},
   "source": [
    "### Tokenizing the whole dataset"
   ]
  },
  {
   "cell_type": "code",
   "execution_count": 12,
   "id": "565f2571",
   "metadata": {},
   "outputs": [],
   "source": [
    "def tokenize(batch):\n",
    "     return tokenizer(batch[\"text\"], padding=True, truncation=True, max_length=32)"
   ]
  },
  {
   "cell_type": "code",
   "execution_count": null,
   "id": "336b4821",
   "metadata": {},
   "outputs": [],
   "source": [
    "print(tokenize(violence[\"train\"].select(range(1000))[:2]))"
   ]
  },
  {
   "cell_type": "code",
   "execution_count": 13,
   "id": "d6ab6c48",
   "metadata": {},
   "outputs": [
    {
     "data": {
      "application/vnd.jupyter.widget-view+json": {
       "model_id": "d5d733292a5247818a29b2387a4123bb",
       "version_major": 2,
       "version_minor": 0
      },
      "text/plain": [
       "  0%|          | 0/1677 [00:00<?, ?ba/s]"
      ]
     },
     "metadata": {},
     "output_type": "display_data"
    },
    {
     "data": {
      "application/vnd.jupyter.widget-view+json": {
       "model_id": "062a085aa977473fb0d763a267e04ff5",
       "version_major": 2,
       "version_minor": 0
      },
      "text/plain": [
       "  0%|          | 0/420 [00:00<?, ?ba/s]"
      ]
     },
     "metadata": {},
     "output_type": "display_data"
    },
    {
     "data": {
      "application/vnd.jupyter.widget-view+json": {
       "model_id": "b6844f0e16ea4113970f5f8ea2a2bcb6",
       "version_major": 2,
       "version_minor": 0
      },
      "text/plain": [
       "  0%|          | 0/233 [00:00<?, ?ba/s]"
      ]
     },
     "metadata": {},
     "output_type": "display_data"
    },
    {
     "name": "stdout",
     "output_type": "stream",
     "text": [
      "CPU times: user 2h 34min 28s, sys: 7min 38s, total: 2h 42min 7s\n",
      "Wall time: 40min 27s\n"
     ]
    }
   ],
   "source": [
    "# Tokenizing the entire dataset\n",
    "# %time violence_encoded = violence[\"train\"].select(range(1000)).map(tokenize, batched=True, batch_size=None)\n",
    "%time violence_encoded = violence.map(tokenize, batched=True, batch_size=10000)"
   ]
  },
  {
   "cell_type": "code",
   "execution_count": 14,
   "id": "98be03bf",
   "metadata": {},
   "outputs": [
    {
     "data": {
      "text/plain": [
       "DatasetDict({\n",
       "    train: Dataset({\n",
       "        features: ['lang', 'text', 'post1geo10', 'post1geo20', 'post1geo30', 'post1geo50', 'post1geo70', 'post2geo10', 'post2geo20', 'post2geo30', 'post2geo50', 'post2geo70', 'post3geo10', 'post3geo20', 'post3geo30', 'post3geo50', 'post3geo70', 'post7geo10', 'post7geo20', 'post7geo30', 'post7geo50', 'post7geo70', 'pre1geo10', 'pre1geo20', 'pre1geo30', 'pre1geo50', 'pre1geo70', 'pre2geo10', 'pre2geo20', 'pre2geo30', 'pre2geo50', 'pre2geo70', 'pre3geo10', 'pre3geo20', 'pre3geo30', 'pre3geo50', 'pre3geo70', 'pre7geo10', 'pre7geo20', 'pre7geo30', 'pre7geo50', 'pre7geo70', 'input_ids', 'token_type_ids', 'attention_mask'],\n",
       "        num_rows: 16769932\n",
       "    })\n",
       "    validation: Dataset({\n",
       "        features: ['lang', 'text', 'post1geo10', 'post1geo20', 'post1geo30', 'post1geo50', 'post1geo70', 'post2geo10', 'post2geo20', 'post2geo30', 'post2geo50', 'post2geo70', 'post3geo10', 'post3geo20', 'post3geo30', 'post3geo50', 'post3geo70', 'post7geo10', 'post7geo20', 'post7geo30', 'post7geo50', 'post7geo70', 'pre1geo10', 'pre1geo20', 'pre1geo30', 'pre1geo50', 'pre1geo70', 'pre2geo10', 'pre2geo20', 'pre2geo30', 'pre2geo50', 'pre2geo70', 'pre3geo10', 'pre3geo20', 'pre3geo30', 'pre3geo50', 'pre3geo70', 'pre7geo10', 'pre7geo20', 'pre7geo30', 'pre7geo50', 'pre7geo70', 'input_ids', 'token_type_ids', 'attention_mask'],\n",
       "        num_rows: 4192483\n",
       "    })\n",
       "    test: Dataset({\n",
       "        features: ['lang', 'text', 'post1geo10', 'post1geo20', 'post1geo30', 'post1geo50', 'post1geo70', 'post2geo10', 'post2geo20', 'post2geo30', 'post2geo50', 'post2geo70', 'post3geo10', 'post3geo20', 'post3geo30', 'post3geo50', 'post3geo70', 'post7geo10', 'post7geo20', 'post7geo30', 'post7geo50', 'post7geo70', 'pre1geo10', 'pre1geo20', 'pre1geo30', 'pre1geo50', 'pre1geo70', 'pre2geo10', 'pre2geo20', 'pre2geo30', 'pre2geo50', 'pre2geo70', 'pre3geo10', 'pre3geo20', 'pre3geo30', 'pre3geo50', 'pre3geo70', 'pre7geo10', 'pre7geo20', 'pre7geo30', 'pre7geo50', 'pre7geo70', 'input_ids', 'token_type_ids', 'attention_mask'],\n",
       "        num_rows: 2329158\n",
       "    })\n",
       "})"
      ]
     },
     "execution_count": 14,
     "metadata": {},
     "output_type": "execute_result"
    }
   ],
   "source": [
    "violence_encoded"
   ]
  },
  {
   "cell_type": "markdown",
   "id": "ab25ec78",
   "metadata": {},
   "source": [
    "### Model"
   ]
  },
  {
   "cell_type": "code",
   "execution_count": 15,
   "id": "4d2566ce",
   "metadata": {},
   "outputs": [],
   "source": [
    "device = torch.device(\"cuda\" if torch.cuda.is_available() else \"cpu\")\n",
    "# model = AutoModel.from_pretrained(model_ckpt).to(device)\n",
    "model = BertModel.from_pretrained(model_ckpt).to(device)"
   ]
  },
  {
   "cell_type": "code",
   "execution_count": 16,
   "id": "eb7b11b8",
   "metadata": {},
   "outputs": [
    {
     "name": "stdout",
     "output_type": "stream",
     "text": [
      "Input tensor shape: torch.Size([1, 8])\n"
     ]
    }
   ],
   "source": [
    "# Extract last hidden state\n",
    "text = \"this is a very interesting text\"\n",
    "inputs = tokenizer(text, return_tensors=\"pt\")\n",
    "print(f\"Input tensor shape: {inputs['input_ids'].size()}\") # [batch_size, n_tokens]"
   ]
  },
  {
   "cell_type": "code",
   "execution_count": 17,
   "id": "d30175bc",
   "metadata": {},
   "outputs": [
    {
     "name": "stdout",
     "output_type": "stream",
     "text": [
      "BaseModelOutputWithPoolingAndCrossAttentions(last_hidden_state=tensor([[[ 0.7190,  0.1322,  0.3555,  ..., -0.1876,  0.8301, -0.0487],\n",
      "         [ 1.3976, -0.7485,  0.5753,  ...,  0.1236,  0.0599, -0.3537],\n",
      "         [ 1.1573, -0.6460,  0.4748,  ...,  0.1060,  0.2727, -0.4909],\n",
      "         ...,\n",
      "         [ 0.9173, -0.9071,  0.2581,  ...,  0.0162,  0.4743, -0.7233],\n",
      "         [ 1.1724, -0.0632,  0.8376,  ...,  0.5579,  0.6323, -0.4354],\n",
      "         [ 0.7190,  0.1322,  0.3555,  ..., -0.1876,  0.8301, -0.0487]]],\n",
      "       device='cuda:0'), pooler_output=tensor([[ 8.3196e-01, -8.7722e-01, -7.3517e-01, -9.5406e-01, -8.1483e-01,\n",
      "          6.2774e-01, -7.8682e-01, -6.3098e-01, -8.6309e-01, -8.9142e-02,\n",
      "          3.8321e-01, -3.0272e-01,  2.5195e-01,  6.8621e-01, -6.3897e-01,\n",
      "         -2.9318e-02, -2.5280e-02,  7.2706e-01,  9.1096e-01, -9.1336e-01,\n",
      "         -8.9190e-01, -6.6604e-01,  4.3566e-01, -4.7941e-02, -1.6338e-01,\n",
      "         -1.2722e-01, -9.8685e-01,  5.1037e-01, -4.7686e-01,  1.4591e-01,\n",
      "         -9.7532e-01, -8.5386e-01, -5.0349e-01,  2.3040e-01, -4.1195e-01,\n",
      "         -9.2162e-01,  2.1198e-01, -1.6849e-01, -4.8736e-01,  6.0134e-01,\n",
      "         -5.6924e-02, -1.2822e-01,  5.4707e-01, -1.2416e-01, -5.6763e-01,\n",
      "          5.6436e-02, -9.8939e-01, -2.8570e-01, -2.0892e-01, -7.0980e-01,\n",
      "         -7.4228e-01, -9.5636e-01, -5.7427e-01, -7.1298e-01, -4.9452e-01,\n",
      "         -9.3363e-01,  3.7597e-01, -4.3159e-01, -3.0081e-01, -4.1698e-01,\n",
      "         -7.1016e-01,  6.5721e-01, -4.4303e-02, -4.9434e-01, -6.2463e-01,\n",
      "         -8.7184e-01, -4.2743e-01,  7.1095e-02, -9.4405e-01, -6.8583e-01,\n",
      "         -6.8711e-01, -1.0470e-01, -4.9823e-01, -7.0484e-01, -9.8371e-01,\n",
      "          1.3424e-01, -6.5329e-02,  3.4541e-01, -9.3701e-01, -7.8759e-01,\n",
      "          3.5347e-01,  7.4229e-01,  8.5128e-02, -4.0252e-01, -7.2426e-01,\n",
      "         -8.5466e-01, -8.1257e-01, -6.1349e-01,  7.2695e-01, -5.7018e-01,\n",
      "         -9.1084e-01,  1.2378e-01, -2.5527e-01, -4.4498e-01, -6.7830e-01,\n",
      "         -8.0842e-01,  5.8568e-02, -8.9549e-01, -1.7137e-01, -2.9573e-01,\n",
      "         -9.0072e-01, -5.2499e-01,  4.7453e-01, -5.7894e-01, -2.8302e-01,\n",
      "         -5.4445e-01, -2.7659e-01, -7.0672e-01, -6.0464e-03, -2.5250e-01,\n",
      "         -9.2840e-01,  3.8760e-01,  2.9379e-01,  3.1634e-01,  5.4456e-01,\n",
      "         -4.0483e-01, -4.2416e-01, -2.1709e-01, -9.6396e-01, -2.6539e-01,\n",
      "          2.9651e-01,  2.9517e-01, -7.2897e-01, -6.5882e-01, -8.9967e-01,\n",
      "         -9.3031e-01, -3.8873e-01,  1.0238e-01, -2.3638e-01, -9.4334e-01,\n",
      "         -7.4399e-01,  1.0901e-01, -9.2793e-01, -3.5016e-01,  2.6275e-02,\n",
      "         -8.3120e-01, -5.2879e-01, -4.9524e-01, -2.3414e-01,  1.1124e-01,\n",
      "         -6.6123e-01,  3.3995e-01,  2.8748e-01, -9.5394e-01, -6.1965e-01,\n",
      "         -6.0292e-01, -7.1165e-01,  2.7976e-01, -5.9812e-01, -9.8897e-01,\n",
      "         -6.0245e-01, -5.2373e-01, -1.7221e-02, -6.4154e-01,  4.6492e-01,\n",
      "          7.4516e-03, -4.1723e-01, -6.1610e-01, -2.8564e-01, -1.7299e-02,\n",
      "         -2.5958e-01,  5.6602e-01, -9.6553e-01, -3.2955e-01, -4.4728e-01,\n",
      "         -5.3773e-01, -2.3503e-01,  3.2384e-01,  5.4542e-03, -3.1534e-01,\n",
      "          4.3720e-01,  7.4883e-01, -5.6483e-01, -8.0483e-01, -7.3457e-01,\n",
      "         -8.5320e-01, -4.0126e-01,  3.5945e-01,  5.3036e-02, -9.1426e-01,\n",
      "         -4.7707e-01, -2.8325e-01,  7.0252e-01, -9.7860e-01,  7.0581e-01,\n",
      "         -9.0406e-02, -1.3639e-03, -9.6296e-01, -4.2589e-01, -5.9849e-01,\n",
      "          1.1576e-01,  8.3477e-01, -8.9224e-01, -1.9590e-02,  7.1476e-02,\n",
      "         -6.6334e-01,  2.4234e-01,  7.6031e-01, -7.7631e-01, -3.2792e-01,\n",
      "         -2.3755e-01, -5.0210e-01, -7.1077e-01,  2.2606e-01, -7.7108e-01,\n",
      "         -7.8972e-01, -5.4833e-01, -2.8617e-01, -3.8320e-01, -8.5438e-01,\n",
      "         -1.7021e-01,  5.8126e-01, -2.2699e-01,  9.1851e-02, -7.5773e-01,\n",
      "         -9.5293e-01, -9.9269e-01, -6.4457e-01,  1.7248e-01, -7.5553e-01,\n",
      "         -9.9270e-02,  1.8818e-01,  7.7911e-01,  3.8512e-02, -6.8370e-01,\n",
      "         -8.9283e-01, -2.5393e-01,  2.6677e-01, -3.9449e-01, -4.3654e-01,\n",
      "         -9.4355e-01, -7.0034e-01, -8.2003e-01, -8.8638e-01, -1.2045e-01,\n",
      "         -2.9061e-01, -7.4864e-01, -9.1582e-01,  5.3576e-01, -9.5004e-01,\n",
      "          7.6731e-01,  1.6232e-01, -1.4505e-01,  2.2182e-01, -2.7562e-01,\n",
      "         -2.1138e-01, -1.9331e-01,  6.5979e-01,  7.7141e-01, -8.6286e-01,\n",
      "          1.8456e-01, -9.3695e-01, -8.8424e-01, -6.3593e-03, -5.8968e-01,\n",
      "         -2.5350e-01, -8.2966e-01,  6.6570e-01, -5.9305e-01, -9.5425e-01,\n",
      "         -1.9200e-01, -2.7411e-01,  3.6880e-01, -5.7576e-01, -7.1637e-01,\n",
      "         -3.0963e-01,  1.0771e-01, -3.7996e-01, -4.9166e-01, -8.0303e-01,\n",
      "         -1.2380e-01,  1.3065e-03,  1.9755e-01, -9.3500e-01, -7.2363e-01,\n",
      "         -9.7818e-01,  6.6716e-01, -9.2002e-01,  2.7865e-01,  7.3936e-01,\n",
      "         -7.5738e-01,  1.1929e-01, -9.3822e-01, -5.3515e-01, -2.6939e-01,\n",
      "         -5.9468e-01,  4.1973e-01, -9.7426e-01, -3.6022e-01,  4.8957e-01,\n",
      "         -5.1707e-01, -3.8364e-01, -7.9028e-01, -7.7594e-02, -4.2334e-01,\n",
      "         -8.1388e-01, -8.3750e-01, -6.4602e-02, -5.2003e-01,  4.9911e-01,\n",
      "         -5.6018e-01,  4.3194e-01, -5.5659e-01, -7.9523e-01, -5.3467e-01,\n",
      "         -6.1441e-01, -1.7856e-01, -7.0051e-01, -5.3146e-01, -5.7906e-01,\n",
      "         -4.9398e-01, -6.8143e-01, -9.6859e-01,  1.1422e-01, -7.2345e-01,\n",
      "          2.6745e-01, -9.7219e-01, -6.8477e-01, -3.5391e-02,  2.6005e-01,\n",
      "         -5.3055e-01, -4.5274e-01, -3.5824e-01, -1.8427e-01, -7.8566e-01,\n",
      "          2.1614e-01, -6.5864e-01, -5.3884e-03, -4.2514e-02, -7.3144e-01,\n",
      "          3.4197e-01, -7.7435e-01,  1.6050e-01,  2.6105e-01, -2.8035e-01,\n",
      "         -9.0551e-01,  1.3910e-01,  3.6915e-01, -2.6856e-01, -8.3360e-01,\n",
      "          1.5613e-01,  7.4637e-01, -3.1685e-01, -9.4139e-01, -5.5640e-01,\n",
      "         -6.9857e-01, -5.7514e-01, -4.9039e-01, -3.3530e-01,  3.4241e-01,\n",
      "         -7.7267e-01, -2.3947e-01,  7.3715e-01, -1.5392e-01,  4.5476e-01,\n",
      "         -9.4463e-01,  7.9429e-01,  4.1764e-02, -9.5605e-01,  1.2293e-01,\n",
      "         -7.5718e-01, -7.6851e-01, -9.2515e-01, -8.4005e-01, -4.9359e-01,\n",
      "         -2.6306e-02, -7.8715e-02,  5.2218e-01, -2.8871e-01, -5.5516e-01,\n",
      "          3.2091e-01,  7.0040e-01,  4.2967e-01, -3.2355e-01,  2.2139e-01,\n",
      "         -8.8649e-01, -3.3862e-01, -5.1448e-01, -8.8916e-01,  9.9525e-02,\n",
      "         -5.5181e-01, -8.9936e-01, -8.7418e-01,  5.0806e-01, -7.7876e-01,\n",
      "         -8.1580e-01, -5.7075e-01, -3.9419e-01, -8.5300e-01, -4.8504e-01,\n",
      "          4.1977e-02,  4.6579e-01, -5.8047e-01, -6.9266e-01,  3.7524e-01,\n",
      "          5.6850e-01, -1.7361e-01, -3.0695e-01,  5.1860e-01,  6.2171e-01,\n",
      "          2.6885e-01, -8.3305e-01, -9.5529e-01, -7.2573e-01,  7.6805e-02,\n",
      "         -4.8364e-01, -6.5782e-04,  1.0696e-01, -9.4291e-01, -6.4905e-01,\n",
      "          7.5854e-02, -7.7030e-01, -8.3785e-01, -3.3358e-01, -8.0237e-01,\n",
      "         -9.9099e-01, -9.7344e-01, -5.9225e-01, -8.9214e-01, -5.8781e-01,\n",
      "         -8.4911e-01, -6.4491e-01, -7.3841e-01, -5.6851e-01,  2.1470e-01,\n",
      "         -6.9249e-01, -8.9263e-01, -8.5258e-02,  1.5517e-01, -5.1958e-01,\n",
      "          5.0484e-01, -8.8821e-01, -9.2598e-01, -5.7974e-01, -1.0516e-01,\n",
      "          7.4140e-01,  1.1881e-01, -9.2524e-01, -7.8122e-02, -7.5166e-01,\n",
      "         -7.9177e-01,  6.7736e-02,  3.9417e-01,  5.8370e-01,  5.6079e-01,\n",
      "          4.9986e-01, -8.8897e-01, -9.7778e-01,  8.4878e-02, -9.1821e-01,\n",
      "         -1.3048e-01,  1.9685e-01,  6.5849e-01, -4.9476e-01, -9.8443e-01,\n",
      "         -2.8648e-01,  6.7666e-01, -9.6054e-01,  7.7712e-01, -8.0038e-01,\n",
      "          4.4045e-01, -7.8912e-01,  5.6982e-01,  4.4125e-01, -4.9029e-01,\n",
      "         -9.4764e-01,  8.7209e-01, -6.8920e-01, -1.4886e-01,  4.9439e-01,\n",
      "         -9.4732e-01, -1.2875e-01, -4.7373e-01, -9.9062e-01, -4.7546e-01,\n",
      "          3.3849e-01, -7.8535e-01, -6.4628e-01, -3.4793e-01,  3.9185e-01,\n",
      "         -3.7959e-01, -4.4795e-01, -9.0395e-01, -9.5140e-01,  7.6085e-01,\n",
      "         -7.4286e-01, -9.5948e-01,  8.9128e-01, -8.3522e-01, -9.8674e-01,\n",
      "          3.5569e-01,  7.1570e-02, -4.2967e-01,  4.4736e-01, -6.2129e-01,\n",
      "         -6.0452e-01, -6.1591e-01,  2.4477e-02, -5.7586e-01, -9.3282e-01,\n",
      "         -8.8307e-01, -9.2642e-01, -8.6272e-01, -3.7214e-01, -6.0084e-01,\n",
      "         -7.1646e-01,  6.1994e-01,  4.5209e-01, -4.8159e-02, -8.6841e-01,\n",
      "          2.2521e-01,  1.5825e-01, -7.9887e-01, -7.8153e-01, -5.7858e-01,\n",
      "         -8.4370e-01,  5.1080e-01, -8.9832e-01,  8.4669e-01,  7.1843e-01,\n",
      "          2.0218e-01,  2.4667e-01, -2.4752e-01,  6.0930e-01, -7.8817e-01,\n",
      "         -8.9891e-01, -1.4493e-01, -6.6667e-01, -3.4065e-01, -9.5640e-01,\n",
      "         -5.7709e-01, -3.6272e-01, -7.2636e-01,  6.8750e-02, -8.4534e-02,\n",
      "         -9.7133e-02, -3.7847e-01, -4.3413e-01, -9.5056e-01, -7.4873e-01,\n",
      "         -8.2247e-01, -2.8740e-01, -4.3164e-01, -4.1697e-01,  5.7901e-01,\n",
      "         -2.4975e-01,  2.5691e-01, -6.8283e-01, -4.3218e-01, -9.7102e-01,\n",
      "         -3.0804e-02, -7.7128e-02, -1.7365e-01, -3.8120e-01, -2.2460e-01,\n",
      "         -7.9433e-01, -9.0243e-01, -3.7959e-01, -4.1734e-01, -8.6360e-01,\n",
      "          2.8334e-03, -7.1738e-01, -2.4459e-01, -9.7830e-01,  2.2182e-01,\n",
      "         -4.7454e-01,  2.5271e-01,  1.3993e-01, -7.3956e-01,  3.7864e-01,\n",
      "         -6.6091e-01,  9.2057e-02, -4.8622e-02, -8.1264e-01, -9.3298e-02,\n",
      "          4.1107e-02, -8.3526e-01, -2.3500e-02, -2.7310e-01, -2.4299e-02,\n",
      "         -7.1442e-01, -8.6237e-01, -9.1413e-03,  4.0131e-01,  7.1207e-01,\n",
      "          7.2007e-01, -6.4486e-01, -5.5824e-01,  1.7257e-01, -4.1689e-01,\n",
      "         -5.3621e-01, -1.8994e-01, -9.8158e-01,  1.5946e-01,  5.8859e-01,\n",
      "         -7.2880e-01,  8.8936e-01, -6.9519e-01,  3.1006e-01,  4.0324e-01,\n",
      "         -2.4792e-02, -7.3303e-01, -8.0577e-01, -6.4745e-01, -6.1089e-01,\n",
      "         -7.2985e-01, -8.4785e-01,  1.8251e-01, -9.6395e-01,  1.3590e-01,\n",
      "         -1.8042e-01, -5.9956e-01, -4.0358e-01,  6.8947e-01, -9.6547e-01,\n",
      "         -8.5880e-01,  6.7724e-01, -7.2051e-01, -2.0552e-01, -4.7820e-01,\n",
      "          5.7014e-01, -2.1252e-02,  3.9708e-01, -9.2741e-01,  1.4611e-01,\n",
      "         -9.3421e-01,  3.5474e-01,  4.2667e-01, -7.8793e-01, -7.3661e-01,\n",
      "          2.2175e-01,  4.1238e-01,  3.7397e-02, -9.7593e-01,  1.5136e-01,\n",
      "         -8.8481e-01,  2.9981e-01, -4.7718e-01, -3.2514e-01, -8.4353e-01,\n",
      "         -5.2860e-02, -9.1685e-01, -7.8574e-01, -9.3178e-01, -4.4027e-02,\n",
      "         -6.0840e-01, -7.9229e-01,  4.3491e-02, -6.2795e-01,  2.0035e-01,\n",
      "         -6.9821e-01,  3.9722e-02,  6.5852e-01, -6.5931e-01,  4.2328e-01,\n",
      "         -4.4846e-01, -5.8170e-01, -3.1910e-01, -8.8480e-01,  5.2312e-01,\n",
      "          6.6384e-01,  4.0858e-01, -4.0553e-01,  3.9450e-01, -5.5126e-01,\n",
      "         -3.1439e-01, -5.5124e-01, -6.3655e-01, -6.2342e-01, -6.1709e-01,\n",
      "          9.6904e-02, -3.4756e-01,  3.4519e-01, -5.4539e-01, -6.3024e-01,\n",
      "          4.5847e-01, -4.1626e-02, -9.0400e-01, -4.4483e-01,  4.1623e-01,\n",
      "         -8.0915e-01, -8.3213e-01, -6.8880e-01, -9.4626e-01, -7.9926e-01,\n",
      "         -1.3729e-01, -8.0793e-01,  1.4980e-01,  3.1914e-01, -1.4546e-01,\n",
      "         -7.7801e-01, -7.3318e-01, -8.3172e-01, -6.9788e-01, -4.4516e-01,\n",
      "         -4.4663e-01, -5.2413e-01, -2.0165e-01, -8.3740e-01, -9.0487e-01,\n",
      "          2.0408e-01, -8.7564e-01,  5.2816e-01, -1.5974e-01, -9.1301e-01,\n",
      "         -5.3618e-01, -6.8956e-01, -4.2796e-01,  3.8304e-01, -1.4724e-01,\n",
      "         -8.2851e-01, -7.5882e-01, -3.2539e-01,  4.3654e-01,  2.4710e-01,\n",
      "         -7.1731e-01, -1.2702e-01,  4.5851e-01,  6.5665e-04, -9.8197e-01,\n",
      "         -2.9050e-01,  2.6870e-01,  8.4459e-01, -5.3929e-01,  1.0738e-01,\n",
      "         -7.8762e-01,  3.6933e-01, -1.6551e-01,  3.9762e-01,  3.2458e-01,\n",
      "         -8.1000e-01, -4.0646e-01,  5.3303e-01, -9.5529e-01, -2.6442e-01,\n",
      "         -9.5337e-01, -5.0946e-01, -9.6039e-01, -3.3871e-01, -6.6370e-01,\n",
      "         -3.2677e-01, -7.2009e-01, -6.9446e-02, -6.4970e-02,  7.1997e-02,\n",
      "         -8.5637e-01, -4.6727e-01, -8.6788e-01, -3.6168e-01, -4.9524e-01,\n",
      "          3.6691e-01,  7.5720e-01, -8.9008e-02, -8.8029e-01,  1.1097e-01,\n",
      "         -6.0495e-01, -3.9999e-01, -1.4884e-01,  3.1506e-01, -8.9415e-01,\n",
      "         -9.1693e-01,  1.0519e-01, -2.4741e-01, -8.0334e-01, -9.8635e-01,\n",
      "         -2.2191e-01, -5.9344e-03,  2.7678e-01]], device='cuda:0'), hidden_states=None, past_key_values=None, attentions=None, cross_attentions=None)\n"
     ]
    }
   ],
   "source": [
    "inputs = {k:v.to(device) for k,v in inputs.items()}\n",
    "with torch.no_grad():\n",
    "    outputs = model(**inputs)\n",
    "print(outputs)"
   ]
  },
  {
   "cell_type": "code",
   "execution_count": 18,
   "id": "f49c1fea",
   "metadata": {},
   "outputs": [
    {
     "data": {
      "text/plain": [
       "torch.Size([1, 8, 768])"
      ]
     },
     "execution_count": 18,
     "metadata": {},
     "output_type": "execute_result"
    }
   ],
   "source": [
    "outputs.last_hidden_state.size() # batch_size, n_tokens, hidden_dim (768)"
   ]
  },
  {
   "cell_type": "code",
   "execution_count": 19,
   "id": "0c0b4191",
   "metadata": {},
   "outputs": [
    {
     "data": {
      "text/plain": [
       "torch.Size([1, 768])"
      ]
     },
     "execution_count": 19,
     "metadata": {},
     "output_type": "execute_result"
    }
   ],
   "source": [
    "# Extract CLS token\n",
    "outputs.last_hidden_state[:,0].size()"
   ]
  },
  {
   "cell_type": "code",
   "execution_count": 20,
   "id": "53c4db65",
   "metadata": {},
   "outputs": [],
   "source": [
    "# Create function to extract hidden state\n",
    "def extract_hidden_states(batch):\n",
    "    # Place model inputs on the GPU\n",
    "    inputs = {k:v.to(device) for k,v in batch.items()\n",
    "             if k in tokenizer.model_input_names}\n",
    "    # Extract last hidden states\n",
    "    with torch.no_grad():\n",
    "        last_hidden_state = model(**inputs).last_hidden_state\n",
    "    # Return vector for [CLS] token\n",
    "    return {\"hidden_state\": last_hidden_state[:,0].cpu().numpy()}"
   ]
  },
  {
   "cell_type": "code",
   "execution_count": 30,
   "id": "d00855e0",
   "metadata": {},
   "outputs": [],
   "source": [
    "violence_encoded.set_format(\"torch\",\n",
    "                           columns=[\"input_ids\", \"token_type_ids\", \"attention_mask\", \n",
    "                                    \"pre7geo10\", \"pre7geo30\", \"pre7geo50\",\n",
    "                                    \"post7geo10\", \"post7geo30\", \"post7geo50\"])"
   ]
  },
  {
   "cell_type": "code",
   "execution_count": 32,
   "id": "c41729d3",
   "metadata": {},
   "outputs": [
    {
     "data": {
      "application/vnd.jupyter.widget-view+json": {
       "model_id": "28f54812b7804c93950e0f76a63a6834",
       "version_major": 2,
       "version_minor": 0
      },
      "text/plain": [
       "  0%|          | 0/16770 [00:00<?, ?ba/s]"
      ]
     },
     "metadata": {},
     "output_type": "display_data"
    },
    {
     "data": {
      "application/vnd.jupyter.widget-view+json": {
       "model_id": "56dab4fbd245491e9a2ce09d69be7d38",
       "version_major": 2,
       "version_minor": 0
      },
      "text/plain": [
       "  0%|          | 0/4193 [00:00<?, ?ba/s]"
      ]
     },
     "metadata": {},
     "output_type": "display_data"
    },
    {
     "data": {
      "application/vnd.jupyter.widget-view+json": {
       "model_id": "96ff552eec1345aa877e9073c7db6191",
       "version_major": 2,
       "version_minor": 0
      },
      "text/plain": [
       "  0%|          | 0/2330 [00:00<?, ?ba/s]"
      ]
     },
     "metadata": {},
     "output_type": "display_data"
    },
    {
     "name": "stdout",
     "output_type": "stream",
     "text": [
      "CPU times: user 22h 37min 52s, sys: 4min 14s, total: 22h 42min 6s\n",
      "Wall time: 12h 32min 25s\n"
     ]
    }
   ],
   "source": [
    "%time violence_hidden = violence_encoded.map(extract_hidden_states, batched=True, batch_size=1000)"
   ]
  },
  {
   "cell_type": "markdown",
   "id": "7bb145c2",
   "metadata": {},
   "source": [
    "### Save dataset (including the tokenizer) to disk"
   ]
  },
  {
   "cell_type": "code",
   "execution_count": 34,
   "id": "06690c1d",
   "metadata": {},
   "outputs": [
    {
     "name": "stdout",
     "output_type": "stream",
     "text": [
      "CPU times: user 9.37 s, sys: 1min 14s, total: 1min 23s\n",
      "Wall time: 2min 11s\n"
     ]
    }
   ],
   "source": [
    "%time violence_hidden.save_to_disk(\"../../Violence_data/geo_corpus.0.0.1_datasets_hidden_labse\")"
   ]
  },
  {
   "cell_type": "code",
   "execution_count": 33,
   "id": "38fb90f0",
   "metadata": {},
   "outputs": [
    {
     "data": {
      "text/plain": [
       "DatasetDict({\n",
       "    train: Dataset({\n",
       "        features: ['lang', 'text', 'post1geo10', 'post1geo20', 'post1geo30', 'post1geo50', 'post1geo70', 'post2geo10', 'post2geo20', 'post2geo30', 'post2geo50', 'post2geo70', 'post3geo10', 'post3geo20', 'post3geo30', 'post3geo50', 'post3geo70', 'post7geo10', 'post7geo20', 'post7geo30', 'post7geo50', 'post7geo70', 'pre1geo10', 'pre1geo20', 'pre1geo30', 'pre1geo50', 'pre1geo70', 'pre2geo10', 'pre2geo20', 'pre2geo30', 'pre2geo50', 'pre2geo70', 'pre3geo10', 'pre3geo20', 'pre3geo30', 'pre3geo50', 'pre3geo70', 'pre7geo10', 'pre7geo20', 'pre7geo30', 'pre7geo50', 'pre7geo70', 'input_ids', 'token_type_ids', 'attention_mask', 'hidden_state'],\n",
       "        num_rows: 16769932\n",
       "    })\n",
       "    validation: Dataset({\n",
       "        features: ['lang', 'text', 'post1geo10', 'post1geo20', 'post1geo30', 'post1geo50', 'post1geo70', 'post2geo10', 'post2geo20', 'post2geo30', 'post2geo50', 'post2geo70', 'post3geo10', 'post3geo20', 'post3geo30', 'post3geo50', 'post3geo70', 'post7geo10', 'post7geo20', 'post7geo30', 'post7geo50', 'post7geo70', 'pre1geo10', 'pre1geo20', 'pre1geo30', 'pre1geo50', 'pre1geo70', 'pre2geo10', 'pre2geo20', 'pre2geo30', 'pre2geo50', 'pre2geo70', 'pre3geo10', 'pre3geo20', 'pre3geo30', 'pre3geo50', 'pre3geo70', 'pre7geo10', 'pre7geo20', 'pre7geo30', 'pre7geo50', 'pre7geo70', 'input_ids', 'token_type_ids', 'attention_mask', 'hidden_state'],\n",
       "        num_rows: 4192483\n",
       "    })\n",
       "    test: Dataset({\n",
       "        features: ['lang', 'text', 'post1geo10', 'post1geo20', 'post1geo30', 'post1geo50', 'post1geo70', 'post2geo10', 'post2geo20', 'post2geo30', 'post2geo50', 'post2geo70', 'post3geo10', 'post3geo20', 'post3geo30', 'post3geo50', 'post3geo70', 'post7geo10', 'post7geo20', 'post7geo30', 'post7geo50', 'post7geo70', 'pre1geo10', 'pre1geo20', 'pre1geo30', 'pre1geo50', 'pre1geo70', 'pre2geo10', 'pre2geo20', 'pre2geo30', 'pre2geo50', 'pre2geo70', 'pre3geo10', 'pre3geo20', 'pre3geo30', 'pre3geo50', 'pre3geo70', 'pre7geo10', 'pre7geo20', 'pre7geo30', 'pre7geo50', 'pre7geo70', 'input_ids', 'token_type_ids', 'attention_mask', 'hidden_state'],\n",
       "        num_rows: 2329158\n",
       "    })\n",
       "})"
      ]
     },
     "execution_count": 33,
     "metadata": {},
     "output_type": "execute_result"
    }
   ],
   "source": [
    "violence_hidden"
   ]
  },
  {
   "cell_type": "code",
   "execution_count": 26,
   "id": "15858140",
   "metadata": {},
   "outputs": [
    {
     "data": {
      "text/plain": [
       "{'post7geo30': tensor(1),\n",
       " 'pre7geo30': tensor(0),\n",
       " 'input_ids': tensor([   101,  31932,  14980,  38446,    117,    194,  14979, 168932,  14976,\n",
       "          27403,  14980,  73122,    113,  16222,    114,    102,      0,      0,\n",
       "              0,      0,      0,      0,      0,      0,      0,      0,      0,\n",
       "              0,      0,      0,      0,      0,      0,      0,      0,      0,\n",
       "              0,      0,      0,      0,      0,      0,      0,      0,      0,\n",
       "              0,      0,      0,      0,      0,      0,      0,      0,      0,\n",
       "              0,      0,      0,      0,      0,      0,      0,      0,      0,\n",
       "              0,      0,      0,      0,      0,      0,      0,      0,      0,\n",
       "              0,      0,      0,      0,      0,      0,      0,      0,      0,\n",
       "              0,      0,      0,      0,      0,      0,      0,      0,      0,\n",
       "              0,      0,      0,      0,      0,      0,      0,      0,      0,\n",
       "              0,      0,      0]),\n",
       " 'token_type_ids': tensor([0, 0, 0, 0, 0, 0, 0, 0, 0, 0, 0, 0, 0, 0, 0, 0, 0, 0, 0, 0, 0, 0, 0, 0,\n",
       "         0, 0, 0, 0, 0, 0, 0, 0, 0, 0, 0, 0, 0, 0, 0, 0, 0, 0, 0, 0, 0, 0, 0, 0,\n",
       "         0, 0, 0, 0, 0, 0, 0, 0, 0, 0, 0, 0, 0, 0, 0, 0, 0, 0, 0, 0, 0, 0, 0, 0,\n",
       "         0, 0, 0, 0, 0, 0, 0, 0, 0, 0, 0, 0, 0, 0, 0, 0, 0, 0, 0, 0, 0, 0, 0, 0,\n",
       "         0, 0, 0, 0, 0, 0]),\n",
       " 'attention_mask': tensor([1, 1, 1, 1, 1, 1, 1, 1, 1, 1, 1, 1, 1, 1, 1, 1, 0, 0, 0, 0, 0, 0, 0, 0,\n",
       "         0, 0, 0, 0, 0, 0, 0, 0, 0, 0, 0, 0, 0, 0, 0, 0, 0, 0, 0, 0, 0, 0, 0, 0,\n",
       "         0, 0, 0, 0, 0, 0, 0, 0, 0, 0, 0, 0, 0, 0, 0, 0, 0, 0, 0, 0, 0, 0, 0, 0,\n",
       "         0, 0, 0, 0, 0, 0, 0, 0, 0, 0, 0, 0, 0, 0, 0, 0, 0, 0, 0, 0, 0, 0, 0, 0,\n",
       "         0, 0, 0, 0, 0, 0]),\n",
       " 'hidden_state': tensor([-5.7301e-01, -3.6266e-01, -6.5522e-01, -1.1810e-01, -2.1852e-02,\n",
       "         -1.7682e-01,  2.3948e-01,  4.6764e-01,  3.3760e-01,  5.1502e-01,\n",
       "         -1.1873e+00,  1.9173e-01,  7.7091e-02,  7.0833e-01,  4.0902e-01,\n",
       "         -9.7551e-01,  2.8156e-01,  7.3290e-01,  1.9941e-01,  5.6419e-01,\n",
       "         -4.1529e-01, -3.0976e-01, -2.7578e-01, -4.5658e-01, -4.6504e-01,\n",
       "          9.0985e-01,  1.7851e-01, -2.5159e-03, -6.1542e-01,  2.3941e-02,\n",
       "          6.7531e-01, -2.0658e-01, -5.9718e-01,  9.7066e-01, -9.9931e-01,\n",
       "          1.5738e-01, -1.0954e-01, -2.9480e-01,  1.2361e+00,  1.5858e-01,\n",
       "          9.9792e-01, -3.6096e-01,  7.2275e-01,  4.6473e-01,  3.4698e-01,\n",
       "         -1.5005e-01,  3.7138e-01,  4.1938e-02,  4.8832e-02, -3.8064e-01,\n",
       "          3.1274e-01,  3.8649e-01,  5.8469e-02,  2.3660e-01,  7.3991e-02,\n",
       "         -7.3774e-03,  9.6105e-03, -4.2526e-02,  4.5946e-01,  4.3319e-01,\n",
       "         -4.1569e-01,  3.2977e-01, -3.3302e-01,  6.3359e-01,  6.7900e-01,\n",
       "          2.1590e-01,  4.0065e-02,  6.0193e-03,  3.9915e-01, -1.6057e-04,\n",
       "         -3.4191e-02,  7.0545e-01,  7.4525e-01, -3.4560e-01, -4.0384e-01,\n",
       "         -1.0258e+00, -2.7702e-01,  1.0725e+00, -1.0133e-01, -1.5419e+00,\n",
       "          1.9531e-01, -5.8154e-01,  4.5068e-01, -2.6095e-01,  7.7533e-01,\n",
       "          6.7756e-02,  8.8169e-02,  5.2006e-01, -6.0600e-01,  3.2371e-01,\n",
       "         -1.7219e-02, -9.9295e-02,  5.6684e-01, -1.7956e-01,  1.0459e-01,\n",
       "          5.5142e-01,  2.8112e-01,  7.2375e-01, -8.1269e-01, -4.0248e-01,\n",
       "         -6.5286e-01, -4.1126e-02,  1.8602e-01,  1.1125e+00,  1.8571e-01,\n",
       "          1.4732e-01, -3.4697e-01,  6.5835e-01,  5.4395e-01, -2.3714e-01,\n",
       "         -2.5569e-02, -2.9181e-02, -4.7320e-01, -5.8215e-01,  4.1045e-01,\n",
       "          4.7051e-01,  5.7847e-01, -3.8643e-01,  2.9032e-01, -2.4460e-01,\n",
       "         -1.3770e-01, -8.4206e-01, -1.9287e-01, -7.8003e-01, -9.4419e-02,\n",
       "         -4.3804e-01, -8.3928e-02, -6.0228e-01, -2.8938e-01, -7.9289e-02,\n",
       "          4.2242e-01,  3.2990e-02,  1.0263e-01, -4.0642e-01, -2.7066e-01,\n",
       "          7.5327e-01,  2.5862e-01,  2.4701e-01,  1.7972e-01,  3.3875e-01,\n",
       "          1.2854e+00,  6.4244e-01, -4.6511e-01,  1.9355e+00,  4.5713e-01,\n",
       "          1.0698e+00, -4.2468e-01,  6.4187e-01, -1.5037e-01,  5.4067e-01,\n",
       "         -1.4242e+00,  1.3516e+00,  6.7834e-02, -6.6019e-02,  6.4511e-01,\n",
       "          1.1910e+00,  7.4436e-01,  5.5902e-01,  5.8192e-02,  1.0637e+00,\n",
       "         -5.4382e-02,  1.4612e-01, -1.0459e+00,  6.0500e-01,  5.4206e-01,\n",
       "          5.4618e-01, -4.6603e-02, -2.8585e-01,  1.7798e-02, -3.7591e-01,\n",
       "         -1.2871e+00, -1.9702e-01,  6.6398e-01, -7.7365e-02, -9.1375e-03,\n",
       "          3.4765e-01, -8.0881e-01, -8.1908e-02, -4.9618e-01,  2.2579e-01,\n",
       "         -3.7929e-01, -5.0050e-01,  4.0496e-01,  7.9911e-01,  5.7361e-02,\n",
       "         -2.9111e-02,  1.1805e+00, -1.8701e-02,  2.9685e-01,  6.9543e-01,\n",
       "         -1.3460e-01, -6.8221e-02,  4.1522e-01, -3.6045e-01,  8.1351e-01,\n",
       "          2.1890e-01,  5.8355e-01, -2.5964e-01, -5.0129e-02,  1.4700e-01,\n",
       "         -3.0207e-01, -5.4566e-01, -2.9979e-01,  2.3535e-01,  4.2697e-01,\n",
       "          7.3119e-01, -5.7556e-01,  1.5454e-01, -1.8117e-02, -7.6639e-01,\n",
       "          9.4168e-01, -4.1767e-02,  6.3044e-01, -3.5171e-01,  3.0210e-01,\n",
       "          9.1969e-01, -2.6784e-01,  3.8624e-01,  6.8294e-01, -1.3534e+00,\n",
       "         -1.4128e-01,  3.9870e-01,  6.7411e+00,  6.7230e-02, -1.4670e-01,\n",
       "          3.6492e-01,  2.0201e-01, -3.0818e-01,  8.3819e-02,  7.6728e-01,\n",
       "          2.5772e-01,  6.6951e-01,  1.3479e-01,  8.7013e-01,  6.2548e-02,\n",
       "          5.5483e-01, -5.0898e-03,  2.1563e-01,  1.4087e-01,  4.3623e-01,\n",
       "          8.9088e-01,  2.1025e-01,  9.8727e-01,  6.6064e-01,  2.7610e-01,\n",
       "          4.9315e-01, -3.4999e-01, -5.6397e-01, -1.2074e-02,  4.4598e-01,\n",
       "         -1.5634e-01,  8.0552e-01,  4.1888e-01,  1.7838e-01,  2.7089e-01,\n",
       "         -7.2703e-02,  3.7403e-01,  1.8441e-01,  1.9241e-01, -1.7912e-01,\n",
       "          3.8169e-01, -3.6918e-01,  3.8192e-02,  8.9164e-02, -7.2692e-01,\n",
       "          1.7004e-01,  4.2779e-01,  3.0120e-01, -1.3394e-01,  8.0982e-02,\n",
       "         -5.0487e-01, -3.1999e-01, -1.7714e-01,  1.9048e-01, -2.0090e-01,\n",
       "          2.5517e-03,  3.0072e-01,  7.5032e-01, -4.6090e-01, -2.6048e-03,\n",
       "          6.2302e-01, -8.2188e-02,  1.4255e-01, -9.2594e-04,  6.0232e-01,\n",
       "          1.1213e-01,  9.4050e-01,  8.4587e-01, -6.8828e-01, -1.0411e-01,\n",
       "          1.5696e-02,  6.7461e-01,  1.6473e-01,  3.8039e-01,  5.5643e-01,\n",
       "          6.8159e-01, -4.9087e-01,  2.3152e-01, -1.4929e-01,  7.8889e-01,\n",
       "          5.1987e-01,  6.8102e-02,  1.0265e-01, -1.0350e+00,  1.4196e-01,\n",
       "          6.2380e-01, -2.1593e-01, -8.3775e-01,  1.9153e-02,  2.6605e-01,\n",
       "          1.0601e+00,  1.2681e-01,  8.3158e-01, -2.4734e-01,  4.0355e-01,\n",
       "         -7.5720e-01, -1.4352e-01,  1.2633e-01,  1.3261e-01,  5.7158e-03,\n",
       "          2.3165e-01,  8.2100e-01,  3.3209e-01,  2.8274e-01, -5.5392e-01,\n",
       "         -7.7828e-01, -9.8740e-02, -4.7980e-01,  1.7832e-01,  3.3161e-02,\n",
       "          4.6295e-01,  9.3518e-01, -5.7324e-01, -2.4626e-01, -3.8705e-01,\n",
       "          4.3092e-01, -5.9730e-01, -1.3003e-01,  4.4522e-02,  5.2219e-01,\n",
       "         -6.1852e-01, -2.6403e-01,  6.6813e-02, -1.4443e-01, -3.7126e-01,\n",
       "         -3.6563e-02,  7.4552e-01,  5.3194e-02, -1.8293e-01,  2.8289e-01,\n",
       "         -2.6943e-01, -6.3617e-02, -1.3154e-01,  3.4882e-01,  2.6878e-01,\n",
       "         -3.3409e-01,  2.7259e-01,  1.5041e-01,  1.4927e-01,  8.0494e-02,\n",
       "         -1.8690e-01, -5.5666e-01, -3.3147e-01,  1.6182e-01,  2.5270e-01,\n",
       "         -2.0401e-01,  7.4126e-01,  8.3197e-01,  1.0140e+00, -1.0557e-01,\n",
       "         -2.1225e-01, -9.2891e-01,  1.0635e-01,  2.9701e-01, -9.5133e-02,\n",
       "         -2.8145e-01, -2.0156e-01,  6.2776e-01, -9.6238e-05, -2.7728e-01,\n",
       "          7.4663e-01,  2.3462e-01, -7.9090e-02,  3.3840e-01, -2.0241e-01,\n",
       "         -6.1648e-02,  5.5510e-01,  3.8394e-01,  7.3747e-01,  1.3448e-01,\n",
       "         -5.4707e-01, -7.6311e-01,  6.0778e-01, -6.9823e-01,  1.0797e-01,\n",
       "         -1.5859e-01, -1.2648e-01,  1.6302e-01, -1.7656e-01,  2.4121e-01,\n",
       "          2.7208e-01, -8.2565e-01,  1.4813e-02, -2.5324e-01,  1.2567e+00,\n",
       "          1.3096e+00, -6.1941e-01,  8.0630e-01,  6.9695e-01, -1.0598e+00,\n",
       "         -1.0351e+00,  8.8611e-02,  4.3729e-01, -3.7018e-01,  1.0188e-01,\n",
       "         -1.9962e-01, -6.6235e-01,  3.9401e-01, -3.9076e-01, -1.8959e-01,\n",
       "          2.7499e-01, -4.6285e-01,  2.4260e-01, -7.6417e-01, -1.4510e-01,\n",
       "          3.5694e-01,  2.5176e-01,  1.4213e-01, -5.4059e-01,  5.4529e-01,\n",
       "         -1.9425e-01, -1.1188e+00,  3.0984e-01,  9.2262e-01,  5.5731e-01,\n",
       "          3.4107e-01,  5.2141e-01, -3.1799e-01, -1.3580e+00,  5.7234e-01,\n",
       "          4.8747e-01,  4.5892e-01,  3.7762e-01, -1.9021e-01,  1.6243e-01,\n",
       "          7.3214e-01, -7.1350e-01,  3.2458e-02,  8.2782e-01,  7.1485e-01,\n",
       "          9.7606e-03,  1.0632e+00, -1.6041e-01, -8.3522e-01, -1.3682e-03,\n",
       "          2.5518e-01,  2.8255e-01, -3.7927e-01,  8.2348e-01,  1.5285e-01,\n",
       "          1.1155e+00,  9.7974e-03,  3.9016e-01,  4.2767e-01, -4.0658e-01,\n",
       "          1.4421e-01,  3.1462e-01, -4.2738e-01,  2.1680e-01, -1.3749e-01,\n",
       "         -7.4555e-01,  1.1814e+00,  8.9983e-01, -1.7114e-02, -4.1292e-02,\n",
       "         -5.4001e-02, -7.7660e-02,  2.6246e-01,  2.0721e-01,  2.4695e-01,\n",
       "          2.7064e-02,  3.2821e-01,  2.9989e-01, -2.2319e-01,  1.2612e+00,\n",
       "         -1.8908e-01, -3.0936e-01,  1.8669e-01,  3.8286e-01, -1.7555e-01,\n",
       "          4.9233e-01, -5.2689e-01,  1.0471e-01,  8.0460e-01, -8.3512e-02,\n",
       "         -3.0068e-01,  5.9557e-01,  1.2874e-01, -8.5392e-02,  1.3958e+00,\n",
       "          2.8820e-01, -7.7855e+00, -4.3827e-01,  1.2119e+00,  5.7036e-01,\n",
       "         -3.2457e-01,  1.3415e-01, -6.4643e-02,  5.1160e-01, -9.7639e-02,\n",
       "         -6.5209e-01,  1.6031e-01,  2.0073e-01, -1.2102e-02,  6.0192e-02,\n",
       "         -3.6285e-01,  2.6335e-01,  3.9727e-01,  2.6310e-01,  5.7270e-01,\n",
       "          2.3429e-01,  5.8357e-02,  3.6400e-02, -2.2956e-01,  1.5205e-01,\n",
       "          6.4963e-02,  7.0465e-02,  5.2941e-01,  1.9611e-01, -2.9884e-01,\n",
       "          5.1673e-01,  3.8621e-01,  8.3419e-01,  4.8765e-03, -3.9446e-02,\n",
       "         -8.7021e-01, -9.5255e-01,  1.6613e-01, -1.4872e-01,  1.0814e-01,\n",
       "         -1.1487e-02,  2.6688e-01, -5.3705e-02,  2.2650e-01,  1.8215e-01,\n",
       "          2.9955e-01,  4.3290e-03,  2.0457e-01,  8.2935e-02,  6.0861e-01,\n",
       "         -2.1206e-01,  9.8141e-01,  5.6161e-01, -4.2233e-02, -6.5487e-02,\n",
       "          6.3151e-01, -1.5842e-01,  7.4753e-02,  2.7811e-01,  6.2910e-01,\n",
       "         -2.2074e-01,  8.8683e-01,  2.7798e-01,  8.7952e-02,  2.3148e-01,\n",
       "          3.9369e+00, -6.3838e-01, -1.6857e+00,  1.1051e-01,  1.8595e-01,\n",
       "         -7.1850e-01,  5.0371e-01,  9.0087e-01,  1.1611e-01,  1.7101e-01,\n",
       "          4.6498e-02,  4.6312e-02, -4.6956e-01,  1.2587e-01,  6.1251e-01,\n",
       "          8.2685e-01,  3.7928e-02,  1.1049e-01, -2.2768e-01,  5.8626e-01,\n",
       "          5.1087e+00, -3.6100e-02,  2.0775e-01,  7.0091e-01, -1.1375e+00,\n",
       "          6.7559e-02,  7.2626e-01, -2.8479e-01,  2.0178e-02,  5.0181e-01,\n",
       "         -3.2154e-01,  3.8097e-01,  3.2033e-01, -6.6714e-02,  2.7356e-01,\n",
       "          6.6525e-01, -2.9183e-01, -7.0980e-01,  7.0113e-01, -3.0251e-01,\n",
       "          8.0984e-01,  2.9691e-01,  8.1164e-02,  2.3778e-01,  8.8389e-01,\n",
       "         -3.8959e-01,  6.1957e-01,  1.2045e+00,  6.4636e-01, -2.5653e-01,\n",
       "          2.9508e-01, -1.9360e-01,  7.6933e-01,  5.3645e-01, -1.2864e-01,\n",
       "         -3.0275e-01,  6.3376e-01,  3.9207e+00, -5.1966e-02, -2.5731e-01,\n",
       "         -4.2552e-01, -2.5509e-01,  2.4688e-01, -2.1719e-01,  2.9755e-03,\n",
       "          6.7276e-01,  5.5525e-01, -3.9345e-01,  2.6595e-02,  5.9832e-01,\n",
       "         -6.7832e-01,  5.2871e-01,  2.6353e-01, -4.5293e-01, -7.4443e-01,\n",
       "          7.2009e-01,  1.2347e-02,  6.5092e-01,  4.7945e-01,  1.6591e-01,\n",
       "         -2.5355e-01,  7.2891e-02,  2.9101e-01, -9.6773e-01,  4.9293e-01,\n",
       "          9.3885e-02,  2.8718e-01,  3.1415e-01,  5.7426e+00, -2.7955e-01,\n",
       "          2.3740e-02,  3.9110e-01, -4.2065e-01, -4.4794e-01, -5.2289e-01,\n",
       "          1.9948e-01,  5.3426e-01,  8.2190e-02,  2.2906e-01,  2.3370e-01,\n",
       "         -3.8974e-01,  1.6859e-01,  2.4774e-01,  1.6406e-01, -4.1881e-01,\n",
       "         -7.7657e-01, -4.7610e-03,  2.9227e-01,  5.3524e-01,  2.1313e-02,\n",
       "          4.1024e-02, -6.7202e-01, -3.6646e-01, -1.1489e-01,  1.9397e-01,\n",
       "          5.4804e-02,  3.0191e-01, -1.3991e-01, -3.3366e-03,  2.9435e-01,\n",
       "          5.8866e-01, -2.0185e-01,  5.1522e-01, -7.0702e-02,  9.7006e-01,\n",
       "         -1.2863e-01, -1.6759e-01,  2.4464e-01,  5.6068e-01,  3.3589e-01,\n",
       "          3.8906e-01, -2.3645e-01,  1.3428e+00, -1.5556e-01, -3.6024e-01,\n",
       "         -1.3670e+00, -7.4962e-02, -2.8631e-01,  6.8614e-01,  4.3975e-01,\n",
       "          1.7673e+00,  3.8732e-01,  2.2321e-01,  7.5569e-02,  4.8759e-01,\n",
       "         -3.0403e-01, -7.0476e-01,  6.4612e-01, -5.9891e-01,  9.6986e-02,\n",
       "          8.4617e-01,  2.1515e-01,  4.7098e-01, -7.4085e-01,  6.8026e-04,\n",
       "          4.2764e-02, -5.7202e-02,  5.2921e-01,  1.4423e-01, -5.6715e-01,\n",
       "         -3.8158e-02,  9.3834e-01,  1.2543e+00,  1.2316e-01,  1.2191e-01,\n",
       "          6.8876e-01, -7.4059e-02, -4.8659e-01,  1.8149e-01, -2.3701e-01,\n",
       "         -3.4442e-01, -8.0060e-01,  8.6017e-01,  4.0777e-01,  5.4989e-02,\n",
       "          1.6170e-01,  9.5645e-01,  5.2864e-02,  3.1870e-01, -6.0098e-02,\n",
       "          4.7342e-02,  2.0276e-01,  6.7373e-01,  5.6530e-01,  6.6023e-01,\n",
       "         -7.4317e-01,  3.3018e-01,  1.8756e-01, -2.4311e-01,  5.5802e-01,\n",
       "         -2.9069e-01, -2.9925e-01,  1.6778e-01,  4.8296e-02,  2.9896e-01,\n",
       "         -1.8146e-02,  3.1675e-02, -4.7869e-01,  4.0278e-01,  1.3502e-03,\n",
       "          9.2957e-01, -4.5987e-01,  5.5821e-02])}"
      ]
     },
     "execution_count": 26,
     "metadata": {},
     "output_type": "execute_result"
    }
   ],
   "source": [
    "violence_hidden[\"train\"][0]"
   ]
  },
  {
   "cell_type": "code",
   "execution_count": null,
   "id": "e7b28297",
   "metadata": {},
   "outputs": [],
   "source": []
  }
 ],
 "metadata": {
  "kernelspec": {
   "display_name": "Python 3 (ipykernel)",
   "language": "python",
   "name": "python3"
  },
  "language_info": {
   "codemirror_mode": {
    "name": "ipython",
    "version": 3
   },
   "file_extension": ".py",
   "mimetype": "text/x-python",
   "name": "python",
   "nbconvert_exporter": "python",
   "pygments_lexer": "ipython3",
   "version": "3.8.3"
  }
 },
 "nbformat": 4,
 "nbformat_minor": 5
}
