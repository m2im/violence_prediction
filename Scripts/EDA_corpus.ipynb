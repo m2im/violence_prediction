{
 "cells": [
  {
   "cell_type": "code",
   "execution_count": 14,
   "id": "f2844667",
   "metadata": {},
   "outputs": [],
   "source": [
    "import pandas as pd\n",
    "import zipfile\n",
    "import re\n",
    "import matplotlib.pyplot as plt\n",
    "import numpy as np"
   ]
  },
  {
   "cell_type": "code",
   "execution_count": 15,
   "id": "3bc728d1",
   "metadata": {},
   "outputs": [
    {
     "data": {
      "text/plain": [
       "['geo_corpus.0.0.1/',\n",
       " 'geo_corpus.0.0.1/geo_corpus_2014_03_05.csv',\n",
       " 'geo_corpus.0.0.1/geo_corpus_2014_03_07.csv',\n",
       " 'geo_corpus.0.0.1/geo_corpus_2014_03_06.csv',\n",
       " 'geo_corpus.0.0.1/geo_corpus_2014_04_03.csv',\n",
       " 'geo_corpus.0.0.1/geo_corpus_2014_03_08.csv',\n",
       " 'geo_corpus.0.0.1/geo_corpus_2014_03_12.csv',\n",
       " 'geo_corpus.0.0.1/geo_corpus_2014_03_09.csv',\n",
       " 'geo_corpus.0.0.1/geo_corpus_2014_03_13.csv',\n",
       " 'geo_corpus.0.0.1/geo_corpus_2014_03_14.csv',\n",
       " 'geo_corpus.0.0.1/geo_corpus_2014_03_16.csv',\n",
       " 'geo_corpus.0.0.1/geo_corpus_2014_03_10.csv',\n",
       " 'geo_corpus.0.0.1/geo_corpus_2014_03_23.csv',\n",
       " 'geo_corpus.0.0.1/geo_corpus_2014_03_24.csv',\n",
       " 'geo_corpus.0.0.1/geo_corpus_2014_03_26.csv',\n",
       " 'geo_corpus.0.0.1/geo_corpus_2014_04_04.csv',\n",
       " 'geo_corpus.0.0.1/geo_corpus_2014_03_25.csv',\n",
       " 'geo_corpus.0.0.1/geo_corpus_2014_03_27.csv',\n",
       " 'geo_corpus.0.0.1/geo_corpus_2014_07_13.csv',\n",
       " 'geo_corpus.0.0.1/geo_corpus_2014_04_02.csv',\n",
       " 'geo_corpus.0.0.1/geo_corpus_2014_03_15.csv',\n",
       " 'geo_corpus.0.0.1/geo_corpus_2014_07_14.csv',\n",
       " 'geo_corpus.0.0.1/geo_corpus_2014_05_08.csv',\n",
       " 'geo_corpus.0.0.1/geo_corpus_2014_03_29.csv',\n",
       " 'geo_corpus.0.0.1/geo_corpus_2014_04_06.csv',\n",
       " 'geo_corpus.0.0.1/geo_corpus_2014_03_17.csv',\n",
       " 'geo_corpus.0.0.1/geo_corpus_2014_03_28.csv',\n",
       " 'geo_corpus.0.0.1/geo_corpus_2014_03_11.csv',\n",
       " 'geo_corpus.0.0.1/geo_corpus_2014_04_23.csv',\n",
       " 'geo_corpus.0.0.1/geo_corpus_2014_03_18.csv',\n",
       " 'geo_corpus.0.0.1/geo_corpus_2014_05_15.csv',\n",
       " 'geo_corpus.0.0.1/geo_corpus_2014_07_08.csv',\n",
       " 'geo_corpus.0.0.1/geo_corpus_2014_04_05.csv',\n",
       " 'geo_corpus.0.0.1/geo_corpus_2014_04_01.csv',\n",
       " 'geo_corpus.0.0.1/geo_corpus_2014_06_30.csv',\n",
       " 'geo_corpus.0.0.1/geo_corpus_2014_03_30.csv',\n",
       " 'geo_corpus.0.0.1/geo_corpus_2014_07_12.csv',\n",
       " 'geo_corpus.0.0.1/geo_corpus_2014_07_02.csv',\n",
       " 'geo_corpus.0.0.1/geo_corpus_2014_04_25.csv',\n",
       " 'geo_corpus.0.0.1/geo_corpus_2014_05_20.csv',\n",
       " 'geo_corpus.0.0.1/geo_corpus_2014_03_19.csv',\n",
       " 'geo_corpus.0.0.1/geo_corpus_2014_03_31.csv',\n",
       " 'geo_corpus.0.0.1/geo_corpus_2014_07_10.csv',\n",
       " 'geo_corpus.0.0.1/geo_corpus_2014_05_17.csv',\n",
       " 'geo_corpus.0.0.1/geo_corpus_2014_05_12.csv',\n",
       " 'geo_corpus.0.0.1/geo_corpus_2014_04_19.csv',\n",
       " 'geo_corpus.0.0.1/geo_corpus_2014_06_13.csv',\n",
       " 'geo_corpus.0.0.1/geo_corpus_2014_07_09.csv',\n",
       " 'geo_corpus.0.0.1/geo_corpus_2014_06_29.csv',\n",
       " 'geo_corpus.0.0.1/geo_corpus_2014_07_01.csv',\n",
       " 'geo_corpus.0.0.1/geo_corpus_2013_08_30.csv',\n",
       " 'geo_corpus.0.0.1/geo_corpus_2014_07_20.csv',\n",
       " 'geo_corpus.0.0.1/geo_corpus_2014_05_16.csv',\n",
       " 'geo_corpus.0.0.1/geo_corpus_2014_04_27.csv',\n",
       " 'geo_corpus.0.0.1/geo_corpus_2014_05_14.csv',\n",
       " 'geo_corpus.0.0.1/geo_corpus_2014_03_21.csv',\n",
       " 'geo_corpus.0.0.1/geo_corpus_2014_04_28.csv',\n",
       " 'geo_corpus.0.0.1/geo_corpus_2014_05_10.csv',\n",
       " 'geo_corpus.0.0.1/geo_corpus_2014_05_18.csv',\n",
       " 'geo_corpus.0.0.1/geo_corpus_2013_09_03.csv',\n",
       " 'geo_corpus.0.0.1/geo_corpus_2014_07_16.csv',\n",
       " 'geo_corpus.0.0.1/geo_corpus_2014_06_16.csv',\n",
       " 'geo_corpus.0.0.1/geo_corpus_2014_05_01.csv',\n",
       " 'geo_corpus.0.0.1/geo_corpus_2014_04_24.csv',\n",
       " 'geo_corpus.0.0.1/geo_corpus_2014_07_17.csv',\n",
       " 'geo_corpus.0.0.1/geo_corpus_2014_06_05.csv',\n",
       " 'geo_corpus.0.0.1/geo_corpus_2014_06_18.csv',\n",
       " 'geo_corpus.0.0.1/geo_corpus_2014_04_15.csv',\n",
       " 'geo_corpus.0.0.1/geo_corpus_2013_09_02.csv',\n",
       " 'geo_corpus.0.0.1/geo_corpus_2014_07_18.csv',\n",
       " 'geo_corpus.0.0.1/geo_corpus_2014_07_15.csv',\n",
       " 'geo_corpus.0.0.1/geo_corpus_2014_04_26.csv',\n",
       " 'geo_corpus.0.0.1/geo_corpus_2014_06_17.csv',\n",
       " 'geo_corpus.0.0.1/geo_corpus_2014_04_22.csv',\n",
       " 'geo_corpus.0.0.1/geo_corpus_2014_04_16.csv',\n",
       " 'geo_corpus.0.0.1/geo_corpus_2013_09_05.csv',\n",
       " 'geo_corpus.0.0.1/geo_corpus_2014_07_21.csv',\n",
       " 'geo_corpus.0.0.1/geo_corpus_2014_07_11.csv',\n",
       " 'geo_corpus.0.0.1/geo_corpus_2014_03_22.csv',\n",
       " 'geo_corpus.0.0.1/geo_corpus_2014_07_22.csv',\n",
       " 'geo_corpus.0.0.1/geo_corpus_2014_04_12.csv',\n",
       " 'geo_corpus.0.0.1/geo_corpus_2014_07_04.csv',\n",
       " 'geo_corpus.0.0.1/geo_corpus_2014_06_09.csv',\n",
       " 'geo_corpus.0.0.1/geo_corpus_2014_04_21.csv',\n",
       " 'geo_corpus.0.0.1/geo_corpus_2014_05_09.csv',\n",
       " 'geo_corpus.0.0.1/geo_corpus_2014_04_13.csv',\n",
       " 'geo_corpus.0.0.1/geo_corpus_2014_04_29.csv',\n",
       " 'geo_corpus.0.0.1/geo_corpus_2013_09_04.csv',\n",
       " 'geo_corpus.0.0.1/geo_corpus_2014_06_19.csv',\n",
       " 'geo_corpus.0.0.1/geo_corpus_2013_09_07.csv',\n",
       " 'geo_corpus.0.0.1/geo_corpus_2014_04_30.csv',\n",
       " 'geo_corpus.0.0.1/geo_corpus_2014_07_07.csv',\n",
       " 'geo_corpus.0.0.1/geo_corpus_2014_05_13.csv',\n",
       " 'geo_corpus.0.0.1/geo_corpus_2013_09_06.csv',\n",
       " 'geo_corpus.0.0.1/geo_corpus_2014_05_21.csv',\n",
       " 'geo_corpus.0.0.1/geo_corpus_2014_05_04.csv',\n",
       " 'geo_corpus.0.0.1/geo_corpus_2013_08_29.csv',\n",
       " 'geo_corpus.0.0.1/geo_corpus_2014_07_03.csv',\n",
       " 'geo_corpus.0.0.1/geo_corpus_2014_05_19.csv',\n",
       " 'geo_corpus.0.0.1/geo_corpus_2014_07_06.csv',\n",
       " 'geo_corpus.0.0.1/geo_corpus_2014_04_18.csv',\n",
       " 'geo_corpus.0.0.1/geo_corpus_2014_06_24.csv',\n",
       " 'geo_corpus.0.0.1/geo_corpus_2014_06_21.csv',\n",
       " 'geo_corpus.0.0.1/geo_corpus_2013_09_01.csv',\n",
       " 'geo_corpus.0.0.1/geo_corpus_2014_05_03.csv',\n",
       " 'geo_corpus.0.0.1/geo_corpus_2014_05_22.csv',\n",
       " 'geo_corpus.0.0.1/geo_corpus_2014_07_05.csv',\n",
       " 'geo_corpus.0.0.1/geo_corpus_2014_04_20.csv',\n",
       " 'geo_corpus.0.0.1/geo_corpus_2014_05_11.csv',\n",
       " 'geo_corpus.0.0.1/geo_corpus_2013_09_08.csv',\n",
       " 'geo_corpus.0.0.1/geo_corpus_2014_04_17.csv',\n",
       " 'geo_corpus.0.0.1/geo_corpus_2014_06_22.csv',\n",
       " 'geo_corpus.0.0.1/geo_corpus_2014_03_20.csv',\n",
       " 'geo_corpus.0.0.1/geo_corpus_2014_06_23.csv',\n",
       " 'geo_corpus.0.0.1/geo_corpus_2013_08_31.csv',\n",
       " 'geo_corpus.0.0.1/geo_corpus_2014_06_01.csv',\n",
       " 'geo_corpus.0.0.1/geo_corpus_2014_06_11.csv',\n",
       " 'geo_corpus.0.0.1/geo_corpus_2014_06_04.csv',\n",
       " 'geo_corpus.0.0.1/geo_corpus_2014_06_15.csv',\n",
       " 'geo_corpus.0.0.1/geo_corpus_2014_04_14.csv',\n",
       " 'geo_corpus.0.0.1/geo_corpus_2014_07_26.csv',\n",
       " 'geo_corpus.0.0.1/geo_corpus_2014_04_07.csv',\n",
       " 'geo_corpus.0.0.1/geo_corpus_2014_04_11.csv',\n",
       " 'geo_corpus.0.0.1/geo_corpus_2014_06_20.csv',\n",
       " 'geo_corpus.0.0.1/geo_corpus_2014_04_09.csv',\n",
       " 'geo_corpus.0.0.1/geo_corpus_2014_04_08.csv',\n",
       " 'geo_corpus.0.0.1/geo_corpus_2014_04_10.csv',\n",
       " 'geo_corpus.0.0.1/geo_corpus_2014_06_25.csv',\n",
       " 'geo_corpus.0.0.1/geo_corpus_2014_05_02.csv',\n",
       " 'geo_corpus.0.0.1/geo_corpus_2014_05_30.csv',\n",
       " 'geo_corpus.0.0.1/geo_corpus_2014_06_12.csv',\n",
       " 'geo_corpus.0.0.1/geo_corpus_2014_06_03.csv',\n",
       " 'geo_corpus.0.0.1/geo_corpus_2014_06_26.csv',\n",
       " 'geo_corpus.0.0.1/geo_corpus_2014_06_10.csv',\n",
       " 'geo_corpus.0.0.1/geo_corpus_2014_06_06.csv',\n",
       " 'geo_corpus.0.0.1/geo_corpus_2014_06_08.csv',\n",
       " 'geo_corpus.0.0.1/geo_corpus_2014_06_14.csv',\n",
       " 'geo_corpus.0.0.1/geo_corpus_2014_06_02.csv',\n",
       " 'geo_corpus.0.0.1/geo_corpus_2014_05_31.csv',\n",
       " 'geo_corpus.0.0.1/geo_corpus_2014_07_28.csv',\n",
       " 'geo_corpus.0.0.1/geo_corpus_2014_01_23.csv',\n",
       " 'geo_corpus.0.0.1/geo_corpus_2014_06_27.csv',\n",
       " 'geo_corpus.0.0.1/geo_corpus_2014_03_04.csv',\n",
       " 'geo_corpus.0.0.1/geo_corpus_2014_06_07.csv',\n",
       " 'geo_corpus.0.0.1/geo_corpus_2014_01_13.csv',\n",
       " 'geo_corpus.0.0.1/geo_corpus_2014_01_21.csv',\n",
       " 'geo_corpus.0.0.1/geo_corpus_2014_05_23.csv',\n",
       " 'geo_corpus.0.0.1/geo_corpus_2014_02_25.csv',\n",
       " 'geo_corpus.0.0.1/geo_corpus_2014_06_28.csv',\n",
       " 'geo_corpus.0.0.1/geo_corpus_2014_01_27.csv',\n",
       " 'geo_corpus.0.0.1/geo_corpus_2014_01_16.csv',\n",
       " 'geo_corpus.0.0.1/geo_corpus_2014_05_07.csv',\n",
       " 'geo_corpus.0.0.1/geo_corpus_2014_01_15.csv',\n",
       " 'geo_corpus.0.0.1/geo_corpus_2014_01_24.csv',\n",
       " 'geo_corpus.0.0.1/geo_corpus_2014_01_17.csv',\n",
       " 'geo_corpus.0.0.1/geo_corpus_2014_01_19.csv',\n",
       " 'geo_corpus.0.0.1/geo_corpus_2013_12_09.csv',\n",
       " 'geo_corpus.0.0.1/geo_corpus_2014_01_22.csv',\n",
       " 'geo_corpus.0.0.1/geo_corpus_2014_05_05.csv',\n",
       " 'geo_corpus.0.0.1/geo_corpus_2014_02_26.csv',\n",
       " 'geo_corpus.0.0.1/geo_corpus_2013_09_26.csv',\n",
       " 'geo_corpus.0.0.1/geo_corpus_2013_09_27.csv',\n",
       " 'geo_corpus.0.0.1/geo_corpus_2014_01_20.csv',\n",
       " 'geo_corpus.0.0.1/geo_corpus_2014_02_27.csv',\n",
       " 'geo_corpus.0.0.1/geo_corpus_2013_09_17.csv',\n",
       " 'geo_corpus.0.0.1/geo_corpus_2014_05_24.csv',\n",
       " 'geo_corpus.0.0.1/geo_corpus_2013_10_03.csv',\n",
       " 'geo_corpus.0.0.1/geo_corpus_2013_08_28.csv',\n",
       " 'geo_corpus.0.0.1/geo_corpus_2014_01_14.csv',\n",
       " 'geo_corpus.0.0.1/geo_corpus_2014_05_06.csv',\n",
       " 'geo_corpus.0.0.1/geo_corpus_2013_09_10.csv',\n",
       " 'geo_corpus.0.0.1/geo_corpus_2013_09_11.csv',\n",
       " 'geo_corpus.0.0.1/geo_corpus_2013_09_25.csv',\n",
       " 'geo_corpus.0.0.1/geo_corpus_2014_01_09.csv',\n",
       " 'geo_corpus.0.0.1/geo_corpus_2014_05_28.csv',\n",
       " 'geo_corpus.0.0.1/geo_corpus_2014_01_07.csv',\n",
       " 'geo_corpus.0.0.1/geo_corpus_2014_05_27.csv',\n",
       " 'geo_corpus.0.0.1/geo_corpus_2014_07_29.csv',\n",
       " 'geo_corpus.0.0.1/geo_corpus_2014_01_18.csv',\n",
       " 'geo_corpus.0.0.1/geo_corpus_2014_01_12.csv',\n",
       " 'geo_corpus.0.0.1/geo_corpus_2014_07_19.csv',\n",
       " 'geo_corpus.0.0.1/geo_corpus_2014_01_25.csv',\n",
       " 'geo_corpus.0.0.1/geo_corpus_2014_05_25.csv',\n",
       " 'geo_corpus.0.0.1/geo_corpus_2013_10_01.csv',\n",
       " 'geo_corpus.0.0.1/geo_corpus_2014_01_29.csv',\n",
       " 'geo_corpus.0.0.1/geo_corpus_2013_10_02.csv',\n",
       " 'geo_corpus.0.0.1/geo_corpus_2014_05_26.csv',\n",
       " 'geo_corpus.0.0.1/geo_corpus_2014_01_11.csv',\n",
       " 'geo_corpus.0.0.1/geo_corpus_2014_01_10.csv',\n",
       " 'geo_corpus.0.0.1/geo_corpus_2014_01_28.csv',\n",
       " 'geo_corpus.0.0.1/geo_corpus_2014_07_24.csv',\n",
       " 'geo_corpus.0.0.1/geo_corpus_2014_01_08.csv',\n",
       " 'geo_corpus.0.0.1/geo_corpus_2013_09_29.csv',\n",
       " 'geo_corpus.0.0.1/geo_corpus_2013_09_09.csv',\n",
       " 'geo_corpus.0.0.1/geo_corpus_2013_09_28.csv',\n",
       " 'geo_corpus.0.0.1/geo_corpus_2014_01_26.csv',\n",
       " 'geo_corpus.0.0.1/geo_corpus_2013_09_12.csv',\n",
       " 'geo_corpus.0.0.1/geo_corpus_2013_09_30.csv',\n",
       " 'geo_corpus.0.0.1/geo_corpus_2013_10_04.csv',\n",
       " 'geo_corpus.0.0.1/geo_corpus_2014_02_28.csv',\n",
       " 'geo_corpus.0.0.1/geo_corpus_2013_09_23.csv',\n",
       " 'geo_corpus.0.0.1/geo_corpus_2013_09_24.csv',\n",
       " 'geo_corpus.0.0.1/geo_corpus_2014_03_02.csv',\n",
       " 'geo_corpus.0.0.1/geo_corpus_2013_10_05.csv',\n",
       " 'geo_corpus.0.0.1/geo_corpus_2014_07_23.csv',\n",
       " 'geo_corpus.0.0.1/geo_corpus_2013_10_06.csv',\n",
       " 'geo_corpus.0.0.1/geo_corpus_2014_01_31.csv',\n",
       " 'geo_corpus.0.0.1/geo_corpus_2013_12_08.csv',\n",
       " 'geo_corpus.0.0.1/geo_corpus_2014_01_03.csv',\n",
       " 'geo_corpus.0.0.1/geo_corpus_2014_07_25.csv',\n",
       " 'geo_corpus.0.0.1/geo_corpus_2013_09_22.csv',\n",
       " 'geo_corpus.0.0.1/geo_corpus_2014_03_01.csv',\n",
       " 'geo_corpus.0.0.1/geo_corpus_2014_03_03.csv',\n",
       " 'geo_corpus.0.0.1/geo_corpus_2014_01_30.csv',\n",
       " 'geo_corpus.0.0.1/geo_corpus_2014_02_02.csv',\n",
       " 'geo_corpus.0.0.1/geo_corpus_2014_01_06.csv',\n",
       " 'geo_corpus.0.0.1/geo_corpus_2013_09_20.csv',\n",
       " 'geo_corpus.0.0.1/geo_corpus_2014_01_05.csv',\n",
       " 'geo_corpus.0.0.1/geo_corpus_2014_02_03.csv',\n",
       " 'geo_corpus.0.0.1/geo_corpus_2013_09_18.csv',\n",
       " 'geo_corpus.0.0.1/geo_corpus_2014_01_04.csv',\n",
       " 'geo_corpus.0.0.1/geo_corpus_2014_02_01.csv',\n",
       " 'geo_corpus.0.0.1/geo_corpus_2013_12_11.csv',\n",
       " 'geo_corpus.0.0.1/geo_corpus_2013_12_12.csv',\n",
       " 'geo_corpus.0.0.1/geo_corpus_2013_09_19.csv',\n",
       " 'geo_corpus.0.0.1/geo_corpus_2013_08_26.csv',\n",
       " 'geo_corpus.0.0.1/geo_corpus_2014_05_29.csv',\n",
       " 'geo_corpus.0.0.1/geo_corpus_2014_02_05.csv',\n",
       " 'geo_corpus.0.0.1/geo_corpus_2013_12_31.csv',\n",
       " 'geo_corpus.0.0.1/geo_corpus_2013_12_10.csv',\n",
       " 'geo_corpus.0.0.1/geo_corpus_2013_08_11.csv',\n",
       " 'geo_corpus.0.0.1/geo_corpus_2013_12_24.csv',\n",
       " 'geo_corpus.0.0.1/geo_corpus_2013_12_30.csv',\n",
       " 'geo_corpus.0.0.1/geo_corpus_2013_12_19.csv',\n",
       " 'geo_corpus.0.0.1/geo_corpus_2013_12_18.csv',\n",
       " 'geo_corpus.0.0.1/geo_corpus_2013_10_09.csv',\n",
       " 'geo_corpus.0.0.1/geo_corpus_2014_02_04.csv',\n",
       " 'geo_corpus.0.0.1/geo_corpus_2013_12_23.csv',\n",
       " 'geo_corpus.0.0.1/geo_corpus_2013_12_13.csv',\n",
       " 'geo_corpus.0.0.1/geo_corpus_2014_07_27.csv',\n",
       " 'geo_corpus.0.0.1/geo_corpus_2013_10_29.csv',\n",
       " 'geo_corpus.0.0.1/geo_corpus_2013_12_17.csv',\n",
       " 'geo_corpus.0.0.1/geo_corpus_2013_12_03.csv',\n",
       " 'geo_corpus.0.0.1/geo_corpus_2013_12_20.csv',\n",
       " 'geo_corpus.0.0.1/geo_corpus_2013_10_15.csv',\n",
       " 'geo_corpus.0.0.1/geo_corpus_2013_12_22.csv',\n",
       " 'geo_corpus.0.0.1/geo_corpus_2013_08_12.csv',\n",
       " 'geo_corpus.0.0.1/geo_corpus_2013_10_17.csv',\n",
       " 'geo_corpus.0.0.1/geo_corpus_2013_10_07.csv',\n",
       " 'geo_corpus.0.0.1/geo_corpus_2013_12_27.csv',\n",
       " 'geo_corpus.0.0.1/geo_corpus_2013_10_25.csv',\n",
       " 'geo_corpus.0.0.1/geo_corpus_2013_11_25.csv',\n",
       " 'geo_corpus.0.0.1/geo_corpus_2013_12_29.csv',\n",
       " 'geo_corpus.0.0.1/geo_corpus_2013_10_08.csv',\n",
       " 'geo_corpus.0.0.1/geo_corpus_2013_12_05.csv',\n",
       " 'geo_corpus.0.0.1/geo_corpus_2013_10_18.csv',\n",
       " 'geo_corpus.0.0.1/geo_corpus_2013_10_26.csv',\n",
       " 'geo_corpus.0.0.1/geo_corpus_2013_12_26.csv',\n",
       " 'geo_corpus.0.0.1/geo_corpus_2013_11_27.csv',\n",
       " 'geo_corpus.0.0.1/geo_corpus_2013_11_26.csv',\n",
       " 'geo_corpus.0.0.1/geo_corpus_2013_12_04.csv',\n",
       " 'geo_corpus.0.0.1/geo_corpus_2013_12_01.csv',\n",
       " 'geo_corpus.0.0.1/geo_corpus_2013_10_21.csv',\n",
       " 'geo_corpus.0.0.1/geo_corpus_2013_11_29.csv',\n",
       " 'geo_corpus.0.0.1/geo_corpus_2013_12_16.csv',\n",
       " 'geo_corpus.0.0.1/geo_corpus_2013_08_27.csv',\n",
       " 'geo_corpus.0.0.1/geo_corpus_2013_12_02.csv',\n",
       " 'geo_corpus.0.0.1/geo_corpus_2013_11_28.csv',\n",
       " 'geo_corpus.0.0.1/geo_corpus_2013_10_23.csv',\n",
       " 'geo_corpus.0.0.1/geo_corpus_2013_12_21.csv',\n",
       " 'geo_corpus.0.0.1/geo_corpus_2013_10_27.csv',\n",
       " 'geo_corpus.0.0.1/geo_corpus_2013_10_16.csv',\n",
       " 'geo_corpus.0.0.1/geo_corpus_2013_10_22.csv',\n",
       " 'geo_corpus.0.0.1/geo_corpus_2013_08_10.csv',\n",
       " 'geo_corpus.0.0.1/geo_corpus_2013_11_30.csv',\n",
       " 'geo_corpus.0.0.1/geo_corpus_2013_12_06.csv',\n",
       " 'geo_corpus.0.0.1/geo_corpus_2013_10_10.csv',\n",
       " 'geo_corpus.0.0.1/geo_corpus_2013_10_24.csv',\n",
       " 'geo_corpus.0.0.1/geo_corpus_2013_10_19.csv',\n",
       " 'geo_corpus.0.0.1/geo_corpus_2013_12_28.csv',\n",
       " 'geo_corpus.0.0.1/geo_corpus_2013_08_09.csv',\n",
       " 'geo_corpus.0.0.1/geo_corpus_2013_12_15.csv',\n",
       " 'geo_corpus.0.0.1/geo_corpus_2013_10_31.csv',\n",
       " 'geo_corpus.0.0.1/geo_corpus_2014_02_24.csv',\n",
       " 'geo_corpus.0.0.1/geo_corpus_2013_12_25.csv',\n",
       " 'geo_corpus.0.0.1/geo_corpus_2013_10_30.csv',\n",
       " 'geo_corpus.0.0.1/geo_corpus_2013_09_21.csv',\n",
       " 'geo_corpus.0.0.1/geo_corpus_2013_12_14.csv',\n",
       " 'geo_corpus.0.0.1/geo_corpus_2013_09_13.csv',\n",
       " 'geo_corpus.0.0.1/geo_corpus_2013_10_28.csv',\n",
       " 'geo_corpus.0.0.1/geo_corpus_2013_12_07.csv',\n",
       " 'geo_corpus.0.0.1/geo_corpus_2013_09_14.csv',\n",
       " 'geo_corpus.0.0.1/geo_corpus_2014_02_22.csv',\n",
       " 'geo_corpus.0.0.1/geo_corpus_2013_09_15.csv',\n",
       " 'geo_corpus.0.0.1/geo_corpus_2013_10_20.csv',\n",
       " 'geo_corpus.0.0.1/geo_corpus_2013_08_25.csv',\n",
       " 'geo_corpus.0.0.1/geo_corpus_2013_11_08.csv',\n",
       " 'geo_corpus.0.0.1/geo_corpus_2013_09_16.csv',\n",
       " 'geo_corpus.0.0.1/geo_corpus_2013_08_14.csv',\n",
       " 'geo_corpus.0.0.1/geo_corpus_2013_11_10.csv',\n",
       " 'geo_corpus.0.0.1/geo_corpus_2014_02_21.csv',\n",
       " 'geo_corpus.0.0.1/geo_corpus_2013_08_16.csv',\n",
       " 'geo_corpus.0.0.1/geo_corpus_2013_11_04.csv',\n",
       " 'geo_corpus.0.0.1/geo_corpus_2013_08_15.csv',\n",
       " 'geo_corpus.0.0.1/geo_corpus_2013_08_08.csv',\n",
       " 'geo_corpus.0.0.1/geo_corpus_2014_07_30.csv',\n",
       " 'geo_corpus.0.0.1/geo_corpus_2013_08_13.csv',\n",
       " 'geo_corpus.0.0.1/geo_corpus_2013_11_15.csv',\n",
       " 'geo_corpus.0.0.1/geo_corpus_2013_08_04.csv',\n",
       " 'geo_corpus.0.0.1/geo_corpus_2014_02_23.csv',\n",
       " 'geo_corpus.0.0.1/geo_corpus_2014_02_20.csv',\n",
       " 'geo_corpus.0.0.1/geo_corpus_2013_08_06.csv',\n",
       " 'geo_corpus.0.0.1/geo_corpus_2013_11_14.csv',\n",
       " 'geo_corpus.0.0.1/geo_corpus_2013_11_12.csv',\n",
       " 'geo_corpus.0.0.1/geo_corpus_2013_11_01.csv',\n",
       " 'geo_corpus.0.0.1/geo_corpus_2013_11_11.csv',\n",
       " 'geo_corpus.0.0.1/geo_corpus_2013_08_07.csv',\n",
       " 'geo_corpus.0.0.1/geo_corpus_2013_11_02.csv',\n",
       " 'geo_corpus.0.0.1/geo_corpus_2013_11_06.csv',\n",
       " 'geo_corpus.0.0.1/geo_corpus_2013_11_09.csv',\n",
       " 'geo_corpus.0.0.1/geo_corpus_2013_08_05.csv',\n",
       " 'geo_corpus.0.0.1/geo_corpus_2013_08_03.csv',\n",
       " 'geo_corpus.0.0.1/geo_corpus_2013_11_03.csv',\n",
       " 'geo_corpus.0.0.1/geo_corpus_2013_11_13.csv',\n",
       " 'geo_corpus.0.0.1/geo_corpus_2013_11_05.csv',\n",
       " 'geo_corpus.0.0.1/geo_corpus_2013_11_07.csv',\n",
       " 'geo_corpus.0.0.1/geo_corpus_2014_02_18.csv',\n",
       " 'geo_corpus.0.0.1/geo_corpus_2013_08_02.csv',\n",
       " 'geo_corpus.0.0.1/geo_corpus_2014_02_13.csv',\n",
       " 'geo_corpus.0.0.1/geo_corpus_2014_02_19.csv',\n",
       " 'geo_corpus.0.0.1/geo_corpus_2014_02_11.csv',\n",
       " 'geo_corpus.0.0.1/geo_corpus_2014_01_02.csv',\n",
       " 'geo_corpus.0.0.1/geo_corpus_2014_02_12.csv',\n",
       " 'geo_corpus.0.0.1/geo_corpus_2014_02_14.csv',\n",
       " 'geo_corpus.0.0.1/geo_corpus_2014_01_01.csv',\n",
       " 'geo_corpus.0.0.1/geo_corpus_2014_02_17.csv',\n",
       " 'geo_corpus.0.0.1/geo_corpus_2013_11_22.csv',\n",
       " 'geo_corpus.0.0.1/geo_corpus_2014_02_16.csv',\n",
       " 'geo_corpus.0.0.1/geo_corpus_2014_02_15.csv',\n",
       " 'geo_corpus.0.0.1/geo_corpus_2013_11_19.csv',\n",
       " 'geo_corpus.0.0.1/geo_corpus_2013_11_20.csv',\n",
       " 'geo_corpus.0.0.1/geo_corpus_2013_11_21.csv',\n",
       " 'geo_corpus.0.0.1/geo_corpus_2014_02_06.csv',\n",
       " 'geo_corpus.0.0.1/geo_corpus_2013_11_18.csv',\n",
       " 'geo_corpus.0.0.1/geo_corpus_2014_02_09.csv',\n",
       " 'geo_corpus.0.0.1/geo_corpus_2014_02_08.csv',\n",
       " 'geo_corpus.0.0.1/geo_corpus_2014_07_31.csv',\n",
       " 'geo_corpus.0.0.1/geo_corpus_2013_11_16.csv',\n",
       " 'geo_corpus.0.0.1/geo_corpus_2013_11_23.csv',\n",
       " 'geo_corpus.0.0.1/geo_corpus_2014_02_07.csv',\n",
       " 'geo_corpus.0.0.1/geo_corpus_2014_02_10.csv',\n",
       " 'geo_corpus.0.0.1/geo_corpus_2013_11_24.csv',\n",
       " 'geo_corpus.0.0.1/geo_corpus_2013_08_23.csv',\n",
       " 'geo_corpus.0.0.1/geo_corpus_2013_08_21.csv',\n",
       " 'geo_corpus.0.0.1/geo_corpus_2013_08_17.csv',\n",
       " 'geo_corpus.0.0.1/geo_corpus_2013_11_17.csv',\n",
       " 'geo_corpus.0.0.1/geo_corpus_2013_10_14.csv',\n",
       " 'geo_corpus.0.0.1/geo_corpus_2013_08_22.csv',\n",
       " 'geo_corpus.0.0.1/geo_corpus_2013_08_24.csv',\n",
       " 'geo_corpus.0.0.1/geo_corpus_2013_10_13.csv',\n",
       " 'geo_corpus.0.0.1/geo_corpus_2013_08_20.csv',\n",
       " 'geo_corpus.0.0.1/geo_corpus_2013_08_18.csv',\n",
       " 'geo_corpus.0.0.1/geo_corpus_2013_10_11.csv',\n",
       " 'geo_corpus.0.0.1/geo_corpus_2013_08_19.csv',\n",
       " 'geo_corpus.0.0.1/geo_corpus_2013_10_12.csv',\n",
       " 'geo_corpus.0.0.1/geo_corpus_2013_08_01.csv']"
      ]
     },
     "execution_count": 15,
     "metadata": {},
     "output_type": "execute_result"
    }
   ],
   "source": [
    "zf = zipfile.ZipFile('../../Violence_data/geo_corpus.0.0.1.zip')\n",
    "# if you want to see all files inside zip folder\n",
    "zf.namelist()"
   ]
  },
  {
   "cell_type": "code",
   "execution_count": 16,
   "id": "469b518a",
   "metadata": {},
   "outputs": [
    {
     "data": {
      "text/plain": [
       "365"
      ]
     },
     "execution_count": 16,
     "metadata": {},
     "output_type": "execute_result"
    }
   ],
   "source": [
    "# Number of csv files\n",
    "len(zf.namelist())-1"
   ]
  },
  {
   "cell_type": "code",
   "execution_count": 18,
   "id": "e9ee8f93",
   "metadata": {},
   "outputs": [],
   "source": [
    "# read a specific csv file \n",
    "df = pd.read_csv(zf.open('geo_corpus.0.0.1/geo_corpus_2014_03_08.csv'))"
   ]
  },
  {
   "cell_type": "code",
   "execution_count": 19,
   "id": "bd4bc505",
   "metadata": {},
   "outputs": [
    {
     "data": {
      "text/html": [
       "<div>\n",
       "<style scoped>\n",
       "    .dataframe tbody tr th:only-of-type {\n",
       "        vertical-align: middle;\n",
       "    }\n",
       "\n",
       "    .dataframe tbody tr th {\n",
       "        vertical-align: top;\n",
       "    }\n",
       "\n",
       "    .dataframe thead th {\n",
       "        text-align: right;\n",
       "    }\n",
       "</style>\n",
       "<table border=\"1\" class=\"dataframe\">\n",
       "  <thead>\n",
       "    <tr style=\"text-align: right;\">\n",
       "      <th></th>\n",
       "      <th>tweetid</th>\n",
       "      <th>retweetid</th>\n",
       "      <th>date</th>\n",
       "      <th>timestamp</th>\n",
       "      <th>username</th>\n",
       "      <th>geo_x</th>\n",
       "      <th>geo_y</th>\n",
       "      <th>lang</th>\n",
       "      <th>text</th>\n",
       "      <th>key</th>\n",
       "      <th>...</th>\n",
       "      <th>pre3geo10</th>\n",
       "      <th>pre3geo20</th>\n",
       "      <th>pre3geo30</th>\n",
       "      <th>pre3geo50</th>\n",
       "      <th>pre3geo70</th>\n",
       "      <th>pre7geo10</th>\n",
       "      <th>pre7geo20</th>\n",
       "      <th>pre7geo30</th>\n",
       "      <th>pre7geo50</th>\n",
       "      <th>pre7geo70</th>\n",
       "    </tr>\n",
       "  </thead>\n",
       "  <tbody>\n",
       "    <tr>\n",
       "      <th>0</th>\n",
       "      <td>442123759181250560</td>\n",
       "      <td>NaN</td>\n",
       "      <td>2014-03-08</td>\n",
       "      <td>2014-03-08 02:24:53</td>\n",
       "      <td>LeslyFanJazmin</td>\n",
       "      <td>-103.41760</td>\n",
       "      <td>25.54333</td>\n",
       "      <td>nl</td>\n",
       "      <td>@_aprilconp los de gowin</td>\n",
       "      <td>-103_25__2014-03-08 02:24</td>\n",
       "      <td>...</td>\n",
       "      <td>0</td>\n",
       "      <td>0</td>\n",
       "      <td>0</td>\n",
       "      <td>0</td>\n",
       "      <td>0</td>\n",
       "      <td>0</td>\n",
       "      <td>0</td>\n",
       "      <td>0</td>\n",
       "      <td>0</td>\n",
       "      <td>0</td>\n",
       "    </tr>\n",
       "    <tr>\n",
       "      <th>1</th>\n",
       "      <td>442105178834354176</td>\n",
       "      <td>NaN</td>\n",
       "      <td>2014-03-08</td>\n",
       "      <td>2014-03-08 01:11:03</td>\n",
       "      <td>CecyContrerasV</td>\n",
       "      <td>-103.52524</td>\n",
       "      <td>25.53538</td>\n",
       "      <td>es</td>\n",
       "      <td>I m at Instituto Tecnológico Superior de Lerdo...</td>\n",
       "      <td>-103_25__2014-03-08 01:11</td>\n",
       "      <td>...</td>\n",
       "      <td>0</td>\n",
       "      <td>0</td>\n",
       "      <td>0</td>\n",
       "      <td>0</td>\n",
       "      <td>0</td>\n",
       "      <td>0</td>\n",
       "      <td>0</td>\n",
       "      <td>0</td>\n",
       "      <td>0</td>\n",
       "      <td>0</td>\n",
       "    </tr>\n",
       "    <tr>\n",
       "      <th>2</th>\n",
       "      <td>442123950433136640</td>\n",
       "      <td>NaN</td>\n",
       "      <td>2014-03-08</td>\n",
       "      <td>2014-03-08 02:25:38</td>\n",
       "      <td>Jesussari87</td>\n",
       "      <td>-103.41760</td>\n",
       "      <td>25.54333</td>\n",
       "      <td>es</td>\n",
       "      <td>Que triste es que tu propia novia no te crea n...</td>\n",
       "      <td>-103_25__2014-03-08 02:25</td>\n",
       "      <td>...</td>\n",
       "      <td>0</td>\n",
       "      <td>0</td>\n",
       "      <td>0</td>\n",
       "      <td>0</td>\n",
       "      <td>0</td>\n",
       "      <td>0</td>\n",
       "      <td>0</td>\n",
       "      <td>0</td>\n",
       "      <td>0</td>\n",
       "      <td>0</td>\n",
       "    </tr>\n",
       "    <tr>\n",
       "      <th>3</th>\n",
       "      <td>442123916052410368</td>\n",
       "      <td>NaN</td>\n",
       "      <td>2014-03-08</td>\n",
       "      <td>2014-03-08 02:25:30</td>\n",
       "      <td>LeslyFanJazmin</td>\n",
       "      <td>-103.41760</td>\n",
       "      <td>25.54333</td>\n",
       "      <td>es</td>\n",
       "      <td>@JazminconJ buenas noches los quiero mucho : )...</td>\n",
       "      <td>-103_25__2014-03-08 02:25</td>\n",
       "      <td>...</td>\n",
       "      <td>0</td>\n",
       "      <td>0</td>\n",
       "      <td>0</td>\n",
       "      <td>0</td>\n",
       "      <td>0</td>\n",
       "      <td>0</td>\n",
       "      <td>0</td>\n",
       "      <td>0</td>\n",
       "      <td>0</td>\n",
       "      <td>0</td>\n",
       "    </tr>\n",
       "    <tr>\n",
       "      <th>4</th>\n",
       "      <td>442338477745512448</td>\n",
       "      <td>4.420832e+17</td>\n",
       "      <td>2014-03-08</td>\n",
       "      <td>2014-03-08 16:38:06</td>\n",
       "      <td>janeouou</td>\n",
       "      <td>-103.41760</td>\n",
       "      <td>25.54333</td>\n",
       "      <td>en</td>\n",
       "      <td>RT @notbestbeliever: but seriously, i love you...</td>\n",
       "      <td>-103_25__2014-03-08 16:38</td>\n",
       "      <td>...</td>\n",
       "      <td>0</td>\n",
       "      <td>0</td>\n",
       "      <td>0</td>\n",
       "      <td>0</td>\n",
       "      <td>0</td>\n",
       "      <td>0</td>\n",
       "      <td>0</td>\n",
       "      <td>0</td>\n",
       "      <td>0</td>\n",
       "      <td>0</td>\n",
       "    </tr>\n",
       "  </tbody>\n",
       "</table>\n",
       "<p>5 rows × 50 columns</p>\n",
       "</div>"
      ],
      "text/plain": [
       "              tweetid     retweetid        date            timestamp  \\\n",
       "0  442123759181250560           NaN  2014-03-08  2014-03-08 02:24:53   \n",
       "1  442105178834354176           NaN  2014-03-08  2014-03-08 01:11:03   \n",
       "2  442123950433136640           NaN  2014-03-08  2014-03-08 02:25:38   \n",
       "3  442123916052410368           NaN  2014-03-08  2014-03-08 02:25:30   \n",
       "4  442338477745512448  4.420832e+17  2014-03-08  2014-03-08 16:38:06   \n",
       "\n",
       "         username      geo_x     geo_y lang  \\\n",
       "0  LeslyFanJazmin -103.41760  25.54333   nl   \n",
       "1  CecyContrerasV -103.52524  25.53538   es   \n",
       "2     Jesussari87 -103.41760  25.54333   es   \n",
       "3  LeslyFanJazmin -103.41760  25.54333   es   \n",
       "4        janeouou -103.41760  25.54333   en   \n",
       "\n",
       "                                                text  \\\n",
       "0                           @_aprilconp los de gowin   \n",
       "1  I m at Instituto Tecnológico Superior de Lerdo...   \n",
       "2  Que triste es que tu propia novia no te crea n...   \n",
       "3  @JazminconJ buenas noches los quiero mucho : )...   \n",
       "4  RT @notbestbeliever: but seriously, i love you...   \n",
       "\n",
       "                         key  ...  pre3geo10  pre3geo20  pre3geo30  pre3geo50  \\\n",
       "0  -103_25__2014-03-08 02:24  ...          0          0          0          0   \n",
       "1  -103_25__2014-03-08 01:11  ...          0          0          0          0   \n",
       "2  -103_25__2014-03-08 02:25  ...          0          0          0          0   \n",
       "3  -103_25__2014-03-08 02:25  ...          0          0          0          0   \n",
       "4  -103_25__2014-03-08 16:38  ...          0          0          0          0   \n",
       "\n",
       "   pre3geo70  pre7geo10  pre7geo20  pre7geo30  pre7geo50  pre7geo70  \n",
       "0          0          0          0          0          0          0  \n",
       "1          0          0          0          0          0          0  \n",
       "2          0          0          0          0          0          0  \n",
       "3          0          0          0          0          0          0  \n",
       "4          0          0          0          0          0          0  \n",
       "\n",
       "[5 rows x 50 columns]"
      ]
     },
     "execution_count": 19,
     "metadata": {},
     "output_type": "execute_result"
    }
   ],
   "source": [
    "df.head()"
   ]
  },
  {
   "cell_type": "code",
   "execution_count": 20,
   "id": "2b6a432e",
   "metadata": {},
   "outputs": [
    {
     "data": {
      "text/plain": [
       "Index(['tweetid', 'retweetid', 'date', 'timestamp', 'username', 'geo_x',\n",
       "       'geo_y', 'lang', 'text', 'key', 'post1geo10', 'post1geo20',\n",
       "       'post1geo30', 'post1geo50', 'post1geo70', 'post2geo10', 'post2geo20',\n",
       "       'post2geo30', 'post2geo50', 'post2geo70', 'post3geo10', 'post3geo20',\n",
       "       'post3geo30', 'post3geo50', 'post3geo70', 'post7geo10', 'post7geo20',\n",
       "       'post7geo30', 'post7geo50', 'post7geo70', 'pre1geo10', 'pre1geo20',\n",
       "       'pre1geo30', 'pre1geo50', 'pre1geo70', 'pre2geo10', 'pre2geo20',\n",
       "       'pre2geo30', 'pre2geo50', 'pre2geo70', 'pre3geo10', 'pre3geo20',\n",
       "       'pre3geo30', 'pre3geo50', 'pre3geo70', 'pre7geo10', 'pre7geo20',\n",
       "       'pre7geo30', 'pre7geo50', 'pre7geo70'],\n",
       "      dtype='object')"
      ]
     },
     "execution_count": 20,
     "metadata": {},
     "output_type": "execute_result"
    }
   ],
   "source": [
    "df.columns"
   ]
  },
  {
   "cell_type": "markdown",
   "id": "c864bedd",
   "metadata": {},
   "source": [
    "### Define a function to remove Usernames, RT & HTTP Links From Tweet Data"
   ]
  },
  {
   "cell_type": "code",
   "execution_count": 21,
   "id": "9120deb7",
   "metadata": {},
   "outputs": [],
   "source": [
    "def remove_usernames_links_rt(tweet):\n",
    "    tweet = re.sub('@[^\\s]+','', tweet)\n",
    "    tweet = re.sub('http[^\\s]+','', tweet)\n",
    "    tweet = re.sub('RT ', '', tweet)\n",
    "    return tweet"
   ]
  },
  {
   "cell_type": "markdown",
   "id": "e3656885",
   "metadata": {},
   "source": [
    "### Loop over every csv file, read every line, apply the pre-processing function for every tweet"
   ]
  },
  {
   "cell_type": "code",
   "execution_count": 22,
   "id": "d1f7b152",
   "metadata": {},
   "outputs": [],
   "source": [
    "sequences = []"
   ]
  },
  {
   "cell_type": "code",
   "execution_count": 23,
   "id": "5a1a5eef",
   "metadata": {},
   "outputs": [
    {
     "ename": "TypeError",
     "evalue": "expected string or bytes-like object",
     "output_type": "error",
     "traceback": [
      "\u001b[0;31m---------------------------------------------------------------------------\u001b[0m",
      "\u001b[0;31mTypeError\u001b[0m                                 Traceback (most recent call last)",
      "Cell \u001b[0;32mIn [23], line 3\u001b[0m\n\u001b[1;32m      1\u001b[0m \u001b[38;5;28;01mfor\u001b[39;00m file \u001b[38;5;129;01min\u001b[39;00m zf\u001b[38;5;241m.\u001b[39mnamelist()[\u001b[38;5;241m1\u001b[39m:]:  \u001b[38;5;66;03m# Do not read the first item which is not a csv file\u001b[39;00m\n\u001b[1;32m      2\u001b[0m     df \u001b[38;5;241m=\u001b[39m pd\u001b[38;5;241m.\u001b[39mread_csv(zf\u001b[38;5;241m.\u001b[39mopen(file))\n\u001b[0;32m----> 3\u001b[0m     df[\u001b[38;5;124m'\u001b[39m\u001b[38;5;124mtext\u001b[39m\u001b[38;5;124m'\u001b[39m] \u001b[38;5;241m=\u001b[39m \u001b[43mdf\u001b[49m\u001b[43m[\u001b[49m\u001b[38;5;124;43m'\u001b[39;49m\u001b[38;5;124;43mtext\u001b[39;49m\u001b[38;5;124;43m'\u001b[39;49m\u001b[43m]\u001b[49m\u001b[38;5;241;43m.\u001b[39;49m\u001b[43mapply\u001b[49m\u001b[43m(\u001b[49m\u001b[43mremove_usernames_links_rt\u001b[49m\u001b[43m)\u001b[49m\n\u001b[1;32m      4\u001b[0m     \u001b[38;5;66;03m# remove white spaces\u001b[39;00m\n\u001b[1;32m      5\u001b[0m     df[\u001b[38;5;124m'\u001b[39m\u001b[38;5;124mtext\u001b[39m\u001b[38;5;124m'\u001b[39m]\u001b[38;5;241m.\u001b[39mstr\u001b[38;5;241m.\u001b[39mstrip()\n",
      "File \u001b[0;32m~/transformers/lib/python3.8/site-packages/pandas/core/series.py:4771\u001b[0m, in \u001b[0;36mSeries.apply\u001b[0;34m(self, func, convert_dtype, args, **kwargs)\u001b[0m\n\u001b[1;32m   4661\u001b[0m \u001b[38;5;28;01mdef\u001b[39;00m \u001b[38;5;21mapply\u001b[39m(\n\u001b[1;32m   4662\u001b[0m     \u001b[38;5;28mself\u001b[39m,\n\u001b[1;32m   4663\u001b[0m     func: AggFuncType,\n\u001b[0;32m   (...)\u001b[0m\n\u001b[1;32m   4666\u001b[0m     \u001b[38;5;241m*\u001b[39m\u001b[38;5;241m*\u001b[39mkwargs,\n\u001b[1;32m   4667\u001b[0m ) \u001b[38;5;241m-\u001b[39m\u001b[38;5;241m>\u001b[39m DataFrame \u001b[38;5;241m|\u001b[39m Series:\n\u001b[1;32m   4668\u001b[0m     \u001b[38;5;124;03m\"\"\"\u001b[39;00m\n\u001b[1;32m   4669\u001b[0m \u001b[38;5;124;03m    Invoke function on values of Series.\u001b[39;00m\n\u001b[1;32m   4670\u001b[0m \n\u001b[0;32m   (...)\u001b[0m\n\u001b[1;32m   4769\u001b[0m \u001b[38;5;124;03m    dtype: float64\u001b[39;00m\n\u001b[1;32m   4770\u001b[0m \u001b[38;5;124;03m    \"\"\"\u001b[39;00m\n\u001b[0;32m-> 4771\u001b[0m     \u001b[38;5;28;01mreturn\u001b[39;00m \u001b[43mSeriesApply\u001b[49m\u001b[43m(\u001b[49m\u001b[38;5;28;43mself\u001b[39;49m\u001b[43m,\u001b[49m\u001b[43m \u001b[49m\u001b[43mfunc\u001b[49m\u001b[43m,\u001b[49m\u001b[43m \u001b[49m\u001b[43mconvert_dtype\u001b[49m\u001b[43m,\u001b[49m\u001b[43m \u001b[49m\u001b[43margs\u001b[49m\u001b[43m,\u001b[49m\u001b[43m \u001b[49m\u001b[43mkwargs\u001b[49m\u001b[43m)\u001b[49m\u001b[38;5;241;43m.\u001b[39;49m\u001b[43mapply\u001b[49m\u001b[43m(\u001b[49m\u001b[43m)\u001b[49m\n",
      "File \u001b[0;32m~/transformers/lib/python3.8/site-packages/pandas/core/apply.py:1105\u001b[0m, in \u001b[0;36mSeriesApply.apply\u001b[0;34m(self)\u001b[0m\n\u001b[1;32m   1102\u001b[0m     \u001b[38;5;28;01mreturn\u001b[39;00m \u001b[38;5;28mself\u001b[39m\u001b[38;5;241m.\u001b[39mapply_str()\n\u001b[1;32m   1104\u001b[0m \u001b[38;5;66;03m# self.f is Callable\u001b[39;00m\n\u001b[0;32m-> 1105\u001b[0m \u001b[38;5;28;01mreturn\u001b[39;00m \u001b[38;5;28;43mself\u001b[39;49m\u001b[38;5;241;43m.\u001b[39;49m\u001b[43mapply_standard\u001b[49m\u001b[43m(\u001b[49m\u001b[43m)\u001b[49m\n",
      "File \u001b[0;32m~/transformers/lib/python3.8/site-packages/pandas/core/apply.py:1156\u001b[0m, in \u001b[0;36mSeriesApply.apply_standard\u001b[0;34m(self)\u001b[0m\n\u001b[1;32m   1154\u001b[0m     \u001b[38;5;28;01melse\u001b[39;00m:\n\u001b[1;32m   1155\u001b[0m         values \u001b[38;5;241m=\u001b[39m obj\u001b[38;5;241m.\u001b[39mastype(\u001b[38;5;28mobject\u001b[39m)\u001b[38;5;241m.\u001b[39m_values\n\u001b[0;32m-> 1156\u001b[0m         mapped \u001b[38;5;241m=\u001b[39m \u001b[43mlib\u001b[49m\u001b[38;5;241;43m.\u001b[39;49m\u001b[43mmap_infer\u001b[49m\u001b[43m(\u001b[49m\n\u001b[1;32m   1157\u001b[0m \u001b[43m            \u001b[49m\u001b[43mvalues\u001b[49m\u001b[43m,\u001b[49m\n\u001b[1;32m   1158\u001b[0m \u001b[43m            \u001b[49m\u001b[43mf\u001b[49m\u001b[43m,\u001b[49m\n\u001b[1;32m   1159\u001b[0m \u001b[43m            \u001b[49m\u001b[43mconvert\u001b[49m\u001b[38;5;241;43m=\u001b[39;49m\u001b[38;5;28;43mself\u001b[39;49m\u001b[38;5;241;43m.\u001b[39;49m\u001b[43mconvert_dtype\u001b[49m\u001b[43m,\u001b[49m\n\u001b[1;32m   1160\u001b[0m \u001b[43m        \u001b[49m\u001b[43m)\u001b[49m\n\u001b[1;32m   1162\u001b[0m \u001b[38;5;28;01mif\u001b[39;00m \u001b[38;5;28mlen\u001b[39m(mapped) \u001b[38;5;129;01mand\u001b[39;00m \u001b[38;5;28misinstance\u001b[39m(mapped[\u001b[38;5;241m0\u001b[39m], ABCSeries):\n\u001b[1;32m   1163\u001b[0m     \u001b[38;5;66;03m# GH#43986 Need to do list(mapped) in order to get treated as nested\u001b[39;00m\n\u001b[1;32m   1164\u001b[0m     \u001b[38;5;66;03m#  See also GH#25959 regarding EA support\u001b[39;00m\n\u001b[1;32m   1165\u001b[0m     \u001b[38;5;28;01mreturn\u001b[39;00m obj\u001b[38;5;241m.\u001b[39m_constructor_expanddim(\u001b[38;5;28mlist\u001b[39m(mapped), index\u001b[38;5;241m=\u001b[39mobj\u001b[38;5;241m.\u001b[39mindex)\n",
      "File \u001b[0;32m~/transformers/lib/python3.8/site-packages/pandas/_libs/lib.pyx:2918\u001b[0m, in \u001b[0;36mpandas._libs.lib.map_infer\u001b[0;34m()\u001b[0m\n",
      "Cell \u001b[0;32mIn [21], line 2\u001b[0m, in \u001b[0;36mremove_usernames_links_rt\u001b[0;34m(tweet)\u001b[0m\n\u001b[1;32m      1\u001b[0m \u001b[38;5;28;01mdef\u001b[39;00m \u001b[38;5;21mremove_usernames_links_rt\u001b[39m(tweet):\n\u001b[0;32m----> 2\u001b[0m     tweet \u001b[38;5;241m=\u001b[39m \u001b[43mre\u001b[49m\u001b[38;5;241;43m.\u001b[39;49m\u001b[43msub\u001b[49m\u001b[43m(\u001b[49m\u001b[38;5;124;43m'\u001b[39;49m\u001b[38;5;124;43m@[^\u001b[39;49m\u001b[38;5;124;43m\\\u001b[39;49m\u001b[38;5;124;43ms]+\u001b[39;49m\u001b[38;5;124;43m'\u001b[39;49m\u001b[43m,\u001b[49m\u001b[38;5;124;43m'\u001b[39;49m\u001b[38;5;124;43m'\u001b[39;49m\u001b[43m,\u001b[49m\u001b[43m \u001b[49m\u001b[43mtweet\u001b[49m\u001b[43m)\u001b[49m\n\u001b[1;32m      3\u001b[0m     tweet \u001b[38;5;241m=\u001b[39m re\u001b[38;5;241m.\u001b[39msub(\u001b[38;5;124m'\u001b[39m\u001b[38;5;124mhttp[^\u001b[39m\u001b[38;5;124m\\\u001b[39m\u001b[38;5;124ms]+\u001b[39m\u001b[38;5;124m'\u001b[39m,\u001b[38;5;124m'\u001b[39m\u001b[38;5;124m'\u001b[39m, tweet)\n\u001b[1;32m      4\u001b[0m     tweet \u001b[38;5;241m=\u001b[39m re\u001b[38;5;241m.\u001b[39msub(\u001b[38;5;124m'\u001b[39m\u001b[38;5;124mRT \u001b[39m\u001b[38;5;124m'\u001b[39m, \u001b[38;5;124m'\u001b[39m\u001b[38;5;124m'\u001b[39m, tweet)\n",
      "File \u001b[0;32m/usr/local/miniconda3/lib/python3.8/re.py:210\u001b[0m, in \u001b[0;36msub\u001b[0;34m(pattern, repl, string, count, flags)\u001b[0m\n\u001b[1;32m    203\u001b[0m \u001b[38;5;28;01mdef\u001b[39;00m \u001b[38;5;21msub\u001b[39m(pattern, repl, string, count\u001b[38;5;241m=\u001b[39m\u001b[38;5;241m0\u001b[39m, flags\u001b[38;5;241m=\u001b[39m\u001b[38;5;241m0\u001b[39m):\n\u001b[1;32m    204\u001b[0m     \u001b[38;5;124;03m\"\"\"Return the string obtained by replacing the leftmost\u001b[39;00m\n\u001b[1;32m    205\u001b[0m \u001b[38;5;124;03m    non-overlapping occurrences of the pattern in string by the\u001b[39;00m\n\u001b[1;32m    206\u001b[0m \u001b[38;5;124;03m    replacement repl.  repl can be either a string or a callable;\u001b[39;00m\n\u001b[1;32m    207\u001b[0m \u001b[38;5;124;03m    if a string, backslash escapes in it are processed.  If it is\u001b[39;00m\n\u001b[1;32m    208\u001b[0m \u001b[38;5;124;03m    a callable, it's passed the Match object and must return\u001b[39;00m\n\u001b[1;32m    209\u001b[0m \u001b[38;5;124;03m    a replacement string to be used.\"\"\"\u001b[39;00m\n\u001b[0;32m--> 210\u001b[0m     \u001b[38;5;28;01mreturn\u001b[39;00m \u001b[43m_compile\u001b[49m\u001b[43m(\u001b[49m\u001b[43mpattern\u001b[49m\u001b[43m,\u001b[49m\u001b[43m \u001b[49m\u001b[43mflags\u001b[49m\u001b[43m)\u001b[49m\u001b[38;5;241;43m.\u001b[39;49m\u001b[43msub\u001b[49m\u001b[43m(\u001b[49m\u001b[43mrepl\u001b[49m\u001b[43m,\u001b[49m\u001b[43m \u001b[49m\u001b[43mstring\u001b[49m\u001b[43m,\u001b[49m\u001b[43m \u001b[49m\u001b[43mcount\u001b[49m\u001b[43m)\u001b[49m\n",
      "\u001b[0;31mTypeError\u001b[0m: expected string or bytes-like object"
     ]
    }
   ],
   "source": [
    "for file in zf.namelist()[1:]:  # Do not read the first item which is not a csv file\n",
    "    df = pd.read_csv(zf.open(file))\n",
    "    df['text'] = df['text'].apply(remove_usernames_links_rt)\n",
    "    # remove white spaces\n",
    "    df['text'].str.strip()\n",
    "    # remove rows where text is empty  \n",
    "    df.dropna(subset = ['text'], inplace=True)\n",
    "    sequences.append(df)"
   ]
  },
  {
   "cell_type": "code",
   "execution_count": null,
   "id": "0b13ef61",
   "metadata": {},
   "outputs": [],
   "source": [
    "seq = pd.concat(sequences)"
   ]
  },
  {
   "cell_type": "markdown",
   "id": "baaca358",
   "metadata": {},
   "source": [
    "### Looking at class distributions"
   ]
  },
  {
   "cell_type": "code",
   "execution_count": 28,
   "id": "07e244e7",
   "metadata": {},
   "outputs": [
    {
     "data": {
      "image/png": "[encoded data removed]",
      "text/plain": [
       "<Figure size 720x576 with 1 Axes>"
      ]
     },
     "metadata": {
      "needs_background": "light"
     },
     "output_type": "display_data"
    }
   ],
   "source": [
    "multilabel_columns = seq.columns.tolist()[10:]\n",
    "plt.rcParams[\"figure.figsize\"] = (10,8)\n",
    "seq[multilabel_columns].sum().sort_values().plot(kind=\"barh\");"
   ]
  },
  {
   "cell_type": "code",
   "execution_count": 29,
   "id": "a9f5659e",
   "metadata": {},
   "outputs": [
    {
     "data": {
      "image/png": "[encoded data removed]",
      "text/plain": [
       "<Figure size 460.8x345.6 with 1 Axes>"
      ]
     },
     "metadata": {
      "needs_background": "light"
     },
     "output_type": "display_data"
    }
   ],
   "source": [
    "plt.rcParams[\"figure.figsize\"] = plt.rcParamsDefault[\"figure.figsize\"] # reset it back to original parameters\n",
    "seq_7_30 = ['pre7geo30', 'post7geo30']\n",
    "seq[seq_7_30].sum().sort_values().plot(kind=\"barh\");"
   ]
  },
  {
   "cell_type": "code",
   "execution_count": null,
   "id": "5acaa1f4",
   "metadata": {},
   "outputs": [],
   "source": [
    "plt.rcParams[\"figure.figsize\"] = plt.rcParamsDefault[\"figure.figsize\"] # reset it back to original parameters\n",
    "seq_7 = ['pre7geo10','pre7geo30','pre7geo50','post7geo10','post7geo30','post7geo50']\n",
    "seq[seq_7].sum().sort_values().plot(kind=\"barh\");"
   ]
  },
  {
   "cell_type": "code",
   "execution_count": 30,
   "id": "e6e9247d",
   "metadata": {},
   "outputs": [
    {
     "data": {
      "image/png": "[encoded data removed]",
      "text/plain": [
       "<Figure size 460.8x345.6 with 1 Axes>"
      ]
     },
     "metadata": {
      "needs_background": "light"
     },
     "output_type": "display_data"
    }
   ],
   "source": [
    "violent = seq[seq[seq_7_30].sum(axis=1) > 0]\n",
    "non_violent = seq[seq[seq_7_30].sum(axis=1) == 0]\n",
    "\n",
    "pd.DataFrame(dict(\n",
    "    violent = [len(violent)],\n",
    "    non_violent = [len(non_violent)]\n",
    ")).plot(kind='barh');"
   ]
  },
  {
   "cell_type": "code",
   "execution_count": 31,
   "id": "e375e6b5",
   "metadata": {},
   "outputs": [
    {
     "data": {
      "text/plain": [
       "(18274976, 50)"
      ]
     },
     "execution_count": 31,
     "metadata": {},
     "output_type": "execute_result"
    }
   ],
   "source": [
    "seq.shape"
   ]
  },
  {
   "cell_type": "code",
   "execution_count": 32,
   "id": "51848450",
   "metadata": {},
   "outputs": [
    {
     "data": {
      "image/png": "[encoded data removed]",
      "text/plain": [
       "<Figure size 460.8x345.6 with 1 Axes>"
      ]
     },
     "metadata": {
      "needs_background": "light"
     },
     "output_type": "display_data"
    }
   ],
   "source": [
    "seq[\"Words Per Tweet\"] = seq[\"text\"].str.split().apply(len)\n",
    "seq.boxplot(\"Words Per Tweet\", by = \"pre7geo30\", grid = False,\n",
    "          showfliers=False, color = \"black\")\n",
    "plt.suptitle(\"\")\n",
    "plt.xlabel(\"\")\n",
    "plt.show()"
   ]
  },
  {
   "cell_type": "markdown",
   "id": "a723d119",
   "metadata": {},
   "source": [
    "### Language distribution"
   ]
  },
  {
   "cell_type": "code",
   "execution_count": 33,
   "id": "df5857f4",
   "metadata": {},
   "outputs": [
    {
     "data": {
      "text/plain": [
       "array(['ko', 'es', 'en', 'pt', 'vi', 'it', 'und', 'fr', 'et', 'de', 'da',\n",
       "       'fi', 'pl', 'tr', 'ht', 'tl', 'sl', 'sk', 'sv', 'lv', 'ja', 'in',\n",
       "       'ar', 'hu', 'el', 'nl', 'zh', 'lt', 'ru', 'bg', 'no', 'is', 'th',\n",
       "       'ur', 'fa', 'uk', 'iw', 'pa', 'am', 'ne', 'hy', 'bn', 'hi', 'chr',\n",
       "       'ta', 'iu', 'bo', 'ka', 'gu', 'te', 'lo', 'ro', 'bs', 'cy', 'hr',\n",
       "       'sr', 'ckb', 'ps', 'ug', 'sn', 'kn', 'sd', 'km', 'si', 'id', 'he',\n",
       "       'or', 'ml'], dtype=object)"
      ]
     },
     "execution_count": 33,
     "metadata": {},
     "output_type": "execute_result"
    }
   ],
   "source": [
    "seq['lang'].unique()"
   ]
  },
  {
   "cell_type": "code",
   "execution_count": 34,
   "id": "635b2e1c",
   "metadata": {},
   "outputs": [
    {
     "data": {
      "text/plain": [
       "68"
      ]
     },
     "execution_count": 34,
     "metadata": {},
     "output_type": "execute_result"
    }
   ],
   "source": [
    "len(seq['lang'].unique())"
   ]
  },
  {
   "cell_type": "code",
   "execution_count": 35,
   "id": "9bd24a1b",
   "metadata": {},
   "outputs": [
    {
     "data": {
      "image/png": "[encoded data removed]",
      "text/plain": [
       "<Figure size 720x576 with 1 Axes>"
      ]
     },
     "metadata": {
      "needs_background": "light"
     },
     "output_type": "display_data"
    }
   ],
   "source": [
    "# Log-scale\n",
    "plt.rcParams[\"figure.figsize\"] = (10,8)\n",
    "np.log(seq['lang'].value_counts()).sort_values(ascending=False).plot.bar();"
   ]
  },
  {
   "cell_type": "code",
   "execution_count": 36,
   "id": "d5d023ee",
   "metadata": {},
   "outputs": [
    {
     "data": {
      "image/png": "[encoded data removed]",
      "text/plain": [
       "<Figure size 720x576 with 1 Axes>"
      ]
     },
     "metadata": {
      "needs_background": "light"
     },
     "output_type": "display_data"
    }
   ],
   "source": [
    "# regular scale\n",
    "seq['lang'].value_counts().sort_values(ascending=False).plot.bar();"
   ]
  },
  {
   "cell_type": "code",
   "execution_count": null,
   "id": "672f5a00",
   "metadata": {},
   "outputs": [],
   "source": []
  }
 ],
 "metadata": {
  "kernelspec": {
   "display_name": "Python 3 (ipykernel)",
   "language": "python",
   "name": "python3"
  },
  "language_info": {
   "codemirror_mode": {
    "name": "ipython",
    "version": 3
   },
   "file_extension": ".py",
   "mimetype": "text/x-python",
   "name": "python",
   "nbconvert_exporter": "python",
   "pygments_lexer": "ipython3",
   "version": "3.8.3"
  }
 },
 "nbformat": 4,
 "nbformat_minor": 5
}
