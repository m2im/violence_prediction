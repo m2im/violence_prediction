{
 "cells": [
  {
   "cell_type": "code",
   "execution_count": 1,
   "id": "cb7fe031-2f51-40e3-a8a8-ed1b94ce4f00",
   "metadata": {},
   "outputs": [],
   "source": [
    "import pandas as pd\n",
    "\n",
    "from geopy.geocoders import Nominatim\n",
    "from joblib import Parallel, delayed\n",
    "from tqdm import tqdm\n",
    "from argparse import Namespace"
   ]
  },
  {
   "cell_type": "code",
   "execution_count": 4,
   "id": "d324e72c-7cc9-48ce-b5ca-e30d6a5d2d94",
   "metadata": {},
   "outputs": [],
   "source": [
    "config = {\n",
    "    # \"fin\": \"../data/csv_performance_all_models/xlmt_inference_test_set.csv\",\n",
    "    \"fin\": \"/data3/mmendieta/Violence_data/csv_files_global_scale/xlmt_inference_test_set.csv\",\n",
    "    # \"fout\": \"../data/csv_performance_all_models/xlmt_inference_test_set_with_country.csv\"\n",
    "    \"fout\": \"/data3/mmendieta/Violence_data/csv_files_global_scale/xlmt_inference_test_set_with_country.csv\"\n",
    "}\n",
    "\n",
    "args = Namespace(**config)"
   ]
  },
  {
   "cell_type": "code",
   "execution_count": 5,
   "id": "b9bece01-4c2f-4d32-9f8f-9f42fa42d6c8",
   "metadata": {},
   "outputs": [],
   "source": [
    "# read the file\n",
    "df = pd.read_csv(args.fin, engine='python', on_bad_lines='skip', encoding='utf-8')"
   ]
  },
  {
   "cell_type": "code",
   "execution_count": 6,
   "id": "89804791-b0e4-413b-af9d-36ed111224bc",
   "metadata": {},
   "outputs": [
    {
     "data": {
      "text/html": [
       "<div>\n",
       "<style scoped>\n",
       "    .dataframe tbody tr th:only-of-type {\n",
       "        vertical-align: middle;\n",
       "    }\n",
       "\n",
       "    .dataframe tbody tr th {\n",
       "        vertical-align: top;\n",
       "    }\n",
       "\n",
       "    .dataframe thead th {\n",
       "        text-align: right;\n",
       "    }\n",
       "</style>\n",
       "<table border=\"1\" class=\"dataframe\">\n",
       "  <thead>\n",
       "    <tr style=\"text-align: right;\">\n",
       "      <th></th>\n",
       "      <th>tweetid</th>\n",
       "      <th>text</th>\n",
       "      <th>lang</th>\n",
       "      <th>geo_x</th>\n",
       "      <th>geo_y</th>\n",
       "      <th>post7geo10_true</th>\n",
       "      <th>post7geo30_true</th>\n",
       "      <th>post7geo50_true</th>\n",
       "      <th>pre7geo10_true</th>\n",
       "      <th>pre7geo30_true</th>\n",
       "      <th>pre7geo50_true</th>\n",
       "      <th>post7geo10</th>\n",
       "      <th>post7geo30</th>\n",
       "      <th>post7geo50</th>\n",
       "      <th>pre7geo10</th>\n",
       "      <th>pre7geo30</th>\n",
       "      <th>pre7geo50</th>\n",
       "    </tr>\n",
       "  </thead>\n",
       "  <tbody>\n",
       "    <tr>\n",
       "      <th>1</th>\n",
       "      <td>472390379434938369</td>\n",
       "      <td>Que a Kimberly la dejen ir, por favor y gracias.</td>\n",
       "      <td>es</td>\n",
       "      <td>-66.879189</td>\n",
       "      <td>10.48801</td>\n",
       "      <td>0.0</td>\n",
       "      <td>0.0</td>\n",
       "      <td>0.0</td>\n",
       "      <td>0.0</td>\n",
       "      <td>0.0</td>\n",
       "      <td>0.0</td>\n",
       "      <td>0.293337</td>\n",
       "      <td>0.432246</td>\n",
       "      <td>0.528523</td>\n",
       "      <td>0.447481</td>\n",
       "      <td>0.553607</td>\n",
       "      <td>0.688987</td>\n",
       "    </tr>\n",
       "    <tr>\n",
       "      <th>2</th>\n",
       "      <td>422031463429984256</td>\n",
       "      <td>it hurts right ? :D</td>\n",
       "      <td>en</td>\n",
       "      <td>67.082199</td>\n",
       "      <td>24.90560</td>\n",
       "      <td>1.0</td>\n",
       "      <td>1.0</td>\n",
       "      <td>1.0</td>\n",
       "      <td>1.0</td>\n",
       "      <td>1.0</td>\n",
       "      <td>1.0</td>\n",
       "      <td>0.387055</td>\n",
       "      <td>0.544625</td>\n",
       "      <td>0.583162</td>\n",
       "      <td>0.392447</td>\n",
       "      <td>0.559619</td>\n",
       "      <td>0.588813</td>\n",
       "    </tr>\n",
       "  </tbody>\n",
       "</table>\n",
       "</div>"
      ],
      "text/plain": [
       "              tweetid                                              text lang  \\\n",
       "1  472390379434938369  Que a Kimberly la dejen ir, por favor y gracias.   es   \n",
       "2  422031463429984256                               it hurts right ? :D   en   \n",
       "\n",
       "       geo_x     geo_y  post7geo10_true  post7geo30_true  post7geo50_true  \\\n",
       "1 -66.879189  10.48801              0.0              0.0              0.0   \n",
       "2  67.082199  24.90560              1.0              1.0              1.0   \n",
       "\n",
       "   pre7geo10_true  pre7geo30_true  pre7geo50_true  post7geo10  post7geo30  \\\n",
       "1             0.0             0.0             0.0    0.293337    0.432246   \n",
       "2             1.0             1.0             1.0    0.387055    0.544625   \n",
       "\n",
       "   post7geo50  pre7geo10  pre7geo30  pre7geo50  \n",
       "1    0.528523   0.447481   0.553607   0.688987  \n",
       "2    0.583162   0.392447   0.559619   0.588813  "
      ]
     },
     "execution_count": 6,
     "metadata": {},
     "output_type": "execute_result"
    }
   ],
   "source": [
    "df[1:3]"
   ]
  },
  {
   "cell_type": "code",
   "execution_count": 7,
   "id": "4ccd08cd-54ce-48e7-9740-3ec103d95ef8",
   "metadata": {},
   "outputs": [],
   "source": [
    "# Cache for storing results\n",
    "cache = {}\n",
    "\n",
    "# Function to get country from coordinates with caching\n",
    "def get_country_cached(geo_x, geo_y):\n",
    "    # Instantiate geolocator inside the function to avoid pickling issues\n",
    "    geolocator = Nominatim(user_agent=\"geo_locator\")\n",
    "    key = (geo_y, geo_x)  # Use latitude and longitude as key\n",
    "    \n",
    "    if key in cache:\n",
    "        return cache[key]  # Return cached result if available\n",
    "    else:\n",
    "        try:\n",
    "            # Reverse geocode to get the country\n",
    "            location = geolocator.reverse(key, language='en')\n",
    "            if location and 'country' in location.raw['address']:\n",
    "                country = location.raw['address']['country']\n",
    "            else:\n",
    "                country = \"Unknown\"\n",
    "        except Exception as e:\n",
    "            country = \"Unknown\"\n",
    "        # Store result in cache\n",
    "        cache[key] = country\n",
    "        return country"
   ]
  },
  {
   "cell_type": "code",
   "execution_count": 8,
   "id": "aa1cd0a7-d126-4aa5-9a74-9f944140b846",
   "metadata": {},
   "outputs": [
    {
     "name": "stderr",
     "output_type": "stream",
     "text": [
      "100%|█████████████████████████████| 2331326/2331326 [34:57:30<00:00, 18.52it/s]\n"
     ]
    }
   ],
   "source": [
    "# This code takes approximately 40-50 mins to complete (for 10,000 samples)\n",
    "# Enable progress bar for parallel processing\n",
    "tqdm.pandas()\n",
    "\n",
    "# Apply the function in parallel to infer country\n",
    "df['country'] = Parallel(n_jobs=-1)(\n",
    "    delayed(get_country_cached)(row['geo_x'], row['geo_y']) for _, row in tqdm(df.iterrows(), total=len(df))\n",
    ")"
   ]
  },
  {
   "cell_type": "code",
   "execution_count": 9,
   "id": "48e7c82c-db4f-4be7-98b8-462c2f70dcb6",
   "metadata": {},
   "outputs": [
    {
     "name": "stdout",
     "output_type": "stream",
     "text": [
      "Country Counts:\n",
      "Unknown        2331317\n",
      "Pakistan             3\n",
      "Egypt                2\n",
      "Venezuela            2\n",
      "Lebanon              1\n",
      "Philippines          1\n",
      "Name: country, dtype: int64\n"
     ]
    }
   ],
   "source": [
    "# Count the occurrences of each country\n",
    "country_counts = df['country'].value_counts()\n",
    "\n",
    "# Display the counts\n",
    "print(\"Country Counts:\")\n",
    "print(country_counts)"
   ]
  },
  {
   "cell_type": "code",
   "execution_count": 10,
   "id": "807f3023-0e2a-4bc1-bb56-50ff56f0c61f",
   "metadata": {},
   "outputs": [
    {
     "name": "stdout",
     "output_type": "stream",
     "text": [
      "Number of observations with 'Unknown' country: 2331317\n",
      "              tweetid                                               text lang  \\\n",
      "0  388328898662268928                             talking abt my case ☺️   en   \n",
      "1  472390379434938369   Que a Kimberly la dejen ir, por favor y gracias.   es   \n",
      "2  422031463429984256                                it hurts right ? :D   en   \n",
      "3  469163284034519040                  (وتحبون المال حبا جما) [الفجر:20]   ar   \n",
      "4  413132210666242048  La inflación anualizada saltó a 57% y en alime...   es   \n",
      "\n",
      "       geo_x      geo_y  post7geo10_true  post7geo30_true  post7geo50_true  \\\n",
      "0  35.494419  33.888939              0.0              0.0              0.0   \n",
      "1 -66.879189  10.488010              0.0              0.0              0.0   \n",
      "2  67.082199  24.905600              1.0              1.0              1.0   \n",
      "3  35.833328  32.500000              0.0              1.0              1.0   \n",
      "4 -66.879189  10.488010              0.0              1.0              1.0   \n",
      "\n",
      "   pre7geo10_true  pre7geo30_true  pre7geo50_true  post7geo10  post7geo30  \\\n",
      "0             0.0             0.0             0.0    0.226729    0.327225   \n",
      "1             0.0             0.0             0.0    0.293337    0.432246   \n",
      "2             1.0             1.0             1.0    0.387055    0.544625   \n",
      "3             0.0             1.0             1.0    0.035168    0.038399   \n",
      "4             1.0             1.0             1.0    0.523534    0.921772   \n",
      "\n",
      "   post7geo50  pre7geo10  pre7geo30  pre7geo50  country  \n",
      "0    0.441366   0.219654   0.319141   0.428589  Unknown  \n",
      "1    0.528523   0.447481   0.553607   0.688987  Unknown  \n",
      "2    0.583162   0.392447   0.559619   0.588813  Unknown  \n",
      "3    0.056211   0.041120   0.046594   0.070071  Unknown  \n",
      "4    0.950220   0.902491   0.977367   0.988067  Unknown  \n",
      "Observations with 'Unknown' country saved to 'unknown_locations.csv'\n"
     ]
    }
   ],
   "source": [
    "# Filter rows where the country is \"Unknown\"\n",
    "unknown_locations = df[df['country'] == \"Unknown\"]\n",
    "\n",
    "# Display the filtered DataFrame\n",
    "print(f\"Number of observations with 'Unknown' country: {len(unknown_locations)}\")\n",
    "print(unknown_locations.head())\n",
    "\n",
    "# Optionally, save the filtered observations to a CSV file\n",
    "unknown_locations.to_csv(\"unknown_locations.csv\", index=False)\n",
    "print(\"Observations with 'Unknown' country saved to 'unknown_locations.csv'\")"
   ]
  },
  {
   "cell_type": "code",
   "execution_count": 11,
   "id": "6b010ce6-feaa-47d3-9ec0-6b57522eb4bd",
   "metadata": {},
   "outputs": [
    {
     "name": "stdout",
     "output_type": "stream",
     "text": [
      "geo_x: min=-110.9936981201172, max=126.56413269042967\n",
      "geo_y: min=-22.999980926513672, max=50.95496368408203\n"
     ]
    }
   ],
   "source": [
    "# Calculate min and max for geo_x and geo_y\n",
    "geo_x_min, geo_x_max = df['geo_x'].min(), df['geo_x'].max()\n",
    "geo_y_min, geo_y_max = df['geo_y'].min(), df['geo_y'].max()\n",
    "\n",
    "# Print results\n",
    "print(f\"geo_x: min={geo_x_min}, max={geo_x_max}\")\n",
    "print(f\"geo_y: min={geo_y_min}, max={geo_y_max}\")"
   ]
  },
  {
   "cell_type": "code",
   "execution_count": 12,
   "id": "16883cde-47ea-455d-b6de-e25eb64e3de5",
   "metadata": {},
   "outputs": [],
   "source": [
    "# Save the updated DataFrame to a CSV \n",
    "df.to_csv(args.fout, index=False)"
   ]
  }
 ],
 "metadata": {
  "kernelspec": {
   "display_name": "Python 3 (ipykernel)",
   "language": "python",
   "name": "python3"
  },
  "language_info": {
   "codemirror_mode": {
    "name": "ipython",
    "version": 3
   },
   "file_extension": ".py",
   "mimetype": "text/x-python",
   "name": "python",
   "nbconvert_exporter": "python",
   "pygments_lexer": "ipython3",
   "version": "3.8.3"
  }
 },
 "nbformat": 4,
 "nbformat_minor": 5
}
