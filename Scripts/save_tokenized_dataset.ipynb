{
 "cells": [
  {
   "cell_type": "code",
   "execution_count": 1,
   "id": "b546d904",
   "metadata": {},
   "outputs": [],
   "source": [
    "import torch\n",
    "import transformers\n",
    "import pandas as pd\n",
    "import numpy as np\n",
    "from argparse import Namespace\n",
    "from tqdm.auto import tqdm\n",
    "from datasets import load_from_disk\n",
    "from transformers import AutoTokenizer"
   ]
  },
  {
   "cell_type": "code",
   "execution_count": 2,
   "id": "af33f6e2",
   "metadata": {},
   "outputs": [],
   "source": [
    "ds = load_from_disk(\"../../Violence_data/geo_corpus.0.0.1_dataset_for_train\")"
   ]
  },
  {
   "cell_type": "code",
   "execution_count": 4,
   "id": "5d3324d9",
   "metadata": {},
   "outputs": [],
   "source": [
    "# Possible values\n",
    "# Smaller-LABSE: setu4993/smaller-LaBSE\n",
    "# LABSE: setu4993/LaBSE\n",
    "# XLMT: cardiffnlp/twitter-xlm-roberta-base-sentiment\n",
    "config = {\n",
    "    \"model_ckpt\": \"cardiffnlp/twitter-xlm-roberta-base-sentiment\",\n",
    "    \"batch_size\": 1024,\n",
    "    \"num_labels\" : 6,\n",
    "    \"max_length\": 32,\n",
    "    \"seed\": 42,\n",
    "    \"fout\": \"../../Violence_data/geo_corpus.0.0.1_tok_ds_xlmt\"\n",
    "}\n",
    "\n",
    "args = Namespace(**config)"
   ]
  },
  {
   "cell_type": "code",
   "execution_count": 5,
   "id": "8eaee39a",
   "metadata": {},
   "outputs": [],
   "source": [
    "# Instantiate the tokenizer\n",
    "model_ckpt = args.model_ckpt\n",
    "tokenizer = AutoTokenizer.from_pretrained(model_ckpt, \n",
    "                                              model_max_length=args.max_length)"
   ]
  },
  {
   "cell_type": "code",
   "execution_count": 6,
   "id": "1b0c04df",
   "metadata": {},
   "outputs": [],
   "source": [
    "def tokenize(batch):\n",
    "    return tokenizer(batch[\"text\"], truncation=True)"
   ]
  },
  {
   "cell_type": "code",
   "execution_count": 7,
   "id": "02681882",
   "metadata": {},
   "outputs": [
    {
     "data": {
      "application/vnd.jupyter.widget-view+json": {
       "model_id": "8a3566a3d0aa43ceb43f1698503c9f4c",
       "version_major": 2,
       "version_minor": 0
      },
      "text/plain": [
       "  0%|          | 0/16770 [00:00<?, ?ba/s]"
      ]
     },
     "metadata": {},
     "output_type": "display_data"
    },
    {
     "data": {
      "application/vnd.jupyter.widget-view+json": {
       "model_id": "03ffbed7f85a40eea42480421133f3de",
       "version_major": 2,
       "version_minor": 0
      },
      "text/plain": [
       "  0%|          | 0/4193 [00:00<?, ?ba/s]"
      ]
     },
     "metadata": {},
     "output_type": "display_data"
    },
    {
     "data": {
      "application/vnd.jupyter.widget-view+json": {
       "model_id": "eac6f57d952643e88b6a58bb695786cf",
       "version_major": 2,
       "version_minor": 0
      },
      "text/plain": [
       "  0%|          | 0/2330 [00:00<?, ?ba/s]"
      ]
     },
     "metadata": {},
     "output_type": "display_data"
    },
    {
     "name": "stdout",
     "output_type": "stream",
     "text": [
      "CPU times: user 3h 26min 55s, sys: 4min 48s, total: 3h 31min 44s\n",
      "Wall time: 14min 40s\n"
     ]
    }
   ],
   "source": [
    "%time tokenized_ds = ds.map(tokenize, batched=True)"
   ]
  },
  {
   "cell_type": "code",
   "execution_count": 8,
   "id": "35fad31b",
   "metadata": {},
   "outputs": [],
   "source": [
    "tokenized_ds = tokenized_ds.remove_columns('text')"
   ]
  },
  {
   "cell_type": "code",
   "execution_count": 9,
   "id": "69c0565c",
   "metadata": {},
   "outputs": [],
   "source": [
    "tokenized_ds.set_format('torch')"
   ]
  },
  {
   "cell_type": "code",
   "execution_count": 10,
   "id": "df48df30",
   "metadata": {},
   "outputs": [
    {
     "data": {
      "text/plain": [
       "DatasetDict({\n",
       "    train: Dataset({\n",
       "        features: ['labels', 'input_ids', 'attention_mask'],\n",
       "        num_rows: 16769932\n",
       "    })\n",
       "    validation: Dataset({\n",
       "        features: ['labels', 'input_ids', 'attention_mask'],\n",
       "        num_rows: 4192483\n",
       "    })\n",
       "    test: Dataset({\n",
       "        features: ['labels', 'input_ids', 'attention_mask'],\n",
       "        num_rows: 2329158\n",
       "    })\n",
       "})"
      ]
     },
     "execution_count": 10,
     "metadata": {},
     "output_type": "execute_result"
    }
   ],
   "source": [
    "tokenized_ds"
   ]
  },
  {
   "cell_type": "code",
   "execution_count": 11,
   "id": "6b37960f",
   "metadata": {},
   "outputs": [
    {
     "data": {
      "text/plain": [
       "{'labels': Sequence(feature=Value(dtype='float64', id=None), length=-1, id=None),\n",
       " 'input_ids': Sequence(feature=Value(dtype='int32', id=None), length=-1, id=None),\n",
       " 'attention_mask': Sequence(feature=Value(dtype='int8', id=None), length=-1, id=None)}"
      ]
     },
     "execution_count": 11,
     "metadata": {},
     "output_type": "execute_result"
    }
   ],
   "source": [
    "tokenized_ds[\"train\"].features"
   ]
  },
  {
   "cell_type": "code",
   "execution_count": 12,
   "id": "2713646c",
   "metadata": {},
   "outputs": [],
   "source": [
    "tokenized_ds.save_to_disk(args.fout)"
   ]
  },
  {
   "cell_type": "code",
   "execution_count": null,
   "id": "2abd7469",
   "metadata": {},
   "outputs": [],
   "source": []
  }
 ],
 "metadata": {
  "kernelspec": {
   "display_name": "Python 3 (ipykernel)",
   "language": "python",
   "name": "python3"
  },
  "language_info": {
   "codemirror_mode": {
    "name": "ipython",
    "version": 3
   },
   "file_extension": ".py",
   "mimetype": "text/x-python",
   "name": "python",
   "nbconvert_exporter": "python",
   "pygments_lexer": "ipython3",
   "version": "3.8.3"
  }
 },
 "nbformat": 4,
 "nbformat_minor": 5
}
