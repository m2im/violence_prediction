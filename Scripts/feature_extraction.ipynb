{
 "cells": [
  {
   "cell_type": "code",
   "execution_count": 1,
   "id": "248f2895",
   "metadata": {},
   "outputs": [],
   "source": [
    "import torch\n",
    "import transformers\n",
    "import pandas as pd\n",
    "import numpy as np\n",
    "from datasets import load_from_disk\n",
    "from transformers import AutoTokenizer, AutoModel\n",
    "from argparse import Namespace"
   ]
  },
  {
   "cell_type": "code",
   "execution_count": 2,
   "id": "d2241020",
   "metadata": {},
   "outputs": [],
   "source": [
    "# Possible values\n",
    "# Smaller-LABSE: setu4993/smaller-LaBSE\n",
    "# LABSE: setu4993/LaBSE\n",
    "# XLMT: cardiffnlp/twitter-xlm-roberta-base-sentiment\n",
    "config = {\n",
    "    \"model_ckpt\": \"setu4993/smaller-LaBSE\",\n",
    "    \"batch_size\": 1000,\n",
    "    \"max_length\": 32,\n",
    "    \"cuda_device\": \"cuda:2\",\n",
    "    \"seed\": 42,\n",
    "    \"dataset\": \"../../Violence_data/geo_corpus.0.0.1_dataset_for_train\",\n",
    "    \"output_dir_ckpt\": \"../../Violence_data/geo_corpus.0.0.1_datasets_hidden_labse\"\n",
    "}\n",
    "\n",
    "args = Namespace(**config)"
   ]
  },
  {
   "cell_type": "markdown",
   "id": "7dde9808",
   "metadata": {},
   "source": [
    "### Read the dataset and delete unneccessary colums"
   ]
  },
  {
   "cell_type": "code",
   "execution_count": 3,
   "id": "8681a4b9",
   "metadata": {},
   "outputs": [],
   "source": [
    "violence = load_from_disk(args.dataset)"
   ]
  },
  {
   "cell_type": "code",
   "execution_count": 4,
   "id": "2d9d0e25",
   "metadata": {},
   "outputs": [
    {
     "data": {
      "text/plain": [
       "DatasetDict({\n",
       "    train: Dataset({\n",
       "        features: ['text', 'labels'],\n",
       "        num_rows: 16769932\n",
       "    })\n",
       "    validation: Dataset({\n",
       "        features: ['text', 'labels'],\n",
       "        num_rows: 4192483\n",
       "    })\n",
       "    test: Dataset({\n",
       "        features: ['text', 'labels'],\n",
       "        num_rows: 2329158\n",
       "    })\n",
       "})"
      ]
     },
     "execution_count": 4,
     "metadata": {},
     "output_type": "execute_result"
    }
   ],
   "source": [
    "violence"
   ]
  },
  {
   "cell_type": "code",
   "execution_count": 5,
   "id": "c9afb4c0",
   "metadata": {},
   "outputs": [],
   "source": [
    "train_ds = violence[\"train\"]"
   ]
  },
  {
   "cell_type": "code",
   "execution_count": 6,
   "id": "65ca737d",
   "metadata": {},
   "outputs": [
    {
     "data": {
      "text/plain": [
       "{'text': Value(dtype='string', id=None),\n",
       " 'labels': Sequence(feature=Value(dtype='float64', id=None), length=-1, id=None)}"
      ]
     },
     "execution_count": 6,
     "metadata": {},
     "output_type": "execute_result"
    }
   ],
   "source": [
    "train_ds.features"
   ]
  },
  {
   "cell_type": "code",
   "execution_count": 7,
   "id": "e6cd7f06",
   "metadata": {},
   "outputs": [
    {
     "data": {
      "text/plain": [
       "['text', 'labels']"
      ]
     },
     "execution_count": 7,
     "metadata": {},
     "output_type": "execute_result"
    }
   ],
   "source": [
    "train_ds.column_names"
   ]
  },
  {
   "cell_type": "markdown",
   "id": "ef2c1fa8",
   "metadata": {},
   "source": [
    "### From text to tokens"
   ]
  },
  {
   "cell_type": "code",
   "execution_count": 8,
   "id": "8e7e8c85",
   "metadata": {},
   "outputs": [],
   "source": [
    "# Load the model checkpoint\n",
    "model_ckpt = args.model_ckpt\n",
    "tokenizer = AutoTokenizer.from_pretrained(model_ckpt)"
   ]
  },
  {
   "cell_type": "code",
   "execution_count": 9,
   "id": "60d1c143",
   "metadata": {},
   "outputs": [
    {
     "name": "stdout",
     "output_type": "stream",
     "text": [
      "{'input_ids': [101, 71697, 10049, 125918, 100627, 74701, 85521, 125181, 109963, 63495, 102], 'token_type_ids': [0, 0, 0, 0, 0, 0, 0, 0, 0, 0, 0], 'attention_mask': [1, 1, 1, 1, 1, 1, 1, 1, 1, 1, 1]}\n"
     ]
    }
   ],
   "source": [
    "text = \"Tokenizing text is a core task of NLP\"\n",
    "encoded_text = tokenizer(text)\n",
    "print(encoded_text)"
   ]
  },
  {
   "cell_type": "code",
   "execution_count": 10,
   "id": "6fbe4a95",
   "metadata": {},
   "outputs": [
    {
     "name": "stdout",
     "output_type": "stream",
     "text": [
      "['[CLS]', 'Token', '##izing', 'text', 'is', 'a', 'core', 'task', 'of', 'NLP', '[SEP]']\n"
     ]
    }
   ],
   "source": [
    "# Convert ids back into tokens\n",
    "tokens = tokenizer.convert_ids_to_tokens(encoded_text.input_ids)\n",
    "print(tokens)"
   ]
  },
  {
   "cell_type": "code",
   "execution_count": 11,
   "id": "39e305ea",
   "metadata": {},
   "outputs": [
    {
     "name": "stdout",
     "output_type": "stream",
     "text": [
      "[CLS] Tokenizing text is a core task of NLP [SEP]\n"
     ]
    }
   ],
   "source": [
    "print(tokenizer.convert_tokens_to_string(tokens))"
   ]
  },
  {
   "cell_type": "code",
   "execution_count": 12,
   "id": "b57407c8",
   "metadata": {},
   "outputs": [
    {
     "data": {
      "text/plain": [
       "173347"
      ]
     },
     "execution_count": 12,
     "metadata": {},
     "output_type": "execute_result"
    }
   ],
   "source": [
    "tokenizer.vocab_size"
   ]
  },
  {
   "cell_type": "code",
   "execution_count": 13,
   "id": "f32e663a",
   "metadata": {},
   "outputs": [
    {
     "data": {
      "text/plain": [
       "1000000000000000019884624838656"
      ]
     },
     "execution_count": 13,
     "metadata": {},
     "output_type": "execute_result"
    }
   ],
   "source": [
    "tokenizer.model_max_length"
   ]
  },
  {
   "cell_type": "code",
   "execution_count": 14,
   "id": "bfb22973",
   "metadata": {},
   "outputs": [
    {
     "data": {
      "text/plain": [
       "['input_ids', 'token_type_ids', 'attention_mask']"
      ]
     },
     "execution_count": 14,
     "metadata": {},
     "output_type": "execute_result"
    }
   ],
   "source": [
    "tokenizer.model_input_names"
   ]
  },
  {
   "cell_type": "markdown",
   "id": "42b3dd71",
   "metadata": {},
   "source": [
    "### Tokenizing the whole dataset"
   ]
  },
  {
   "cell_type": "code",
   "execution_count": 15,
   "id": "565f2571",
   "metadata": {},
   "outputs": [],
   "source": [
    "def tokenize(batch):\n",
    "     return tokenizer(batch[\"text\"], padding=True, truncation=True, max_length=args.max_length)"
   ]
  },
  {
   "cell_type": "code",
   "execution_count": 16,
   "id": "336b4821",
   "metadata": {},
   "outputs": [
    {
     "name": "stdout",
     "output_type": "stream",
     "text": [
      "{'input_ids': [[101, 72921, 90930, 85944, 43099, 131735, 103297, 54882, 86754, 121491, 90930, 46377, 43095, 73126, 43096, 102], [101, 106, 60436, 371, 21940, 838, 15459, 335, 8112, 24129, 74695, 43101, 43101, 43101, 74697, 102]], 'token_type_ids': [[0, 0, 0, 0, 0, 0, 0, 0, 0, 0, 0, 0, 0, 0, 0, 0], [0, 0, 0, 0, 0, 0, 0, 0, 0, 0, 0, 0, 0, 0, 0, 0]], 'attention_mask': [[1, 1, 1, 1, 1, 1, 1, 1, 1, 1, 1, 1, 1, 1, 1, 1], [1, 1, 1, 1, 1, 1, 1, 1, 1, 1, 1, 1, 1, 1, 1, 1]]}\n"
     ]
    }
   ],
   "source": [
    "print(tokenize(violence[\"train\"].select(range(1000))[:2]))"
   ]
  },
  {
   "cell_type": "code",
   "execution_count": 17,
   "id": "d6ab6c48",
   "metadata": {},
   "outputs": [
    {
     "data": {
      "application/vnd.jupyter.widget-view+json": {
       "model_id": "20179dba8a484bd2b99acbc0bfeaa466",
       "version_major": 2,
       "version_minor": 0
      },
      "text/plain": [
       "  0%|          | 0/16770 [00:00<?, ?ba/s]"
      ]
     },
     "metadata": {},
     "output_type": "display_data"
    },
    {
     "data": {
      "application/vnd.jupyter.widget-view+json": {
       "model_id": "25b14668dd6e4b7d951b7b689a7cc332",
       "version_major": 2,
       "version_minor": 0
      },
      "text/plain": [
       "  0%|          | 0/4193 [00:00<?, ?ba/s]"
      ]
     },
     "metadata": {},
     "output_type": "display_data"
    },
    {
     "data": {
      "application/vnd.jupyter.widget-view+json": {
       "model_id": "7afbf0b9ccbf484fae7c578322877fa5",
       "version_major": 2,
       "version_minor": 0
      },
      "text/plain": [
       "  0%|          | 0/2330 [00:00<?, ?ba/s]"
      ]
     },
     "metadata": {},
     "output_type": "display_data"
    },
    {
     "name": "stdout",
     "output_type": "stream",
     "text": [
      "CPU times: user 3h 4min 27s, sys: 11min 51s, total: 3h 16min 18s\n",
      "Wall time: 19min 11s\n"
     ]
    }
   ],
   "source": [
    "# Tokenizing the entire dataset\n",
    "# %time violence_encoded = violence[\"train\"].select(range(1000)).map(tokenize, batched=True, batch_size=None)\n",
    "%time violence_encoded = violence.map(tokenize, batched=True, batch_size=args.batch_size)"
   ]
  },
  {
   "cell_type": "code",
   "execution_count": 18,
   "id": "98be03bf",
   "metadata": {
    "scrolled": true
   },
   "outputs": [
    {
     "data": {
      "text/plain": [
       "DatasetDict({\n",
       "    train: Dataset({\n",
       "        features: ['text', 'labels', 'input_ids', 'token_type_ids', 'attention_mask'],\n",
       "        num_rows: 16769932\n",
       "    })\n",
       "    validation: Dataset({\n",
       "        features: ['text', 'labels', 'input_ids', 'token_type_ids', 'attention_mask'],\n",
       "        num_rows: 4192483\n",
       "    })\n",
       "    test: Dataset({\n",
       "        features: ['text', 'labels', 'input_ids', 'token_type_ids', 'attention_mask'],\n",
       "        num_rows: 2329158\n",
       "    })\n",
       "})"
      ]
     },
     "execution_count": 18,
     "metadata": {},
     "output_type": "execute_result"
    }
   ],
   "source": [
    "violence_encoded"
   ]
  },
  {
   "cell_type": "markdown",
   "id": "ab25ec78",
   "metadata": {},
   "source": [
    "### Model"
   ]
  },
  {
   "cell_type": "code",
   "execution_count": 19,
   "id": "4d2566ce",
   "metadata": {},
   "outputs": [],
   "source": [
    "device = torch.device(args.cuda_device if torch.cuda.is_available() else \"cpu\")\n",
    "model = AutoModel.from_pretrained(model_ckpt).to(device)"
   ]
  },
  {
   "cell_type": "code",
   "execution_count": 20,
   "id": "eb7b11b8",
   "metadata": {},
   "outputs": [
    {
     "name": "stdout",
     "output_type": "stream",
     "text": [
      "Input tensor shape: torch.Size([1, 8])\n"
     ]
    }
   ],
   "source": [
    "# Extract last hidden state\n",
    "text = \"this is a very interesting text\"\n",
    "inputs = tokenizer(text, return_tensors=\"pt\")\n",
    "print(f\"Input tensor shape: {inputs['input_ids'].size()}\") # [batch_size, n_tokens]"
   ]
  },
  {
   "cell_type": "code",
   "execution_count": 21,
   "id": "d30175bc",
   "metadata": {},
   "outputs": [
    {
     "name": "stdout",
     "output_type": "stream",
     "text": [
      "BaseModelOutputWithPoolingAndCrossAttentions(last_hidden_state=tensor([[[ 0.7044,  0.1361,  0.3484,  ..., -0.1931,  0.8320, -0.0427],\n",
      "         [ 1.3874, -0.7434,  0.5686,  ...,  0.1172,  0.0612, -0.3482],\n",
      "         [ 1.1464, -0.6417,  0.4695,  ...,  0.0973,  0.2719, -0.4838],\n",
      "         ...,\n",
      "         [ 0.9029, -0.9030,  0.2529,  ...,  0.0120,  0.4795, -0.7121],\n",
      "         [ 1.1578, -0.0563,  0.8323,  ...,  0.5555,  0.6348, -0.4267],\n",
      "         [ 0.7044,  0.1361,  0.3484,  ..., -0.1931,  0.8320, -0.0427]]],\n",
      "       device='cuda:2'), pooler_output=tensor([[ 8.3118e-01, -8.7583e-01, -7.3634e-01, -9.5450e-01, -8.1539e-01,\n",
      "          6.2844e-01, -7.8560e-01, -6.3620e-01, -8.6172e-01, -9.1410e-02,\n",
      "          3.7426e-01, -3.0649e-01,  2.5643e-01,  6.8717e-01, -6.3883e-01,\n",
      "         -3.1957e-02, -3.3372e-02,  7.2407e-01,  9.1128e-01, -9.1514e-01,\n",
      "         -8.9409e-01, -6.6875e-01,  4.3481e-01, -3.8829e-02, -1.6667e-01,\n",
      "         -1.3169e-01, -9.8688e-01,  5.1277e-01, -4.8089e-01,  1.4972e-01,\n",
      "         -9.7543e-01, -8.5301e-01, -5.0344e-01,  2.3163e-01, -4.0865e-01,\n",
      "         -9.2161e-01,  2.1453e-01, -1.6266e-01, -4.8877e-01,  5.9921e-01,\n",
      "         -5.5234e-02, -1.3227e-01,  5.5022e-01, -1.3297e-01, -5.6484e-01,\n",
      "          5.1724e-02, -9.8920e-01, -2.8048e-01, -2.1823e-01, -7.0795e-01,\n",
      "         -7.4090e-01, -9.5613e-01, -5.8293e-01, -7.1051e-01, -4.9318e-01,\n",
      "         -9.3548e-01,  3.8077e-01, -4.3443e-01, -3.0285e-01, -4.2538e-01,\n",
      "         -7.0878e-01,  6.5332e-01, -4.6292e-02, -4.9851e-01, -6.2424e-01,\n",
      "         -8.7169e-01, -4.3495e-01,  6.9124e-02, -9.4392e-01, -6.8925e-01,\n",
      "         -6.8545e-01, -1.0457e-01, -4.9727e-01, -7.0212e-01, -9.8351e-01,\n",
      "          1.3172e-01, -7.2649e-02,  3.4391e-01, -9.3804e-01, -7.8475e-01,\n",
      "          3.5386e-01,  7.4133e-01,  9.2784e-02, -3.9900e-01, -7.2407e-01,\n",
      "         -8.5473e-01, -8.1126e-01, -6.1347e-01,  7.2434e-01, -5.7201e-01,\n",
      "         -9.1165e-01,  1.1889e-01, -2.6164e-01, -4.4532e-01, -6.7713e-01,\n",
      "         -8.0868e-01,  6.3736e-02, -8.9452e-01, -1.6757e-01, -2.9933e-01,\n",
      "         -9.0116e-01, -5.2469e-01,  4.7569e-01, -5.7645e-01, -2.8055e-01,\n",
      "         -5.5313e-01, -2.7447e-01, -7.0550e-01, -1.1421e-02, -2.4836e-01,\n",
      "         -9.3045e-01,  3.8684e-01,  2.8693e-01,  3.0728e-01,  5.4988e-01,\n",
      "         -4.0587e-01, -4.3251e-01, -2.1915e-01, -9.6373e-01, -2.6376e-01,\n",
      "          2.9221e-01,  2.9492e-01, -7.2712e-01, -6.6071e-01, -8.9904e-01,\n",
      "         -9.2956e-01, -3.8852e-01,  1.0418e-01, -2.2960e-01, -9.4271e-01,\n",
      "         -7.4241e-01,  1.1061e-01, -9.2796e-01, -3.5675e-01,  1.9703e-02,\n",
      "         -8.3078e-01, -5.2648e-01, -5.0023e-01, -2.4031e-01,  1.1804e-01,\n",
      "         -6.6499e-01,  3.3638e-01,  2.8001e-01, -9.5413e-01, -6.2235e-01,\n",
      "         -6.0256e-01, -7.1532e-01,  2.8509e-01, -5.9910e-01, -9.8888e-01,\n",
      "         -6.0274e-01, -5.2433e-01, -2.1188e-02, -6.4393e-01,  4.6528e-01,\n",
      "          1.4747e-03, -4.1976e-01, -6.2016e-01, -2.9591e-01, -8.2388e-03,\n",
      "         -2.5686e-01,  5.5994e-01, -9.6529e-01, -3.3688e-01, -4.3985e-01,\n",
      "         -5.3402e-01, -2.3897e-01,  3.2226e-01,  8.0153e-04, -3.0874e-01,\n",
      "          4.4081e-01,  7.4627e-01, -5.5900e-01, -8.0280e-01, -7.3693e-01,\n",
      "         -8.5258e-01, -4.0173e-01,  3.5997e-01,  4.5376e-02, -9.1479e-01,\n",
      "         -4.8250e-01, -2.8913e-01,  6.9908e-01, -9.7852e-01,  7.0402e-01,\n",
      "         -8.9261e-02, -1.2851e-03, -9.6291e-01, -4.2749e-01, -6.0307e-01,\n",
      "          1.1781e-01,  8.3382e-01, -8.9341e-01, -1.3787e-02,  7.2373e-02,\n",
      "         -6.6269e-01,  2.4774e-01,  7.5388e-01, -7.7765e-01, -3.2607e-01,\n",
      "         -2.3547e-01, -5.0724e-01, -7.1517e-01,  2.2667e-01, -7.6774e-01,\n",
      "         -7.9114e-01, -5.5123e-01, -2.9083e-01, -3.8362e-01, -8.5547e-01,\n",
      "         -1.7738e-01,  5.7334e-01, -2.2839e-01,  9.6375e-02, -7.5806e-01,\n",
      "         -9.5342e-01, -9.9263e-01, -6.4878e-01,  1.7595e-01, -7.5511e-01,\n",
      "         -9.6899e-02,  1.8924e-01,  7.8202e-01,  3.0343e-02, -6.8651e-01,\n",
      "         -8.9217e-01, -2.4641e-01,  2.6875e-01, -3.9685e-01, -4.3815e-01,\n",
      "         -9.4390e-01, -7.0315e-01, -8.1954e-01, -8.8763e-01, -1.2889e-01,\n",
      "         -2.9692e-01, -7.4974e-01, -9.1595e-01,  5.3439e-01, -9.5134e-01,\n",
      "          7.6855e-01,  1.5801e-01, -1.3983e-01,  2.2114e-01, -2.7831e-01,\n",
      "         -2.0505e-01, -2.0255e-01,  6.6197e-01,  7.6966e-01, -8.6306e-01,\n",
      "          1.8543e-01, -9.3606e-01, -8.8367e-01, -1.2703e-02, -5.9354e-01,\n",
      "         -2.5035e-01, -8.2871e-01,  6.6580e-01, -5.9069e-01, -9.5431e-01,\n",
      "         -1.9722e-01, -2.7590e-01,  3.6825e-01, -5.7792e-01, -7.1475e-01,\n",
      "         -3.1159e-01,  1.0432e-01, -3.7648e-01, -4.8900e-01, -8.0503e-01,\n",
      "         -1.2588e-01, -1.3896e-03,  1.9970e-01, -9.3443e-01, -7.2209e-01,\n",
      "         -9.7839e-01,  6.6994e-01, -9.2011e-01,  2.8231e-01,  7.4233e-01,\n",
      "         -7.5936e-01,  1.1083e-01, -9.3888e-01, -5.4068e-01, -2.6721e-01,\n",
      "         -5.9297e-01,  4.1341e-01, -9.7435e-01, -3.5798e-01,  4.8803e-01,\n",
      "         -5.1866e-01, -3.7973e-01, -7.8875e-01, -8.1786e-02, -4.1815e-01,\n",
      "         -8.1507e-01, -8.3513e-01, -6.5523e-02, -5.2393e-01,  4.9968e-01,\n",
      "         -5.6183e-01,  4.3638e-01, -5.5910e-01, -7.9725e-01, -5.3268e-01,\n",
      "         -6.1650e-01, -1.7734e-01, -7.0385e-01, -5.3569e-01, -5.8503e-01,\n",
      "         -5.0236e-01, -6.7878e-01, -9.6887e-01,  1.1738e-01, -7.2262e-01,\n",
      "          2.6335e-01, -9.7219e-01, -6.8471e-01, -2.6401e-02,  2.6066e-01,\n",
      "         -5.3132e-01, -4.6194e-01, -3.6453e-01, -1.7923e-01, -7.8870e-01,\n",
      "          2.1335e-01, -6.5973e-01, -1.0033e-02, -4.6166e-02, -7.3304e-01,\n",
      "          3.4899e-01, -7.7426e-01,  1.5216e-01,  2.5672e-01, -2.7973e-01,\n",
      "         -9.0577e-01,  1.3733e-01,  3.6677e-01, -2.6862e-01, -8.3449e-01,\n",
      "          1.5278e-01,  7.4398e-01, -3.2177e-01, -9.4216e-01, -5.5944e-01,\n",
      "         -7.0103e-01, -5.7561e-01, -4.8913e-01, -3.3273e-01,  3.4011e-01,\n",
      "         -7.7402e-01, -2.3051e-01,  7.3577e-01, -1.5954e-01,  4.5910e-01,\n",
      "         -9.4498e-01,  7.9645e-01,  4.2376e-02, -9.5658e-01,  1.3207e-01,\n",
      "         -7.5594e-01, -7.7042e-01, -9.2559e-01, -8.3946e-01, -4.9785e-01,\n",
      "         -2.7491e-02, -7.4408e-02,  5.1972e-01, -2.9426e-01, -5.5951e-01,\n",
      "          3.2871e-01,  7.0115e-01,  4.3056e-01, -3.2432e-01,  2.2708e-01,\n",
      "         -8.8878e-01, -3.3394e-01, -5.1274e-01, -8.9058e-01,  9.5100e-02,\n",
      "         -5.5176e-01, -9.0049e-01, -8.7288e-01,  5.0686e-01, -7.7911e-01,\n",
      "         -8.1605e-01, -5.7051e-01, -3.9952e-01, -8.5577e-01, -4.9100e-01,\n",
      "          3.6907e-02,  4.6660e-01, -5.8131e-01, -6.9343e-01,  3.7247e-01,\n",
      "          5.7159e-01, -1.7927e-01, -3.0722e-01,  5.1793e-01,  6.1968e-01,\n",
      "          2.7789e-01, -8.3516e-01, -9.5517e-01, -7.2481e-01,  7.7020e-02,\n",
      "         -4.8364e-01, -2.5689e-03,  1.1093e-01, -9.4248e-01, -6.4896e-01,\n",
      "          7.4726e-02, -7.7065e-01, -8.3817e-01, -3.3855e-01, -8.0246e-01,\n",
      "         -9.9090e-01, -9.7339e-01, -5.9259e-01, -8.9204e-01, -5.9162e-01,\n",
      "         -8.4728e-01, -6.4380e-01, -7.3928e-01, -5.6703e-01,  2.0829e-01,\n",
      "         -6.9328e-01, -8.9260e-01, -8.1508e-02,  1.5603e-01, -5.2582e-01,\n",
      "          5.0309e-01, -8.8869e-01, -9.2611e-01, -5.8046e-01, -1.0720e-01,\n",
      "          7.4507e-01,  1.1072e-01, -9.2504e-01, -7.4435e-02, -7.4917e-01,\n",
      "         -7.9229e-01,  6.3855e-02,  3.9130e-01,  5.8348e-01,  5.6111e-01,\n",
      "          4.9895e-01, -8.8947e-01, -9.7754e-01,  9.0937e-02, -9.1878e-01,\n",
      "         -1.3163e-01,  1.8849e-01,  6.6332e-01, -4.9760e-01, -9.8462e-01,\n",
      "         -2.8137e-01,  6.7386e-01, -9.5993e-01,  7.7446e-01, -7.9724e-01,\n",
      "          4.4066e-01, -7.8746e-01,  5.6520e-01,  4.4503e-01, -4.8555e-01,\n",
      "         -9.4763e-01,  8.7422e-01, -6.8657e-01, -1.6038e-01,  4.9609e-01,\n",
      "         -9.4760e-01, -1.2208e-01, -4.7195e-01, -9.9056e-01, -4.7716e-01,\n",
      "          3.3196e-01, -7.8417e-01, -6.4210e-01, -3.4692e-01,  3.8844e-01,\n",
      "         -3.8319e-01, -4.5106e-01, -9.0309e-01, -9.5179e-01,  7.5751e-01,\n",
      "         -7.4341e-01, -9.5952e-01,  8.9027e-01, -8.3369e-01, -9.8656e-01,\n",
      "          3.5751e-01,  7.4679e-02, -4.2577e-01,  4.4846e-01, -6.2522e-01,\n",
      "         -5.9941e-01, -6.1956e-01,  1.9873e-02, -5.7586e-01, -9.3227e-01,\n",
      "         -8.8399e-01, -9.2694e-01, -8.6206e-01, -3.7241e-01, -5.9899e-01,\n",
      "         -7.1766e-01,  6.1730e-01,  4.5721e-01, -4.7490e-02, -8.6854e-01,\n",
      "          2.2357e-01,  1.6104e-01, -7.9921e-01, -7.8435e-01, -5.8041e-01,\n",
      "         -8.4491e-01,  5.0176e-01, -8.9850e-01,  8.4436e-01,  7.2115e-01,\n",
      "          1.9751e-01,  2.4552e-01, -2.4964e-01,  6.1475e-01, -7.9231e-01,\n",
      "         -8.9592e-01, -1.5340e-01, -6.6684e-01, -3.4291e-01, -9.5697e-01,\n",
      "         -5.7672e-01, -3.6426e-01, -7.2786e-01,  7.1347e-02, -8.0089e-02,\n",
      "         -9.2858e-02, -3.7894e-01, -4.3493e-01, -9.5080e-01, -7.4874e-01,\n",
      "         -8.2126e-01, -2.8371e-01, -4.3369e-01, -4.1734e-01,  5.7736e-01,\n",
      "         -2.5813e-01,  2.5566e-01, -6.8090e-01, -4.2822e-01, -9.7121e-01,\n",
      "         -2.6722e-02, -7.8325e-02, -1.7757e-01, -3.8417e-01, -2.2444e-01,\n",
      "         -7.9597e-01, -9.0338e-01, -3.8509e-01, -4.1806e-01, -8.6639e-01,\n",
      "          4.6721e-03, -7.1279e-01, -2.5127e-01, -9.7819e-01,  2.1847e-01,\n",
      "         -4.7516e-01,  2.5326e-01,  1.3750e-01, -7.3867e-01,  3.8238e-01,\n",
      "         -6.5672e-01,  9.1040e-02, -4.8232e-02, -8.0997e-01, -8.9790e-02,\n",
      "          3.9224e-02, -8.3582e-01, -1.8886e-02, -2.8021e-01, -3.0184e-02,\n",
      "         -7.1528e-01, -8.6259e-01, -1.4365e-02,  3.9898e-01,  7.1503e-01,\n",
      "          7.2203e-01, -6.4545e-01, -5.6095e-01,  1.7422e-01, -4.1960e-01,\n",
      "         -5.3704e-01, -1.8357e-01, -9.8197e-01,  1.5787e-01,  5.9342e-01,\n",
      "         -7.2863e-01,  8.8795e-01, -6.9517e-01,  3.0171e-01,  3.9866e-01,\n",
      "         -2.2389e-02, -7.3316e-01, -8.0918e-01, -6.5159e-01, -6.1161e-01,\n",
      "         -7.2860e-01, -8.4628e-01,  1.7709e-01, -9.6414e-01,  1.3221e-01,\n",
      "         -1.8217e-01, -6.0140e-01, -4.0478e-01,  6.8814e-01, -9.6572e-01,\n",
      "         -8.6096e-01,  6.7710e-01, -7.2131e-01, -2.1187e-01, -4.7547e-01,\n",
      "          5.7176e-01, -2.7487e-02,  3.9929e-01, -9.2786e-01,  1.4979e-01,\n",
      "         -9.3567e-01,  3.5456e-01,  4.2764e-01, -7.9153e-01, -7.3706e-01,\n",
      "          2.2109e-01,  4.0305e-01,  4.3025e-02, -9.7594e-01,  1.4791e-01,\n",
      "         -8.8290e-01,  3.0127e-01, -4.7706e-01, -3.2693e-01, -8.4163e-01,\n",
      "         -5.6365e-02, -9.1676e-01, -7.8667e-01, -9.3204e-01, -5.3117e-02,\n",
      "         -6.1194e-01, -7.9324e-01,  3.6762e-02, -6.2977e-01,  1.9501e-01,\n",
      "         -7.0005e-01,  4.5275e-02,  6.5686e-01, -6.6062e-01,  4.2289e-01,\n",
      "         -4.5837e-01, -5.8866e-01, -3.2205e-01, -8.8653e-01,  5.2667e-01,\n",
      "          6.6429e-01,  4.0553e-01, -4.0859e-01,  3.9250e-01, -5.4789e-01,\n",
      "         -3.1821e-01, -5.5365e-01, -6.3569e-01, -6.2281e-01, -6.1537e-01,\n",
      "          9.4240e-02, -3.4655e-01,  3.4112e-01, -5.5181e-01, -6.3081e-01,\n",
      "          4.5536e-01, -4.3582e-02, -9.0442e-01, -4.4306e-01,  4.2067e-01,\n",
      "         -8.0910e-01, -8.3474e-01, -6.8807e-01, -9.4674e-01, -8.0006e-01,\n",
      "         -1.3471e-01, -8.0894e-01,  1.4804e-01,  3.1418e-01, -1.4653e-01,\n",
      "         -7.7921e-01, -7.3081e-01, -8.3113e-01, -6.9453e-01, -4.4129e-01,\n",
      "         -4.5523e-01, -5.1788e-01, -2.0530e-01, -8.3729e-01, -9.0367e-01,\n",
      "          1.9596e-01, -8.7518e-01,  5.2873e-01, -1.6838e-01, -9.1117e-01,\n",
      "         -5.3674e-01, -6.9086e-01, -4.2239e-01,  3.7655e-01, -1.4671e-01,\n",
      "         -8.3099e-01, -7.6134e-01, -3.2805e-01,  4.2750e-01,  2.4960e-01,\n",
      "         -7.1830e-01, -1.2446e-01,  4.5247e-01, -7.0815e-03, -9.8198e-01,\n",
      "         -2.9193e-01,  2.7972e-01,  8.4539e-01, -5.4298e-01,  9.6162e-02,\n",
      "         -7.8701e-01,  3.5815e-01, -1.6861e-01,  4.0000e-01,  3.1793e-01,\n",
      "         -8.1089e-01, -4.1009e-01,  5.3201e-01, -9.5560e-01, -2.6963e-01,\n",
      "         -9.5377e-01, -5.0207e-01, -9.6059e-01, -3.3684e-01, -6.6371e-01,\n",
      "         -3.2920e-01, -7.1991e-01, -6.4499e-02, -6.4079e-02,  6.7928e-02,\n",
      "         -8.5639e-01, -4.6716e-01, -8.6572e-01, -3.6258e-01, -4.9680e-01,\n",
      "          3.6760e-01,  7.5578e-01, -8.1925e-02, -8.7792e-01,  1.1078e-01,\n",
      "         -6.1000e-01, -4.0990e-01, -1.5193e-01,  3.2215e-01, -8.9379e-01,\n",
      "         -9.1722e-01,  1.0296e-01, -2.4874e-01, -8.0397e-01, -9.8646e-01,\n",
      "         -2.2753e-01, -1.0364e-02,  2.7666e-01]], device='cuda:2'), hidden_states=None, past_key_values=None, attentions=None, cross_attentions=None)\n"
     ]
    }
   ],
   "source": [
    "inputs = {k:v.to(device) for k,v in inputs.items()}\n",
    "with torch.no_grad():\n",
    "    outputs = model(**inputs)\n",
    "print(outputs)"
   ]
  },
  {
   "cell_type": "code",
   "execution_count": 22,
   "id": "f49c1fea",
   "metadata": {},
   "outputs": [
    {
     "data": {
      "text/plain": [
       "torch.Size([1, 8, 768])"
      ]
     },
     "execution_count": 22,
     "metadata": {},
     "output_type": "execute_result"
    }
   ],
   "source": [
    "outputs.last_hidden_state.size() # batch_size, n_tokens, hidden_dim (768)"
   ]
  },
  {
   "cell_type": "code",
   "execution_count": 23,
   "id": "0c0b4191",
   "metadata": {},
   "outputs": [
    {
     "data": {
      "text/plain": [
       "torch.Size([1, 768])"
      ]
     },
     "execution_count": 23,
     "metadata": {},
     "output_type": "execute_result"
    }
   ],
   "source": [
    "# Extract CLS token\n",
    "outputs.last_hidden_state[:,0].size()"
   ]
  },
  {
   "cell_type": "code",
   "execution_count": 24,
   "id": "53c4db65",
   "metadata": {},
   "outputs": [],
   "source": [
    "# Create function to extract hidden state\n",
    "def extract_hidden_states(batch):\n",
    "    # Place model inputs on the GPU\n",
    "    inputs = {k:v.to(device) for k,v in batch.items()\n",
    "             if k in tokenizer.model_input_names}\n",
    "    # Extract last hidden states\n",
    "    with torch.no_grad():\n",
    "        last_hidden_state = model(**inputs).last_hidden_state\n",
    "    # Return vector for [CLS] token\n",
    "    return {\"hidden_state\": last_hidden_state[:,0].cpu().numpy()}"
   ]
  },
  {
   "cell_type": "code",
   "execution_count": 25,
   "id": "20a0f477",
   "metadata": {},
   "outputs": [
    {
     "data": {
      "text/plain": [
       "DatasetDict({\n",
       "    train: Dataset({\n",
       "        features: ['text', 'labels', 'input_ids', 'token_type_ids', 'attention_mask'],\n",
       "        num_rows: 16769932\n",
       "    })\n",
       "    validation: Dataset({\n",
       "        features: ['text', 'labels', 'input_ids', 'token_type_ids', 'attention_mask'],\n",
       "        num_rows: 4192483\n",
       "    })\n",
       "    test: Dataset({\n",
       "        features: ['text', 'labels', 'input_ids', 'token_type_ids', 'attention_mask'],\n",
       "        num_rows: 2329158\n",
       "    })\n",
       "})"
      ]
     },
     "execution_count": 25,
     "metadata": {},
     "output_type": "execute_result"
    }
   ],
   "source": [
    "violence_encoded"
   ]
  },
  {
   "cell_type": "code",
   "execution_count": 26,
   "id": "d00855e0",
   "metadata": {},
   "outputs": [],
   "source": [
    "violence_encoded.set_format(\"torch\",\n",
    "                           columns=[\"input_ids\", \"attention_mask\", \n",
    "                                    \"labels\"])"
   ]
  },
  {
   "cell_type": "code",
   "execution_count": 27,
   "id": "c41729d3",
   "metadata": {},
   "outputs": [
    {
     "data": {
      "application/vnd.jupyter.widget-view+json": {
       "model_id": "0b19ea0b85894047aff435c783bafce2",
       "version_major": 2,
       "version_minor": 0
      },
      "text/plain": [
       "  0%|          | 0/16770 [00:00<?, ?ba/s]"
      ]
     },
     "metadata": {},
     "output_type": "display_data"
    },
    {
     "data": {
      "application/vnd.jupyter.widget-view+json": {
       "model_id": "d34786f60f194e85b3df1995a0d4790b",
       "version_major": 2,
       "version_minor": 0
      },
      "text/plain": [
       "  0%|          | 0/4193 [00:00<?, ?ba/s]"
      ]
     },
     "metadata": {},
     "output_type": "display_data"
    },
    {
     "data": {
      "application/vnd.jupyter.widget-view+json": {
       "model_id": "986c3d6ad19a4b10b889464e28038b30",
       "version_major": 2,
       "version_minor": 0
      },
      "text/plain": [
       "  0%|          | 0/2330 [00:00<?, ?ba/s]"
      ]
     },
     "metadata": {},
     "output_type": "display_data"
    },
    {
     "name": "stdout",
     "output_type": "stream",
     "text": [
      "CPU times: user 3h 33min 50s, sys: 1min 26s, total: 3h 35min 16s\n",
      "Wall time: 3h 34min 51s\n"
     ]
    }
   ],
   "source": [
    "%time violence_hidden = violence_encoded.map(extract_hidden_states, batched=True, batch_size=args.batch_size)"
   ]
  },
  {
   "cell_type": "markdown",
   "id": "7bb145c2",
   "metadata": {},
   "source": [
    "### Save dataset (including the tokenizer) to disk"
   ]
  },
  {
   "cell_type": "code",
   "execution_count": null,
   "id": "179932ec",
   "metadata": {},
   "outputs": [],
   "source": [
    "violence_hidden[\"train\"].features"
   ]
  },
  {
   "cell_type": "code",
   "execution_count": null,
   "id": "06690c1d",
   "metadata": {},
   "outputs": [],
   "source": [
    "%time violence_hidden.save_to_disk(args.output_dir_ckpt)"
   ]
  },
  {
   "cell_type": "code",
   "execution_count": null,
   "id": "15858140",
   "metadata": {},
   "outputs": [],
   "source": [
    "!nvidia-smi"
   ]
  },
  {
   "cell_type": "code",
   "execution_count": null,
   "id": "e28a78ea",
   "metadata": {},
   "outputs": [],
   "source": []
  }
 ],
 "metadata": {
  "kernelspec": {
   "display_name": "Python 3 (ipykernel)",
   "language": "python",
   "name": "python3"
  },
  "language_info": {
   "codemirror_mode": {
    "name": "ipython",
    "version": 3
   },
   "file_extension": ".py",
   "mimetype": "text/x-python",
   "name": "python",
   "nbconvert_exporter": "python",
   "pygments_lexer": "ipython3",
   "version": "3.8.3"
  }
 },
 "nbformat": 4,
 "nbformat_minor": 5
}
