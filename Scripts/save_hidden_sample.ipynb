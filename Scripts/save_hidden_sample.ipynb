{
 "cells": [
  {
   "cell_type": "code",
   "execution_count": null,
   "id": "8dd457c3",
   "metadata": {},
   "outputs": [],
   "source": [
    "import torch\n",
    "import transformers\n",
    "import pandas as pd\n",
    "import numpy as np\n",
    "import os\n",
    "import tempfile\n",
    "\n",
    "from datasets import load_from_disk\n",
    "from transformers import AutoTokenizer, AutoModel\n",
    "from argparse import Namespace"
   ]
  },
  {
   "cell_type": "code",
   "execution_count": null,
   "id": "8c33d3e0",
   "metadata": {},
   "outputs": [],
   "source": [
    "temp_dir_on_data4 = '/data4/mmendieta/tmp'\n",
    "os.makedirs(temp_dir_on_data4, exist_ok=True)\n",
    "\n",
    "# Set the TMPDIR environment variable (as you were doing)\n",
    "os.environ['TMPDIR'] = temp_dir_on_data4\n",
    "\n",
    "# Explicitly tell Python's tempfile module to use this directory\n",
    "tempfile.tempdir = temp_dir_on_data4\n",
    "\n",
    "print(f\"Python's tempfile.tempdir set to: {tempfile.tempdir}\")\n",
    "print(f\"os.environ['TMPDIR'] set to: {os.environ.get('TMPDIR')}\")"
   ]
  },
  {
   "cell_type": "code",
   "execution_count": null,
   "id": "ba093af2",
   "metadata": {},
   "outputs": [],
   "source": [
    "config = {\n",
    "    \"dataset\": \"/data4/mmendieta/temp/geo_corpus.0.0.1_datasets_hidden_labse\",\n",
    "    \"train_subset\": 1500000, # 1500000\n",
    "     \"valid_subset\": 400000, # 400000\n",
    "    \"test_subset\" : 200000,  # 200000\n",
    "    \"seed\": 42,\n",
    "    \"f_out\": \"/data3/Violence_data/temp/geo_corpus.0.0.1_datasets_hidden_labse\"\n",
    "}\n",
    "\n",
    "args = Namespace(**config)"
   ]
  },
  {
   "cell_type": "code",
   "execution_count": null,
   "id": "7fff0987",
   "metadata": {},
   "outputs": [],
   "source": [
    "hidden_total = load_from_disk(args.dataset, keep_in_memory=True)"
   ]
  },
  {
   "cell_type": "code",
   "execution_count": null,
   "id": "bc309b5c",
   "metadata": {},
   "outputs": [],
   "source": []
  },
  {
   "cell_type": "code",
   "execution_count": null,
   "id": "5e563dbc",
   "metadata": {},
   "outputs": [],
   "source": [
    "# Extract a subset of the dataset\n",
    "train_clf_ds = violence_hidden[\"train\"].shuffle(args.seed).select(range(args.train_subset))\n",
    "validation_clf_ds = violence_hidden[\"validation\"].shuffle(args.seed).select(range(args.valid_subset))\n",
    "test_clf_ds = violence_hidden[\"test\"].shuffle(args.seed).select(range(args.test_subset))"
   ]
  }
 ],
 "metadata": {
  "kernelspec": {
   "display_name": "Python 3 (ipykernel)",
   "language": "python",
   "name": "python3"
  },
  "language_info": {
   "codemirror_mode": {
    "name": "ipython",
    "version": 3
   },
   "file_extension": ".py",
   "mimetype": "text/x-python",
   "name": "python",
   "nbconvert_exporter": "python",
   "pygments_lexer": "ipython3",
   "version": "3.8.3"
  }
 },
 "nbformat": 4,
 "nbformat_minor": 5
}
