{
 "cells": [
  {
   "cell_type": "code",
   "execution_count": 6,
   "id": "54e8ba42-1406-400d-ad88-c4729a7ffe36",
   "metadata": {},
   "outputs": [
    {
     "name": "stdout",
     "output_type": "stream",
     "text": [
      "Requirement already satisfied: tensorflow==2.11.0 in /home/mmendieta/umap_tf/lib/python3.8/site-packages (2.11.0)\n",
      "Requirement already satisfied: absl-py>=1.0.0 in /home/mmendieta/umap_tf/lib/python3.8/site-packages (from tensorflow==2.11.0) (2.2.2)\n",
      "Requirement already satisfied: astunparse>=1.6.0 in /home/mmendieta/umap_tf/lib/python3.8/site-packages (from tensorflow==2.11.0) (1.6.3)\n",
      "Requirement already satisfied: flatbuffers>=2.0 in /home/mmendieta/umap_tf/lib/python3.8/site-packages (from tensorflow==2.11.0) (25.2.10)\n",
      "Requirement already satisfied: gast<=0.4.0,>=0.2.1 in /home/mmendieta/umap_tf/lib/python3.8/site-packages (from tensorflow==2.11.0) (0.4.0)\n",
      "Requirement already satisfied: google-pasta>=0.1.1 in /home/mmendieta/umap_tf/lib/python3.8/site-packages (from tensorflow==2.11.0) (0.2.0)\n",
      "Requirement already satisfied: grpcio<2.0,>=1.24.3 in /home/mmendieta/umap_tf/lib/python3.8/site-packages (from tensorflow==2.11.0) (1.70.0)\n",
      "Requirement already satisfied: h5py>=2.9.0 in /home/mmendieta/umap_tf/lib/python3.8/site-packages (from tensorflow==2.11.0) (3.11.0)\n",
      "Collecting keras<2.12,>=2.11.0 (from tensorflow==2.11.0)\n",
      "  Using cached keras-2.11.0-py2.py3-none-any.whl.metadata (1.4 kB)\n",
      "Requirement already satisfied: libclang>=13.0.0 in /home/mmendieta/umap_tf/lib/python3.8/site-packages (from tensorflow==2.11.0) (18.1.1)\n",
      "Requirement already satisfied: numpy>=1.20 in /home/mmendieta/umap_tf/lib/python3.8/site-packages (from tensorflow==2.11.0) (1.24.3)\n",
      "Requirement already satisfied: opt-einsum>=2.3.2 in /home/mmendieta/umap_tf/lib/python3.8/site-packages (from tensorflow==2.11.0) (3.4.0)\n",
      "Requirement already satisfied: packaging in /home/mmendieta/umap_tf/lib/python3.8/site-packages (from tensorflow==2.11.0) (25.0)\n",
      "Requirement already satisfied: protobuf<3.20,>=3.9.2 in /home/mmendieta/umap_tf/lib/python3.8/site-packages (from tensorflow==2.11.0) (3.19.6)\n",
      "Requirement already satisfied: setuptools in /home/mmendieta/umap_tf/lib/python3.8/site-packages (from tensorflow==2.11.0) (41.2.0)\n",
      "Requirement already satisfied: six>=1.12.0 in /home/mmendieta/umap_tf/lib/python3.8/site-packages (from tensorflow==2.11.0) (1.17.0)\n",
      "Requirement already satisfied: tensorboard<2.12,>=2.11 in /home/mmendieta/umap_tf/lib/python3.8/site-packages (from tensorflow==2.11.0) (2.11.2)\n",
      "Requirement already satisfied: tensorflow-estimator<2.12,>=2.11.0 in /home/mmendieta/umap_tf/lib/python3.8/site-packages (from tensorflow==2.11.0) (2.11.0)\n",
      "Requirement already satisfied: termcolor>=1.1.0 in /home/mmendieta/umap_tf/lib/python3.8/site-packages (from tensorflow==2.11.0) (2.4.0)\n",
      "Requirement already satisfied: typing-extensions>=3.6.6 in /home/mmendieta/umap_tf/lib/python3.8/site-packages (from tensorflow==2.11.0) (4.5.0)\n",
      "Requirement already satisfied: wrapt>=1.11.0 in /home/mmendieta/umap_tf/lib/python3.8/site-packages (from tensorflow==2.11.0) (1.17.2)\n",
      "Requirement already satisfied: tensorflow-io-gcs-filesystem>=0.23.1 in /home/mmendieta/umap_tf/lib/python3.8/site-packages (from tensorflow==2.11.0) (0.34.0)\n",
      "Requirement already satisfied: wheel<1.0,>=0.23.0 in /home/mmendieta/umap_tf/lib/python3.8/site-packages (from astunparse>=1.6.0->tensorflow==2.11.0) (0.45.1)\n",
      "Requirement already satisfied: google-auth<3,>=1.6.3 in /home/mmendieta/umap_tf/lib/python3.8/site-packages (from tensorboard<2.12,>=2.11->tensorflow==2.11.0) (2.40.1)\n",
      "Requirement already satisfied: google-auth-oauthlib<0.5,>=0.4.1 in /home/mmendieta/umap_tf/lib/python3.8/site-packages (from tensorboard<2.12,>=2.11->tensorflow==2.11.0) (0.4.6)\n",
      "Requirement already satisfied: markdown>=2.6.8 in /home/mmendieta/umap_tf/lib/python3.8/site-packages (from tensorboard<2.12,>=2.11->tensorflow==2.11.0) (3.7)\n",
      "Requirement already satisfied: requests<3,>=2.21.0 in /home/mmendieta/umap_tf/lib/python3.8/site-packages (from tensorboard<2.12,>=2.11->tensorflow==2.11.0) (2.32.3)\n",
      "Requirement already satisfied: tensorboard-data-server<0.7.0,>=0.6.0 in /home/mmendieta/umap_tf/lib/python3.8/site-packages (from tensorboard<2.12,>=2.11->tensorflow==2.11.0) (0.6.1)\n",
      "Requirement already satisfied: tensorboard-plugin-wit>=1.6.0 in /home/mmendieta/umap_tf/lib/python3.8/site-packages (from tensorboard<2.12,>=2.11->tensorflow==2.11.0) (1.8.1)\n",
      "Requirement already satisfied: werkzeug>=1.0.1 in /home/mmendieta/umap_tf/lib/python3.8/site-packages (from tensorboard<2.12,>=2.11->tensorflow==2.11.0) (3.0.6)\n",
      "Requirement already satisfied: cachetools<6.0,>=2.0.0 in /home/mmendieta/umap_tf/lib/python3.8/site-packages (from google-auth<3,>=1.6.3->tensorboard<2.12,>=2.11->tensorflow==2.11.0) (5.5.2)\n",
      "Requirement already satisfied: pyasn1-modules>=0.2.1 in /home/mmendieta/umap_tf/lib/python3.8/site-packages (from google-auth<3,>=1.6.3->tensorboard<2.12,>=2.11->tensorflow==2.11.0) (0.4.2)\n",
      "Requirement already satisfied: rsa<5,>=3.1.4 in /home/mmendieta/umap_tf/lib/python3.8/site-packages (from google-auth<3,>=1.6.3->tensorboard<2.12,>=2.11->tensorflow==2.11.0) (4.9.1)\n",
      "Requirement already satisfied: requests-oauthlib>=0.7.0 in /home/mmendieta/umap_tf/lib/python3.8/site-packages (from google-auth-oauthlib<0.5,>=0.4.1->tensorboard<2.12,>=2.11->tensorflow==2.11.0) (2.0.0)\n",
      "Requirement already satisfied: importlib-metadata>=4.4 in /home/mmendieta/umap_tf/lib/python3.8/site-packages (from markdown>=2.6.8->tensorboard<2.12,>=2.11->tensorflow==2.11.0) (8.5.0)\n",
      "Requirement already satisfied: charset-normalizer<4,>=2 in /home/mmendieta/umap_tf/lib/python3.8/site-packages (from requests<3,>=2.21.0->tensorboard<2.12,>=2.11->tensorflow==2.11.0) (3.4.2)\n",
      "Requirement already satisfied: idna<4,>=2.5 in /home/mmendieta/umap_tf/lib/python3.8/site-packages (from requests<3,>=2.21.0->tensorboard<2.12,>=2.11->tensorflow==2.11.0) (3.10)\n",
      "Requirement already satisfied: urllib3<3,>=1.21.1 in /home/mmendieta/umap_tf/lib/python3.8/site-packages (from requests<3,>=2.21.0->tensorboard<2.12,>=2.11->tensorflow==2.11.0) (2.2.3)\n",
      "Requirement already satisfied: certifi>=2017.4.17 in /home/mmendieta/umap_tf/lib/python3.8/site-packages (from requests<3,>=2.21.0->tensorboard<2.12,>=2.11->tensorflow==2.11.0) (2025.4.26)\n",
      "Requirement already satisfied: MarkupSafe>=2.1.1 in /home/mmendieta/umap_tf/lib/python3.8/site-packages (from werkzeug>=1.0.1->tensorboard<2.12,>=2.11->tensorflow==2.11.0) (2.1.5)\n",
      "Requirement already satisfied: zipp>=3.20 in /home/mmendieta/umap_tf/lib/python3.8/site-packages (from importlib-metadata>=4.4->markdown>=2.6.8->tensorboard<2.12,>=2.11->tensorflow==2.11.0) (3.20.2)\n",
      "Requirement already satisfied: pyasn1<0.7.0,>=0.6.1 in /home/mmendieta/umap_tf/lib/python3.8/site-packages (from pyasn1-modules>=0.2.1->google-auth<3,>=1.6.3->tensorboard<2.12,>=2.11->tensorflow==2.11.0) (0.6.1)\n",
      "Requirement already satisfied: oauthlib>=3.0.0 in /home/mmendieta/umap_tf/lib/python3.8/site-packages (from requests-oauthlib>=0.7.0->google-auth-oauthlib<0.5,>=0.4.1->tensorboard<2.12,>=2.11->tensorflow==2.11.0) (3.2.2)\n",
      "Using cached keras-2.11.0-py2.py3-none-any.whl (1.7 MB)\n",
      "Installing collected packages: keras\n",
      "Successfully installed keras-2.11.0\n"
     ]
    }
   ],
   "source": [
    "!pip install tensorflow==2.11.0 "
   ]
  },
  {
   "cell_type": "code",
   "execution_count": 7,
   "id": "248f2895",
   "metadata": {},
   "outputs": [
    {
     "name": "stderr",
     "output_type": "stream",
     "text": [
      "/home/mmendieta/umap_tf/lib/python3.8/site-packages/umap/parametric_umap.py:31: UserWarning: The umap.parametric_umap package requires Keras >= 3 to be installed.\n",
      "  warn(\"\"\"The umap.parametric_umap package requires Keras >= 3 to be installed.\"\"\")\n"
     ]
    },
    {
     "ename": "ImportError",
     "evalue": "umap.parametric_umap requires Keras",
     "output_type": "error",
     "traceback": [
      "\u001b[0;31m---------------------------------------------------------------------------\u001b[0m",
      "\u001b[0;31mImportError\u001b[0m                               Traceback (most recent call last)",
      "Cell \u001b[0;32mIn[7], line 6\u001b[0m\n\u001b[1;32m      4\u001b[0m \u001b[38;5;28;01mimport\u001b[39;00m\u001b[38;5;250m \u001b[39m\u001b[38;5;21;01mseaborn\u001b[39;00m\u001b[38;5;250m \u001b[39m\u001b[38;5;28;01mas\u001b[39;00m\u001b[38;5;250m \u001b[39m\u001b[38;5;21;01msns\u001b[39;00m\n\u001b[1;32m      5\u001b[0m \u001b[38;5;28;01mfrom\u001b[39;00m\u001b[38;5;250m \u001b[39m\u001b[38;5;21;01msklearn\u001b[39;00m\u001b[38;5;21;01m.\u001b[39;00m\u001b[38;5;21;01mdecomposition\u001b[39;00m\u001b[38;5;250m \u001b[39m\u001b[38;5;28;01mimport\u001b[39;00m PCA\n\u001b[0;32m----> 6\u001b[0m \u001b[38;5;28;01mfrom\u001b[39;00m\u001b[38;5;250m \u001b[39m\u001b[38;5;21;01mumap\u001b[39;00m\u001b[38;5;21;01m.\u001b[39;00m\u001b[38;5;21;01mparametric_umap\u001b[39;00m\u001b[38;5;250m \u001b[39m\u001b[38;5;28;01mimport\u001b[39;00m ParametricUMAP\n\u001b[1;32m      7\u001b[0m \u001b[38;5;28;01mfrom\u001b[39;00m\u001b[38;5;250m \u001b[39m\u001b[38;5;21;01mdatasets\u001b[39;00m\u001b[38;5;250m \u001b[39m\u001b[38;5;28;01mimport\u001b[39;00m load_from_disk\n\u001b[1;32m      8\u001b[0m \u001b[38;5;28;01mfrom\u001b[39;00m\u001b[38;5;250m \u001b[39m\u001b[38;5;21;01msklearn\u001b[39;00m\u001b[38;5;21;01m.\u001b[39;00m\u001b[38;5;21;01mpreprocessing\u001b[39;00m\u001b[38;5;250m \u001b[39m\u001b[38;5;28;01mimport\u001b[39;00m MinMaxScaler\n",
      "File \u001b[0;32m~/umap_tf/lib/python3.8/site-packages/umap/parametric_umap.py:32\u001b[0m\n\u001b[1;32m     30\u001b[0m \u001b[38;5;28;01mexcept\u001b[39;00m \u001b[38;5;167;01mImportError\u001b[39;00m:\n\u001b[1;32m     31\u001b[0m     warn(\u001b[38;5;124m\"\"\"\u001b[39m\u001b[38;5;124mThe umap.parametric_umap package requires Keras >= 3 to be installed.\u001b[39m\u001b[38;5;124m\"\"\"\u001b[39m)\n\u001b[0;32m---> 32\u001b[0m     \u001b[38;5;28;01mraise\u001b[39;00m \u001b[38;5;167;01mImportError\u001b[39;00m(\u001b[38;5;124m\"\u001b[39m\u001b[38;5;124mumap.parametric_umap requires Keras\u001b[39m\u001b[38;5;124m\"\u001b[39m) \u001b[38;5;28;01mfrom\u001b[39;00m\u001b[38;5;250m \u001b[39m\u001b[38;5;28;01mNone\u001b[39;00m\n\u001b[1;32m     34\u001b[0m torch_imported \u001b[38;5;241m=\u001b[39m \u001b[38;5;28;01mTrue\u001b[39;00m\n\u001b[1;32m     35\u001b[0m \u001b[38;5;28;01mtry\u001b[39;00m:\n",
      "\u001b[0;31mImportError\u001b[0m: umap.parametric_umap requires Keras"
     ]
    }
   ],
   "source": [
    "import numpy as np\n",
    "import pandas as pd\n",
    "import matplotlib.pyplot as plt\n",
    "import seaborn as sns\n",
    "from sklearn.decomposition import PCA\n",
    "from umap.parametric_umap import ParametricUMAP\n",
    "from datasets import load_from_disk\n",
    "from sklearn.preprocessing import MinMaxScaler\n"
   ]
  },
  {
   "cell_type": "markdown",
   "id": "0d64b594",
   "metadata": {},
   "source": [
    "### Read the dataset"
   ]
  },
  {
   "cell_type": "code",
   "execution_count": null,
   "id": "eb0ccec2",
   "metadata": {},
   "outputs": [],
   "source": [
    "violence_hidden = load_from_disk(\"/data3/mmendieta/Violence_data/geo_corpus.0.0.1_datasets_hidden_small_labse\")"
   ]
  },
  {
   "cell_type": "code",
   "execution_count": null,
   "id": "eaf5c05f",
   "metadata": {},
   "outputs": [],
   "source": [
    "violence_hidden"
   ]
  },
  {
   "cell_type": "code",
   "execution_count": null,
   "id": "3dd14a11",
   "metadata": {},
   "outputs": [],
   "source": [
    "# pick a subset of the training set (1M observations)\n",
    "train_ds = violence_hidden[\"train\"].shuffle(seed=42).select(range(1000))"
   ]
  },
  {
   "cell_type": "code",
   "execution_count": null,
   "id": "45aa5aa2",
   "metadata": {},
   "outputs": [],
   "source": [
    "train_ds"
   ]
  },
  {
   "cell_type": "markdown",
   "id": "94251cb3",
   "metadata": {},
   "source": [
    "### Creating a feature matrix"
   ]
  },
  {
   "cell_type": "code",
   "execution_count": null,
   "id": "3ec47618",
   "metadata": {},
   "outputs": [],
   "source": [
    "# This code took almost 20 min to run\n",
    "%time X_train = np.array(train_ds[\"hidden_state\"])\n",
    "\n",
    "y_train_pre7_10 = np.array(train_ds[\"pre7geo10\"])\n",
    "y_train_pre7_30 = np.array(train_ds[\"pre7geo30\"])\n",
    "y_train_pre7_50 = np.array(train_ds[\"pre7geo50\"])\n",
    "y_train_post7_10 = np.array(train_ds[\"post7geo10\"])\n",
    "y_train_post7_30 = np.array(train_ds[\"post7geo30\"])\n",
    "y_train_post7_50 = np.array(train_ds[\"post7geo50\"])\n",
    "\n",
    "X_train.shape"
   ]
  },
  {
   "cell_type": "markdown",
   "id": "8420c782",
   "metadata": {},
   "source": [
    "### Visualize the training set"
   ]
  },
  {
   "cell_type": "code",
   "execution_count": null,
   "id": "7f2d7bc7",
   "metadata": {},
   "outputs": [],
   "source": [
    "# Scale features to [0,1] range\n",
    "X_scaled = MinMaxScaler().fit_transform(X_train)\n",
    "# Initialize and fit UMAP\n",
    "%time mapper = UMAP(n_components=2, metric=\"cosine\").fit(X_scaled)\n"
   ]
  },
  {
   "cell_type": "code",
   "execution_count": null,
   "id": "6e21ca40",
   "metadata": {},
   "outputs": [],
   "source": [
    "# Create a dataframe of 2D embeddings\n",
    "df_emb = pd.DataFrame(mapper.embedding_, columns=[\"X\", \"Y\"])\n",
    "df_emb['pre7geo10'] = y_train_pre7_10\n",
    "df_emb['pre7geo30'] = y_train_pre7_30\n",
    "df_emb['pre7geo50'] = y_train_pre7_50\n",
    "df_emb['post7geo10'] = y_train_post7_10\n",
    "df_emb['post7geo30'] = y_train_post7_30\n",
    "df_emb['post7geo50'] = y_train_post7_50\n",
    "df_emb.head()"
   ]
  },
  {
   "cell_type": "code",
   "execution_count": null,
   "id": "3f5f56e5",
   "metadata": {},
   "outputs": [],
   "source": [
    "fig, axes = plt.subplots(1, 2, figsize=(5,3))\n",
    "fig.suptitle('pre7geo10')\n",
    "axes = axes.flatten()\n",
    "cmaps = [\"Blues\", \"Oranges\"]\n",
    "labels = [0,1]\n",
    "\n",
    "for i, (label, cmap) in enumerate(zip(labels, cmaps)):\n",
    "    df_emb_sub = df_emb.query(f\"pre7geo10 == {i}\")\n",
    "    axes[i].hexbin(df_emb_sub[\"X\"], df_emb_sub[\"Y\"], cmap=cmap,\n",
    "                   gridsize=20, linewidths=(0,))\n",
    "    axes[i].set_title(label)\n",
    "    axes[i].set_xticks([]), axes[i].set_yticks([])\n",
    "\n",
    "plt.tight_layout()\n",
    "plt.show()"
   ]
  },
  {
   "cell_type": "code",
   "execution_count": null,
   "id": "d06201a0",
   "metadata": {},
   "outputs": [],
   "source": [
    "fig, axes = plt.subplots(1, 2, figsize=(5,3))\n",
    "fig.suptitle('pre7geo30')\n",
    "axes = axes.flatten()\n",
    "cmaps = [\"Blues\", \"Oranges\"]\n",
    "labels = [0,1]\n",
    "\n",
    "for i, (label, cmap) in enumerate(zip(labels, cmaps)):\n",
    "    df_emb_sub = df_emb.query(f\"pre7geo30 == {i}\")\n",
    "    axes[i].hexbin(df_emb_sub[\"X\"], df_emb_sub[\"Y\"], cmap=cmap,\n",
    "                   gridsize=20, linewidths=(0,))\n",
    "    axes[i].set_title(label)\n",
    "    axes[i].set_xticks([]), axes[i].set_yticks([])\n",
    "\n",
    "plt.tight_layout()\n",
    "plt.show()"
   ]
  },
  {
   "cell_type": "code",
   "execution_count": null,
   "id": "0f8d19f1",
   "metadata": {},
   "outputs": [],
   "source": [
    "fig, axes = plt.subplots(1, 2, figsize=(5,3))\n",
    "fig.suptitle('pre7geo50')\n",
    "axes = axes.flatten()\n",
    "cmaps = [\"Blues\", \"Oranges\"]\n",
    "labels = [0,1]\n",
    "\n",
    "for i, (label, cmap) in enumerate(zip(labels, cmaps)):\n",
    "    df_emb_sub = df_emb.query(f\"pre7geo50 == {i}\")\n",
    "    axes[i].hexbin(df_emb_sub[\"X\"], df_emb_sub[\"Y\"], cmap=cmap,\n",
    "                   gridsize=20, linewidths=(0,))\n",
    "    axes[i].set_title(label)\n",
    "    axes[i].set_xticks([]), axes[i].set_yticks([])\n",
    "\n",
    "plt.tight_layout()\n",
    "plt.show()"
   ]
  },
  {
   "cell_type": "code",
   "execution_count": null,
   "id": "d4207cc9",
   "metadata": {},
   "outputs": [],
   "source": [
    "fig, axes = plt.subplots(1, 2, figsize=(5,3))\n",
    "fig.suptitle('post7geo10')\n",
    "axes = axes.flatten()\n",
    "cmaps = [\"Greens\", \"Reds\"]\n",
    "labels = [0,1]\n",
    "\n",
    "for i, (label, cmap) in enumerate(zip(labels, cmaps)):\n",
    "    df_emb_sub = df_emb.query(f\"post7geo10 == {i}\")\n",
    "    axes[i].hexbin(df_emb_sub[\"X\"], df_emb_sub[\"Y\"], cmap=cmap,\n",
    "                   gridsize=20, linewidths=(0,))\n",
    "    axes[i].set_title(label)\n",
    "    axes[i].set_xticks([]), axes[i].set_yticks([])\n",
    "\n",
    "plt.tight_layout()\n",
    "plt.show()"
   ]
  },
  {
   "cell_type": "code",
   "execution_count": null,
   "id": "2096f54a",
   "metadata": {},
   "outputs": [],
   "source": [
    "fig, axes = plt.subplots(1, 2, figsize=(5,3))\n",
    "fig.suptitle('post7geo30')\n",
    "axes = axes.flatten()\n",
    "cmaps = [\"Greens\", \"Reds\"]\n",
    "labels = [0,1]\n",
    "\n",
    "for i, (label, cmap) in enumerate(zip(labels, cmaps)):\n",
    "    df_emb_sub = df_emb.query(f\"post7geo30 == {i}\")\n",
    "    axes[i].hexbin(df_emb_sub[\"X\"], df_emb_sub[\"Y\"], cmap=cmap,\n",
    "                   gridsize=20, linewidths=(0,))\n",
    "    axes[i].set_title(label)\n",
    "    axes[i].set_xticks([]), axes[i].set_yticks([])\n",
    "\n",
    "plt.tight_layout()\n",
    "plt.show()"
   ]
  },
  {
   "cell_type": "code",
   "execution_count": null,
   "id": "d7700bce",
   "metadata": {},
   "outputs": [],
   "source": [
    "fig, axes = plt.subplots(1, 2, figsize=(5,3))\n",
    "fig.suptitle('post7geo50')\n",
    "axes = axes.flatten()\n",
    "cmaps = [\"Greens\", \"Reds\"]\n",
    "labels = [0,1]\n",
    "\n",
    "for i, (label, cmap) in enumerate(zip(labels, cmaps)):\n",
    "    df_emb_sub = df_emb.query(f\"post7geo50 == {i}\")\n",
    "    axes[i].hexbin(df_emb_sub[\"X\"], df_emb_sub[\"Y\"], cmap=cmap,\n",
    "                   gridsize=20, linewidths=(0,))\n",
    "    axes[i].set_title(label)\n",
    "    axes[i].set_xticks([]), axes[i].set_yticks([])\n",
    "\n",
    "plt.tight_layout()\n",
    "plt.show()"
   ]
  },
  {
   "cell_type": "code",
   "execution_count": null,
   "id": "445763a2",
   "metadata": {},
   "outputs": [],
   "source": []
  },
  {
   "cell_type": "code",
   "execution_count": null,
   "id": "56a4eff1",
   "metadata": {},
   "outputs": [],
   "source": [
    "def reduced_dimensionality(train_ds, field_name, label_col='key'):\n",
    "    print(f\"Starting dimensionality reduction for: {field_name}\")\n",
    "    \n",
    "    # Step 0: Convert to Numpy\n",
    "    X = np.array(train_ds[field_name])\n",
    "    y = np."
   ]
  }
 ],
 "metadata": {
  "kernelspec": {
   "display_name": "Python 3 (ipykernel)",
   "language": "python",
   "name": "python3"
  },
  "language_info": {
   "codemirror_mode": {
    "name": "ipython",
    "version": 3
   },
   "file_extension": ".py",
   "mimetype": "text/x-python",
   "name": "python",
   "nbconvert_exporter": "python",
   "pygments_lexer": "ipython3",
   "version": "3.8.3"
  }
 },
 "nbformat": 4,
 "nbformat_minor": 5
}
