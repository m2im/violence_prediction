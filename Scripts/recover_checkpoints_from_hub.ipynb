{
 "cells": [
  {
   "cell_type": "code",
   "execution_count": 1,
   "id": "419548be",
   "metadata": {},
   "outputs": [],
   "source": [
    "from huggingface_hub import notebook_login, Repository, list_repo_refs\n",
    "import os\n",
    "import shutil # Import shutil for potential directory cleanup if needed"
   ]
  },
  {
   "cell_type": "code",
   "execution_count": 2,
   "id": "5357ad76",
   "metadata": {},
   "outputs": [],
   "source": [
    "# --- Configuration ---\n",
    "HUB_REPO_ID = \"m2im/ml-e5-large_finetuned_violence_twitter_all_labels\"\n",
    "\n",
    "# IMPORTANT: Choose a NEW, EMPTY directory for recovery.\n",
    "# DO NOT use your previous '/data4/mmendieta/models/ml-e5-large_finetuned_twitter_all_labels'\n",
    "# as it might contain partially modified git history.\n",
    "RECOVERY_DIR = \"/data4/mmendieta/recovered_models\" # Suggest a new, distinct path"
   ]
  },
  {
   "cell_type": "code",
   "execution_count": 3,
   "id": "685c7890",
   "metadata": {},
   "outputs": [
    {
     "name": "stdout",
     "output_type": "stream",
     "text": [
      "\n",
      "Listing branches and tags for m2im/ml-e5-large_finetuned_violence_twitter_all_labels on Hugging Face Hub...\n",
      "\n",
      "--- Branches on Hub ---\n",
      "- Branch: main (Latest Commit: 802c1633d891880a2c741461f554d76786ad70b0)\n",
      "- Branch: fanciful-sunset-7 (Latest Commit: 428e979290d71390ac7c7a3c3dfc81aa4136518d)\n",
      "\n",
      "--- Tags on Hub ---\n",
      "No tags found.\n",
      "\n",
      "*******************************************************************************\n",
      "Review the branches and tags above carefully.\n",
      "Identify the one that likely contains your checkpoints (e.g., 'fanciful-sunset-7' or 'epoch_18').\n",
      "*******************************************************************************\n"
     ]
    }
   ],
   "source": [
    "# --- Step 1: List all branches and tags on your Hub repository ---\n",
    "print(f\"\\nListing branches and tags for {HUB_REPO_ID} on Hugging Face Hub...\")\n",
    "try:\n",
    "    refs = list_repo_refs(HUB_REPO_ID)\n",
    "\n",
    "    print(\"\\n--- Branches on Hub ---\")\n",
    "    if refs.branches:\n",
    "        for branch in refs.branches:\n",
    "            print(f\"- Branch: {branch.name} (Latest Commit: {branch.target_commit})\")\n",
    "    else:\n",
    "        print(\"No branches found.\")\n",
    "\n",
    "    print(\"\\n--- Tags on Hub ---\")\n",
    "    if refs.tags:\n",
    "        for tag in refs.tags:\n",
    "            print(f\"- Tag: {tag.name} (Commit: {tag.target_commit})\")\n",
    "    else:\n",
    "        print(\"No tags found.\")\n",
    "\n",
    "except Exception as e:\n",
    "    print(f\"Error listing repository refs: {e}\")\n",
    "    print(\"Please ensure your HUB_REPO_ID is correct and you have read access.\")\n",
    "    exit()\n",
    "\n",
    "print(\"\\n*******************************************************************************\")\n",
    "print(\"Review the branches and tags above carefully.\")\n",
    "print(\"Identify the one that likely contains your checkpoints (e.g., 'fanciful-sunset-7' or 'epoch_18').\")\n",
    "print(\"*******************************************************************************\")"
   ]
  },
  {
   "cell_type": "code",
   "execution_count": 7,
   "id": "16775c30",
   "metadata": {},
   "outputs": [
    {
     "name": "stderr",
     "output_type": "stream",
     "text": [
      "/home/mmendieta/transformers/lib/python3.8/site-packages/huggingface_hub/utils/_deprecation.py:131: FutureWarning: 'Repository' (from 'huggingface_hub.repository') is deprecated and will be removed from version '1.0'. Please prefer the http-based alternatives instead. Given its large adoption in legacy code, the complete removal is only planned on next major release.\n",
      "For more details, please read https://huggingface.co/docs/huggingface_hub/concepts/git_vs_http.\n",
      "  warnings.warn(warning_message, FutureWarning)\n",
      "Cloning https://huggingface.co/m2im/ml-e5-large_finetuned_violence_twitter_all_labels into local empty directory.\n"
     ]
    },
    {
     "name": "stdout",
     "output_type": "stream",
     "text": [
      "\n",
      "Attempting to clone revision 'fanciful-sunset-7' from 'm2im/ml-e5-large_finetuned_violence_twitter_all_labels' to '/data4/mmendieta/recovered_models'...\n"
     ]
    },
    {
     "data": {
      "application/vnd.jupyter.widget-view+json": {
       "model_id": "d2593339c3fa4372b8a0b0edf63909e6",
       "version_major": 2,
       "version_minor": 0
      },
      "text/plain": [
       "Download file tokenizer.json:   0%|          | 12.7k/16.3M [00:00<?, ?B/s]"
      ]
     },
     "metadata": {},
     "output_type": "display_data"
    },
    {
     "data": {
      "application/vnd.jupyter.widget-view+json": {
       "model_id": "e5205ac2823d4d47a3d7376d171ddb6e",
       "version_major": 2,
       "version_minor": 0
      },
      "text/plain": [
       "Download file sentencepiece.bpe.model:   0%|          | 24.0k/4.83M [00:00<?, ?B/s]"
      ]
     },
     "metadata": {},
     "output_type": "display_data"
    },
    {
     "name": "stderr",
     "output_type": "stream",
     "text": [
      "Checked out fanciful-sunset-7 from fanciful-sunset-7.\n",
      "Branch 'fanciful-sunset-7' set up to track remote branch 'fanciful-sunset-7' from 'origin'.\n",
      "\n"
     ]
    },
    {
     "name": "stdout",
     "output_type": "stream",
     "text": [
      "\n",
      "Successfully cloned revision 'fanciful-sunset-7' to '/data4/mmendieta/recovered_models'.\n",
      "The recovered Git branch is now: fanciful-sunset-7\n",
      "\n",
      "--- Next Steps to find your Checkpoints ---\n",
      "1. Navigate to the recovered directory in your terminal:\n",
      "   `cd /data4/mmendieta/recovered_models`\n",
      "2. List all contents recursively to find your checkpoints. They are likely nested:\n",
      "   `ls -lR`\n",
      "   Look for 'config.json', 'pytorch_model.bin' (or 'model.safetensors'),\n",
      "   and all your tokenizer files (e.g., 'tokenizer.json', 'special_tokens_map.json').\n",
      "   Based on your previous screenshots, they might be inside a 'fanciful-sunset-7/epoch_18/' structure within this recovered directory.\n",
      "3. Once located, you can copy the desired checkpoint files back to your original working directory for use or to push to the 'main' branch.\n"
     ]
    }
   ],
   "source": [
    "# --- Step 2: Clone the specific branch/tag containing your checkpoints ---\n",
    "# !!! REPLACE \"fanciful-sunset-7\" BELOW with the ACTUAL branch or tag name you identified !!!\n",
    "# For example, if 'epoch_18' appeared in the 'Tags on Hub' list, use 'epoch_18' here.\n",
    "REVISION_TO_RECOVER = \"fanciful-sunset-7\" # <--- YOU MUST UPDATE THIS LINE!\n",
    "\n",
    "print(f\"\\nAttempting to clone revision '{REVISION_TO_RECOVER}' from '{HUB_REPO_ID}' to '{RECOVERY_DIR}'...\")\n",
    "\n",
    "# Prepare the recovery directory\n",
    "if os.path.exists(RECOVERY_DIR):\n",
    "    if os.listdir(RECOVERY_DIR): # Check if directory is not empty\n",
    "        print(f\"WARNING: Recovery directory '{RECOVERY_DIR}' is not empty.\")\n",
    "        user_choice = input(\"Do you want to clear its contents before cloning? (y/n): \").lower()\n",
    "        if user_choice == 'y':\n",
    "            print(f\"Clearing contents of '{RECOVERY_DIR}'...\")\n",
    "            for item in os.listdir(RECOVERY_DIR):\n",
    "                item_path = os.path.join(RECOVERY_DIR, item)\n",
    "                if os.path.isfile(item_path):\n",
    "                    os.remove(item_path)\n",
    "                elif os.path.isdir(item_path):\n",
    "                    shutil.rmtree(item_path)\n",
    "            print(\"Directory cleared.\")\n",
    "        else:\n",
    "            print(\"Aborting to prevent accidental data loss. Please choose an empty directory or clear it manually.\")\n",
    "            exit()\n",
    "else:\n",
    "    os.makedirs(RECOVERY_DIR, exist_ok=True) # Create the directory if it doesn't exist\n",
    "\n",
    "try:\n",
    "    recovered_repo = Repository(\n",
    "        local_dir=RECOVERY_DIR,\n",
    "        clone_from=HUB_REPO_ID,\n",
    "        revision=REVISION_TO_RECOVER # Clone the specific branch or tag\n",
    "    )\n",
    "    print(f\"\\nSuccessfully cloned revision '{REVISION_TO_RECOVER}' to '{RECOVERY_DIR}'.\")\n",
    "    print(f\"The recovered Git branch is now: {recovered_repo.current_branch}\")\n",
    "\n",
    "    # --- Step 3: Guide the user to find the files within the recovered directory ---\n",
    "    print(\"\\n--- Next Steps to find your Checkpoints ---\")\n",
    "    print(f\"1. Navigate to the recovered directory in your terminal:\")\n",
    "    print(f\"   `cd {RECOVERY_DIR}`\")\n",
    "    print(\"2. List all contents recursively to find your checkpoints. They are likely nested:\")\n",
    "    print(\"   `ls -lR`\")\n",
    "    print(\"   Look for 'config.json', 'pytorch_model.bin' (or 'model.safetensors'),\")\n",
    "    print(\"   and all your tokenizer files (e.g., 'tokenizer.json', 'special_tokens_map.json').\")\n",
    "    print(\"   Based on your previous screenshots, they might be inside a 'fanciful-sunset-7/epoch_18/' structure within this recovered directory.\")\n",
    "    print(\"3. Once located, you can copy the desired checkpoint files back to your original working directory for use or to push to the 'main' branch.\")\n",
    "\n",
    "except Exception as e:\n",
    "    print(f\"Error cloning repository: {e}\")\n",
    "    print(f\"Please double-check the 'REVISION_TO_RECOVER' name ('{REVISION_TO_RECOVER}') and ensure it's a valid branch or tag on your Hub repository.\")\n",
    "    print(\"Also ensure you have network access and write permissions for the 'RECOVERY_DIR'.\")"
   ]
  },
  {
   "cell_type": "code",
   "execution_count": null,
   "id": "0168a2aa",
   "metadata": {},
   "outputs": [],
   "source": []
  }
 ],
 "metadata": {
  "kernelspec": {
   "display_name": "Python 3 (ipykernel)",
   "language": "python",
   "name": "python3"
  },
  "language_info": {
   "codemirror_mode": {
    "name": "ipython",
    "version": 3
   },
   "file_extension": ".py",
   "mimetype": "text/x-python",
   "name": "python",
   "nbconvert_exporter": "python",
   "pygments_lexer": "ipython3",
   "version": "3.8.3"
  }
 },
 "nbformat": 4,
 "nbformat_minor": 5
}
