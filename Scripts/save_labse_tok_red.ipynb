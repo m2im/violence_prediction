{
 "cells": [
  {
   "cell_type": "code",
   "execution_count": 1,
   "id": "95f2686a",
   "metadata": {},
   "outputs": [],
   "source": [
    "import torch\n",
    "import pandas as pd\n",
    "import matplotlib.pyplot as plt\n",
    "import numpy as np\n",
    "from datasets import load_from_disk\n",
    "from argparse import Namespace"
   ]
  },
  {
   "cell_type": "code",
   "execution_count": 2,
   "id": "bba91e94",
   "metadata": {},
   "outputs": [],
   "source": [
    "config = {\n",
    "    \"train_subset\": 3000000,\n",
    "    \"valid_subset\": 800000,\n",
    "    \"test_subset\" : 400000,\n",
    "    \"seed\": 42\n",
    "}\n",
    "\n",
    "args = Namespace(**config)"
   ]
  },
  {
   "cell_type": "markdown",
   "id": "cd083866",
   "metadata": {},
   "source": [
    "### Read the dataset"
   ]
  },
  {
   "cell_type": "code",
   "execution_count": 3,
   "id": "ebda11c1",
   "metadata": {},
   "outputs": [],
   "source": [
    "violence_hidden = load_from_disk(\"../../Violence_data/geo_corpus.0.0.1_datasets_hidden_labse\")"
   ]
  },
  {
   "cell_type": "code",
   "execution_count": 4,
   "id": "a21716af",
   "metadata": {},
   "outputs": [],
   "source": [
    "# Remove unncesary columns\n",
    "keep_cols = ['hidden_state', 'pre7geo10', 'pre7geo30', \n",
    "             'pre7geo50', 'post7geo10', 'post7geo30', 'post7geo50']\n",
    "remove_columns = [col for col in violence_hidden['train'].column_names if col not in keep_cols]"
   ]
  },
  {
   "cell_type": "code",
   "execution_count": 5,
   "id": "ea30ed01",
   "metadata": {},
   "outputs": [],
   "source": [
    "violence_hidden = violence_hidden.remove_columns(remove_columns)"
   ]
  },
  {
   "cell_type": "code",
   "execution_count": 6,
   "id": "3a3e78b2",
   "metadata": {},
   "outputs": [],
   "source": [
    "# Extract a subset of the dataset\n",
    "train_clf_ds = violence_hidden[\"train\"].shuffle(args.seed).select(range(args.train_subset))\n",
    "validation_clf_ds = violence_hidden[\"validation\"].shuffle(args.seed).select(range(args.valid_subset))\n",
    "test_clf_ds = violence_hidden[\"test\"].shuffle(args.seed).select(range(args.test_subset))"
   ]
  },
  {
   "cell_type": "markdown",
   "id": "2adec60f",
   "metadata": {},
   "source": [
    "### Preprocess the labels"
   ]
  },
  {
   "cell_type": "code",
   "execution_count": 9,
   "id": "e17b0a66",
   "metadata": {},
   "outputs": [
    {
     "data": {
      "application/vnd.jupyter.widget-view+json": {
       "model_id": "1256f936dce64e44bbb95deebff82d2e",
       "version_major": 2,
       "version_minor": 0
      },
      "text/plain": [
       "Casting the dataset:   0%|          | 0/300 [00:00<?, ?ba/s]"
      ]
     },
     "metadata": {},
     "output_type": "display_data"
    },
    {
     "data": {
      "application/vnd.jupyter.widget-view+json": {
       "model_id": "8cb453ca53e84d86918728e3dfc21649",
       "version_major": 2,
       "version_minor": 0
      },
      "text/plain": [
       "Casting the dataset:   0%|          | 0/80 [00:00<?, ?ba/s]"
      ]
     },
     "metadata": {},
     "output_type": "display_data"
    },
    {
     "data": {
      "application/vnd.jupyter.widget-view+json": {
       "model_id": "2e98b761fd514a58bf10b08a1bfe354d",
       "version_major": 2,
       "version_minor": 0
      },
      "text/plain": [
       "Casting the dataset:   0%|          | 0/40 [00:00<?, ?ba/s]"
      ]
     },
     "metadata": {},
     "output_type": "display_data"
    }
   ],
   "source": [
    "# We need to to cast integer labels to float in order to calculate the Binary Cross\n",
    "# Entropy loss during training\n",
    "from datasets import Value\n",
    "new_features = train_clf_ds.features.copy()\n",
    "new_features['post7geo10'] = Value(dtype='float32')\n",
    "new_features['post7geo30'] = Value(dtype='float32')\n",
    "new_features['post7geo50'] = Value(dtype='float32')\n",
    "new_features['pre7geo10'] = Value(dtype='float32')\n",
    "new_features['pre7geo30'] = Value(dtype='float32')\n",
    "new_features['pre7geo50'] = Value(dtype='float32')\n",
    "train_clf_ds = train_clf_ds.cast(new_features)\n",
    "validation_clf_ds = validation_clf_ds.cast(new_features)\n",
    "test_clf_ds = test_clf_ds.cast(new_features)"
   ]
  },
  {
   "cell_type": "code",
   "execution_count": 10,
   "id": "977f92df",
   "metadata": {},
   "outputs": [
    {
     "data": {
      "application/vnd.jupyter.widget-view+json": {
       "model_id": "c1703c2f2b7a45f094e06efc0b08c635",
       "version_major": 2,
       "version_minor": 0
      },
      "text/plain": [
       "  0%|          | 0/3000000 [00:00<?, ?ex/s]"
      ]
     },
     "metadata": {},
     "output_type": "display_data"
    },
    {
     "data": {
      "application/vnd.jupyter.widget-view+json": {
       "model_id": "44a5baeea9ad4822a2b2295126e159aa",
       "version_major": 2,
       "version_minor": 0
      },
      "text/plain": [
       "  0%|          | 0/800000 [00:00<?, ?ex/s]"
      ]
     },
     "metadata": {},
     "output_type": "display_data"
    },
    {
     "data": {
      "application/vnd.jupyter.widget-view+json": {
       "model_id": "e8941c82e95b49feab59c5291fdbb1cd",
       "version_major": 2,
       "version_minor": 0
      },
      "text/plain": [
       "  0%|          | 0/400000 [00:00<?, ?ex/s]"
      ]
     },
     "metadata": {},
     "output_type": "display_data"
    }
   ],
   "source": [
    "# create 'labels' columm for each split\n",
    "cols = train_clf_ds.column_names\n",
    "# Train split\n",
    "train_clf_ds = train_clf_ds.map(lambda x : {\"labels\": [x[c] for c in cols if c != \"hidden_state\"]})\n",
    "# Validation split\n",
    "validation_clf_ds = validation_clf_ds.map(lambda x : {\"labels\": [x[c] for c in cols if c != \"hidden_state\"]})\n",
    "# Test split\n",
    "test_clf_ds = test_clf_ds.map(lambda x : {\"labels\": [x[c] for c in cols if c != \"hidden_state\"]})"
   ]
  },
  {
   "cell_type": "code",
   "execution_count": 11,
   "id": "4548b1aa",
   "metadata": {},
   "outputs": [],
   "source": [
    "# remove all columns except hidden_states and labels\n",
    "col_names = train_clf_ds.column_names\n",
    "col_names.remove(\"labels\")\n",
    "col_names.remove('hidden_state')"
   ]
  },
  {
   "cell_type": "code",
   "execution_count": 12,
   "id": "bb7908df",
   "metadata": {},
   "outputs": [],
   "source": [
    "train_clf_ds = train_clf_ds.remove_columns(col_names)\n",
    "validation_clf_ds = validation_clf_ds.remove_columns(col_names)\n",
    "test_clf_ds = test_clf_ds.remove_columns(col_names)"
   ]
  },
  {
   "cell_type": "code",
   "execution_count": 19,
   "id": "278dc7d8",
   "metadata": {},
   "outputs": [
    {
     "data": {
      "text/plain": [
       "Dataset({\n",
       "    features: ['hidden_state', 'labels'],\n",
       "    num_rows: 3000000\n",
       "})"
      ]
     },
     "execution_count": 19,
     "metadata": {},
     "output_type": "execute_result"
    }
   ],
   "source": [
    "train_clf_ds"
   ]
  },
  {
   "cell_type": "code",
   "execution_count": 21,
   "id": "7fec3183",
   "metadata": {},
   "outputs": [],
   "source": [
    "from collections import defaultdict\n",
    "from datasets import DatasetDict"
   ]
  },
  {
   "cell_type": "code",
   "execution_count": 32,
   "id": "dc0c668c",
   "metadata": {},
   "outputs": [],
   "source": [
    "ds_complete = DatasetDict()"
   ]
  },
  {
   "cell_type": "code",
   "execution_count": 33,
   "id": "26d177aa",
   "metadata": {},
   "outputs": [
    {
     "data": {
      "text/plain": [
       "DatasetDict({\n",
       "    \n",
       "})"
      ]
     },
     "execution_count": 33,
     "metadata": {},
     "output_type": "execute_result"
    }
   ],
   "source": [
    "ds_complete"
   ]
  },
  {
   "cell_type": "code",
   "execution_count": 34,
   "id": "397de805",
   "metadata": {},
   "outputs": [],
   "source": [
    "ds_complete[\"train\"] = (train_clf_ds)\n",
    "ds_complete[\"validation\"] = (validation_clf_ds)\n",
    "ds_complete[\"test\"] = (test_clf_ds)"
   ]
  },
  {
   "cell_type": "code",
   "execution_count": 35,
   "id": "79f8b871",
   "metadata": {},
   "outputs": [
    {
     "data": {
      "text/plain": [
       "DatasetDict({\n",
       "    train: Dataset({\n",
       "        features: ['hidden_state', 'labels'],\n",
       "        num_rows: 3000000\n",
       "    })\n",
       "    validation: Dataset({\n",
       "        features: ['hidden_state', 'labels'],\n",
       "        num_rows: 800000\n",
       "    })\n",
       "    test: Dataset({\n",
       "        features: ['hidden_state', 'labels'],\n",
       "        num_rows: 400000\n",
       "    })\n",
       "})"
      ]
     },
     "execution_count": 35,
     "metadata": {},
     "output_type": "execute_result"
    }
   ],
   "source": [
    "ds_complete"
   ]
  },
  {
   "cell_type": "code",
   "execution_count": 38,
   "id": "52af6ed4",
   "metadata": {},
   "outputs": [
    {
     "data": {
      "text/plain": [
       "DatasetDict({\n",
       "    train: Dataset({\n",
       "        features: ['hidden_state', 'labels'],\n",
       "        num_rows: 3000000\n",
       "    })\n",
       "    validation: Dataset({\n",
       "        features: ['hidden_state', 'labels'],\n",
       "        num_rows: 800000\n",
       "    })\n",
       "    test: Dataset({\n",
       "        features: ['hidden_state', 'labels'],\n",
       "        num_rows: 400000\n",
       "    })\n",
       "})"
      ]
     },
     "execution_count": 38,
     "metadata": {},
     "output_type": "execute_result"
    }
   ],
   "source": [
    "ds_complete"
   ]
  },
  {
   "cell_type": "code",
   "execution_count": 37,
   "id": "f55ee43f",
   "metadata": {},
   "outputs": [],
   "source": [
    "ds_complete.save_to_disk(\"../../Violence_data/geo_corpus.0.0.1_datasets_hidden_labse_subset\")"
   ]
  },
  {
   "cell_type": "code",
   "execution_count": null,
   "id": "3d4f76a1",
   "metadata": {},
   "outputs": [],
   "source": []
  }
 ],
 "metadata": {
  "kernelspec": {
   "display_name": "Python 3 (ipykernel)",
   "language": "python",
   "name": "python3"
  },
  "language_info": {
   "codemirror_mode": {
    "name": "ipython",
    "version": 3
   },
   "file_extension": ".py",
   "mimetype": "text/x-python",
   "name": "python",
   "nbconvert_exporter": "python",
   "pygments_lexer": "ipython3",
   "version": "3.8.3"
  }
 },
 "nbformat": 4,
 "nbformat_minor": 5
}
