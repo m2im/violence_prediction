{
 "cells": [
  {
   "cell_type": "code",
   "execution_count": 1,
   "id": "62532a4d",
   "metadata": {},
   "outputs": [],
   "source": [
    "import os\n",
    "import numpy as np\n",
    "import pandas as pd\n",
    "\n",
    "from argparse import Namespace\n",
    "from datasets import load_from_disk"
   ]
  },
  {
   "cell_type": "code",
   "execution_count": 2,
   "id": "e9f48437",
   "metadata": {},
   "outputs": [],
   "source": [
    "config = {\n",
    "    \"seed\": 42,\n",
    "    \"dataset\": \"/data3/mmendieta/Violence_data//geo_corpus.0.0.1_datasets_hidden_xlmt\",\n",
    "    \"num_samples\": 1000,\n",
    "    \"num_labels\": 6,\n",
    "    \"fout\": \"/data4/mmendieta/data/sample_hidden_xlmt\"\n",
    "}\n",
    "\n",
    "args = Namespace(**config)"
   ]
  },
  {
   "cell_type": "code",
   "execution_count": 3,
   "id": "212053aa",
   "metadata": {},
   "outputs": [],
   "source": [
    "# Load dataset\n",
    "dataset_path = args.dataset\n",
    "ds = load_from_disk(dataset_path)\n",
    "train_ds = ds[\"train\"]"
   ]
  },
  {
   "cell_type": "code",
   "execution_count": 4,
   "id": "a7062a34",
   "metadata": {},
   "outputs": [],
   "source": [
    "# Prepare numpy arrays\n",
    "hidden_states = np.array(train_ds[\"hidden_state\"])\n",
    "labels = np.array(train_ds[\"labels\"])"
   ]
  },
  {
   "cell_type": "code",
   "execution_count": 5,
   "id": "c0dc5c5f",
   "metadata": {},
   "outputs": [],
   "source": [
    "samples = []\n",
    "\n",
    "# Sample up to num_samples for each label and binary value\n",
    "for label_idx in range(args.num_labels):  # num labels\n",
    "    for binary_val in [0, 1]:\n",
    "        # Get indices where the value at label_idx is binary_val\n",
    "        matching_indices = [i for i, row in enumerate(labels) if row[label_idx] == binary_val]\n",
    "        if len(matching_indices) == 0:\n",
    "            continue  # Skip if no samples found\n",
    "        \n",
    "        # Sample up to 1000 indices\n",
    "        sampled_indices = np.random.choice(matching_indices, \n",
    "                                           size=min(args.num_samples, len(matching_indices)), \n",
    "                                           replace=False)\n",
    "        \n",
    "        # Collect samples\n",
    "        for i in sampled_indices:\n",
    "            samples.append({\n",
    "                \"hidden_state\": hidden_states[i],\n",
    "                \"label_idx\": label_idx,\n",
    "                \"label_value\": binary_val\n",
    "            })"
   ]
  },
  {
   "cell_type": "code",
   "execution_count": 6,
   "id": "f8f8411c",
   "metadata": {},
   "outputs": [],
   "source": [
    "# Create DataFrame\n",
    "sample_df = pd.DataFrame(samples)"
   ]
  },
  {
   "cell_type": "code",
   "execution_count": 7,
   "id": "de031598",
   "metadata": {},
   "outputs": [
    {
     "name": "stdout",
     "output_type": "stream",
     "text": [
      "[INFO] Saved 12000 samples to '/data4/mmendieta/data/sample_hidden_xlmt'\n"
     ]
    }
   ],
   "source": [
    "# Save the sampled DataFrame to the specified file\n",
    "sample_df.to_pickle(args.fout)\n",
    "\n",
    "print(f\"[INFO] Saved {len(sample_df)} samples to '{args.fout}'\")"
   ]
  },
  {
   "cell_type": "code",
   "execution_count": null,
   "id": "5f139948",
   "metadata": {},
   "outputs": [],
   "source": []
  }
 ],
 "metadata": {
  "kernelspec": {
   "display_name": "Python 3 (ipykernel)",
   "language": "python",
   "name": "python3"
  },
  "language_info": {
   "codemirror_mode": {
    "name": "ipython",
    "version": 3
   },
   "file_extension": ".py",
   "mimetype": "text/x-python",
   "name": "python",
   "nbconvert_exporter": "python",
   "pygments_lexer": "ipython3",
   "version": "3.8.3"
  }
 },
 "nbformat": 4,
 "nbformat_minor": 5
}
