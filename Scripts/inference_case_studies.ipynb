{
 "cells": [
  {
   "cell_type": "code",
   "execution_count": 14,
   "id": "531dc905",
   "metadata": {},
   "outputs": [],
   "source": [
    "import torch\n",
    "import transformers\n",
    "import pandas as pd\n",
    "import re\n",
    "import html\n",
    "import matplotlib.pyplot as plt\n",
    "import numpy as np\n",
    "import evaluate\n",
    "from datasets import load_dataset, Features, Value\n",
    "from transformers import pipeline\n",
    "from transformers.pipelines.pt_utils import KeyDataset\n",
    "from sklearn.metrics import roc_auc_score, roc_curve\n",
    "from tqdm.auto import tqdm\n",
    "from argparse import Namespace"
   ]
  },
  {
   "cell_type": "code",
   "execution_count": 219,
   "id": "dee7c99c",
   "metadata": {},
   "outputs": [],
   "source": [
    "# Options for 'dataset_name'\n",
    "# \"/data3/mmendieta/Violence_data/case_studies/Russia_Ukraine_combined_with_labels.csv\"\n",
    "# \"/data3/mmendieta/Violence_data/case_studies/Israel_Oct7_23_combined_with_labels.csv\"\n",
    "# \"/data3/mmendieta/Violence_data/case_studies/Trump_Capitol_Hill_combined_with_labels.csv\"\n",
    "\n",
    "config = {\n",
    "    \"cuda_device\": 15,\n",
    "    \"path_to_model_on_disk\": \"/data3/mmendieta/models/xlmt_finetuned_twitter/\", \n",
    "    \"model_ckpt\": \"m2im/XLM-T_finetuned_violence_twitter\",\n",
    "    \"max_length\": 32,\n",
    "    \"dataset_name\": \"/data3/mmendieta/Violence_data/case_studies/Russia_Ukraine_combined_with_labels.csv\",\n",
    "    \"batch_size\": 64\n",
    "}\n",
    "\n",
    "args = Namespace(**config)"
   ]
  },
  {
   "cell_type": "code",
   "execution_count": 220,
   "id": "7ab0dcbd",
   "metadata": {},
   "outputs": [],
   "source": [
    "# Define the features with explicit types to prevent automatic casting to integer when reading the csv file\n",
    "# Cast integer labels to float in order to calculate the predictions \n",
    "features = Features({\n",
    "    'ID': Value('string'),\n",
    "    'AuthorID': Value('string'),\n",
    "    'AuthorAlias': Value('string'),\n",
    "    'CreatedDate': Value('string'),\n",
    "    'Text': Value('string'),\n",
    "    'post7geo10': Value('float32'),\n",
    "    'post7geo30': Value('float32'),\n",
    "    'post7geo50': Value('float32'),\n",
    "    'pre7geo10': Value('float32'),\n",
    "    'pre7geo30': Value('float32'),\n",
    "    'pre7geo50': Value('float32'),\n",
    "}) "
   ]
  },
  {
   "cell_type": "code",
   "execution_count": 221,
   "id": "efe7e060",
   "metadata": {},
   "outputs": [
    {
     "name": "stderr",
     "output_type": "stream",
     "text": [
      "Using custom data configuration default-48d009f57f6cf5e4\n",
      "Found cached dataset csv (/home/mmendieta/.cache/huggingface/datasets/csv/default-48d009f57f6cf5e4/0.0.0/6b34fb8fcf56f7c8ba51dc895bfa2bfbe43546f190a60fcf74bb5e8afdcc2317)\n"
     ]
    },
    {
     "data": {
      "application/vnd.jupyter.widget-view+json": {
       "model_id": "fcc4f19ff7a9474eb9ab67d46dd786a6",
       "version_major": 2,
       "version_minor": 0
      },
      "text/plain": [
       "  0%|          | 0/1 [00:00<?, ?it/s]"
      ]
     },
     "metadata": {},
     "output_type": "display_data"
    },
    {
     "name": "stdout",
     "output_type": "stream",
     "text": [
      "CPU times: user 62.7 ms, sys: 21.5 ms, total: 84.2 ms\n",
      "Wall time: 290 ms\n"
     ]
    }
   ],
   "source": [
    "# Load the dataset from disk (516ms)\n",
    "%time ds = load_dataset('csv', data_files= args.dataset_name, sep=\",\", features=features)"
   ]
  },
  {
   "cell_type": "code",
   "execution_count": 222,
   "id": "390cf8dd",
   "metadata": {},
   "outputs": [
    {
     "data": {
      "text/plain": [
       "DatasetDict({\n",
       "    train: Dataset({\n",
       "        features: ['ID', 'AuthorID', 'AuthorAlias', 'CreatedDate', 'Text', 'post7geo10', 'post7geo30', 'post7geo50', 'pre7geo10', 'pre7geo30', 'pre7geo50'],\n",
       "        num_rows: 1020\n",
       "    })\n",
       "})"
      ]
     },
     "execution_count": 222,
     "metadata": {},
     "output_type": "execute_result"
    }
   ],
   "source": [
    "ds"
   ]
  },
  {
   "cell_type": "code",
   "execution_count": 223,
   "id": "342c3fb7",
   "metadata": {},
   "outputs": [],
   "source": [
    "# rename the column 'Text' to 'text'\n",
    "dataset = ds.rename_column('Text', 'text')"
   ]
  },
  {
   "cell_type": "code",
   "execution_count": 224,
   "id": "e3e1f06b",
   "metadata": {},
   "outputs": [
    {
     "data": {
      "text/plain": [
       "DatasetDict({\n",
       "    train: Dataset({\n",
       "        features: ['ID', 'AuthorID', 'AuthorAlias', 'CreatedDate', 'text', 'post7geo10', 'post7geo30', 'post7geo50', 'pre7geo10', 'pre7geo30', 'pre7geo50'],\n",
       "        num_rows: 1020\n",
       "    })\n",
       "})"
      ]
     },
     "execution_count": 224,
     "metadata": {},
     "output_type": "execute_result"
    }
   ],
   "source": [
    "dataset"
   ]
  },
  {
   "cell_type": "markdown",
   "id": "58be84a1",
   "metadata": {},
   "source": [
    "### Preprocess the dataset before inference"
   ]
  },
  {
   "cell_type": "code",
   "execution_count": 15,
   "id": "4a4f6b9b",
   "metadata": {},
   "outputs": [],
   "source": [
    "# Define a pre-processing function to use with datasets.map()\n",
    "def clean_tweet(example):\n",
    "    tweet = example['text']\n",
    "    tweet = tweet.replace(\"\\n\",\" \") #cleaning newline “\\n” from the tweets\n",
    "    tweet = html.unescape(tweet) # decode html characters\n",
    "    tweet = re.sub(\"@[A-Za-z0-9_:]+\",\"\", tweet) # remove mentions\n",
    "    tweet = re.sub(r'http\\S+', '', tweet) # remove urls\n",
    "    tweet = re.sub('RT ', '', tweet) # remove mentions\n",
    "    return {'text': tweet.strip()} #strip white spaces"
   ]
  },
  {
   "cell_type": "code",
   "execution_count": 225,
   "id": "9f46f9cf",
   "metadata": {},
   "outputs": [
    {
     "name": "stderr",
     "output_type": "stream",
     "text": [
      "Loading cached processed dataset at /home/mmendieta/.cache/huggingface/datasets/csv/default-48d009f57f6cf5e4/0.0.0/6b34fb8fcf56f7c8ba51dc895bfa2bfbe43546f190a60fcf74bb5e8afdcc2317/cache-4accfb15d35d7e68.arrow\n"
     ]
    },
    {
     "name": "stdout",
     "output_type": "stream",
     "text": [
      "CPU times: user 9.06 ms, sys: 3.67 ms, total: 12.7 ms\n",
      "Wall time: 10.7 ms\n"
     ]
    }
   ],
   "source": [
    "# Filter rows with blank tweets for pre-processing\n",
    "%time dataset = dataset.filter(lambda x: x[\"text\"] is not None)"
   ]
  },
  {
   "cell_type": "code",
   "execution_count": 226,
   "id": "0b613dcf",
   "metadata": {},
   "outputs": [
    {
     "data": {
      "text/plain": [
       "DatasetDict({\n",
       "    train: Dataset({\n",
       "        features: ['ID', 'AuthorID', 'AuthorAlias', 'CreatedDate', 'text', 'post7geo10', 'post7geo30', 'post7geo50', 'pre7geo10', 'pre7geo30', 'pre7geo50'],\n",
       "        num_rows: 1019\n",
       "    })\n",
       "})"
      ]
     },
     "execution_count": 226,
     "metadata": {},
     "output_type": "execute_result"
    }
   ],
   "source": [
    "dataset"
   ]
  },
  {
   "cell_type": "code",
   "execution_count": 227,
   "id": "e78afa84",
   "metadata": {},
   "outputs": [
    {
     "name": "stderr",
     "output_type": "stream",
     "text": [
      "Loading cached processed dataset at /home/mmendieta/.cache/huggingface/datasets/csv/default-48d009f57f6cf5e4/0.0.0/6b34fb8fcf56f7c8ba51dc895bfa2bfbe43546f190a60fcf74bb5e8afdcc2317/cache-9baf6247da7ba1d0.arrow\n"
     ]
    },
    {
     "name": "stdout",
     "output_type": "stream",
     "text": [
      "CPU times: user 17.4 ms, sys: 12.6 ms, total: 30 ms\n",
      "Wall time: 27.3 ms\n"
     ]
    }
   ],
   "source": [
    "# Apply the text preprocessing function to the entire dataset\n",
    "%time dataset_clean = dataset.map(clean_tweet)"
   ]
  },
  {
   "cell_type": "code",
   "execution_count": 228,
   "id": "19913a22",
   "metadata": {},
   "outputs": [
    {
     "name": "stderr",
     "output_type": "stream",
     "text": [
      "Loading cached processed dataset at /home/mmendieta/.cache/huggingface/datasets/csv/default-48d009f57f6cf5e4/0.0.0/6b34fb8fcf56f7c8ba51dc895bfa2bfbe43546f190a60fcf74bb5e8afdcc2317/cache-1c132beb3a08c477.arrow\n"
     ]
    },
    {
     "name": "stdout",
     "output_type": "stream",
     "text": [
      "CPU times: user 10.1 ms, sys: 250 µs, total: 10.3 ms\n",
      "Wall time: 8.18 ms\n"
     ]
    }
   ],
   "source": [
    "#  Filter rows with blank text for post-processing\n",
    "%time dataset_clean = dataset_clean.filter(lambda x: x[\"text\"] is not None)"
   ]
  },
  {
   "cell_type": "code",
   "execution_count": 229,
   "id": "8ce3103f",
   "metadata": {},
   "outputs": [
    {
     "data": {
      "text/plain": [
       "DatasetDict({\n",
       "    train: Dataset({\n",
       "        features: ['ID', 'AuthorID', 'AuthorAlias', 'CreatedDate', 'text', 'post7geo10', 'post7geo30', 'post7geo50', 'pre7geo10', 'pre7geo30', 'pre7geo50'],\n",
       "        num_rows: 1019\n",
       "    })\n",
       "})"
      ]
     },
     "execution_count": 229,
     "metadata": {},
     "output_type": "execute_result"
    }
   ],
   "source": [
    "dataset_clean"
   ]
  },
  {
   "cell_type": "code",
   "execution_count": 230,
   "id": "73975067",
   "metadata": {},
   "outputs": [],
   "source": [
    "# Remove unncesary columns\n",
    "keep_cols = ['text', 'pre7geo10', 'pre7geo30', 'pre7geo50', 'post7geo10', \n",
    "             'post7geo30', 'post7geo50']\n",
    "remove_columns = [col for col in dataset_clean['train'].column_names if col not in keep_cols]"
   ]
  },
  {
   "cell_type": "code",
   "execution_count": 231,
   "id": "d1010bc7",
   "metadata": {},
   "outputs": [],
   "source": [
    "dataset_clean = dataset_clean.remove_columns(remove_columns)"
   ]
  },
  {
   "cell_type": "code",
   "execution_count": 232,
   "id": "2a3501c7",
   "metadata": {},
   "outputs": [
    {
     "data": {
      "text/plain": [
       "{'text': Value(dtype='string', id=None),\n",
       " 'post7geo10': Value(dtype='float32', id=None),\n",
       " 'post7geo30': Value(dtype='float32', id=None),\n",
       " 'post7geo50': Value(dtype='float32', id=None),\n",
       " 'pre7geo10': Value(dtype='float32', id=None),\n",
       " 'pre7geo30': Value(dtype='float32', id=None),\n",
       " 'pre7geo50': Value(dtype='float32', id=None)}"
      ]
     },
     "execution_count": 232,
     "metadata": {},
     "output_type": "execute_result"
    }
   ],
   "source": [
    "dataset_clean[\"train\"].features"
   ]
  },
  {
   "cell_type": "code",
   "execution_count": 233,
   "id": "7323d304",
   "metadata": {},
   "outputs": [
    {
     "name": "stderr",
     "output_type": "stream",
     "text": [
      "Loading cached processed dataset at /home/mmendieta/.cache/huggingface/datasets/csv/default-48d009f57f6cf5e4/0.0.0/6b34fb8fcf56f7c8ba51dc895bfa2bfbe43546f190a60fcf74bb5e8afdcc2317/cache-fa438287fe57148e.arrow\n"
     ]
    },
    {
     "data": {
      "text/plain": [
       "DatasetDict({\n",
       "    train: Dataset({\n",
       "        features: ['text', 'post7geo10', 'post7geo30', 'post7geo50', 'pre7geo10', 'pre7geo30', 'pre7geo50', 'labels'],\n",
       "        num_rows: 1019\n",
       "    })\n",
       "})"
      ]
     },
     "execution_count": 233,
     "metadata": {},
     "output_type": "execute_result"
    }
   ],
   "source": [
    "# create 'labels' columm\n",
    "cols = dataset_clean['train'].column_names\n",
    "dataset_clean = dataset_clean.map(lambda x : {\"labels\": [x[c] for c in cols if c != \"text\"]})\n",
    "dataset_clean"
   ]
  },
  {
   "cell_type": "code",
   "execution_count": 234,
   "id": "50e5c268",
   "metadata": {},
   "outputs": [
    {
     "data": {
      "text/plain": [
       "DatasetDict({\n",
       "    train: Dataset({\n",
       "        features: ['text', 'labels'],\n",
       "        num_rows: 1019\n",
       "    })\n",
       "})"
      ]
     },
     "execution_count": 234,
     "metadata": {},
     "output_type": "execute_result"
    }
   ],
   "source": [
    "# Keep the dataset only with columns 'text' and 'labels'\n",
    "col_names = dataset_clean[\"train\"].column_names\n",
    "col_names.remove(\"labels\")\n",
    "col_names.remove('text')\n",
    "ds_clean = dataset_clean.remove_columns(col_names)\n",
    "ds_clean"
   ]
  },
  {
   "cell_type": "markdown",
   "id": "b9475a88",
   "metadata": {},
   "source": [
    "# Inference"
   ]
  },
  {
   "cell_type": "markdown",
   "id": "d430d1ab",
   "metadata": {},
   "source": [
    "### Instantiate the required pipeline"
   ]
  },
  {
   "cell_type": "code",
   "execution_count": 27,
   "id": "fef35064",
   "metadata": {},
   "outputs": [
    {
     "data": {
      "application/vnd.jupyter.widget-view+json": {
       "model_id": "6c93a179feff44758f4790de29015754",
       "version_major": 2,
       "version_minor": 0
      },
      "text/plain": [
       "Downloading:   0%|          | 0.00/1.34k [00:00<?, ?B/s]"
      ]
     },
     "metadata": {},
     "output_type": "display_data"
    }
   ],
   "source": [
    "violence_pipe = pipeline(model=args.model_ckpt, \n",
    "                         device=args.cuda_device,\n",
    "                         return_all_scores=True)"
   ]
  },
  {
   "cell_type": "markdown",
   "id": "194374b9",
   "metadata": {},
   "source": [
    "### Select specific cases of interest"
   ]
  },
  {
   "cell_type": "code",
   "execution_count": 29,
   "id": "233a657f",
   "metadata": {},
   "outputs": [],
   "source": [
    "# Define the label mapping\n",
    "id2label: {\n",
    "    \"0\": \"post7geo10\",\n",
    "    \"1\": \"post7geo30\",\n",
    "    \"2\": \"post7geo50\",\n",
    "    \"3\": \"pre7geo10\",\n",
    "    \"4\": \"pre7geo30\",\n",
    "    \"5\": \"pre7geo50\"\n",
    "}\n",
    "\n",
    "# Define the filtering function to match the required conditions\n",
    "def filter_condition(example):\n",
    "    return (example['labels'][0] == 0 and # post7geo10\n",
    "            example['labels'][1] == 0 and # post7geo30\n",
    "            example['labels'][2] == 1 and # post7geo50\n",
    "            example['labels'][3] == 0 and # pre7geo10\n",
    "            example['labels'][4] == 0 and # pre7geo30\n",
    "            example['labels'][5] == 0 # pre7geo50\n",
    "    )"
   ]
  },
  {
   "cell_type": "code",
   "execution_count": 30,
   "id": "7e6220f5",
   "metadata": {},
   "outputs": [
    {
     "name": "stderr",
     "output_type": "stream",
     "text": [
      "Loading cached processed dataset at /home/mmendieta/.cache/huggingface/datasets/csv/default-68d0faf8e5159cd0/0.0.0/6b34fb8fcf56f7c8ba51dc895bfa2bfbe43546f190a60fcf74bb5e8afdcc2317/cache-fe3a717dcd8c855b.arrow\n"
     ]
    }
   ],
   "source": [
    "filtered_ds = ds_clean['train'].filter(filter_condition)"
   ]
  },
  {
   "cell_type": "code",
   "execution_count": 31,
   "id": "f5acfcb9",
   "metadata": {},
   "outputs": [
    {
     "data": {
      "text/plain": [
       "Dataset({\n",
       "    features: ['text', 'labels'],\n",
       "    num_rows: 6468\n",
       "})"
      ]
     },
     "execution_count": 31,
     "metadata": {},
     "output_type": "execute_result"
    }
   ],
   "source": [
    "filtered_ds"
   ]
  },
  {
   "cell_type": "code",
   "execution_count": null,
   "id": "308a68c2",
   "metadata": {},
   "outputs": [],
   "source": [
    "filtered_ds[0]['labels']"
   ]
  },
  {
   "cell_type": "markdown",
   "id": "f2d4cd57",
   "metadata": {},
   "source": [
    "### Perform inference"
   ]
  },
  {
   "cell_type": "code",
   "execution_count": 32,
   "id": "05423edc",
   "metadata": {},
   "outputs": [
    {
     "data": {
      "application/vnd.jupyter.widget-view+json": {
       "model_id": "666aee068adc4de0b82377561d54d223",
       "version_major": 2,
       "version_minor": 0
      },
      "text/plain": [
       "  0%|          | 0/6468 [00:00<?, ?it/s]"
      ]
     },
     "metadata": {},
     "output_type": "display_data"
    }
   ],
   "source": [
    "# Calculate the predictions\n",
    "preds = []\n",
    "for i, outputs in enumerate(tqdm(violence_pipe(KeyDataset(filtered_ds, \"text\"), batch_size=args.batch_size,\n",
    "                                              truncation=True),\n",
    "                                 total=len(filtered_ds))):\n",
    "    text = filtered_ds[i]['text']\n",
    "    labels = filtered_ds[i]['labels']\n",
    "    preds.append({\n",
    "        'text': text,\n",
    "        'labels': labels,\n",
    "        'outputs': outputs\n",
    "    })"
   ]
  },
  {
   "cell_type": "code",
   "execution_count": 33,
   "id": "71bd9b83",
   "metadata": {},
   "outputs": [],
   "source": [
    "# Iterate over the predictions to visualize the text, true labels, and predictions\n",
    "processed_data = []\n",
    "for pred in preds:\n",
    "    row = {\n",
    "        'text': pred['text'],\n",
    "        'true_labels': pred['labels'],\n",
    "    }\n",
    "    # Add each of the six pedicted scores as separate columns\n",
    "    row['post7geo10'] = pred['outputs'][0]['score']\n",
    "    row['post7geo30'] = pred['outputs'][1]['score']\n",
    "    row['post7geo50'] = pred['outputs'][2]['score']\n",
    "    row['pre7geo10'] = pred['outputs'][3]['score']\n",
    "    row['pre7geo30'] = pred['outputs'][4]['score']\n",
    "    row['pre7geo50'] = pred['outputs'][5]['score']\n",
    "    \n",
    "    processed_data.append(row)\n",
    "    \n",
    "# Convert to DataFrame\n",
    "df = pd.DataFrame(processed_data)"
   ]
  },
  {
   "cell_type": "code",
   "execution_count": 34,
   "id": "45dfacfb",
   "metadata": {},
   "outputs": [
    {
     "data": {
      "text/html": [
       "<div>\n",
       "<style scoped>\n",
       "    .dataframe tbody tr th:only-of-type {\n",
       "        vertical-align: middle;\n",
       "    }\n",
       "\n",
       "    .dataframe tbody tr th {\n",
       "        vertical-align: top;\n",
       "    }\n",
       "\n",
       "    .dataframe thead th {\n",
       "        text-align: right;\n",
       "    }\n",
       "</style>\n",
       "<table border=\"1\" class=\"dataframe\">\n",
       "  <thead>\n",
       "    <tr style=\"text-align: right;\">\n",
       "      <th></th>\n",
       "      <th>text</th>\n",
       "      <th>true_labels</th>\n",
       "      <th>post7geo10</th>\n",
       "      <th>post7geo30</th>\n",
       "      <th>post7geo50</th>\n",
       "      <th>pre7geo10</th>\n",
       "      <th>pre7geo30</th>\n",
       "      <th>pre7geo50</th>\n",
       "    </tr>\n",
       "  </thead>\n",
       "  <tbody>\n",
       "    <tr>\n",
       "      <th>0</th>\n",
       "      <td>What would you do 🥱</td>\n",
       "      <td>[0.0, 0.0, 1.0, 0.0, 0.0, 0.0]</td>\n",
       "      <td>0.275789</td>\n",
       "      <td>0.375137</td>\n",
       "      <td>0.489425</td>\n",
       "      <td>0.274000</td>\n",
       "      <td>0.360397</td>\n",
       "      <td>0.466075</td>\n",
       "    </tr>\n",
       "    <tr>\n",
       "      <th>1</th>\n",
       "      <td>They were LET IN! just like we said  #CapitolB...</td>\n",
       "      <td>[0.0, 0.0, 1.0, 0.0, 0.0, 0.0]</td>\n",
       "      <td>0.763389</td>\n",
       "      <td>0.810380</td>\n",
       "      <td>0.863128</td>\n",
       "      <td>0.294917</td>\n",
       "      <td>0.328344</td>\n",
       "      <td>0.369649</td>\n",
       "    </tr>\n",
       "    <tr>\n",
       "      <th>2</th>\n",
       "      <td>You are correct Sir! 👀🇺🇸‼️</td>\n",
       "      <td>[0.0, 0.0, 1.0, 0.0, 0.0, 0.0]</td>\n",
       "      <td>0.295641</td>\n",
       "      <td>0.355861</td>\n",
       "      <td>0.465822</td>\n",
       "      <td>0.275853</td>\n",
       "      <td>0.341913</td>\n",
       "      <td>0.439394</td>\n",
       "    </tr>\n",
       "  </tbody>\n",
       "</table>\n",
       "</div>"
      ],
      "text/plain": [
       "                                                text  \\\n",
       "0                                What would you do 🥱   \n",
       "1  They were LET IN! just like we said  #CapitolB...   \n",
       "2                         You are correct Sir! 👀🇺🇸‼️   \n",
       "\n",
       "                      true_labels  post7geo10  post7geo30  post7geo50  \\\n",
       "0  [0.0, 0.0, 1.0, 0.0, 0.0, 0.0]    0.275789    0.375137    0.489425   \n",
       "1  [0.0, 0.0, 1.0, 0.0, 0.0, 0.0]    0.763389    0.810380    0.863128   \n",
       "2  [0.0, 0.0, 1.0, 0.0, 0.0, 0.0]    0.295641    0.355861    0.465822   \n",
       "\n",
       "   pre7geo10  pre7geo30  pre7geo50  \n",
       "0   0.274000   0.360397   0.466075  \n",
       "1   0.294917   0.328344   0.369649  \n",
       "2   0.275853   0.341913   0.439394  "
      ]
     },
     "execution_count": 34,
     "metadata": {},
     "output_type": "execute_result"
    }
   ],
   "source": [
    "df.head(3)"
   ]
  },
  {
   "cell_type": "code",
   "execution_count": 35,
   "id": "ad3b02fe",
   "metadata": {},
   "outputs": [
    {
     "name": "stderr",
     "output_type": "stream",
     "text": [
      "/tmp/ipykernel_32963/3262774732.py:1: FutureWarning: The default value of numeric_only in DataFrame.mean is deprecated. In a future version, it will default to False. In addition, specifying 'numeric_only=None' is deprecated. Select only valid columns or specify the value of numeric_only to silence this warning.\n",
      "  mean_preds = df.mean().to_frame(name='mean').T\n"
     ]
    },
    {
     "data": {
      "text/html": [
       "<div>\n",
       "<style scoped>\n",
       "    .dataframe tbody tr th:only-of-type {\n",
       "        vertical-align: middle;\n",
       "    }\n",
       "\n",
       "    .dataframe tbody tr th {\n",
       "        vertical-align: top;\n",
       "    }\n",
       "\n",
       "    .dataframe thead th {\n",
       "        text-align: right;\n",
       "    }\n",
       "</style>\n",
       "<table border=\"1\" class=\"dataframe\">\n",
       "  <thead>\n",
       "    <tr style=\"text-align: right;\">\n",
       "      <th></th>\n",
       "      <th>post7geo10</th>\n",
       "      <th>post7geo30</th>\n",
       "      <th>post7geo50</th>\n",
       "      <th>pre7geo10</th>\n",
       "      <th>pre7geo30</th>\n",
       "      <th>pre7geo50</th>\n",
       "    </tr>\n",
       "  </thead>\n",
       "  <tbody>\n",
       "    <tr>\n",
       "      <th>mean</th>\n",
       "      <td>0.310626</td>\n",
       "      <td>0.397994</td>\n",
       "      <td>0.546078</td>\n",
       "      <td>0.303492</td>\n",
       "      <td>0.384985</td>\n",
       "      <td>0.52347</td>\n",
       "    </tr>\n",
       "  </tbody>\n",
       "</table>\n",
       "</div>"
      ],
      "text/plain": [
       "      post7geo10  post7geo30  post7geo50  pre7geo10  pre7geo30  pre7geo50\n",
       "mean    0.310626    0.397994    0.546078   0.303492   0.384985    0.52347"
      ]
     },
     "execution_count": 35,
     "metadata": {},
     "output_type": "execute_result"
    }
   ],
   "source": [
    "mean_preds = df.mean().to_frame(name='mean').T\n",
    "mean_preds "
   ]
  },
  {
   "cell_type": "code",
   "execution_count": 36,
   "id": "416c12c4",
   "metadata": {},
   "outputs": [
    {
     "data": {
      "text/html": [
       "<div>\n",
       "<style scoped>\n",
       "    .dataframe tbody tr th:only-of-type {\n",
       "        vertical-align: middle;\n",
       "    }\n",
       "\n",
       "    .dataframe tbody tr th {\n",
       "        vertical-align: top;\n",
       "    }\n",
       "\n",
       "    .dataframe thead th {\n",
       "        text-align: right;\n",
       "    }\n",
       "</style>\n",
       "<table border=\"1\" class=\"dataframe\">\n",
       "  <thead>\n",
       "    <tr style=\"text-align: right;\">\n",
       "      <th></th>\n",
       "      <th>post7geo10</th>\n",
       "      <th>post7geo30</th>\n",
       "      <th>post7geo50</th>\n",
       "      <th>pre7geo10</th>\n",
       "      <th>pre7geo30</th>\n",
       "      <th>pre7geo50</th>\n",
       "    </tr>\n",
       "  </thead>\n",
       "  <tbody>\n",
       "    <tr>\n",
       "      <th>mean</th>\n",
       "      <td>0</td>\n",
       "      <td>0</td>\n",
       "      <td>1</td>\n",
       "      <td>0</td>\n",
       "      <td>0</td>\n",
       "      <td>1</td>\n",
       "    </tr>\n",
       "  </tbody>\n",
       "</table>\n",
       "</div>"
      ],
      "text/plain": [
       "      post7geo10  post7geo30  post7geo50  pre7geo10  pre7geo30  pre7geo50\n",
       "mean           0           0           1          0          0          1"
      ]
     },
     "execution_count": 36,
     "metadata": {},
     "output_type": "execute_result"
    }
   ],
   "source": [
    "mean_preds_th = (mean_preds >= 0.5).astype(int)\n",
    "mean_preds_th"
   ]
  },
  {
   "cell_type": "markdown",
   "id": "7c610ef0-515b-40fa-863c-903881cd52a6",
   "metadata": {},
   "source": [
    "### ROC and AUC score (Trump and Russia only - six labels)"
   ]
  },
  {
   "cell_type": "code",
   "execution_count": 235,
   "id": "5fa60ef7",
   "metadata": {},
   "outputs": [
    {
     "name": "stderr",
     "output_type": "stream",
     "text": [
      "/home/mmendieta/transformers/lib/python3.8/site-packages/transformers/pipelines/base.py:996: UserWarning: You seem to be using the pipelines sequentially on GPU. In order to maximize efficiency please use a dataset\n",
      "  warnings.warn(\n"
     ]
    },
    {
     "data": {
      "application/vnd.jupyter.widget-view+json": {
       "model_id": "5066c6061e7448f59b54c0f8f6bbfb6e",
       "version_major": 2,
       "version_minor": 0
      },
      "text/plain": [
       "  0%|          | 0/1019 [00:00<?, ?it/s]"
      ]
     },
     "metadata": {},
     "output_type": "display_data"
    }
   ],
   "source": [
    "# Calculate the predictions on the entire case study dataset (only Trump and Russia)\n",
    "preds = []\n",
    "for i, outputs in enumerate(tqdm(violence_pipe(KeyDataset(ds_clean['train'], \"text\"), batch_size=args.batch_size,\n",
    "                                              truncation=True),\n",
    "                                 total=len(ds_clean['train']))):\n",
    "    text = ds_clean['train'][i]['text']\n",
    "    labels = ds_clean['train'][i]['labels']\n",
    "    preds.append({\n",
    "        'text': text,\n",
    "        'labels': labels,\n",
    "        'outputs': outputs\n",
    "    })"
   ]
  },
  {
   "cell_type": "code",
   "execution_count": 236,
   "id": "c7b6cf72-faa9-4859-97ef-bdde7edeb23f",
   "metadata": {},
   "outputs": [],
   "source": [
    "# Step 1: Calculate the ROC-AUC score\n",
    "# Extract the ground truth labels and predicted probabilities for each label\n",
    "true_labels = np.array([item['labels'] for item in preds])\n",
    "\n",
    "# Convert prediction scores to a 2D array of floats\n",
    "prediction_scores = np.array([\n",
    "    [score['score'] for score in item['outputs']] for item in preds\n",
    "])"
   ]
  },
  {
   "cell_type": "code",
   "execution_count": null,
   "id": "cf40dc5a",
   "metadata": {},
   "outputs": [],
   "source": [
    "prediction_scores"
   ]
  },
  {
   "cell_type": "code",
   "execution_count": 237,
   "id": "fed369a0-8718-4c82-ad99-9f7856b0645c",
   "metadata": {},
   "outputs": [],
   "source": [
    "# Initialize the Evaluate API for ROC-AUC\n",
    "roc_auc = evaluate.load(\"roc_auc\")"
   ]
  },
  {
   "cell_type": "code",
   "execution_count": 238,
   "id": "15885dee-416c-4451-8cc1-6d0101976683",
   "metadata": {},
   "outputs": [],
   "source": [
    "# Calculate ROC-AUC scores for each label\n",
    "\n",
    "# Labels of interest\n",
    "labels = [\"post7geo10\", \"post7geo30\", \"post7geo50\", \"pre7geo10\", \"pre7geo30\", \"pre7geo50\"]\n",
    "\n",
    "roc_auc_scores = {}\n",
    "\n",
    "for i, label_name in enumerate(labels):\n",
    "    roc_auc_result = roc_auc.compute(\n",
    "        prediction_scores=prediction_scores[:, i], \n",
    "        references=true_labels[:, i]\n",
    "    )\n",
    "    roc_auc_scores[label_name] = roc_auc_result['roc_auc']"
   ]
  },
  {
   "cell_type": "code",
   "execution_count": 239,
   "id": "7e233151",
   "metadata": {},
   "outputs": [
    {
     "name": "stdout",
     "output_type": "stream",
     "text": [
      "Average ROC-AUC Score: 0.46\n"
     ]
    }
   ],
   "source": [
    "# Calculate the average ROC_AUC across the six labels\n",
    "average_roc_auc = sum(roc_auc_scores.values()) / len(roc_auc_scores)\n",
    "print(f\"Average ROC-AUC Score: {average_roc_auc:.2}\")"
   ]
  },
  {
   "cell_type": "code",
   "execution_count": 240,
   "id": "05263be4-6c03-4424-9a65-9e78af3d0b29",
   "metadata": {},
   "outputs": [
    {
     "name": "stdout",
     "output_type": "stream",
     "text": [
      "ROC-AUC score for post7geo10: 0.4684729064039409\n",
      "ROC-AUC score for post7geo30: 0.3556998556998557\n",
      "ROC-AUC score for post7geo50: 0.5677491999525898\n",
      "ROC-AUC score for pre7geo10: 0.4476284584980237\n",
      "ROC-AUC score for pre7geo30: 0.42333812197988774\n",
      "ROC-AUC score for pre7geo50: 0.524744182371301\n"
     ]
    }
   ],
   "source": [
    "# Display individual ROC-AUC scores\n",
    "for label, score in roc_auc_scores.items():\n",
    "    print(f\"ROC-AUC score for {label}: {score}\")"
   ]
  },
  {
   "cell_type": "code",
   "execution_count": 241,
   "id": "4cb5f6b8-df40-422c-ae21-2175aeb9f1cb",
   "metadata": {},
   "outputs": [
    {
     "data": {
      "image/png": "[encoded data removed]",
      "text/plain": [
       "<Figure size 1000x800 with 1 Axes>"
      ]
     },
     "metadata": {},
     "output_type": "display_data"
    }
   ],
   "source": [
    "# Step 2: Plot the ROC curve for each label\n",
    "plt.figure(figsize=(10, 8))\n",
    "\n",
    "for i, label_name in enumerate([\"post7geo10\", \"post7geo30\", \"post7geo50\", \"pre7geo10\", \"pre7geo30\", \"pre7geo50\"]):\n",
    "    # Calculate false positive rate and true positive rate\n",
    "    fpr, tpr, _ = roc_curve(true_labels[:, i], prediction_scores[:, i])\n",
    "    \n",
    "    # Plot the ROC curve\n",
    "    plt.plot(fpr, tpr, label=f\"{label_name} (AUC = {roc_auc_scores[label_name]:.2f})\")\n",
    "\n",
    "# Plot configuration\n",
    "plt.plot([0, 1], [0, 1], 'k--')  # Diagonal line for random chance\n",
    "plt.xlim([0.0, 1.0])\n",
    "plt.ylim([0.0, 1.05])\n",
    "plt.xlabel('False Positive Rate')\n",
    "plt.ylabel('True Positive Rate')\n",
    "plt.title('ROC Curve for the Russia-Ukraine case study')\n",
    "plt.legend(loc=\"lower right\")\n",
    "plt.grid(False)\n",
    "plt.show()"
   ]
  },
  {
   "cell_type": "code",
   "execution_count": 101,
   "id": "4f93aadf-9480-4aa4-9771-7254d92ef28e",
   "metadata": {},
   "outputs": [
    {
     "data": {
      "text/plain": [
       "<Figure size 640x480 with 0 Axes>"
      ]
     },
     "metadata": {},
     "output_type": "display_data"
    }
   ],
   "source": [
    "# Save to disk\n",
    "plt.savefig(\"/data3/mmendieta/Violence_data/case_studies/figs/ROC_Russia_Ukraine.eps\", \n",
    "            format=\"eps\", dpi=300,  bbox_inches=\"tight\")"
   ]
  },
  {
   "cell_type": "markdown",
   "id": "71c38f71",
   "metadata": {},
   "source": [
    "# ROC-AUC scores for the Israel case study"
   ]
  },
  {
   "cell_type": "code",
   "execution_count": 170,
   "id": "2dc7ac0c",
   "metadata": {},
   "outputs": [
    {
     "data": {
      "application/vnd.jupyter.widget-view+json": {
       "model_id": "80da0a790bf34f5385db8f477e77481a",
       "version_major": 2,
       "version_minor": 0
      },
      "text/plain": [
       "  0%|          | 0/9615 [00:00<?, ?it/s]"
      ]
     },
     "metadata": {},
     "output_type": "display_data"
    }
   ],
   "source": [
    "# Calculate the predictions on the entire dataset\n",
    "preds = []\n",
    "for i, outputs in enumerate(tqdm(violence_pipe(KeyDataset(ds_clean['train'], \"text\"), batch_size=args.batch_size,\n",
    "                                              truncation=True),\n",
    "                                 total=len(ds_clean['train']))):\n",
    "    text = ds_clean['train'][i]['text']\n",
    "    labels = ds_clean['train'][i]['labels']\n",
    "    preds.append({\n",
    "        'text': text,\n",
    "        'labels': labels,\n",
    "        'outputs': outputs\n",
    "    })"
   ]
  },
  {
   "cell_type": "code",
   "execution_count": 172,
   "id": "e5b999a4",
   "metadata": {},
   "outputs": [],
   "source": [
    "# Initialize the Evaluate API for ROC-AUC\n",
    "roc_auc = evaluate.load(\"roc_auc\")"
   ]
  },
  {
   "cell_type": "code",
   "execution_count": 182,
   "id": "020b6ff9",
   "metadata": {},
   "outputs": [],
   "source": [
    "# Labels of interest\n",
    "labels = [\"post7geo50\", \"pre7geo50\"]"
   ]
  },
  {
   "cell_type": "code",
   "execution_count": 188,
   "id": "65efc0b2",
   "metadata": {},
   "outputs": [],
   "source": [
    "# Step 1: Calculate the ROC-AUC score\n",
    "# Filter true labels and prediction scores for the two labels of interest\n",
    "# The `id2label` map is: {2: \"post7geo50\", 5: \"pre7geo50\"}\n",
    "label_indices = [2, 5]\n",
    "true_labels = np.array([[item['labels'][idx] for idx in label_indices] for item in preds])\n",
    "\n",
    "# Convert prediction scores to a 2D array of floats\n",
    "prediction_scores = np.array([[item['outputs'][idx]['score'] for idx in label_indices] for item in preds])"
   ]
  },
  {
   "cell_type": "code",
   "execution_count": 189,
   "id": "08e1ba93",
   "metadata": {},
   "outputs": [],
   "source": [
    "# Calculate ROC-AUC scores for each label\n",
    "roc_auc_scores = {}\n",
    "\n",
    "for i, label_name in enumerate(labels):\n",
    "    roc_auc_result = roc_auc.compute(\n",
    "        prediction_scores=prediction_scores[:, i], \n",
    "        references=true_labels[:, i]\n",
    "    )\n",
    "    roc_auc_scores[label_name] = roc_auc_result['roc_auc']"
   ]
  },
  {
   "cell_type": "code",
   "execution_count": 190,
   "id": "907c591f",
   "metadata": {},
   "outputs": [
    {
     "name": "stdout",
     "output_type": "stream",
     "text": [
      "Average ROC-AUC Score: 0.51\n"
     ]
    }
   ],
   "source": [
    "# Calculate the average ROC-AUC across the two labels\n",
    "average_roc_auc = sum(roc_auc_scores.values()) / len(roc_auc_scores)\n",
    "print(f\"Average ROC-AUC Score: {average_roc_auc:.2f}\")"
   ]
  },
  {
   "cell_type": "code",
   "execution_count": 191,
   "id": "9071bd16",
   "metadata": {},
   "outputs": [
    {
     "name": "stdout",
     "output_type": "stream",
     "text": [
      "ROC-AUC score for post7geo50: 0.6189454412566184\n",
      "ROC-AUC score for pre7geo50: 0.4054554070418779\n"
     ]
    }
   ],
   "source": [
    "# Display individual ROC-AUC scores\n",
    "for label, score in roc_auc_scores.items():\n",
    "    print(f\"ROC-AUC score for {label}: {score}\")"
   ]
  },
  {
   "cell_type": "code",
   "execution_count": 193,
   "id": "b6709f39",
   "metadata": {},
   "outputs": [
    {
     "data": {
      "image/png": "[encoded data removed]",
      "text/plain": [
       "<Figure size 1000x800 with 1 Axes>"
      ]
     },
     "metadata": {},
     "output_type": "display_data"
    }
   ],
   "source": [
    "# Step 2: Plot the ROC curve for each label\n",
    "plt.figure(figsize=(10, 8))\n",
    "\n",
    "for i, label_name in enumerate(labels):\n",
    "    # Calculate false positive rate and true positive rate\n",
    "    fpr, tpr, _ = roc_curve(true_labels[:, i], prediction_scores[:, i])\n",
    "    \n",
    "    # Plot the ROC curve\n",
    "    plt.plot(fpr, tpr, label=f\"{label_name} (AUC = {roc_auc_scores[label_name]:.2f})\")\n",
    "\n",
    "# Plot configuration\n",
    "plt.plot([0, 1], [0, 1], 'k--')  # Diagonal line for random chance\n",
    "plt.xlim([0.0, 1.0])\n",
    "plt.ylim([0.0, 1.05])\n",
    "plt.xlabel('False Positive Rate')\n",
    "plt.ylabel('True Positive Rate')\n",
    "plt.title('ROC Curve for the Hamas-Israel case study')\n",
    "plt.legend(loc=\"lower right\")\n",
    "plt.grid(False)\n",
    "plt.show()"
   ]
  },
  {
   "cell_type": "code",
   "execution_count": 194,
   "id": "64d55f49",
   "metadata": {},
   "outputs": [
    {
     "data": {
      "text/plain": [
       "<Figure size 640x480 with 0 Axes>"
      ]
     },
     "metadata": {},
     "output_type": "display_data"
    }
   ],
   "source": [
    "# Save to disk\n",
    "plt.savefig(\"/data3/mmendieta/Violence_data/case_studies/figs/ROC_Hamas_Israel.eps\", \n",
    "            format=\"eps\", dpi=300,  bbox_inches=\"tight\")"
   ]
  },
  {
   "cell_type": "code",
   "execution_count": null,
   "id": "9d715173",
   "metadata": {},
   "outputs": [],
   "source": []
  }
 ],
 "metadata": {
  "kernelspec": {
   "display_name": "Python 3 (ipykernel)",
   "language": "python",
   "name": "python3"
  },
  "language_info": {
   "codemirror_mode": {
    "name": "ipython",
    "version": 3
   },
   "file_extension": ".py",
   "mimetype": "text/x-python",
   "name": "python",
   "nbconvert_exporter": "python",
   "pygments_lexer": "ipython3",
   "version": "3.8.3"
  }
 },
 "nbformat": 4,
 "nbformat_minor": 5
}
