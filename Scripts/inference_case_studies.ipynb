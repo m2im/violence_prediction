{
 "cells": [
  {
   "cell_type": "code",
   "execution_count": 14,
   "id": "531dc905",
   "metadata": {},
   "outputs": [],
   "source": [
    "import torch\n",
    "import transformers\n",
    "import pandas as pd\n",
    "import re\n",
    "import html\n",
    "import matplotlib.pyplot as plt\n",
    "import numpy as np\n",
    "import evaluate\n",
    "from datasets import load_dataset, Features, Value\n",
    "from transformers import pipeline\n",
    "from transformers.pipelines.pt_utils import KeyDataset\n",
    "from sklearn.metrics import roc_auc_score, roc_curve\n",
    "from tqdm.auto import tqdm\n",
    "from argparse import Namespace"
   ]
  },
  {
   "cell_type": "code",
   "execution_count": 28,
   "id": "dee7c99c",
   "metadata": {},
   "outputs": [],
   "source": [
    "# Options for 'dataset_name'\n",
    "# \"/data3/mmendieta/Violence_data/case_studies/Russia_Ukraine_combined_with_labels.csv\"\n",
    "# \"/data3/mmendieta/Violence_data/case_studies/Israel_Oct7_23_combined_with_labels.csv\"\n",
    "# \"/data3/mmendieta/Violence_data/case_studies/Trump_Capitol_Hill_combined_with_labels.csv\"\n",
    "\n",
    "config = {\n",
    "    \"cuda_device\": 15,\n",
    "    \"path_to_model_on_disk\": \"/data3/mmendieta/models/xlmt_finetuned_twitter/\", \n",
    "    \"model_ckpt\": \"m2im/XLM-T_finetuned_violence_twitter\",\n",
    "    \"max_length\": 32,\n",
    "    \"dataset_name\": \"/data3/mmendieta/Violence_data/case_studies/Trump_Capitol_Hill_combined_with_labels.csv\",\n",
    "    \"batch_size\": 64\n",
    "}\n",
    "\n",
    "args = Namespace(**config)"
   ]
  },
  {
   "cell_type": "code",
   "execution_count": 5,
   "id": "7ab0dcbd",
   "metadata": {},
   "outputs": [],
   "source": [
    "# Define the features with explicit types to prevent automatic casting to integer when reading the csv file\n",
    "# Cast integer labels to float in order to calculate the predictions \n",
    "features = Features({\n",
    "    'ID': Value('string'),\n",
    "    'AuthorID': Value('string'),\n",
    "    'AuthorAlias': Value('string'),\n",
    "    'CreatedDate': Value('string'),\n",
    "    'Text': Value('string'),\n",
    "    'post7geo10': Value('float32'),\n",
    "    'post7geo30': Value('float32'),\n",
    "    'post7geo50': Value('float32'),\n",
    "    'pre7geo10': Value('float32'),\n",
    "    'pre7geo30': Value('float32'),\n",
    "    'pre7geo50': Value('float32'),\n",
    "}) "
   ]
  },
  {
   "cell_type": "code",
   "execution_count": 6,
   "id": "efe7e060",
   "metadata": {},
   "outputs": [
    {
     "name": "stderr",
     "output_type": "stream",
     "text": [
      "Using custom data configuration default-68d0faf8e5159cd0\n"
     ]
    },
    {
     "name": "stdout",
     "output_type": "stream",
     "text": [
      "Downloading and preparing dataset csv/default to /home/mmendieta/.cache/huggingface/datasets/csv/default-68d0faf8e5159cd0/0.0.0/6b34fb8fcf56f7c8ba51dc895bfa2bfbe43546f190a60fcf74bb5e8afdcc2317...\n"
     ]
    },
    {
     "data": {
      "application/vnd.jupyter.widget-view+json": {
       "model_id": "a814a155b9bd40afb923353bafff514d",
       "version_major": 2,
       "version_minor": 0
      },
      "text/plain": [
       "Downloading data files:   0%|          | 0/1 [00:00<?, ?it/s]"
      ]
     },
     "metadata": {},
     "output_type": "display_data"
    },
    {
     "data": {
      "application/vnd.jupyter.widget-view+json": {
       "model_id": "dffce2e08d644151b52a04acc8f7ddcc",
       "version_major": 2,
       "version_minor": 0
      },
      "text/plain": [
       "Extracting data files:   0%|          | 0/1 [00:00<?, ?it/s]"
      ]
     },
     "metadata": {},
     "output_type": "display_data"
    },
    {
     "data": {
      "application/vnd.jupyter.widget-view+json": {
       "model_id": "",
       "version_major": 2,
       "version_minor": 0
      },
      "text/plain": [
       "0 tables [00:00, ? tables/s]"
      ]
     },
     "metadata": {},
     "output_type": "display_data"
    },
    {
     "name": "stderr",
     "output_type": "stream",
     "text": [
      "/home/mmendieta/transformers/lib/python3.8/site-packages/datasets/download/streaming_download_manager.py:714: FutureWarning: the 'mangle_dupe_cols' keyword is deprecated and will be removed in a future version. Please take steps to stop the use of 'mangle_dupe_cols'\n",
      "  return pd.read_csv(xopen(filepath_or_buffer, \"rb\", use_auth_token=use_auth_token), **kwargs)\n"
     ]
    },
    {
     "name": "stdout",
     "output_type": "stream",
     "text": [
      "Dataset csv downloaded and prepared to /home/mmendieta/.cache/huggingface/datasets/csv/default-68d0faf8e5159cd0/0.0.0/6b34fb8fcf56f7c8ba51dc895bfa2bfbe43546f190a60fcf74bb5e8afdcc2317. Subsequent calls will reuse this data.\n"
     ]
    },
    {
     "data": {
      "application/vnd.jupyter.widget-view+json": {
       "model_id": "78e3df43bf314563a91b277bd73cbd81",
       "version_major": 2,
       "version_minor": 0
      },
      "text/plain": [
       "  0%|          | 0/1 [00:00<?, ?it/s]"
      ]
     },
     "metadata": {},
     "output_type": "display_data"
    },
    {
     "name": "stdout",
     "output_type": "stream",
     "text": [
      "CPU times: user 667 ms, sys: 71.9 ms, total: 739 ms\n",
      "Wall time: 907 ms\n"
     ]
    }
   ],
   "source": [
    "# Load the dataset from disk (516ms)\n",
    "%time ds = load_dataset('csv', data_files= args.dataset_name, sep=\",\", features=features)"
   ]
  },
  {
   "cell_type": "code",
   "execution_count": 7,
   "id": "390cf8dd",
   "metadata": {},
   "outputs": [
    {
     "data": {
      "text/plain": [
       "DatasetDict({\n",
       "    train: Dataset({\n",
       "        features: ['ID', 'AuthorID', 'AuthorAlias', 'CreatedDate', 'Text', 'post7geo10', 'post7geo30', 'post7geo50', 'pre7geo10', 'pre7geo30', 'pre7geo50'],\n",
       "        num_rows: 110702\n",
       "    })\n",
       "})"
      ]
     },
     "execution_count": 7,
     "metadata": {},
     "output_type": "execute_result"
    }
   ],
   "source": [
    "ds"
   ]
  },
  {
   "cell_type": "code",
   "execution_count": 8,
   "id": "342c3fb7",
   "metadata": {},
   "outputs": [],
   "source": [
    "# rename the column 'Text' to 'text'\n",
    "dataset = ds.rename_column('Text', 'text')"
   ]
  },
  {
   "cell_type": "code",
   "execution_count": 9,
   "id": "e3e1f06b",
   "metadata": {},
   "outputs": [
    {
     "data": {
      "text/plain": [
       "DatasetDict({\n",
       "    train: Dataset({\n",
       "        features: ['ID', 'AuthorID', 'AuthorAlias', 'CreatedDate', 'text', 'post7geo10', 'post7geo30', 'post7geo50', 'pre7geo10', 'pre7geo30', 'pre7geo50'],\n",
       "        num_rows: 110702\n",
       "    })\n",
       "})"
      ]
     },
     "execution_count": 9,
     "metadata": {},
     "output_type": "execute_result"
    }
   ],
   "source": [
    "dataset"
   ]
  },
  {
   "cell_type": "markdown",
   "id": "58be84a1",
   "metadata": {},
   "source": [
    "### Preprocess the dataset before inference"
   ]
  },
  {
   "cell_type": "code",
   "execution_count": 15,
   "id": "4a4f6b9b",
   "metadata": {},
   "outputs": [],
   "source": [
    "# Define a pre-processing function to use with datasets.map()\n",
    "def clean_tweet(example):\n",
    "    tweet = example['text']\n",
    "    tweet = tweet.replace(\"\\n\",\" \") #cleaning newline “\\n” from the tweets\n",
    "    tweet = html.unescape(tweet) # decode html characters\n",
    "    tweet = re.sub(\"@[A-Za-z0-9_:]+\",\"\", tweet) # remove mentions\n",
    "    tweet = re.sub(r'http\\S+', '', tweet) # remove urls\n",
    "    tweet = re.sub('RT ', '', tweet) # remove mentions\n",
    "    return {'text': tweet.strip()} #strip white spaces"
   ]
  },
  {
   "cell_type": "code",
   "execution_count": 16,
   "id": "9f46f9cf",
   "metadata": {},
   "outputs": [
    {
     "data": {
      "application/vnd.jupyter.widget-view+json": {
       "model_id": "93707ab7816247719a2bc5f7d43e8264",
       "version_major": 2,
       "version_minor": 0
      },
      "text/plain": [
       "  0%|          | 0/107 [00:00<?, ?ba/s]"
      ]
     },
     "metadata": {},
     "output_type": "display_data"
    },
    {
     "name": "stdout",
     "output_type": "stream",
     "text": [
      "CPU times: user 3.95 s, sys: 18.1 ms, total: 3.97 s\n",
      "Wall time: 3.93 s\n"
     ]
    }
   ],
   "source": [
    "# Filter rows with blank tweets for pre-processing\n",
    "%time dataset = dataset.filter(lambda x: x[\"text\"] is not None)"
   ]
  },
  {
   "cell_type": "code",
   "execution_count": 17,
   "id": "0b613dcf",
   "metadata": {},
   "outputs": [
    {
     "data": {
      "text/plain": [
       "DatasetDict({\n",
       "    train: Dataset({\n",
       "        features: ['ID', 'AuthorID', 'AuthorAlias', 'CreatedDate', 'text', 'post7geo10', 'post7geo30', 'post7geo50', 'pre7geo10', 'pre7geo30', 'pre7geo50'],\n",
       "        num_rows: 106699\n",
       "    })\n",
       "})"
      ]
     },
     "execution_count": 17,
     "metadata": {},
     "output_type": "execute_result"
    }
   ],
   "source": [
    "dataset"
   ]
  },
  {
   "cell_type": "code",
   "execution_count": 18,
   "id": "e78afa84",
   "metadata": {},
   "outputs": [
    {
     "data": {
      "application/vnd.jupyter.widget-view+json": {
       "model_id": "5a4f09b6e0b74b2e8d8d6140fd33e1b9",
       "version_major": 2,
       "version_minor": 0
      },
      "text/plain": [
       "  0%|          | 0/106699 [00:00<?, ?ex/s]"
      ]
     },
     "metadata": {},
     "output_type": "display_data"
    },
    {
     "name": "stdout",
     "output_type": "stream",
     "text": [
      "CPU times: user 15.9 s, sys: 761 ms, total: 16.7 s\n",
      "Wall time: 15.8 s\n"
     ]
    }
   ],
   "source": [
    "# Apply the text preprocessing function to the entire dataset\n",
    "%time dataset_clean = dataset.map(clean_tweet)"
   ]
  },
  {
   "cell_type": "code",
   "execution_count": 19,
   "id": "19913a22",
   "metadata": {},
   "outputs": [
    {
     "data": {
      "application/vnd.jupyter.widget-view+json": {
       "model_id": "e9b16f1985f5482cbed49027b4431bcd",
       "version_major": 2,
       "version_minor": 0
      },
      "text/plain": [
       "  0%|          | 0/107 [00:00<?, ?ba/s]"
      ]
     },
     "metadata": {},
     "output_type": "display_data"
    },
    {
     "name": "stdout",
     "output_type": "stream",
     "text": [
      "CPU times: user 1.67 s, sys: 13.3 ms, total: 1.69 s\n",
      "Wall time: 1.67 s\n"
     ]
    }
   ],
   "source": [
    "#  Filter rows with blank text for post-processing\n",
    "%time dataset_clean = dataset_clean.filter(lambda x: x[\"text\"] is not None)"
   ]
  },
  {
   "cell_type": "code",
   "execution_count": 20,
   "id": "8ce3103f",
   "metadata": {},
   "outputs": [
    {
     "data": {
      "text/plain": [
       "DatasetDict({\n",
       "    train: Dataset({\n",
       "        features: ['ID', 'AuthorID', 'AuthorAlias', 'CreatedDate', 'text', 'post7geo10', 'post7geo30', 'post7geo50', 'pre7geo10', 'pre7geo30', 'pre7geo50'],\n",
       "        num_rows: 106699\n",
       "    })\n",
       "})"
      ]
     },
     "execution_count": 20,
     "metadata": {},
     "output_type": "execute_result"
    }
   ],
   "source": [
    "dataset_clean"
   ]
  },
  {
   "cell_type": "code",
   "execution_count": 21,
   "id": "73975067",
   "metadata": {},
   "outputs": [],
   "source": [
    "# Remove unncesary columns\n",
    "keep_cols = ['text', 'pre7geo10', 'pre7geo30', 'pre7geo50', 'post7geo10', \n",
    "             'post7geo30', 'post7geo50']\n",
    "remove_columns = [col for col in dataset_clean['train'].column_names if col not in keep_cols]"
   ]
  },
  {
   "cell_type": "code",
   "execution_count": 22,
   "id": "d1010bc7",
   "metadata": {},
   "outputs": [],
   "source": [
    "dataset_clean = dataset_clean.remove_columns(remove_columns)"
   ]
  },
  {
   "cell_type": "code",
   "execution_count": 23,
   "id": "2a3501c7",
   "metadata": {},
   "outputs": [
    {
     "data": {
      "text/plain": [
       "{'text': Value(dtype='string', id=None),\n",
       " 'post7geo10': Value(dtype='float32', id=None),\n",
       " 'post7geo30': Value(dtype='float32', id=None),\n",
       " 'post7geo50': Value(dtype='float32', id=None),\n",
       " 'pre7geo10': Value(dtype='float32', id=None),\n",
       " 'pre7geo30': Value(dtype='float32', id=None),\n",
       " 'pre7geo50': Value(dtype='float32', id=None)}"
      ]
     },
     "execution_count": 23,
     "metadata": {},
     "output_type": "execute_result"
    }
   ],
   "source": [
    "dataset_clean[\"train\"].features"
   ]
  },
  {
   "cell_type": "code",
   "execution_count": 24,
   "id": "7323d304",
   "metadata": {},
   "outputs": [
    {
     "data": {
      "application/vnd.jupyter.widget-view+json": {
       "model_id": "c3dc7f492ff648fabcb4d89716722d6c",
       "version_major": 2,
       "version_minor": 0
      },
      "text/plain": [
       "  0%|          | 0/106699 [00:00<?, ?ex/s]"
      ]
     },
     "metadata": {},
     "output_type": "display_data"
    },
    {
     "data": {
      "text/plain": [
       "DatasetDict({\n",
       "    train: Dataset({\n",
       "        features: ['text', 'post7geo10', 'post7geo30', 'post7geo50', 'pre7geo10', 'pre7geo30', 'pre7geo50', 'labels'],\n",
       "        num_rows: 106699\n",
       "    })\n",
       "})"
      ]
     },
     "execution_count": 24,
     "metadata": {},
     "output_type": "execute_result"
    }
   ],
   "source": [
    "# create 'labels' columm\n",
    "cols = dataset_clean['train'].column_names\n",
    "dataset_clean = dataset_clean.map(lambda x : {\"labels\": [x[c] for c in cols if c != \"text\"]})\n",
    "dataset_clean"
   ]
  },
  {
   "cell_type": "code",
   "execution_count": 25,
   "id": "50e5c268",
   "metadata": {},
   "outputs": [
    {
     "data": {
      "text/plain": [
       "DatasetDict({\n",
       "    train: Dataset({\n",
       "        features: ['text', 'labels'],\n",
       "        num_rows: 106699\n",
       "    })\n",
       "})"
      ]
     },
     "execution_count": 25,
     "metadata": {},
     "output_type": "execute_result"
    }
   ],
   "source": [
    "# Keep the dataset only with columns 'text' and 'labels'\n",
    "col_names = dataset_clean[\"train\"].column_names\n",
    "col_names.remove(\"labels\")\n",
    "col_names.remove('text')\n",
    "ds_clean = dataset_clean.remove_columns(col_names)\n",
    "ds_clean"
   ]
  },
  {
   "cell_type": "markdown",
   "id": "b9475a88",
   "metadata": {},
   "source": [
    "# Inference"
   ]
  },
  {
   "cell_type": "markdown",
   "id": "d430d1ab",
   "metadata": {},
   "source": [
    "### Instantiate the required pipeline"
   ]
  },
  {
   "cell_type": "code",
   "execution_count": 27,
   "id": "fef35064",
   "metadata": {},
   "outputs": [
    {
     "data": {
      "application/vnd.jupyter.widget-view+json": {
       "model_id": "6c93a179feff44758f4790de29015754",
       "version_major": 2,
       "version_minor": 0
      },
      "text/plain": [
       "Downloading:   0%|          | 0.00/1.34k [00:00<?, ?B/s]"
      ]
     },
     "metadata": {},
     "output_type": "display_data"
    }
   ],
   "source": [
    "violence_pipe = pipeline(model=args.model_ckpt, \n",
    "                         device=args.cuda_device,\n",
    "                         return_all_scores=True)"
   ]
  },
  {
   "cell_type": "markdown",
   "id": "194374b9",
   "metadata": {},
   "source": [
    "### Select specific cases of interest"
   ]
  },
  {
   "cell_type": "code",
   "execution_count": 145,
   "id": "233a657f",
   "metadata": {},
   "outputs": [],
   "source": [
    "# Define the label mapping\n",
    "id2label: {\n",
    "    \"0\": \"post7geo10\",\n",
    "    \"1\": \"post7geo30\",\n",
    "    \"2\": \"post7geo50\",\n",
    "    \"3\": \"pre7geo10\",\n",
    "    \"4\": \"pre7geo30\",\n",
    "    \"5\": \"pre7geo50\"\n",
    "}\n",
    "\n",
    "# Define the filtering function to match the required conditions\n",
    "def filter_condition(example):\n",
    "    return (example['labels'][0] == 0 and # post7geo10\n",
    "            example['labels'][1] == 0 and # post7geo30\n",
    "            example['labels'][2] == 1 and # post7geo50\n",
    "            example['labels'][3] == 0 and # pre7geo10\n",
    "            example['labels'][4] == 0 and # pre7geo30\n",
    "            example['labels'][5] == 0 # pre7geo50\n",
    "    )"
   ]
  },
  {
   "cell_type": "code",
   "execution_count": 146,
   "id": "7e6220f5",
   "metadata": {},
   "outputs": [
    {
     "data": {
      "application/vnd.jupyter.widget-view+json": {
       "model_id": "9af318b69d3c4c93b277639cf7283ff4",
       "version_major": 2,
       "version_minor": 0
      },
      "text/plain": [
       "  0%|          | 0/107 [00:00<?, ?ba/s]"
      ]
     },
     "metadata": {},
     "output_type": "display_data"
    }
   ],
   "source": [
    "filtered_ds = ds_clean['train'].filter(filter_condition)"
   ]
  },
  {
   "cell_type": "code",
   "execution_count": 147,
   "id": "f5acfcb9",
   "metadata": {},
   "outputs": [
    {
     "data": {
      "text/plain": [
       "Dataset({\n",
       "    features: ['text', 'labels'],\n",
       "    num_rows: 6468\n",
       "})"
      ]
     },
     "execution_count": 147,
     "metadata": {},
     "output_type": "execute_result"
    }
   ],
   "source": [
    "filtered_ds"
   ]
  },
  {
   "cell_type": "code",
   "execution_count": null,
   "id": "308a68c2",
   "metadata": {},
   "outputs": [],
   "source": [
    "filtered_ds[0]['labels']"
   ]
  },
  {
   "cell_type": "markdown",
   "id": "f2d4cd57",
   "metadata": {},
   "source": [
    "### Perform inference"
   ]
  },
  {
   "cell_type": "code",
   "execution_count": 148,
   "id": "05423edc",
   "metadata": {},
   "outputs": [
    {
     "name": "stderr",
     "output_type": "stream",
     "text": [
      "/home/mmendieta/transformers/lib/python3.8/site-packages/transformers/pipelines/base.py:996: UserWarning: You seem to be using the pipelines sequentially on GPU. In order to maximize efficiency please use a dataset\n",
      "  warnings.warn(\n"
     ]
    },
    {
     "data": {
      "application/vnd.jupyter.widget-view+json": {
       "model_id": "41d724ae4bf648c4854c57abc60091cd",
       "version_major": 2,
       "version_minor": 0
      },
      "text/plain": [
       "  0%|          | 0/6468 [00:00<?, ?it/s]"
      ]
     },
     "metadata": {},
     "output_type": "display_data"
    }
   ],
   "source": [
    "# Calculate the predictions\n",
    "preds = []\n",
    "for i, outputs in enumerate(tqdm(violence_pipe(KeyDataset(filtered_ds, \"text\"), batch_size=args.batch_size,\n",
    "                                              truncation=True),\n",
    "                                 total=len(filtered_ds))):\n",
    "    text = filtered_ds[i]['text']\n",
    "    labels = filtered_ds[i]['labels']\n",
    "    preds.append({\n",
    "        'text': text,\n",
    "        'labels': labels,\n",
    "        'outputs': outputs\n",
    "    })"
   ]
  },
  {
   "cell_type": "code",
   "execution_count": 149,
   "id": "71bd9b83",
   "metadata": {},
   "outputs": [],
   "source": [
    "# Iterate over the predictions to visualize the text, true labels, and predictions\n",
    "processed_data = []\n",
    "for pred in preds:\n",
    "    row = {\n",
    "        'text': pred['text'],\n",
    "        'true_labels': pred['labels'],\n",
    "    }\n",
    "    # Add each of the six pedicted scores as separate columns\n",
    "    row['post7geo10'] = pred['outputs'][0]['score']\n",
    "    row['post7geo30'] = pred['outputs'][1]['score']\n",
    "    row['post7geo50'] = pred['outputs'][2]['score']\n",
    "    row['pre7geo10'] = pred['outputs'][3]['score']\n",
    "    row['pre7geo30'] = pred['outputs'][4]['score']\n",
    "    row['pre7geo50'] = pred['outputs'][5]['score']\n",
    "    \n",
    "    processed_data.append(row)\n",
    "    \n",
    "# Convert to DataFrame\n",
    "df = pd.DataFrame(processed_data)"
   ]
  },
  {
   "cell_type": "code",
   "execution_count": 150,
   "id": "45dfacfb",
   "metadata": {},
   "outputs": [
    {
     "data": {
      "text/html": [
       "<div>\n",
       "<style scoped>\n",
       "    .dataframe tbody tr th:only-of-type {\n",
       "        vertical-align: middle;\n",
       "    }\n",
       "\n",
       "    .dataframe tbody tr th {\n",
       "        vertical-align: top;\n",
       "    }\n",
       "\n",
       "    .dataframe thead th {\n",
       "        text-align: right;\n",
       "    }\n",
       "</style>\n",
       "<table border=\"1\" class=\"dataframe\">\n",
       "  <thead>\n",
       "    <tr style=\"text-align: right;\">\n",
       "      <th></th>\n",
       "      <th>text</th>\n",
       "      <th>true_labels</th>\n",
       "      <th>post7geo10</th>\n",
       "      <th>post7geo30</th>\n",
       "      <th>post7geo50</th>\n",
       "      <th>pre7geo10</th>\n",
       "      <th>pre7geo30</th>\n",
       "      <th>pre7geo50</th>\n",
       "    </tr>\n",
       "  </thead>\n",
       "  <tbody>\n",
       "    <tr>\n",
       "      <th>0</th>\n",
       "      <td>What would you do 🥱</td>\n",
       "      <td>[0.0, 0.0, 1.0, 0.0, 0.0, 0.0]</td>\n",
       "      <td>0.275789</td>\n",
       "      <td>0.375137</td>\n",
       "      <td>0.489425</td>\n",
       "      <td>0.274000</td>\n",
       "      <td>0.360397</td>\n",
       "      <td>0.466075</td>\n",
       "    </tr>\n",
       "    <tr>\n",
       "      <th>1</th>\n",
       "      <td>They were LET IN! just like we said  #CapitolB...</td>\n",
       "      <td>[0.0, 0.0, 1.0, 0.0, 0.0, 0.0]</td>\n",
       "      <td>0.763389</td>\n",
       "      <td>0.810380</td>\n",
       "      <td>0.863128</td>\n",
       "      <td>0.294917</td>\n",
       "      <td>0.328344</td>\n",
       "      <td>0.369649</td>\n",
       "    </tr>\n",
       "    <tr>\n",
       "      <th>2</th>\n",
       "      <td>You are correct Sir! 👀🇺🇸‼️</td>\n",
       "      <td>[0.0, 0.0, 1.0, 0.0, 0.0, 0.0]</td>\n",
       "      <td>0.295641</td>\n",
       "      <td>0.355861</td>\n",
       "      <td>0.465822</td>\n",
       "      <td>0.275853</td>\n",
       "      <td>0.341913</td>\n",
       "      <td>0.439394</td>\n",
       "    </tr>\n",
       "  </tbody>\n",
       "</table>\n",
       "</div>"
      ],
      "text/plain": [
       "                                                text  \\\n",
       "0                                What would you do 🥱   \n",
       "1  They were LET IN! just like we said  #CapitolB...   \n",
       "2                         You are correct Sir! 👀🇺🇸‼️   \n",
       "\n",
       "                      true_labels  post7geo10  post7geo30  post7geo50  \\\n",
       "0  [0.0, 0.0, 1.0, 0.0, 0.0, 0.0]    0.275789    0.375137    0.489425   \n",
       "1  [0.0, 0.0, 1.0, 0.0, 0.0, 0.0]    0.763389    0.810380    0.863128   \n",
       "2  [0.0, 0.0, 1.0, 0.0, 0.0, 0.0]    0.295641    0.355861    0.465822   \n",
       "\n",
       "   pre7geo10  pre7geo30  pre7geo50  \n",
       "0   0.274000   0.360397   0.466075  \n",
       "1   0.294917   0.328344   0.369649  \n",
       "2   0.275853   0.341913   0.439394  "
      ]
     },
     "execution_count": 150,
     "metadata": {},
     "output_type": "execute_result"
    }
   ],
   "source": [
    "df.head(3)"
   ]
  },
  {
   "cell_type": "code",
   "execution_count": 151,
   "id": "ad3b02fe",
   "metadata": {},
   "outputs": [
    {
     "name": "stderr",
     "output_type": "stream",
     "text": [
      "/tmp/ipykernel_23526/3262774732.py:1: FutureWarning: The default value of numeric_only in DataFrame.mean is deprecated. In a future version, it will default to False. In addition, specifying 'numeric_only=None' is deprecated. Select only valid columns or specify the value of numeric_only to silence this warning.\n",
      "  mean_preds = df.mean().to_frame(name='mean').T\n"
     ]
    },
    {
     "data": {
      "text/html": [
       "<div>\n",
       "<style scoped>\n",
       "    .dataframe tbody tr th:only-of-type {\n",
       "        vertical-align: middle;\n",
       "    }\n",
       "\n",
       "    .dataframe tbody tr th {\n",
       "        vertical-align: top;\n",
       "    }\n",
       "\n",
       "    .dataframe thead th {\n",
       "        text-align: right;\n",
       "    }\n",
       "</style>\n",
       "<table border=\"1\" class=\"dataframe\">\n",
       "  <thead>\n",
       "    <tr style=\"text-align: right;\">\n",
       "      <th></th>\n",
       "      <th>post7geo10</th>\n",
       "      <th>post7geo30</th>\n",
       "      <th>post7geo50</th>\n",
       "      <th>pre7geo10</th>\n",
       "      <th>pre7geo30</th>\n",
       "      <th>pre7geo50</th>\n",
       "    </tr>\n",
       "  </thead>\n",
       "  <tbody>\n",
       "    <tr>\n",
       "      <th>mean</th>\n",
       "      <td>0.310626</td>\n",
       "      <td>0.397994</td>\n",
       "      <td>0.546078</td>\n",
       "      <td>0.303492</td>\n",
       "      <td>0.384985</td>\n",
       "      <td>0.52347</td>\n",
       "    </tr>\n",
       "  </tbody>\n",
       "</table>\n",
       "</div>"
      ],
      "text/plain": [
       "      post7geo10  post7geo30  post7geo50  pre7geo10  pre7geo30  pre7geo50\n",
       "mean    0.310626    0.397994    0.546078   0.303492   0.384985    0.52347"
      ]
     },
     "execution_count": 151,
     "metadata": {},
     "output_type": "execute_result"
    }
   ],
   "source": [
    "mean_preds = df.mean().to_frame(name='mean').T\n",
    "mean_preds "
   ]
  },
  {
   "cell_type": "code",
   "execution_count": 101,
   "id": "416c12c4",
   "metadata": {},
   "outputs": [
    {
     "data": {
      "text/html": [
       "<div>\n",
       "<style scoped>\n",
       "    .dataframe tbody tr th:only-of-type {\n",
       "        vertical-align: middle;\n",
       "    }\n",
       "\n",
       "    .dataframe tbody tr th {\n",
       "        vertical-align: top;\n",
       "    }\n",
       "\n",
       "    .dataframe thead th {\n",
       "        text-align: right;\n",
       "    }\n",
       "</style>\n",
       "<table border=\"1\" class=\"dataframe\">\n",
       "  <thead>\n",
       "    <tr style=\"text-align: right;\">\n",
       "      <th></th>\n",
       "      <th>post7geo10</th>\n",
       "      <th>post7geo30</th>\n",
       "      <th>post7geo50</th>\n",
       "      <th>pre7geo10</th>\n",
       "      <th>pre7geo30</th>\n",
       "      <th>pre7geo50</th>\n",
       "    </tr>\n",
       "  </thead>\n",
       "  <tbody>\n",
       "    <tr>\n",
       "      <th>mean</th>\n",
       "      <td>0</td>\n",
       "      <td>0</td>\n",
       "      <td>1</td>\n",
       "      <td>0</td>\n",
       "      <td>0</td>\n",
       "      <td>1</td>\n",
       "    </tr>\n",
       "  </tbody>\n",
       "</table>\n",
       "</div>"
      ],
      "text/plain": [
       "      post7geo10  post7geo30  post7geo50  pre7geo10  pre7geo30  pre7geo50\n",
       "mean           0           0           1          0          0          1"
      ]
     },
     "execution_count": 101,
     "metadata": {},
     "output_type": "execute_result"
    }
   ],
   "source": [
    "mean_preds_th = (mean_preds >= 0.5).astype(int)\n",
    "mean_preds_th"
   ]
  },
  {
   "cell_type": "markdown",
   "id": "7c610ef0-515b-40fa-863c-903881cd52a6",
   "metadata": {},
   "source": [
    "### ROC and AUC score"
   ]
  },
  {
   "cell_type": "code",
   "execution_count": null,
   "id": "c7b6cf72-faa9-4859-97ef-bdde7edeb23f",
   "metadata": {},
   "outputs": [],
   "source": [
    "# Step 1: Calculate the ROC-AUC score\n",
    "# Extract the ground truth labels and predicted probabilities for each label\n",
    "true_labels = np.array([item['labels'] for item in preds])\n",
    "predicted_scores = np.array([item['outputs'] for item in preds])"
   ]
  },
  {
   "cell_type": "code",
   "execution_count": null,
   "id": "fed369a0-8718-4c82-ad99-9f7856b0645c",
   "metadata": {},
   "outputs": [],
   "source": [
    "# Initialize the Evaluate API for ROC-AUC\n",
    "roc_auc = evaluate.load(\"roc_auc\")"
   ]
  },
  {
   "cell_type": "code",
   "execution_count": null,
   "id": "15885dee-416c-4451-8cc1-6d0101976683",
   "metadata": {},
   "outputs": [],
   "source": [
    "# Calculate ROC-AUC scores for each label\n",
    "roc_auc_scores = {}\n",
    "for i, label_name in enumerate([\"post7geo10\", \"post7geo30\", \"post7geo50\", \"pre7geo10\", \"pre7geo30\", \"pre7geo50\"]):\n",
    "    roc_auc_scores[label_name] = roc_auc.compute(predictions=predicted_scores[:, i], references=true_labels[:, i])['roc_auc']"
   ]
  },
  {
   "cell_type": "code",
   "execution_count": null,
   "id": "05263be4-6c03-4424-9a65-9e78af3d0b29",
   "metadata": {},
   "outputs": [],
   "source": [
    "# Display ROC-AUC scores\n",
    "for label, score in roc_auc_scores.items():\n",
    "    print(f\"ROC-AUC score for {label}: {score}\")"
   ]
  },
  {
   "cell_type": "code",
   "execution_count": null,
   "id": "4cb5f6b8-df40-422c-ae21-2175aeb9f1cb",
   "metadata": {},
   "outputs": [],
   "source": [
    "# Step 2: Plot the ROC curve for each label\n",
    "plt.figure(figsize=(10, 8))\n",
    "\n",
    "for i, label_name in enumerate([\"post7geo10\", \"post7geo30\", \"post7geo50\", \"pre7geo10\", \"pre7geo30\", \"pre7geo50\"]):\n",
    "    # Calculate false positive rate and true positive rate\n",
    "    fpr, tpr, _ = roc_curve(true_labels[:, i], predicted_scores[:, i])\n",
    "    \n",
    "    # Plot the ROC curve\n",
    "    plt.plot(fpr, tpr, label=f\"{label_name} (AUC = {roc_auc_scores[label_name]:.2f})\")"
   ]
  },
  {
   "cell_type": "code",
   "execution_count": null,
   "id": "c575d9ee-8b35-40b3-b01c-200ae606ec16",
   "metadata": {},
   "outputs": [],
   "source": [
    "# Plot configuration\n",
    "plt.plot([0, 1], [0, 1], 'k--')  # Diagonal line for random chance\n",
    "plt.xlim([0.0, 1.0])\n",
    "plt.ylim([0.0, 1.05])\n",
    "plt.xlabel('False Positive Rate')\n",
    "plt.ylabel('True Positive Rate')\n",
    "plt.title('ROC Curve for the Capitol Hill case study')\n",
    "plt.legend(loc=\"lower right\")\n",
    "plt.grid()\n",
    "plt.show()"
   ]
  },
  {
   "cell_type": "code",
   "execution_count": null,
   "id": "4f93aadf-9480-4aa4-9771-7254d92ef28e",
   "metadata": {},
   "outputs": [],
   "source": [
    "# Save to disk\n",
    "fig.savefig(\"/data3/mmendieta/Violence_data/case_studies/figs/ROC_Capitol_Hill.eps\", format=\"eps\", dpi=300,  bbox_inches=\"tight\")"
   ]
  }
 ],
 "metadata": {
  "kernelspec": {
   "display_name": "Python 3 (ipykernel)",
   "language": "python",
   "name": "python3"
  },
  "language_info": {
   "codemirror_mode": {
    "name": "ipython",
    "version": 3
   },
   "file_extension": ".py",
   "mimetype": "text/x-python",
   "name": "python",
   "nbconvert_exporter": "python",
   "pygments_lexer": "ipython3",
   "version": "3.12.7"
  }
 },
 "nbformat": 4,
 "nbformat_minor": 5
}
