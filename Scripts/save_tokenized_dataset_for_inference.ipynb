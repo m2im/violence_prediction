{
 "cells": [
  {
   "cell_type": "code",
   "execution_count": 1,
   "id": "b546d904",
   "metadata": {},
   "outputs": [],
   "source": [
    "import torch\n",
    "import transformers\n",
    "import pandas as pd\n",
    "import numpy as np\n",
    "from argparse import Namespace\n",
    "from tqdm.auto import tqdm\n",
    "from datasets import load_from_disk\n",
    "from transformers import AutoTokenizer"
   ]
  },
  {
   "cell_type": "code",
   "execution_count": 2,
   "id": "af33f6e2",
   "metadata": {},
   "outputs": [],
   "source": [
    "ds = load_from_disk(\"/data3/mmendieta/Violence_data/geo_corpus.0.0.1_dataset_for_inference\")"
   ]
  },
  {
   "cell_type": "code",
   "execution_count": 3,
   "id": "22d35a08",
   "metadata": {},
   "outputs": [
    {
     "data": {
      "text/plain": [
       "Dataset({\n",
       "    features: ['tweetid', 'geo_x', 'geo_y', 'lang', 'text', 'labels'],\n",
       "    num_rows: 2329158\n",
       "})"
      ]
     },
     "execution_count": 3,
     "metadata": {},
     "output_type": "execute_result"
    }
   ],
   "source": [
    "ds"
   ]
  },
  {
   "cell_type": "code",
   "execution_count": 4,
   "id": "40cc7ef9",
   "metadata": {},
   "outputs": [
    {
     "data": {
      "text/plain": [
       "{'tweetid': '388328898662268928',\n",
       " 'geo_x': 35.49442,\n",
       " 'geo_y': 33.888940000000005,\n",
       " 'lang': 'en',\n",
       " 'text': 'talking abt my case ☺️',\n",
       " 'labels': [0.0, 0.0, 0.0, 0.0, 0.0, 0.0]}"
      ]
     },
     "execution_count": 4,
     "metadata": {},
     "output_type": "execute_result"
    }
   ],
   "source": [
    "ds[0]"
   ]
  },
  {
   "cell_type": "code",
   "execution_count": 21,
   "id": "5d3324d9",
   "metadata": {},
   "outputs": [],
   "source": [
    "# Possible values\n",
    "# Smaller-LABSE: setu4993/smaller-LaBSE\n",
    "# LABSE: setu4993/LaBSE\n",
    "# XLMT: cardiffnlp/twitter-xlm-roberta-base-sentiment\n",
    "config = {\n",
    "    \"model_ckpt\": \"cardiffnlp/twitter-xlm-roberta-base-sentiment\",\n",
    "    \"batch_size\": 1024,\n",
    "    \"num_labels\" : 6,\n",
    "    \"max_length\": 32,\n",
    "    \"seed\": 42,\n",
    "    \"fout\": \"/data3/mmendieta/Violence_data/geo_corpus.0.0.1_tok_ds_xlmt_inference\"\n",
    "}\n",
    "\n",
    "args = Namespace(**config)"
   ]
  },
  {
   "cell_type": "code",
   "execution_count": 22,
   "id": "8eaee39a",
   "metadata": {},
   "outputs": [
    {
     "data": {
      "application/vnd.jupyter.widget-view+json": {
       "model_id": "5707510e8b5648d6b2fae7becacd2f52",
       "version_major": 2,
       "version_minor": 0
      },
      "text/plain": [
       "Downloading:   0%|          | 0.00/841 [00:00<?, ?B/s]"
      ]
     },
     "metadata": {},
     "output_type": "display_data"
    }
   ],
   "source": [
    "# Instantiate the tokenizer\n",
    "model_ckpt = args.model_ckpt\n",
    "tokenizer = AutoTokenizer.from_pretrained(model_ckpt, \n",
    "                                              model_max_length=args.max_length)"
   ]
  },
  {
   "cell_type": "code",
   "execution_count": 15,
   "id": "1b0c04df",
   "metadata": {},
   "outputs": [],
   "source": [
    "def tokenize(batch):\n",
    "    return tokenizer(batch[\"text\"], truncation=True)"
   ]
  },
  {
   "cell_type": "code",
   "execution_count": 23,
   "id": "02681882",
   "metadata": {},
   "outputs": [
    {
     "data": {
      "application/vnd.jupyter.widget-view+json": {
       "model_id": "08ba0f61cbea4c2ea0b05e8841dea2c0",
       "version_major": 2,
       "version_minor": 0
      },
      "text/plain": [
       "  0%|          | 0/2330 [00:00<?, ?ba/s]"
      ]
     },
     "metadata": {},
     "output_type": "display_data"
    },
    {
     "name": "stdout",
     "output_type": "stream",
     "text": [
      "CPU times: user 24min 5s, sys: 17.6 s, total: 24min 22s\n",
      "Wall time: 1min 32s\n"
     ]
    }
   ],
   "source": [
    "%time tokenized_ds = ds.map(tokenize, batched=True)"
   ]
  },
  {
   "cell_type": "code",
   "execution_count": null,
   "id": "35fad31b",
   "metadata": {},
   "outputs": [],
   "source": [
    "# tokenized_ds = tokenized_ds.remove_columns('text')"
   ]
  },
  {
   "cell_type": "code",
   "execution_count": 24,
   "id": "69c0565c",
   "metadata": {},
   "outputs": [],
   "source": [
    "tokenized_ds.set_format('torch')"
   ]
  },
  {
   "cell_type": "code",
   "execution_count": 25,
   "id": "df48df30",
   "metadata": {},
   "outputs": [
    {
     "data": {
      "text/plain": [
       "Dataset({\n",
       "    features: ['tweetid', 'geo_x', 'geo_y', 'lang', 'text', 'labels', 'input_ids', 'attention_mask'],\n",
       "    num_rows: 2329158\n",
       "})"
      ]
     },
     "execution_count": 25,
     "metadata": {},
     "output_type": "execute_result"
    }
   ],
   "source": [
    "tokenized_ds"
   ]
  },
  {
   "cell_type": "code",
   "execution_count": 26,
   "id": "6b37960f",
   "metadata": {},
   "outputs": [
    {
     "data": {
      "text/plain": [
       "{'tweetid': Value(dtype='string', id=None),\n",
       " 'geo_x': Value(dtype='float64', id=None),\n",
       " 'geo_y': Value(dtype='float64', id=None),\n",
       " 'lang': Value(dtype='string', id=None),\n",
       " 'text': Value(dtype='string', id=None),\n",
       " 'labels': Sequence(feature=Value(dtype='float64', id=None), length=-1, id=None),\n",
       " 'input_ids': Sequence(feature=Value(dtype='int32', id=None), length=-1, id=None),\n",
       " 'attention_mask': Sequence(feature=Value(dtype='int8', id=None), length=-1, id=None)}"
      ]
     },
     "execution_count": 26,
     "metadata": {},
     "output_type": "execute_result"
    }
   ],
   "source": [
    "tokenized_ds.features"
   ]
  },
  {
   "cell_type": "code",
   "execution_count": 27,
   "id": "2713646c",
   "metadata": {},
   "outputs": [],
   "source": [
    "tokenized_ds.save_to_disk(args.fout)"
   ]
  },
  {
   "cell_type": "code",
   "execution_count": null,
   "id": "2abd7469",
   "metadata": {},
   "outputs": [],
   "source": []
  }
 ],
 "metadata": {
  "kernelspec": {
   "display_name": "Python 3 (ipykernel)",
   "language": "python",
   "name": "python3"
  },
  "language_info": {
   "codemirror_mode": {
    "name": "ipython",
    "version": 3
   },
   "file_extension": ".py",
   "mimetype": "text/x-python",
   "name": "python",
   "nbconvert_exporter": "python",
   "pygments_lexer": "ipython3",
   "version": "3.8.3"
  }
 },
 "nbformat": 4,
 "nbformat_minor": 5
}
