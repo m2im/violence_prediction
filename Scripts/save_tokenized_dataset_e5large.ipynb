{
 "cells": [
  {
   "cell_type": "code",
   "execution_count": 1,
   "id": "b546d904",
   "metadata": {},
   "outputs": [],
   "source": [
    "import torch\n",
    "import transformers\n",
    "import pandas as pd\n",
    "import numpy as np\n",
    "from argparse import Namespace\n",
    "from tqdm.auto import tqdm\n",
    "from datasets import load_from_disk\n",
    "from transformers import AutoTokenizer"
   ]
  },
  {
   "cell_type": "code",
   "execution_count": 2,
   "id": "af33f6e2",
   "metadata": {},
   "outputs": [],
   "source": [
    "ds = load_from_disk(\"/data3/mmendieta/Violence_data/geo_corpus.0.0.1_dataset_for_train_all_labels\")"
   ]
  },
  {
   "cell_type": "code",
   "execution_count": null,
   "id": "40cc7ef9",
   "metadata": {},
   "outputs": [],
   "source": [
    "ds['train'][0]"
   ]
  },
  {
   "cell_type": "code",
   "execution_count": 3,
   "id": "5d3324d9",
   "metadata": {},
   "outputs": [],
   "source": [
    "config = {\n",
    "    \"model_ckpt\": \"/data3/mmendieta/models/ml_e5_large\",\n",
    "    \"batch_size\": 1024,\n",
    "    \"num_labels\" : 40,\n",
    "    \"max_length\": 32,\n",
    "    \"seed\": 42,\n",
    "    \"fout\": \"/data4/mmendieta/data/geo_corpus.0.0.1_tok_ds_e5large_all_labels\"\n",
    "}\n",
    "\n",
    "args = Namespace(**config)"
   ]
  },
  {
   "cell_type": "code",
   "execution_count": 4,
   "id": "8eaee39a",
   "metadata": {},
   "outputs": [],
   "source": [
    "# Instantiate the tokenizer\n",
    "model_ckpt = args.model_ckpt\n",
    "tokenizer = AutoTokenizer.from_pretrained(model_ckpt, \n",
    "                                          model_max_length=args.max_length,\n",
    "                                          padding_side=\"right\",\n",
    "                                          local_files_only=False,\n",
    "                                          use_fast=True)"
   ]
  },
  {
   "cell_type": "code",
   "execution_count": 5,
   "id": "1b0c04df",
   "metadata": {},
   "outputs": [],
   "source": [
    "def tokenize(batch):\n",
    "    return tokenizer(\n",
    "        batch[\"text\"], \n",
    "        truncation=True,\n",
    "        padding=\"max_length\"\n",
    "    )"
   ]
  },
  {
   "cell_type": "code",
   "execution_count": 6,
   "id": "02681882",
   "metadata": {},
   "outputs": [
    {
     "data": {
      "application/vnd.jupyter.widget-view+json": {
       "model_id": "561071a2915b4d39ba997c6a19a5585b",
       "version_major": 2,
       "version_minor": 0
      },
      "text/plain": [
       "  0%|          | 0/16377 [00:00<?, ?ba/s]"
      ]
     },
     "metadata": {},
     "output_type": "display_data"
    },
    {
     "data": {
      "application/vnd.jupyter.widget-view+json": {
       "model_id": "1ce91d2c17914af4ab93f62acff6e76f",
       "version_major": 2,
       "version_minor": 0
      },
      "text/plain": [
       "  0%|          | 0/4095 [00:00<?, ?ba/s]"
      ]
     },
     "metadata": {},
     "output_type": "display_data"
    },
    {
     "data": {
      "application/vnd.jupyter.widget-view+json": {
       "model_id": "a0b0ed2860774501a6301d7fd213a790",
       "version_major": 2,
       "version_minor": 0
      },
      "text/plain": [
       "  0%|          | 0/2275 [00:00<?, ?ba/s]"
      ]
     },
     "metadata": {},
     "output_type": "display_data"
    },
    {
     "name": "stdout",
     "output_type": "stream",
     "text": [
      "CPU times: user 2h 57min 21s, sys: 8min 39s, total: 3h 6min 1s\n",
      "Wall time: 25min 10s\n"
     ]
    }
   ],
   "source": [
    "%time tokenized_ds = ds.map(tokenize, batched=True, batch_size=args.batch_size, keep_in_memory=True)"
   ]
  },
  {
   "cell_type": "code",
   "execution_count": 7,
   "id": "35fad31b",
   "metadata": {},
   "outputs": [],
   "source": [
    "tokenized_ds = tokenized_ds.remove_columns('text')"
   ]
  },
  {
   "cell_type": "code",
   "execution_count": 8,
   "id": "69c0565c",
   "metadata": {},
   "outputs": [],
   "source": [
    "tokenized_ds.set_format('torch')"
   ]
  },
  {
   "cell_type": "code",
   "execution_count": 9,
   "id": "df48df30",
   "metadata": {},
   "outputs": [
    {
     "data": {
      "text/plain": [
       "DatasetDict({\n",
       "    train: Dataset({\n",
       "        features: ['labels', 'input_ids', 'attention_mask'],\n",
       "        num_rows: 16769932\n",
       "    })\n",
       "    validation: Dataset({\n",
       "        features: ['labels', 'input_ids', 'attention_mask'],\n",
       "        num_rows: 4192483\n",
       "    })\n",
       "    test: Dataset({\n",
       "        features: ['labels', 'input_ids', 'attention_mask'],\n",
       "        num_rows: 2329158\n",
       "    })\n",
       "})"
      ]
     },
     "execution_count": 9,
     "metadata": {},
     "output_type": "execute_result"
    }
   ],
   "source": [
    "tokenized_ds"
   ]
  },
  {
   "cell_type": "code",
   "execution_count": 10,
   "id": "6b37960f",
   "metadata": {},
   "outputs": [
    {
     "data": {
      "text/plain": [
       "{'labels': Sequence(feature=Value(dtype='float64', id=None), length=-1, id=None),\n",
       " 'input_ids': Sequence(feature=Value(dtype='int32', id=None), length=-1, id=None),\n",
       " 'attention_mask': Sequence(feature=Value(dtype='int8', id=None), length=-1, id=None)}"
      ]
     },
     "execution_count": 10,
     "metadata": {},
     "output_type": "execute_result"
    }
   ],
   "source": [
    "tokenized_ds[\"train\"].features"
   ]
  },
  {
   "cell_type": "code",
   "execution_count": 11,
   "id": "2713646c",
   "metadata": {},
   "outputs": [],
   "source": [
    "tokenized_ds.save_to_disk(args.fout)"
   ]
  },
  {
   "cell_type": "code",
   "execution_count": null,
   "id": "2abd7469",
   "metadata": {},
   "outputs": [],
   "source": []
  }
 ],
 "metadata": {
  "kernelspec": {
   "display_name": "Python 3 (ipykernel)",
   "language": "python",
   "name": "python3"
  },
  "language_info": {
   "codemirror_mode": {
    "name": "ipython",
    "version": 3
   },
   "file_extension": ".py",
   "mimetype": "text/x-python",
   "name": "python",
   "nbconvert_exporter": "python",
   "pygments_lexer": "ipython3",
   "version": "3.8.3"
  }
 },
 "nbformat": 4,
 "nbformat_minor": 5
}
